{
 "cells": [
  {
   "cell_type": "code",
   "execution_count": 1,
   "metadata": {},
   "outputs": [],
   "source": [
    "import pandas as pd\n",
    "\n",
    "df_jan = pd.read_csv('../../data/bicing/processed/months/2023_01_STATIONS.csv')\n",
    "df_feb = pd.read_csv('../../data/bicing/processed/months/2023_02_STATIONS.csv')\n",
    "df_march = pd.read_csv('../../data/bicing/processed/months/2023_03_STATIONS.csv')\n",
    "df_april = pd.read_csv('../../data/bicing/processed/months/2023_04_STATIONS.csv')\n",
    "df_may = pd.read_csv('../../data/bicing/processed/months/2023_05_STATIONS.csv')\n",
    "df_june = pd.read_csv('../../data/bicing/processed/months/2023_06_STATIONS.csv')\n",
    "df_july = pd.read_csv('../../data/bicing/processed/months/2023_07_STATIONS.csv')\n",
    "df_aug = pd.read_csv('../../data/bicing/processed/months/2023_08_STATIONS.csv')\n",
    "df_sep = pd.read_csv('../../data/bicing/processed/months/2023_09_STATIONS.csv')\n",
    "df_oct = pd.read_csv('../../data/bicing/processed/months/2023_10_STATIONS.csv')\n",
    "df_nov = pd.read_csv('../../data/bicing/processed/months/2023_11_STATIONS.csv')\n",
    "df_dec = pd.read_csv('../../data/bicing/processed/months/2023_12_STATIONS.csv')\n"
   ]
  },
  {
   "cell_type": "code",
   "execution_count": 2,
   "metadata": {},
   "outputs": [],
   "source": [
    "df_jan = df_jan[(df_jan['month'] == 1) & (df_jan['year'] == 2023)]\n",
    "df_feb = df_feb[(df_feb['month'] == 2) & (df_feb['year'] == 2023)]\n",
    "df_march = df_march[(df_march['month'] == 3) & (df_march['year'] == 2023)]\n",
    "df_april = df_april[(df_april['month'] == 4) & (df_april['year'] == 2023)]\n",
    "df_may = df_may[(df_may['month'] == 5) & (df_may['year'] == 2023)]\n",
    "df_june = df_june[(df_june['month'] == 6) & (df_june['year'] == 2023)]\n",
    "df_july = df_july[(df_july['month'] == 7) & (df_july['year'] == 2023)]\n",
    "df_aug = df_aug[(df_aug['month'] == 8) & (df_aug['year'] == 2023)]\n",
    "df_sep = df_sep[(df_sep['month'] == 9) & (df_sep['year'] == 2023)]\n",
    "df_oct = df_oct[(df_oct['month'] == 10) & (df_oct['year'] == 2023)]\n",
    "df_nov = df_nov[(df_nov['month'] == 11) & (df_nov['year'] == 2023)]\n",
    "df_dec = df_dec[(df_dec['month'] == 12) & (df_dec['year'] == 2023)]"
   ]
  },
  {
   "cell_type": "code",
   "execution_count": 3,
   "metadata": {},
   "outputs": [
    {
     "data": {
      "text/html": [
       "<div>\n",
       "<style scoped>\n",
       "    .dataframe tbody tr th:only-of-type {\n",
       "        vertical-align: middle;\n",
       "    }\n",
       "\n",
       "    .dataframe tbody tr th {\n",
       "        vertical-align: top;\n",
       "    }\n",
       "\n",
       "    .dataframe thead th {\n",
       "        text-align: right;\n",
       "    }\n",
       "</style>\n",
       "<table border=\"1\" class=\"dataframe\">\n",
       "  <thead>\n",
       "    <tr style=\"text-align: right;\">\n",
       "      <th></th>\n",
       "      <th>station_id</th>\n",
       "      <th>num_bikes_available</th>\n",
       "      <th>num_bikes_available_types.mechanical</th>\n",
       "      <th>num_bikes_available_types.ebike</th>\n",
       "      <th>num_docks_available</th>\n",
       "      <th>status</th>\n",
       "      <th>is_renting</th>\n",
       "      <th>is_returning</th>\n",
       "      <th>year</th>\n",
       "      <th>month</th>\n",
       "      <th>day</th>\n",
       "      <th>hour</th>\n",
       "      <th>grouped_minute</th>\n",
       "      <th>day_of_week</th>\n",
       "      <th>is_weekend</th>\n",
       "      <th>grouped_date</th>\n",
       "      <th>docking_available</th>\n",
       "      <th>bikes_available</th>\n",
       "      <th>bikes_available.mechanical</th>\n",
       "      <th>bikes_available.ebike</th>\n",
       "    </tr>\n",
       "  </thead>\n",
       "  <tbody>\n",
       "    <tr>\n",
       "      <th>3826</th>\n",
       "      <td>1</td>\n",
       "      <td>37</td>\n",
       "      <td>35</td>\n",
       "      <td>2</td>\n",
       "      <td>9</td>\n",
       "      <td>IN_SERVICE</td>\n",
       "      <td>1</td>\n",
       "      <td>1</td>\n",
       "      <td>2023</td>\n",
       "      <td>1</td>\n",
       "      <td>1</td>\n",
       "      <td>0</td>\n",
       "      <td>0</td>\n",
       "      <td>6</td>\n",
       "      <td>1</td>\n",
       "      <td>2023-1-1 0:00</td>\n",
       "      <td>True</td>\n",
       "      <td>True</td>\n",
       "      <td>True</td>\n",
       "      <td>True</td>\n",
       "    </tr>\n",
       "    <tr>\n",
       "      <th>4396</th>\n",
       "      <td>185</td>\n",
       "      <td>9</td>\n",
       "      <td>4</td>\n",
       "      <td>5</td>\n",
       "      <td>8</td>\n",
       "      <td>IN_SERVICE</td>\n",
       "      <td>1</td>\n",
       "      <td>1</td>\n",
       "      <td>2023</td>\n",
       "      <td>1</td>\n",
       "      <td>1</td>\n",
       "      <td>0</td>\n",
       "      <td>0</td>\n",
       "      <td>6</td>\n",
       "      <td>1</td>\n",
       "      <td>2023-1-1 0:00</td>\n",
       "      <td>True</td>\n",
       "      <td>True</td>\n",
       "      <td>True</td>\n",
       "      <td>True</td>\n",
       "    </tr>\n",
       "    <tr>\n",
       "      <th>4397</th>\n",
       "      <td>188</td>\n",
       "      <td>23</td>\n",
       "      <td>20</td>\n",
       "      <td>3</td>\n",
       "      <td>4</td>\n",
       "      <td>IN_SERVICE</td>\n",
       "      <td>1</td>\n",
       "      <td>1</td>\n",
       "      <td>2023</td>\n",
       "      <td>1</td>\n",
       "      <td>1</td>\n",
       "      <td>0</td>\n",
       "      <td>0</td>\n",
       "      <td>6</td>\n",
       "      <td>1</td>\n",
       "      <td>2023-1-1 0:00</td>\n",
       "      <td>True</td>\n",
       "      <td>True</td>\n",
       "      <td>True</td>\n",
       "      <td>True</td>\n",
       "    </tr>\n",
       "    <tr>\n",
       "      <th>4398</th>\n",
       "      <td>196</td>\n",
       "      <td>6</td>\n",
       "      <td>1</td>\n",
       "      <td>5</td>\n",
       "      <td>21</td>\n",
       "      <td>IN_SERVICE</td>\n",
       "      <td>1</td>\n",
       "      <td>1</td>\n",
       "      <td>2023</td>\n",
       "      <td>1</td>\n",
       "      <td>1</td>\n",
       "      <td>0</td>\n",
       "      <td>0</td>\n",
       "      <td>6</td>\n",
       "      <td>1</td>\n",
       "      <td>2023-1-1 0:00</td>\n",
       "      <td>True</td>\n",
       "      <td>True</td>\n",
       "      <td>True</td>\n",
       "      <td>True</td>\n",
       "    </tr>\n",
       "    <tr>\n",
       "      <th>4399</th>\n",
       "      <td>201</td>\n",
       "      <td>2</td>\n",
       "      <td>0</td>\n",
       "      <td>2</td>\n",
       "      <td>22</td>\n",
       "      <td>IN_SERVICE</td>\n",
       "      <td>1</td>\n",
       "      <td>1</td>\n",
       "      <td>2023</td>\n",
       "      <td>1</td>\n",
       "      <td>1</td>\n",
       "      <td>0</td>\n",
       "      <td>0</td>\n",
       "      <td>6</td>\n",
       "      <td>1</td>\n",
       "      <td>2023-1-1 0:00</td>\n",
       "      <td>True</td>\n",
       "      <td>True</td>\n",
       "      <td>False</td>\n",
       "      <td>True</td>\n",
       "    </tr>\n",
       "  </tbody>\n",
       "</table>\n",
       "</div>"
      ],
      "text/plain": [
       "      station_id  num_bikes_available  num_bikes_available_types.mechanical  \\\n",
       "3826           1                   37                                    35   \n",
       "4396         185                    9                                     4   \n",
       "4397         188                   23                                    20   \n",
       "4398         196                    6                                     1   \n",
       "4399         201                    2                                     0   \n",
       "\n",
       "      num_bikes_available_types.ebike  num_docks_available      status  \\\n",
       "3826                                2                    9  IN_SERVICE   \n",
       "4396                                5                    8  IN_SERVICE   \n",
       "4397                                3                    4  IN_SERVICE   \n",
       "4398                                5                   21  IN_SERVICE   \n",
       "4399                                2                   22  IN_SERVICE   \n",
       "\n",
       "      is_renting  is_returning  year  month  day  hour  grouped_minute  \\\n",
       "3826           1             1  2023      1    1     0               0   \n",
       "4396           1             1  2023      1    1     0               0   \n",
       "4397           1             1  2023      1    1     0               0   \n",
       "4398           1             1  2023      1    1     0               0   \n",
       "4399           1             1  2023      1    1     0               0   \n",
       "\n",
       "      day_of_week  is_weekend   grouped_date  docking_available  \\\n",
       "3826            6           1  2023-1-1 0:00               True   \n",
       "4396            6           1  2023-1-1 0:00               True   \n",
       "4397            6           1  2023-1-1 0:00               True   \n",
       "4398            6           1  2023-1-1 0:00               True   \n",
       "4399            6           1  2023-1-1 0:00               True   \n",
       "\n",
       "      bikes_available  bikes_available.mechanical  bikes_available.ebike  \n",
       "3826             True                        True                   True  \n",
       "4396             True                        True                   True  \n",
       "4397             True                        True                   True  \n",
       "4398             True                        True                   True  \n",
       "4399             True                       False                   True  "
      ]
     },
     "execution_count": 3,
     "metadata": {},
     "output_type": "execute_result"
    }
   ],
   "source": [
    "df_2023 = pd.concat([df_jan, df_feb, df_march, df_april, df_may, df_june, df_july, df_aug, df_sep, df_oct, df_nov, df_dec])\n",
    "df_2023.sort_values(by=['grouped_date'], inplace=True)\n",
    "df_2023.head()"
   ]
  },
  {
   "cell_type": "code",
   "execution_count": 4,
   "metadata": {},
   "outputs": [
    {
     "data": {
      "text/html": [
       "<div>\n",
       "<style scoped>\n",
       "    .dataframe tbody tr th:only-of-type {\n",
       "        vertical-align: middle;\n",
       "    }\n",
       "\n",
       "    .dataframe tbody tr th {\n",
       "        vertical-align: top;\n",
       "    }\n",
       "\n",
       "    .dataframe thead th {\n",
       "        text-align: right;\n",
       "    }\n",
       "</style>\n",
       "<table border=\"1\" class=\"dataframe\">\n",
       "  <thead>\n",
       "    <tr style=\"text-align: right;\">\n",
       "      <th></th>\n",
       "      <th>station_id</th>\n",
       "      <th>num_bikes_available</th>\n",
       "      <th>num_bikes_available_types.mechanical</th>\n",
       "      <th>num_bikes_available_types.ebike</th>\n",
       "      <th>num_docks_available</th>\n",
       "      <th>status</th>\n",
       "      <th>is_renting</th>\n",
       "      <th>is_returning</th>\n",
       "      <th>year</th>\n",
       "      <th>month</th>\n",
       "      <th>...</th>\n",
       "      <th>hour</th>\n",
       "      <th>grouped_minute</th>\n",
       "      <th>day_of_week</th>\n",
       "      <th>is_weekend</th>\n",
       "      <th>grouped_date</th>\n",
       "      <th>docking_available</th>\n",
       "      <th>bikes_available</th>\n",
       "      <th>bikes_available.mechanical</th>\n",
       "      <th>bikes_available.ebike</th>\n",
       "      <th>season</th>\n",
       "    </tr>\n",
       "  </thead>\n",
       "  <tbody>\n",
       "    <tr>\n",
       "      <th>3826</th>\n",
       "      <td>1</td>\n",
       "      <td>37</td>\n",
       "      <td>35</td>\n",
       "      <td>2</td>\n",
       "      <td>9</td>\n",
       "      <td>IN_SERVICE</td>\n",
       "      <td>1</td>\n",
       "      <td>1</td>\n",
       "      <td>2023</td>\n",
       "      <td>1</td>\n",
       "      <td>...</td>\n",
       "      <td>0</td>\n",
       "      <td>0</td>\n",
       "      <td>6</td>\n",
       "      <td>1</td>\n",
       "      <td>2023-01-01</td>\n",
       "      <td>True</td>\n",
       "      <td>True</td>\n",
       "      <td>True</td>\n",
       "      <td>True</td>\n",
       "      <td>Winter</td>\n",
       "    </tr>\n",
       "    <tr>\n",
       "      <th>4396</th>\n",
       "      <td>185</td>\n",
       "      <td>9</td>\n",
       "      <td>4</td>\n",
       "      <td>5</td>\n",
       "      <td>8</td>\n",
       "      <td>IN_SERVICE</td>\n",
       "      <td>1</td>\n",
       "      <td>1</td>\n",
       "      <td>2023</td>\n",
       "      <td>1</td>\n",
       "      <td>...</td>\n",
       "      <td>0</td>\n",
       "      <td>0</td>\n",
       "      <td>6</td>\n",
       "      <td>1</td>\n",
       "      <td>2023-01-01</td>\n",
       "      <td>True</td>\n",
       "      <td>True</td>\n",
       "      <td>True</td>\n",
       "      <td>True</td>\n",
       "      <td>Winter</td>\n",
       "    </tr>\n",
       "    <tr>\n",
       "      <th>4397</th>\n",
       "      <td>188</td>\n",
       "      <td>23</td>\n",
       "      <td>20</td>\n",
       "      <td>3</td>\n",
       "      <td>4</td>\n",
       "      <td>IN_SERVICE</td>\n",
       "      <td>1</td>\n",
       "      <td>1</td>\n",
       "      <td>2023</td>\n",
       "      <td>1</td>\n",
       "      <td>...</td>\n",
       "      <td>0</td>\n",
       "      <td>0</td>\n",
       "      <td>6</td>\n",
       "      <td>1</td>\n",
       "      <td>2023-01-01</td>\n",
       "      <td>True</td>\n",
       "      <td>True</td>\n",
       "      <td>True</td>\n",
       "      <td>True</td>\n",
       "      <td>Winter</td>\n",
       "    </tr>\n",
       "    <tr>\n",
       "      <th>4398</th>\n",
       "      <td>196</td>\n",
       "      <td>6</td>\n",
       "      <td>1</td>\n",
       "      <td>5</td>\n",
       "      <td>21</td>\n",
       "      <td>IN_SERVICE</td>\n",
       "      <td>1</td>\n",
       "      <td>1</td>\n",
       "      <td>2023</td>\n",
       "      <td>1</td>\n",
       "      <td>...</td>\n",
       "      <td>0</td>\n",
       "      <td>0</td>\n",
       "      <td>6</td>\n",
       "      <td>1</td>\n",
       "      <td>2023-01-01</td>\n",
       "      <td>True</td>\n",
       "      <td>True</td>\n",
       "      <td>True</td>\n",
       "      <td>True</td>\n",
       "      <td>Winter</td>\n",
       "    </tr>\n",
       "  </tbody>\n",
       "</table>\n",
       "<p>4 rows × 21 columns</p>\n",
       "</div>"
      ],
      "text/plain": [
       "      station_id  num_bikes_available  num_bikes_available_types.mechanical  \\\n",
       "3826           1                   37                                    35   \n",
       "4396         185                    9                                     4   \n",
       "4397         188                   23                                    20   \n",
       "4398         196                    6                                     1   \n",
       "\n",
       "      num_bikes_available_types.ebike  num_docks_available      status  \\\n",
       "3826                                2                    9  IN_SERVICE   \n",
       "4396                                5                    8  IN_SERVICE   \n",
       "4397                                3                    4  IN_SERVICE   \n",
       "4398                                5                   21  IN_SERVICE   \n",
       "\n",
       "      is_renting  is_returning  year  month  ...  hour  grouped_minute  \\\n",
       "3826           1             1  2023      1  ...     0               0   \n",
       "4396           1             1  2023      1  ...     0               0   \n",
       "4397           1             1  2023      1  ...     0               0   \n",
       "4398           1             1  2023      1  ...     0               0   \n",
       "\n",
       "      day_of_week  is_weekend  grouped_date docking_available  \\\n",
       "3826            6           1    2023-01-01              True   \n",
       "4396            6           1    2023-01-01              True   \n",
       "4397            6           1    2023-01-01              True   \n",
       "4398            6           1    2023-01-01              True   \n",
       "\n",
       "      bikes_available  bikes_available.mechanical  bikes_available.ebike  \\\n",
       "3826             True                        True                   True   \n",
       "4396             True                        True                   True   \n",
       "4397             True                        True                   True   \n",
       "4398             True                        True                   True   \n",
       "\n",
       "      season  \n",
       "3826  Winter  \n",
       "4396  Winter  \n",
       "4397  Winter  \n",
       "4398  Winter  \n",
       "\n",
       "[4 rows x 21 columns]"
      ]
     },
     "execution_count": 4,
     "metadata": {},
     "output_type": "execute_result"
    }
   ],
   "source": [
    "df_2023['grouped_date'] = pd.to_datetime(df_2023['grouped_date'])\n",
    "df_2023['season'] = df_2023['grouped_date'].dt.month.apply(lambda x: 'Spring' if x in [3, 4, 5] else 'Summer' if x in [6, 7, 8] else 'Autumn' if x in [9, 10, 11] else 'Winter')\n",
    "df_2023.head(4)"
   ]
  },
  {
   "cell_type": "code",
   "execution_count": 5,
   "metadata": {},
   "outputs": [
    {
     "data": {
      "text/html": [
       "<div>\n",
       "<style scoped>\n",
       "    .dataframe tbody tr th:only-of-type {\n",
       "        vertical-align: middle;\n",
       "    }\n",
       "\n",
       "    .dataframe tbody tr th {\n",
       "        vertical-align: top;\n",
       "    }\n",
       "\n",
       "    .dataframe thead th {\n",
       "        text-align: right;\n",
       "    }\n",
       "</style>\n",
       "<table border=\"1\" class=\"dataframe\">\n",
       "  <thead>\n",
       "    <tr style=\"text-align: right;\">\n",
       "      <th></th>\n",
       "      <th>date</th>\n",
       "      <th>hour</th>\n",
       "      <th>temperature</th>\n",
       "      <th>rainfall</th>\n",
       "    </tr>\n",
       "  </thead>\n",
       "  <tbody>\n",
       "    <tr>\n",
       "      <th>0</th>\n",
       "      <td>2023-01-01</td>\n",
       "      <td>0</td>\n",
       "      <td>15</td>\n",
       "      <td>0.0</td>\n",
       "    </tr>\n",
       "    <tr>\n",
       "      <th>1</th>\n",
       "      <td>2023-01-01</td>\n",
       "      <td>1</td>\n",
       "      <td>14</td>\n",
       "      <td>0.0</td>\n",
       "    </tr>\n",
       "    <tr>\n",
       "      <th>2</th>\n",
       "      <td>2023-01-01</td>\n",
       "      <td>2</td>\n",
       "      <td>14</td>\n",
       "      <td>0.0</td>\n",
       "    </tr>\n",
       "  </tbody>\n",
       "</table>\n",
       "</div>"
      ],
      "text/plain": [
       "         date  hour  temperature  rainfall\n",
       "0  2023-01-01     0           15       0.0\n",
       "1  2023-01-01     1           14       0.0\n",
       "2  2023-01-01     2           14       0.0"
      ]
     },
     "execution_count": 5,
     "metadata": {},
     "output_type": "execute_result"
    }
   ],
   "source": [
    "df_weather = pd.read_csv('../../data/weather_clean.csv')\n",
    "\n",
    "df_weather.head(3)"
   ]
  },
  {
   "cell_type": "code",
   "execution_count": 6,
   "metadata": {},
   "outputs": [],
   "source": [
    "df_weather['date'] = pd.to_datetime(df_weather['date'])\n",
    "df_weather['day'] = df_weather['date'].dt.day.astype(int)\n",
    "df_weather['month'] = df_weather['date'].dt.month.astype(int)\n",
    "df_weather['year'] = df_weather['date'].dt.year.astype(int)\n",
    "df_weather['hour'] = df_weather['hour'].astype(int)"
   ]
  },
  {
   "cell_type": "code",
   "execution_count": 7,
   "metadata": {},
   "outputs": [
    {
     "data": {
      "text/html": [
       "<div>\n",
       "<style scoped>\n",
       "    .dataframe tbody tr th:only-of-type {\n",
       "        vertical-align: middle;\n",
       "    }\n",
       "\n",
       "    .dataframe tbody tr th {\n",
       "        vertical-align: top;\n",
       "    }\n",
       "\n",
       "    .dataframe thead th {\n",
       "        text-align: right;\n",
       "    }\n",
       "</style>\n",
       "<table border=\"1\" class=\"dataframe\">\n",
       "  <thead>\n",
       "    <tr style=\"text-align: right;\">\n",
       "      <th></th>\n",
       "      <th>station_id</th>\n",
       "      <th>num_bikes_available</th>\n",
       "      <th>num_bikes_available_types.mechanical</th>\n",
       "      <th>num_bikes_available_types.ebike</th>\n",
       "      <th>num_docks_available</th>\n",
       "      <th>status</th>\n",
       "      <th>is_renting</th>\n",
       "      <th>is_returning</th>\n",
       "      <th>year</th>\n",
       "      <th>month</th>\n",
       "      <th>...</th>\n",
       "      <th>is_weekend</th>\n",
       "      <th>grouped_date</th>\n",
       "      <th>docking_available</th>\n",
       "      <th>bikes_available</th>\n",
       "      <th>bikes_available.mechanical</th>\n",
       "      <th>bikes_available.ebike</th>\n",
       "      <th>season</th>\n",
       "      <th>date</th>\n",
       "      <th>temperature</th>\n",
       "      <th>rainfall</th>\n",
       "    </tr>\n",
       "  </thead>\n",
       "  <tbody>\n",
       "    <tr>\n",
       "      <th>0</th>\n",
       "      <td>1</td>\n",
       "      <td>37</td>\n",
       "      <td>35</td>\n",
       "      <td>2</td>\n",
       "      <td>9</td>\n",
       "      <td>IN_SERVICE</td>\n",
       "      <td>1</td>\n",
       "      <td>1</td>\n",
       "      <td>2023</td>\n",
       "      <td>1</td>\n",
       "      <td>...</td>\n",
       "      <td>1</td>\n",
       "      <td>2023-01-01</td>\n",
       "      <td>True</td>\n",
       "      <td>True</td>\n",
       "      <td>True</td>\n",
       "      <td>True</td>\n",
       "      <td>Winter</td>\n",
       "      <td>2023-01-01</td>\n",
       "      <td>15</td>\n",
       "      <td>0.0</td>\n",
       "    </tr>\n",
       "    <tr>\n",
       "      <th>1</th>\n",
       "      <td>185</td>\n",
       "      <td>9</td>\n",
       "      <td>4</td>\n",
       "      <td>5</td>\n",
       "      <td>8</td>\n",
       "      <td>IN_SERVICE</td>\n",
       "      <td>1</td>\n",
       "      <td>1</td>\n",
       "      <td>2023</td>\n",
       "      <td>1</td>\n",
       "      <td>...</td>\n",
       "      <td>1</td>\n",
       "      <td>2023-01-01</td>\n",
       "      <td>True</td>\n",
       "      <td>True</td>\n",
       "      <td>True</td>\n",
       "      <td>True</td>\n",
       "      <td>Winter</td>\n",
       "      <td>2023-01-01</td>\n",
       "      <td>15</td>\n",
       "      <td>0.0</td>\n",
       "    </tr>\n",
       "    <tr>\n",
       "      <th>2</th>\n",
       "      <td>188</td>\n",
       "      <td>23</td>\n",
       "      <td>20</td>\n",
       "      <td>3</td>\n",
       "      <td>4</td>\n",
       "      <td>IN_SERVICE</td>\n",
       "      <td>1</td>\n",
       "      <td>1</td>\n",
       "      <td>2023</td>\n",
       "      <td>1</td>\n",
       "      <td>...</td>\n",
       "      <td>1</td>\n",
       "      <td>2023-01-01</td>\n",
       "      <td>True</td>\n",
       "      <td>True</td>\n",
       "      <td>True</td>\n",
       "      <td>True</td>\n",
       "      <td>Winter</td>\n",
       "      <td>2023-01-01</td>\n",
       "      <td>15</td>\n",
       "      <td>0.0</td>\n",
       "    </tr>\n",
       "  </tbody>\n",
       "</table>\n",
       "<p>3 rows × 24 columns</p>\n",
       "</div>"
      ],
      "text/plain": [
       "   station_id  num_bikes_available  num_bikes_available_types.mechanical  \\\n",
       "0           1                   37                                    35   \n",
       "1         185                    9                                     4   \n",
       "2         188                   23                                    20   \n",
       "\n",
       "   num_bikes_available_types.ebike  num_docks_available      status  \\\n",
       "0                                2                    9  IN_SERVICE   \n",
       "1                                5                    8  IN_SERVICE   \n",
       "2                                3                    4  IN_SERVICE   \n",
       "\n",
       "   is_renting  is_returning  year  month  ...  is_weekend  grouped_date  \\\n",
       "0           1             1  2023      1  ...           1    2023-01-01   \n",
       "1           1             1  2023      1  ...           1    2023-01-01   \n",
       "2           1             1  2023      1  ...           1    2023-01-01   \n",
       "\n",
       "   docking_available  bikes_available  bikes_available.mechanical  \\\n",
       "0               True             True                        True   \n",
       "1               True             True                        True   \n",
       "2               True             True                        True   \n",
       "\n",
       "  bikes_available.ebike  season       date  temperature  rainfall  \n",
       "0                  True  Winter 2023-01-01           15       0.0  \n",
       "1                  True  Winter 2023-01-01           15       0.0  \n",
       "2                  True  Winter 2023-01-01           15       0.0  \n",
       "\n",
       "[3 rows x 24 columns]"
      ]
     },
     "execution_count": 7,
     "metadata": {},
     "output_type": "execute_result"
    }
   ],
   "source": [
    "df_2023_weather = pd.merge(df_2023, df_weather, on=['year', 'month', 'day', 'hour'], how='left')\n",
    "df_2023_weather.head(3)"
   ]
  },
  {
   "cell_type": "code",
   "execution_count": 8,
   "metadata": {},
   "outputs": [
    {
     "data": {
      "text/html": [
       "<div>\n",
       "<style scoped>\n",
       "    .dataframe tbody tr th:only-of-type {\n",
       "        vertical-align: middle;\n",
       "    }\n",
       "\n",
       "    .dataframe tbody tr th {\n",
       "        vertical-align: top;\n",
       "    }\n",
       "\n",
       "    .dataframe thead th {\n",
       "        text-align: right;\n",
       "    }\n",
       "</style>\n",
       "<table border=\"1\" class=\"dataframe\">\n",
       "  <thead>\n",
       "    <tr style=\"text-align: right;\">\n",
       "      <th></th>\n",
       "      <th>station_id</th>\n",
       "      <th>lat</th>\n",
       "      <th>lon</th>\n",
       "      <th>altitude</th>\n",
       "      <th>post_code</th>\n",
       "      <th>capacity</th>\n",
       "      <th>address</th>\n",
       "      <th>district</th>\n",
       "    </tr>\n",
       "  </thead>\n",
       "  <tbody>\n",
       "    <tr>\n",
       "      <th>0</th>\n",
       "      <td>1</td>\n",
       "      <td>41.397978</td>\n",
       "      <td>2.180107</td>\n",
       "      <td>16.0</td>\n",
       "      <td>08013</td>\n",
       "      <td>46</td>\n",
       "      <td>GRAN VIA CORTS CATALANES, 760</td>\n",
       "      <td>Eixample</td>\n",
       "    </tr>\n",
       "    <tr>\n",
       "      <th>1</th>\n",
       "      <td>2</td>\n",
       "      <td>41.395488</td>\n",
       "      <td>2.177198</td>\n",
       "      <td>17.0</td>\n",
       "      <td>08013</td>\n",
       "      <td>29</td>\n",
       "      <td>C/ ROGER DE FLOR, 126</td>\n",
       "      <td>Eixample</td>\n",
       "    </tr>\n",
       "    <tr>\n",
       "      <th>2</th>\n",
       "      <td>3</td>\n",
       "      <td>41.394156</td>\n",
       "      <td>2.181331</td>\n",
       "      <td>11.0</td>\n",
       "      <td>08013</td>\n",
       "      <td>27</td>\n",
       "      <td>C/ NÀPOLS, 82</td>\n",
       "      <td>Eixample</td>\n",
       "    </tr>\n",
       "    <tr>\n",
       "      <th>3</th>\n",
       "      <td>4</td>\n",
       "      <td>41.393317</td>\n",
       "      <td>2.181248</td>\n",
       "      <td>8.0</td>\n",
       "      <td>08013</td>\n",
       "      <td>21</td>\n",
       "      <td>C/ RIBES, 13</td>\n",
       "      <td>Eixample</td>\n",
       "    </tr>\n",
       "    <tr>\n",
       "      <th>4</th>\n",
       "      <td>5</td>\n",
       "      <td>41.391103</td>\n",
       "      <td>2.180176</td>\n",
       "      <td>7.0</td>\n",
       "      <td>08018</td>\n",
       "      <td>39</td>\n",
       "      <td>PG. LLUIS COMPANYS, 11 (ARC TRIOMF)</td>\n",
       "      <td>Sant Martí</td>\n",
       "    </tr>\n",
       "  </tbody>\n",
       "</table>\n",
       "</div>"
      ],
      "text/plain": [
       "   station_id        lat       lon  altitude post_code  capacity  \\\n",
       "0           1  41.397978  2.180107      16.0     08013        46   \n",
       "1           2  41.395488  2.177198      17.0     08013        29   \n",
       "2           3  41.394156  2.181331      11.0     08013        27   \n",
       "3           4  41.393317  2.181248       8.0     08013        21   \n",
       "4           5  41.391103  2.180176       7.0     08018        39   \n",
       "\n",
       "                               address    district  \n",
       "0        GRAN VIA CORTS CATALANES, 760    Eixample  \n",
       "1                C/ ROGER DE FLOR, 126    Eixample  \n",
       "2                        C/ NÀPOLS, 82    Eixample  \n",
       "3                         C/ RIBES, 13    Eixample  \n",
       "4  PG. LLUIS COMPANYS, 11 (ARC TRIOMF)  Sant Martí  "
      ]
     },
     "execution_count": 8,
     "metadata": {},
     "output_type": "execute_result"
    }
   ],
   "source": [
    "station_info_df = pd.read_csv('../../data/bicing/processed/2024_STATION_LOCATIONS.csv', dtype={'post_code': str})\n",
    "station_info_df.head()"
   ]
  },
  {
   "cell_type": "code",
   "execution_count": 9,
   "metadata": {},
   "outputs": [
    {
     "data": {
      "text/html": [
       "<div>\n",
       "<style scoped>\n",
       "    .dataframe tbody tr th:only-of-type {\n",
       "        vertical-align: middle;\n",
       "    }\n",
       "\n",
       "    .dataframe tbody tr th {\n",
       "        vertical-align: top;\n",
       "    }\n",
       "\n",
       "    .dataframe thead th {\n",
       "        text-align: right;\n",
       "    }\n",
       "</style>\n",
       "<table border=\"1\" class=\"dataframe\">\n",
       "  <thead>\n",
       "    <tr style=\"text-align: right;\">\n",
       "      <th></th>\n",
       "      <th>station_id</th>\n",
       "      <th>num_bikes_available</th>\n",
       "      <th>num_bikes_available_types.mechanical</th>\n",
       "      <th>num_bikes_available_types.ebike</th>\n",
       "      <th>num_docks_available</th>\n",
       "      <th>status</th>\n",
       "      <th>is_renting</th>\n",
       "      <th>is_returning</th>\n",
       "      <th>year</th>\n",
       "      <th>month</th>\n",
       "      <th>...</th>\n",
       "      <th>date</th>\n",
       "      <th>temperature</th>\n",
       "      <th>rainfall</th>\n",
       "      <th>lat</th>\n",
       "      <th>lon</th>\n",
       "      <th>altitude</th>\n",
       "      <th>post_code</th>\n",
       "      <th>capacity</th>\n",
       "      <th>address</th>\n",
       "      <th>district</th>\n",
       "    </tr>\n",
       "  </thead>\n",
       "  <tbody>\n",
       "    <tr>\n",
       "      <th>0</th>\n",
       "      <td>1</td>\n",
       "      <td>37</td>\n",
       "      <td>35</td>\n",
       "      <td>2</td>\n",
       "      <td>9</td>\n",
       "      <td>IN_SERVICE</td>\n",
       "      <td>1</td>\n",
       "      <td>1</td>\n",
       "      <td>2023</td>\n",
       "      <td>1</td>\n",
       "      <td>...</td>\n",
       "      <td>2023-01-01</td>\n",
       "      <td>15</td>\n",
       "      <td>0.0</td>\n",
       "      <td>41.397978</td>\n",
       "      <td>2.180107</td>\n",
       "      <td>16.0</td>\n",
       "      <td>08013</td>\n",
       "      <td>46.0</td>\n",
       "      <td>GRAN VIA CORTS CATALANES, 760</td>\n",
       "      <td>Eixample</td>\n",
       "    </tr>\n",
       "    <tr>\n",
       "      <th>1</th>\n",
       "      <td>185</td>\n",
       "      <td>9</td>\n",
       "      <td>4</td>\n",
       "      <td>5</td>\n",
       "      <td>8</td>\n",
       "      <td>IN_SERVICE</td>\n",
       "      <td>1</td>\n",
       "      <td>1</td>\n",
       "      <td>2023</td>\n",
       "      <td>1</td>\n",
       "      <td>...</td>\n",
       "      <td>2023-01-01</td>\n",
       "      <td>15</td>\n",
       "      <td>0.0</td>\n",
       "      <td>41.370372</td>\n",
       "      <td>2.138944</td>\n",
       "      <td>20.0</td>\n",
       "      <td>08014</td>\n",
       "      <td>17.0</td>\n",
       "      <td>C/GAVÀ, 81</td>\n",
       "      <td>Sants-Montjuïc</td>\n",
       "    </tr>\n",
       "    <tr>\n",
       "      <th>2</th>\n",
       "      <td>188</td>\n",
       "      <td>23</td>\n",
       "      <td>20</td>\n",
       "      <td>3</td>\n",
       "      <td>4</td>\n",
       "      <td>IN_SERVICE</td>\n",
       "      <td>1</td>\n",
       "      <td>1</td>\n",
       "      <td>2023</td>\n",
       "      <td>1</td>\n",
       "      <td>...</td>\n",
       "      <td>2023-01-01</td>\n",
       "      <td>15</td>\n",
       "      <td>0.0</td>\n",
       "      <td>41.375695</td>\n",
       "      <td>2.135857</td>\n",
       "      <td>30.0</td>\n",
       "      <td>08014</td>\n",
       "      <td>27.0</td>\n",
       "      <td>PG. SANT ANTONI /PL. SANTS</td>\n",
       "      <td>Sants-Montjuïc</td>\n",
       "    </tr>\n",
       "    <tr>\n",
       "      <th>3</th>\n",
       "      <td>196</td>\n",
       "      <td>6</td>\n",
       "      <td>1</td>\n",
       "      <td>5</td>\n",
       "      <td>21</td>\n",
       "      <td>IN_SERVICE</td>\n",
       "      <td>1</td>\n",
       "      <td>1</td>\n",
       "      <td>2023</td>\n",
       "      <td>1</td>\n",
       "      <td>...</td>\n",
       "      <td>2023-01-01</td>\n",
       "      <td>15</td>\n",
       "      <td>0.0</td>\n",
       "      <td>41.383261</td>\n",
       "      <td>2.139266</td>\n",
       "      <td>38.0</td>\n",
       "      <td>08029</td>\n",
       "      <td>27.0</td>\n",
       "      <td>C/ BERLÍN, 38</td>\n",
       "      <td>Les Corts</td>\n",
       "    </tr>\n",
       "    <tr>\n",
       "      <th>4</th>\n",
       "      <td>201</td>\n",
       "      <td>2</td>\n",
       "      <td>0</td>\n",
       "      <td>2</td>\n",
       "      <td>22</td>\n",
       "      <td>IN_SERVICE</td>\n",
       "      <td>1</td>\n",
       "      <td>1</td>\n",
       "      <td>2023</td>\n",
       "      <td>1</td>\n",
       "      <td>...</td>\n",
       "      <td>2023-01-01</td>\n",
       "      <td>15</td>\n",
       "      <td>0.0</td>\n",
       "      <td>41.387806</td>\n",
       "      <td>2.134422</td>\n",
       "      <td>55.0</td>\n",
       "      <td>08029</td>\n",
       "      <td>24.0</td>\n",
       "      <td>C/ NUMÀNCIA, 136</td>\n",
       "      <td>Les Corts</td>\n",
       "    </tr>\n",
       "  </tbody>\n",
       "</table>\n",
       "<p>5 rows × 31 columns</p>\n",
       "</div>"
      ],
      "text/plain": [
       "   station_id  num_bikes_available  num_bikes_available_types.mechanical  \\\n",
       "0           1                   37                                    35   \n",
       "1         185                    9                                     4   \n",
       "2         188                   23                                    20   \n",
       "3         196                    6                                     1   \n",
       "4         201                    2                                     0   \n",
       "\n",
       "   num_bikes_available_types.ebike  num_docks_available      status  \\\n",
       "0                                2                    9  IN_SERVICE   \n",
       "1                                5                    8  IN_SERVICE   \n",
       "2                                3                    4  IN_SERVICE   \n",
       "3                                5                   21  IN_SERVICE   \n",
       "4                                2                   22  IN_SERVICE   \n",
       "\n",
       "   is_renting  is_returning  year  month  ...       date  temperature  \\\n",
       "0           1             1  2023      1  ... 2023-01-01           15   \n",
       "1           1             1  2023      1  ... 2023-01-01           15   \n",
       "2           1             1  2023      1  ... 2023-01-01           15   \n",
       "3           1             1  2023      1  ... 2023-01-01           15   \n",
       "4           1             1  2023      1  ... 2023-01-01           15   \n",
       "\n",
       "   rainfall        lat       lon altitude  post_code  capacity  \\\n",
       "0       0.0  41.397978  2.180107     16.0      08013      46.0   \n",
       "1       0.0  41.370372  2.138944     20.0      08014      17.0   \n",
       "2       0.0  41.375695  2.135857     30.0      08014      27.0   \n",
       "3       0.0  41.383261  2.139266     38.0      08029      27.0   \n",
       "4       0.0  41.387806  2.134422     55.0      08029      24.0   \n",
       "\n",
       "                         address        district  \n",
       "0  GRAN VIA CORTS CATALANES, 760        Eixample  \n",
       "1                     C/GAVÀ, 81  Sants-Montjuïc  \n",
       "2     PG. SANT ANTONI /PL. SANTS  Sants-Montjuïc  \n",
       "3                  C/ BERLÍN, 38       Les Corts  \n",
       "4               C/ NUMÀNCIA, 136       Les Corts  \n",
       "\n",
       "[5 rows x 31 columns]"
      ]
     },
     "execution_count": 9,
     "metadata": {},
     "output_type": "execute_result"
    }
   ],
   "source": [
    "df_2023_weather_station = pd.merge(df_2023_weather, station_info_df, on='station_id', how='left')\n",
    "df_2023_weather_station.head()"
   ]
  },
  {
   "cell_type": "code",
   "execution_count": 10,
   "metadata": {},
   "outputs": [
    {
     "data": {
      "text/plain": [
       "Index(['station_id', 'num_bikes_available',\n",
       "       'num_bikes_available_types.mechanical',\n",
       "       'num_bikes_available_types.ebike', 'num_docks_available', 'status',\n",
       "       'is_renting', 'is_returning', 'year', 'month', 'day', 'hour',\n",
       "       'grouped_minute', 'day_of_week', 'is_weekend', 'grouped_date',\n",
       "       'docking_available', 'bikes_available', 'bikes_available.mechanical',\n",
       "       'bikes_available.ebike', 'season', 'date', 'temperature', 'rainfall',\n",
       "       'lat', 'lon', 'altitude', 'post_code', 'capacity', 'address',\n",
       "       'district'],\n",
       "      dtype='object')"
      ]
     },
     "execution_count": 10,
     "metadata": {},
     "output_type": "execute_result"
    }
   ],
   "source": [
    "df_2023_weather_station.columns"
   ]
  },
  {
   "cell_type": "code",
   "execution_count": 11,
   "metadata": {},
   "outputs": [
    {
     "data": {
      "text/html": [
       "<div>\n",
       "<style scoped>\n",
       "    .dataframe tbody tr th:only-of-type {\n",
       "        vertical-align: middle;\n",
       "    }\n",
       "\n",
       "    .dataframe tbody tr th {\n",
       "        vertical-align: top;\n",
       "    }\n",
       "\n",
       "    .dataframe thead th {\n",
       "        text-align: right;\n",
       "    }\n",
       "</style>\n",
       "<table border=\"1\" class=\"dataframe\">\n",
       "  <thead>\n",
       "    <tr style=\"text-align: right;\">\n",
       "      <th></th>\n",
       "      <th>station_id</th>\n",
       "      <th>num_bikes_available</th>\n",
       "      <th>num_bikes_available_types.mechanical</th>\n",
       "      <th>num_bikes_available_types.ebike</th>\n",
       "      <th>num_docks_available</th>\n",
       "      <th>status</th>\n",
       "      <th>is_renting</th>\n",
       "      <th>is_returning</th>\n",
       "      <th>year</th>\n",
       "      <th>month</th>\n",
       "      <th>...</th>\n",
       "      <th>date</th>\n",
       "      <th>temperature</th>\n",
       "      <th>rainfall</th>\n",
       "      <th>lat</th>\n",
       "      <th>lon</th>\n",
       "      <th>altitude</th>\n",
       "      <th>post_code</th>\n",
       "      <th>capacity</th>\n",
       "      <th>address</th>\n",
       "      <th>district</th>\n",
       "    </tr>\n",
       "  </thead>\n",
       "  <tbody>\n",
       "    <tr>\n",
       "      <th>0</th>\n",
       "      <td>1</td>\n",
       "      <td>37</td>\n",
       "      <td>35</td>\n",
       "      <td>2</td>\n",
       "      <td>9</td>\n",
       "      <td>IN_SERVICE</td>\n",
       "      <td>1</td>\n",
       "      <td>1</td>\n",
       "      <td>2023</td>\n",
       "      <td>1</td>\n",
       "      <td>...</td>\n",
       "      <td>2023-01-01</td>\n",
       "      <td>15</td>\n",
       "      <td>0.0</td>\n",
       "      <td>41.397978</td>\n",
       "      <td>2.180107</td>\n",
       "      <td>16.0</td>\n",
       "      <td>08013</td>\n",
       "      <td>46.0</td>\n",
       "      <td>GRAN VIA CORTS CATALANES, 760</td>\n",
       "      <td>Eixample</td>\n",
       "    </tr>\n",
       "    <tr>\n",
       "      <th>1</th>\n",
       "      <td>185</td>\n",
       "      <td>9</td>\n",
       "      <td>4</td>\n",
       "      <td>5</td>\n",
       "      <td>8</td>\n",
       "      <td>IN_SERVICE</td>\n",
       "      <td>1</td>\n",
       "      <td>1</td>\n",
       "      <td>2023</td>\n",
       "      <td>1</td>\n",
       "      <td>...</td>\n",
       "      <td>2023-01-01</td>\n",
       "      <td>15</td>\n",
       "      <td>0.0</td>\n",
       "      <td>41.370372</td>\n",
       "      <td>2.138944</td>\n",
       "      <td>20.0</td>\n",
       "      <td>08014</td>\n",
       "      <td>17.0</td>\n",
       "      <td>C/GAVÀ, 81</td>\n",
       "      <td>Sants-Montjuïc</td>\n",
       "    </tr>\n",
       "    <tr>\n",
       "      <th>2</th>\n",
       "      <td>188</td>\n",
       "      <td>23</td>\n",
       "      <td>20</td>\n",
       "      <td>3</td>\n",
       "      <td>4</td>\n",
       "      <td>IN_SERVICE</td>\n",
       "      <td>1</td>\n",
       "      <td>1</td>\n",
       "      <td>2023</td>\n",
       "      <td>1</td>\n",
       "      <td>...</td>\n",
       "      <td>2023-01-01</td>\n",
       "      <td>15</td>\n",
       "      <td>0.0</td>\n",
       "      <td>41.375695</td>\n",
       "      <td>2.135857</td>\n",
       "      <td>30.0</td>\n",
       "      <td>08014</td>\n",
       "      <td>27.0</td>\n",
       "      <td>PG. SANT ANTONI /PL. SANTS</td>\n",
       "      <td>Sants-Montjuïc</td>\n",
       "    </tr>\n",
       "    <tr>\n",
       "      <th>3</th>\n",
       "      <td>196</td>\n",
       "      <td>6</td>\n",
       "      <td>1</td>\n",
       "      <td>5</td>\n",
       "      <td>21</td>\n",
       "      <td>IN_SERVICE</td>\n",
       "      <td>1</td>\n",
       "      <td>1</td>\n",
       "      <td>2023</td>\n",
       "      <td>1</td>\n",
       "      <td>...</td>\n",
       "      <td>2023-01-01</td>\n",
       "      <td>15</td>\n",
       "      <td>0.0</td>\n",
       "      <td>41.383261</td>\n",
       "      <td>2.139266</td>\n",
       "      <td>38.0</td>\n",
       "      <td>08029</td>\n",
       "      <td>27.0</td>\n",
       "      <td>C/ BERLÍN, 38</td>\n",
       "      <td>Les Corts</td>\n",
       "    </tr>\n",
       "    <tr>\n",
       "      <th>4</th>\n",
       "      <td>201</td>\n",
       "      <td>2</td>\n",
       "      <td>0</td>\n",
       "      <td>2</td>\n",
       "      <td>22</td>\n",
       "      <td>IN_SERVICE</td>\n",
       "      <td>1</td>\n",
       "      <td>1</td>\n",
       "      <td>2023</td>\n",
       "      <td>1</td>\n",
       "      <td>...</td>\n",
       "      <td>2023-01-01</td>\n",
       "      <td>15</td>\n",
       "      <td>0.0</td>\n",
       "      <td>41.387806</td>\n",
       "      <td>2.134422</td>\n",
       "      <td>55.0</td>\n",
       "      <td>08029</td>\n",
       "      <td>24.0</td>\n",
       "      <td>C/ NUMÀNCIA, 136</td>\n",
       "      <td>Les Corts</td>\n",
       "    </tr>\n",
       "  </tbody>\n",
       "</table>\n",
       "<p>5 rows × 31 columns</p>\n",
       "</div>"
      ],
      "text/plain": [
       "   station_id  num_bikes_available  num_bikes_available_types.mechanical  \\\n",
       "0           1                   37                                    35   \n",
       "1         185                    9                                     4   \n",
       "2         188                   23                                    20   \n",
       "3         196                    6                                     1   \n",
       "4         201                    2                                     0   \n",
       "\n",
       "   num_bikes_available_types.ebike  num_docks_available      status  \\\n",
       "0                                2                    9  IN_SERVICE   \n",
       "1                                5                    8  IN_SERVICE   \n",
       "2                                3                    4  IN_SERVICE   \n",
       "3                                5                   21  IN_SERVICE   \n",
       "4                                2                   22  IN_SERVICE   \n",
       "\n",
       "   is_renting  is_returning  year  month  ...       date  temperature  \\\n",
       "0           1             1  2023      1  ... 2023-01-01           15   \n",
       "1           1             1  2023      1  ... 2023-01-01           15   \n",
       "2           1             1  2023      1  ... 2023-01-01           15   \n",
       "3           1             1  2023      1  ... 2023-01-01           15   \n",
       "4           1             1  2023      1  ... 2023-01-01           15   \n",
       "\n",
       "   rainfall        lat       lon altitude  post_code  capacity  \\\n",
       "0       0.0  41.397978  2.180107     16.0      08013      46.0   \n",
       "1       0.0  41.370372  2.138944     20.0      08014      17.0   \n",
       "2       0.0  41.375695  2.135857     30.0      08014      27.0   \n",
       "3       0.0  41.383261  2.139266     38.0      08029      27.0   \n",
       "4       0.0  41.387806  2.134422     55.0      08029      24.0   \n",
       "\n",
       "                         address        district  \n",
       "0  GRAN VIA CORTS CATALANES, 760        Eixample  \n",
       "1                     C/GAVÀ, 81  Sants-Montjuïc  \n",
       "2     PG. SANT ANTONI /PL. SANTS  Sants-Montjuïc  \n",
       "3                  C/ BERLÍN, 38       Les Corts  \n",
       "4               C/ NUMÀNCIA, 136       Les Corts  \n",
       "\n",
       "[5 rows x 31 columns]"
      ]
     },
     "execution_count": 11,
     "metadata": {},
     "output_type": "execute_result"
    }
   ],
   "source": [
    "columns_to_keep = ['station_id', 'num_bikes_available',\n",
    "                   'num_bikes_available_types.mechanical',\n",
    "                   'num_bikes_available_types.ebike', 'num_docks_available', 'status',\n",
    "                   'is_renting', 'is_returning', 'day_of_week', 'is_weekend', 'grouped_date',\n",
    "                   'docking_available', 'bikes_available', 'bikes_available.mechanical',\n",
    "                   'bikes_available.ebike', 'temperature', 'rainfall', 'lat', 'lon', 'post_code', 'altitude', 'capacity', 'year', 'month', 'day', 'hour','season'\n",
    "       'grouped_minute']\n",
    "\n",
    "df_2023_ml = df_2023_weather_station\n",
    "df_2023_ml.head()"
   ]
  },
  {
   "cell_type": "code",
   "execution_count": 12,
   "metadata": {},
   "outputs": [],
   "source": [
    "df_2023_ml[df_2023_ml['capacity'].isnull()]['station_id'].unique()\n",
    "#Station 520 missing information\n",
    "df_2023_ml = df_2023_ml[df_2023_ml['station_id'] != 520]"
   ]
  },
  {
   "cell_type": "code",
   "execution_count": 13,
   "metadata": {},
   "outputs": [
    {
     "data": {
      "text/plain": [
       "station_id                              0\n",
       "num_bikes_available                     0\n",
       "num_bikes_available_types.mechanical    0\n",
       "num_bikes_available_types.ebike         0\n",
       "num_docks_available                     0\n",
       "status                                  0\n",
       "is_renting                              0\n",
       "is_returning                            0\n",
       "year                                    0\n",
       "month                                   0\n",
       "day                                     0\n",
       "hour                                    0\n",
       "grouped_minute                          0\n",
       "day_of_week                             0\n",
       "is_weekend                              0\n",
       "grouped_date                            0\n",
       "docking_available                       0\n",
       "bikes_available                         0\n",
       "bikes_available.mechanical              0\n",
       "bikes_available.ebike                   0\n",
       "season                                  0\n",
       "date                                    0\n",
       "temperature                             0\n",
       "rainfall                                0\n",
       "lat                                     0\n",
       "lon                                     0\n",
       "altitude                                0\n",
       "post_code                               0\n",
       "capacity                                0\n",
       "address                                 0\n",
       "district                                0\n",
       "dtype: int64"
      ]
     },
     "execution_count": 13,
     "metadata": {},
     "output_type": "execute_result"
    }
   ],
   "source": [
    "df_2023_ml.isnull().sum()"
   ]
  },
  {
   "cell_type": "code",
   "execution_count": 14,
   "metadata": {},
   "outputs": [
    {
     "name": "stderr",
     "output_type": "stream",
     "text": [
      "/var/folders/1j/zxqksxbs0bg17c_9cj2hm8bh0000gn/T/ipykernel_92085/2227770550.py:1: SettingWithCopyWarning: \n",
      "A value is trying to be set on a copy of a slice from a DataFrame.\n",
      "Try using .loc[row_indexer,col_indexer] = value instead\n",
      "\n",
      "See the caveats in the documentation: https://pandas.pydata.org/pandas-docs/stable/user_guide/indexing.html#returning-a-view-versus-a-copy\n",
      "  df_2023_ml['grouped_date'] = pd.to_datetime(df_2023_ml['grouped_date'])\n"
     ]
    }
   ],
   "source": [
    "df_2023_ml['grouped_date'] = pd.to_datetime(df_2023_ml['grouped_date'])"
   ]
  },
  {
   "cell_type": "code",
   "execution_count": 15,
   "metadata": {},
   "outputs": [
    {
     "name": "stderr",
     "output_type": "stream",
     "text": [
      "/var/folders/1j/zxqksxbs0bg17c_9cj2hm8bh0000gn/T/ipykernel_92085/2482286237.py:2: FutureWarning: The behavior of 'isin' with dtype=datetime64[ns] and castable values (e.g. strings) is deprecated. In a future version, these will not be considered matching by isin. Explicitly cast to the appropriate dtype before calling isin instead.\n",
      "  df_2023_ml['is_holiday'] = df_2023_ml['grouped_date'].isin(holidays)\n",
      "/var/folders/1j/zxqksxbs0bg17c_9cj2hm8bh0000gn/T/ipykernel_92085/2482286237.py:2: SettingWithCopyWarning: \n",
      "A value is trying to be set on a copy of a slice from a DataFrame.\n",
      "Try using .loc[row_indexer,col_indexer] = value instead\n",
      "\n",
      "See the caveats in the documentation: https://pandas.pydata.org/pandas-docs/stable/user_guide/indexing.html#returning-a-view-versus-a-copy\n",
      "  df_2023_ml['is_holiday'] = df_2023_ml['grouped_date'].isin(holidays)\n"
     ]
    },
    {
     "data": {
      "text/plain": [
       "1935575    2023-01-06\n",
       "1935576    2023-01-06\n",
       "1935577    2023-01-06\n",
       "1935578    2023-01-06\n",
       "1935579    2023-01-06\n",
       "              ...    \n",
       "26002052   2023-09-11\n",
       "26002053   2023-09-11\n",
       "26002054   2023-09-11\n",
       "26002055   2023-09-11\n",
       "26002056   2023-09-11\n",
       "Name: grouped_date, Length: 8928, dtype: datetime64[ns]"
      ]
     },
     "execution_count": 15,
     "metadata": {},
     "output_type": "execute_result"
    }
   ],
   "source": [
    "holidays = ['01/06/2023', '04/07/2023', '04/10/2023', '05/01/2023', '06/24/2023', '08/15/2023', '09/11/2023', '10/12/2023', '11/01/2023', '12/06/2023', '12/08/2023', '12/25/2023', '12/26/2023']\n",
    "df_2023_ml['is_holiday'] = df_2023_ml['grouped_date'].isin(holidays)\n",
    "df_2023_ml[df_2023_ml['is_holiday'] == True]['grouped_date']"
   ]
  },
  {
   "cell_type": "code",
   "execution_count": 16,
   "metadata": {},
   "outputs": [
    {
     "name": "stderr",
     "output_type": "stream",
     "text": [
      "/var/folders/1j/zxqksxbs0bg17c_9cj2hm8bh0000gn/T/ipykernel_92085/150156111.py:1: SettingWithCopyWarning: \n",
      "A value is trying to be set on a copy of a slice from a DataFrame.\n",
      "Try using .loc[row_indexer,col_indexer] = value instead\n",
      "\n",
      "See the caveats in the documentation: https://pandas.pydata.org/pandas-docs/stable/user_guide/indexing.html#returning-a-view-versus-a-copy\n",
      "  df_2023_ml['percentage_docks_available'] = df_2023_ml['num_docks_available'] / df_2023_ml['capacity']\n"
     ]
    },
    {
     "data": {
      "text/html": [
       "<div>\n",
       "<style scoped>\n",
       "    .dataframe tbody tr th:only-of-type {\n",
       "        vertical-align: middle;\n",
       "    }\n",
       "\n",
       "    .dataframe tbody tr th {\n",
       "        vertical-align: top;\n",
       "    }\n",
       "\n",
       "    .dataframe thead th {\n",
       "        text-align: right;\n",
       "    }\n",
       "</style>\n",
       "<table border=\"1\" class=\"dataframe\">\n",
       "  <thead>\n",
       "    <tr style=\"text-align: right;\">\n",
       "      <th></th>\n",
       "      <th>station_id</th>\n",
       "      <th>num_bikes_available</th>\n",
       "      <th>num_bikes_available_types.mechanical</th>\n",
       "      <th>num_bikes_available_types.ebike</th>\n",
       "      <th>num_docks_available</th>\n",
       "      <th>status</th>\n",
       "      <th>is_renting</th>\n",
       "      <th>is_returning</th>\n",
       "      <th>year</th>\n",
       "      <th>month</th>\n",
       "      <th>...</th>\n",
       "      <th>rainfall</th>\n",
       "      <th>lat</th>\n",
       "      <th>lon</th>\n",
       "      <th>altitude</th>\n",
       "      <th>post_code</th>\n",
       "      <th>capacity</th>\n",
       "      <th>address</th>\n",
       "      <th>district</th>\n",
       "      <th>is_holiday</th>\n",
       "      <th>percentage_docks_available</th>\n",
       "    </tr>\n",
       "  </thead>\n",
       "  <tbody>\n",
       "    <tr>\n",
       "      <th>0</th>\n",
       "      <td>1</td>\n",
       "      <td>37</td>\n",
       "      <td>35</td>\n",
       "      <td>2</td>\n",
       "      <td>9</td>\n",
       "      <td>IN_SERVICE</td>\n",
       "      <td>1</td>\n",
       "      <td>1</td>\n",
       "      <td>2023</td>\n",
       "      <td>1</td>\n",
       "      <td>...</td>\n",
       "      <td>0.0</td>\n",
       "      <td>41.397978</td>\n",
       "      <td>2.180107</td>\n",
       "      <td>16.0</td>\n",
       "      <td>08013</td>\n",
       "      <td>46.0</td>\n",
       "      <td>GRAN VIA CORTS CATALANES, 760</td>\n",
       "      <td>Eixample</td>\n",
       "      <td>False</td>\n",
       "      <td>0.195652</td>\n",
       "    </tr>\n",
       "    <tr>\n",
       "      <th>1</th>\n",
       "      <td>185</td>\n",
       "      <td>9</td>\n",
       "      <td>4</td>\n",
       "      <td>5</td>\n",
       "      <td>8</td>\n",
       "      <td>IN_SERVICE</td>\n",
       "      <td>1</td>\n",
       "      <td>1</td>\n",
       "      <td>2023</td>\n",
       "      <td>1</td>\n",
       "      <td>...</td>\n",
       "      <td>0.0</td>\n",
       "      <td>41.370372</td>\n",
       "      <td>2.138944</td>\n",
       "      <td>20.0</td>\n",
       "      <td>08014</td>\n",
       "      <td>17.0</td>\n",
       "      <td>C/GAVÀ, 81</td>\n",
       "      <td>Sants-Montjuïc</td>\n",
       "      <td>False</td>\n",
       "      <td>0.470588</td>\n",
       "    </tr>\n",
       "    <tr>\n",
       "      <th>2</th>\n",
       "      <td>188</td>\n",
       "      <td>23</td>\n",
       "      <td>20</td>\n",
       "      <td>3</td>\n",
       "      <td>4</td>\n",
       "      <td>IN_SERVICE</td>\n",
       "      <td>1</td>\n",
       "      <td>1</td>\n",
       "      <td>2023</td>\n",
       "      <td>1</td>\n",
       "      <td>...</td>\n",
       "      <td>0.0</td>\n",
       "      <td>41.375695</td>\n",
       "      <td>2.135857</td>\n",
       "      <td>30.0</td>\n",
       "      <td>08014</td>\n",
       "      <td>27.0</td>\n",
       "      <td>PG. SANT ANTONI /PL. SANTS</td>\n",
       "      <td>Sants-Montjuïc</td>\n",
       "      <td>False</td>\n",
       "      <td>0.148148</td>\n",
       "    </tr>\n",
       "    <tr>\n",
       "      <th>3</th>\n",
       "      <td>196</td>\n",
       "      <td>6</td>\n",
       "      <td>1</td>\n",
       "      <td>5</td>\n",
       "      <td>21</td>\n",
       "      <td>IN_SERVICE</td>\n",
       "      <td>1</td>\n",
       "      <td>1</td>\n",
       "      <td>2023</td>\n",
       "      <td>1</td>\n",
       "      <td>...</td>\n",
       "      <td>0.0</td>\n",
       "      <td>41.383261</td>\n",
       "      <td>2.139266</td>\n",
       "      <td>38.0</td>\n",
       "      <td>08029</td>\n",
       "      <td>27.0</td>\n",
       "      <td>C/ BERLÍN, 38</td>\n",
       "      <td>Les Corts</td>\n",
       "      <td>False</td>\n",
       "      <td>0.777778</td>\n",
       "    </tr>\n",
       "    <tr>\n",
       "      <th>4</th>\n",
       "      <td>201</td>\n",
       "      <td>2</td>\n",
       "      <td>0</td>\n",
       "      <td>2</td>\n",
       "      <td>22</td>\n",
       "      <td>IN_SERVICE</td>\n",
       "      <td>1</td>\n",
       "      <td>1</td>\n",
       "      <td>2023</td>\n",
       "      <td>1</td>\n",
       "      <td>...</td>\n",
       "      <td>0.0</td>\n",
       "      <td>41.387806</td>\n",
       "      <td>2.134422</td>\n",
       "      <td>55.0</td>\n",
       "      <td>08029</td>\n",
       "      <td>24.0</td>\n",
       "      <td>C/ NUMÀNCIA, 136</td>\n",
       "      <td>Les Corts</td>\n",
       "      <td>False</td>\n",
       "      <td>0.916667</td>\n",
       "    </tr>\n",
       "  </tbody>\n",
       "</table>\n",
       "<p>5 rows × 33 columns</p>\n",
       "</div>"
      ],
      "text/plain": [
       "   station_id  num_bikes_available  num_bikes_available_types.mechanical  \\\n",
       "0           1                   37                                    35   \n",
       "1         185                    9                                     4   \n",
       "2         188                   23                                    20   \n",
       "3         196                    6                                     1   \n",
       "4         201                    2                                     0   \n",
       "\n",
       "   num_bikes_available_types.ebike  num_docks_available      status  \\\n",
       "0                                2                    9  IN_SERVICE   \n",
       "1                                5                    8  IN_SERVICE   \n",
       "2                                3                    4  IN_SERVICE   \n",
       "3                                5                   21  IN_SERVICE   \n",
       "4                                2                   22  IN_SERVICE   \n",
       "\n",
       "   is_renting  is_returning  year  month  ...  rainfall        lat       lon  \\\n",
       "0           1             1  2023      1  ...       0.0  41.397978  2.180107   \n",
       "1           1             1  2023      1  ...       0.0  41.370372  2.138944   \n",
       "2           1             1  2023      1  ...       0.0  41.375695  2.135857   \n",
       "3           1             1  2023      1  ...       0.0  41.383261  2.139266   \n",
       "4           1             1  2023      1  ...       0.0  41.387806  2.134422   \n",
       "\n",
       "   altitude  post_code capacity                        address  \\\n",
       "0      16.0      08013     46.0  GRAN VIA CORTS CATALANES, 760   \n",
       "1      20.0      08014     17.0                     C/GAVÀ, 81   \n",
       "2      30.0      08014     27.0     PG. SANT ANTONI /PL. SANTS   \n",
       "3      38.0      08029     27.0                  C/ BERLÍN, 38   \n",
       "4      55.0      08029     24.0               C/ NUMÀNCIA, 136   \n",
       "\n",
       "         district  is_holiday  percentage_docks_available  \n",
       "0        Eixample       False                    0.195652  \n",
       "1  Sants-Montjuïc       False                    0.470588  \n",
       "2  Sants-Montjuïc       False                    0.148148  \n",
       "3       Les Corts       False                    0.777778  \n",
       "4       Les Corts       False                    0.916667  \n",
       "\n",
       "[5 rows x 33 columns]"
      ]
     },
     "execution_count": 16,
     "metadata": {},
     "output_type": "execute_result"
    }
   ],
   "source": [
    "df_2023_ml['percentage_docks_available'] = df_2023_ml['num_docks_available'] / df_2023_ml['capacity']\n",
    "df_2023_ml.head(5)"
   ]
  },
  {
   "cell_type": "code",
   "execution_count": 17,
   "metadata": {},
   "outputs": [
    {
     "name": "stderr",
     "output_type": "stream",
     "text": [
      "/var/folders/1j/zxqksxbs0bg17c_9cj2hm8bh0000gn/T/ipykernel_92085/1510188512.py:1: SettingWithCopyWarning: \n",
      "A value is trying to be set on a copy of a slice from a DataFrame.\n",
      "Try using .loc[row_indexer,col_indexer] = value instead\n",
      "\n",
      "See the caveats in the documentation: https://pandas.pydata.org/pandas-docs/stable/user_guide/indexing.html#returning-a-view-versus-a-copy\n",
      "  df_2023_ml['is_summer'] = df_2023_ml['season'] == 'Summer'\n"
     ]
    }
   ],
   "source": [
    "df_2023_ml['is_summer'] = df_2023_ml['season'] == 'Summer'"
   ]
  },
  {
   "cell_type": "code",
   "execution_count": 18,
   "metadata": {},
   "outputs": [
    {
     "name": "stderr",
     "output_type": "stream",
     "text": [
      "/var/folders/1j/zxqksxbs0bg17c_9cj2hm8bh0000gn/T/ipykernel_92085/3535076674.py:1: SettingWithCopyWarning: \n",
      "A value is trying to be set on a copy of a slice from a DataFrame.\n",
      "Try using .loc[row_indexer,col_indexer] = value instead\n",
      "\n",
      "See the caveats in the documentation: https://pandas.pydata.org/pandas-docs/stable/user_guide/indexing.html#returning-a-view-versus-a-copy\n",
      "  df_2023_ml['week_number'] = df_2023_ml['grouped_date'].dt.isocalendar().week\n"
     ]
    }
   ],
   "source": [
    "df_2023_ml['week_number'] = df_2023_ml['grouped_date'].dt.isocalendar().week"
   ]
  },
  {
   "cell_type": "code",
   "execution_count": 19,
   "metadata": {},
   "outputs": [],
   "source": [
    "#filter stations if needed\n",
    "stations_ids = df_2023_ml['station_id'].unique()\n",
    "# get 5 random stations\n",
    "import random\n",
    "filter_stations = random.sample(list(stations_ids), 5)\n",
    "#filter_stations = [57, 446]\n",
    "filter_stations = [57, 32, 31, 378, 446]\n",
    "filter_stations = [57]\n",
    "df_a = df_2023_ml[df_2023_ml['station_id'].isin(filter_stations)]\n",
    "#df_a = df_2023_ml"
   ]
  },
  {
   "cell_type": "code",
   "execution_count": 20,
   "metadata": {},
   "outputs": [
    {
     "name": "stderr",
     "output_type": "stream",
     "text": [
      "/var/folders/1j/zxqksxbs0bg17c_9cj2hm8bh0000gn/T/ipykernel_92085/2186909490.py:2: SettingWithCopyWarning: \n",
      "A value is trying to be set on a copy of a slice from a DataFrame\n",
      "\n",
      "See the caveats in the documentation: https://pandas.pydata.org/pandas-docs/stable/user_guide/indexing.html#returning-a-view-versus-a-copy\n",
      "  df_a.drop_duplicates(inplace=True)\n"
     ]
    },
    {
     "data": {
      "text/plain": [
       "48409"
      ]
     },
     "execution_count": 20,
     "metadata": {},
     "output_type": "execute_result"
    }
   ],
   "source": [
    "len(df_a)\n",
    "df_a.drop_duplicates(inplace=True)\n",
    "len(df_a)\n",
    "#48409"
   ]
  },
  {
   "cell_type": "code",
   "execution_count": 21,
   "metadata": {},
   "outputs": [
    {
     "name": "stdout",
     "output_type": "stream",
     "text": [
      "48409\n",
      "48409\n"
     ]
    },
    {
     "data": {
      "text/plain": [
       "day_of_week          0\n",
       "hour                 0\n",
       "grouped_minute       0\n",
       "temperature          0\n",
       "rainfall             0\n",
       "capacity             0\n",
       "altitude             0\n",
       "is_weekend           0\n",
       "season               0\n",
       "month                0\n",
       "docking_available    0\n",
       "dtype: int64"
      ]
     },
     "execution_count": 21,
     "metadata": {},
     "output_type": "execute_result"
    }
   ],
   "source": [
    "df_lstm = df_a.copy()\n",
    "\n",
    "features = ['day_of_week', 'hour', 'grouped_minute', 'temperature', 'rainfall',\n",
    "            'capacity',  'altitude', 'is_weekend', 'season', 'month','docking_available']\n",
    "df_lstm = df_lstm[features]\n",
    "print(len(df_lstm))\n",
    "df_lstm.dropna(inplace=True)\n",
    "print(len(df_lstm))\n",
    "df_lstm.isna().sum()"
   ]
  },
  {
   "cell_type": "markdown",
   "metadata": {},
   "source": [
    "# LSTM - Percentage Binary"
   ]
  },
  {
   "cell_type": "code",
   "execution_count": 24,
   "metadata": {},
   "outputs": [
    {
     "name": "stderr",
     "output_type": "stream",
     "text": [
      "/Users/sol/Library/Python/3.9/lib/python/site-packages/keras/src/layers/rnn/rnn.py:204: UserWarning: Do not pass an `input_shape`/`input_dim` argument to a layer. When using Sequential models, prefer using an `Input(shape)` object as the first layer in the model instead.\n",
      "  super().__init__(**kwargs)\n",
      "/Users/sol/Library/Python/3.9/lib/python/site-packages/keras/src/layers/activations/leaky_relu.py:41: UserWarning: Argument `alpha` is deprecated. Use `negative_slope` instead.\n",
      "  warnings.warn(\n"
     ]
    },
    {
     "name": "stdout",
     "output_type": "stream",
     "text": [
      "Epoch 1/12\n",
      "\u001b[1m968/968\u001b[0m \u001b[32m━━━━━━━━━━━━━━━━━━━━\u001b[0m\u001b[37m\u001b[0m \u001b[1m125s\u001b[0m 127ms/step - accuracy: 0.7483 - loss: 0.5597 - val_accuracy: 0.7525 - val_loss: 0.5244\n",
      "Epoch 2/12\n",
      "\u001b[1m126/968\u001b[0m \u001b[32m━━\u001b[0m\u001b[37m━━━━━━━━━━━━━━━━━━\u001b[0m \u001b[1m1:44\u001b[0m 124ms/step - accuracy: 0.7442 - loss: 0.5304"
     ]
    },
    {
     "ename": "KeyboardInterrupt",
     "evalue": "",
     "output_type": "error",
     "traceback": [
      "\u001b[0;31m---------------------------------------------------------------------------\u001b[0m",
      "\u001b[0;31mKeyboardInterrupt\u001b[0m                         Traceback (most recent call last)",
      "Cell \u001b[0;32mIn[24], line 74\u001b[0m\n\u001b[1;32m     71\u001b[0m y_test_encoded \u001b[38;5;241m=\u001b[39m to_categorical(y_test)\n\u001b[1;32m     73\u001b[0m \u001b[38;5;66;03m# Train the model\u001b[39;00m\n\u001b[0;32m---> 74\u001b[0m history \u001b[38;5;241m=\u001b[39m \u001b[43mmodel\u001b[49m\u001b[38;5;241;43m.\u001b[39;49m\u001b[43mfit\u001b[49m\u001b[43m(\u001b[49m\u001b[43mX_train\u001b[49m\u001b[43m,\u001b[49m\u001b[43m \u001b[49m\u001b[43my_train_encoded\u001b[49m\u001b[43m,\u001b[49m\u001b[43m \u001b[49m\u001b[43mepochs\u001b[49m\u001b[38;5;241;43m=\u001b[39;49m\u001b[38;5;241;43m12\u001b[39;49m\u001b[43m,\u001b[49m\u001b[43m \u001b[49m\u001b[43mbatch_size\u001b[49m\u001b[38;5;241;43m=\u001b[39;49m\u001b[38;5;241;43m32\u001b[39;49m\u001b[43m,\u001b[49m\u001b[43m \u001b[49m\u001b[43mvalidation_split\u001b[49m\u001b[38;5;241;43m=\u001b[39;49m\u001b[38;5;241;43m0.2\u001b[39;49m\u001b[43m)\u001b[49m\n\u001b[1;32m     76\u001b[0m y_test_encoded \u001b[38;5;241m=\u001b[39m to_categorical(y_test)\n\u001b[1;32m     77\u001b[0m \u001b[38;5;66;03m# Evaluate the model\u001b[39;00m\n",
      "File \u001b[0;32m~/Library/Python/3.9/lib/python/site-packages/keras/src/utils/traceback_utils.py:117\u001b[0m, in \u001b[0;36mfilter_traceback.<locals>.error_handler\u001b[0;34m(*args, **kwargs)\u001b[0m\n\u001b[1;32m    115\u001b[0m filtered_tb \u001b[38;5;241m=\u001b[39m \u001b[38;5;28;01mNone\u001b[39;00m\n\u001b[1;32m    116\u001b[0m \u001b[38;5;28;01mtry\u001b[39;00m:\n\u001b[0;32m--> 117\u001b[0m     \u001b[38;5;28;01mreturn\u001b[39;00m \u001b[43mfn\u001b[49m\u001b[43m(\u001b[49m\u001b[38;5;241;43m*\u001b[39;49m\u001b[43margs\u001b[49m\u001b[43m,\u001b[49m\u001b[43m \u001b[49m\u001b[38;5;241;43m*\u001b[39;49m\u001b[38;5;241;43m*\u001b[39;49m\u001b[43mkwargs\u001b[49m\u001b[43m)\u001b[49m\n\u001b[1;32m    118\u001b[0m \u001b[38;5;28;01mexcept\u001b[39;00m \u001b[38;5;167;01mException\u001b[39;00m \u001b[38;5;28;01mas\u001b[39;00m e:\n\u001b[1;32m    119\u001b[0m     filtered_tb \u001b[38;5;241m=\u001b[39m _process_traceback_frames(e\u001b[38;5;241m.\u001b[39m__traceback__)\n",
      "File \u001b[0;32m~/Library/Python/3.9/lib/python/site-packages/keras/src/backend/tensorflow/trainer.py:318\u001b[0m, in \u001b[0;36mTensorFlowTrainer.fit\u001b[0;34m(self, x, y, batch_size, epochs, verbose, callbacks, validation_split, validation_data, shuffle, class_weight, sample_weight, initial_epoch, steps_per_epoch, validation_steps, validation_batch_size, validation_freq)\u001b[0m\n\u001b[1;32m    316\u001b[0m \u001b[38;5;28;01mfor\u001b[39;00m step, iterator \u001b[38;5;129;01min\u001b[39;00m epoch_iterator\u001b[38;5;241m.\u001b[39menumerate_epoch():\n\u001b[1;32m    317\u001b[0m     callbacks\u001b[38;5;241m.\u001b[39mon_train_batch_begin(step)\n\u001b[0;32m--> 318\u001b[0m     logs \u001b[38;5;241m=\u001b[39m \u001b[38;5;28;43mself\u001b[39;49m\u001b[38;5;241;43m.\u001b[39;49m\u001b[43mtrain_function\u001b[49m\u001b[43m(\u001b[49m\u001b[43miterator\u001b[49m\u001b[43m)\u001b[49m\n\u001b[1;32m    319\u001b[0m     logs \u001b[38;5;241m=\u001b[39m \u001b[38;5;28mself\u001b[39m\u001b[38;5;241m.\u001b[39m_pythonify_logs(logs)\n\u001b[1;32m    320\u001b[0m     callbacks\u001b[38;5;241m.\u001b[39mon_train_batch_end(step, logs)\n",
      "File \u001b[0;32m~/Library/Python/3.9/lib/python/site-packages/tensorflow/python/util/traceback_utils.py:150\u001b[0m, in \u001b[0;36mfilter_traceback.<locals>.error_handler\u001b[0;34m(*args, **kwargs)\u001b[0m\n\u001b[1;32m    148\u001b[0m filtered_tb \u001b[38;5;241m=\u001b[39m \u001b[38;5;28;01mNone\u001b[39;00m\n\u001b[1;32m    149\u001b[0m \u001b[38;5;28;01mtry\u001b[39;00m:\n\u001b[0;32m--> 150\u001b[0m   \u001b[38;5;28;01mreturn\u001b[39;00m \u001b[43mfn\u001b[49m\u001b[43m(\u001b[49m\u001b[38;5;241;43m*\u001b[39;49m\u001b[43margs\u001b[49m\u001b[43m,\u001b[49m\u001b[43m \u001b[49m\u001b[38;5;241;43m*\u001b[39;49m\u001b[38;5;241;43m*\u001b[39;49m\u001b[43mkwargs\u001b[49m\u001b[43m)\u001b[49m\n\u001b[1;32m    151\u001b[0m \u001b[38;5;28;01mexcept\u001b[39;00m \u001b[38;5;167;01mException\u001b[39;00m \u001b[38;5;28;01mas\u001b[39;00m e:\n\u001b[1;32m    152\u001b[0m   filtered_tb \u001b[38;5;241m=\u001b[39m _process_traceback_frames(e\u001b[38;5;241m.\u001b[39m__traceback__)\n",
      "File \u001b[0;32m~/Library/Python/3.9/lib/python/site-packages/tensorflow/python/eager/polymorphic_function/polymorphic_function.py:833\u001b[0m, in \u001b[0;36mFunction.__call__\u001b[0;34m(self, *args, **kwds)\u001b[0m\n\u001b[1;32m    830\u001b[0m compiler \u001b[38;5;241m=\u001b[39m \u001b[38;5;124m\"\u001b[39m\u001b[38;5;124mxla\u001b[39m\u001b[38;5;124m\"\u001b[39m \u001b[38;5;28;01mif\u001b[39;00m \u001b[38;5;28mself\u001b[39m\u001b[38;5;241m.\u001b[39m_jit_compile \u001b[38;5;28;01melse\u001b[39;00m \u001b[38;5;124m\"\u001b[39m\u001b[38;5;124mnonXla\u001b[39m\u001b[38;5;124m\"\u001b[39m\n\u001b[1;32m    832\u001b[0m \u001b[38;5;28;01mwith\u001b[39;00m OptionalXlaContext(\u001b[38;5;28mself\u001b[39m\u001b[38;5;241m.\u001b[39m_jit_compile):\n\u001b[0;32m--> 833\u001b[0m   result \u001b[38;5;241m=\u001b[39m \u001b[38;5;28;43mself\u001b[39;49m\u001b[38;5;241;43m.\u001b[39;49m\u001b[43m_call\u001b[49m\u001b[43m(\u001b[49m\u001b[38;5;241;43m*\u001b[39;49m\u001b[43margs\u001b[49m\u001b[43m,\u001b[49m\u001b[43m \u001b[49m\u001b[38;5;241;43m*\u001b[39;49m\u001b[38;5;241;43m*\u001b[39;49m\u001b[43mkwds\u001b[49m\u001b[43m)\u001b[49m\n\u001b[1;32m    835\u001b[0m new_tracing_count \u001b[38;5;241m=\u001b[39m \u001b[38;5;28mself\u001b[39m\u001b[38;5;241m.\u001b[39mexperimental_get_tracing_count()\n\u001b[1;32m    836\u001b[0m without_tracing \u001b[38;5;241m=\u001b[39m (tracing_count \u001b[38;5;241m==\u001b[39m new_tracing_count)\n",
      "File \u001b[0;32m~/Library/Python/3.9/lib/python/site-packages/tensorflow/python/eager/polymorphic_function/polymorphic_function.py:878\u001b[0m, in \u001b[0;36mFunction._call\u001b[0;34m(self, *args, **kwds)\u001b[0m\n\u001b[1;32m    875\u001b[0m \u001b[38;5;28mself\u001b[39m\u001b[38;5;241m.\u001b[39m_lock\u001b[38;5;241m.\u001b[39mrelease()\n\u001b[1;32m    876\u001b[0m \u001b[38;5;66;03m# In this case we have not created variables on the first call. So we can\u001b[39;00m\n\u001b[1;32m    877\u001b[0m \u001b[38;5;66;03m# run the first trace but we should fail if variables are created.\u001b[39;00m\n\u001b[0;32m--> 878\u001b[0m results \u001b[38;5;241m=\u001b[39m \u001b[43mtracing_compilation\u001b[49m\u001b[38;5;241;43m.\u001b[39;49m\u001b[43mcall_function\u001b[49m\u001b[43m(\u001b[49m\n\u001b[1;32m    879\u001b[0m \u001b[43m    \u001b[49m\u001b[43margs\u001b[49m\u001b[43m,\u001b[49m\u001b[43m \u001b[49m\u001b[43mkwds\u001b[49m\u001b[43m,\u001b[49m\u001b[43m \u001b[49m\u001b[38;5;28;43mself\u001b[39;49m\u001b[38;5;241;43m.\u001b[39;49m\u001b[43m_variable_creation_config\u001b[49m\n\u001b[1;32m    880\u001b[0m \u001b[43m\u001b[49m\u001b[43m)\u001b[49m\n\u001b[1;32m    881\u001b[0m \u001b[38;5;28;01mif\u001b[39;00m \u001b[38;5;28mself\u001b[39m\u001b[38;5;241m.\u001b[39m_created_variables:\n\u001b[1;32m    882\u001b[0m   \u001b[38;5;28;01mraise\u001b[39;00m \u001b[38;5;167;01mValueError\u001b[39;00m(\u001b[38;5;124m\"\u001b[39m\u001b[38;5;124mCreating variables on a non-first call to a function\u001b[39m\u001b[38;5;124m\"\u001b[39m\n\u001b[1;32m    883\u001b[0m                    \u001b[38;5;124m\"\u001b[39m\u001b[38;5;124m decorated with tf.function.\u001b[39m\u001b[38;5;124m\"\u001b[39m)\n",
      "File \u001b[0;32m~/Library/Python/3.9/lib/python/site-packages/tensorflow/python/eager/polymorphic_function/tracing_compilation.py:139\u001b[0m, in \u001b[0;36mcall_function\u001b[0;34m(args, kwargs, tracing_options)\u001b[0m\n\u001b[1;32m    137\u001b[0m bound_args \u001b[38;5;241m=\u001b[39m function\u001b[38;5;241m.\u001b[39mfunction_type\u001b[38;5;241m.\u001b[39mbind(\u001b[38;5;241m*\u001b[39margs, \u001b[38;5;241m*\u001b[39m\u001b[38;5;241m*\u001b[39mkwargs)\n\u001b[1;32m    138\u001b[0m flat_inputs \u001b[38;5;241m=\u001b[39m function\u001b[38;5;241m.\u001b[39mfunction_type\u001b[38;5;241m.\u001b[39munpack_inputs(bound_args)\n\u001b[0;32m--> 139\u001b[0m \u001b[38;5;28;01mreturn\u001b[39;00m \u001b[43mfunction\u001b[49m\u001b[38;5;241;43m.\u001b[39;49m\u001b[43m_call_flat\u001b[49m\u001b[43m(\u001b[49m\u001b[43m  \u001b[49m\u001b[38;5;66;43;03m# pylint: disable=protected-access\u001b[39;49;00m\n\u001b[1;32m    140\u001b[0m \u001b[43m    \u001b[49m\u001b[43mflat_inputs\u001b[49m\u001b[43m,\u001b[49m\u001b[43m \u001b[49m\u001b[43mcaptured_inputs\u001b[49m\u001b[38;5;241;43m=\u001b[39;49m\u001b[43mfunction\u001b[49m\u001b[38;5;241;43m.\u001b[39;49m\u001b[43mcaptured_inputs\u001b[49m\n\u001b[1;32m    141\u001b[0m \u001b[43m\u001b[49m\u001b[43m)\u001b[49m\n",
      "File \u001b[0;32m~/Library/Python/3.9/lib/python/site-packages/tensorflow/python/eager/polymorphic_function/concrete_function.py:1322\u001b[0m, in \u001b[0;36mConcreteFunction._call_flat\u001b[0;34m(self, tensor_inputs, captured_inputs)\u001b[0m\n\u001b[1;32m   1318\u001b[0m possible_gradient_type \u001b[38;5;241m=\u001b[39m gradients_util\u001b[38;5;241m.\u001b[39mPossibleTapeGradientTypes(args)\n\u001b[1;32m   1319\u001b[0m \u001b[38;5;28;01mif\u001b[39;00m (possible_gradient_type \u001b[38;5;241m==\u001b[39m gradients_util\u001b[38;5;241m.\u001b[39mPOSSIBLE_GRADIENT_TYPES_NONE\n\u001b[1;32m   1320\u001b[0m     \u001b[38;5;129;01mand\u001b[39;00m executing_eagerly):\n\u001b[1;32m   1321\u001b[0m   \u001b[38;5;66;03m# No tape is watching; skip to running the function.\u001b[39;00m\n\u001b[0;32m-> 1322\u001b[0m   \u001b[38;5;28;01mreturn\u001b[39;00m \u001b[38;5;28;43mself\u001b[39;49m\u001b[38;5;241;43m.\u001b[39;49m\u001b[43m_inference_function\u001b[49m\u001b[38;5;241;43m.\u001b[39;49m\u001b[43mcall_preflattened\u001b[49m\u001b[43m(\u001b[49m\u001b[43margs\u001b[49m\u001b[43m)\u001b[49m\n\u001b[1;32m   1323\u001b[0m forward_backward \u001b[38;5;241m=\u001b[39m \u001b[38;5;28mself\u001b[39m\u001b[38;5;241m.\u001b[39m_select_forward_and_backward_functions(\n\u001b[1;32m   1324\u001b[0m     args,\n\u001b[1;32m   1325\u001b[0m     possible_gradient_type,\n\u001b[1;32m   1326\u001b[0m     executing_eagerly)\n\u001b[1;32m   1327\u001b[0m forward_function, args_with_tangents \u001b[38;5;241m=\u001b[39m forward_backward\u001b[38;5;241m.\u001b[39mforward()\n",
      "File \u001b[0;32m~/Library/Python/3.9/lib/python/site-packages/tensorflow/python/eager/polymorphic_function/atomic_function.py:216\u001b[0m, in \u001b[0;36mAtomicFunction.call_preflattened\u001b[0;34m(self, args)\u001b[0m\n\u001b[1;32m    214\u001b[0m \u001b[38;5;28;01mdef\u001b[39;00m \u001b[38;5;21mcall_preflattened\u001b[39m(\u001b[38;5;28mself\u001b[39m, args: Sequence[core\u001b[38;5;241m.\u001b[39mTensor]) \u001b[38;5;241m-\u001b[39m\u001b[38;5;241m>\u001b[39m Any:\n\u001b[1;32m    215\u001b[0m \u001b[38;5;250m  \u001b[39m\u001b[38;5;124;03m\"\"\"Calls with flattened tensor inputs and returns the structured output.\"\"\"\u001b[39;00m\n\u001b[0;32m--> 216\u001b[0m   flat_outputs \u001b[38;5;241m=\u001b[39m \u001b[38;5;28;43mself\u001b[39;49m\u001b[38;5;241;43m.\u001b[39;49m\u001b[43mcall_flat\u001b[49m\u001b[43m(\u001b[49m\u001b[38;5;241;43m*\u001b[39;49m\u001b[43margs\u001b[49m\u001b[43m)\u001b[49m\n\u001b[1;32m    217\u001b[0m   \u001b[38;5;28;01mreturn\u001b[39;00m \u001b[38;5;28mself\u001b[39m\u001b[38;5;241m.\u001b[39mfunction_type\u001b[38;5;241m.\u001b[39mpack_output(flat_outputs)\n",
      "File \u001b[0;32m~/Library/Python/3.9/lib/python/site-packages/tensorflow/python/eager/polymorphic_function/atomic_function.py:251\u001b[0m, in \u001b[0;36mAtomicFunction.call_flat\u001b[0;34m(self, *args)\u001b[0m\n\u001b[1;32m    249\u001b[0m \u001b[38;5;28;01mwith\u001b[39;00m record\u001b[38;5;241m.\u001b[39mstop_recording():\n\u001b[1;32m    250\u001b[0m   \u001b[38;5;28;01mif\u001b[39;00m \u001b[38;5;28mself\u001b[39m\u001b[38;5;241m.\u001b[39m_bound_context\u001b[38;5;241m.\u001b[39mexecuting_eagerly():\n\u001b[0;32m--> 251\u001b[0m     outputs \u001b[38;5;241m=\u001b[39m \u001b[38;5;28;43mself\u001b[39;49m\u001b[38;5;241;43m.\u001b[39;49m\u001b[43m_bound_context\u001b[49m\u001b[38;5;241;43m.\u001b[39;49m\u001b[43mcall_function\u001b[49m\u001b[43m(\u001b[49m\n\u001b[1;32m    252\u001b[0m \u001b[43m        \u001b[49m\u001b[38;5;28;43mself\u001b[39;49m\u001b[38;5;241;43m.\u001b[39;49m\u001b[43mname\u001b[49m\u001b[43m,\u001b[49m\n\u001b[1;32m    253\u001b[0m \u001b[43m        \u001b[49m\u001b[38;5;28;43mlist\u001b[39;49m\u001b[43m(\u001b[49m\u001b[43margs\u001b[49m\u001b[43m)\u001b[49m\u001b[43m,\u001b[49m\n\u001b[1;32m    254\u001b[0m \u001b[43m        \u001b[49m\u001b[38;5;28;43mlen\u001b[39;49m\u001b[43m(\u001b[49m\u001b[38;5;28;43mself\u001b[39;49m\u001b[38;5;241;43m.\u001b[39;49m\u001b[43mfunction_type\u001b[49m\u001b[38;5;241;43m.\u001b[39;49m\u001b[43mflat_outputs\u001b[49m\u001b[43m)\u001b[49m\u001b[43m,\u001b[49m\n\u001b[1;32m    255\u001b[0m \u001b[43m    \u001b[49m\u001b[43m)\u001b[49m\n\u001b[1;32m    256\u001b[0m   \u001b[38;5;28;01melse\u001b[39;00m:\n\u001b[1;32m    257\u001b[0m     outputs \u001b[38;5;241m=\u001b[39m make_call_op_in_graph(\n\u001b[1;32m    258\u001b[0m         \u001b[38;5;28mself\u001b[39m,\n\u001b[1;32m    259\u001b[0m         \u001b[38;5;28mlist\u001b[39m(args),\n\u001b[1;32m    260\u001b[0m         \u001b[38;5;28mself\u001b[39m\u001b[38;5;241m.\u001b[39m_bound_context\u001b[38;5;241m.\u001b[39mfunction_call_options\u001b[38;5;241m.\u001b[39mas_attrs(),\n\u001b[1;32m    261\u001b[0m     )\n",
      "File \u001b[0;32m~/Library/Python/3.9/lib/python/site-packages/tensorflow/python/eager/context.py:1500\u001b[0m, in \u001b[0;36mContext.call_function\u001b[0;34m(self, name, tensor_inputs, num_outputs)\u001b[0m\n\u001b[1;32m   1498\u001b[0m cancellation_context \u001b[38;5;241m=\u001b[39m cancellation\u001b[38;5;241m.\u001b[39mcontext()\n\u001b[1;32m   1499\u001b[0m \u001b[38;5;28;01mif\u001b[39;00m cancellation_context \u001b[38;5;129;01mis\u001b[39;00m \u001b[38;5;28;01mNone\u001b[39;00m:\n\u001b[0;32m-> 1500\u001b[0m   outputs \u001b[38;5;241m=\u001b[39m \u001b[43mexecute\u001b[49m\u001b[38;5;241;43m.\u001b[39;49m\u001b[43mexecute\u001b[49m\u001b[43m(\u001b[49m\n\u001b[1;32m   1501\u001b[0m \u001b[43m      \u001b[49m\u001b[43mname\u001b[49m\u001b[38;5;241;43m.\u001b[39;49m\u001b[43mdecode\u001b[49m\u001b[43m(\u001b[49m\u001b[38;5;124;43m\"\u001b[39;49m\u001b[38;5;124;43mutf-8\u001b[39;49m\u001b[38;5;124;43m\"\u001b[39;49m\u001b[43m)\u001b[49m\u001b[43m,\u001b[49m\n\u001b[1;32m   1502\u001b[0m \u001b[43m      \u001b[49m\u001b[43mnum_outputs\u001b[49m\u001b[38;5;241;43m=\u001b[39;49m\u001b[43mnum_outputs\u001b[49m\u001b[43m,\u001b[49m\n\u001b[1;32m   1503\u001b[0m \u001b[43m      \u001b[49m\u001b[43minputs\u001b[49m\u001b[38;5;241;43m=\u001b[39;49m\u001b[43mtensor_inputs\u001b[49m\u001b[43m,\u001b[49m\n\u001b[1;32m   1504\u001b[0m \u001b[43m      \u001b[49m\u001b[43mattrs\u001b[49m\u001b[38;5;241;43m=\u001b[39;49m\u001b[43mattrs\u001b[49m\u001b[43m,\u001b[49m\n\u001b[1;32m   1505\u001b[0m \u001b[43m      \u001b[49m\u001b[43mctx\u001b[49m\u001b[38;5;241;43m=\u001b[39;49m\u001b[38;5;28;43mself\u001b[39;49m\u001b[43m,\u001b[49m\n\u001b[1;32m   1506\u001b[0m \u001b[43m  \u001b[49m\u001b[43m)\u001b[49m\n\u001b[1;32m   1507\u001b[0m \u001b[38;5;28;01melse\u001b[39;00m:\n\u001b[1;32m   1508\u001b[0m   outputs \u001b[38;5;241m=\u001b[39m execute\u001b[38;5;241m.\u001b[39mexecute_with_cancellation(\n\u001b[1;32m   1509\u001b[0m       name\u001b[38;5;241m.\u001b[39mdecode(\u001b[38;5;124m\"\u001b[39m\u001b[38;5;124mutf-8\u001b[39m\u001b[38;5;124m\"\u001b[39m),\n\u001b[1;32m   1510\u001b[0m       num_outputs\u001b[38;5;241m=\u001b[39mnum_outputs,\n\u001b[0;32m   (...)\u001b[0m\n\u001b[1;32m   1514\u001b[0m       cancellation_manager\u001b[38;5;241m=\u001b[39mcancellation_context,\n\u001b[1;32m   1515\u001b[0m   )\n",
      "File \u001b[0;32m~/Library/Python/3.9/lib/python/site-packages/tensorflow/python/eager/execute.py:53\u001b[0m, in \u001b[0;36mquick_execute\u001b[0;34m(op_name, num_outputs, inputs, attrs, ctx, name)\u001b[0m\n\u001b[1;32m     51\u001b[0m \u001b[38;5;28;01mtry\u001b[39;00m:\n\u001b[1;32m     52\u001b[0m   ctx\u001b[38;5;241m.\u001b[39mensure_initialized()\n\u001b[0;32m---> 53\u001b[0m   tensors \u001b[38;5;241m=\u001b[39m \u001b[43mpywrap_tfe\u001b[49m\u001b[38;5;241;43m.\u001b[39;49m\u001b[43mTFE_Py_Execute\u001b[49m\u001b[43m(\u001b[49m\u001b[43mctx\u001b[49m\u001b[38;5;241;43m.\u001b[39;49m\u001b[43m_handle\u001b[49m\u001b[43m,\u001b[49m\u001b[43m \u001b[49m\u001b[43mdevice_name\u001b[49m\u001b[43m,\u001b[49m\u001b[43m \u001b[49m\u001b[43mop_name\u001b[49m\u001b[43m,\u001b[49m\n\u001b[1;32m     54\u001b[0m \u001b[43m                                      \u001b[49m\u001b[43minputs\u001b[49m\u001b[43m,\u001b[49m\u001b[43m \u001b[49m\u001b[43mattrs\u001b[49m\u001b[43m,\u001b[49m\u001b[43m \u001b[49m\u001b[43mnum_outputs\u001b[49m\u001b[43m)\u001b[49m\n\u001b[1;32m     55\u001b[0m \u001b[38;5;28;01mexcept\u001b[39;00m core\u001b[38;5;241m.\u001b[39m_NotOkStatusException \u001b[38;5;28;01mas\u001b[39;00m e:\n\u001b[1;32m     56\u001b[0m   \u001b[38;5;28;01mif\u001b[39;00m name \u001b[38;5;129;01mis\u001b[39;00m \u001b[38;5;129;01mnot\u001b[39;00m \u001b[38;5;28;01mNone\u001b[39;00m:\n",
      "\u001b[0;31mKeyboardInterrupt\u001b[0m: "
     ]
    }
   ],
   "source": [
    "import pandas as pd\n",
    "import numpy as np\n",
    "from sklearn.preprocessing import StandardScaler, OneHotEncoder\n",
    "from sklearn.compose import ColumnTransformer\n",
    "from sklearn.pipeline import Pipeline\n",
    "from tensorflow.keras.models import Sequential\n",
    "from tensorflow.keras.layers import LSTM, Dense, LeakyReLU, Dropout\n",
    "from sklearn.model_selection import train_test_split\n",
    "from sklearn.preprocessing import LabelEncoder\n",
    "from tensorflow.keras.utils import to_categorical\n",
    "\n",
    "\n",
    "\n",
    "# Assuming df_rfg is your DataFrame\n",
    "# Feature and target definition\n",
    "features = ['day_of_week', 'hour', 'grouped_minute', 'temperature', 'rainfall',\n",
    "            'capacity',  'altitude', 'station_id', 'is_weekend', 'is_summer', 'week_number']\n",
    "features = ['day_of_week', 'hour', 'grouped_minute', 'temperature', 'rainfall',\n",
    "            'capacity',  'altitude', 'is_weekend', 'season', 'month']\n",
    "target = 'docking_available'\n",
    "X = df_lstm[features]\n",
    "y = df_lstm[target]\n",
    "\n",
    "# Encoding categorical features\n",
    "categorical_features = ['day_of_week', 'season', 'is_weekend', 'hour', 'grouped_minute', 'month']\n",
    "numerical_features = ['temperature', 'rainfall', 'capacity', 'altitude']\n",
    "\n",
    "# One-hot encoding for categorical features\n",
    "preprocessor = ColumnTransformer(\n",
    "    transformers=[\n",
    "        ('num', StandardScaler(), numerical_features),\n",
    "        ('cat', OneHotEncoder(), categorical_features)\n",
    "    ])\n",
    "\n",
    "X_processed = preprocessor.fit_transform(X)\n",
    "\n",
    "# Label Encoding target if necessary\n",
    "# y = LabelEncoder().fit_transform(y)  # Uncomment if target needs encoding\n",
    "# Convert sparse matrix to dense array\n",
    "X_processed = X_processed.toarray()\n",
    "\n",
    "# Create sequences\n",
    "def create_sequences(data, target, sequence_length=10):\n",
    "    X_seq, y_seq = [], []\n",
    "    for i in range(len(data) - sequence_length):\n",
    "        X_seq.append(data[i:i + sequence_length])\n",
    "        y_seq.append(target[i + sequence_length])\n",
    "    return np.array(X_seq), np.array(y_seq)\n",
    "\n",
    "sequence_length = 10\n",
    "X_seq, y_seq = create_sequences(X_processed, y.values, sequence_length)\n",
    "\n",
    "# Train-test split\n",
    "X_train, X_test, y_train, y_test = train_test_split(X_seq, y_seq, test_size=0.2, random_state=42)\n",
    "\n",
    "num_classes = len(np.unique(y))\n",
    "# Build LSTM model\n",
    "model = Sequential()\n",
    "model.add(LSTM(50, activation='relu', input_shape=(sequence_length, X_seq.shape[2])))\n",
    "model.add(Dense(9500, activation='relu'))\n",
    "model.add(Dense(1024))\n",
    "model.add(LeakyReLU(alpha=0.01))\n",
    "#model.add(Dense(1024, activation='leaky_relu'))\n",
    "model.add(Dense(num_classes, activation='softmax'))  # Output layer for classification\n",
    "\n",
    "# Compile the model\n",
    "model.compile(optimizer='adam', loss='categorical_crossentropy', metrics=['accuracy'])\n",
    "\n",
    "# Convert target variable to one-hot encoded format\n",
    "y_train_encoded = to_categorical(y_train)\n",
    "y_test_encoded = to_categorical(y_test)\n",
    "\n",
    "# Train the model\n",
    "history = model.fit(X_train, y_train_encoded, epochs=12, batch_size=32, validation_split=0.2)\n",
    "\n",
    "y_test_encoded = to_categorical(y_test)\n",
    "# Evaluate the model\n",
    "loss, accuracy = model.evaluate(X_test, y_test_encoded)\n",
    "print(f\"Test Loss: {loss}\")\n",
    "print(f\"Test Accuracy: {accuracy}\")\n",
    "\n",
    "# Predict\n",
    "y_pred_prob = model.predict(X_test)\n",
    "y_pred = np.argmax(y_pred_prob, axis=1)  # Convert probabilities to class labels\n",
    "\n",
    "# Example to show some predictions vs actual\n",
    "plt.figure(figsize=(12, 6))\n",
    "plt.plot(y_test[:100], label='Actual')\n",
    "plt.plot(y_pred[:100], label='Predicted')\n",
    "plt.legend()\n",
    "plt.show()"
   ]
  },
  {
   "cell_type": "code",
   "execution_count": null,
   "metadata": {},
   "outputs": [
    {
     "ename": "",
     "evalue": "",
     "output_type": "error",
     "traceback": [
      "\u001b[1;31mRunning cells with 'Python 3.12.4' requires the ipykernel package.\n",
      "\u001b[1;31mRun the following command to install 'ipykernel' into the Python environment. \n",
      "\u001b[1;31mCommand: '/usr/local/bin/python3 -m pip install ipykernel -U --user --force-reinstall'"
     ]
    }
   ],
   "source": [
    "# Plotting the training history\n",
    "import matplotlib.pyplot as plt\n",
    "\n",
    "plt.plot(history.history['accuracy'], label='accuracy')\n",
    "plt.plot(history.history['val_accuracy'], label = 'val_accuracy')\n",
    "plt.xlabel('Epoch')\n",
    "plt.ylabel('Accuracy')\n",
    "plt.ylim([0.5, 1])\n",
    "plt.legend(loc='lower right')\n",
    "plt.show()"
   ]
  },
  {
   "cell_type": "code",
   "execution_count": null,
   "metadata": {},
   "outputs": [
    {
     "ename": "",
     "evalue": "",
     "output_type": "error",
     "traceback": [
      "\u001b[1;31mRunning cells with 'Python 3.12.4' requires the ipykernel package.\n",
      "\u001b[1;31mRun the following command to install 'ipykernel' into the Python environment. \n",
      "\u001b[1;31mCommand: '/usr/local/bin/python3 -m pip install ipykernel -U --user --force-reinstall'"
     ]
    }
   ],
   "source": [
    "from sklearn.metrics import mean_absolute_error, mean_squared_error, r2_score\n",
    "# Calculate additional metrics\n",
    "mae = mean_absolute_error(y_test, y_pred)\n",
    "mse = mean_squared_error(y_test, y_pred)\n",
    "rmse = np.sqrt(mse)\n",
    "r2 = r2_score(y_test, y_pred)\n",
    "\n",
    "print(f\"Mean Absolute Error (MAE): {mae}\")\n",
    "print(f\"Mean Squared Error (MSE): {mse}\")\n",
    "print(f\"Root Mean Squared Error (RMSE): {rmse}\")\n",
    "print(f\"R-squared (R²): {r2}\")"
   ]
  },
  {
   "cell_type": "markdown",
   "metadata": {},
   "source": [
    "### Save Model\n"
   ]
  },
  {
   "cell_type": "code",
   "execution_count": null,
   "metadata": {},
   "outputs": [
    {
     "ename": "",
     "evalue": "",
     "output_type": "error",
     "traceback": [
      "\u001b[1;31mRunning cells with 'Python 3.12.4' requires the ipykernel package.\n",
      "\u001b[1;31mRun the following command to install 'ipykernel' into the Python environment. \n",
      "\u001b[1;31mCommand: '/usr/local/bin/python3 -m pip install ipykernel -U --user --force-reinstall'"
     ]
    }
   ],
   "source": [
    "# save the model with pickle\n",
    "import pickle\n",
    "\n",
    "stations_str = '_'.join([str(x) for x in filter_stations])\n",
    "now = pd.Timestamp.now()\n",
    "date = now.strftime(\"%Y-%m-%d-%H-%M-%S\")\n",
    "#added_info = f'mae_{round(mae,5)}_mse_{round(mse,5)}_r2_{round(r2,5)}_stations_{stations_str}_date_{date}'\n",
    "added_info = f'stations_{stations_str}_date_{date}_loss_{round(loss, 5)}_accuracy_{round(accuracy, 5)}'\n",
    "filename = f'models/03_model_lstm_{added_info}.pkl'\n",
    "\n",
    "pickle.dump(model, open(filename, 'wb'))"
   ]
  },
  {
   "cell_type": "markdown",
   "metadata": {},
   "source": [
    "# Cross Validation"
   ]
  },
  {
   "cell_type": "code",
   "execution_count": null,
   "metadata": {},
   "outputs": [
    {
     "ename": "",
     "evalue": "",
     "output_type": "error",
     "traceback": [
      "\u001b[1;31mRunning cells with 'Python 3.12.4' requires the ipykernel package.\n",
      "\u001b[1;31mRun the following command to install 'ipykernel' into the Python environment. \n",
      "\u001b[1;31mCommand: '/usr/local/bin/python3 -m pip install ipykernel -U --user --force-reinstall'"
     ]
    }
   ],
   "source": [
    "from sklearn.model_selection import cross_validate\n",
    "from keras.wrappers.scikit_learn import KerasClassifier\n",
    "# Define X and y\n",
    "\n",
    "# Define a function that returns the Keras model\n",
    "def create_model():\n",
    "    model = Sequential()\n",
    "    model.add(LSTM(50, activation='relu', input_shape=(sequence_length, X_seq.shape[2])))\n",
    "    model.add(Dense(9500, activation='relu'))\n",
    "    model.add(Dense(1024))\n",
    "    model.add(LeakyReLU(alpha=0.01))\n",
    "    return model\n",
    "\n",
    "# Wrap the Keras model in a scikit-learn estimator\n",
    "estimator = KerasClassifier(build_fn=create_model)\n",
    "\n",
    "# Perform cross-validation\n",
    "cv_results = cross_validate(estimator, X, y, cv=5, scoring=['accuracy', 'f1'], return_train_score=False)\n",
    "\n",
    "print(f\"Cross-validated accuracy scores: {cv_results['test_accuracy']}\")\n",
    "print(f\"Mean cross-validated accuracy: {np.mean(cv_results['test_accuracy'])}\")\n",
    "print(f\"Cross-validated F1 scores: {cv_results['test_f1']}\")\n",
    "print(f\"Mean cross-validated F1 score: {np.mean(cv_results['test_f1'])}\")"
   ]
  },
  {
   "cell_type": "code",
   "execution_count": null,
   "metadata": {},
   "outputs": [
    {
     "ename": "",
     "evalue": "",
     "output_type": "error",
     "traceback": [
      "\u001b[1;31mRunning cells with 'Python 3.12.4' requires the ipykernel package.\n",
      "\u001b[1;31mRun the following command to install 'ipykernel' into the Python environment. \n",
      "\u001b[1;31mCommand: '/usr/local/bin/python3 -m pip install ipykernel -U --user --force-reinstall'"
     ]
    }
   ],
   "source": [
    "from sklearn.model_selection import cross_validate\n",
    "\n",
    "cv_results = cross_validate(model, X, y, cv=5, scoring=['accuracy', 'f1'], return_train_score=False)\n",
    "\n",
    "print(f\"Cross-validated accuracy scores: {cv_results['test_accuracy']}\")\n",
    "print(f\"Mean cross-validated accuracy: {np.mean(cv_results['test_accuracy'])}\")\n",
    "print(f\"Cross-validated F1 scores: {cv_results['test_f1']}\")\n",
    "print(f\"Mean cross-validated F1 score: {np.mean(cv_results['test_f1'])}\")\n"
   ]
  },
  {
   "cell_type": "code",
   "execution_count": null,
   "metadata": {},
   "outputs": [
    {
     "ename": "",
     "evalue": "",
     "output_type": "error",
     "traceback": [
      "\u001b[1;31mRunning cells with 'Python 3.12.4' requires the ipykernel package.\n",
      "\u001b[1;31mRun the following command to install 'ipykernel' into the Python environment. \n",
      "\u001b[1;31mCommand: '/usr/local/bin/python3 -m pip install ipykernel -U --user --force-reinstall'"
     ]
    }
   ],
   "source": [
    "!pip install Keras"
   ]
  },
  {
   "cell_type": "code",
   "execution_count": null,
   "metadata": {},
   "outputs": [
    {
     "ename": "",
     "evalue": "",
     "output_type": "error",
     "traceback": [
      "\u001b[1;31mRunning cells with 'Python 3.12.4' requires the ipykernel package.\n",
      "\u001b[1;31mRun the following command to install 'ipykernel' into the Python environment. \n",
      "\u001b[1;31mCommand: '/usr/local/bin/python3 -m pip install ipykernel -U --user --force-reinstall'"
     ]
    }
   ],
   "source": [
    "import numpy as np\n",
    "import pandas as pd\n",
    "from sklearn.model_selection import train_test_split, cross_validate\n",
    "from tensorflow.keras.models import Sequential\n",
    "from tensorflow.keras.layers import LSTM, Dense\n",
    "from tensorflow.keras.wrappers.scikit_learn import KerasClassifier\n",
    "from sklearn.preprocessing import StandardScaler, OneHotEncoder\n",
    "from sklearn.compose import ColumnTransformer\n",
    "from sklearn.pipeline import Pipeline\n",
    "\n",
    "# Define a function that returns the Keras model\n",
    "def create_model():\n",
    "    model = Sequential()\n",
    "    model.add(LSTM(50, activation='relu', input_shape=(sequence_length, X_seq.shape[2])))\n",
    "    model.add(Dense(25, activation='relu'))\n",
    "    model.add(Dense(num_classes, activation='softmax'))\n",
    "    model.compile(optimizer='adam', loss='categorical_crossentropy', metrics=['accuracy'])\n",
    "    return model\n",
    "\n",
    "# Wrap the Keras model with KerasClassifier\n",
    "model = KerasClassifier(build_fn=create_model, epochs=20, batch_size=32, verbose=0)\n",
    "\n",
    "# Prepare your data (make sure to have your sequences X_seq and y_seq)\n",
    "# Assuming X_seq and y_seq are prepared as shown in the previous steps\n",
    "\n",
    "# Train-test split\n",
    "X_train, X_test, y_train, y_test = train_test_split(X_seq, y_seq, test_size=0.2, random_state=42)\n",
    "\n",
    "# Perform cross-validation\n",
    "cv_results = cross_validate(model, X_train, y_train, cv=5, scoring=['accuracy', 'f1_macro'], return_train_score=False)\n",
    "\n",
    "print(f\"Cross-validated accuracy scores: {cv_results['test_accuracy']}\")\n",
    "print(f\"Mean cross-validated accuracy: {np.mean(cv_results['test_accuracy'])}\")\n",
    "print(f\"Cross-validated F1 scores: {cv_results['test_f1_macro']}\")\n",
    "print(f\"Mean cross-validated F1 score: {np.mean(cv_results['test_f1_macro'])}\")\n"
   ]
  },
  {
   "cell_type": "code",
   "execution_count": null,
   "metadata": {},
   "outputs": [
    {
     "ename": "",
     "evalue": "",
     "output_type": "error",
     "traceback": [
      "\u001b[1;31mRunning cells with 'Python 3.12.4' requires the ipykernel package.\n",
      "\u001b[1;31mRun the following command to install 'ipykernel' into the Python environment. \n",
      "\u001b[1;31mCommand: '/usr/local/bin/python3 -m pip install ipykernel -U --user --force-reinstall'"
     ]
    }
   ],
   "source": [
    "%pip install tensorflow\n"
   ]
  },
  {
   "cell_type": "code",
   "execution_count": null,
   "metadata": {},
   "outputs": [
    {
     "ename": "",
     "evalue": "",
     "output_type": "error",
     "traceback": [
      "\u001b[1;31mRunning cells with 'Python 3.12.4' requires the ipykernel package.\n",
      "\u001b[1;31mRun the following command to install 'ipykernel' into the Python environment. \n",
      "\u001b[1;31mCommand: '/usr/local/bin/python3 -m pip install ipykernel -U --user --force-reinstall'"
     ]
    }
   ],
   "source": [
    "!python3 -m pip install --upgrade pip"
   ]
  },
  {
   "cell_type": "code",
   "execution_count": null,
   "metadata": {},
   "outputs": [
    {
     "ename": "",
     "evalue": "",
     "output_type": "error",
     "traceback": [
      "\u001b[1;31mRunning cells with 'Python 3.12.4' requires the ipykernel package.\n",
      "\u001b[1;31mRun the following command to install 'ipykernel' into the Python environment. \n",
      "\u001b[1;31mCommand: '/usr/local/bin/python3 -m pip install ipykernel -U --user --force-reinstall'"
     ]
    }
   ],
   "source": [
    "%pip install scikit-learn"
   ]
  },
  {
   "cell_type": "code",
   "execution_count": null,
   "metadata": {},
   "outputs": [
    {
     "ename": "",
     "evalue": "",
     "output_type": "error",
     "traceback": [
      "\u001b[1;31mRunning cells with 'Python 3.12.4' requires the ipykernel package.\n",
      "\u001b[1;31mRun the following command to install 'ipykernel' into the Python environment. \n",
      "\u001b[1;31mCommand: '/usr/local/bin/python3 -m pip install ipykernel -U --user --force-reinstall'"
     ]
    }
   ],
   "source": [
    "import pandas as pd\n",
    "import numpy as np\n",
    "from sklearn.preprocessing import StandardScaler, OneHotEncoder\n",
    "from sklearn.compose import ColumnTransformer\n",
    "from tensorflow.keras.models import Sequential\n",
    "from tensorflow.keras.layers import LSTM, Dense\n",
    "from sklearn.model_selection import train_test_split\n",
    "from tensorflow.keras.utils import to_categorical\n",
    "\n",
    "# Load your data (replace with your actual data loading method)\n",
    "# df_lstm = pd.read_csv('your_data.csv')  # Example for loading data\n",
    "df_lstm = df_a.copy()\n",
    "\n",
    "\n",
    "# Ensure data has a datetime column (replace 'timestamp' with your actual datetime column)\n",
    "df_lstm['timestamp'] = pd.to_datetime(df_lstm['grouped_date'])\n",
    "\n",
    "\n",
    "# Check for duplicate timestamps\n",
    "duplicate_timestamps = df_lstm[df_lstm.duplicated('timestamp')]\n",
    "print(f\"Duplicate timestamps: {duplicate_timestamps}\")\n",
    "df_lstm = df_lstm.set_index('timestamp')\n",
    "# Remove duplicate timestamps\n",
    "df_lstm = df_lstm.drop_duplicates(subset='timestamp')\n",
    "# Resample data to ensure 15-minute intervals, filling missing values appropriately\n",
    "df_lstm = df_lstm.resample('15T').interpolate(method='time')\n",
    "\n",
    "# Feature and target definition\n",
    "features = ['day_of_week', 'hour', 'grouped_minute', 'temperature', 'rainfall',\n",
    "            'capacity',  'altitude', 'station_id', 'is_weekend', 'season', 'month']\n",
    "target = 'docking_available'\n",
    "\n",
    "#remove duplicates from the dataset\n",
    "df_lstm = df_lstm[features + [target]]\n",
    "df_lstm.drop_duplicates(inplace=True)\n",
    "\n",
    "X = df_lstm[features]\n",
    "y = df_lstm[target]\n",
    "\n",
    "# Create additional time-based features\n",
    "df_lstm['day_of_week'] = df_lstm.index.dayofweek\n",
    "df_lstm['hour'] = df_lstm.index.hour\n",
    "df_lstm['grouped_minute'] = df_lstm.index.minute // 15\n",
    "df_lstm['month'] = df_lstm.index.month\n",
    "\n",
    "X = df_lstm[features]\n",
    "y = df_lstm[target]\n",
    "\n",
    "# Encoding categorical features\n",
    "categorical_features = ['day_of_week', 'season', 'station_id', 'is_weekend', 'hour', 'grouped_minute', 'month']\n",
    "numerical_features = ['temperature', 'rainfall', 'capacity', 'altitude']\n",
    "\n",
    "# One-hot encoding for categorical features\n",
    "preprocessor = ColumnTransformer(\n",
    "    transformers=[\n",
    "        ('num', StandardScaler(), numerical_features),\n",
    "        ('cat', OneHotEncoder(), categorical_features)\n",
    "    ])\n",
    "\n",
    "X_processed = preprocessor.fit_transform(X)\n",
    "\n",
    "# Convert sparse matrix to dense array\n",
    "X_processed = X_processed.toarray()\n",
    "\n",
    "# Create sequences\n",
    "def create_sequences(data, target, sequence_length=12):\n",
    "    X_seq, y_seq = [], []\n",
    "    for i in range(len(data) - sequence_length):\n",
    "        X_seq.append(data[i:i + sequence_length])\n",
    "        y_seq.append(target[i + sequence_length])\n",
    "    return np.array(X_seq), np.array(y_seq)\n",
    "\n",
    "sequence_length = 12  # For example, 3 hours of data if intervals are 15 minutes\n",
    "X_seq, y_seq = create_sequences(X_processed, y.values, sequence_length)\n",
    "\n",
    "# Convert target variable to one-hot encoded format\n",
    "y_seq_encoded = to_categorical(y_seq)\n",
    "\n",
    "# Train-test split\n",
    "X_train, X_test, y_train, y_test = train_test_split(X_seq, y_seq_encoded, test_size=0.2, random_state=42)\n",
    "\n",
    "num_classes = len(np.unique(y))\n",
    "\n",
    "# Build LSTM model\n",
    "model = Sequential()\n",
    "model.add(LSTM(50, activation='relu', input_shape=(sequence_length, X_seq.shape[2])))\n",
    "model.add(Dense(25, activation='relu'))\n",
    "model.add(Dense(num_classes, activation='softmax'))  # Output layer for classification\n",
    "\n",
    "# Compile the model\n",
    "model.compile(optimizer='adam', loss='categorical_crossentropy', metrics=['accuracy'])\n",
    "\n",
    "# Train the model\n",
    "history = model.fit(X_train, y_train, epochs=30, batch_size=32, validation_split=0.2)\n",
    "\n",
    "# Evaluate the model\n",
    "loss, accuracy = model.evaluate(X_test, y_test)\n",
    "print(f\"Test Loss: {loss}\")\n",
    "print(f\"Test Accuracy: {accuracy}\")\n",
    "\n",
    "# Predict\n",
    "y_pred_prob = model.predict(X_test)\n",
    "y_pred = np.argmax(y_pred_prob, axis=1)  # Convert probabilities to class labels\n",
    "\n",
    "# Example to show some predictions vs actual\n",
    "import matplotlib.pyplot as plt\n",
    "\n",
    "plt.figure(figsize=(12, 6))\n",
    "plt.plot(y_test.argmax(axis=1)[:100], label='Actual')\n",
    "plt.plot(y_pred[:100], label='Predicted')\n",
    "plt.legend()\n",
    "plt.show()\n"
   ]
  },
  {
   "cell_type": "code",
   "execution_count": null,
   "metadata": {},
   "outputs": [
    {
     "ename": "",
     "evalue": "",
     "output_type": "error",
     "traceback": [
      "\u001b[1;31mRunning cells with 'Python 3.12.4' requires the ipykernel package.\n",
      "\u001b[1;31mRun the following command to install 'ipykernel' into the Python environment. \n",
      "\u001b[1;31mCommand: '/usr/local/bin/python3 -m pip install ipykernel -U --user --force-reinstall'"
     ]
    }
   ],
   "source": [
    "import pandas as pd\n",
    "import numpy as np\n",
    "from sklearn.preprocessing import StandardScaler, OneHotEncoder\n",
    "from sklearn.compose import ColumnTransformer\n",
    "from tensorflow.keras.models import Sequential\n",
    "from tensorflow.keras.layers import LSTM, Dense\n",
    "from sklearn.model_selection import train_test_split\n",
    "from tensorflow.keras.utils import to_categorical\n",
    "import matplotlib.pyplot as plt\n",
    "\n",
    "# Load your data (replace with your actual data loading method)\n",
    "# df_lstm = pd.read_csv('your_data.csv')  # Example for loading data\n",
    "df_lstm = df_a.copy()\n",
    "\n",
    "# Verify column names\n",
    "print(df_lstm.columns)\n",
    "\n",
    "# Ensure data has a datetime column (replace 'timestamp' with your actual datetime column)\n",
    "if 'grouped_date' not in df_lstm.columns:\n",
    "    raise KeyError(\"The column 'grouped_date' is not found in the DataFrame. Please check the column names.\")\n",
    "\n",
    "# Convert 'grouped_date' column to datetime\n",
    "df_lstm['timestamp'] = pd.to_datetime(df_lstm['grouped_date'])\n",
    "\n",
    "# Check for duplicate timestamps\n",
    "duplicate_timestamps = df_lstm[df_lstm.duplicated('timestamp')]\n",
    "print(f\"Duplicate timestamps: {duplicate_timestamps}\")\n",
    "\n",
    "# Remove duplicate timestamps\n",
    "df_lstm = df_lstm.drop_duplicates(subset='timestamp')\n",
    "\n",
    "# Set the timestamp as the index\n",
    "df_lstm = df_lstm.set_index('timestamp')\n",
    "\n",
    "# Resample data to ensure 15-minute intervals, filling missing values appropriately\n",
    "#df_lstm = df_lstm.resample('15T').interpolate(method='time')\n",
    "df_lstm = df_lstm.resample('15T').mean().interpolate(method='linear')\n",
    "\n",
    "# Create additional time-based features\n",
    "df_lstm['day_of_week'] = df_lstm.index.dayofweek\n",
    "df_lstm['hour'] = df_lstm.index.hour\n",
    "df_lstm['grouped_minute'] = df_lstm.index.minute // 15\n",
    "df_lstm['month'] = df_lstm.index.month\n",
    "\n",
    "# Feature and target definition\n",
    "features = ['day_of_week', 'hour', 'grouped_minute', 'temperature', 'rainfall',\n",
    "            'capacity', 'altitude', 'station_id', 'is_weekend', 'season', 'month']\n",
    "target = 'docking_available'\n",
    "\n",
    "# Ensure no duplicate rows based on features and target\n",
    "df_lstm = df_lstm[features + [target]]\n",
    "df_lstm.drop_duplicates(inplace=True)\n",
    "\n",
    "X = df_lstm[features]\n",
    "y = df_lstm[target]\n",
    "\n",
    "# Encoding categorical features\n",
    "categorical_features = ['day_of_week', 'season', 'station_id', 'is_weekend', 'hour', 'grouped_minute', 'month']\n",
    "numerical_features = ['temperature', 'rainfall', 'capacity', 'altitude']\n",
    "\n",
    "# One-hot encoding for categorical features\n",
    "preprocessor = ColumnTransformer(\n",
    "    transformers=[\n",
    "        ('num', StandardScaler(), numerical_features),\n",
    "        ('cat', OneHotEncoder(), categorical_features)\n",
    "    ])\n",
    "\n",
    "X_processed = preprocessor.fit_transform(X)\n",
    "\n",
    "# Convert sparse matrix to dense array\n",
    "X_processed = X_processed.toarray()\n",
    "\n",
    "# Create sequences\n",
    "def create_sequences(data, target, sequence_length=12):\n",
    "    X_seq, y_seq = [], []\n",
    "    for i in range(len(data) - sequence_length):\n",
    "        X_seq.append(data[i:i + sequence_length])\n",
    "        y_seq.append(target[i + sequence_length])\n",
    "    return np.array(X_seq), np.array(y_seq)\n",
    "\n",
    "sequence_length = 12  # For example, 3 hours of data if intervals are 15 minutes\n",
    "X_seq, y_seq = create_sequences(X_processed, y.values, sequence_length)\n",
    "\n",
    "# Convert target variable to one-hot encoded format\n",
    "y_seq_encoded = to_categorical(y_seq)\n",
    "\n",
    "# Train-test split\n",
    "X_train, X_test, y_train, y_test = train_test_split(X_seq, y_seq_encoded, test_size=0.2, random_state=42)\n",
    "\n",
    "num_classes = len(np.unique(y))\n",
    "\n",
    "# Build LSTM model\n",
    "model = Sequential()\n",
    "model.add(LSTM(50, activation='relu', input_shape=(sequence_length, X_seq.shape[2])))\n",
    "model.add(Dense(25, activation='relu'))\n",
    "model.add(Dense(num_classes, activation='softmax'))  # Output layer for classification\n",
    "\n",
    "# Compile the model\n",
    "model.compile(optimizer='adam', loss='categorical_crossentropy', metrics=['accuracy'])\n",
    "\n",
    "# Train the model\n",
    "history = model.fit(X_train, y_train, epochs=30, batch_size=32, validation_split=0.2)\n",
    "\n",
    "# Evaluate the model\n",
    "loss, accuracy = model.evaluate(X_test, y_test)\n",
    "print(f\"Test Loss: {loss}\")\n",
    "print(f\"Test Accuracy: {accuracy}\")\n",
    "\n",
    "# Predict\n",
    "y_pred_prob = model.predict(X_test)\n",
    "y_pred = np.argmax(y_pred_prob, axis=1)  # Convert probabilities to class labels\n",
    "\n",
    "# Example to show some predictions vs actual\n",
    "plt.figure(figsize=(12, 6))\n",
    "plt.plot(y_test.argmax(axis=1)[:100], label='Actual')\n",
    "plt.plot(y_pred[:100], label='Predicted')\n",
    "plt.legend()\n",
    "plt.show()\n"
   ]
  },
  {
   "cell_type": "code",
   "execution_count": null,
   "metadata": {},
   "outputs": [
    {
     "ename": "",
     "evalue": "",
     "output_type": "error",
     "traceback": [
      "\u001b[1;31mRunning cells with 'Python 3.12.4' requires the ipykernel package.\n",
      "\u001b[1;31mRun the following command to install 'ipykernel' into the Python environment. \n",
      "\u001b[1;31mCommand: '/usr/local/bin/python3 -m pip install ipykernel -U --user --force-reinstall'"
     ]
    }
   ],
   "source": [
    "import pandas as pd\n",
    "import numpy as np\n",
    "from sklearn.preprocessing import StandardScaler, OneHotEncoder\n",
    "from sklearn.compose import ColumnTransformer\n",
    "from tensorflow.keras.models import Sequential\n",
    "from tensorflow.keras.layers import LSTM, Dense\n",
    "from sklearn.model_selection import train_test_split\n",
    "from tensorflow.keras.utils import to_categorical\n",
    "import matplotlib.pyplot as plt\n",
    "\n",
    "# Load your data (replace with your actual data loading method)\n",
    "df_lstm = df_a.copy()\n",
    "\n",
    "# Verify column names\n",
    "print(df_lstm.columns)\n",
    "\n",
    "# Ensure data has a datetime column (replace 'timestamp' with your actual datetime column)\n",
    "if 'grouped_date' not in df_lstm.columns:\n",
    "    raise KeyError(\"The column 'grouped_date' is not found in the DataFrame. Please check the column names.\")\n",
    "\n",
    "# Convert 'grouped_date' column to datetime\n",
    "df_lstm['timestamp'] = pd.to_datetime(df_lstm['grouped_date'])\n",
    "\n",
    "# Check for duplicate timestamps\n",
    "duplicate_timestamps = df_lstm[df_lstm.duplicated('timestamp')]\n",
    "print(f\"Duplicate timestamps: {duplicate_timestamps}\")\n",
    "\n",
    "# Remove duplicate timestamps\n",
    "df_lstm = df_lstm.drop_duplicates(subset='timestamp')\n",
    "\n",
    "# Set the timestamp as the index\n",
    "df_lstm = df_lstm.set_index('timestamp')\n",
    "\n",
    "# Select numeric columns for resampling and interpolation\n",
    "numeric_columns = df_lstm.select_dtypes(include=[np.number]).columns\n",
    "df_lstm_numeric = df_lstm[numeric_columns]\n",
    "\n",
    "# Resample data to ensure 15-minute intervals, filling missing values appropriately\n",
    "df_lstm_numeric = df_lstm_numeric.resample('15T').mean().interpolate(method='linear')\n",
    "\n",
    "# Create additional time-based features\n",
    "df_lstm['day_of_week'] = df_lstm.index.dayofweek\n",
    "df_lstm['hour'] = df_lstm.index.hour\n",
    "df_lstm['grouped_minute'] = df_lstm.index.minute // 15\n",
    "df_lstm['month'] = df_lstm.index.month\n",
    "\n",
    "# Merge the numeric data back with the non-numeric data\n",
    "df_lstm_non_numeric = df_lstm.drop(columns=numeric_columns)\n",
    "df_lstm = pd.concat([df_lstm_numeric, df_lstm_non_numeric], axis=1)\n",
    "\n",
    "# Feature and target definition\n",
    "features = ['day_of_week', 'hour', 'grouped_minute', 'temperature', 'rainfall',\n",
    "            'capacity', 'altitude', 'station_id', 'is_weekend', 'season', 'month']\n",
    "target = 'docking_available'\n",
    "\n",
    "# Ensure no duplicate rows based on features and target\n",
    "df_lstm = df_lstm[features + [target]]\n",
    "df_lstm.drop_duplicates(inplace=True)\n",
    "\n",
    "X = df_lstm[features]\n",
    "y = df_lstm[target]\n",
    "\n",
    "# Encoding categorical features\n",
    "categorical_features = ['day_of_week', 'season', 'station_id', 'is_weekend', 'hour', 'grouped_minute', 'month']\n",
    "numerical_features = ['temperature', 'rainfall', 'capacity', 'altitude']\n",
    "\n",
    "# One-hot encoding for categorical features\n",
    "preprocessor = ColumnTransformer(\n",
    "    transformers=[\n",
    "        ('num', StandardScaler(), numerical_features),\n",
    "        ('cat', OneHotEncoder(), categorical_features)\n",
    "    ])\n",
    "\n",
    "X_processed = preprocessor.fit_transform(X)\n",
    "\n",
    "# Convert sparse matrix to dense array\n",
    "X_processed = X_processed.toarray()\n",
    "\n",
    "# Create sequences\n",
    "def create_sequences(data, target, sequence_length=12):\n",
    "    X_seq, y_seq = [], []\n",
    "    for i in range(len(data) - sequence_length):\n",
    "        X_seq.append(data[i:i + sequence_length])\n",
    "        y_seq.append(target[i + sequence_length])\n",
    "    return np.array(X_seq), np.array(y_seq)\n",
    "\n",
    "sequence_length = 12  # For example, 3 hours of data if intervals are 15 minutes\n",
    "X_seq, y_seq = create_sequences(X_processed, y.values, sequence_length)\n",
    "\n",
    "# Convert target variable to one-hot encoded format\n",
    "y_seq_encoded = to_categorical(y_seq)\n",
    "\n",
    "# Train-test split\n",
    "X_train, X_test, y_train, y_test = train_test_split(X_seq, y_seq_encoded, test_size=0.2, random_state=42)\n",
    "\n",
    "num_classes = len(np.unique(y))\n",
    "\n",
    "# Build LSTM model\n",
    "model = Sequential()\n",
    "model.add(LSTM(50, activation='relu', input_shape=(sequence_length, X_seq.shape[2])))\n",
    "model.add(Dense(25, activation='relu'))\n",
    "model.add(Dense(num_classes, activation='softmax'))  # Output layer for classification\n",
    "\n",
    "# Compile the model\n",
    "model.compile(optimizer='adam', loss='categorical_crossentropy', metrics=['accuracy'])\n",
    "\n",
    "# Train the model\n",
    "history = model.fit(X_train, y_train, epochs=30, batch_size=32, validation_split=0.2)\n",
    "\n",
    "# Evaluate the model\n",
    "loss, accuracy = model.evaluate(X_test, y_test)\n",
    "print(f\"Test Loss: {loss}\")\n",
    "print(f\"Test Accuracy: {accuracy}\")\n",
    "\n",
    "# Predict\n",
    "y_pred_prob = model.predict(X_test)\n",
    "y_pred = np.argmax(y_pred_prob, axis=1)  # Convert probabilities to class labels\n",
    "\n",
    "# Example to show some predictions vs actual\n",
    "plt.figure(figsize=(12, 6))\n",
    "plt.plot(y_test.argmax(axis=1)[:100], label='Actual')\n",
    "plt.plot(y_pred[:100], label='Predicted')\n",
    "plt.legend()\n",
    "plt.show()\n"
   ]
  },
  {
   "cell_type": "code",
   "execution_count": null,
   "metadata": {},
   "outputs": [
    {
     "ename": "",
     "evalue": "",
     "output_type": "error",
     "traceback": [
      "\u001b[1;31mRunning cells with 'Python 3.12.4' requires the ipykernel package.\n",
      "\u001b[1;31mRun the following command to install 'ipykernel' into the Python environment. \n",
      "\u001b[1;31mCommand: '/usr/local/bin/python3 -m pip install ipykernel -U --user --force-reinstall'"
     ]
    }
   ],
   "source": [
    "df_a.groupby('month').count().sort_values(by='station_id', ascending=False)"
   ]
  },
  {
   "cell_type": "markdown",
   "metadata": {},
   "source": [
    "## Just May"
   ]
  },
  {
   "cell_type": "code",
   "execution_count": 25,
   "metadata": {},
   "outputs": [
    {
     "name": "stdout",
     "output_type": "stream",
     "text": [
      "4575\n",
      "3023\n"
     ]
    },
    {
     "name": "stderr",
     "output_type": "stream",
     "text": [
      "/var/folders/1j/zxqksxbs0bg17c_9cj2hm8bh0000gn/T/ipykernel_92085/3849412510.py:12: FutureWarning: 'T' is deprecated and will be removed in a future version, please use 'min' instead.\n",
      "  df_may_dates = pd.date_range(start='2023-05-01', end='2023-06-1', freq='15T')\n"
     ]
    },
    {
     "data": {
      "text/plain": [
       "2977"
      ]
     },
     "execution_count": 25,
     "metadata": {},
     "output_type": "execute_result"
    }
   ],
   "source": [
    "#May has the most data - 31 days  * 24 hours * 4 quarters = 2976\n",
    "df_may = df_a[df_a['month'] == 5]\n",
    "features = ['day_of_week', 'hour', 'grouped_minute', 'temperature', 'rainfall',\n",
    "            'capacity',  'altitude', 'is_weekend', 'season', 'month','docking_available','grouped_date']\n",
    "df_may = df_may[features]\n",
    "\n",
    "print(len(df_may))\n",
    "df_may.drop_duplicates(inplace=True)\n",
    "print(len(df_may))\n",
    "df_may.isna().sum()\n",
    "#create dataset will may dates with hour grouped every 15 minutes\n",
    "df_may_dates = pd.date_range(start='2023-05-01', end='2023-06-1', freq='15T')\n",
    "len(df_may_dates)"
   ]
  },
  {
   "cell_type": "code",
   "execution_count": 26,
   "metadata": {},
   "outputs": [
    {
     "data": {
      "text/plain": [
       "2976"
      ]
     },
     "execution_count": 26,
     "metadata": {},
     "output_type": "execute_result"
    }
   ],
   "source": [
    "#remove june dates\n",
    "df_may_dates = df_may_dates[:-1]\n",
    "len(df_may_dates)"
   ]
  },
  {
   "cell_type": "code",
   "execution_count": null,
   "metadata": {},
   "outputs": [],
   "source": [
    "\n"
   ]
  },
  {
   "cell_type": "code",
   "execution_count": 28,
   "metadata": {},
   "outputs": [
    {
     "data": {
      "text/plain": [
       "0"
      ]
     },
     "execution_count": 28,
     "metadata": {},
     "output_type": "execute_result"
    }
   ],
   "source": [
    "#find duplicated records by grouped_date\n",
    "df_may['grouped_date'].duplicated().sum()\n",
    "#keep one record per grouped_date, keep docking_available as the 0 of the duplicates\n",
    "df_may.drop_duplicates(subset='grouped_date', keep='last', inplace=True)\n",
    "df_may['grouped_date'].duplicated().sum()"
   ]
  },
  {
   "cell_type": "code",
   "execution_count": 29,
   "metadata": {},
   "outputs": [
    {
     "data": {
      "text/html": [
       "<div>\n",
       "<style scoped>\n",
       "    .dataframe tbody tr th:only-of-type {\n",
       "        vertical-align: middle;\n",
       "    }\n",
       "\n",
       "    .dataframe tbody tr th {\n",
       "        vertical-align: top;\n",
       "    }\n",
       "\n",
       "    .dataframe thead th {\n",
       "        text-align: right;\n",
       "    }\n",
       "</style>\n",
       "<table border=\"1\" class=\"dataframe\">\n",
       "  <thead>\n",
       "    <tr style=\"text-align: right;\">\n",
       "      <th></th>\n",
       "      <th>day_of_week</th>\n",
       "      <th>hour</th>\n",
       "      <th>grouped_minute</th>\n",
       "      <th>temperature</th>\n",
       "      <th>rainfall</th>\n",
       "      <th>capacity</th>\n",
       "      <th>altitude</th>\n",
       "      <th>is_weekend</th>\n",
       "      <th>season</th>\n",
       "      <th>month</th>\n",
       "      <th>docking_available</th>\n",
       "      <th>grouped_date</th>\n",
       "    </tr>\n",
       "  </thead>\n",
       "  <tbody>\n",
       "    <tr>\n",
       "      <th>16568453</th>\n",
       "      <td>0</td>\n",
       "      <td>0</td>\n",
       "      <td>0</td>\n",
       "      <td>17</td>\n",
       "      <td>0.0</td>\n",
       "      <td>25.0</td>\n",
       "      <td>4.0</td>\n",
       "      <td>0</td>\n",
       "      <td>Spring</td>\n",
       "      <td>5</td>\n",
       "      <td>True</td>\n",
       "      <td>2023-05-01 00:00:00</td>\n",
       "    </tr>\n",
       "    <tr>\n",
       "      <th>16569167</th>\n",
       "      <td>0</td>\n",
       "      <td>0</td>\n",
       "      <td>15</td>\n",
       "      <td>17</td>\n",
       "      <td>0.0</td>\n",
       "      <td>25.0</td>\n",
       "      <td>4.0</td>\n",
       "      <td>0</td>\n",
       "      <td>Spring</td>\n",
       "      <td>5</td>\n",
       "      <td>True</td>\n",
       "      <td>2023-05-01 00:15:00</td>\n",
       "    </tr>\n",
       "    <tr>\n",
       "      <th>16569866</th>\n",
       "      <td>0</td>\n",
       "      <td>0</td>\n",
       "      <td>30</td>\n",
       "      <td>17</td>\n",
       "      <td>0.0</td>\n",
       "      <td>25.0</td>\n",
       "      <td>4.0</td>\n",
       "      <td>0</td>\n",
       "      <td>Spring</td>\n",
       "      <td>5</td>\n",
       "      <td>True</td>\n",
       "      <td>2023-05-01 00:30:00</td>\n",
       "    </tr>\n",
       "    <tr>\n",
       "      <th>16570558</th>\n",
       "      <td>0</td>\n",
       "      <td>0</td>\n",
       "      <td>45</td>\n",
       "      <td>17</td>\n",
       "      <td>0.0</td>\n",
       "      <td>25.0</td>\n",
       "      <td>4.0</td>\n",
       "      <td>0</td>\n",
       "      <td>Spring</td>\n",
       "      <td>5</td>\n",
       "      <td>True</td>\n",
       "      <td>2023-05-01 00:45:00</td>\n",
       "    </tr>\n",
       "    <tr>\n",
       "      <th>16571363</th>\n",
       "      <td>0</td>\n",
       "      <td>10</td>\n",
       "      <td>0</td>\n",
       "      <td>16</td>\n",
       "      <td>1.3</td>\n",
       "      <td>25.0</td>\n",
       "      <td>4.0</td>\n",
       "      <td>0</td>\n",
       "      <td>Spring</td>\n",
       "      <td>5</td>\n",
       "      <td>True</td>\n",
       "      <td>2023-05-01 10:00:00</td>\n",
       "    </tr>\n",
       "    <tr>\n",
       "      <th>...</th>\n",
       "      <td>...</td>\n",
       "      <td>...</td>\n",
       "      <td>...</td>\n",
       "      <td>...</td>\n",
       "      <td>...</td>\n",
       "      <td>...</td>\n",
       "      <td>...</td>\n",
       "      <td>...</td>\n",
       "      <td>...</td>\n",
       "      <td>...</td>\n",
       "      <td>...</td>\n",
       "      <td>...</td>\n",
       "    </tr>\n",
       "    <tr>\n",
       "      <th>19059996</th>\n",
       "      <td>1</td>\n",
       "      <td>8</td>\n",
       "      <td>45</td>\n",
       "      <td>19</td>\n",
       "      <td>0.0</td>\n",
       "      <td>25.0</td>\n",
       "      <td>4.0</td>\n",
       "      <td>0</td>\n",
       "      <td>Spring</td>\n",
       "      <td>5</td>\n",
       "      <td>False</td>\n",
       "      <td>2023-05-09 08:45:00</td>\n",
       "    </tr>\n",
       "    <tr>\n",
       "      <th>19061327</th>\n",
       "      <td>1</td>\n",
       "      <td>9</td>\n",
       "      <td>0</td>\n",
       "      <td>20</td>\n",
       "      <td>0.0</td>\n",
       "      <td>25.0</td>\n",
       "      <td>4.0</td>\n",
       "      <td>0</td>\n",
       "      <td>Spring</td>\n",
       "      <td>5</td>\n",
       "      <td>False</td>\n",
       "      <td>2023-05-09 09:00:00</td>\n",
       "    </tr>\n",
       "    <tr>\n",
       "      <th>19062190</th>\n",
       "      <td>1</td>\n",
       "      <td>9</td>\n",
       "      <td>15</td>\n",
       "      <td>20</td>\n",
       "      <td>0.0</td>\n",
       "      <td>25.0</td>\n",
       "      <td>4.0</td>\n",
       "      <td>0</td>\n",
       "      <td>Spring</td>\n",
       "      <td>5</td>\n",
       "      <td>False</td>\n",
       "      <td>2023-05-09 09:15:00</td>\n",
       "    </tr>\n",
       "    <tr>\n",
       "      <th>19062835</th>\n",
       "      <td>1</td>\n",
       "      <td>9</td>\n",
       "      <td>30</td>\n",
       "      <td>20</td>\n",
       "      <td>0.0</td>\n",
       "      <td>25.0</td>\n",
       "      <td>4.0</td>\n",
       "      <td>0</td>\n",
       "      <td>Spring</td>\n",
       "      <td>5</td>\n",
       "      <td>True</td>\n",
       "      <td>2023-05-09 09:30:00</td>\n",
       "    </tr>\n",
       "    <tr>\n",
       "      <th>19063778</th>\n",
       "      <td>1</td>\n",
       "      <td>9</td>\n",
       "      <td>45</td>\n",
       "      <td>20</td>\n",
       "      <td>0.0</td>\n",
       "      <td>25.0</td>\n",
       "      <td>4.0</td>\n",
       "      <td>0</td>\n",
       "      <td>Spring</td>\n",
       "      <td>5</td>\n",
       "      <td>True</td>\n",
       "      <td>2023-05-09 09:45:00</td>\n",
       "    </tr>\n",
       "  </tbody>\n",
       "</table>\n",
       "<p>2791 rows × 12 columns</p>\n",
       "</div>"
      ],
      "text/plain": [
       "          day_of_week  hour  grouped_minute  temperature  rainfall  capacity  \\\n",
       "16568453            0     0               0           17       0.0      25.0   \n",
       "16569167            0     0              15           17       0.0      25.0   \n",
       "16569866            0     0              30           17       0.0      25.0   \n",
       "16570558            0     0              45           17       0.0      25.0   \n",
       "16571363            0    10               0           16       1.3      25.0   \n",
       "...               ...   ...             ...          ...       ...       ...   \n",
       "19059996            1     8              45           19       0.0      25.0   \n",
       "19061327            1     9               0           20       0.0      25.0   \n",
       "19062190            1     9              15           20       0.0      25.0   \n",
       "19062835            1     9              30           20       0.0      25.0   \n",
       "19063778            1     9              45           20       0.0      25.0   \n",
       "\n",
       "          altitude  is_weekend  season  month  docking_available  \\\n",
       "16568453       4.0           0  Spring      5               True   \n",
       "16569167       4.0           0  Spring      5               True   \n",
       "16569866       4.0           0  Spring      5               True   \n",
       "16570558       4.0           0  Spring      5               True   \n",
       "16571363       4.0           0  Spring      5               True   \n",
       "...            ...         ...     ...    ...                ...   \n",
       "19059996       4.0           0  Spring      5              False   \n",
       "19061327       4.0           0  Spring      5              False   \n",
       "19062190       4.0           0  Spring      5              False   \n",
       "19062835       4.0           0  Spring      5               True   \n",
       "19063778       4.0           0  Spring      5               True   \n",
       "\n",
       "                grouped_date  \n",
       "16568453 2023-05-01 00:00:00  \n",
       "16569167 2023-05-01 00:15:00  \n",
       "16569866 2023-05-01 00:30:00  \n",
       "16570558 2023-05-01 00:45:00  \n",
       "16571363 2023-05-01 10:00:00  \n",
       "...                      ...  \n",
       "19059996 2023-05-09 08:45:00  \n",
       "19061327 2023-05-09 09:00:00  \n",
       "19062190 2023-05-09 09:15:00  \n",
       "19062835 2023-05-09 09:30:00  \n",
       "19063778 2023-05-09 09:45:00  \n",
       "\n",
       "[2791 rows x 12 columns]"
      ]
     },
     "execution_count": 29,
     "metadata": {},
     "output_type": "execute_result"
    }
   ],
   "source": [
    "df_may"
   ]
  },
  {
   "cell_type": "code",
   "execution_count": 30,
   "metadata": {},
   "outputs": [
    {
     "data": {
      "text/plain": [
       "185"
      ]
     },
     "execution_count": 30,
     "metadata": {},
     "output_type": "execute_result"
    }
   ],
   "source": [
    "missing_quarters = ~df_may_dates.isin(df_may['grouped_date'])\n",
    "len(df_may_dates[missing_quarters])"
   ]
  },
  {
   "cell_type": "code",
   "execution_count": 31,
   "metadata": {},
   "outputs": [
    {
     "name": "stderr",
     "output_type": "stream",
     "text": [
      "/var/folders/1j/zxqksxbs0bg17c_9cj2hm8bh0000gn/T/ipykernel_92085/1902159482.py:7: FutureWarning: DataFrame.fillna with 'method' is deprecated and will raise in a future version. Use obj.ffill() or obj.bfill() instead.\n",
      "  df_may_filled = df_may_merged.sort_values('grouped_date').fillna(method='ffill')\n",
      "/var/folders/1j/zxqksxbs0bg17c_9cj2hm8bh0000gn/T/ipykernel_92085/1902159482.py:7: FutureWarning: Downcasting object dtype arrays on .fillna, .ffill, .bfill is deprecated and will change in a future version. Call result.infer_objects(copy=False) instead. To opt-in to the future behavior, set `pd.set_option('future.no_silent_downcasting', True)`\n",
      "  df_may_filled = df_may_merged.sort_values('grouped_date').fillna(method='ffill')\n"
     ]
    },
    {
     "data": {
      "text/plain": [
       "day_of_week          0\n",
       "hour                 0\n",
       "grouped_minute       0\n",
       "temperature          0\n",
       "rainfall             0\n",
       "capacity             0\n",
       "altitude             0\n",
       "is_weekend           0\n",
       "season               0\n",
       "month                0\n",
       "docking_available    0\n",
       "grouped_date         0\n",
       "dtype: int64"
      ]
     },
     "execution_count": 31,
     "metadata": {},
     "output_type": "execute_result"
    }
   ],
   "source": [
    "#add missing quarters interpolated\n",
    "missing_quarters = df_may_dates[missing_quarters]\n",
    "# create a dataframe with the missing quarters\n",
    "df_missing = pd.DataFrame(missing_quarters, columns=['grouped_date'])\n",
    "#merge with the original dataframe\n",
    "df_may_merged = pd.merge(df_may, df_missing, on='grouped_date', how='outer')\n",
    "df_may_filled = df_may_merged.sort_values('grouped_date').fillna(method='ffill')\n",
    "df_may_filled.isna().sum()"
   ]
  },
  {
   "cell_type": "code",
   "execution_count": 51,
   "metadata": {},
   "outputs": [
    {
     "data": {
      "text/html": [
       "<div>\n",
       "<style scoped>\n",
       "    .dataframe tbody tr th:only-of-type {\n",
       "        vertical-align: middle;\n",
       "    }\n",
       "\n",
       "    .dataframe tbody tr th {\n",
       "        vertical-align: top;\n",
       "    }\n",
       "\n",
       "    .dataframe thead th {\n",
       "        text-align: right;\n",
       "    }\n",
       "</style>\n",
       "<table border=\"1\" class=\"dataframe\">\n",
       "  <thead>\n",
       "    <tr style=\"text-align: right;\">\n",
       "      <th></th>\n",
       "      <th>day_of_week</th>\n",
       "      <th>hour</th>\n",
       "      <th>grouped_minute</th>\n",
       "      <th>temperature</th>\n",
       "      <th>rainfall</th>\n",
       "      <th>capacity</th>\n",
       "      <th>altitude</th>\n",
       "      <th>is_weekend</th>\n",
       "      <th>season</th>\n",
       "      <th>month</th>\n",
       "      <th>docking_available</th>\n",
       "      <th>grouped_date</th>\n",
       "      <th>day</th>\n",
       "    </tr>\n",
       "  </thead>\n",
       "  <tbody>\n",
       "    <tr>\n",
       "      <th>0</th>\n",
       "      <td>0</td>\n",
       "      <td>0</td>\n",
       "      <td>0</td>\n",
       "      <td>17.0</td>\n",
       "      <td>0.0</td>\n",
       "      <td>25.0</td>\n",
       "      <td>4.0</td>\n",
       "      <td>0.0</td>\n",
       "      <td>Spring</td>\n",
       "      <td>5.0</td>\n",
       "      <td>True</td>\n",
       "      <td>2023-05-01 00:00:00</td>\n",
       "      <td>1</td>\n",
       "    </tr>\n",
       "    <tr>\n",
       "      <th>1</th>\n",
       "      <td>0</td>\n",
       "      <td>0</td>\n",
       "      <td>15</td>\n",
       "      <td>17.0</td>\n",
       "      <td>0.0</td>\n",
       "      <td>25.0</td>\n",
       "      <td>4.0</td>\n",
       "      <td>0.0</td>\n",
       "      <td>Spring</td>\n",
       "      <td>5.0</td>\n",
       "      <td>True</td>\n",
       "      <td>2023-05-01 00:15:00</td>\n",
       "      <td>1</td>\n",
       "    </tr>\n",
       "    <tr>\n",
       "      <th>2</th>\n",
       "      <td>0</td>\n",
       "      <td>0</td>\n",
       "      <td>30</td>\n",
       "      <td>17.0</td>\n",
       "      <td>0.0</td>\n",
       "      <td>25.0</td>\n",
       "      <td>4.0</td>\n",
       "      <td>0.0</td>\n",
       "      <td>Spring</td>\n",
       "      <td>5.0</td>\n",
       "      <td>True</td>\n",
       "      <td>2023-05-01 00:30:00</td>\n",
       "      <td>1</td>\n",
       "    </tr>\n",
       "    <tr>\n",
       "      <th>3</th>\n",
       "      <td>0</td>\n",
       "      <td>0</td>\n",
       "      <td>45</td>\n",
       "      <td>17.0</td>\n",
       "      <td>0.0</td>\n",
       "      <td>25.0</td>\n",
       "      <td>4.0</td>\n",
       "      <td>0.0</td>\n",
       "      <td>Spring</td>\n",
       "      <td>5.0</td>\n",
       "      <td>True</td>\n",
       "      <td>2023-05-01 00:45:00</td>\n",
       "      <td>1</td>\n",
       "    </tr>\n",
       "    <tr>\n",
       "      <th>4</th>\n",
       "      <td>0</td>\n",
       "      <td>1</td>\n",
       "      <td>0</td>\n",
       "      <td>17.0</td>\n",
       "      <td>0.0</td>\n",
       "      <td>25.0</td>\n",
       "      <td>4.0</td>\n",
       "      <td>0.0</td>\n",
       "      <td>Spring</td>\n",
       "      <td>5.0</td>\n",
       "      <td>True</td>\n",
       "      <td>2023-05-01 01:00:00</td>\n",
       "      <td>1</td>\n",
       "    </tr>\n",
       "    <tr>\n",
       "      <th>...</th>\n",
       "      <td>...</td>\n",
       "      <td>...</td>\n",
       "      <td>...</td>\n",
       "      <td>...</td>\n",
       "      <td>...</td>\n",
       "      <td>...</td>\n",
       "      <td>...</td>\n",
       "      <td>...</td>\n",
       "      <td>...</td>\n",
       "      <td>...</td>\n",
       "      <td>...</td>\n",
       "      <td>...</td>\n",
       "      <td>...</td>\n",
       "    </tr>\n",
       "    <tr>\n",
       "      <th>2971</th>\n",
       "      <td>2</td>\n",
       "      <td>22</td>\n",
       "      <td>45</td>\n",
       "      <td>21.0</td>\n",
       "      <td>0.0</td>\n",
       "      <td>25.0</td>\n",
       "      <td>4.0</td>\n",
       "      <td>0.0</td>\n",
       "      <td>Spring</td>\n",
       "      <td>5.0</td>\n",
       "      <td>True</td>\n",
       "      <td>2023-05-31 22:45:00</td>\n",
       "      <td>31</td>\n",
       "    </tr>\n",
       "    <tr>\n",
       "      <th>2972</th>\n",
       "      <td>2</td>\n",
       "      <td>23</td>\n",
       "      <td>0</td>\n",
       "      <td>21.0</td>\n",
       "      <td>0.0</td>\n",
       "      <td>25.0</td>\n",
       "      <td>4.0</td>\n",
       "      <td>0.0</td>\n",
       "      <td>Spring</td>\n",
       "      <td>5.0</td>\n",
       "      <td>True</td>\n",
       "      <td>2023-05-31 23:00:00</td>\n",
       "      <td>31</td>\n",
       "    </tr>\n",
       "    <tr>\n",
       "      <th>2973</th>\n",
       "      <td>2</td>\n",
       "      <td>23</td>\n",
       "      <td>15</td>\n",
       "      <td>21.0</td>\n",
       "      <td>0.0</td>\n",
       "      <td>25.0</td>\n",
       "      <td>4.0</td>\n",
       "      <td>0.0</td>\n",
       "      <td>Spring</td>\n",
       "      <td>5.0</td>\n",
       "      <td>True</td>\n",
       "      <td>2023-05-31 23:15:00</td>\n",
       "      <td>31</td>\n",
       "    </tr>\n",
       "    <tr>\n",
       "      <th>2974</th>\n",
       "      <td>2</td>\n",
       "      <td>23</td>\n",
       "      <td>30</td>\n",
       "      <td>21.0</td>\n",
       "      <td>0.0</td>\n",
       "      <td>25.0</td>\n",
       "      <td>4.0</td>\n",
       "      <td>0.0</td>\n",
       "      <td>Spring</td>\n",
       "      <td>5.0</td>\n",
       "      <td>True</td>\n",
       "      <td>2023-05-31 23:30:00</td>\n",
       "      <td>31</td>\n",
       "    </tr>\n",
       "    <tr>\n",
       "      <th>2975</th>\n",
       "      <td>2</td>\n",
       "      <td>23</td>\n",
       "      <td>45</td>\n",
       "      <td>21.0</td>\n",
       "      <td>0.0</td>\n",
       "      <td>25.0</td>\n",
       "      <td>4.0</td>\n",
       "      <td>0.0</td>\n",
       "      <td>Spring</td>\n",
       "      <td>5.0</td>\n",
       "      <td>True</td>\n",
       "      <td>2023-05-31 23:45:00</td>\n",
       "      <td>31</td>\n",
       "    </tr>\n",
       "  </tbody>\n",
       "</table>\n",
       "<p>2976 rows × 13 columns</p>\n",
       "</div>"
      ],
      "text/plain": [
       "      day_of_week  hour  grouped_minute  temperature  rainfall  capacity  \\\n",
       "0               0     0               0         17.0       0.0      25.0   \n",
       "1               0     0              15         17.0       0.0      25.0   \n",
       "2               0     0              30         17.0       0.0      25.0   \n",
       "3               0     0              45         17.0       0.0      25.0   \n",
       "4               0     1               0         17.0       0.0      25.0   \n",
       "...           ...   ...             ...          ...       ...       ...   \n",
       "2971            2    22              45         21.0       0.0      25.0   \n",
       "2972            2    23               0         21.0       0.0      25.0   \n",
       "2973            2    23              15         21.0       0.0      25.0   \n",
       "2974            2    23              30         21.0       0.0      25.0   \n",
       "2975            2    23              45         21.0       0.0      25.0   \n",
       "\n",
       "      altitude  is_weekend  season  month  docking_available  \\\n",
       "0          4.0         0.0  Spring    5.0               True   \n",
       "1          4.0         0.0  Spring    5.0               True   \n",
       "2          4.0         0.0  Spring    5.0               True   \n",
       "3          4.0         0.0  Spring    5.0               True   \n",
       "4          4.0         0.0  Spring    5.0               True   \n",
       "...        ...         ...     ...    ...                ...   \n",
       "2971       4.0         0.0  Spring    5.0               True   \n",
       "2972       4.0         0.0  Spring    5.0               True   \n",
       "2973       4.0         0.0  Spring    5.0               True   \n",
       "2974       4.0         0.0  Spring    5.0               True   \n",
       "2975       4.0         0.0  Spring    5.0               True   \n",
       "\n",
       "            grouped_date  day  \n",
       "0    2023-05-01 00:00:00    1  \n",
       "1    2023-05-01 00:15:00    1  \n",
       "2    2023-05-01 00:30:00    1  \n",
       "3    2023-05-01 00:45:00    1  \n",
       "4    2023-05-01 01:00:00    1  \n",
       "...                  ...  ...  \n",
       "2971 2023-05-31 22:45:00   31  \n",
       "2972 2023-05-31 23:00:00   31  \n",
       "2973 2023-05-31 23:15:00   31  \n",
       "2974 2023-05-31 23:30:00   31  \n",
       "2975 2023-05-31 23:45:00   31  \n",
       "\n",
       "[2976 rows x 13 columns]"
      ]
     },
     "execution_count": 51,
     "metadata": {},
     "output_type": "execute_result"
    }
   ],
   "source": [
    "df_may_filled['day_of_week'] = df_may_filled['grouped_date'].dt.dayofweek\n",
    "df_may_filled['hour'] = df_may_filled['grouped_date'].dt.hour\n",
    "df_may_filled['grouped_minute'] = df_may_filled['grouped_date'].dt.minute \n",
    "df_may_filled['day'] = df_may_filled['grouped_date'].dt.day\n",
    "df_may_filled"
   ]
  },
  {
   "cell_type": "markdown",
   "metadata": {},
   "source": [
    "### LSTM"
   ]
  },
  {
   "cell_type": "code",
   "execution_count": 62,
   "metadata": {},
   "outputs": [
    {
     "name": "stderr",
     "output_type": "stream",
     "text": [
      "/var/folders/1j/zxqksxbs0bg17c_9cj2hm8bh0000gn/T/ipykernel_92085/1782850941.py:3: SettingWithCopyWarning:\n",
      "\n",
      "\n",
      "A value is trying to be set on a copy of a slice from a DataFrame.\n",
      "Try using .loc[row_indexer,col_indexer] = value instead\n",
      "\n",
      "See the caveats in the documentation: https://pandas.pydata.org/pandas-docs/stable/user_guide/indexing.html#returning-a-view-versus-a-copy\n",
      "\n"
     ]
    },
    {
     "data": {
      "image/png": "[encoded data removed]",
      "text/plain": [
       "<Figure size 1600x600 with 2 Axes>"
      ]
     },
     "metadata": {},
     "output_type": "display_data"
    }
   ],
   "source": [
    "#corr \n",
    "df = df_may_filled[['docking_available','day_of_week', 'hour', 'grouped_minute', 'temperature', 'rainfall','grouped_date','is_weekend']]\n",
    "df['hour_minute'] = df['hour'] + df['grouped_minute'] / 60\n",
    "corr = df.corr(numeric_only=True)\n",
    "# plot the heatmap\n",
    "import seaborn as sns\n",
    "import matplotlib.pyplot as plt\n",
    "\n",
    "plt.figure(figsize=(16, 6))\n",
    "sns.heatmap(corr, annot=True, cmap='coolwarm', fmt=\".2f\")\n",
    "plt.title('Correlation Matrix')\n",
    "plt.show()"
   ]
  },
  {
   "cell_type": "code",
   "execution_count": 84,
   "metadata": {},
   "outputs": [
    {
     "name": "stdout",
     "output_type": "stream",
     "text": [
      "Epoch 1/30\n"
     ]
    },
    {
     "name": "stderr",
     "output_type": "stream",
     "text": [
      "/Users/sol/Library/Python/3.9/lib/python/site-packages/keras/src/layers/rnn/rnn.py:204: UserWarning:\n",
      "\n",
      "Do not pass an `input_shape`/`input_dim` argument to a layer. When using Sequential models, prefer using an `Input(shape)` object as the first layer in the model instead.\n",
      "\n"
     ]
    },
    {
     "name": "stdout",
     "output_type": "stream",
     "text": [
      "\u001b[1m60/60\u001b[0m \u001b[32m━━━━━━━━━━━━━━━━━━━━\u001b[0m\u001b[37m\u001b[0m \u001b[1m8s\u001b[0m 26ms/step - accuracy: 0.7731 - loss: 0.5666 - val_accuracy: 0.8611 - val_loss: 0.3900\n",
      "Epoch 2/30\n",
      "\u001b[1m60/60\u001b[0m \u001b[32m━━━━━━━━━━━━━━━━━━━━\u001b[0m\u001b[37m\u001b[0m \u001b[1m1s\u001b[0m 11ms/step - accuracy: 0.8407 - loss: 0.4071 - val_accuracy: 0.8611 - val_loss: 0.3685\n",
      "Epoch 3/30\n",
      "\u001b[1m60/60\u001b[0m \u001b[32m━━━━━━━━━━━━━━━━━━━━\u001b[0m\u001b[37m\u001b[0m \u001b[1m1s\u001b[0m 13ms/step - accuracy: 0.8345 - loss: 0.3831 - val_accuracy: 0.8611 - val_loss: 0.3565\n",
      "Epoch 4/30\n",
      "\u001b[1m60/60\u001b[0m \u001b[32m━━━━━━━━━━━━━━━━━━━━\u001b[0m\u001b[37m\u001b[0m \u001b[1m1s\u001b[0m 11ms/step - accuracy: 0.8411 - loss: 0.3631 - val_accuracy: 0.8611 - val_loss: 0.3409\n",
      "Epoch 5/30\n",
      "\u001b[1m60/60\u001b[0m \u001b[32m━━━━━━━━━━━━━━━━━━━━\u001b[0m\u001b[37m\u001b[0m \u001b[1m1s\u001b[0m 12ms/step - accuracy: 0.8352 - loss: 0.3316 - val_accuracy: 0.8653 - val_loss: 0.3112\n",
      "Epoch 6/30\n",
      "\u001b[1m60/60\u001b[0m \u001b[32m━━━━━━━━━━━━━━━━━━━━\u001b[0m\u001b[37m\u001b[0m \u001b[1m1s\u001b[0m 12ms/step - accuracy: 0.8372 - loss: 0.3186 - val_accuracy: 0.8716 - val_loss: 0.3233\n",
      "Epoch 7/30\n",
      "\u001b[1m60/60\u001b[0m \u001b[32m━━━━━━━━━━━━━━━━━━━━\u001b[0m\u001b[37m\u001b[0m \u001b[1m1s\u001b[0m 12ms/step - accuracy: 0.8722 - loss: 0.2811 - val_accuracy: 0.8800 - val_loss: 0.3129\n",
      "Epoch 8/30\n",
      "\u001b[1m60/60\u001b[0m \u001b[32m━━━━━━━━━━━━━━━━━━━━\u001b[0m\u001b[37m\u001b[0m \u001b[1m1s\u001b[0m 13ms/step - accuracy: 0.8817 - loss: 0.2607 - val_accuracy: 0.8905 - val_loss: 0.2924\n",
      "Epoch 9/30\n",
      "\u001b[1m60/60\u001b[0m \u001b[32m━━━━━━━━━━━━━━━━━━━━\u001b[0m\u001b[37m\u001b[0m \u001b[1m1s\u001b[0m 10ms/step - accuracy: 0.9000 - loss: 0.2355 - val_accuracy: 0.8779 - val_loss: 0.3462\n",
      "Epoch 10/30\n",
      "\u001b[1m60/60\u001b[0m \u001b[32m━━━━━━━━━━━━━━━━━━━━\u001b[0m\u001b[37m\u001b[0m \u001b[1m1s\u001b[0m 12ms/step - accuracy: 0.8965 - loss: 0.2278 - val_accuracy: 0.8821 - val_loss: 0.3468\n",
      "Epoch 11/30\n",
      "\u001b[1m60/60\u001b[0m \u001b[32m━━━━━━━━━━━━━━━━━━━━\u001b[0m\u001b[37m\u001b[0m \u001b[1m1s\u001b[0m 11ms/step - accuracy: 0.9121 - loss: 0.1953 - val_accuracy: 0.8821 - val_loss: 0.3290\n",
      "Epoch 12/30\n",
      "\u001b[1m60/60\u001b[0m \u001b[32m━━━━━━━━━━━━━━━━━━━━\u001b[0m\u001b[37m\u001b[0m \u001b[1m1s\u001b[0m 11ms/step - accuracy: 0.9009 - loss: 0.2060 - val_accuracy: 0.8821 - val_loss: 0.3859\n",
      "Epoch 13/30\n",
      "\u001b[1m60/60\u001b[0m \u001b[32m━━━━━━━━━━━━━━━━━━━━\u001b[0m\u001b[37m\u001b[0m \u001b[1m1s\u001b[0m 14ms/step - accuracy: 0.9188 - loss: 0.1829 - val_accuracy: 0.8926 - val_loss: 0.4379\n",
      "Epoch 14/30\n",
      "\u001b[1m60/60\u001b[0m \u001b[32m━━━━━━━━━━━━━━━━━━━━\u001b[0m\u001b[37m\u001b[0m \u001b[1m1s\u001b[0m 11ms/step - accuracy: 0.9261 - loss: 0.1577 - val_accuracy: 0.8926 - val_loss: 0.5193\n",
      "Epoch 15/30\n",
      "\u001b[1m60/60\u001b[0m \u001b[32m━━━━━━━━━━━━━━━━━━━━\u001b[0m\u001b[37m\u001b[0m \u001b[1m1s\u001b[0m 11ms/step - accuracy: 0.9250 - loss: 0.1799 - val_accuracy: 0.8905 - val_loss: 0.4692\n",
      "Epoch 16/30\n",
      "\u001b[1m60/60\u001b[0m \u001b[32m━━━━━━━━━━━━━━━━━━━━\u001b[0m\u001b[37m\u001b[0m \u001b[1m1s\u001b[0m 11ms/step - accuracy: 0.9221 - loss: 0.1614 - val_accuracy: 0.8947 - val_loss: 0.5952\n",
      "Epoch 17/30\n",
      "\u001b[1m60/60\u001b[0m \u001b[32m━━━━━━━━━━━━━━━━━━━━\u001b[0m\u001b[37m\u001b[0m \u001b[1m1s\u001b[0m 13ms/step - accuracy: 0.9430 - loss: 0.1380 - val_accuracy: 0.9011 - val_loss: 0.6562\n",
      "Epoch 18/30\n",
      "\u001b[1m60/60\u001b[0m \u001b[32m━━━━━━━━━━━━━━━━━━━━\u001b[0m\u001b[37m\u001b[0m \u001b[1m1s\u001b[0m 11ms/step - accuracy: 0.9416 - loss: 0.1415 - val_accuracy: 0.8989 - val_loss: 0.8344\n",
      "Epoch 19/30\n",
      "\u001b[1m60/60\u001b[0m \u001b[32m━━━━━━━━━━━━━━━━━━━━\u001b[0m\u001b[37m\u001b[0m \u001b[1m1s\u001b[0m 12ms/step - accuracy: 0.9518 - loss: 0.1202 - val_accuracy: 0.8863 - val_loss: 0.9261\n",
      "Epoch 20/30\n",
      "\u001b[1m60/60\u001b[0m \u001b[32m━━━━━━━━━━━━━━━━━━━━\u001b[0m\u001b[37m\u001b[0m \u001b[1m1s\u001b[0m 10ms/step - accuracy: 0.9434 - loss: 0.1489 - val_accuracy: 0.8947 - val_loss: 0.7203\n",
      "Epoch 21/30\n",
      "\u001b[1m60/60\u001b[0m \u001b[32m━━━━━━━━━━━━━━━━━━━━\u001b[0m\u001b[37m\u001b[0m \u001b[1m1s\u001b[0m 13ms/step - accuracy: 0.9351 - loss: 0.1392 - val_accuracy: 0.8905 - val_loss: 0.9134\n",
      "Epoch 22/30\n",
      "\u001b[1m60/60\u001b[0m \u001b[32m━━━━━━━━━━━━━━━━━━━━\u001b[0m\u001b[37m\u001b[0m \u001b[1m1s\u001b[0m 11ms/step - accuracy: 0.9576 - loss: 0.0961 - val_accuracy: 0.8989 - val_loss: 0.8305\n",
      "Epoch 23/30\n",
      "\u001b[1m60/60\u001b[0m \u001b[32m━━━━━━━━━━━━━━━━━━━━\u001b[0m\u001b[37m\u001b[0m \u001b[1m1s\u001b[0m 11ms/step - accuracy: 0.9626 - loss: 0.0990 - val_accuracy: 0.8947 - val_loss: 0.9408\n",
      "Epoch 24/30\n",
      "\u001b[1m60/60\u001b[0m \u001b[32m━━━━━━━━━━━━━━━━━━━━\u001b[0m\u001b[37m\u001b[0m \u001b[1m1s\u001b[0m 13ms/step - accuracy: 0.9562 - loss: 0.1065 - val_accuracy: 0.8863 - val_loss: 1.2602\n",
      "Epoch 25/30\n",
      "\u001b[1m60/60\u001b[0m \u001b[32m━━━━━━━━━━━━━━━━━━━━\u001b[0m\u001b[37m\u001b[0m \u001b[1m1s\u001b[0m 12ms/step - accuracy: 0.9535 - loss: 0.1021 - val_accuracy: 0.8926 - val_loss: 1.7145\n",
      "Epoch 26/30\n",
      "\u001b[1m60/60\u001b[0m \u001b[32m━━━━━━━━━━━━━━━━━━━━\u001b[0m\u001b[37m\u001b[0m \u001b[1m1s\u001b[0m 11ms/step - accuracy: 0.9632 - loss: 0.0895 - val_accuracy: 0.8884 - val_loss: 0.9332\n",
      "Epoch 27/30\n",
      "\u001b[1m60/60\u001b[0m \u001b[32m━━━━━━━━━━━━━━━━━━━━\u001b[0m\u001b[37m\u001b[0m \u001b[1m1s\u001b[0m 10ms/step - accuracy: 0.9571 - loss: 0.0856 - val_accuracy: 0.8926 - val_loss: 1.8159\n",
      "Epoch 28/30\n",
      "\u001b[1m60/60\u001b[0m \u001b[32m━━━━━━━━━━━━━━━━━━━━\u001b[0m\u001b[37m\u001b[0m \u001b[1m1s\u001b[0m 12ms/step - accuracy: 0.9678 - loss: 0.0767 - val_accuracy: 0.8947 - val_loss: 1.8802\n",
      "Epoch 29/30\n",
      "\u001b[1m60/60\u001b[0m \u001b[32m━━━━━━━━━━━━━━━━━━━━\u001b[0m\u001b[37m\u001b[0m \u001b[1m1s\u001b[0m 10ms/step - accuracy: 0.9726 - loss: 0.0705 - val_accuracy: 0.8947 - val_loss: 3.5016\n",
      "Epoch 30/30\n",
      "\u001b[1m60/60\u001b[0m \u001b[32m━━━━━━━━━━━━━━━━━━━━\u001b[0m\u001b[37m\u001b[0m \u001b[1m1s\u001b[0m 10ms/step - accuracy: 0.9603 - loss: 0.1151 - val_accuracy: 0.8947 - val_loss: 1.3208\n",
      "\u001b[1m19/19\u001b[0m \u001b[32m━━━━━━━━━━━━━━━━━━━━\u001b[0m\u001b[37m\u001b[0m \u001b[1m0s\u001b[0m 5ms/step - accuracy: 0.9027 - loss: 0.4496\n",
      "Test Loss: 0.5525937080383301\n",
      "Test Accuracy: 0.9074074029922485\n",
      "\u001b[1m19/19\u001b[0m \u001b[32m━━━━━━━━━━━━━━━━━━━━\u001b[0m\u001b[37m\u001b[0m \u001b[1m1s\u001b[0m 25ms/step\n"
     ]
    }
   ],
   "source": [
    "import pandas as pd\n",
    "import numpy as np\n",
    "from sklearn.preprocessing import StandardScaler, OneHotEncoder\n",
    "from sklearn.compose import ColumnTransformer\n",
    "from sklearn.pipeline import Pipeline\n",
    "from tensorflow.keras.models import Sequential\n",
    "from tensorflow.keras.layers import LSTM, Dense, LeakyReLU, Dropout\n",
    "from sklearn.model_selection import train_test_split\n",
    "from sklearn.preprocessing import LabelEncoder\n",
    "\n",
    "\n",
    "\n",
    "df_lstm_2 = df.copy()\n",
    "df_lstm_2['day'] = df_lstm_2['grouped_date'].dt.day.astype(int)\n",
    "# Assuming df_rfg is your DataFrame\n",
    "# Feature and target definition\n",
    "features = ['day_of_week', 'hour', 'grouped_minute', 'temperature', 'rainfall',\n",
    "            'capacity',  'altitude', 'station_id', 'is_weekend', 'is_summer', 'week_number']\n",
    "features = ['day_of_week', 'hour', 'grouped_minute', 'temperature', 'rainfall',\n",
    "            'capacity',  'altitude', 'is_weekend', 'season', 'month']\n",
    "features = ['day_of_week', 'hour', 'grouped_minute', 'temperature', 'rainfall',\n",
    "            'is_weekend', 'day' ]\n",
    "features = ['day_of_week', 'hour_minute', 'temperature', 'rainfall',\n",
    "            'is_weekend' ]\n",
    "\n",
    "target = 'docking_available'\n",
    "\n",
    "# Encoding categorical features\n",
    "categorical_features = ['day_of_week',  'is_weekend', 'hour_minute']\n",
    "numerical_features = ['temperature', 'rainfall']\n",
    "preprocessor = ColumnTransformer(\n",
    "    transformers=[\n",
    "        ('num', StandardScaler(), numerical_features),\n",
    "        ('cat', OneHotEncoder(), categorical_features)\n",
    "    ])\n",
    "\n",
    "# Process features\n",
    "X = df_lstm_2[features]\n",
    "y = df_lstm_2[target]\n",
    "\n",
    "X_processed = preprocessor.fit_transform(X)\n",
    "\n",
    "# Create sequences\n",
    "def create_sequences(data, target, sequence_length=10):\n",
    "    X_seq, y_seq = [], []\n",
    "    for i in range(len(data) - sequence_length):\n",
    "        X_seq.append(data[i:i + sequence_length])\n",
    "        y_seq.append(target[i + sequence_length])\n",
    "    return np.array(X_seq), np.array(y_seq)\n",
    "\n",
    "sequence_length = 10\n",
    "X_processed = X_processed.toarray() \n",
    "X_seq, y_seq = create_sequences(X_processed, y.values, sequence_length)\n",
    "\n",
    "# Train-test split\n",
    "X_train, X_test, y_train, y_test = train_test_split(X_seq, y_seq, test_size=0.2, random_state=42)\n",
    "\n",
    "num_classes = len(np.unique(y))\n",
    "\n",
    "# Convert target variable to one-hot encoded format\n",
    "y_train_encoded = to_categorical(y_train, num_classes=num_classes)\n",
    "y_test_encoded = to_categorical(y_test, num_classes=num_classes)\n",
    "\n",
    "# Build LSTM model\n",
    "model = Sequential()\n",
    "#model.add(LSTM(50, activation='relu', input_shape=(sequence_length, X_seq.shape[2])))\n",
    "model.add(LSTM(50, activation='relu', input_shape=(sequence_length, X_seq.shape[2]), return_sequences=True))\n",
    "model.add(LSTM(50, activation='relu'))\n",
    "#model.add(Dense(9500, activation='relu'))\n",
    "#model.add(Dense(1024))\n",
    "#model.add(LeakyReLU(alpha=0.01))\n",
    "model.add(Dropout(0.5))  # Dropout layer to prevent overfitting\n",
    "model.add(Dense(num_classes, activation='softmax'))  # Output layer for classification\n",
    "\n",
    "# Compile the model\n",
    "model.compile(optimizer='adam', loss='categorical_crossentropy', metrics=['accuracy'])\n",
    "\n",
    "# Train the model\n",
    "history = model.fit(X_train, y_train_encoded, epochs=30, batch_size=32, validation_split=0.2)\n",
    "\n",
    "# Evaluate the model\n",
    "loss, accuracy = model.evaluate(X_test, y_test_encoded)\n",
    "print(f\"Test Loss: {loss}\")\n",
    "print(f\"Test Accuracy: {accuracy}\")\n",
    "\n",
    "# Predict\n",
    "y_pred_prob = model.predict(X_test)\n",
    "y_pred = np.argmax(y_pred_prob, axis=1)  # Convert probabilities to class labels\n",
    "\n"
   ]
  },
  {
   "cell_type": "code",
   "execution_count": 85,
   "metadata": {},
   "outputs": [
    {
     "data": {
      "image/png": "[encoded data removed]",
      "text/plain": [
       "<Figure size 1200x600 with 1 Axes>"
      ]
     },
     "metadata": {},
     "output_type": "display_data"
    },
    {
     "data": {
      "image/png": "[encoded data removed]",
      "text/plain": [
       "<Figure size 640x480 with 1 Axes>"
      ]
     },
     "metadata": {},
     "output_type": "display_data"
    }
   ],
   "source": [
    "# Plotting the training history\n",
    "import matplotlib.pyplot as plt\n",
    "\n",
    "# Example to show some predictions vs actual\n",
    "plt.figure(figsize=(12, 6))\n",
    "plt.plot(y_test[:100], label='Actual')\n",
    "plt.plot(y_pred[:100], label='Predicted')\n",
    "plt.legend()\n",
    "plt.show()\n",
    "\n",
    "plt.plot(history.history['accuracy'], label='accuracy')\n",
    "plt.plot(history.history['val_accuracy'], label = 'val_accuracy')\n",
    "plt.xlabel('Epoch')\n",
    "plt.ylabel('Accuracy')\n",
    "plt.ylim([0.5, 1])\n",
    "plt.legend(loc='lower right')\n",
    "plt.show()"
   ]
  },
  {
   "cell_type": "code",
   "execution_count": 86,
   "metadata": {},
   "outputs": [
    {
     "name": "stdout",
     "output_type": "stream",
     "text": [
      "Mean Absolute Error (MAE): 0.09259259259259259\n",
      "Mean Squared Error (MSE): 0.09259259259259259\n",
      "Root Mean Squared Error (RMSE): 0.3042903097250923\n",
      "R-squared (R²): 0.2663043478260869\n",
      "Confusion Matrix: [[ 54  34]\n",
      " [ 21 485]]\n"
     ]
    }
   ],
   "source": [
    "from sklearn.metrics import mean_absolute_error, mean_squared_error, r2_score, confusion_matrix\n",
    "# Calculate additional metrics\n",
    "mae = mean_absolute_error(y_test, y_pred)\n",
    "mse = mean_squared_error(y_test, y_pred)\n",
    "rmse = np.sqrt(mse)\n",
    "r2 = r2_score(y_test, y_pred)\n",
    "cm  = confusion_matrix(y_test, y_pred)\n",
    "\n",
    "print(f\"Mean Absolute Error (MAE): {mae}\")\n",
    "print(f\"Mean Squared Error (MSE): {mse}\")\n",
    "print(f\"Root Mean Squared Error (RMSE): {rmse}\")\n",
    "print(f\"R-squared (R²): {r2}\")\n",
    "print(f\"Confusion Matrix: {cm}\")"
   ]
  },
  {
   "cell_type": "code",
   "execution_count": 83,
   "metadata": {},
   "outputs": [
    {
     "name": "stdout",
     "output_type": "stream",
     "text": [
      "Accuracy: 0.8973063973063973\n",
      "Confusion Matrix:\n",
      " [[ 62  26]\n",
      " [ 35 471]]\n",
      "Classification Report:\n",
      "               precision    recall  f1-score   support\n",
      "\n",
      "       False       0.64      0.70      0.67        88\n",
      "        True       0.95      0.93      0.94       506\n",
      "\n",
      "    accuracy                           0.90       594\n",
      "   macro avg       0.79      0.82      0.80       594\n",
      "weighted avg       0.90      0.90      0.90       594\n",
      "\n",
      "Precision:  0.9476861167002012\n",
      "Recall:  0.9308300395256917\n",
      "F1 Score:  0.9391824526420738\n",
      "ROC AUC:  0.8176877470355732\n"
     ]
    }
   ],
   "source": [
    "from sklearn.metrics import accuracy_score, precision_score, recall_score, f1_score, roc_auc_score, classification_report\n",
    "# Evaluate Accuracy, precision, recall, F1-score, ROC curve, AUC.\n",
    "accuracy = accuracy_score(y_test, y_pred)\n",
    "precision = precision_score(y_test, y_pred)\n",
    "recall = recall_score(y_test, y_pred)\n",
    "f1 = f1_score(y_test, y_pred)\n",
    "roc_auc = roc_auc_score(y_test, y_pred)\n",
    "conf_matrix = confusion_matrix(y_test, y_pred)\n",
    "class_report = classification_report(y_test, y_pred)\n",
    "\n",
    "print(f\"Accuracy: {accuracy}\")\n",
    "print(\"Confusion Matrix:\\n\", conf_matrix)\n",
    "print(\"Classification Report:\\n\", class_report)\n",
    "print(\"Precision: \", precision)\n",
    "print(\"Recall: \", recall)\n",
    "print(\"F1 Score: \", f1)\n",
    "print(\"ROC AUC: \", roc_auc)"
   ]
  },
  {
   "cell_type": "markdown",
   "metadata": {},
   "source": [
    "#### CM"
   ]
  },
  {
   "cell_type": "code",
   "execution_count": 70,
   "metadata": {},
   "outputs": [
    {
     "data": {
      "application/vnd.plotly.v1+json": {
       "config": {
        "plotlyServerURL": "https://plot.ly"
       },
       "data": [
        {
         "coloraxis": "coloraxis",
         "hovertemplate": "Predicted: %{x}<br>True: %{y}<br>Count: %{z}<extra></extra>",
         "name": "0",
         "texttemplate": "%{z}",
         "type": "heatmap",
         "xaxis": "x",
         "yaxis": "y",
         "z": [
          [
           70,
           18
          ],
          [
           40,
           466
          ]
         ]
        }
       ],
       "layout": {
        "coloraxis": {
         "colorbar": {
          "title": {
           "text": "Count"
          }
         },
         "colorscale": [
          [
           0,
           "#0d0887"
          ],
          [
           0.1111111111111111,
           "#46039f"
          ],
          [
           0.2222222222222222,
           "#7201a8"
          ],
          [
           0.3333333333333333,
           "#9c179e"
          ],
          [
           0.4444444444444444,
           "#bd3786"
          ],
          [
           0.5555555555555556,
           "#d8576b"
          ],
          [
           0.6666666666666666,
           "#ed7953"
          ],
          [
           0.7777777777777778,
           "#fb9f3a"
          ],
          [
           0.8888888888888888,
           "#fdca26"
          ],
          [
           1,
           "#f0f921"
          ]
         ]
        },
        "margin": {
         "t": 60
        },
        "template": {
         "data": {
          "bar": [
           {
            "error_x": {
             "color": "#2a3f5f"
            },
            "error_y": {
             "color": "#2a3f5f"
            },
            "marker": {
             "line": {
              "color": "#E5ECF6",
              "width": 0.5
             },
             "pattern": {
              "fillmode": "overlay",
              "size": 10,
              "solidity": 0.2
             }
            },
            "type": "bar"
           }
          ],
          "barpolar": [
           {
            "marker": {
             "line": {
              "color": "#E5ECF6",
              "width": 0.5
             },
             "pattern": {
              "fillmode": "overlay",
              "size": 10,
              "solidity": 0.2
             }
            },
            "type": "barpolar"
           }
          ],
          "carpet": [
           {
            "aaxis": {
             "endlinecolor": "#2a3f5f",
             "gridcolor": "white",
             "linecolor": "white",
             "minorgridcolor": "white",
             "startlinecolor": "#2a3f5f"
            },
            "baxis": {
             "endlinecolor": "#2a3f5f",
             "gridcolor": "white",
             "linecolor": "white",
             "minorgridcolor": "white",
             "startlinecolor": "#2a3f5f"
            },
            "type": "carpet"
           }
          ],
          "choropleth": [
           {
            "colorbar": {
             "outlinewidth": 0,
             "ticks": ""
            },
            "type": "choropleth"
           }
          ],
          "contour": [
           {
            "colorbar": {
             "outlinewidth": 0,
             "ticks": ""
            },
            "colorscale": [
             [
              0,
              "#0d0887"
             ],
             [
              0.1111111111111111,
              "#46039f"
             ],
             [
              0.2222222222222222,
              "#7201a8"
             ],
             [
              0.3333333333333333,
              "#9c179e"
             ],
             [
              0.4444444444444444,
              "#bd3786"
             ],
             [
              0.5555555555555556,
              "#d8576b"
             ],
             [
              0.6666666666666666,
              "#ed7953"
             ],
             [
              0.7777777777777778,
              "#fb9f3a"
             ],
             [
              0.8888888888888888,
              "#fdca26"
             ],
             [
              1,
              "#f0f921"
             ]
            ],
            "type": "contour"
           }
          ],
          "contourcarpet": [
           {
            "colorbar": {
             "outlinewidth": 0,
             "ticks": ""
            },
            "type": "contourcarpet"
           }
          ],
          "heatmap": [
           {
            "colorbar": {
             "outlinewidth": 0,
             "ticks": ""
            },
            "colorscale": [
             [
              0,
              "#0d0887"
             ],
             [
              0.1111111111111111,
              "#46039f"
             ],
             [
              0.2222222222222222,
              "#7201a8"
             ],
             [
              0.3333333333333333,
              "#9c179e"
             ],
             [
              0.4444444444444444,
              "#bd3786"
             ],
             [
              0.5555555555555556,
              "#d8576b"
             ],
             [
              0.6666666666666666,
              "#ed7953"
             ],
             [
              0.7777777777777778,
              "#fb9f3a"
             ],
             [
              0.8888888888888888,
              "#fdca26"
             ],
             [
              1,
              "#f0f921"
             ]
            ],
            "type": "heatmap"
           }
          ],
          "heatmapgl": [
           {
            "colorbar": {
             "outlinewidth": 0,
             "ticks": ""
            },
            "colorscale": [
             [
              0,
              "#0d0887"
             ],
             [
              0.1111111111111111,
              "#46039f"
             ],
             [
              0.2222222222222222,
              "#7201a8"
             ],
             [
              0.3333333333333333,
              "#9c179e"
             ],
             [
              0.4444444444444444,
              "#bd3786"
             ],
             [
              0.5555555555555556,
              "#d8576b"
             ],
             [
              0.6666666666666666,
              "#ed7953"
             ],
             [
              0.7777777777777778,
              "#fb9f3a"
             ],
             [
              0.8888888888888888,
              "#fdca26"
             ],
             [
              1,
              "#f0f921"
             ]
            ],
            "type": "heatmapgl"
           }
          ],
          "histogram": [
           {
            "marker": {
             "pattern": {
              "fillmode": "overlay",
              "size": 10,
              "solidity": 0.2
             }
            },
            "type": "histogram"
           }
          ],
          "histogram2d": [
           {
            "colorbar": {
             "outlinewidth": 0,
             "ticks": ""
            },
            "colorscale": [
             [
              0,
              "#0d0887"
             ],
             [
              0.1111111111111111,
              "#46039f"
             ],
             [
              0.2222222222222222,
              "#7201a8"
             ],
             [
              0.3333333333333333,
              "#9c179e"
             ],
             [
              0.4444444444444444,
              "#bd3786"
             ],
             [
              0.5555555555555556,
              "#d8576b"
             ],
             [
              0.6666666666666666,
              "#ed7953"
             ],
             [
              0.7777777777777778,
              "#fb9f3a"
             ],
             [
              0.8888888888888888,
              "#fdca26"
             ],
             [
              1,
              "#f0f921"
             ]
            ],
            "type": "histogram2d"
           }
          ],
          "histogram2dcontour": [
           {
            "colorbar": {
             "outlinewidth": 0,
             "ticks": ""
            },
            "colorscale": [
             [
              0,
              "#0d0887"
             ],
             [
              0.1111111111111111,
              "#46039f"
             ],
             [
              0.2222222222222222,
              "#7201a8"
             ],
             [
              0.3333333333333333,
              "#9c179e"
             ],
             [
              0.4444444444444444,
              "#bd3786"
             ],
             [
              0.5555555555555556,
              "#d8576b"
             ],
             [
              0.6666666666666666,
              "#ed7953"
             ],
             [
              0.7777777777777778,
              "#fb9f3a"
             ],
             [
              0.8888888888888888,
              "#fdca26"
             ],
             [
              1,
              "#f0f921"
             ]
            ],
            "type": "histogram2dcontour"
           }
          ],
          "mesh3d": [
           {
            "colorbar": {
             "outlinewidth": 0,
             "ticks": ""
            },
            "type": "mesh3d"
           }
          ],
          "parcoords": [
           {
            "line": {
             "colorbar": {
              "outlinewidth": 0,
              "ticks": ""
             }
            },
            "type": "parcoords"
           }
          ],
          "pie": [
           {
            "automargin": true,
            "type": "pie"
           }
          ],
          "scatter": [
           {
            "fillpattern": {
             "fillmode": "overlay",
             "size": 10,
             "solidity": 0.2
            },
            "type": "scatter"
           }
          ],
          "scatter3d": [
           {
            "line": {
             "colorbar": {
              "outlinewidth": 0,
              "ticks": ""
             }
            },
            "marker": {
             "colorbar": {
              "outlinewidth": 0,
              "ticks": ""
             }
            },
            "type": "scatter3d"
           }
          ],
          "scattercarpet": [
           {
            "marker": {
             "colorbar": {
              "outlinewidth": 0,
              "ticks": ""
             }
            },
            "type": "scattercarpet"
           }
          ],
          "scattergeo": [
           {
            "marker": {
             "colorbar": {
              "outlinewidth": 0,
              "ticks": ""
             }
            },
            "type": "scattergeo"
           }
          ],
          "scattergl": [
           {
            "marker": {
             "colorbar": {
              "outlinewidth": 0,
              "ticks": ""
             }
            },
            "type": "scattergl"
           }
          ],
          "scattermapbox": [
           {
            "marker": {
             "colorbar": {
              "outlinewidth": 0,
              "ticks": ""
             }
            },
            "type": "scattermapbox"
           }
          ],
          "scatterpolar": [
           {
            "marker": {
             "colorbar": {
              "outlinewidth": 0,
              "ticks": ""
             }
            },
            "type": "scatterpolar"
           }
          ],
          "scatterpolargl": [
           {
            "marker": {
             "colorbar": {
              "outlinewidth": 0,
              "ticks": ""
             }
            },
            "type": "scatterpolargl"
           }
          ],
          "scatterternary": [
           {
            "marker": {
             "colorbar": {
              "outlinewidth": 0,
              "ticks": ""
             }
            },
            "type": "scatterternary"
           }
          ],
          "surface": [
           {
            "colorbar": {
             "outlinewidth": 0,
             "ticks": ""
            },
            "colorscale": [
             [
              0,
              "#0d0887"
             ],
             [
              0.1111111111111111,
              "#46039f"
             ],
             [
              0.2222222222222222,
              "#7201a8"
             ],
             [
              0.3333333333333333,
              "#9c179e"
             ],
             [
              0.4444444444444444,
              "#bd3786"
             ],
             [
              0.5555555555555556,
              "#d8576b"
             ],
             [
              0.6666666666666666,
              "#ed7953"
             ],
             [
              0.7777777777777778,
              "#fb9f3a"
             ],
             [
              0.8888888888888888,
              "#fdca26"
             ],
             [
              1,
              "#f0f921"
             ]
            ],
            "type": "surface"
           }
          ],
          "table": [
           {
            "cells": {
             "fill": {
              "color": "#EBF0F8"
             },
             "line": {
              "color": "white"
             }
            },
            "header": {
             "fill": {
              "color": "#C8D4E3"
             },
             "line": {
              "color": "white"
             }
            },
            "type": "table"
           }
          ]
         },
         "layout": {
          "annotationdefaults": {
           "arrowcolor": "#2a3f5f",
           "arrowhead": 0,
           "arrowwidth": 1
          },
          "autotypenumbers": "strict",
          "coloraxis": {
           "colorbar": {
            "outlinewidth": 0,
            "ticks": ""
           }
          },
          "colorscale": {
           "diverging": [
            [
             0,
             "#8e0152"
            ],
            [
             0.1,
             "#c51b7d"
            ],
            [
             0.2,
             "#de77ae"
            ],
            [
             0.3,
             "#f1b6da"
            ],
            [
             0.4,
             "#fde0ef"
            ],
            [
             0.5,
             "#f7f7f7"
            ],
            [
             0.6,
             "#e6f5d0"
            ],
            [
             0.7,
             "#b8e186"
            ],
            [
             0.8,
             "#7fbc41"
            ],
            [
             0.9,
             "#4d9221"
            ],
            [
             1,
             "#276419"
            ]
           ],
           "sequential": [
            [
             0,
             "#0d0887"
            ],
            [
             0.1111111111111111,
             "#46039f"
            ],
            [
             0.2222222222222222,
             "#7201a8"
            ],
            [
             0.3333333333333333,
             "#9c179e"
            ],
            [
             0.4444444444444444,
             "#bd3786"
            ],
            [
             0.5555555555555556,
             "#d8576b"
            ],
            [
             0.6666666666666666,
             "#ed7953"
            ],
            [
             0.7777777777777778,
             "#fb9f3a"
            ],
            [
             0.8888888888888888,
             "#fdca26"
            ],
            [
             1,
             "#f0f921"
            ]
           ],
           "sequentialminus": [
            [
             0,
             "#0d0887"
            ],
            [
             0.1111111111111111,
             "#46039f"
            ],
            [
             0.2222222222222222,
             "#7201a8"
            ],
            [
             0.3333333333333333,
             "#9c179e"
            ],
            [
             0.4444444444444444,
             "#bd3786"
            ],
            [
             0.5555555555555556,
             "#d8576b"
            ],
            [
             0.6666666666666666,
             "#ed7953"
            ],
            [
             0.7777777777777778,
             "#fb9f3a"
            ],
            [
             0.8888888888888888,
             "#fdca26"
            ],
            [
             1,
             "#f0f921"
            ]
           ]
          },
          "colorway": [
           "#636efa",
           "#EF553B",
           "#00cc96",
           "#ab63fa",
           "#FFA15A",
           "#19d3f3",
           "#FF6692",
           "#B6E880",
           "#FF97FF",
           "#FECB52"
          ],
          "font": {
           "color": "#2a3f5f"
          },
          "geo": {
           "bgcolor": "white",
           "lakecolor": "white",
           "landcolor": "#E5ECF6",
           "showlakes": true,
           "showland": true,
           "subunitcolor": "white"
          },
          "hoverlabel": {
           "align": "left"
          },
          "hovermode": "closest",
          "mapbox": {
           "style": "light"
          },
          "paper_bgcolor": "white",
          "plot_bgcolor": "#E5ECF6",
          "polar": {
           "angularaxis": {
            "gridcolor": "white",
            "linecolor": "white",
            "ticks": ""
           },
           "bgcolor": "#E5ECF6",
           "radialaxis": {
            "gridcolor": "white",
            "linecolor": "white",
            "ticks": ""
           }
          },
          "scene": {
           "xaxis": {
            "backgroundcolor": "#E5ECF6",
            "gridcolor": "white",
            "gridwidth": 2,
            "linecolor": "white",
            "showbackground": true,
            "ticks": "",
            "zerolinecolor": "white"
           },
           "yaxis": {
            "backgroundcolor": "#E5ECF6",
            "gridcolor": "white",
            "gridwidth": 2,
            "linecolor": "white",
            "showbackground": true,
            "ticks": "",
            "zerolinecolor": "white"
           },
           "zaxis": {
            "backgroundcolor": "#E5ECF6",
            "gridcolor": "white",
            "gridwidth": 2,
            "linecolor": "white",
            "showbackground": true,
            "ticks": "",
            "zerolinecolor": "white"
           }
          },
          "shapedefaults": {
           "line": {
            "color": "#2a3f5f"
           }
          },
          "ternary": {
           "aaxis": {
            "gridcolor": "white",
            "linecolor": "white",
            "ticks": ""
           },
           "baxis": {
            "gridcolor": "white",
            "linecolor": "white",
            "ticks": ""
           },
           "bgcolor": "#E5ECF6",
           "caxis": {
            "gridcolor": "white",
            "linecolor": "white",
            "ticks": ""
           }
          },
          "title": {
           "x": 0.05
          },
          "xaxis": {
           "automargin": true,
           "gridcolor": "white",
           "linecolor": "white",
           "ticks": "",
           "title": {
            "standoff": 15
           },
           "zerolinecolor": "white",
           "zerolinewidth": 2
          },
          "yaxis": {
           "automargin": true,
           "gridcolor": "white",
           "linecolor": "white",
           "ticks": "",
           "title": {
            "standoff": 15
           },
           "zerolinecolor": "white",
           "zerolinewidth": 2
          }
         }
        },
        "title": {
         "text": "Confusion Matrix"
        },
        "xaxis": {
         "anchor": "y",
         "constrain": "domain",
         "domain": [
          0,
          1
         ],
         "scaleanchor": "y",
         "ticktext": [
          "No",
          "Yes"
         ],
         "tickvals": [
          0,
          1
         ],
         "title": {
          "text": "Predicted"
         }
        },
        "yaxis": {
         "anchor": "x",
         "autorange": "reversed",
         "constrain": "domain",
         "domain": [
          0,
          1
         ],
         "ticktext": [
          "No",
          "Yes"
         ],
         "tickvals": [
          0,
          1
         ],
         "title": {
          "text": "True"
         }
        }
       }
      }
     },
     "metadata": {},
     "output_type": "display_data"
    }
   ],
   "source": [
    "import plotly.express as px\n",
    "fig = px.imshow(conf_matrix, text_auto=True,labels=dict(x=\"Predicted\", y=\"True\", color=\"Count\"))\n",
    "fig.update_layout(title='Confusion Matrix')\n",
    "fig.update_xaxes(title_text='Predicted', tickvals = [0, 1], ticktext = ['No', 'Yes'])\n",
    "fig.update_yaxes(title_text='True', tickvals = [0, 1], ticktext = ['No', 'Yes'])\n",
    "fig.show()"
   ]
  },
  {
   "cell_type": "markdown",
   "metadata": {},
   "source": [
    "## RFC try"
   ]
  },
  {
   "cell_type": "code",
   "execution_count": 38,
   "metadata": {},
   "outputs": [
    {
     "data": {
      "text/html": [
       "<style>#sk-container-id-1 {\n",
       "  /* Definition of color scheme common for light and dark mode */\n",
       "  --sklearn-color-text: black;\n",
       "  --sklearn-color-line: gray;\n",
       "  /* Definition of color scheme for unfitted estimators */\n",
       "  --sklearn-color-unfitted-level-0: #fff5e6;\n",
       "  --sklearn-color-unfitted-level-1: #f6e4d2;\n",
       "  --sklearn-color-unfitted-level-2: #ffe0b3;\n",
       "  --sklearn-color-unfitted-level-3: chocolate;\n",
       "  /* Definition of color scheme for fitted estimators */\n",
       "  --sklearn-color-fitted-level-0: #f0f8ff;\n",
       "  --sklearn-color-fitted-level-1: #d4ebff;\n",
       "  --sklearn-color-fitted-level-2: #b3dbfd;\n",
       "  --sklearn-color-fitted-level-3: cornflowerblue;\n",
       "\n",
       "  /* Specific color for light theme */\n",
       "  --sklearn-color-text-on-default-background: var(--sg-text-color, var(--theme-code-foreground, var(--jp-content-font-color1, black)));\n",
       "  --sklearn-color-background: var(--sg-background-color, var(--theme-background, var(--jp-layout-color0, white)));\n",
       "  --sklearn-color-border-box: var(--sg-text-color, var(--theme-code-foreground, var(--jp-content-font-color1, black)));\n",
       "  --sklearn-color-icon: #696969;\n",
       "\n",
       "  @media (prefers-color-scheme: dark) {\n",
       "    /* Redefinition of color scheme for dark theme */\n",
       "    --sklearn-color-text-on-default-background: var(--sg-text-color, var(--theme-code-foreground, var(--jp-content-font-color1, white)));\n",
       "    --sklearn-color-background: var(--sg-background-color, var(--theme-background, var(--jp-layout-color0, #111)));\n",
       "    --sklearn-color-border-box: var(--sg-text-color, var(--theme-code-foreground, var(--jp-content-font-color1, white)));\n",
       "    --sklearn-color-icon: #878787;\n",
       "  }\n",
       "}\n",
       "\n",
       "#sk-container-id-1 {\n",
       "  color: var(--sklearn-color-text);\n",
       "}\n",
       "\n",
       "#sk-container-id-1 pre {\n",
       "  padding: 0;\n",
       "}\n",
       "\n",
       "#sk-container-id-1 input.sk-hidden--visually {\n",
       "  border: 0;\n",
       "  clip: rect(1px 1px 1px 1px);\n",
       "  clip: rect(1px, 1px, 1px, 1px);\n",
       "  height: 1px;\n",
       "  margin: -1px;\n",
       "  overflow: hidden;\n",
       "  padding: 0;\n",
       "  position: absolute;\n",
       "  width: 1px;\n",
       "}\n",
       "\n",
       "#sk-container-id-1 div.sk-dashed-wrapped {\n",
       "  border: 1px dashed var(--sklearn-color-line);\n",
       "  margin: 0 0.4em 0.5em 0.4em;\n",
       "  box-sizing: border-box;\n",
       "  padding-bottom: 0.4em;\n",
       "  background-color: var(--sklearn-color-background);\n",
       "}\n",
       "\n",
       "#sk-container-id-1 div.sk-container {\n",
       "  /* jupyter's `normalize.less` sets `[hidden] { display: none; }`\n",
       "     but bootstrap.min.css set `[hidden] { display: none !important; }`\n",
       "     so we also need the `!important` here to be able to override the\n",
       "     default hidden behavior on the sphinx rendered scikit-learn.org.\n",
       "     See: https://github.com/scikit-learn/scikit-learn/issues/21755 */\n",
       "  display: inline-block !important;\n",
       "  position: relative;\n",
       "}\n",
       "\n",
       "#sk-container-id-1 div.sk-text-repr-fallback {\n",
       "  display: none;\n",
       "}\n",
       "\n",
       "div.sk-parallel-item,\n",
       "div.sk-serial,\n",
       "div.sk-item {\n",
       "  /* draw centered vertical line to link estimators */\n",
       "  background-image: linear-gradient(var(--sklearn-color-text-on-default-background), var(--sklearn-color-text-on-default-background));\n",
       "  background-size: 2px 100%;\n",
       "  background-repeat: no-repeat;\n",
       "  background-position: center center;\n",
       "}\n",
       "\n",
       "/* Parallel-specific style estimator block */\n",
       "\n",
       "#sk-container-id-1 div.sk-parallel-item::after {\n",
       "  content: \"\";\n",
       "  width: 100%;\n",
       "  border-bottom: 2px solid var(--sklearn-color-text-on-default-background);\n",
       "  flex-grow: 1;\n",
       "}\n",
       "\n",
       "#sk-container-id-1 div.sk-parallel {\n",
       "  display: flex;\n",
       "  align-items: stretch;\n",
       "  justify-content: center;\n",
       "  background-color: var(--sklearn-color-background);\n",
       "  position: relative;\n",
       "}\n",
       "\n",
       "#sk-container-id-1 div.sk-parallel-item {\n",
       "  display: flex;\n",
       "  flex-direction: column;\n",
       "}\n",
       "\n",
       "#sk-container-id-1 div.sk-parallel-item:first-child::after {\n",
       "  align-self: flex-end;\n",
       "  width: 50%;\n",
       "}\n",
       "\n",
       "#sk-container-id-1 div.sk-parallel-item:last-child::after {\n",
       "  align-self: flex-start;\n",
       "  width: 50%;\n",
       "}\n",
       "\n",
       "#sk-container-id-1 div.sk-parallel-item:only-child::after {\n",
       "  width: 0;\n",
       "}\n",
       "\n",
       "/* Serial-specific style estimator block */\n",
       "\n",
       "#sk-container-id-1 div.sk-serial {\n",
       "  display: flex;\n",
       "  flex-direction: column;\n",
       "  align-items: center;\n",
       "  background-color: var(--sklearn-color-background);\n",
       "  padding-right: 1em;\n",
       "  padding-left: 1em;\n",
       "}\n",
       "\n",
       "\n",
       "/* Toggleable style: style used for estimator/Pipeline/ColumnTransformer box that is\n",
       "clickable and can be expanded/collapsed.\n",
       "- Pipeline and ColumnTransformer use this feature and define the default style\n",
       "- Estimators will overwrite some part of the style using the `sk-estimator` class\n",
       "*/\n",
       "\n",
       "/* Pipeline and ColumnTransformer style (default) */\n",
       "\n",
       "#sk-container-id-1 div.sk-toggleable {\n",
       "  /* Default theme specific background. It is overwritten whether we have a\n",
       "  specific estimator or a Pipeline/ColumnTransformer */\n",
       "  background-color: var(--sklearn-color-background);\n",
       "}\n",
       "\n",
       "/* Toggleable label */\n",
       "#sk-container-id-1 label.sk-toggleable__label {\n",
       "  cursor: pointer;\n",
       "  display: block;\n",
       "  width: 100%;\n",
       "  margin-bottom: 0;\n",
       "  padding: 0.5em;\n",
       "  box-sizing: border-box;\n",
       "  text-align: center;\n",
       "}\n",
       "\n",
       "#sk-container-id-1 label.sk-toggleable__label-arrow:before {\n",
       "  /* Arrow on the left of the label */\n",
       "  content: \"▸\";\n",
       "  float: left;\n",
       "  margin-right: 0.25em;\n",
       "  color: var(--sklearn-color-icon);\n",
       "}\n",
       "\n",
       "#sk-container-id-1 label.sk-toggleable__label-arrow:hover:before {\n",
       "  color: var(--sklearn-color-text);\n",
       "}\n",
       "\n",
       "/* Toggleable content - dropdown */\n",
       "\n",
       "#sk-container-id-1 div.sk-toggleable__content {\n",
       "  max-height: 0;\n",
       "  max-width: 0;\n",
       "  overflow: hidden;\n",
       "  text-align: left;\n",
       "  /* unfitted */\n",
       "  background-color: var(--sklearn-color-unfitted-level-0);\n",
       "}\n",
       "\n",
       "#sk-container-id-1 div.sk-toggleable__content.fitted {\n",
       "  /* fitted */\n",
       "  background-color: var(--sklearn-color-fitted-level-0);\n",
       "}\n",
       "\n",
       "#sk-container-id-1 div.sk-toggleable__content pre {\n",
       "  margin: 0.2em;\n",
       "  border-radius: 0.25em;\n",
       "  color: var(--sklearn-color-text);\n",
       "  /* unfitted */\n",
       "  background-color: var(--sklearn-color-unfitted-level-0);\n",
       "}\n",
       "\n",
       "#sk-container-id-1 div.sk-toggleable__content.fitted pre {\n",
       "  /* unfitted */\n",
       "  background-color: var(--sklearn-color-fitted-level-0);\n",
       "}\n",
       "\n",
       "#sk-container-id-1 input.sk-toggleable__control:checked~div.sk-toggleable__content {\n",
       "  /* Expand drop-down */\n",
       "  max-height: 200px;\n",
       "  max-width: 100%;\n",
       "  overflow: auto;\n",
       "}\n",
       "\n",
       "#sk-container-id-1 input.sk-toggleable__control:checked~label.sk-toggleable__label-arrow:before {\n",
       "  content: \"▾\";\n",
       "}\n",
       "\n",
       "/* Pipeline/ColumnTransformer-specific style */\n",
       "\n",
       "#sk-container-id-1 div.sk-label input.sk-toggleable__control:checked~label.sk-toggleable__label {\n",
       "  color: var(--sklearn-color-text);\n",
       "  background-color: var(--sklearn-color-unfitted-level-2);\n",
       "}\n",
       "\n",
       "#sk-container-id-1 div.sk-label.fitted input.sk-toggleable__control:checked~label.sk-toggleable__label {\n",
       "  background-color: var(--sklearn-color-fitted-level-2);\n",
       "}\n",
       "\n",
       "/* Estimator-specific style */\n",
       "\n",
       "/* Colorize estimator box */\n",
       "#sk-container-id-1 div.sk-estimator input.sk-toggleable__control:checked~label.sk-toggleable__label {\n",
       "  /* unfitted */\n",
       "  background-color: var(--sklearn-color-unfitted-level-2);\n",
       "}\n",
       "\n",
       "#sk-container-id-1 div.sk-estimator.fitted input.sk-toggleable__control:checked~label.sk-toggleable__label {\n",
       "  /* fitted */\n",
       "  background-color: var(--sklearn-color-fitted-level-2);\n",
       "}\n",
       "\n",
       "#sk-container-id-1 div.sk-label label.sk-toggleable__label,\n",
       "#sk-container-id-1 div.sk-label label {\n",
       "  /* The background is the default theme color */\n",
       "  color: var(--sklearn-color-text-on-default-background);\n",
       "}\n",
       "\n",
       "/* On hover, darken the color of the background */\n",
       "#sk-container-id-1 div.sk-label:hover label.sk-toggleable__label {\n",
       "  color: var(--sklearn-color-text);\n",
       "  background-color: var(--sklearn-color-unfitted-level-2);\n",
       "}\n",
       "\n",
       "/* Label box, darken color on hover, fitted */\n",
       "#sk-container-id-1 div.sk-label.fitted:hover label.sk-toggleable__label.fitted {\n",
       "  color: var(--sklearn-color-text);\n",
       "  background-color: var(--sklearn-color-fitted-level-2);\n",
       "}\n",
       "\n",
       "/* Estimator label */\n",
       "\n",
       "#sk-container-id-1 div.sk-label label {\n",
       "  font-family: monospace;\n",
       "  font-weight: bold;\n",
       "  display: inline-block;\n",
       "  line-height: 1.2em;\n",
       "}\n",
       "\n",
       "#sk-container-id-1 div.sk-label-container {\n",
       "  text-align: center;\n",
       "}\n",
       "\n",
       "/* Estimator-specific */\n",
       "#sk-container-id-1 div.sk-estimator {\n",
       "  font-family: monospace;\n",
       "  border: 1px dotted var(--sklearn-color-border-box);\n",
       "  border-radius: 0.25em;\n",
       "  box-sizing: border-box;\n",
       "  margin-bottom: 0.5em;\n",
       "  /* unfitted */\n",
       "  background-color: var(--sklearn-color-unfitted-level-0);\n",
       "}\n",
       "\n",
       "#sk-container-id-1 div.sk-estimator.fitted {\n",
       "  /* fitted */\n",
       "  background-color: var(--sklearn-color-fitted-level-0);\n",
       "}\n",
       "\n",
       "/* on hover */\n",
       "#sk-container-id-1 div.sk-estimator:hover {\n",
       "  /* unfitted */\n",
       "  background-color: var(--sklearn-color-unfitted-level-2);\n",
       "}\n",
       "\n",
       "#sk-container-id-1 div.sk-estimator.fitted:hover {\n",
       "  /* fitted */\n",
       "  background-color: var(--sklearn-color-fitted-level-2);\n",
       "}\n",
       "\n",
       "/* Specification for estimator info (e.g. \"i\" and \"?\") */\n",
       "\n",
       "/* Common style for \"i\" and \"?\" */\n",
       "\n",
       ".sk-estimator-doc-link,\n",
       "a:link.sk-estimator-doc-link,\n",
       "a:visited.sk-estimator-doc-link {\n",
       "  float: right;\n",
       "  font-size: smaller;\n",
       "  line-height: 1em;\n",
       "  font-family: monospace;\n",
       "  background-color: var(--sklearn-color-background);\n",
       "  border-radius: 1em;\n",
       "  height: 1em;\n",
       "  width: 1em;\n",
       "  text-decoration: none !important;\n",
       "  margin-left: 1ex;\n",
       "  /* unfitted */\n",
       "  border: var(--sklearn-color-unfitted-level-1) 1pt solid;\n",
       "  color: var(--sklearn-color-unfitted-level-1);\n",
       "}\n",
       "\n",
       ".sk-estimator-doc-link.fitted,\n",
       "a:link.sk-estimator-doc-link.fitted,\n",
       "a:visited.sk-estimator-doc-link.fitted {\n",
       "  /* fitted */\n",
       "  border: var(--sklearn-color-fitted-level-1) 1pt solid;\n",
       "  color: var(--sklearn-color-fitted-level-1);\n",
       "}\n",
       "\n",
       "/* On hover */\n",
       "div.sk-estimator:hover .sk-estimator-doc-link:hover,\n",
       ".sk-estimator-doc-link:hover,\n",
       "div.sk-label-container:hover .sk-estimator-doc-link:hover,\n",
       ".sk-estimator-doc-link:hover {\n",
       "  /* unfitted */\n",
       "  background-color: var(--sklearn-color-unfitted-level-3);\n",
       "  color: var(--sklearn-color-background);\n",
       "  text-decoration: none;\n",
       "}\n",
       "\n",
       "div.sk-estimator.fitted:hover .sk-estimator-doc-link.fitted:hover,\n",
       ".sk-estimator-doc-link.fitted:hover,\n",
       "div.sk-label-container:hover .sk-estimator-doc-link.fitted:hover,\n",
       ".sk-estimator-doc-link.fitted:hover {\n",
       "  /* fitted */\n",
       "  background-color: var(--sklearn-color-fitted-level-3);\n",
       "  color: var(--sklearn-color-background);\n",
       "  text-decoration: none;\n",
       "}\n",
       "\n",
       "/* Span, style for the box shown on hovering the info icon */\n",
       ".sk-estimator-doc-link span {\n",
       "  display: none;\n",
       "  z-index: 9999;\n",
       "  position: relative;\n",
       "  font-weight: normal;\n",
       "  right: .2ex;\n",
       "  padding: .5ex;\n",
       "  margin: .5ex;\n",
       "  width: min-content;\n",
       "  min-width: 20ex;\n",
       "  max-width: 50ex;\n",
       "  color: var(--sklearn-color-text);\n",
       "  box-shadow: 2pt 2pt 4pt #999;\n",
       "  /* unfitted */\n",
       "  background: var(--sklearn-color-unfitted-level-0);\n",
       "  border: .5pt solid var(--sklearn-color-unfitted-level-3);\n",
       "}\n",
       "\n",
       ".sk-estimator-doc-link.fitted span {\n",
       "  /* fitted */\n",
       "  background: var(--sklearn-color-fitted-level-0);\n",
       "  border: var(--sklearn-color-fitted-level-3);\n",
       "}\n",
       "\n",
       ".sk-estimator-doc-link:hover span {\n",
       "  display: block;\n",
       "}\n",
       "\n",
       "/* \"?\"-specific style due to the `<a>` HTML tag */\n",
       "\n",
       "#sk-container-id-1 a.estimator_doc_link {\n",
       "  float: right;\n",
       "  font-size: 1rem;\n",
       "  line-height: 1em;\n",
       "  font-family: monospace;\n",
       "  background-color: var(--sklearn-color-background);\n",
       "  border-radius: 1rem;\n",
       "  height: 1rem;\n",
       "  width: 1rem;\n",
       "  text-decoration: none;\n",
       "  /* unfitted */\n",
       "  color: var(--sklearn-color-unfitted-level-1);\n",
       "  border: var(--sklearn-color-unfitted-level-1) 1pt solid;\n",
       "}\n",
       "\n",
       "#sk-container-id-1 a.estimator_doc_link.fitted {\n",
       "  /* fitted */\n",
       "  border: var(--sklearn-color-fitted-level-1) 1pt solid;\n",
       "  color: var(--sklearn-color-fitted-level-1);\n",
       "}\n",
       "\n",
       "/* On hover */\n",
       "#sk-container-id-1 a.estimator_doc_link:hover {\n",
       "  /* unfitted */\n",
       "  background-color: var(--sklearn-color-unfitted-level-3);\n",
       "  color: var(--sklearn-color-background);\n",
       "  text-decoration: none;\n",
       "}\n",
       "\n",
       "#sk-container-id-1 a.estimator_doc_link.fitted:hover {\n",
       "  /* fitted */\n",
       "  background-color: var(--sklearn-color-fitted-level-3);\n",
       "}\n",
       "</style><div id=\"sk-container-id-1\" class=\"sk-top-container\"><div class=\"sk-text-repr-fallback\"><pre>Pipeline(steps=[(&#x27;preprocessor&#x27;,\n",
       "                 ColumnTransformer(transformers=[(&#x27;num&#x27;, StandardScaler(),\n",
       "                                                  [&#x27;temperature&#x27;, &#x27;rainfall&#x27;]),\n",
       "                                                 (&#x27;cat&#x27;,\n",
       "                                                  OneHotEncoder(handle_unknown=&#x27;ignore&#x27;),\n",
       "                                                  [&#x27;day_of_week&#x27;, &#x27;is_weekend&#x27;,\n",
       "                                                   &#x27;hour&#x27;,\n",
       "                                                   &#x27;grouped_minute&#x27;])])),\n",
       "                (&#x27;model&#x27;,\n",
       "                 RandomForestClassifier(max_depth=50, min_samples_split=10,\n",
       "                                        n_estimators=600, random_state=42))])</pre><b>In a Jupyter environment, please rerun this cell to show the HTML representation or trust the notebook. <br />On GitHub, the HTML representation is unable to render, please try loading this page with nbviewer.org.</b></div><div class=\"sk-container\" hidden><div class=\"sk-item sk-dashed-wrapped\"><div class=\"sk-label-container\"><div class=\"sk-label  sk-toggleable\"><input class=\"sk-toggleable__control sk-hidden--visually\" id=\"sk-estimator-id-1\" type=\"checkbox\" ><label for=\"sk-estimator-id-1\" class=\"sk-toggleable__label  sk-toggleable__label-arrow \">&nbsp;&nbsp;Pipeline<a class=\"sk-estimator-doc-link \" rel=\"noreferrer\" target=\"_blank\" href=\"https://scikit-learn.org/1.4/modules/generated/sklearn.pipeline.Pipeline.html\">?<span>Documentation for Pipeline</span></a><span class=\"sk-estimator-doc-link \">i<span>Not fitted</span></span></label><div class=\"sk-toggleable__content \"><pre>Pipeline(steps=[(&#x27;preprocessor&#x27;,\n",
       "                 ColumnTransformer(transformers=[(&#x27;num&#x27;, StandardScaler(),\n",
       "                                                  [&#x27;temperature&#x27;, &#x27;rainfall&#x27;]),\n",
       "                                                 (&#x27;cat&#x27;,\n",
       "                                                  OneHotEncoder(handle_unknown=&#x27;ignore&#x27;),\n",
       "                                                  [&#x27;day_of_week&#x27;, &#x27;is_weekend&#x27;,\n",
       "                                                   &#x27;hour&#x27;,\n",
       "                                                   &#x27;grouped_minute&#x27;])])),\n",
       "                (&#x27;model&#x27;,\n",
       "                 RandomForestClassifier(max_depth=50, min_samples_split=10,\n",
       "                                        n_estimators=600, random_state=42))])</pre></div> </div></div><div class=\"sk-serial\"><div class=\"sk-item sk-dashed-wrapped\"><div class=\"sk-label-container\"><div class=\"sk-label  sk-toggleable\"><input class=\"sk-toggleable__control sk-hidden--visually\" id=\"sk-estimator-id-2\" type=\"checkbox\" ><label for=\"sk-estimator-id-2\" class=\"sk-toggleable__label  sk-toggleable__label-arrow \">&nbsp;preprocessor: ColumnTransformer<a class=\"sk-estimator-doc-link \" rel=\"noreferrer\" target=\"_blank\" href=\"https://scikit-learn.org/1.4/modules/generated/sklearn.compose.ColumnTransformer.html\">?<span>Documentation for preprocessor: ColumnTransformer</span></a></label><div class=\"sk-toggleable__content \"><pre>ColumnTransformer(transformers=[(&#x27;num&#x27;, StandardScaler(),\n",
       "                                 [&#x27;temperature&#x27;, &#x27;rainfall&#x27;]),\n",
       "                                (&#x27;cat&#x27;, OneHotEncoder(handle_unknown=&#x27;ignore&#x27;),\n",
       "                                 [&#x27;day_of_week&#x27;, &#x27;is_weekend&#x27;, &#x27;hour&#x27;,\n",
       "                                  &#x27;grouped_minute&#x27;])])</pre></div> </div></div><div class=\"sk-parallel\"><div class=\"sk-parallel-item\"><div class=\"sk-item\"><div class=\"sk-label-container\"><div class=\"sk-label  sk-toggleable\"><input class=\"sk-toggleable__control sk-hidden--visually\" id=\"sk-estimator-id-3\" type=\"checkbox\" ><label for=\"sk-estimator-id-3\" class=\"sk-toggleable__label  sk-toggleable__label-arrow \">num</label><div class=\"sk-toggleable__content \"><pre>[&#x27;temperature&#x27;, &#x27;rainfall&#x27;]</pre></div> </div></div><div class=\"sk-serial\"><div class=\"sk-item\"><div class=\"sk-estimator  sk-toggleable\"><input class=\"sk-toggleable__control sk-hidden--visually\" id=\"sk-estimator-id-4\" type=\"checkbox\" ><label for=\"sk-estimator-id-4\" class=\"sk-toggleable__label  sk-toggleable__label-arrow \">&nbsp;StandardScaler<a class=\"sk-estimator-doc-link \" rel=\"noreferrer\" target=\"_blank\" href=\"https://scikit-learn.org/1.4/modules/generated/sklearn.preprocessing.StandardScaler.html\">?<span>Documentation for StandardScaler</span></a></label><div class=\"sk-toggleable__content \"><pre>StandardScaler()</pre></div> </div></div></div></div></div><div class=\"sk-parallel-item\"><div class=\"sk-item\"><div class=\"sk-label-container\"><div class=\"sk-label  sk-toggleable\"><input class=\"sk-toggleable__control sk-hidden--visually\" id=\"sk-estimator-id-5\" type=\"checkbox\" ><label for=\"sk-estimator-id-5\" class=\"sk-toggleable__label  sk-toggleable__label-arrow \">cat</label><div class=\"sk-toggleable__content \"><pre>[&#x27;day_of_week&#x27;, &#x27;is_weekend&#x27;, &#x27;hour&#x27;, &#x27;grouped_minute&#x27;]</pre></div> </div></div><div class=\"sk-serial\"><div class=\"sk-item\"><div class=\"sk-estimator  sk-toggleable\"><input class=\"sk-toggleable__control sk-hidden--visually\" id=\"sk-estimator-id-6\" type=\"checkbox\" ><label for=\"sk-estimator-id-6\" class=\"sk-toggleable__label  sk-toggleable__label-arrow \">&nbsp;OneHotEncoder<a class=\"sk-estimator-doc-link \" rel=\"noreferrer\" target=\"_blank\" href=\"https://scikit-learn.org/1.4/modules/generated/sklearn.preprocessing.OneHotEncoder.html\">?<span>Documentation for OneHotEncoder</span></a></label><div class=\"sk-toggleable__content \"><pre>OneHotEncoder(handle_unknown=&#x27;ignore&#x27;)</pre></div> </div></div></div></div></div></div></div><div class=\"sk-item\"><div class=\"sk-estimator  sk-toggleable\"><input class=\"sk-toggleable__control sk-hidden--visually\" id=\"sk-estimator-id-7\" type=\"checkbox\" ><label for=\"sk-estimator-id-7\" class=\"sk-toggleable__label  sk-toggleable__label-arrow \">&nbsp;RandomForestClassifier<a class=\"sk-estimator-doc-link \" rel=\"noreferrer\" target=\"_blank\" href=\"https://scikit-learn.org/1.4/modules/generated/sklearn.ensemble.RandomForestClassifier.html\">?<span>Documentation for RandomForestClassifier</span></a></label><div class=\"sk-toggleable__content \"><pre>RandomForestClassifier(max_depth=50, min_samples_split=10, n_estimators=600,\n",
       "                       random_state=42)</pre></div> </div></div></div></div></div></div>"
      ],
      "text/plain": [
       "Pipeline(steps=[('preprocessor',\n",
       "                 ColumnTransformer(transformers=[('num', StandardScaler(),\n",
       "                                                  ['temperature', 'rainfall']),\n",
       "                                                 ('cat',\n",
       "                                                  OneHotEncoder(handle_unknown='ignore'),\n",
       "                                                  ['day_of_week', 'is_weekend',\n",
       "                                                   'hour',\n",
       "                                                   'grouped_minute'])])),\n",
       "                ('model',\n",
       "                 RandomForestClassifier(max_depth=50, min_samples_split=10,\n",
       "                                        n_estimators=600, random_state=42))])"
      ]
     },
     "execution_count": 38,
     "metadata": {},
     "output_type": "execute_result"
    }
   ],
   "source": [
    "from sklearn.pipeline import Pipeline\n",
    "from sklearn.compose import ColumnTransformer\n",
    "from sklearn.preprocessing import StandardScaler, OneHotEncoder\n",
    "from sklearn.model_selection import train_test_split\n",
    "from sklearn.ensemble import RandomForestClassifier\n",
    "\n",
    "df_rf = df_may_filled.copy()\n",
    "df_rf['day'] = df_lstm_2['grouped_date'].dt.day.astype(int)\n",
    "# Select features and target\n",
    "features = ['day_of_week', 'hour', 'grouped_minute', 'temperature', 'rainfall',\n",
    "            'is_weekend', 'day']\n",
    "# removed month and day\n",
    "# removed feautures that are not important disctrict, is_holiday\n",
    "target = 'docking_available'\n",
    "\n",
    "X = df_rf[features]\n",
    "y = df_rf[target]\n",
    "\n",
    "# I could remove day\n",
    "categorical_features = ['day_of_week', \n",
    "                        'is_weekend',  'hour', 'grouped_minute']\n",
    "numerical_features = ['temperature', 'rainfall']\n",
    "\n",
    "\n",
    "# preprocessing for numerical data and categorical data\n",
    "numerical_transformer = StandardScaler()\n",
    "categorical_transformer = OneHotEncoder(handle_unknown='ignore')\n",
    "\n",
    "preprocessor = ColumnTransformer(\n",
    "    transformers=[\n",
    "        ('num', numerical_transformer, numerical_features),\n",
    "        ('cat', categorical_transformer, categorical_features)\n",
    "    ])\n",
    "\n",
    "# Grid search Best Parameters: {'model__max_depth': 30, 'model__min_samples_leaf': 1, 'model__min_samples_split': 10, 'model__n_estimators': 300}\n",
    "model_rf = RandomForestClassifier(\n",
    "       n_estimators=600, max_depth=50, min_samples_leaf=1, min_samples_split=10, random_state=42)\n",
    "    #random_state=42)\n",
    "#Best Parameters: {'model__max_depth': 50, 'model__min_samples_leaf': 1, 'model__min_samples_split': 10, 'model__n_estimators': 600}\n",
    " \n",
    "\n",
    "# Create pipeline\n",
    "pipeline = Pipeline(steps=[('preprocessor', preprocessor),\n",
    "                           ('model', model_rf)])\n",
    "\n",
    "pipeline"
   ]
  },
  {
   "cell_type": "markdown",
   "metadata": {},
   "source": [
    "### TRain"
   ]
  },
  {
   "cell_type": "code",
   "execution_count": 39,
   "metadata": {},
   "outputs": [
    {
     "name": "stdout",
     "output_type": "stream",
     "text": [
      "Accuracy: 0.8540268456375839\n",
      "Confusion Matrix:\n",
      " [[ 18  77]\n",
      " [ 10 491]]\n",
      "Classification Report:\n",
      "               precision    recall  f1-score   support\n",
      "\n",
      "       False       0.64      0.19      0.29        95\n",
      "        True       0.86      0.98      0.92       501\n",
      "\n",
      "    accuracy                           0.85       596\n",
      "   macro avg       0.75      0.58      0.61       596\n",
      "weighted avg       0.83      0.85      0.82       596\n",
      "\n",
      "Precision:  0.8644366197183099\n",
      "Recall:  0.9800399201596807\n",
      "F1 Score:  0.9186155285313377\n",
      "ROC AUC:  0.5847568021851035\n"
     ]
    }
   ],
   "source": [
    "import pandas as pd\n",
    "from sklearn.model_selection import cross_val_score, train_test_split\n",
    "from sklearn.ensemble import RandomForestClassifier\n",
    "from sklearn.metrics import accuracy_score, classification_report, confusion_matrix, f1_score, precision_score, recall_score, roc_auc_score\n",
    "\n",
    "\n",
    "\n",
    "X_train, X_test, y_train, y_test = train_test_split(\n",
    "    X, y, test_size=0.2, random_state=42)\n",
    "\n",
    "# Fit the model\n",
    "pipeline.fit(X_train, y_train)\n",
    "\n",
    "# Predictions\n",
    "y_pred = pipeline.predict(X_test)\n",
    "\n",
    "# Evaluate Accuracy, precision, recall, F1-score, ROC curve, AUC.\n",
    "accuracy = accuracy_score(y_test, y_pred)\n",
    "precision = precision_score(y_test, y_pred)\n",
    "recall = recall_score(y_test, y_pred)\n",
    "f1 = f1_score(y_test, y_pred)\n",
    "roc_auc = roc_auc_score(y_test, y_pred)\n",
    "conf_matrix = confusion_matrix(y_test, y_pred)\n",
    "class_report = classification_report(y_test, y_pred)\n",
    "\n",
    "print(f\"Accuracy: {accuracy}\")\n",
    "print(\"Confusion Matrix:\\n\", conf_matrix)\n",
    "print(\"Classification Report:\\n\", class_report)\n",
    "print(\"Precision: \", precision)\n",
    "print(\"Recall: \", recall)\n",
    "print(\"F1 Score: \", f1)\n",
    "print(\"ROC AUC: \", roc_auc)"
   ]
  },
  {
   "cell_type": "code",
   "execution_count": 40,
   "metadata": {},
   "outputs": [
    {
     "name": "stdout",
     "output_type": "stream",
     "text": [
      "ROC AUC Train 0.9826470652363509\n",
      "ROC AUC Test 0.8089925412333228\n"
     ]
    },
    {
     "data": {
      "image/png": "[encoded data removed]",
      "text/plain": [
       "<Figure size 1400x500 with 2 Axes>"
      ]
     },
     "metadata": {},
     "output_type": "display_data"
    }
   ],
   "source": [
    "from sklearn.metrics import roc_curve, auc\n",
    "import matplotlib.pyplot as plt\n",
    "# Compute ROC curve and AUC\n",
    "y_prob_train = pipeline.predict_proba(X_train)[:, 1]\n",
    "fpr_train, tpr_train, thresholds_train = roc_curve(y_train, y_prob_train)\n",
    "roc_auc_train = auc(fpr_train, tpr_train)\n",
    "print('ROC AUC Train', roc_auc_train)\n",
    "y_prob = pipeline.predict_proba(X_test)[:, 1]\n",
    "fpr, tpr, thresholds = roc_curve(y_test, y_prob)\n",
    "roc_auc = auc(fpr, tpr)\n",
    "print('ROC AUC Test', roc_auc)\n",
    "#plot both curves\n",
    "fig, ax = plt.subplots(1, 2, figsize=(14, 5))\n",
    "ax[0].plot(fpr_train, tpr_train, color='darkorange', lw=2, label=f'ROC curve Train (area = {roc_auc_train:0.2f})')\n",
    "ax[0].plot([0, 1], [0, 1], color='navy', lw=2, linestyle='--')\n",
    "ax[0].set_xlim([0.0, 1.0])\n",
    "ax[0].set_ylim([0.0, 1.05])\n",
    "ax[0].set_xlabel('False Positive Rate')\n",
    "ax[0].set_ylabel('True Positive Rate')\n",
    "ax[0].set_title('Training Set - ROC Curve')\n",
    "ax[0].legend(loc='lower right')\n",
    "ax[1].plot(fpr, tpr, color='darkorange', lw=2, label=f'ROC curve Test (area = {roc_auc:0.2f})')\n",
    "ax[1].plot([0, 1], [0, 1], color='navy', lw=2, linestyle='--')\n",
    "ax[1].set_xlim([0.0, 1.0])\n",
    "ax[1].set_ylim([0.0, 1.05])\n",
    "ax[1].set_xlabel('False Positive Rate')\n",
    "ax[1].set_ylabel('True Positive Rate')\n",
    "ax[1].set_title('Test Set - ROC Curve')\n",
    "ax[1].legend(loc='lower right')\n",
    "plt.show()\n"
   ]
  },
  {
   "cell_type": "markdown",
   "metadata": {},
   "source": [
    "### Confusion Matrix"
   ]
  },
  {
   "cell_type": "code",
   "execution_count": 41,
   "metadata": {},
   "outputs": [
    {
     "data": {
      "application/vnd.plotly.v1+json": {
       "config": {
        "plotlyServerURL": "https://plot.ly"
       },
       "data": [
        {
         "coloraxis": "coloraxis",
         "hovertemplate": "Predicted: %{x}<br>True: %{y}<br>Count: %{z}<extra></extra>",
         "name": "0",
         "texttemplate": "%{z}",
         "type": "heatmap",
         "xaxis": "x",
         "yaxis": "y",
         "z": [
          [
           18,
           77
          ],
          [
           10,
           491
          ]
         ]
        }
       ],
       "layout": {
        "coloraxis": {
         "colorbar": {
          "title": {
           "text": "Count"
          }
         },
         "colorscale": [
          [
           0,
           "#0d0887"
          ],
          [
           0.1111111111111111,
           "#46039f"
          ],
          [
           0.2222222222222222,
           "#7201a8"
          ],
          [
           0.3333333333333333,
           "#9c179e"
          ],
          [
           0.4444444444444444,
           "#bd3786"
          ],
          [
           0.5555555555555556,
           "#d8576b"
          ],
          [
           0.6666666666666666,
           "#ed7953"
          ],
          [
           0.7777777777777778,
           "#fb9f3a"
          ],
          [
           0.8888888888888888,
           "#fdca26"
          ],
          [
           1,
           "#f0f921"
          ]
         ]
        },
        "margin": {
         "t": 60
        },
        "template": {
         "data": {
          "bar": [
           {
            "error_x": {
             "color": "#2a3f5f"
            },
            "error_y": {
             "color": "#2a3f5f"
            },
            "marker": {
             "line": {
              "color": "#E5ECF6",
              "width": 0.5
             },
             "pattern": {
              "fillmode": "overlay",
              "size": 10,
              "solidity": 0.2
             }
            },
            "type": "bar"
           }
          ],
          "barpolar": [
           {
            "marker": {
             "line": {
              "color": "#E5ECF6",
              "width": 0.5
             },
             "pattern": {
              "fillmode": "overlay",
              "size": 10,
              "solidity": 0.2
             }
            },
            "type": "barpolar"
           }
          ],
          "carpet": [
           {
            "aaxis": {
             "endlinecolor": "#2a3f5f",
             "gridcolor": "white",
             "linecolor": "white",
             "minorgridcolor": "white",
             "startlinecolor": "#2a3f5f"
            },
            "baxis": {
             "endlinecolor": "#2a3f5f",
             "gridcolor": "white",
             "linecolor": "white",
             "minorgridcolor": "white",
             "startlinecolor": "#2a3f5f"
            },
            "type": "carpet"
           }
          ],
          "choropleth": [
           {
            "colorbar": {
             "outlinewidth": 0,
             "ticks": ""
            },
            "type": "choropleth"
           }
          ],
          "contour": [
           {
            "colorbar": {
             "outlinewidth": 0,
             "ticks": ""
            },
            "colorscale": [
             [
              0,
              "#0d0887"
             ],
             [
              0.1111111111111111,
              "#46039f"
             ],
             [
              0.2222222222222222,
              "#7201a8"
             ],
             [
              0.3333333333333333,
              "#9c179e"
             ],
             [
              0.4444444444444444,
              "#bd3786"
             ],
             [
              0.5555555555555556,
              "#d8576b"
             ],
             [
              0.6666666666666666,
              "#ed7953"
             ],
             [
              0.7777777777777778,
              "#fb9f3a"
             ],
             [
              0.8888888888888888,
              "#fdca26"
             ],
             [
              1,
              "#f0f921"
             ]
            ],
            "type": "contour"
           }
          ],
          "contourcarpet": [
           {
            "colorbar": {
             "outlinewidth": 0,
             "ticks": ""
            },
            "type": "contourcarpet"
           }
          ],
          "heatmap": [
           {
            "colorbar": {
             "outlinewidth": 0,
             "ticks": ""
            },
            "colorscale": [
             [
              0,
              "#0d0887"
             ],
             [
              0.1111111111111111,
              "#46039f"
             ],
             [
              0.2222222222222222,
              "#7201a8"
             ],
             [
              0.3333333333333333,
              "#9c179e"
             ],
             [
              0.4444444444444444,
              "#bd3786"
             ],
             [
              0.5555555555555556,
              "#d8576b"
             ],
             [
              0.6666666666666666,
              "#ed7953"
             ],
             [
              0.7777777777777778,
              "#fb9f3a"
             ],
             [
              0.8888888888888888,
              "#fdca26"
             ],
             [
              1,
              "#f0f921"
             ]
            ],
            "type": "heatmap"
           }
          ],
          "heatmapgl": [
           {
            "colorbar": {
             "outlinewidth": 0,
             "ticks": ""
            },
            "colorscale": [
             [
              0,
              "#0d0887"
             ],
             [
              0.1111111111111111,
              "#46039f"
             ],
             [
              0.2222222222222222,
              "#7201a8"
             ],
             [
              0.3333333333333333,
              "#9c179e"
             ],
             [
              0.4444444444444444,
              "#bd3786"
             ],
             [
              0.5555555555555556,
              "#d8576b"
             ],
             [
              0.6666666666666666,
              "#ed7953"
             ],
             [
              0.7777777777777778,
              "#fb9f3a"
             ],
             [
              0.8888888888888888,
              "#fdca26"
             ],
             [
              1,
              "#f0f921"
             ]
            ],
            "type": "heatmapgl"
           }
          ],
          "histogram": [
           {
            "marker": {
             "pattern": {
              "fillmode": "overlay",
              "size": 10,
              "solidity": 0.2
             }
            },
            "type": "histogram"
           }
          ],
          "histogram2d": [
           {
            "colorbar": {
             "outlinewidth": 0,
             "ticks": ""
            },
            "colorscale": [
             [
              0,
              "#0d0887"
             ],
             [
              0.1111111111111111,
              "#46039f"
             ],
             [
              0.2222222222222222,
              "#7201a8"
             ],
             [
              0.3333333333333333,
              "#9c179e"
             ],
             [
              0.4444444444444444,
              "#bd3786"
             ],
             [
              0.5555555555555556,
              "#d8576b"
             ],
             [
              0.6666666666666666,
              "#ed7953"
             ],
             [
              0.7777777777777778,
              "#fb9f3a"
             ],
             [
              0.8888888888888888,
              "#fdca26"
             ],
             [
              1,
              "#f0f921"
             ]
            ],
            "type": "histogram2d"
           }
          ],
          "histogram2dcontour": [
           {
            "colorbar": {
             "outlinewidth": 0,
             "ticks": ""
            },
            "colorscale": [
             [
              0,
              "#0d0887"
             ],
             [
              0.1111111111111111,
              "#46039f"
             ],
             [
              0.2222222222222222,
              "#7201a8"
             ],
             [
              0.3333333333333333,
              "#9c179e"
             ],
             [
              0.4444444444444444,
              "#bd3786"
             ],
             [
              0.5555555555555556,
              "#d8576b"
             ],
             [
              0.6666666666666666,
              "#ed7953"
             ],
             [
              0.7777777777777778,
              "#fb9f3a"
             ],
             [
              0.8888888888888888,
              "#fdca26"
             ],
             [
              1,
              "#f0f921"
             ]
            ],
            "type": "histogram2dcontour"
           }
          ],
          "mesh3d": [
           {
            "colorbar": {
             "outlinewidth": 0,
             "ticks": ""
            },
            "type": "mesh3d"
           }
          ],
          "parcoords": [
           {
            "line": {
             "colorbar": {
              "outlinewidth": 0,
              "ticks": ""
             }
            },
            "type": "parcoords"
           }
          ],
          "pie": [
           {
            "automargin": true,
            "type": "pie"
           }
          ],
          "scatter": [
           {
            "fillpattern": {
             "fillmode": "overlay",
             "size": 10,
             "solidity": 0.2
            },
            "type": "scatter"
           }
          ],
          "scatter3d": [
           {
            "line": {
             "colorbar": {
              "outlinewidth": 0,
              "ticks": ""
             }
            },
            "marker": {
             "colorbar": {
              "outlinewidth": 0,
              "ticks": ""
             }
            },
            "type": "scatter3d"
           }
          ],
          "scattercarpet": [
           {
            "marker": {
             "colorbar": {
              "outlinewidth": 0,
              "ticks": ""
             }
            },
            "type": "scattercarpet"
           }
          ],
          "scattergeo": [
           {
            "marker": {
             "colorbar": {
              "outlinewidth": 0,
              "ticks": ""
             }
            },
            "type": "scattergeo"
           }
          ],
          "scattergl": [
           {
            "marker": {
             "colorbar": {
              "outlinewidth": 0,
              "ticks": ""
             }
            },
            "type": "scattergl"
           }
          ],
          "scattermapbox": [
           {
            "marker": {
             "colorbar": {
              "outlinewidth": 0,
              "ticks": ""
             }
            },
            "type": "scattermapbox"
           }
          ],
          "scatterpolar": [
           {
            "marker": {
             "colorbar": {
              "outlinewidth": 0,
              "ticks": ""
             }
            },
            "type": "scatterpolar"
           }
          ],
          "scatterpolargl": [
           {
            "marker": {
             "colorbar": {
              "outlinewidth": 0,
              "ticks": ""
             }
            },
            "type": "scatterpolargl"
           }
          ],
          "scatterternary": [
           {
            "marker": {
             "colorbar": {
              "outlinewidth": 0,
              "ticks": ""
             }
            },
            "type": "scatterternary"
           }
          ],
          "surface": [
           {
            "colorbar": {
             "outlinewidth": 0,
             "ticks": ""
            },
            "colorscale": [
             [
              0,
              "#0d0887"
             ],
             [
              0.1111111111111111,
              "#46039f"
             ],
             [
              0.2222222222222222,
              "#7201a8"
             ],
             [
              0.3333333333333333,
              "#9c179e"
             ],
             [
              0.4444444444444444,
              "#bd3786"
             ],
             [
              0.5555555555555556,
              "#d8576b"
             ],
             [
              0.6666666666666666,
              "#ed7953"
             ],
             [
              0.7777777777777778,
              "#fb9f3a"
             ],
             [
              0.8888888888888888,
              "#fdca26"
             ],
             [
              1,
              "#f0f921"
             ]
            ],
            "type": "surface"
           }
          ],
          "table": [
           {
            "cells": {
             "fill": {
              "color": "#EBF0F8"
             },
             "line": {
              "color": "white"
             }
            },
            "header": {
             "fill": {
              "color": "#C8D4E3"
             },
             "line": {
              "color": "white"
             }
            },
            "type": "table"
           }
          ]
         },
         "layout": {
          "annotationdefaults": {
           "arrowcolor": "#2a3f5f",
           "arrowhead": 0,
           "arrowwidth": 1
          },
          "autotypenumbers": "strict",
          "coloraxis": {
           "colorbar": {
            "outlinewidth": 0,
            "ticks": ""
           }
          },
          "colorscale": {
           "diverging": [
            [
             0,
             "#8e0152"
            ],
            [
             0.1,
             "#c51b7d"
            ],
            [
             0.2,
             "#de77ae"
            ],
            [
             0.3,
             "#f1b6da"
            ],
            [
             0.4,
             "#fde0ef"
            ],
            [
             0.5,
             "#f7f7f7"
            ],
            [
             0.6,
             "#e6f5d0"
            ],
            [
             0.7,
             "#b8e186"
            ],
            [
             0.8,
             "#7fbc41"
            ],
            [
             0.9,
             "#4d9221"
            ],
            [
             1,
             "#276419"
            ]
           ],
           "sequential": [
            [
             0,
             "#0d0887"
            ],
            [
             0.1111111111111111,
             "#46039f"
            ],
            [
             0.2222222222222222,
             "#7201a8"
            ],
            [
             0.3333333333333333,
             "#9c179e"
            ],
            [
             0.4444444444444444,
             "#bd3786"
            ],
            [
             0.5555555555555556,
             "#d8576b"
            ],
            [
             0.6666666666666666,
             "#ed7953"
            ],
            [
             0.7777777777777778,
             "#fb9f3a"
            ],
            [
             0.8888888888888888,
             "#fdca26"
            ],
            [
             1,
             "#f0f921"
            ]
           ],
           "sequentialminus": [
            [
             0,
             "#0d0887"
            ],
            [
             0.1111111111111111,
             "#46039f"
            ],
            [
             0.2222222222222222,
             "#7201a8"
            ],
            [
             0.3333333333333333,
             "#9c179e"
            ],
            [
             0.4444444444444444,
             "#bd3786"
            ],
            [
             0.5555555555555556,
             "#d8576b"
            ],
            [
             0.6666666666666666,
             "#ed7953"
            ],
            [
             0.7777777777777778,
             "#fb9f3a"
            ],
            [
             0.8888888888888888,
             "#fdca26"
            ],
            [
             1,
             "#f0f921"
            ]
           ]
          },
          "colorway": [
           "#636efa",
           "#EF553B",
           "#00cc96",
           "#ab63fa",
           "#FFA15A",
           "#19d3f3",
           "#FF6692",
           "#B6E880",
           "#FF97FF",
           "#FECB52"
          ],
          "font": {
           "color": "#2a3f5f"
          },
          "geo": {
           "bgcolor": "white",
           "lakecolor": "white",
           "landcolor": "#E5ECF6",
           "showlakes": true,
           "showland": true,
           "subunitcolor": "white"
          },
          "hoverlabel": {
           "align": "left"
          },
          "hovermode": "closest",
          "mapbox": {
           "style": "light"
          },
          "paper_bgcolor": "white",
          "plot_bgcolor": "#E5ECF6",
          "polar": {
           "angularaxis": {
            "gridcolor": "white",
            "linecolor": "white",
            "ticks": ""
           },
           "bgcolor": "#E5ECF6",
           "radialaxis": {
            "gridcolor": "white",
            "linecolor": "white",
            "ticks": ""
           }
          },
          "scene": {
           "xaxis": {
            "backgroundcolor": "#E5ECF6",
            "gridcolor": "white",
            "gridwidth": 2,
            "linecolor": "white",
            "showbackground": true,
            "ticks": "",
            "zerolinecolor": "white"
           },
           "yaxis": {
            "backgroundcolor": "#E5ECF6",
            "gridcolor": "white",
            "gridwidth": 2,
            "linecolor": "white",
            "showbackground": true,
            "ticks": "",
            "zerolinecolor": "white"
           },
           "zaxis": {
            "backgroundcolor": "#E5ECF6",
            "gridcolor": "white",
            "gridwidth": 2,
            "linecolor": "white",
            "showbackground": true,
            "ticks": "",
            "zerolinecolor": "white"
           }
          },
          "shapedefaults": {
           "line": {
            "color": "#2a3f5f"
           }
          },
          "ternary": {
           "aaxis": {
            "gridcolor": "white",
            "linecolor": "white",
            "ticks": ""
           },
           "baxis": {
            "gridcolor": "white",
            "linecolor": "white",
            "ticks": ""
           },
           "bgcolor": "#E5ECF6",
           "caxis": {
            "gridcolor": "white",
            "linecolor": "white",
            "ticks": ""
           }
          },
          "title": {
           "x": 0.05
          },
          "xaxis": {
           "automargin": true,
           "gridcolor": "white",
           "linecolor": "white",
           "ticks": "",
           "title": {
            "standoff": 15
           },
           "zerolinecolor": "white",
           "zerolinewidth": 2
          },
          "yaxis": {
           "automargin": true,
           "gridcolor": "white",
           "linecolor": "white",
           "ticks": "",
           "title": {
            "standoff": 15
           },
           "zerolinecolor": "white",
           "zerolinewidth": 2
          }
         }
        },
        "title": {
         "text": "Confusion Matrix"
        },
        "xaxis": {
         "anchor": "y",
         "constrain": "domain",
         "domain": [
          0,
          1
         ],
         "scaleanchor": "y",
         "ticktext": [
          "No",
          "Yes"
         ],
         "tickvals": [
          0,
          1
         ],
         "title": {
          "text": "Predicted"
         }
        },
        "yaxis": {
         "anchor": "x",
         "autorange": "reversed",
         "constrain": "domain",
         "domain": [
          0,
          1
         ],
         "ticktext": [
          "No",
          "Yes"
         ],
         "tickvals": [
          0,
          1
         ],
         "title": {
          "text": "True"
         }
        }
       }
      }
     },
     "metadata": {},
     "output_type": "display_data"
    }
   ],
   "source": [
    "import plotly.express as px\n",
    "fig = px.imshow(conf_matrix, text_auto=True,labels=dict(x=\"Predicted\", y=\"True\", color=\"Count\"))\n",
    "fig.update_layout(title='Confusion Matrix')\n",
    "fig.update_xaxes(title_text='Predicted', tickvals = [0, 1], ticktext = ['No', 'Yes'])\n",
    "fig.update_yaxes(title_text='True', tickvals = [0, 1], ticktext = ['No', 'Yes'])\n",
    "fig.show()"
   ]
  },
  {
   "cell_type": "markdown",
   "metadata": {},
   "source": [
    "### GRidsearch\n"
   ]
  },
  {
   "cell_type": "code",
   "execution_count": 42,
   "metadata": {},
   "outputs": [
    {
     "name": "stdout",
     "output_type": "stream",
     "text": [
      "Fitting 3 folds for each of 72 candidates, totalling 216 fits\n",
      "[CV] END model__max_depth=50, model__min_samples_leaf=1, model__min_samples_split=9, model__n_estimators=590; total time=   3.1s\n",
      "[CV] END model__max_depth=50, model__min_samples_leaf=1, model__min_samples_split=9, model__n_estimators=590; total time=   3.1s\n",
      "[CV] END model__max_depth=50, model__min_samples_leaf=1, model__min_samples_split=9, model__n_estimators=590; total time=   3.1s\n",
      "[CV] END model__max_depth=50, model__min_samples_leaf=1, model__min_samples_split=9, model__n_estimators=600; total time=   3.2s\n",
      "[CV] END model__max_depth=50, model__min_samples_leaf=1, model__min_samples_split=9, model__n_estimators=600; total time=   3.2s\n",
      "[CV] END model__max_depth=50, model__min_samples_leaf=1, model__min_samples_split=9, model__n_estimators=600; total time=   3.2s\n",
      "[CV] END model__max_depth=50, model__min_samples_leaf=1, model__min_samples_split=10, model__n_estimators=590; total time=   3.1s\n",
      "[CV] END model__max_depth=50, model__min_samples_leaf=1, model__min_samples_split=10, model__n_estimators=590; total time=   3.1s\n",
      "[CV] END model__max_depth=50, model__min_samples_leaf=1, model__min_samples_split=9, model__n_estimators=610; total time=   3.3s\n",
      "[CV] END model__max_depth=50, model__min_samples_leaf=1, model__min_samples_split=10, model__n_estimators=590; total time=   3.1s\n",
      "[CV] END model__max_depth=50, model__min_samples_leaf=1, model__min_samples_split=9, model__n_estimators=610; total time=   3.3s\n",
      "[CV] END model__max_depth=50, model__min_samples_leaf=1, model__min_samples_split=9, model__n_estimators=610; total time=   3.3s\n",
      "[CV] END model__max_depth=50, model__min_samples_leaf=1, model__min_samples_split=10, model__n_estimators=600; total time=   3.2s\n",
      "[CV] END model__max_depth=50, model__min_samples_leaf=1, model__min_samples_split=10, model__n_estimators=600; total time=   3.2s\n",
      "[CV] END model__max_depth=50, model__min_samples_leaf=1, model__min_samples_split=10, model__n_estimators=600; total time=   3.2s\n",
      "[CV] END model__max_depth=50, model__min_samples_leaf=1, model__min_samples_split=10, model__n_estimators=610; total time=   3.2s\n",
      "[CV] END model__max_depth=50, model__min_samples_leaf=1, model__min_samples_split=10, model__n_estimators=610; total time=   3.2s\n",
      "[CV] END model__max_depth=50, model__min_samples_leaf=1, model__min_samples_split=11, model__n_estimators=590; total time=   3.1s\n",
      "[CV] END model__max_depth=50, model__min_samples_leaf=1, model__min_samples_split=11, model__n_estimators=590; total time=   3.1s\n",
      "[CV] END model__max_depth=50, model__min_samples_leaf=1, model__min_samples_split=10, model__n_estimators=610; total time=   3.2s\n",
      "[CV] END model__max_depth=50, model__min_samples_leaf=1, model__min_samples_split=11, model__n_estimators=590; total time=   3.1s\n",
      "[CV] END model__max_depth=50, model__min_samples_leaf=1, model__min_samples_split=11, model__n_estimators=600; total time=   3.1s\n",
      "[CV] END model__max_depth=50, model__min_samples_leaf=1, model__min_samples_split=11, model__n_estimators=600; total time=   3.0s\n",
      "[CV] END model__max_depth=50, model__min_samples_leaf=1, model__min_samples_split=11, model__n_estimators=600; total time=   3.1s\n",
      "[CV] END model__max_depth=50, model__min_samples_leaf=1, model__min_samples_split=11, model__n_estimators=610; total time=   3.3s\n",
      "[CV] END model__max_depth=50, model__min_samples_leaf=2, model__min_samples_split=9, model__n_estimators=590; total time=   3.1s\n",
      "[CV] END model__max_depth=50, model__min_samples_leaf=1, model__min_samples_split=11, model__n_estimators=610; total time=   3.3s\n",
      "[CV] END model__max_depth=50, model__min_samples_leaf=1, model__min_samples_split=11, model__n_estimators=610; total time=   3.3s\n",
      "[CV] END model__max_depth=50, model__min_samples_leaf=2, model__min_samples_split=9, model__n_estimators=590; total time=   3.1s\n",
      "[CV] END model__max_depth=50, model__min_samples_leaf=2, model__min_samples_split=9, model__n_estimators=590; total time=   3.1s\n",
      "[CV] END model__max_depth=50, model__min_samples_leaf=2, model__min_samples_split=9, model__n_estimators=600; total time=   3.1s\n",
      "[CV] END model__max_depth=50, model__min_samples_leaf=2, model__min_samples_split=9, model__n_estimators=600; total time=   3.1s\n",
      "[CV] END model__max_depth=50, model__min_samples_leaf=2, model__min_samples_split=9, model__n_estimators=600; total time=   3.1s\n",
      "[CV] END model__max_depth=50, model__min_samples_leaf=2, model__min_samples_split=9, model__n_estimators=610; total time=   3.1s\n",
      "[CV] END model__max_depth=50, model__min_samples_leaf=2, model__min_samples_split=9, model__n_estimators=610; total time=   3.2s\n",
      "[CV] END model__max_depth=50, model__min_samples_leaf=2, model__min_samples_split=9, model__n_estimators=610; total time=   3.1s\n",
      "[CV] END model__max_depth=50, model__min_samples_leaf=2, model__min_samples_split=10, model__n_estimators=590; total time=   3.1s\n",
      "[CV] END model__max_depth=50, model__min_samples_leaf=2, model__min_samples_split=10, model__n_estimators=590; total time=   3.1s\n",
      "[CV] END model__max_depth=50, model__min_samples_leaf=2, model__min_samples_split=10, model__n_estimators=590; total time=   3.1s\n",
      "[CV] END model__max_depth=50, model__min_samples_leaf=2, model__min_samples_split=10, model__n_estimators=600; total time=   3.1s\n",
      "[CV] END model__max_depth=50, model__min_samples_leaf=2, model__min_samples_split=10, model__n_estimators=600; total time=   3.2s\n",
      "[CV] END model__max_depth=50, model__min_samples_leaf=2, model__min_samples_split=10, model__n_estimators=600; total time=   3.1s\n",
      "[CV] END model__max_depth=50, model__min_samples_leaf=2, model__min_samples_split=11, model__n_estimators=590; total time=   3.1s\n",
      "[CV] END model__max_depth=50, model__min_samples_leaf=2, model__min_samples_split=10, model__n_estimators=610; total time=   3.2s\n",
      "[CV] END model__max_depth=50, model__min_samples_leaf=2, model__min_samples_split=11, model__n_estimators=590; total time=   3.1s\n",
      "[CV] END model__max_depth=50, model__min_samples_leaf=2, model__min_samples_split=10, model__n_estimators=610; total time=   3.2s\n",
      "[CV] END model__max_depth=50, model__min_samples_leaf=2, model__min_samples_split=11, model__n_estimators=590; total time=   3.1s\n",
      "[CV] END model__max_depth=50, model__min_samples_leaf=2, model__min_samples_split=10, model__n_estimators=610; total time=   3.3s\n",
      "[CV] END model__max_depth=50, model__min_samples_leaf=2, model__min_samples_split=11, model__n_estimators=600; total time=   3.0s\n",
      "[CV] END model__max_depth=50, model__min_samples_leaf=2, model__min_samples_split=11, model__n_estimators=600; total time=   3.0s\n",
      "[CV] END model__max_depth=50, model__min_samples_leaf=2, model__min_samples_split=11, model__n_estimators=600; total time=   3.0s\n",
      "[CV] END model__max_depth=50, model__min_samples_leaf=2, model__min_samples_split=11, model__n_estimators=610; total time=   3.1s\n",
      "[CV] END model__max_depth=50, model__min_samples_leaf=2, model__min_samples_split=11, model__n_estimators=610; total time=   3.1s\n",
      "[CV] END model__max_depth=50, model__min_samples_leaf=2, model__min_samples_split=11, model__n_estimators=610; total time=   3.1s\n",
      "[CV] END model__max_depth=51, model__min_samples_leaf=1, model__min_samples_split=9, model__n_estimators=590; total time=   3.2s\n",
      "[CV] END model__max_depth=51, model__min_samples_leaf=1, model__min_samples_split=9, model__n_estimators=590; total time=   3.3s\n",
      "[CV] END model__max_depth=51, model__min_samples_leaf=1, model__min_samples_split=9, model__n_estimators=590; total time=   3.3s\n",
      "[CV] END model__max_depth=51, model__min_samples_leaf=1, model__min_samples_split=9, model__n_estimators=600; total time=   3.4s\n",
      "[CV] END model__max_depth=51, model__min_samples_leaf=1, model__min_samples_split=9, model__n_estimators=600; total time=   3.4s\n",
      "[CV] END model__max_depth=51, model__min_samples_leaf=1, model__min_samples_split=9, model__n_estimators=600; total time=   3.4s\n",
      "[CV] END model__max_depth=51, model__min_samples_leaf=1, model__min_samples_split=9, model__n_estimators=610; total time=   3.5s\n",
      "[CV] END model__max_depth=51, model__min_samples_leaf=1, model__min_samples_split=10, model__n_estimators=590; total time=   3.3s\n",
      "[CV] END model__max_depth=51, model__min_samples_leaf=1, model__min_samples_split=9, model__n_estimators=610; total time=   3.5s\n",
      "[CV] END model__max_depth=51, model__min_samples_leaf=1, model__min_samples_split=9, model__n_estimators=610; total time=   3.5s\n",
      "[CV] END model__max_depth=51, model__min_samples_leaf=1, model__min_samples_split=10, model__n_estimators=590; total time=   3.4s\n",
      "[CV] END model__max_depth=51, model__min_samples_leaf=1, model__min_samples_split=10, model__n_estimators=590; total time=   3.3s\n",
      "[CV] END model__max_depth=51, model__min_samples_leaf=1, model__min_samples_split=10, model__n_estimators=600; total time=   3.3s\n",
      "[CV] END model__max_depth=51, model__min_samples_leaf=1, model__min_samples_split=10, model__n_estimators=600; total time=   3.3s\n",
      "[CV] END model__max_depth=51, model__min_samples_leaf=1, model__min_samples_split=10, model__n_estimators=600; total time=   3.3s\n",
      "[CV] END model__max_depth=51, model__min_samples_leaf=1, model__min_samples_split=10, model__n_estimators=610; total time=   3.3s\n",
      "[CV] END model__max_depth=51, model__min_samples_leaf=1, model__min_samples_split=10, model__n_estimators=610; total time=   3.4s\n",
      "[CV] END model__max_depth=51, model__min_samples_leaf=1, model__min_samples_split=10, model__n_estimators=610; total time=   3.4s\n",
      "[CV] END model__max_depth=51, model__min_samples_leaf=1, model__min_samples_split=11, model__n_estimators=590; total time=   3.3s\n",
      "[CV] END model__max_depth=51, model__min_samples_leaf=1, model__min_samples_split=11, model__n_estimators=590; total time=   3.4s\n",
      "[CV] END model__max_depth=51, model__min_samples_leaf=1, model__min_samples_split=11, model__n_estimators=590; total time=   3.3s\n",
      "[CV] END model__max_depth=51, model__min_samples_leaf=1, model__min_samples_split=11, model__n_estimators=600; total time=   3.4s\n",
      "[CV] END model__max_depth=51, model__min_samples_leaf=1, model__min_samples_split=11, model__n_estimators=600; total time=   3.5s\n",
      "[CV] END model__max_depth=51, model__min_samples_leaf=1, model__min_samples_split=11, model__n_estimators=600; total time=   3.4s\n",
      "[CV] END model__max_depth=51, model__min_samples_leaf=1, model__min_samples_split=11, model__n_estimators=610; total time=   3.5s\n",
      "[CV] END model__max_depth=51, model__min_samples_leaf=2, model__min_samples_split=9, model__n_estimators=590; total time=   3.3s\n",
      "[CV] END model__max_depth=51, model__min_samples_leaf=1, model__min_samples_split=11, model__n_estimators=610; total time=   3.5s\n",
      "[CV] END model__max_depth=51, model__min_samples_leaf=1, model__min_samples_split=11, model__n_estimators=610; total time=   3.5s\n",
      "[CV] END model__max_depth=51, model__min_samples_leaf=2, model__min_samples_split=9, model__n_estimators=590; total time=   3.3s\n",
      "[CV] END model__max_depth=51, model__min_samples_leaf=2, model__min_samples_split=9, model__n_estimators=590; total time=   3.3s\n",
      "[CV] END model__max_depth=51, model__min_samples_leaf=2, model__min_samples_split=9, model__n_estimators=600; total time=   3.4s\n",
      "[CV] END model__max_depth=51, model__min_samples_leaf=2, model__min_samples_split=9, model__n_estimators=600; total time=   3.4s\n",
      "[CV] END model__max_depth=51, model__min_samples_leaf=2, model__min_samples_split=9, model__n_estimators=600; total time=   3.4s\n",
      "[CV] END model__max_depth=51, model__min_samples_leaf=2, model__min_samples_split=9, model__n_estimators=610; total time=   3.4s\n",
      "[CV] END model__max_depth=51, model__min_samples_leaf=2, model__min_samples_split=9, model__n_estimators=610; total time=   3.4s\n",
      "[CV] END model__max_depth=51, model__min_samples_leaf=2, model__min_samples_split=9, model__n_estimators=610; total time=   3.4s\n",
      "[CV] END model__max_depth=51, model__min_samples_leaf=2, model__min_samples_split=10, model__n_estimators=590; total time=   3.3s\n",
      "[CV] END model__max_depth=51, model__min_samples_leaf=2, model__min_samples_split=10, model__n_estimators=590; total time=   3.3s\n",
      "[CV] END model__max_depth=51, model__min_samples_leaf=2, model__min_samples_split=10, model__n_estimators=590; total time=   3.2s\n",
      "[CV] END model__max_depth=51, model__min_samples_leaf=2, model__min_samples_split=10, model__n_estimators=600; total time=   3.3s\n",
      "[CV] END model__max_depth=51, model__min_samples_leaf=2, model__min_samples_split=10, model__n_estimators=600; total time=   3.3s\n",
      "[CV] END model__max_depth=51, model__min_samples_leaf=2, model__min_samples_split=10, model__n_estimators=600; total time=   3.3s\n",
      "[CV] END model__max_depth=51, model__min_samples_leaf=2, model__min_samples_split=10, model__n_estimators=610; total time=   3.2s\n",
      "[CV] END model__max_depth=51, model__min_samples_leaf=2, model__min_samples_split=11, model__n_estimators=590; total time=   3.1s\n",
      "[CV] END model__max_depth=51, model__min_samples_leaf=2, model__min_samples_split=10, model__n_estimators=610; total time=   3.3s\n",
      "[CV] END model__max_depth=51, model__min_samples_leaf=2, model__min_samples_split=10, model__n_estimators=610; total time=   3.2s\n",
      "[CV] END model__max_depth=51, model__min_samples_leaf=2, model__min_samples_split=11, model__n_estimators=590; total time=   3.1s\n",
      "[CV] END model__max_depth=51, model__min_samples_leaf=2, model__min_samples_split=11, model__n_estimators=590; total time=   3.1s\n",
      "[CV] END model__max_depth=51, model__min_samples_leaf=2, model__min_samples_split=11, model__n_estimators=600; total time=   3.2s\n",
      "[CV] END model__max_depth=51, model__min_samples_leaf=2, model__min_samples_split=11, model__n_estimators=600; total time=   3.2s\n",
      "[CV] END model__max_depth=51, model__min_samples_leaf=2, model__min_samples_split=11, model__n_estimators=600; total time=   3.2s\n",
      "[CV] END model__max_depth=51, model__min_samples_leaf=2, model__min_samples_split=11, model__n_estimators=610; total time=   3.3s\n",
      "[CV] END model__max_depth=51, model__min_samples_leaf=2, model__min_samples_split=11, model__n_estimators=610; total time=   3.3s\n",
      "[CV] END model__max_depth=51, model__min_samples_leaf=2, model__min_samples_split=11, model__n_estimators=610; total time=   3.3s\n",
      "[CV] END model__max_depth=52, model__min_samples_leaf=1, model__min_samples_split=9, model__n_estimators=590; total time=   3.5s\n",
      "[CV] END model__max_depth=52, model__min_samples_leaf=1, model__min_samples_split=9, model__n_estimators=590; total time=   3.6s\n",
      "[CV] END model__max_depth=52, model__min_samples_leaf=1, model__min_samples_split=9, model__n_estimators=590; total time=   3.6s\n",
      "[CV] END model__max_depth=52, model__min_samples_leaf=1, model__min_samples_split=9, model__n_estimators=600; total time=   3.7s\n",
      "[CV] END model__max_depth=52, model__min_samples_leaf=1, model__min_samples_split=9, model__n_estimators=600; total time=   3.7s\n",
      "[CV] END model__max_depth=52, model__min_samples_leaf=1, model__min_samples_split=9, model__n_estimators=600; total time=   3.7s\n",
      "[CV] END model__max_depth=52, model__min_samples_leaf=1, model__min_samples_split=9, model__n_estimators=610; total time=   3.7s\n",
      "[CV] END model__max_depth=52, model__min_samples_leaf=1, model__min_samples_split=9, model__n_estimators=610; total time=   3.8s\n",
      "[CV] END model__max_depth=52, model__min_samples_leaf=1, model__min_samples_split=10, model__n_estimators=590; total time=   3.6s\n",
      "[CV] END model__max_depth=52, model__min_samples_leaf=1, model__min_samples_split=10, model__n_estimators=590; total time=   3.6s\n",
      "[CV] END model__max_depth=52, model__min_samples_leaf=1, model__min_samples_split=9, model__n_estimators=610; total time=   3.8s\n",
      "[CV] END model__max_depth=52, model__min_samples_leaf=1, model__min_samples_split=10, model__n_estimators=590; total time=   3.6s\n",
      "[CV] END model__max_depth=52, model__min_samples_leaf=1, model__min_samples_split=10, model__n_estimators=600; total time=   3.5s\n",
      "[CV] END model__max_depth=52, model__min_samples_leaf=1, model__min_samples_split=10, model__n_estimators=600; total time=   3.4s\n",
      "[CV] END model__max_depth=52, model__min_samples_leaf=1, model__min_samples_split=10, model__n_estimators=600; total time=   3.5s\n",
      "[CV] END model__max_depth=52, model__min_samples_leaf=1, model__min_samples_split=10, model__n_estimators=610; total time=   3.5s\n",
      "[CV] END model__max_depth=52, model__min_samples_leaf=1, model__min_samples_split=11, model__n_estimators=590; total time=   3.4s\n",
      "[CV] END model__max_depth=52, model__min_samples_leaf=1, model__min_samples_split=10, model__n_estimators=610; total time=   3.6s\n",
      "[CV] END model__max_depth=52, model__min_samples_leaf=1, model__min_samples_split=10, model__n_estimators=610; total time=   3.6s\n",
      "[CV] END model__max_depth=52, model__min_samples_leaf=1, model__min_samples_split=11, model__n_estimators=590; total time=   3.4s\n",
      "[CV] END model__max_depth=52, model__min_samples_leaf=1, model__min_samples_split=11, model__n_estimators=590; total time=   3.3s\n",
      "[CV] END model__max_depth=52, model__min_samples_leaf=1, model__min_samples_split=11, model__n_estimators=600; total time=   3.4s\n",
      "[CV] END model__max_depth=52, model__min_samples_leaf=1, model__min_samples_split=11, model__n_estimators=600; total time=   3.4s\n",
      "[CV] END model__max_depth=52, model__min_samples_leaf=1, model__min_samples_split=11, model__n_estimators=600; total time=   3.4s\n",
      "[CV] END model__max_depth=52, model__min_samples_leaf=1, model__min_samples_split=11, model__n_estimators=610; total time=   3.4s\n",
      "[CV] END model__max_depth=52, model__min_samples_leaf=2, model__min_samples_split=9, model__n_estimators=590; total time=   3.2s\n",
      "[CV] END model__max_depth=52, model__min_samples_leaf=1, model__min_samples_split=11, model__n_estimators=610; total time=   3.5s\n",
      "[CV] END model__max_depth=52, model__min_samples_leaf=2, model__min_samples_split=9, model__n_estimators=590; total time=   3.3s\n",
      "[CV] END model__max_depth=52, model__min_samples_leaf=2, model__min_samples_split=9, model__n_estimators=590; total time=   3.2s\n",
      "[CV] END model__max_depth=52, model__min_samples_leaf=1, model__min_samples_split=11, model__n_estimators=610; total time=   3.5s\n",
      "[CV] END model__max_depth=52, model__min_samples_leaf=2, model__min_samples_split=9, model__n_estimators=600; total time=   3.3s\n",
      "[CV] END model__max_depth=52, model__min_samples_leaf=2, model__min_samples_split=9, model__n_estimators=600; total time=   3.3s\n",
      "[CV] END model__max_depth=52, model__min_samples_leaf=2, model__min_samples_split=9, model__n_estimators=600; total time=   3.3s\n",
      "[CV] END model__max_depth=52, model__min_samples_leaf=2, model__min_samples_split=9, model__n_estimators=610; total time=   3.4s\n",
      "[CV] END model__max_depth=52, model__min_samples_leaf=2, model__min_samples_split=9, model__n_estimators=610; total time=   3.4s\n",
      "[CV] END model__max_depth=52, model__min_samples_leaf=2, model__min_samples_split=9, model__n_estimators=610; total time=   3.4s\n",
      "[CV] END model__max_depth=52, model__min_samples_leaf=2, model__min_samples_split=10, model__n_estimators=590; total time=   3.4s\n",
      "[CV] END model__max_depth=52, model__min_samples_leaf=2, model__min_samples_split=10, model__n_estimators=590; total time=   3.4s\n",
      "[CV] END model__max_depth=52, model__min_samples_leaf=2, model__min_samples_split=10, model__n_estimators=590; total time=   3.5s\n",
      "[CV] END model__max_depth=52, model__min_samples_leaf=2, model__min_samples_split=10, model__n_estimators=600; total time=   3.5s\n",
      "[CV] END model__max_depth=52, model__min_samples_leaf=2, model__min_samples_split=10, model__n_estimators=600; total time=   3.5s\n",
      "[CV] END model__max_depth=52, model__min_samples_leaf=2, model__min_samples_split=10, model__n_estimators=600; total time=   3.5s\n",
      "[CV] END model__max_depth=52, model__min_samples_leaf=2, model__min_samples_split=10, model__n_estimators=610; total time=   3.5s\n",
      "[CV] END model__max_depth=52, model__min_samples_leaf=2, model__min_samples_split=11, model__n_estimators=590; total time=   3.4s\n",
      "[CV] END model__max_depth=52, model__min_samples_leaf=2, model__min_samples_split=10, model__n_estimators=610; total time=   3.6s\n",
      "[CV] END model__max_depth=52, model__min_samples_leaf=2, model__min_samples_split=10, model__n_estimators=610; total time=   3.6s\n",
      "[CV] END model__max_depth=52, model__min_samples_leaf=2, model__min_samples_split=11, model__n_estimators=590; total time=   3.4s\n",
      "[CV] END model__max_depth=52, model__min_samples_leaf=2, model__min_samples_split=11, model__n_estimators=590; total time=   3.5s\n",
      "[CV] END model__max_depth=52, model__min_samples_leaf=2, model__min_samples_split=11, model__n_estimators=600; total time=   3.6s\n",
      "[CV] END model__max_depth=52, model__min_samples_leaf=2, model__min_samples_split=11, model__n_estimators=600; total time=   3.6s\n",
      "[CV] END model__max_depth=52, model__min_samples_leaf=2, model__min_samples_split=11, model__n_estimators=600; total time=   3.5s\n",
      "[CV] END model__max_depth=52, model__min_samples_leaf=2, model__min_samples_split=11, model__n_estimators=610; total time=   3.6s\n",
      "[CV] END model__max_depth=52, model__min_samples_leaf=2, model__min_samples_split=11, model__n_estimators=610; total time=   3.6s\n",
      "[CV] END model__max_depth=52, model__min_samples_leaf=2, model__min_samples_split=11, model__n_estimators=610; total time=   3.6s\n",
      "[CV] END model__max_depth=55, model__min_samples_leaf=1, model__min_samples_split=9, model__n_estimators=590; total time=   3.7s\n",
      "[CV] END model__max_depth=55, model__min_samples_leaf=1, model__min_samples_split=9, model__n_estimators=590; total time=   3.7s\n",
      "[CV] END model__max_depth=55, model__min_samples_leaf=1, model__min_samples_split=9, model__n_estimators=590; total time=   3.7s\n",
      "[CV] END model__max_depth=55, model__min_samples_leaf=1, model__min_samples_split=9, model__n_estimators=600; total time=   3.7s\n",
      "[CV] END model__max_depth=55, model__min_samples_leaf=1, model__min_samples_split=9, model__n_estimators=600; total time=   3.7s\n",
      "[CV] END model__max_depth=55, model__min_samples_leaf=1, model__min_samples_split=9, model__n_estimators=600; total time=   3.8s\n",
      "[CV] END model__max_depth=55, model__min_samples_leaf=1, model__min_samples_split=9, model__n_estimators=610; total time=   3.8s\n",
      "[CV] END model__max_depth=55, model__min_samples_leaf=1, model__min_samples_split=10, model__n_estimators=590; total time=   3.7s\n",
      "[CV] END model__max_depth=55, model__min_samples_leaf=1, model__min_samples_split=9, model__n_estimators=610; total time=   3.9s\n",
      "[CV] END model__max_depth=55, model__min_samples_leaf=1, model__min_samples_split=9, model__n_estimators=610; total time=   3.9s\n",
      "[CV] END model__max_depth=55, model__min_samples_leaf=1, model__min_samples_split=10, model__n_estimators=590; total time=   3.8s\n",
      "[CV] END model__max_depth=55, model__min_samples_leaf=1, model__min_samples_split=10, model__n_estimators=590; total time=   3.8s\n",
      "[CV] END model__max_depth=55, model__min_samples_leaf=1, model__min_samples_split=10, model__n_estimators=600; total time=   3.8s\n",
      "[CV] END model__max_depth=55, model__min_samples_leaf=1, model__min_samples_split=10, model__n_estimators=600; total time=   3.8s\n",
      "[CV] END model__max_depth=55, model__min_samples_leaf=1, model__min_samples_split=10, model__n_estimators=610; total time=   3.8s\n",
      "[CV] END model__max_depth=55, model__min_samples_leaf=1, model__min_samples_split=10, model__n_estimators=610; total time=   3.8s\n",
      "[CV] END model__max_depth=55, model__min_samples_leaf=1, model__min_samples_split=10, model__n_estimators=600; total time=   3.9s\n",
      "[CV] END model__max_depth=55, model__min_samples_leaf=1, model__min_samples_split=10, model__n_estimators=610; total time=   3.9s\n",
      "[CV] END model__max_depth=55, model__min_samples_leaf=1, model__min_samples_split=11, model__n_estimators=590; total time=   3.5s\n",
      "[CV] END model__max_depth=55, model__min_samples_leaf=1, model__min_samples_split=11, model__n_estimators=590; total time=   3.5s\n",
      "[CV] END model__max_depth=55, model__min_samples_leaf=1, model__min_samples_split=11, model__n_estimators=590; total time=   3.5s\n",
      "[CV] END model__max_depth=55, model__min_samples_leaf=1, model__min_samples_split=11, model__n_estimators=600; total time=   3.5s\n",
      "[CV] END model__max_depth=55, model__min_samples_leaf=1, model__min_samples_split=11, model__n_estimators=600; total time=   3.5s\n",
      "[CV] END model__max_depth=55, model__min_samples_leaf=1, model__min_samples_split=11, model__n_estimators=600; total time=   3.5s\n",
      "[CV] END model__max_depth=55, model__min_samples_leaf=1, model__min_samples_split=11, model__n_estimators=610; total time=   3.6s\n",
      "[CV] END model__max_depth=55, model__min_samples_leaf=2, model__min_samples_split=9, model__n_estimators=590; total time=   3.3s\n",
      "[CV] END model__max_depth=55, model__min_samples_leaf=2, model__min_samples_split=9, model__n_estimators=590; total time=   3.4s\n",
      "[CV] END model__max_depth=55, model__min_samples_leaf=2, model__min_samples_split=9, model__n_estimators=590; total time=   3.4s\n",
      "[CV] END model__max_depth=55, model__min_samples_leaf=1, model__min_samples_split=11, model__n_estimators=610; total time=   3.6s\n",
      "[CV] END model__max_depth=55, model__min_samples_leaf=1, model__min_samples_split=11, model__n_estimators=610; total time=   3.6s\n",
      "[CV] END model__max_depth=55, model__min_samples_leaf=2, model__min_samples_split=9, model__n_estimators=600; total time=   3.3s\n",
      "[CV] END model__max_depth=55, model__min_samples_leaf=2, model__min_samples_split=9, model__n_estimators=600; total time=   3.3s\n",
      "[CV] END model__max_depth=55, model__min_samples_leaf=2, model__min_samples_split=9, model__n_estimators=600; total time=   3.3s\n",
      "[CV] END model__max_depth=55, model__min_samples_leaf=2, model__min_samples_split=9, model__n_estimators=610; total time=   3.3s\n",
      "[CV] END model__max_depth=55, model__min_samples_leaf=2, model__min_samples_split=9, model__n_estimators=610; total time=   3.4s\n",
      "[CV] END model__max_depth=55, model__min_samples_leaf=2, model__min_samples_split=10, model__n_estimators=590; total time=   3.2s\n",
      "[CV] END model__max_depth=55, model__min_samples_leaf=2, model__min_samples_split=9, model__n_estimators=610; total time=   3.5s\n",
      "[CV] END model__max_depth=55, model__min_samples_leaf=2, model__min_samples_split=10, model__n_estimators=590; total time=   3.2s\n",
      "[CV] END model__max_depth=55, model__min_samples_leaf=2, model__min_samples_split=10, model__n_estimators=590; total time=   3.2s\n",
      "[CV] END model__max_depth=55, model__min_samples_leaf=2, model__min_samples_split=10, model__n_estimators=600; total time=   3.3s\n",
      "[CV] END model__max_depth=55, model__min_samples_leaf=2, model__min_samples_split=10, model__n_estimators=600; total time=   3.2s\n",
      "[CV] END model__max_depth=55, model__min_samples_leaf=2, model__min_samples_split=10, model__n_estimators=600; total time=   3.3s\n",
      "[CV] END model__max_depth=55, model__min_samples_leaf=2, model__min_samples_split=10, model__n_estimators=610; total time=   3.4s\n",
      "[CV] END model__max_depth=55, model__min_samples_leaf=2, model__min_samples_split=10, model__n_estimators=610; total time=   3.4s\n",
      "[CV] END model__max_depth=55, model__min_samples_leaf=2, model__min_samples_split=10, model__n_estimators=610; total time=   3.4s\n",
      "[CV] END model__max_depth=55, model__min_samples_leaf=2, model__min_samples_split=11, model__n_estimators=590; total time=   3.3s\n",
      "[CV] END model__max_depth=55, model__min_samples_leaf=2, model__min_samples_split=11, model__n_estimators=590; total time=   3.3s\n",
      "[CV] END model__max_depth=55, model__min_samples_leaf=2, model__min_samples_split=11, model__n_estimators=590; total time=   3.2s\n",
      "[CV] END model__max_depth=55, model__min_samples_leaf=2, model__min_samples_split=11, model__n_estimators=600; total time=   3.3s\n",
      "[CV] END model__max_depth=55, model__min_samples_leaf=2, model__min_samples_split=11, model__n_estimators=600; total time=   3.3s\n",
      "[CV] END model__max_depth=55, model__min_samples_leaf=2, model__min_samples_split=11, model__n_estimators=600; total time=   3.3s\n",
      "[CV] END model__max_depth=55, model__min_samples_leaf=2, model__min_samples_split=11, model__n_estimators=610; total time=   3.2s\n",
      "[CV] END model__max_depth=55, model__min_samples_leaf=2, model__min_samples_split=11, model__n_estimators=610; total time=   3.2s\n",
      "[CV] END model__max_depth=55, model__min_samples_leaf=2, model__min_samples_split=11, model__n_estimators=610; total time=   3.2s\n",
      "Best Parameters: {'model__max_depth': 50, 'model__min_samples_leaf': 1, 'model__min_samples_split': 9, 'model__n_estimators': 600}\n",
      "Best Cross-Validation AUC Score: 0.8253995135515254\n",
      "Test Accuracy: 0.8557046979865772\n",
      "Confusion Matrix:\n",
      " [[ 19  76]\n",
      " [ 10 491]]\n",
      "Classification Report:\n",
      "               precision    recall  f1-score   support\n",
      "\n",
      "       False       0.66      0.20      0.31        95\n",
      "        True       0.87      0.98      0.92       501\n",
      "\n",
      "    accuracy                           0.86       596\n",
      "   macro avg       0.76      0.59      0.61       596\n",
      "weighted avg       0.83      0.86      0.82       596\n",
      "\n",
      "Test ROC AUC Score: 0.8144342893161045\n"
     ]
    }
   ],
   "source": [
    "from sklearn.metrics import roc_auc_score\n",
    "from sklearn.model_selection import GridSearchCV\n",
    "\n",
    "# Define the parameter grid\n",
    "param_grid = {\n",
    "    'model__n_estimators': [590,600, 610],\n",
    "    'model__max_depth': [50,51,52,55],\n",
    "    'model__min_samples_split': [9,10, 11],\n",
    "    'model__min_samples_leaf': [1, 2]\n",
    "}\n",
    "#Best Parameters: {'model__max_depth': 50, 'model__min_samples_leaf': 1, 'model__min_samples_split': 10, 'model__n_estimators': 600}\n",
    "#Best Parameters: {'model__max_depth': 50, 'model__min_samples_leaf': 1, 'model__min_samples_split': 9, 'model__n_estimators': 600}\n",
    "# Perform GridSearchCV\n",
    "\n",
    "\n",
    "grid_search = GridSearchCV(pipeline, param_grid, cv=3, n_jobs=-1, verbose=2, scoring='roc_auc')\n",
    "grid_search.fit(X_train, y_train)\n",
    "\n",
    "# Get the best parameters and best score\n",
    "best_params = grid_search.best_params_\n",
    "best_score = grid_search.best_score_\n",
    "\n",
    "# Train the model with the best parameters\n",
    "best_model = grid_search.best_estimator_\n",
    "\n",
    "# Predict on the test set\n",
    "y_pred_best = best_model.predict(X_test)\n",
    "y_pred_proba_best = best_model.predict_proba(X_test)[:, 1]\n",
    "\n",
    "# Evaluate the model\n",
    "accuracy_best = accuracy_score(y_test, y_pred_best)\n",
    "conf_matrix_best = confusion_matrix(y_test, y_pred_best)\n",
    "class_report_best = classification_report(y_test, y_pred_best)\n",
    "roc_auc_best = roc_auc_score(y_test, y_pred_proba_best)\n",
    "\n",
    "# Display results\n",
    "print(\"Best Parameters:\", best_params)\n",
    "print(\"Best Cross-Validation AUC Score:\", best_score)\n",
    "print(\"Test Accuracy:\", accuracy_best)\n",
    "print(\"Confusion Matrix:\\n\", conf_matrix_best)\n",
    "print(\"Classification Report:\\n\", class_report_best)\n",
    "print(\"Test ROC AUC Score:\", roc_auc_best)\n",
    "\n"
   ]
  },
  {
   "cell_type": "markdown",
   "metadata": {},
   "source": [
    "## RFC with ADASYN"
   ]
  },
  {
   "cell_type": "code",
   "execution_count": null,
   "metadata": {},
   "outputs": [
    {
     "ename": "",
     "evalue": "",
     "output_type": "error",
     "traceback": [
      "\u001b[1;31mRunning cells with 'Python 3.12.4' requires the ipykernel package.\n",
      "\u001b[1;31mRun the following command to install 'ipykernel' into the Python environment. \n",
      "\u001b[1;31mCommand: '/usr/local/bin/python3 -m pip install ipykernel -U --user --force-reinstall'"
     ]
    }
   ],
   "source": [
    "pip install imbalanced-learn"
   ]
  },
  {
   "cell_type": "code",
   "execution_count": 43,
   "metadata": {},
   "outputs": [
    {
     "name": "stdout",
     "output_type": "stream",
     "text": [
      "Model Accuracy: 0.85\n"
     ]
    }
   ],
   "source": [
    "import pandas as pd\n",
    "import numpy as np\n",
    "from sklearn.preprocessing import StandardScaler, OneHotEncoder\n",
    "from sklearn.compose import ColumnTransformer\n",
    "from sklearn.pipeline import Pipeline\n",
    "from sklearn.ensemble import RandomForestClassifier\n",
    "from imblearn.over_sampling import ADASYN\n",
    "from imblearn.pipeline import Pipeline as imbalanced_Pipeline\n",
    "\n",
    "# Assuming df_rf and df_lstm_2 are already defined and preprocessed\n",
    "df_rf = df_may_filled.copy()\n",
    "df_rf['day'] = df_lstm_2['grouped_date'].dt.day.astype(int)\n",
    "\n",
    "# Select features and target\n",
    "features = ['day_of_week', 'hour', 'grouped_minute', 'temperature', 'rainfall',\n",
    "             'is_weekend', 'day']\n",
    "target = 'docking_available'\n",
    "\n",
    "X = df_rf[features]\n",
    "y = df_rf[target]\n",
    "\n",
    "# Categorical and numerical features\n",
    "categorical_features = ['day_of_week',  'is_weekend', 'hour', 'grouped_minute']\n",
    "numerical_features = ['temperature', 'rainfall' ]\n",
    "\n",
    "# Preprocessing for numerical data and categorical data\n",
    "numerical_transformer = StandardScaler()\n",
    "categorical_transformer = OneHotEncoder(handle_unknown='ignore')\n",
    "\n",
    "preprocessor = ColumnTransformer(\n",
    "    transformers=[\n",
    "        ('num', numerical_transformer, numerical_features),\n",
    "        ('cat', categorical_transformer, categorical_features)\n",
    "    ])\n",
    "\n",
    "# RandomForestClassifier model with optimized hyperparameters\n",
    "model_rf = RandomForestClassifier(\n",
    "    #random_state=42)\n",
    "    n_estimators=500, max_depth=50, min_samples_leaf=1, min_samples_split=10, random_state=42)\n",
    "#Best Parameters: {'model__max_depth': 50, 'model__min_samples_leaf': 1, 'model__min_samples_split': 10, 'model__n_estimators': 500}\n",
    "#Best Parameters: {'model__max_depth': 50, 'model__min_samples_leaf': 1, 'model__min_samples_split': 10, 'model__n_estimators': 500}\n",
    "adasyn_params = {\n",
    "    'sampling_strategy': 0.5,  # or a specific ratio e.g., 0.5\n",
    "    'n_neighbors': 5,  # Experiment with different values\n",
    "    'random_state': 42\n",
    "}\n",
    "\n",
    "# Create a pipeline with ADASYN and RandomForestClassifier\n",
    "pipeline = imbalanced_Pipeline(steps=[\n",
    "    ('preprocessor', preprocessor),\n",
    "    ('adasyn', ADASYN(**adasyn_params)),\n",
    "    ('model', model_rf)\n",
    "])\n",
    "\n",
    "# Train-test split\n",
    "X_train, X_test, y_train, y_test = train_test_split(X, y, test_size=0.2, random_state=42)\n",
    "\n",
    "# Fit the model\n",
    "pipeline.fit(X_train, y_train)\n",
    "\n",
    "# Evaluate the model\n",
    "score = pipeline.score(X_test, y_test)\n",
    "print(f\"Model Accuracy: {score:.2f}\")\n",
    "\n",
    "# Example prediction\n",
    "y_pred = pipeline.predict(X_test)\n"
   ]
  },
  {
   "cell_type": "code",
   "execution_count": 44,
   "metadata": {},
   "outputs": [
    {
     "name": "stdout",
     "output_type": "stream",
     "text": [
      "Accuracy: 0.8506711409395973\n",
      "Confusion Matrix:\n",
      " [[ 25  70]\n",
      " [ 19 482]]\n",
      "Classification Report:\n",
      "               precision    recall  f1-score   support\n",
      "\n",
      "       False       0.57      0.26      0.36        95\n",
      "        True       0.87      0.96      0.92       501\n",
      "\n",
      "    accuracy                           0.85       596\n",
      "   macro avg       0.72      0.61      0.64       596\n",
      "weighted avg       0.82      0.85      0.83       596\n",
      "\n",
      "Precision:  0.8731884057971014\n",
      "Recall:  0.9620758483033932\n",
      "F1 Score:  0.9154795821462488\n",
      "ROC AUC:  0.6126168715201177\n"
     ]
    }
   ],
   "source": [
    "# Evaluate Accuracy, precision, recall, F1-score, ROC curve, AUC.\n",
    "accuracy = accuracy_score(y_test, y_pred)\n",
    "precision = precision_score(y_test, y_pred)\n",
    "recall = recall_score(y_test, y_pred)\n",
    "f1 = f1_score(y_test, y_pred)\n",
    "roc_auc = roc_auc_score(y_test, y_pred)\n",
    "conf_matrix = confusion_matrix(y_test, y_pred)\n",
    "class_report = classification_report(y_test, y_pred)\n",
    "\n",
    "print(f\"Accuracy: {accuracy}\")\n",
    "print(\"Confusion Matrix:\\n\", conf_matrix)\n",
    "print(\"Classification Report:\\n\", class_report)\n",
    "print(\"Precision: \", precision)\n",
    "print(\"Recall: \", recall)\n",
    "print(\"F1 Score: \", f1)\n",
    "print(\"ROC AUC: \", roc_auc)"
   ]
  },
  {
   "cell_type": "code",
   "execution_count": null,
   "metadata": {},
   "outputs": [
    {
     "ename": "",
     "evalue": "",
     "output_type": "error",
     "traceback": [
      "\u001b[1;31mRunning cells with 'Python 3.12.4' requires the ipykernel package.\n",
      "\u001b[1;31mRun the following command to install 'ipykernel' into the Python environment. \n",
      "\u001b[1;31mCommand: '/usr/local/bin/python3 -m pip install ipykernel -U --user --force-reinstall'"
     ]
    }
   ],
   "source": [
    "Accuracy: 0.8523489932885906\n",
    "Confusion Matrix:\n",
    " [[ 28  67]\n",
    " [ 21 480]]\n",
    "Classification Report:\n",
    "               precision    recall  f1-score   support\n",
    "\n",
    "       False       0.57      0.29      0.39        95\n",
    "        True       0.88      0.96      0.92       501\n",
    "\n",
    "    accuracy                           0.85       596\n",
    "   macro avg       0.72      0.63      0.65       596\n",
    "weighted avg       0.83      0.85      0.83       596\n",
    "\n",
    "Precision:  0.8775137111517367\n",
    "Recall:  0.9580838323353293\n",
    "F1 Score:  0.916030534351145\n",
    "ROC AUC:  0.6264103372202963\n"
   ]
  },
  {
   "cell_type": "code",
   "execution_count": 45,
   "metadata": {},
   "outputs": [
    {
     "name": "stdout",
     "output_type": "stream",
     "text": [
      "                feature  importance\n",
      "0           temperature    0.195148\n",
      "37  grouped_minute_30.0    0.047411\n",
      "3       day_of_week_1.0    0.041368\n",
      "36  grouped_minute_15.0    0.036346\n",
      "35   grouped_minute_0.0    0.035431\n",
      "2       day_of_week_0.0    0.035197\n",
      "1              rainfall    0.034515\n",
      "38  grouped_minute_45.0    0.031963\n",
      "34            hour_23.0    0.030352\n",
      "5       day_of_week_3.0    0.029490\n",
      "4       day_of_week_2.0    0.027847\n",
      "6       day_of_week_4.0    0.026689\n",
      "19             hour_8.0    0.026296\n",
      "31            hour_20.0    0.024119\n",
      "32            hour_21.0    0.023697\n",
      "18             hour_7.0    0.022907\n",
      "20             hour_9.0    0.022693\n",
      "30            hour_19.0    0.022300\n",
      "26            hour_15.0    0.022233\n",
      "24            hour_13.0    0.020554\n",
      "7       day_of_week_5.0    0.019199\n",
      "25            hour_14.0    0.018681\n",
      "21            hour_10.0    0.017195\n",
      "33            hour_22.0    0.016992\n",
      "29            hour_18.0    0.016435\n",
      "22            hour_11.0    0.016250\n",
      "8       day_of_week_6.0    0.014551\n",
      "11             hour_0.0    0.013578\n",
      "28            hour_17.0    0.012912\n",
      "27            hour_16.0    0.012512\n",
      "10       is_weekend_1.0    0.012320\n",
      "17             hour_6.0    0.011999\n",
      "9        is_weekend_0.0    0.011538\n",
      "23            hour_12.0    0.010033\n",
      "13             hour_2.0    0.008881\n",
      "12             hour_1.0    0.008657\n",
      "15             hour_4.0    0.007779\n",
      "16             hour_5.0    0.007349\n",
      "14             hour_3.0    0.006583\n"
     ]
    },
    {
     "data": {
      "text/plain": [
       "Text(0, 0.5, 'Features')"
      ]
     },
     "execution_count": 45,
     "metadata": {},
     "output_type": "execute_result"
    },
    {
     "data": {
      "image/png": "[encoded data removed]",
      "text/plain": [
       "<Figure size 1000x600 with 1 Axes>"
      ]
     },
     "metadata": {},
     "output_type": "display_data"
    }
   ],
   "source": [
    "import matplotlib.pyplot as plt\n",
    "# Extract feature importances\n",
    "model_rf = pipeline.named_steps['model']\n",
    "importances = model_rf.feature_importances_\n",
    "\n",
    "# Get feature names after preprocessing\n",
    "encoded_categorical_features = pipeline.named_steps['preprocessor'].named_transformers_['cat'].get_feature_names_out(categorical_features)\n",
    "all_feature_names = numerical_features + list(encoded_categorical_features)\n",
    "\n",
    "# Create a DataFrame for feature importances\n",
    "feature_importances = pd.DataFrame({'feature': all_feature_names, 'importance': importances})\n",
    "feature_importances = feature_importances.sort_values(by='importance', ascending=False)\n",
    "print(feature_importances)\n",
    "# Plot feature importances\n",
    "plt.figure(figsize=(10, 6))\n",
    "plt.title(\"Feature Importance\")\n",
    "plt.barh(range(len(feature_importances)), feature_importances['importance'], align=\"center\")\n",
    "plt.yticks(range(len(feature_importances)), feature_importances['feature'])\n",
    "plt.gca().invert_yaxis()\n",
    "plt.xlabel(\"Importance\")\n",
    "plt.ylabel(\"Features\")"
   ]
  },
  {
   "cell_type": "code",
   "execution_count": 46,
   "metadata": {},
   "outputs": [
    {
     "name": "stdout",
     "output_type": "stream",
     "text": [
      "ROC AUC Train 0.9874370421245421\n",
      "ROC AUC Test 0.7910494799873935\n"
     ]
    },
    {
     "data": {
      "image/png": "[encoded data removed]",
      "text/plain": [
       "<Figure size 1400x500 with 2 Axes>"
      ]
     },
     "metadata": {},
     "output_type": "display_data"
    }
   ],
   "source": [
    "from sklearn.metrics import roc_curve, auc\n",
    "import matplotlib.pyplot as plt\n",
    "# Compute ROC curve and AUC\n",
    "y_prob_train = pipeline.predict_proba(X_train)[:, 1]\n",
    "fpr_train, tpr_train, thresholds_train = roc_curve(y_train, y_prob_train)\n",
    "roc_auc_train = auc(fpr_train, tpr_train)\n",
    "print('ROC AUC Train', roc_auc_train)\n",
    "y_prob = pipeline.predict_proba(X_test)[:, 1]\n",
    "fpr, tpr, thresholds = roc_curve(y_test, y_prob)\n",
    "roc_auc = auc(fpr, tpr)\n",
    "print('ROC AUC Test', roc_auc)\n",
    "#plot both curves\n",
    "fig, ax = plt.subplots(1, 2, figsize=(14, 5))\n",
    "ax[0].plot(fpr_train, tpr_train, color='darkorange', lw=2, label=f'ROC curve Train (area = {roc_auc_train:0.2f})')\n",
    "ax[0].plot([0, 1], [0, 1], color='navy', lw=2, linestyle='--')\n",
    "ax[0].set_xlim([0.0, 1.0])\n",
    "ax[0].set_ylim([0.0, 1.05])\n",
    "ax[0].set_xlabel('False Positive Rate')\n",
    "ax[0].set_ylabel('True Positive Rate')\n",
    "ax[0].set_title('Training Set - ROC Curve')\n",
    "ax[0].legend(loc='lower right')\n",
    "ax[1].plot(fpr, tpr, color='darkorange', lw=2, label=f'ROC curve Test (area = {roc_auc:0.2f})')\n",
    "ax[1].plot([0, 1], [0, 1], color='navy', lw=2, linestyle='--')\n",
    "ax[1].set_xlim([0.0, 1.0])\n",
    "ax[1].set_ylim([0.0, 1.05])\n",
    "ax[1].set_xlabel('False Positive Rate')\n",
    "ax[1].set_ylabel('True Positive Rate')\n",
    "ax[1].set_title('Test Set - ROC Curve')\n",
    "ax[1].legend(loc='lower right')\n",
    "plt.show()\n"
   ]
  },
  {
   "cell_type": "markdown",
   "metadata": {},
   "source": [
    "### GridSearch"
   ]
  },
  {
   "cell_type": "code",
   "execution_count": 47,
   "metadata": {},
   "outputs": [
    {
     "name": "stdout",
     "output_type": "stream",
     "text": [
      "Fitting 3 folds for each of 108 candidates, totalling 324 fits\n",
      "[CV] END model__max_depth=50, model__min_samples_leaf=1, model__min_samples_split=10, model__n_estimators=500; total time=   4.1s\n",
      "[CV] END model__max_depth=50, model__min_samples_leaf=1, model__min_samples_split=10, model__n_estimators=500; total time=   4.2s\n",
      "[CV] END model__max_depth=50, model__min_samples_leaf=1, model__min_samples_split=10, model__n_estimators=500; total time=   4.2s\n",
      "[CV] END model__max_depth=50, model__min_samples_leaf=1, model__min_samples_split=5, model__n_estimators=500; total time=   4.7s\n",
      "[CV] END model__max_depth=50, model__min_samples_leaf=1, model__min_samples_split=5, model__n_estimators=500; total time=   4.7s\n",
      "[CV] END model__max_depth=50, model__min_samples_leaf=1, model__min_samples_split=5, model__n_estimators=500; total time=   4.8s\n",
      "[CV] END model__max_depth=50, model__min_samples_leaf=1, model__min_samples_split=5, model__n_estimators=600; total time=   5.6s\n",
      "[CV] END model__max_depth=50, model__min_samples_leaf=1, model__min_samples_split=5, model__n_estimators=600; total time=   5.7s\n",
      "[CV] END model__max_depth=50, model__min_samples_leaf=1, model__min_samples_split=5, model__n_estimators=600; total time=   5.8s\n",
      "[CV] END model__max_depth=50, model__min_samples_leaf=1, model__min_samples_split=5, model__n_estimators=700; total time=   6.6s\n",
      "[CV] END model__max_depth=50, model__min_samples_leaf=1, model__min_samples_split=5, model__n_estimators=700; total time=   6.7s\n",
      "[CV] END model__max_depth=50, model__min_samples_leaf=1, model__min_samples_split=5, model__n_estimators=700; total time=   6.8s\n",
      "[CV] END model__max_depth=50, model__min_samples_leaf=1, model__min_samples_split=10, model__n_estimators=600; total time=   5.4s\n",
      "[CV] END model__max_depth=50, model__min_samples_leaf=1, model__min_samples_split=10, model__n_estimators=600; total time=   5.5s\n",
      "[CV] END model__max_depth=50, model__min_samples_leaf=1, model__min_samples_split=20, model__n_estimators=500; total time=   4.0s\n",
      "[CV] END model__max_depth=50, model__min_samples_leaf=1, model__min_samples_split=10, model__n_estimators=600; total time=   5.5s\n",
      "[CV] END model__max_depth=50, model__min_samples_leaf=1, model__min_samples_split=20, model__n_estimators=500; total time=   4.0s\n",
      "[CV] END model__max_depth=50, model__min_samples_leaf=1, model__min_samples_split=20, model__n_estimators=500; total time=   4.0s\n",
      "[CV] END model__max_depth=50, model__min_samples_leaf=1, model__min_samples_split=10, model__n_estimators=700; total time=   6.2s\n",
      "[CV] END model__max_depth=50, model__min_samples_leaf=1, model__min_samples_split=10, model__n_estimators=700; total time=   6.3s\n",
      "[CV] END model__max_depth=50, model__min_samples_leaf=1, model__min_samples_split=10, model__n_estimators=700; total time=   6.5s\n",
      "[CV] END model__max_depth=50, model__min_samples_leaf=1, model__min_samples_split=20, model__n_estimators=600; total time=   4.8s\n",
      "[CV] END model__max_depth=50, model__min_samples_leaf=1, model__min_samples_split=20, model__n_estimators=600; total time=   4.9s\n",
      "[CV] END model__max_depth=50, model__min_samples_leaf=1, model__min_samples_split=20, model__n_estimators=600; total time=   4.9s\n",
      "[CV] END model__max_depth=50, model__min_samples_leaf=2, model__min_samples_split=5, model__n_estimators=500; total time=   4.5s\n",
      "[CV] END model__max_depth=50, model__min_samples_leaf=2, model__min_samples_split=5, model__n_estimators=500; total time=   4.5s\n",
      "[CV] END model__max_depth=50, model__min_samples_leaf=2, model__min_samples_split=5, model__n_estimators=500; total time=   4.5s\n",
      "[CV] END model__max_depth=50, model__min_samples_leaf=1, model__min_samples_split=20, model__n_estimators=700; total time=   5.4s\n",
      "[CV] END model__max_depth=50, model__min_samples_leaf=1, model__min_samples_split=20, model__n_estimators=700; total time=   5.5s\n",
      "[CV] END model__max_depth=50, model__min_samples_leaf=1, model__min_samples_split=20, model__n_estimators=700; total time=   5.5s\n",
      "[CV] END model__max_depth=50, model__min_samples_leaf=2, model__min_samples_split=5, model__n_estimators=600; total time=   5.4s\n",
      "[CV] END model__max_depth=50, model__min_samples_leaf=2, model__min_samples_split=5, model__n_estimators=600; total time=   5.5s\n",
      "[CV] END model__max_depth=50, model__min_samples_leaf=2, model__min_samples_split=5, model__n_estimators=600; total time=   5.3s\n",
      "[CV] END model__max_depth=50, model__min_samples_leaf=2, model__min_samples_split=5, model__n_estimators=700; total time=   6.0s\n",
      "[CV] END model__max_depth=50, model__min_samples_leaf=2, model__min_samples_split=5, model__n_estimators=700; total time=   6.1s\n",
      "[CV] END model__max_depth=50, model__min_samples_leaf=2, model__min_samples_split=5, model__n_estimators=700; total time=   6.1s\n",
      "[CV] END model__max_depth=50, model__min_samples_leaf=2, model__min_samples_split=10, model__n_estimators=500; total time=   4.0s\n",
      "[CV] END model__max_depth=50, model__min_samples_leaf=2, model__min_samples_split=10, model__n_estimators=500; total time=   4.1s\n",
      "[CV] END model__max_depth=50, model__min_samples_leaf=2, model__min_samples_split=10, model__n_estimators=500; total time=   4.1s\n",
      "[CV] END model__max_depth=50, model__min_samples_leaf=2, model__min_samples_split=10, model__n_estimators=600; total time=   4.8s\n",
      "[CV] END model__max_depth=50, model__min_samples_leaf=2, model__min_samples_split=10, model__n_estimators=600; total time=   4.9s\n",
      "[CV] END model__max_depth=50, model__min_samples_leaf=2, model__min_samples_split=10, model__n_estimators=600; total time=   5.0s\n",
      "[CV] END model__max_depth=50, model__min_samples_leaf=2, model__min_samples_split=20, model__n_estimators=500; total time=   3.8s\n",
      "[CV] END model__max_depth=50, model__min_samples_leaf=2, model__min_samples_split=20, model__n_estimators=500; total time=   3.9s\n",
      "[CV] END model__max_depth=50, model__min_samples_leaf=2, model__min_samples_split=20, model__n_estimators=500; total time=   3.8s\n",
      "[CV] END model__max_depth=50, model__min_samples_leaf=2, model__min_samples_split=10, model__n_estimators=700; total time=   5.7s\n",
      "[CV] END model__max_depth=50, model__min_samples_leaf=2, model__min_samples_split=10, model__n_estimators=700; total time=   5.8s\n",
      "[CV] END model__max_depth=50, model__min_samples_leaf=2, model__min_samples_split=10, model__n_estimators=700; total time=   5.8s\n",
      "[CV] END model__max_depth=50, model__min_samples_leaf=2, model__min_samples_split=20, model__n_estimators=600; total time=   4.5s\n",
      "[CV] END model__max_depth=50, model__min_samples_leaf=2, model__min_samples_split=20, model__n_estimators=600; total time=   4.5s\n",
      "[CV] END model__max_depth=50, model__min_samples_leaf=2, model__min_samples_split=20, model__n_estimators=600; total time=   4.6s\n",
      "[CV] END model__max_depth=50, model__min_samples_leaf=4, model__min_samples_split=5, model__n_estimators=500; total time=   3.8s\n",
      "[CV] END model__max_depth=50, model__min_samples_leaf=2, model__min_samples_split=20, model__n_estimators=700; total time=   5.3s\n",
      "[CV] END model__max_depth=50, model__min_samples_leaf=2, model__min_samples_split=20, model__n_estimators=700; total time=   5.3s\n",
      "[CV] END model__max_depth=50, model__min_samples_leaf=2, model__min_samples_split=20, model__n_estimators=700; total time=   5.2s\n",
      "[CV] END model__max_depth=50, model__min_samples_leaf=4, model__min_samples_split=5, model__n_estimators=500; total time=   3.8s\n",
      "[CV] END model__max_depth=50, model__min_samples_leaf=4, model__min_samples_split=5, model__n_estimators=500; total time=   3.8s\n",
      "[CV] END model__max_depth=50, model__min_samples_leaf=4, model__min_samples_split=5, model__n_estimators=600; total time=   4.6s\n",
      "[CV] END model__max_depth=50, model__min_samples_leaf=4, model__min_samples_split=5, model__n_estimators=600; total time=   4.6s\n",
      "[CV] END model__max_depth=50, model__min_samples_leaf=4, model__min_samples_split=5, model__n_estimators=600; total time=   4.6s\n",
      "[CV] END model__max_depth=50, model__min_samples_leaf=4, model__min_samples_split=5, model__n_estimators=700; total time=   5.2s\n",
      "[CV] END model__max_depth=50, model__min_samples_leaf=4, model__min_samples_split=5, model__n_estimators=700; total time=   5.4s\n",
      "[CV] END model__max_depth=50, model__min_samples_leaf=4, model__min_samples_split=5, model__n_estimators=700; total time=   5.3s\n",
      "[CV] END model__max_depth=50, model__min_samples_leaf=4, model__min_samples_split=10, model__n_estimators=500; total time=   3.7s\n",
      "[CV] END model__max_depth=50, model__min_samples_leaf=4, model__min_samples_split=10, model__n_estimators=500; total time=   3.8s\n",
      "[CV] END model__max_depth=50, model__min_samples_leaf=4, model__min_samples_split=10, model__n_estimators=500; total time=   3.8s\n",
      "[CV] END model__max_depth=50, model__min_samples_leaf=4, model__min_samples_split=10, model__n_estimators=600; total time=   4.6s\n",
      "[CV] END model__max_depth=50, model__min_samples_leaf=4, model__min_samples_split=10, model__n_estimators=600; total time=   4.6s\n",
      "[CV] END model__max_depth=50, model__min_samples_leaf=4, model__min_samples_split=10, model__n_estimators=600; total time=   4.6s\n",
      "[CV] END model__max_depth=50, model__min_samples_leaf=4, model__min_samples_split=20, model__n_estimators=500; total time=   3.8s\n",
      "[CV] END model__max_depth=50, model__min_samples_leaf=4, model__min_samples_split=20, model__n_estimators=500; total time=   3.8s\n",
      "[CV] END model__max_depth=50, model__min_samples_leaf=4, model__min_samples_split=10, model__n_estimators=700; total time=   5.5s\n",
      "[CV] END model__max_depth=50, model__min_samples_leaf=4, model__min_samples_split=20, model__n_estimators=500; total time=   3.8s\n",
      "[CV] END model__max_depth=50, model__min_samples_leaf=4, model__min_samples_split=10, model__n_estimators=700; total time=   5.5s\n",
      "[CV] END model__max_depth=50, model__min_samples_leaf=4, model__min_samples_split=10, model__n_estimators=700; total time=   5.5s\n",
      "[CV] END model__max_depth=50, model__min_samples_leaf=4, model__min_samples_split=20, model__n_estimators=600; total time=   4.4s\n",
      "[CV] END model__max_depth=50, model__min_samples_leaf=4, model__min_samples_split=20, model__n_estimators=600; total time=   4.5s\n",
      "[CV] END model__max_depth=50, model__min_samples_leaf=4, model__min_samples_split=20, model__n_estimators=600; total time=   4.5s\n",
      "[CV] END model__max_depth=50, model__min_samples_leaf=4, model__min_samples_split=20, model__n_estimators=700; total time=   5.0s\n",
      "[CV] END model__max_depth=50, model__min_samples_leaf=4, model__min_samples_split=20, model__n_estimators=700; total time=   5.0s\n",
      "[CV] END model__max_depth=50, model__min_samples_leaf=4, model__min_samples_split=20, model__n_estimators=700; total time=   5.0s\n",
      "[CV] END model__max_depth=60, model__min_samples_leaf=1, model__min_samples_split=5, model__n_estimators=500; total time=   4.8s\n",
      "[CV] END model__max_depth=60, model__min_samples_leaf=1, model__min_samples_split=5, model__n_estimators=500; total time=   4.8s\n",
      "[CV] END model__max_depth=60, model__min_samples_leaf=1, model__min_samples_split=5, model__n_estimators=500; total time=   4.9s\n",
      "[CV] END model__max_depth=60, model__min_samples_leaf=1, model__min_samples_split=5, model__n_estimators=600; total time=   5.7s\n",
      "[CV] END model__max_depth=60, model__min_samples_leaf=1, model__min_samples_split=5, model__n_estimators=600; total time=   5.8s\n",
      "[CV] END model__max_depth=60, model__min_samples_leaf=1, model__min_samples_split=5, model__n_estimators=600; total time=   5.9s\n",
      "[CV] END model__max_depth=60, model__min_samples_leaf=1, model__min_samples_split=10, model__n_estimators=500; total time=   4.3s\n",
      "[CV] END model__max_depth=60, model__min_samples_leaf=1, model__min_samples_split=10, model__n_estimators=500; total time=   4.5s\n",
      "[CV] END model__max_depth=60, model__min_samples_leaf=1, model__min_samples_split=10, model__n_estimators=500; total time=   4.4s\n",
      "[CV] END model__max_depth=60, model__min_samples_leaf=1, model__min_samples_split=5, model__n_estimators=700; total time=   6.7s\n",
      "[CV] END model__max_depth=60, model__min_samples_leaf=1, model__min_samples_split=5, model__n_estimators=700; total time=   6.8s\n",
      "[CV] END model__max_depth=60, model__min_samples_leaf=1, model__min_samples_split=5, model__n_estimators=700; total time=   6.9s\n",
      "[CV] END model__max_depth=60, model__min_samples_leaf=1, model__min_samples_split=10, model__n_estimators=600; total time=   5.2s\n",
      "[CV] END model__max_depth=60, model__min_samples_leaf=1, model__min_samples_split=10, model__n_estimators=600; total time=   5.3s\n",
      "[CV] END model__max_depth=60, model__min_samples_leaf=1, model__min_samples_split=10, model__n_estimators=600; total time=   5.3s\n",
      "[CV] END model__max_depth=60, model__min_samples_leaf=1, model__min_samples_split=20, model__n_estimators=500; total time=   3.7s\n",
      "[CV] END model__max_depth=60, model__min_samples_leaf=1, model__min_samples_split=20, model__n_estimators=500; total time=   3.7s\n",
      "[CV] END model__max_depth=60, model__min_samples_leaf=1, model__min_samples_split=20, model__n_estimators=500; total time=   3.8s\n",
      "[CV] END model__max_depth=60, model__min_samples_leaf=1, model__min_samples_split=10, model__n_estimators=700; total time=   6.0s\n",
      "[CV] END model__max_depth=60, model__min_samples_leaf=1, model__min_samples_split=20, model__n_estimators=600; total time=   4.4s\n",
      "[CV] END model__max_depth=60, model__min_samples_leaf=1, model__min_samples_split=10, model__n_estimators=700; total time=   6.1s\n",
      "[CV] END model__max_depth=60, model__min_samples_leaf=1, model__min_samples_split=10, model__n_estimators=700; total time=   6.1s\n",
      "[CV] END model__max_depth=60, model__min_samples_leaf=1, model__min_samples_split=20, model__n_estimators=600; total time=   4.5s\n",
      "[CV] END model__max_depth=60, model__min_samples_leaf=1, model__min_samples_split=20, model__n_estimators=600; total time=   4.4s\n",
      "[CV] END model__max_depth=60, model__min_samples_leaf=1, model__min_samples_split=20, model__n_estimators=700; total time=   5.2s\n",
      "[CV] END model__max_depth=60, model__min_samples_leaf=2, model__min_samples_split=5, model__n_estimators=500; total time=   4.3s\n",
      "[CV] END model__max_depth=60, model__min_samples_leaf=1, model__min_samples_split=20, model__n_estimators=700; total time=   5.3s\n",
      "[CV] END model__max_depth=60, model__min_samples_leaf=2, model__min_samples_split=5, model__n_estimators=500; total time=   4.4s\n",
      "[CV] END model__max_depth=60, model__min_samples_leaf=1, model__min_samples_split=20, model__n_estimators=700; total time=   5.4s\n",
      "[CV] END model__max_depth=60, model__min_samples_leaf=2, model__min_samples_split=5, model__n_estimators=500; total time=   4.4s\n",
      "[CV] END model__max_depth=60, model__min_samples_leaf=2, model__min_samples_split=5, model__n_estimators=600; total time=   5.4s\n",
      "[CV] END model__max_depth=60, model__min_samples_leaf=2, model__min_samples_split=5, model__n_estimators=600; total time=   5.3s\n",
      "[CV] END model__max_depth=60, model__min_samples_leaf=2, model__min_samples_split=5, model__n_estimators=600; total time=   5.4s\n",
      "[CV] END model__max_depth=60, model__min_samples_leaf=2, model__min_samples_split=5, model__n_estimators=700; total time=   6.1s\n",
      "[CV] END model__max_depth=60, model__min_samples_leaf=2, model__min_samples_split=5, model__n_estimators=700; total time=   6.1s\n",
      "[CV] END model__max_depth=60, model__min_samples_leaf=2, model__min_samples_split=5, model__n_estimators=700; total time=   6.0s\n",
      "[CV] END model__max_depth=60, model__min_samples_leaf=2, model__min_samples_split=10, model__n_estimators=500; total time=   4.1s\n",
      "[CV] END model__max_depth=60, model__min_samples_leaf=2, model__min_samples_split=10, model__n_estimators=500; total time=   4.2s\n",
      "[CV] END model__max_depth=60, model__min_samples_leaf=2, model__min_samples_split=10, model__n_estimators=500; total time=   4.1s\n",
      "[CV] END model__max_depth=60, model__min_samples_leaf=2, model__min_samples_split=10, model__n_estimators=600; total time=   5.0s\n",
      "[CV] END model__max_depth=60, model__min_samples_leaf=2, model__min_samples_split=10, model__n_estimators=600; total time=   5.1s\n",
      "[CV] END model__max_depth=60, model__min_samples_leaf=2, model__min_samples_split=10, model__n_estimators=600; total time=   5.2s\n",
      "[CV] END model__max_depth=60, model__min_samples_leaf=2, model__min_samples_split=20, model__n_estimators=500; total time=   4.4s\n",
      "[CV] END model__max_depth=60, model__min_samples_leaf=2, model__min_samples_split=20, model__n_estimators=500; total time=   4.4s\n",
      "[CV] END model__max_depth=60, model__min_samples_leaf=2, model__min_samples_split=20, model__n_estimators=500; total time=   4.4s\n",
      "[CV] END model__max_depth=60, model__min_samples_leaf=2, model__min_samples_split=10, model__n_estimators=700; total time=   6.3s\n",
      "[CV] END model__max_depth=60, model__min_samples_leaf=2, model__min_samples_split=10, model__n_estimators=700; total time=   6.4s\n",
      "[CV] END model__max_depth=60, model__min_samples_leaf=2, model__min_samples_split=20, model__n_estimators=600; total time=   5.1s\n",
      "[CV] END model__max_depth=60, model__min_samples_leaf=2, model__min_samples_split=10, model__n_estimators=700; total time=   6.4s\n",
      "[CV] END model__max_depth=60, model__min_samples_leaf=2, model__min_samples_split=20, model__n_estimators=600; total time=   5.1s\n",
      "[CV] END model__max_depth=60, model__min_samples_leaf=2, model__min_samples_split=20, model__n_estimators=600; total time=   5.2s\n",
      "[CV] END model__max_depth=60, model__min_samples_leaf=2, model__min_samples_split=20, model__n_estimators=700; total time=   5.8s\n",
      "[CV] END model__max_depth=60, model__min_samples_leaf=2, model__min_samples_split=20, model__n_estimators=700; total time=   5.9s\n",
      "[CV] END model__max_depth=60, model__min_samples_leaf=2, model__min_samples_split=20, model__n_estimators=700; total time=   5.8s\n",
      "[CV] END model__max_depth=60, model__min_samples_leaf=4, model__min_samples_split=5, model__n_estimators=500; total time=   4.0s\n",
      "[CV] END model__max_depth=60, model__min_samples_leaf=4, model__min_samples_split=5, model__n_estimators=500; total time=   4.0s\n",
      "[CV] END model__max_depth=60, model__min_samples_leaf=4, model__min_samples_split=5, model__n_estimators=500; total time=   4.0s\n",
      "[CV] END model__max_depth=60, model__min_samples_leaf=4, model__min_samples_split=5, model__n_estimators=600; total time=   4.8s\n",
      "[CV] END model__max_depth=60, model__min_samples_leaf=4, model__min_samples_split=5, model__n_estimators=600; total time=   4.9s\n",
      "[CV] END model__max_depth=60, model__min_samples_leaf=4, model__min_samples_split=5, model__n_estimators=600; total time=   4.9s\n",
      "[CV] END model__max_depth=60, model__min_samples_leaf=4, model__min_samples_split=5, model__n_estimators=700; total time=   5.7s\n",
      "[CV] END model__max_depth=60, model__min_samples_leaf=4, model__min_samples_split=5, model__n_estimators=700; total time=   5.6s\n",
      "[CV] END model__max_depth=60, model__min_samples_leaf=4, model__min_samples_split=10, model__n_estimators=500; total time=   4.0s\n",
      "[CV] END model__max_depth=60, model__min_samples_leaf=4, model__min_samples_split=5, model__n_estimators=700; total time=   5.6s\n",
      "[CV] END model__max_depth=60, model__min_samples_leaf=4, model__min_samples_split=10, model__n_estimators=500; total time=   4.0s\n",
      "[CV] END model__max_depth=60, model__min_samples_leaf=4, model__min_samples_split=10, model__n_estimators=500; total time=   4.0s\n",
      "[CV] END model__max_depth=60, model__min_samples_leaf=4, model__min_samples_split=10, model__n_estimators=600; total time=   4.7s\n",
      "[CV] END model__max_depth=60, model__min_samples_leaf=4, model__min_samples_split=10, model__n_estimators=600; total time=   4.8s\n",
      "[CV] END model__max_depth=60, model__min_samples_leaf=4, model__min_samples_split=10, model__n_estimators=600; total time=   4.7s\n",
      "[CV] END model__max_depth=60, model__min_samples_leaf=4, model__min_samples_split=20, model__n_estimators=500; total time=   3.6s\n",
      "[CV] END model__max_depth=60, model__min_samples_leaf=4, model__min_samples_split=20, model__n_estimators=500; total time=   3.7s\n",
      "[CV] END model__max_depth=60, model__min_samples_leaf=4, model__min_samples_split=10, model__n_estimators=700; total time=   5.5s\n",
      "[CV] END model__max_depth=60, model__min_samples_leaf=4, model__min_samples_split=20, model__n_estimators=500; total time=   3.7s\n",
      "[CV] END model__max_depth=60, model__min_samples_leaf=4, model__min_samples_split=10, model__n_estimators=700; total time=   5.4s\n",
      "[CV] END model__max_depth=60, model__min_samples_leaf=4, model__min_samples_split=10, model__n_estimators=700; total time=   5.4s\n",
      "[CV] END model__max_depth=60, model__min_samples_leaf=4, model__min_samples_split=20, model__n_estimators=600; total time=   4.3s\n",
      "[CV] END model__max_depth=60, model__min_samples_leaf=4, model__min_samples_split=20, model__n_estimators=600; total time=   4.4s\n",
      "[CV] END model__max_depth=60, model__min_samples_leaf=4, model__min_samples_split=20, model__n_estimators=600; total time=   4.3s\n",
      "[CV] END model__max_depth=60, model__min_samples_leaf=4, model__min_samples_split=20, model__n_estimators=700; total time=   4.9s\n",
      "[CV] END model__max_depth=60, model__min_samples_leaf=4, model__min_samples_split=20, model__n_estimators=700; total time=   4.9s\n",
      "[CV] END model__max_depth=60, model__min_samples_leaf=4, model__min_samples_split=20, model__n_estimators=700; total time=   4.9s\n",
      "[CV] END model__max_depth=70, model__min_samples_leaf=1, model__min_samples_split=5, model__n_estimators=500; total time=   4.8s\n",
      "[CV] END model__max_depth=70, model__min_samples_leaf=1, model__min_samples_split=5, model__n_estimators=500; total time=   4.9s\n",
      "[CV] END model__max_depth=70, model__min_samples_leaf=1, model__min_samples_split=5, model__n_estimators=500; total time=   4.9s\n",
      "[CV] END model__max_depth=70, model__min_samples_leaf=1, model__min_samples_split=5, model__n_estimators=600; total time=   5.8s\n",
      "[CV] END model__max_depth=70, model__min_samples_leaf=1, model__min_samples_split=5, model__n_estimators=600; total time=   5.8s\n",
      "[CV] END model__max_depth=70, model__min_samples_leaf=1, model__min_samples_split=5, model__n_estimators=600; total time=   5.9s\n",
      "[CV] END model__max_depth=70, model__min_samples_leaf=1, model__min_samples_split=10, model__n_estimators=500; total time=   4.3s\n",
      "[CV] END model__max_depth=70, model__min_samples_leaf=1, model__min_samples_split=10, model__n_estimators=500; total time=   4.3s\n",
      "[CV] END model__max_depth=70, model__min_samples_leaf=1, model__min_samples_split=10, model__n_estimators=500; total time=   4.4s\n",
      "[CV] END model__max_depth=70, model__min_samples_leaf=1, model__min_samples_split=5, model__n_estimators=700; total time=   6.7s\n",
      "[CV] END model__max_depth=70, model__min_samples_leaf=1, model__min_samples_split=5, model__n_estimators=700; total time=   6.8s\n",
      "[CV] END model__max_depth=70, model__min_samples_leaf=1, model__min_samples_split=5, model__n_estimators=700; total time=   6.9s\n",
      "[CV] END model__max_depth=70, model__min_samples_leaf=1, model__min_samples_split=10, model__n_estimators=600; total time=   5.5s\n",
      "[CV] END model__max_depth=70, model__min_samples_leaf=1, model__min_samples_split=10, model__n_estimators=600; total time=   5.3s\n",
      "[CV] END model__max_depth=70, model__min_samples_leaf=1, model__min_samples_split=10, model__n_estimators=600; total time=   5.4s\n",
      "[CV] END model__max_depth=70, model__min_samples_leaf=1, model__min_samples_split=20, model__n_estimators=500; total time=   4.0s\n",
      "[CV] END model__max_depth=70, model__min_samples_leaf=1, model__min_samples_split=20, model__n_estimators=500; total time=   4.0s\n",
      "[CV] END model__max_depth=70, model__min_samples_leaf=1, model__min_samples_split=20, model__n_estimators=500; total time=   4.0s\n",
      "[CV] END model__max_depth=70, model__min_samples_leaf=1, model__min_samples_split=10, model__n_estimators=700; total time=   6.3s\n",
      "[CV] END model__max_depth=70, model__min_samples_leaf=1, model__min_samples_split=20, model__n_estimators=600; total time=   4.7s\n",
      "[CV] END model__max_depth=70, model__min_samples_leaf=1, model__min_samples_split=10, model__n_estimators=700; total time=   6.3s\n",
      "[CV] END model__max_depth=70, model__min_samples_leaf=1, model__min_samples_split=20, model__n_estimators=600; total time=   4.8s\n",
      "[CV] END model__max_depth=70, model__min_samples_leaf=1, model__min_samples_split=10, model__n_estimators=700; total time=   6.4s\n",
      "[CV] END model__max_depth=70, model__min_samples_leaf=1, model__min_samples_split=20, model__n_estimators=600; total time=   4.9s\n",
      "[CV] END model__max_depth=70, model__min_samples_leaf=1, model__min_samples_split=20, model__n_estimators=700; total time=   5.3s\n",
      "[CV] END model__max_depth=70, model__min_samples_leaf=2, model__min_samples_split=5, model__n_estimators=500; total time=   4.3s\n",
      "[CV] END model__max_depth=70, model__min_samples_leaf=1, model__min_samples_split=20, model__n_estimators=700; total time=   5.4s\n",
      "[CV] END model__max_depth=70, model__min_samples_leaf=2, model__min_samples_split=5, model__n_estimators=500; total time=   4.4s\n",
      "[CV] END model__max_depth=70, model__min_samples_leaf=1, model__min_samples_split=20, model__n_estimators=700; total time=   5.4s\n",
      "[CV] END model__max_depth=70, model__min_samples_leaf=2, model__min_samples_split=5, model__n_estimators=500; total time=   4.5s\n",
      "[CV] END model__max_depth=70, model__min_samples_leaf=2, model__min_samples_split=5, model__n_estimators=600; total time=   5.2s\n",
      "[CV] END model__max_depth=70, model__min_samples_leaf=2, model__min_samples_split=5, model__n_estimators=600; total time=   5.2s\n",
      "[CV] END model__max_depth=70, model__min_samples_leaf=2, model__min_samples_split=5, model__n_estimators=600; total time=   5.2s\n",
      "[CV] END model__max_depth=70, model__min_samples_leaf=2, model__min_samples_split=5, model__n_estimators=700; total time=   6.0s\n",
      "[CV] END model__max_depth=70, model__min_samples_leaf=2, model__min_samples_split=5, model__n_estimators=700; total time=   6.1s\n",
      "[CV] END model__max_depth=70, model__min_samples_leaf=2, model__min_samples_split=5, model__n_estimators=700; total time=   6.2s\n",
      "[CV] END model__max_depth=70, model__min_samples_leaf=2, model__min_samples_split=10, model__n_estimators=500; total time=   4.1s\n",
      "[CV] END model__max_depth=70, model__min_samples_leaf=2, model__min_samples_split=10, model__n_estimators=500; total time=   4.2s\n",
      "[CV] END model__max_depth=70, model__min_samples_leaf=2, model__min_samples_split=10, model__n_estimators=500; total time=   4.2s\n",
      "[CV] END model__max_depth=70, model__min_samples_leaf=2, model__min_samples_split=10, model__n_estimators=600; total time=   4.9s\n",
      "[CV] END model__max_depth=70, model__min_samples_leaf=2, model__min_samples_split=10, model__n_estimators=600; total time=   4.9s\n",
      "[CV] END model__max_depth=70, model__min_samples_leaf=2, model__min_samples_split=10, model__n_estimators=600; total time=   5.0s\n",
      "[CV] END model__max_depth=70, model__min_samples_leaf=2, model__min_samples_split=20, model__n_estimators=500; total time=   3.7s\n",
      "[CV] END model__max_depth=70, model__min_samples_leaf=2, model__min_samples_split=20, model__n_estimators=500; total time=   3.7s\n",
      "[CV] END model__max_depth=70, model__min_samples_leaf=2, model__min_samples_split=20, model__n_estimators=500; total time=   3.7s\n",
      "[CV] END model__max_depth=70, model__min_samples_leaf=2, model__min_samples_split=10, model__n_estimators=700; total time=   5.8s\n",
      "[CV] END model__max_depth=70, model__min_samples_leaf=2, model__min_samples_split=10, model__n_estimators=700; total time=   5.9s\n",
      "[CV] END model__max_depth=70, model__min_samples_leaf=2, model__min_samples_split=10, model__n_estimators=700; total time=   5.9s\n",
      "[CV] END model__max_depth=70, model__min_samples_leaf=2, model__min_samples_split=20, model__n_estimators=600; total time=   4.5s\n",
      "[CV] END model__max_depth=70, model__min_samples_leaf=2, model__min_samples_split=20, model__n_estimators=600; total time=   4.5s\n",
      "[CV] END model__max_depth=70, model__min_samples_leaf=2, model__min_samples_split=20, model__n_estimators=600; total time=   4.5s\n",
      "[CV] END model__max_depth=70, model__min_samples_leaf=2, model__min_samples_split=20, model__n_estimators=700; total time=   5.2s\n",
      "[CV] END model__max_depth=70, model__min_samples_leaf=2, model__min_samples_split=20, model__n_estimators=700; total time=   5.3s\n",
      "[CV] END model__max_depth=70, model__min_samples_leaf=2, model__min_samples_split=20, model__n_estimators=700; total time=   5.3s\n",
      "[CV] END model__max_depth=70, model__min_samples_leaf=4, model__min_samples_split=5, model__n_estimators=500; total time=   3.9s\n",
      "[CV] END model__max_depth=70, model__min_samples_leaf=4, model__min_samples_split=5, model__n_estimators=500; total time=   4.0s\n",
      "[CV] END model__max_depth=70, model__min_samples_leaf=4, model__min_samples_split=5, model__n_estimators=500; total time=   4.0s\n",
      "[CV] END model__max_depth=70, model__min_samples_leaf=4, model__min_samples_split=5, model__n_estimators=600; total time=   4.6s\n",
      "[CV] END model__max_depth=70, model__min_samples_leaf=4, model__min_samples_split=5, model__n_estimators=600; total time=   4.7s\n",
      "[CV] END model__max_depth=70, model__min_samples_leaf=4, model__min_samples_split=5, model__n_estimators=600; total time=   4.7s\n",
      "[CV] END model__max_depth=70, model__min_samples_leaf=4, model__min_samples_split=5, model__n_estimators=700; total time=   5.4s\n",
      "[CV] END model__max_depth=70, model__min_samples_leaf=4, model__min_samples_split=5, model__n_estimators=700; total time=   5.5s\n",
      "[CV] END model__max_depth=70, model__min_samples_leaf=4, model__min_samples_split=10, model__n_estimators=500; total time=   3.9s\n",
      "[CV] END model__max_depth=70, model__min_samples_leaf=4, model__min_samples_split=5, model__n_estimators=700; total time=   5.6s\n",
      "[CV] END model__max_depth=70, model__min_samples_leaf=4, model__min_samples_split=10, model__n_estimators=500; total time=   4.0s\n",
      "[CV] END model__max_depth=70, model__min_samples_leaf=4, model__min_samples_split=10, model__n_estimators=500; total time=   3.9s\n",
      "[CV] END model__max_depth=70, model__min_samples_leaf=4, model__min_samples_split=10, model__n_estimators=600; total time=   4.6s\n",
      "[CV] END model__max_depth=70, model__min_samples_leaf=4, model__min_samples_split=10, model__n_estimators=600; total time=   4.7s\n",
      "[CV] END model__max_depth=70, model__min_samples_leaf=4, model__min_samples_split=10, model__n_estimators=600; total time=   4.7s\n",
      "[CV] END model__max_depth=70, model__min_samples_leaf=4, model__min_samples_split=20, model__n_estimators=500; total time=   3.6s\n",
      "[CV] END model__max_depth=70, model__min_samples_leaf=4, model__min_samples_split=10, model__n_estimators=700; total time=   5.1s\n",
      "[CV] END model__max_depth=70, model__min_samples_leaf=4, model__min_samples_split=20, model__n_estimators=500; total time=   3.7s\n",
      "[CV] END model__max_depth=70, model__min_samples_leaf=4, model__min_samples_split=20, model__n_estimators=500; total time=   3.6s\n",
      "[CV] END model__max_depth=70, model__min_samples_leaf=4, model__min_samples_split=10, model__n_estimators=700; total time=   5.5s\n",
      "[CV] END model__max_depth=70, model__min_samples_leaf=4, model__min_samples_split=10, model__n_estimators=700; total time=   5.4s\n",
      "[CV] END model__max_depth=70, model__min_samples_leaf=4, model__min_samples_split=20, model__n_estimators=600; total time=   4.3s\n",
      "[CV] END model__max_depth=70, model__min_samples_leaf=4, model__min_samples_split=20, model__n_estimators=600; total time=   4.3s\n",
      "[CV] END model__max_depth=70, model__min_samples_leaf=4, model__min_samples_split=20, model__n_estimators=600; total time=   4.5s\n",
      "[CV] END model__max_depth=70, model__min_samples_leaf=4, model__min_samples_split=20, model__n_estimators=700; total time=   4.9s\n",
      "[CV] END model__max_depth=70, model__min_samples_leaf=4, model__min_samples_split=20, model__n_estimators=700; total time=   4.9s\n",
      "[CV] END model__max_depth=70, model__min_samples_leaf=4, model__min_samples_split=20, model__n_estimators=700; total time=   4.9s\n",
      "[CV] END model__max_depth=100, model__min_samples_leaf=1, model__min_samples_split=5, model__n_estimators=500; total time=   5.1s\n",
      "[CV] END model__max_depth=100, model__min_samples_leaf=1, model__min_samples_split=5, model__n_estimators=500; total time=   5.1s\n",
      "[CV] END model__max_depth=100, model__min_samples_leaf=1, model__min_samples_split=5, model__n_estimators=500; total time=   5.2s\n",
      "[CV] END model__max_depth=100, model__min_samples_leaf=1, model__min_samples_split=5, model__n_estimators=600; total time=   5.9s\n",
      "[CV] END model__max_depth=100, model__min_samples_leaf=1, model__min_samples_split=5, model__n_estimators=600; total time=   6.0s\n",
      "[CV] END model__max_depth=100, model__min_samples_leaf=1, model__min_samples_split=5, model__n_estimators=600; total time=   6.0s\n",
      "[CV] END model__max_depth=100, model__min_samples_leaf=1, model__min_samples_split=10, model__n_estimators=500; total time=   4.4s\n",
      "[CV] END model__max_depth=100, model__min_samples_leaf=1, model__min_samples_split=10, model__n_estimators=500; total time=   4.4s\n",
      "[CV] END model__max_depth=100, model__min_samples_leaf=1, model__min_samples_split=5, model__n_estimators=700; total time=   6.8s\n",
      "[CV] END model__max_depth=100, model__min_samples_leaf=1, model__min_samples_split=10, model__n_estimators=500; total time=   4.5s\n",
      "[CV] END model__max_depth=100, model__min_samples_leaf=1, model__min_samples_split=5, model__n_estimators=700; total time=   7.0s\n",
      "[CV] END model__max_depth=100, model__min_samples_leaf=1, model__min_samples_split=5, model__n_estimators=700; total time=   7.0s\n",
      "[CV] END model__max_depth=100, model__min_samples_leaf=1, model__min_samples_split=10, model__n_estimators=600; total time=   5.4s\n",
      "[CV] END model__max_depth=100, model__min_samples_leaf=1, model__min_samples_split=10, model__n_estimators=600; total time=   5.4s\n",
      "[CV] END model__max_depth=100, model__min_samples_leaf=1, model__min_samples_split=10, model__n_estimators=600; total time=   5.5s\n",
      "[CV] END model__max_depth=100, model__min_samples_leaf=1, model__min_samples_split=20, model__n_estimators=500; total time=   4.1s\n",
      "[CV] END model__max_depth=100, model__min_samples_leaf=1, model__min_samples_split=20, model__n_estimators=500; total time=   4.2s\n",
      "[CV] END model__max_depth=100, model__min_samples_leaf=1, model__min_samples_split=20, model__n_estimators=500; total time=   4.1s\n",
      "[CV] END model__max_depth=100, model__min_samples_leaf=1, model__min_samples_split=10, model__n_estimators=700; total time=   6.3s\n",
      "[CV] END model__max_depth=100, model__min_samples_leaf=1, model__min_samples_split=20, model__n_estimators=600; total time=   4.8s\n",
      "[CV] END model__max_depth=100, model__min_samples_leaf=1, model__min_samples_split=10, model__n_estimators=700; total time=   6.3s\n",
      "[CV] END model__max_depth=100, model__min_samples_leaf=1, model__min_samples_split=10, model__n_estimators=700; total time=   6.4s\n",
      "[CV] END model__max_depth=100, model__min_samples_leaf=1, model__min_samples_split=20, model__n_estimators=600; total time=   4.9s\n",
      "[CV] END model__max_depth=100, model__min_samples_leaf=1, model__min_samples_split=20, model__n_estimators=600; total time=   4.9s\n",
      "[CV] END model__max_depth=100, model__min_samples_leaf=1, model__min_samples_split=20, model__n_estimators=700; total time=   5.4s\n",
      "[CV] END model__max_depth=100, model__min_samples_leaf=2, model__min_samples_split=5, model__n_estimators=500; total time=   4.4s\n",
      "[CV] END model__max_depth=100, model__min_samples_leaf=1, model__min_samples_split=20, model__n_estimators=700; total time=   5.4s\n",
      "[CV] END model__max_depth=100, model__min_samples_leaf=1, model__min_samples_split=20, model__n_estimators=700; total time=   5.4s\n",
      "[CV] END model__max_depth=100, model__min_samples_leaf=2, model__min_samples_split=5, model__n_estimators=500; total time=   4.4s\n",
      "[CV] END model__max_depth=100, model__min_samples_leaf=2, model__min_samples_split=5, model__n_estimators=500; total time=   4.4s\n",
      "[CV] END model__max_depth=100, model__min_samples_leaf=2, model__min_samples_split=5, model__n_estimators=600; total time=   5.1s\n",
      "[CV] END model__max_depth=100, model__min_samples_leaf=2, model__min_samples_split=5, model__n_estimators=600; total time=   5.2s\n",
      "[CV] END model__max_depth=100, model__min_samples_leaf=2, model__min_samples_split=5, model__n_estimators=600; total time=   5.2s\n",
      "[CV] END model__max_depth=100, model__min_samples_leaf=2, model__min_samples_split=5, model__n_estimators=700; total time=   6.0s\n",
      "[CV] END model__max_depth=100, model__min_samples_leaf=2, model__min_samples_split=5, model__n_estimators=700; total time=   6.1s\n",
      "[CV] END model__max_depth=100, model__min_samples_leaf=2, model__min_samples_split=5, model__n_estimators=700; total time=   6.1s\n",
      "[CV] END model__max_depth=100, model__min_samples_leaf=2, model__min_samples_split=10, model__n_estimators=500; total time=   4.0s\n",
      "[CV] END model__max_depth=100, model__min_samples_leaf=2, model__min_samples_split=10, model__n_estimators=500; total time=   4.2s\n",
      "[CV] END model__max_depth=100, model__min_samples_leaf=2, model__min_samples_split=10, model__n_estimators=500; total time=   4.2s\n",
      "[CV] END model__max_depth=100, model__min_samples_leaf=2, model__min_samples_split=10, model__n_estimators=600; total time=   4.9s\n",
      "[CV] END model__max_depth=100, model__min_samples_leaf=2, model__min_samples_split=10, model__n_estimators=600; total time=   5.1s\n",
      "[CV] END model__max_depth=100, model__min_samples_leaf=2, model__min_samples_split=10, model__n_estimators=600; total time=   5.0s\n",
      "[CV] END model__max_depth=100, model__min_samples_leaf=2, model__min_samples_split=20, model__n_estimators=500; total time=   3.8s\n",
      "[CV] END model__max_depth=100, model__min_samples_leaf=2, model__min_samples_split=20, model__n_estimators=500; total time=   4.0s\n",
      "[CV] END model__max_depth=100, model__min_samples_leaf=2, model__min_samples_split=20, model__n_estimators=500; total time=   4.0s\n",
      "[CV] END model__max_depth=100, model__min_samples_leaf=2, model__min_samples_split=10, model__n_estimators=700; total time=   5.9s\n",
      "[CV] END model__max_depth=100, model__min_samples_leaf=2, model__min_samples_split=10, model__n_estimators=700; total time=   6.0s\n",
      "[CV] END model__max_depth=100, model__min_samples_leaf=2, model__min_samples_split=10, model__n_estimators=700; total time=   6.1s\n",
      "[CV] END model__max_depth=100, model__min_samples_leaf=2, model__min_samples_split=20, model__n_estimators=600; total time=   4.8s\n",
      "[CV] END model__max_depth=100, model__min_samples_leaf=2, model__min_samples_split=20, model__n_estimators=600; total time=   4.7s\n",
      "[CV] END model__max_depth=100, model__min_samples_leaf=2, model__min_samples_split=20, model__n_estimators=600; total time=   4.7s\n",
      "[CV] END model__max_depth=100, model__min_samples_leaf=2, model__min_samples_split=20, model__n_estimators=700; total time=   5.5s\n",
      "[CV] END model__max_depth=100, model__min_samples_leaf=2, model__min_samples_split=20, model__n_estimators=700; total time=   5.5s\n",
      "[CV] END model__max_depth=100, model__min_samples_leaf=2, model__min_samples_split=20, model__n_estimators=700; total time=   5.7s\n",
      "[CV] END model__max_depth=100, model__min_samples_leaf=4, model__min_samples_split=5, model__n_estimators=500; total time=   4.2s\n",
      "[CV] END model__max_depth=100, model__min_samples_leaf=4, model__min_samples_split=5, model__n_estimators=500; total time=   4.1s\n",
      "[CV] END model__max_depth=100, model__min_samples_leaf=4, model__min_samples_split=5, model__n_estimators=500; total time=   4.1s\n",
      "[CV] END model__max_depth=100, model__min_samples_leaf=4, model__min_samples_split=5, model__n_estimators=600; total time=   4.8s\n",
      "[CV] END model__max_depth=100, model__min_samples_leaf=4, model__min_samples_split=5, model__n_estimators=600; total time=   4.8s\n",
      "[CV] END model__max_depth=100, model__min_samples_leaf=4, model__min_samples_split=5, model__n_estimators=600; total time=   4.8s\n",
      "[CV] END model__max_depth=100, model__min_samples_leaf=4, model__min_samples_split=5, model__n_estimators=700; total time=   5.5s\n",
      "[CV] END model__max_depth=100, model__min_samples_leaf=4, model__min_samples_split=5, model__n_estimators=700; total time=   5.5s\n",
      "[CV] END model__max_depth=100, model__min_samples_leaf=4, model__min_samples_split=5, model__n_estimators=700; total time=   5.5s\n",
      "[CV] END model__max_depth=100, model__min_samples_leaf=4, model__min_samples_split=10, model__n_estimators=500; total time=   3.8s\n",
      "[CV] END model__max_depth=100, model__min_samples_leaf=4, model__min_samples_split=10, model__n_estimators=500; total time=   3.8s\n",
      "[CV] END model__max_depth=100, model__min_samples_leaf=4, model__min_samples_split=10, model__n_estimators=500; total time=   3.7s\n",
      "[CV] END model__max_depth=100, model__min_samples_leaf=4, model__min_samples_split=10, model__n_estimators=600; total time=   4.3s\n",
      "[CV] END model__max_depth=100, model__min_samples_leaf=4, model__min_samples_split=10, model__n_estimators=600; total time=   4.5s\n",
      "[CV] END model__max_depth=100, model__min_samples_leaf=4, model__min_samples_split=10, model__n_estimators=600; total time=   4.4s\n",
      "[CV] END model__max_depth=100, model__min_samples_leaf=4, model__min_samples_split=20, model__n_estimators=500; total time=   3.5s\n",
      "[CV] END model__max_depth=100, model__min_samples_leaf=4, model__min_samples_split=10, model__n_estimators=700; total time=   5.2s\n",
      "[CV] END model__max_depth=100, model__min_samples_leaf=4, model__min_samples_split=20, model__n_estimators=500; total time=   3.5s\n",
      "[CV] END model__max_depth=100, model__min_samples_leaf=4, model__min_samples_split=20, model__n_estimators=500; total time=   3.5s\n",
      "[CV] END model__max_depth=100, model__min_samples_leaf=4, model__min_samples_split=10, model__n_estimators=700; total time=   5.1s\n",
      "[CV] END model__max_depth=100, model__min_samples_leaf=4, model__min_samples_split=10, model__n_estimators=700; total time=   5.1s\n",
      "[CV] END model__max_depth=100, model__min_samples_leaf=4, model__min_samples_split=20, model__n_estimators=600; total time=   3.9s\n",
      "[CV] END model__max_depth=100, model__min_samples_leaf=4, model__min_samples_split=20, model__n_estimators=600; total time=   3.9s\n",
      "[CV] END model__max_depth=100, model__min_samples_leaf=4, model__min_samples_split=20, model__n_estimators=600; total time=   3.8s\n",
      "[CV] END model__max_depth=100, model__min_samples_leaf=4, model__min_samples_split=20, model__n_estimators=700; total time=   3.9s\n",
      "[CV] END model__max_depth=100, model__min_samples_leaf=4, model__min_samples_split=20, model__n_estimators=700; total time=   3.7s\n",
      "[CV] END model__max_depth=100, model__min_samples_leaf=4, model__min_samples_split=20, model__n_estimators=700; total time=   3.8s\n",
      "Best Parameters: {'model__max_depth': 50, 'model__min_samples_leaf': 1, 'model__min_samples_split': 10, 'model__n_estimators': 500}\n",
      "Best Cross-Validation AUC Score: 0.819489303026002\n",
      "Test Accuracy: 0.8506711409395973\n",
      "Confusion Matrix:\n",
      " [[ 25  70]\n",
      " [ 19 482]]\n",
      "Classification Report:\n",
      "               precision    recall  f1-score   support\n",
      "\n",
      "       False       0.57      0.26      0.36        95\n",
      "        True       0.87      0.96      0.92       501\n",
      "\n",
      "    accuracy                           0.85       596\n",
      "   macro avg       0.72      0.61      0.64       596\n",
      "weighted avg       0.82      0.85      0.83       596\n",
      "\n",
      "Test ROC AUC Score: 0.7910494799873935\n"
     ]
    }
   ],
   "source": [
    "from sklearn.metrics import roc_auc_score\n",
    "from sklearn.model_selection import GridSearchCV\n",
    "\n",
    "# Define the parameter grid\n",
    "param_grid = {\n",
    "    'model__n_estimators': [500, 600, 700],\n",
    "    'model__max_depth': [50,60,70,100],\n",
    "    'model__min_samples_split': [5,10, 20],\n",
    "    'model__min_samples_leaf': [1, 2, 4]\n",
    "}\n",
    "#Best Parameters: {'model__max_depth': 50, 'model__min_samples_split': 10, 'model__n_estimators': 500}\n",
    "#Best Parameters: {'model__max_depth': 50, 'model__min_samples_split': 10, 'model__n_estimators': 500}\n",
    "#Best Parameters: {'model__max_depth': 50, 'model__min_samples_leaf': 1, 'model__min_samples_split': 10, 'model__n_estimators': 500}\n",
    "\n",
    "# Perform GridSearchCV\n",
    "\n",
    "\n",
    "grid_search = GridSearchCV(pipeline, param_grid, cv=3, n_jobs=-1, verbose=2, scoring='roc_auc')\n",
    "grid_search.fit(X_train, y_train)\n",
    "\n",
    "# Get the best parameters and best score\n",
    "best_params = grid_search.best_params_\n",
    "best_score = grid_search.best_score_\n",
    "\n",
    "# Train the model with the best parameters\n",
    "best_model = grid_search.best_estimator_\n",
    "\n",
    "# Predict on the test set\n",
    "y_pred_best = best_model.predict(X_test)\n",
    "y_pred_proba_best = best_model.predict_proba(X_test)[:, 1]\n",
    "\n",
    "# Evaluate the model\n",
    "accuracy_best = accuracy_score(y_test, y_pred_best)\n",
    "conf_matrix_best = confusion_matrix(y_test, y_pred_best)\n",
    "class_report_best = classification_report(y_test, y_pred_best)\n",
    "roc_auc_best = roc_auc_score(y_test, y_pred_proba_best)\n",
    "\n",
    "# Display results\n",
    "print(\"Best Parameters:\", best_params)\n",
    "print(\"Best Cross-Validation AUC Score:\", best_score)\n",
    "print(\"Test Accuracy:\", accuracy_best)\n",
    "print(\"Confusion Matrix:\\n\", conf_matrix_best)\n",
    "print(\"Classification Report:\\n\", class_report_best)\n",
    "print(\"Test ROC AUC Score:\", roc_auc_best)\n",
    "\n"
   ]
  },
  {
   "cell_type": "code",
   "execution_count": null,
   "metadata": {},
   "outputs": [
    {
     "ename": "",
     "evalue": "",
     "output_type": "error",
     "traceback": [
      "\u001b[1;31mRunning cells with 'Python 3.12.4' requires the ipykernel package.\n",
      "\u001b[1;31mRun the following command to install 'ipykernel' into the Python environment. \n",
      "\u001b[1;31mCommand: '/usr/local/bin/python3 -m pip install ipykernel -U --user --force-reinstall'"
     ]
    }
   ],
   "source": []
  }
 ],
 "metadata": {
  "kernelspec": {
   "display_name": "Python 3",
   "language": "python",
   "name": "python3"
  },
  "language_info": {
   "codemirror_mode": {
    "name": "ipython",
    "version": 3
   },
   "file_extension": ".py",
   "mimetype": "text/x-python",
   "name": "python",
   "nbconvert_exporter": "python",
   "pygments_lexer": "ipython3",
   "version": "3.9.6"
  }
 },
 "nbformat": 4,
 "nbformat_minor": 2
}
