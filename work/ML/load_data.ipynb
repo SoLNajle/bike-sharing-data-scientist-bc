{
 "cells": [
  {
   "cell_type": "code",
   "execution_count": null,
   "metadata": {},
   "outputs": [],
   "source": [
    "import pandas as pd\n",
    "\n",
    "df_jan = pd.read_csv('../../data/bicing/processed/months/2023_01_STATIONS.csv')\n",
    "df_feb = pd.read_csv('../../data/bicing/processed/months/2023_02_STATIONS.csv')\n",
    "df_march = pd.read_csv('../../data/bicing/processed/months/2023_03_STATIONS.csv')\n",
    "df_april = pd.read_csv('../../data/bicing/processed/months/2023_04_STATIONS.csv')\n",
    "df_may = pd.read_csv('../../data/bicing/processed/months/2023_05_STATIONS.csv')\n",
    "df_june = pd.read_csv('../../data/bicing/processed/months/2023_06_STATIONS.csv')\n",
    "df_july = pd.read_csv('../../data/bicing/processed/months/2023_07_STATIONS.csv')\n",
    "df_aug = pd.read_csv('../../data/bicing/processed/months/2023_08_STATIONS.csv')\n",
    "df_sep = pd.read_csv('../../data/bicing/processed/months/2023_09_STATIONS.csv')\n",
    "df_oct = pd.read_csv('../../data/bicing/processed/months/2023_10_STATIONS.csv')\n",
    "df_nov = pd.read_csv('../../data/bicing/processed/months/2023_11_STATIONS.csv')\n",
    "df_dec = pd.read_csv('../../data/bicing/processed/months/2023_12_STATIONS.csv')\n"
   ]
  },
  {
   "cell_type": "code",
   "execution_count": null,
   "metadata": {},
   "outputs": [],
   "source": [
    "df_jan = df_jan[(df_jan['month'] == 1) & (df_jan['year'] == 2023)]\n",
    "df_feb = df_feb[(df_feb['month'] == 2) & (df_feb['year'] == 2023)]\n",
    "df_march = df_march[(df_march['month'] == 3) & (df_march['year'] == 2023)]\n",
    "df_april = df_april[(df_april['month'] == 4) & (df_april['year'] == 2023)]\n",
    "df_may = df_may[(df_may['month'] == 5) & (df_may['year'] == 2023)]\n",
    "df_june = df_june[(df_june['month'] == 6) & (df_june['year'] == 2023)]\n",
    "df_july = df_july[(df_july['month'] == 7) & (df_july['year'] == 2023)]\n",
    "df_aug = df_aug[(df_aug['month'] == 8) & (df_aug['year'] == 2023)]\n",
    "df_sep = df_sep[(df_sep['month'] == 9) & (df_sep['year'] == 2023)]\n",
    "df_oct = df_oct[(df_oct['month'] == 10) & (df_oct['year'] == 2023)]\n",
    "df_nov = df_nov[(df_nov['month'] == 11) & (df_nov['year'] == 2023)]\n",
    "df_dec = df_dec[(df_dec['month'] == 12) & (df_dec['year'] == 2023)]"
   ]
  },
  {
   "cell_type": "code",
   "execution_count": null,
   "metadata": {},
   "outputs": [],
   "source": [
    "df_2023 = pd.concat([df_jan, df_feb, df_march, df_april, df_may, df_june, df_july, df_aug, df_sep, df_oct, df_nov, df_dec])\n",
    "df_2023.sort_values(by=['grouped_date'], inplace=True)\n",
    "df_2023.head()"
   ]
  },
  {
   "cell_type": "code",
   "execution_count": null,
   "metadata": {},
   "outputs": [],
   "source": [
    "df_2023['season'] = df_2023['grouped_date'].dt.month.apply(lambda x: 'Spring' if x in [3, 4, 5] else 'Summer' if x in [6, 7, 8] else 'Autumn' if x in [9, 10, 11] else 'Winter')\n",
    "df_2023.head(4)"
   ]
  },
  {
   "cell_type": "code",
   "execution_count": null,
   "metadata": {},
   "outputs": [],
   "source": [
    "df_weather = pd.read_csv('../../data/weather_clean.csv')\n",
    "\n",
    "df_weather.head(3)"
   ]
  },
  {
   "cell_type": "code",
   "execution_count": null,
   "metadata": {},
   "outputs": [],
   "source": [
    "df_weather['date'] = pd.to_datetime(df_weather['date'])\n",
    "df_weather['day'] = df_weather['date'].dt.day.astype(int)\n",
    "df_weather['month'] = df_weather['date'].dt.month.astype(int)\n",
    "df_weather['year'] = df_weather['date'].dt.year.astype(int)\n",
    "df_weather['hour'] = df_weather['hour'].astype(int)"
   ]
  },
  {
   "cell_type": "code",
   "execution_count": null,
   "metadata": {},
   "outputs": [],
   "source": [
    "df_2023_weather = pd.merge(df_2023, df_weather, on=['year', 'month', 'day', 'hour'], how='left')\n",
    "df_2023_weather.head(3)"
   ]
  },
  {
   "cell_type": "code",
   "execution_count": null,
   "metadata": {},
   "outputs": [],
   "source": [
    "station_info_df = pd.read_csv('../../data/bicing/processed/2024_STATION_LOCATIONS.csv', dtype={'post_code': str})\n",
    "station_info_df.head()"
   ]
  },
  {
   "cell_type": "code",
   "execution_count": null,
   "metadata": {},
   "outputs": [],
   "source": [
    "df_2023_weather_station = pd.merge(df_2023_weather, station_info_df, on='station_id', how='left')\n",
    "df_2023_weather_station.head()"
   ]
  },
  {
   "cell_type": "code",
   "execution_count": null,
   "metadata": {},
   "outputs": [],
   "source": [
    "df_2023_weather_station.columns"
   ]
  },
  {
   "cell_type": "code",
   "execution_count": null,
   "metadata": {},
   "outputs": [],
   "source": []
  },
  {
   "cell_type": "code",
   "execution_count": null,
   "metadata": {},
   "outputs": [],
   "source": [
    "columns_to_keep = ['station_id', 'num_bikes_available',\n",
    "                   'num_bikes_available_types.mechanical',\n",
    "                   'num_bikes_available_types.ebike', 'num_docks_available', 'status',\n",
    "                   'is_renting', 'is_returning', 'day_of_week', 'is_weekend', 'grouped_date',\n",
    "                   'docking_available', 'bikes_available', 'bikes_available.mechanical',\n",
    "                   'bikes_available.ebike', 'temperature', 'rainfall', 'lat', 'lon', 'post_code', 'altitude', 'capacity', 'year', 'month', 'day', 'hour','season'\n",
    "       'grouped_minute']\n",
    "\n",
    "df_2023_ml = df_2023_weather_station[columns_to_keep]\n",
    "df_2023_ml.head()"
   ]
  },
  {
   "cell_type": "code",
   "execution_count": null,
   "metadata": {},
   "outputs": [],
   "source": [
    "df_2023_ml[df_2023_ml['capacity'].isnull()]['station_id'].unique()\n",
    "#Station 520 missing information\n",
    "df_2023_ml = df_2023_ml[df_2023_ml['station_id'] != 520]"
   ]
  },
  {
   "cell_type": "code",
   "execution_count": null,
   "metadata": {},
   "outputs": [],
   "source": [
    "df_2023_ml.isnull().sum()"
   ]
  },
  {
   "cell_type": "code",
   "execution_count": null,
   "metadata": {},
   "outputs": [],
   "source": [
    "df_2023_ml['grouped_date'] = pd.to_datetime(df_2023_ml['grouped_date'])"
   ]
  },
  {
   "cell_type": "code",
   "execution_count": null,
   "metadata": {},
   "outputs": [],
   "source": [
    "holidays = ['01/06/2023', '04/07/2023', '04/10/2023', '05/01/2023', '06/24/2023', '08/15/2023', '09/11/2023', '10/12/2023', '11/01/2023', '12/06/2023', '12/08/2023', '12/25/2023', '12/26/2023']\n",
    "df_2023_ml['is_holiday'] = df_2023_ml['grouped_date'].isin(holidays)\n",
    "df_2023_ml[df_2023_ml['is_holiday'] == True]['grouped_date']"
   ]
  },
  {
   "cell_type": "code",
   "execution_count": null,
   "metadata": {},
   "outputs": [],
   "source": [
    "df_2023_ml['percentage_docks_available'] = df_2023_ml['num_docks_available'] / df_2023_ml['capacity']\n",
    "df_2023_ml.head(5)"
   ]
  }
 ],
 "metadata": {
  "language_info": {
   "name": "python"
  }
 },
 "nbformat": 4,
 "nbformat_minor": 2
}
