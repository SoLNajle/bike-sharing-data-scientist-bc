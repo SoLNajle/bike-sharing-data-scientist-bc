{
 "cells": [
  {
   "cell_type": "markdown",
   "metadata": {},
   "source": [
    "# Definitions, thoughts and everything else"
   ]
  },
  {
   "cell_type": "code",
   "execution_count": null,
   "metadata": {
    "vscode": {
     "languageId": "bat"
    }
   },
   "outputs": [],
   "source": [
    "Machine Learning\n",
    "  ├── Supervised Learning\n",
    "  │    ├── Regression\n",
    "  │    │    ├── Linear Regression (LR)\n",
    "  │    │    └── Generalized Linear Models (GLM)\n",
    "  │    ├── Classification\n",
    "  │    │    ├── Logistic Regression (LogR)\n",
    "  │    │    └── Support Vector Machines (SVM)\n",
    "  │    ├── Generative Learning\n",
    "  │    │    ├── Gaussian Discriminant Analysis (GDA)\n",
    "  │    │    └── Naive Bayes (NB)\n",
    "  │    ├── Tree-based and Ensemble Methods\n",
    "  │    │    ├── CART\n",
    "  │    │    ├── Random Forest (RF)\n",
    "  │    │    └── Boosting\n",
    "  │    └── Other Non-parametric Approaches\n",
    "  │         └── k-Nearest Neighbors (k-NN)\n",
    "  ├── Unsupervised Learning\n",
    "  │    ├── Clustering\n",
    "  │    │    ├── k-means\n",
    "  │    │    ├── Hierarchical Clustering\n",
    "  │    │    └── Expectation-Maximization (EM)\n",
    "  │    └── Dimension Reduction\n",
    "  │         ├── Principal Component Analysis (PCA)\n",
    "  │         └── Independent Component Analysis (ICA)\n",
    "  ├── Deep Learning\n",
    "  │    ├── Neural Networks (NN)\n",
    "  │    ├── Convolutional Neural Networks (CNN)\n",
    "  │    └── Recurrent Neural Networks (RNN)\n",
    "  └── Reinforcement Learning and Control\n"
   ]
  },
  {
   "cell_type": "markdown",
   "metadata": {},
   "source": [
    "## Target Variables"
   ]
  },
  {
   "cell_type": "markdown",
   "metadata": {},
   "source": [
    "Regression vs. Classification\n",
    "The primary distinction between regression and classification problems lies in the nature of the target variable.\n",
    "\n",
    "**Regression:** Predicts a continuous numerical value.\n",
    "\n",
    "Example: Predicting the price of a house, temperature, or in your case, the count of available docks or the percentage of docking availability.\n",
    "\n",
    "**Classification**: Predicts a categorical value or class.\n",
    "\n",
    "Example: Classifying an email as spam or not spam, predicting whether a customer will churn, or in your case, predicting whether there are any available docks (binary classification)."
   ]
  },
  {
   "cell_type": "markdown",
   "metadata": {},
   "source": [
    "## Model Choices Based on Target Variable\n",
    "\n",
    "### Binary Target Variable (Classification)"
   ]
  },
  {
   "cell_type": "markdown",
   "metadata": {},
   "source": [
    "* **Logistic Regression:** Often the starting point for binary classification.\n",
    "\n",
    "* **Decision Trees:** Can handle non-linear relationships and provide interpretable models.\n",
    "\n",
    "* **Random Forest:** An ensemble of decision trees, often providing better performance than individual trees.\n",
    "\n",
    "* **Support Vector Machines (SVM):** Effective for complex classification problems.\n",
    "\n",
    "* **Naive Bayes:** Simple and efficient, especially for text classification but can also be used for numerical data.\n",
    " \n",
    "* **Neural Networks:** Powerful but require more data and computational resources."
   ]
  },
  {
   "cell_type": "markdown",
   "metadata": {},
   "source": [
    "### Count Target Variable (Regression)\n",
    "\n",
    "* **Linear Regression:** Suitable for linear relationships between features and the target.\n",
    "\n",
    "* **Decision Trees:** Can handle non-linear relationships but might not be as accurate as specialized regression models.\n",
    "\n",
    "* **Random Forest:** Often performs well for regression tasks.\n",
    "\n",
    "* **Gradient Boosting Machines (GBM):** Known for their strong performance in regression problems.\n",
    "\n",
    "* **Support Vector Regression (SVR):** An extension of SVM for regression.\n",
    "\n",
    "* **Neural Networks:** Can be used for regression but require careful architecture design."
   ]
  },
  {
   "cell_type": "markdown",
   "metadata": {},
   "source": [
    "### Percentage Target Variable (Regression)\n",
    "\n",
    "* **Linear Regression:** Can be a starting point, but consider transformations if the data is not normally distributed.\n",
    "\n",
    "* **Decision Trees, Random Forest, GBM:** These models can handle non-linear relationships and often perform well for percentage-based predictions.\n",
    "\n",
    "* **Beta Regression:** Specifically designed for modeling data constrained between 0 and 1, which is suitable for percentages."
   ]
  },
  {
   "cell_type": "markdown",
   "metadata": {},
   "source": [
    "## Metrics\n",
    "\n",
    "### Depends on the target variable (like everything)\n",
    "\n",
    "* **Binary:** Accuracy, precision, recall, F1-score, ROC curve, AUC.\n",
    "* **Count or percentage:** Mean Squared Error (MSE), Mean Absolute Error (MAE), Root Mean Squared Error (RMSE), R-squared."
   ]
  },
  {
   "cell_type": "markdown",
   "metadata": {},
   "source": [
    "## Models Tried\n",
    "\n",
    "### Random Forest Classifier with binary Target\n",
    "\n",
    "#### Key Findings\n",
    "\n",
    "* It takes forever to train the model with all the stations 510+\n",
    "\n",
    "* Took only 5 stations\n",
    "\n",
    "* Class inbalance, predicts well the True but it only has a 61% for False (No Docking available)\n",
    "\n",
    "* useless fields: is_holiday, disctrict\n",
    "\n",
    "* GridSearch: First took 7.5 hours and did not improved much, now it takes more than 2 hours\n"
   ]
  },
  {
   "cell_type": "code",
   "execution_count": null,
   "metadata": {},
   "outputs": [],
   "source": []
  },
  {
   "cell_type": "code",
   "execution_count": null,
   "metadata": {},
   "outputs": [],
   "source": []
  }
 ],
 "metadata": {
  "language_info": {
   "name": "python"
  }
 },
 "nbformat": 4,
 "nbformat_minor": 2
}
