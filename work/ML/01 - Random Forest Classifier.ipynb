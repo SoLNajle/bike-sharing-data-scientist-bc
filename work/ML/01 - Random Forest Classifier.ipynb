{
 "cells": [
  {
   "cell_type": "code",
   "execution_count": 2,
   "metadata": {},
   "outputs": [],
   "source": [
    "import pandas as pd\n",
    "\n",
    "df_jan = pd.read_csv('../../data/bicing/processed/months/2023_01_STATIONS.csv')\n",
    "df_feb = pd.read_csv('../../data/bicing/processed/months/2023_02_STATIONS.csv')\n",
    "df_march = pd.read_csv('../../data/bicing/processed/months/2023_03_STATIONS.csv')\n",
    "df_april = pd.read_csv('../../data/bicing/processed/months/2023_04_STATIONS.csv')\n",
    "df_may = pd.read_csv('../../data/bicing/processed/months/2023_05_STATIONS.csv')\n",
    "df_june = pd.read_csv('../../data/bicing/processed/months/2023_06_STATIONS.csv')\n",
    "df_july = pd.read_csv('../../data/bicing/processed/months/2023_07_STATIONS.csv')\n",
    "df_aug = pd.read_csv('../../data/bicing/processed/months/2023_08_STATIONS.csv')\n",
    "df_sep = pd.read_csv('../../data/bicing/processed/months/2023_09_STATIONS.csv')\n",
    "df_oct = pd.read_csv('../../data/bicing/processed/months/2023_10_STATIONS.csv')\n",
    "df_nov = pd.read_csv('../../data/bicing/processed/months/2023_11_STATIONS.csv')\n",
    "df_dec = pd.read_csv('../../data/bicing/processed/months/2023_12_STATIONS.csv')\n"
   ]
  },
  {
   "cell_type": "code",
   "execution_count": 3,
   "metadata": {},
   "outputs": [],
   "source": [
    "df_jan = df_jan[(df_jan['month'] == 1) & (df_jan['year'] == 2023)]\n",
    "df_feb = df_feb[(df_feb['month'] == 2) & (df_feb['year'] == 2023)]\n",
    "df_march = df_march[(df_march['month'] == 3) & (df_march['year'] == 2023)]\n",
    "df_april = df_april[(df_april['month'] == 4) & (df_april['year'] == 2023)]\n",
    "df_may = df_may[(df_may['month'] == 5) & (df_may['year'] == 2023)]\n",
    "df_june = df_june[(df_june['month'] == 6) & (df_june['year'] == 2023)]\n",
    "df_july = df_july[(df_july['month'] == 7) & (df_july['year'] == 2023)]\n",
    "df_aug = df_aug[(df_aug['month'] == 8) & (df_aug['year'] == 2023)]\n",
    "df_sep = df_sep[(df_sep['month'] == 9) & (df_sep['year'] == 2023)]\n",
    "df_oct = df_oct[(df_oct['month'] == 10) & (df_oct['year'] == 2023)]\n",
    "df_nov = df_nov[(df_nov['month'] == 11) & (df_nov['year'] == 2023)]\n",
    "df_dec = df_dec[(df_dec['month'] == 12) & (df_dec['year'] == 2023)]"
   ]
  },
  {
   "cell_type": "code",
   "execution_count": 4,
   "metadata": {},
   "outputs": [
    {
     "data": {
      "text/html": [
       "<div>\n",
       "<style scoped>\n",
       "    .dataframe tbody tr th:only-of-type {\n",
       "        vertical-align: middle;\n",
       "    }\n",
       "\n",
       "    .dataframe tbody tr th {\n",
       "        vertical-align: top;\n",
       "    }\n",
       "\n",
       "    .dataframe thead th {\n",
       "        text-align: right;\n",
       "    }\n",
       "</style>\n",
       "<table border=\"1\" class=\"dataframe\">\n",
       "  <thead>\n",
       "    <tr style=\"text-align: right;\">\n",
       "      <th></th>\n",
       "      <th>station_id</th>\n",
       "      <th>num_bikes_available</th>\n",
       "      <th>num_bikes_available_types.mechanical</th>\n",
       "      <th>num_bikes_available_types.ebike</th>\n",
       "      <th>num_docks_available</th>\n",
       "      <th>status</th>\n",
       "      <th>is_renting</th>\n",
       "      <th>is_returning</th>\n",
       "      <th>year</th>\n",
       "      <th>month</th>\n",
       "      <th>day</th>\n",
       "      <th>hour</th>\n",
       "      <th>grouped_minute</th>\n",
       "      <th>day_of_week</th>\n",
       "      <th>is_weekend</th>\n",
       "      <th>grouped_date</th>\n",
       "      <th>docking_available</th>\n",
       "      <th>bikes_available</th>\n",
       "      <th>bikes_available.mechanical</th>\n",
       "      <th>bikes_available.ebike</th>\n",
       "    </tr>\n",
       "  </thead>\n",
       "  <tbody>\n",
       "    <tr>\n",
       "      <th>3826</th>\n",
       "      <td>1</td>\n",
       "      <td>37</td>\n",
       "      <td>35</td>\n",
       "      <td>2</td>\n",
       "      <td>9</td>\n",
       "      <td>IN_SERVICE</td>\n",
       "      <td>1</td>\n",
       "      <td>1</td>\n",
       "      <td>2023</td>\n",
       "      <td>1</td>\n",
       "      <td>1</td>\n",
       "      <td>0</td>\n",
       "      <td>0</td>\n",
       "      <td>6</td>\n",
       "      <td>1</td>\n",
       "      <td>2023-1-1 0:00</td>\n",
       "      <td>True</td>\n",
       "      <td>True</td>\n",
       "      <td>True</td>\n",
       "      <td>True</td>\n",
       "    </tr>\n",
       "    <tr>\n",
       "      <th>4396</th>\n",
       "      <td>185</td>\n",
       "      <td>9</td>\n",
       "      <td>4</td>\n",
       "      <td>5</td>\n",
       "      <td>8</td>\n",
       "      <td>IN_SERVICE</td>\n",
       "      <td>1</td>\n",
       "      <td>1</td>\n",
       "      <td>2023</td>\n",
       "      <td>1</td>\n",
       "      <td>1</td>\n",
       "      <td>0</td>\n",
       "      <td>0</td>\n",
       "      <td>6</td>\n",
       "      <td>1</td>\n",
       "      <td>2023-1-1 0:00</td>\n",
       "      <td>True</td>\n",
       "      <td>True</td>\n",
       "      <td>True</td>\n",
       "      <td>True</td>\n",
       "    </tr>\n",
       "    <tr>\n",
       "      <th>4397</th>\n",
       "      <td>188</td>\n",
       "      <td>23</td>\n",
       "      <td>20</td>\n",
       "      <td>3</td>\n",
       "      <td>4</td>\n",
       "      <td>IN_SERVICE</td>\n",
       "      <td>1</td>\n",
       "      <td>1</td>\n",
       "      <td>2023</td>\n",
       "      <td>1</td>\n",
       "      <td>1</td>\n",
       "      <td>0</td>\n",
       "      <td>0</td>\n",
       "      <td>6</td>\n",
       "      <td>1</td>\n",
       "      <td>2023-1-1 0:00</td>\n",
       "      <td>True</td>\n",
       "      <td>True</td>\n",
       "      <td>True</td>\n",
       "      <td>True</td>\n",
       "    </tr>\n",
       "    <tr>\n",
       "      <th>4398</th>\n",
       "      <td>196</td>\n",
       "      <td>6</td>\n",
       "      <td>1</td>\n",
       "      <td>5</td>\n",
       "      <td>21</td>\n",
       "      <td>IN_SERVICE</td>\n",
       "      <td>1</td>\n",
       "      <td>1</td>\n",
       "      <td>2023</td>\n",
       "      <td>1</td>\n",
       "      <td>1</td>\n",
       "      <td>0</td>\n",
       "      <td>0</td>\n",
       "      <td>6</td>\n",
       "      <td>1</td>\n",
       "      <td>2023-1-1 0:00</td>\n",
       "      <td>True</td>\n",
       "      <td>True</td>\n",
       "      <td>True</td>\n",
       "      <td>True</td>\n",
       "    </tr>\n",
       "    <tr>\n",
       "      <th>4399</th>\n",
       "      <td>201</td>\n",
       "      <td>2</td>\n",
       "      <td>0</td>\n",
       "      <td>2</td>\n",
       "      <td>22</td>\n",
       "      <td>IN_SERVICE</td>\n",
       "      <td>1</td>\n",
       "      <td>1</td>\n",
       "      <td>2023</td>\n",
       "      <td>1</td>\n",
       "      <td>1</td>\n",
       "      <td>0</td>\n",
       "      <td>0</td>\n",
       "      <td>6</td>\n",
       "      <td>1</td>\n",
       "      <td>2023-1-1 0:00</td>\n",
       "      <td>True</td>\n",
       "      <td>True</td>\n",
       "      <td>False</td>\n",
       "      <td>True</td>\n",
       "    </tr>\n",
       "  </tbody>\n",
       "</table>\n",
       "</div>"
      ],
      "text/plain": [
       "      station_id  num_bikes_available  num_bikes_available_types.mechanical  \\\n",
       "3826           1                   37                                    35   \n",
       "4396         185                    9                                     4   \n",
       "4397         188                   23                                    20   \n",
       "4398         196                    6                                     1   \n",
       "4399         201                    2                                     0   \n",
       "\n",
       "      num_bikes_available_types.ebike  num_docks_available      status  \\\n",
       "3826                                2                    9  IN_SERVICE   \n",
       "4396                                5                    8  IN_SERVICE   \n",
       "4397                                3                    4  IN_SERVICE   \n",
       "4398                                5                   21  IN_SERVICE   \n",
       "4399                                2                   22  IN_SERVICE   \n",
       "\n",
       "      is_renting  is_returning  year  month  day  hour  grouped_minute  \\\n",
       "3826           1             1  2023      1    1     0               0   \n",
       "4396           1             1  2023      1    1     0               0   \n",
       "4397           1             1  2023      1    1     0               0   \n",
       "4398           1             1  2023      1    1     0               0   \n",
       "4399           1             1  2023      1    1     0               0   \n",
       "\n",
       "      day_of_week  is_weekend   grouped_date  docking_available  \\\n",
       "3826            6           1  2023-1-1 0:00               True   \n",
       "4396            6           1  2023-1-1 0:00               True   \n",
       "4397            6           1  2023-1-1 0:00               True   \n",
       "4398            6           1  2023-1-1 0:00               True   \n",
       "4399            6           1  2023-1-1 0:00               True   \n",
       "\n",
       "      bikes_available  bikes_available.mechanical  bikes_available.ebike  \n",
       "3826             True                        True                   True  \n",
       "4396             True                        True                   True  \n",
       "4397             True                        True                   True  \n",
       "4398             True                        True                   True  \n",
       "4399             True                       False                   True  "
      ]
     },
     "execution_count": 4,
     "metadata": {},
     "output_type": "execute_result"
    }
   ],
   "source": [
    "df_2023 = pd.concat([df_jan, df_feb, df_march, df_april, df_may, df_june, df_july, df_aug, df_sep, df_oct, df_nov, df_dec])\n",
    "df_2023.sort_values(by=['grouped_date'], inplace=True)\n",
    "df_2023.head()"
   ]
  },
  {
   "cell_type": "code",
   "execution_count": 5,
   "metadata": {},
   "outputs": [
    {
     "data": {
      "text/html": [
       "<div>\n",
       "<style scoped>\n",
       "    .dataframe tbody tr th:only-of-type {\n",
       "        vertical-align: middle;\n",
       "    }\n",
       "\n",
       "    .dataframe tbody tr th {\n",
       "        vertical-align: top;\n",
       "    }\n",
       "\n",
       "    .dataframe thead th {\n",
       "        text-align: right;\n",
       "    }\n",
       "</style>\n",
       "<table border=\"1\" class=\"dataframe\">\n",
       "  <thead>\n",
       "    <tr style=\"text-align: right;\">\n",
       "      <th></th>\n",
       "      <th>station_id</th>\n",
       "      <th>num_bikes_available</th>\n",
       "      <th>num_bikes_available_types.mechanical</th>\n",
       "      <th>num_bikes_available_types.ebike</th>\n",
       "      <th>num_docks_available</th>\n",
       "      <th>status</th>\n",
       "      <th>is_renting</th>\n",
       "      <th>is_returning</th>\n",
       "      <th>year</th>\n",
       "      <th>month</th>\n",
       "      <th>...</th>\n",
       "      <th>hour</th>\n",
       "      <th>grouped_minute</th>\n",
       "      <th>day_of_week</th>\n",
       "      <th>is_weekend</th>\n",
       "      <th>grouped_date</th>\n",
       "      <th>docking_available</th>\n",
       "      <th>bikes_available</th>\n",
       "      <th>bikes_available.mechanical</th>\n",
       "      <th>bikes_available.ebike</th>\n",
       "      <th>season</th>\n",
       "    </tr>\n",
       "  </thead>\n",
       "  <tbody>\n",
       "    <tr>\n",
       "      <th>3826</th>\n",
       "      <td>1</td>\n",
       "      <td>37</td>\n",
       "      <td>35</td>\n",
       "      <td>2</td>\n",
       "      <td>9</td>\n",
       "      <td>IN_SERVICE</td>\n",
       "      <td>1</td>\n",
       "      <td>1</td>\n",
       "      <td>2023</td>\n",
       "      <td>1</td>\n",
       "      <td>...</td>\n",
       "      <td>0</td>\n",
       "      <td>0</td>\n",
       "      <td>6</td>\n",
       "      <td>1</td>\n",
       "      <td>2023-01-01</td>\n",
       "      <td>True</td>\n",
       "      <td>True</td>\n",
       "      <td>True</td>\n",
       "      <td>True</td>\n",
       "      <td>Winter</td>\n",
       "    </tr>\n",
       "    <tr>\n",
       "      <th>4396</th>\n",
       "      <td>185</td>\n",
       "      <td>9</td>\n",
       "      <td>4</td>\n",
       "      <td>5</td>\n",
       "      <td>8</td>\n",
       "      <td>IN_SERVICE</td>\n",
       "      <td>1</td>\n",
       "      <td>1</td>\n",
       "      <td>2023</td>\n",
       "      <td>1</td>\n",
       "      <td>...</td>\n",
       "      <td>0</td>\n",
       "      <td>0</td>\n",
       "      <td>6</td>\n",
       "      <td>1</td>\n",
       "      <td>2023-01-01</td>\n",
       "      <td>True</td>\n",
       "      <td>True</td>\n",
       "      <td>True</td>\n",
       "      <td>True</td>\n",
       "      <td>Winter</td>\n",
       "    </tr>\n",
       "    <tr>\n",
       "      <th>4397</th>\n",
       "      <td>188</td>\n",
       "      <td>23</td>\n",
       "      <td>20</td>\n",
       "      <td>3</td>\n",
       "      <td>4</td>\n",
       "      <td>IN_SERVICE</td>\n",
       "      <td>1</td>\n",
       "      <td>1</td>\n",
       "      <td>2023</td>\n",
       "      <td>1</td>\n",
       "      <td>...</td>\n",
       "      <td>0</td>\n",
       "      <td>0</td>\n",
       "      <td>6</td>\n",
       "      <td>1</td>\n",
       "      <td>2023-01-01</td>\n",
       "      <td>True</td>\n",
       "      <td>True</td>\n",
       "      <td>True</td>\n",
       "      <td>True</td>\n",
       "      <td>Winter</td>\n",
       "    </tr>\n",
       "    <tr>\n",
       "      <th>4398</th>\n",
       "      <td>196</td>\n",
       "      <td>6</td>\n",
       "      <td>1</td>\n",
       "      <td>5</td>\n",
       "      <td>21</td>\n",
       "      <td>IN_SERVICE</td>\n",
       "      <td>1</td>\n",
       "      <td>1</td>\n",
       "      <td>2023</td>\n",
       "      <td>1</td>\n",
       "      <td>...</td>\n",
       "      <td>0</td>\n",
       "      <td>0</td>\n",
       "      <td>6</td>\n",
       "      <td>1</td>\n",
       "      <td>2023-01-01</td>\n",
       "      <td>True</td>\n",
       "      <td>True</td>\n",
       "      <td>True</td>\n",
       "      <td>True</td>\n",
       "      <td>Winter</td>\n",
       "    </tr>\n",
       "  </tbody>\n",
       "</table>\n",
       "<p>4 rows × 21 columns</p>\n",
       "</div>"
      ],
      "text/plain": [
       "      station_id  num_bikes_available  num_bikes_available_types.mechanical  \\\n",
       "3826           1                   37                                    35   \n",
       "4396         185                    9                                     4   \n",
       "4397         188                   23                                    20   \n",
       "4398         196                    6                                     1   \n",
       "\n",
       "      num_bikes_available_types.ebike  num_docks_available      status  \\\n",
       "3826                                2                    9  IN_SERVICE   \n",
       "4396                                5                    8  IN_SERVICE   \n",
       "4397                                3                    4  IN_SERVICE   \n",
       "4398                                5                   21  IN_SERVICE   \n",
       "\n",
       "      is_renting  is_returning  year  month  ...  hour  grouped_minute  \\\n",
       "3826           1             1  2023      1  ...     0               0   \n",
       "4396           1             1  2023      1  ...     0               0   \n",
       "4397           1             1  2023      1  ...     0               0   \n",
       "4398           1             1  2023      1  ...     0               0   \n",
       "\n",
       "      day_of_week  is_weekend  grouped_date docking_available  \\\n",
       "3826            6           1    2023-01-01              True   \n",
       "4396            6           1    2023-01-01              True   \n",
       "4397            6           1    2023-01-01              True   \n",
       "4398            6           1    2023-01-01              True   \n",
       "\n",
       "      bikes_available  bikes_available.mechanical  bikes_available.ebike  \\\n",
       "3826             True                        True                   True   \n",
       "4396             True                        True                   True   \n",
       "4397             True                        True                   True   \n",
       "4398             True                        True                   True   \n",
       "\n",
       "      season  \n",
       "3826  Winter  \n",
       "4396  Winter  \n",
       "4397  Winter  \n",
       "4398  Winter  \n",
       "\n",
       "[4 rows x 21 columns]"
      ]
     },
     "execution_count": 5,
     "metadata": {},
     "output_type": "execute_result"
    }
   ],
   "source": [
    "df_2023['grouped_date'] = pd.to_datetime(df_2023['grouped_date'])\n",
    "df_2023['season'] = df_2023['grouped_date'].dt.month.apply(lambda x: 'Spring' if x in [3, 4, 5] else 'Summer' if x in [6, 7, 8] else 'Autumn' if x in [9, 10, 11] else 'Winter')\n",
    "df_2023.head(4)"
   ]
  },
  {
   "cell_type": "code",
   "execution_count": 6,
   "metadata": {},
   "outputs": [
    {
     "data": {
      "text/html": [
       "<div>\n",
       "<style scoped>\n",
       "    .dataframe tbody tr th:only-of-type {\n",
       "        vertical-align: middle;\n",
       "    }\n",
       "\n",
       "    .dataframe tbody tr th {\n",
       "        vertical-align: top;\n",
       "    }\n",
       "\n",
       "    .dataframe thead th {\n",
       "        text-align: right;\n",
       "    }\n",
       "</style>\n",
       "<table border=\"1\" class=\"dataframe\">\n",
       "  <thead>\n",
       "    <tr style=\"text-align: right;\">\n",
       "      <th></th>\n",
       "      <th>date</th>\n",
       "      <th>hour</th>\n",
       "      <th>temperature</th>\n",
       "      <th>rainfall</th>\n",
       "    </tr>\n",
       "  </thead>\n",
       "  <tbody>\n",
       "    <tr>\n",
       "      <th>0</th>\n",
       "      <td>2023-01-01</td>\n",
       "      <td>0</td>\n",
       "      <td>15</td>\n",
       "      <td>0.0</td>\n",
       "    </tr>\n",
       "    <tr>\n",
       "      <th>1</th>\n",
       "      <td>2023-01-01</td>\n",
       "      <td>1</td>\n",
       "      <td>14</td>\n",
       "      <td>0.0</td>\n",
       "    </tr>\n",
       "    <tr>\n",
       "      <th>2</th>\n",
       "      <td>2023-01-01</td>\n",
       "      <td>2</td>\n",
       "      <td>14</td>\n",
       "      <td>0.0</td>\n",
       "    </tr>\n",
       "  </tbody>\n",
       "</table>\n",
       "</div>"
      ],
      "text/plain": [
       "         date  hour  temperature  rainfall\n",
       "0  2023-01-01     0           15       0.0\n",
       "1  2023-01-01     1           14       0.0\n",
       "2  2023-01-01     2           14       0.0"
      ]
     },
     "execution_count": 6,
     "metadata": {},
     "output_type": "execute_result"
    }
   ],
   "source": [
    "df_weather = pd.read_csv('../../data/weather_clean.csv')\n",
    "\n",
    "df_weather.head(3)"
   ]
  },
  {
   "cell_type": "code",
   "execution_count": 7,
   "metadata": {},
   "outputs": [],
   "source": [
    "df_weather['date'] = pd.to_datetime(df_weather['date'])\n",
    "df_weather['day'] = df_weather['date'].dt.day.astype(int)\n",
    "df_weather['month'] = df_weather['date'].dt.month.astype(int)\n",
    "df_weather['year'] = df_weather['date'].dt.year.astype(int)\n",
    "df_weather['hour'] = df_weather['hour'].astype(int)"
   ]
  },
  {
   "cell_type": "code",
   "execution_count": 8,
   "metadata": {},
   "outputs": [
    {
     "data": {
      "text/html": [
       "<div>\n",
       "<style scoped>\n",
       "    .dataframe tbody tr th:only-of-type {\n",
       "        vertical-align: middle;\n",
       "    }\n",
       "\n",
       "    .dataframe tbody tr th {\n",
       "        vertical-align: top;\n",
       "    }\n",
       "\n",
       "    .dataframe thead th {\n",
       "        text-align: right;\n",
       "    }\n",
       "</style>\n",
       "<table border=\"1\" class=\"dataframe\">\n",
       "  <thead>\n",
       "    <tr style=\"text-align: right;\">\n",
       "      <th></th>\n",
       "      <th>station_id</th>\n",
       "      <th>num_bikes_available</th>\n",
       "      <th>num_bikes_available_types.mechanical</th>\n",
       "      <th>num_bikes_available_types.ebike</th>\n",
       "      <th>num_docks_available</th>\n",
       "      <th>status</th>\n",
       "      <th>is_renting</th>\n",
       "      <th>is_returning</th>\n",
       "      <th>year</th>\n",
       "      <th>month</th>\n",
       "      <th>...</th>\n",
       "      <th>is_weekend</th>\n",
       "      <th>grouped_date</th>\n",
       "      <th>docking_available</th>\n",
       "      <th>bikes_available</th>\n",
       "      <th>bikes_available.mechanical</th>\n",
       "      <th>bikes_available.ebike</th>\n",
       "      <th>season</th>\n",
       "      <th>date</th>\n",
       "      <th>temperature</th>\n",
       "      <th>rainfall</th>\n",
       "    </tr>\n",
       "  </thead>\n",
       "  <tbody>\n",
       "    <tr>\n",
       "      <th>0</th>\n",
       "      <td>1</td>\n",
       "      <td>37</td>\n",
       "      <td>35</td>\n",
       "      <td>2</td>\n",
       "      <td>9</td>\n",
       "      <td>IN_SERVICE</td>\n",
       "      <td>1</td>\n",
       "      <td>1</td>\n",
       "      <td>2023</td>\n",
       "      <td>1</td>\n",
       "      <td>...</td>\n",
       "      <td>1</td>\n",
       "      <td>2023-01-01</td>\n",
       "      <td>True</td>\n",
       "      <td>True</td>\n",
       "      <td>True</td>\n",
       "      <td>True</td>\n",
       "      <td>Winter</td>\n",
       "      <td>2023-01-01</td>\n",
       "      <td>15</td>\n",
       "      <td>0.0</td>\n",
       "    </tr>\n",
       "    <tr>\n",
       "      <th>1</th>\n",
       "      <td>185</td>\n",
       "      <td>9</td>\n",
       "      <td>4</td>\n",
       "      <td>5</td>\n",
       "      <td>8</td>\n",
       "      <td>IN_SERVICE</td>\n",
       "      <td>1</td>\n",
       "      <td>1</td>\n",
       "      <td>2023</td>\n",
       "      <td>1</td>\n",
       "      <td>...</td>\n",
       "      <td>1</td>\n",
       "      <td>2023-01-01</td>\n",
       "      <td>True</td>\n",
       "      <td>True</td>\n",
       "      <td>True</td>\n",
       "      <td>True</td>\n",
       "      <td>Winter</td>\n",
       "      <td>2023-01-01</td>\n",
       "      <td>15</td>\n",
       "      <td>0.0</td>\n",
       "    </tr>\n",
       "    <tr>\n",
       "      <th>2</th>\n",
       "      <td>188</td>\n",
       "      <td>23</td>\n",
       "      <td>20</td>\n",
       "      <td>3</td>\n",
       "      <td>4</td>\n",
       "      <td>IN_SERVICE</td>\n",
       "      <td>1</td>\n",
       "      <td>1</td>\n",
       "      <td>2023</td>\n",
       "      <td>1</td>\n",
       "      <td>...</td>\n",
       "      <td>1</td>\n",
       "      <td>2023-01-01</td>\n",
       "      <td>True</td>\n",
       "      <td>True</td>\n",
       "      <td>True</td>\n",
       "      <td>True</td>\n",
       "      <td>Winter</td>\n",
       "      <td>2023-01-01</td>\n",
       "      <td>15</td>\n",
       "      <td>0.0</td>\n",
       "    </tr>\n",
       "  </tbody>\n",
       "</table>\n",
       "<p>3 rows × 24 columns</p>\n",
       "</div>"
      ],
      "text/plain": [
       "   station_id  num_bikes_available  num_bikes_available_types.mechanical  \\\n",
       "0           1                   37                                    35   \n",
       "1         185                    9                                     4   \n",
       "2         188                   23                                    20   \n",
       "\n",
       "   num_bikes_available_types.ebike  num_docks_available      status  \\\n",
       "0                                2                    9  IN_SERVICE   \n",
       "1                                5                    8  IN_SERVICE   \n",
       "2                                3                    4  IN_SERVICE   \n",
       "\n",
       "   is_renting  is_returning  year  month  ...  is_weekend  grouped_date  \\\n",
       "0           1             1  2023      1  ...           1    2023-01-01   \n",
       "1           1             1  2023      1  ...           1    2023-01-01   \n",
       "2           1             1  2023      1  ...           1    2023-01-01   \n",
       "\n",
       "   docking_available  bikes_available  bikes_available.mechanical  \\\n",
       "0               True             True                        True   \n",
       "1               True             True                        True   \n",
       "2               True             True                        True   \n",
       "\n",
       "  bikes_available.ebike  season       date  temperature  rainfall  \n",
       "0                  True  Winter 2023-01-01           15       0.0  \n",
       "1                  True  Winter 2023-01-01           15       0.0  \n",
       "2                  True  Winter 2023-01-01           15       0.0  \n",
       "\n",
       "[3 rows x 24 columns]"
      ]
     },
     "execution_count": 8,
     "metadata": {},
     "output_type": "execute_result"
    }
   ],
   "source": [
    "df_2023_weather = pd.merge(df_2023, df_weather, on=['year', 'month', 'day', 'hour'], how='left')\n",
    "df_2023_weather.head(3)"
   ]
  },
  {
   "cell_type": "code",
   "execution_count": 9,
   "metadata": {},
   "outputs": [
    {
     "data": {
      "text/html": [
       "<div>\n",
       "<style scoped>\n",
       "    .dataframe tbody tr th:only-of-type {\n",
       "        vertical-align: middle;\n",
       "    }\n",
       "\n",
       "    .dataframe tbody tr th {\n",
       "        vertical-align: top;\n",
       "    }\n",
       "\n",
       "    .dataframe thead th {\n",
       "        text-align: right;\n",
       "    }\n",
       "</style>\n",
       "<table border=\"1\" class=\"dataframe\">\n",
       "  <thead>\n",
       "    <tr style=\"text-align: right;\">\n",
       "      <th></th>\n",
       "      <th>station_id</th>\n",
       "      <th>lat</th>\n",
       "      <th>lon</th>\n",
       "      <th>altitude</th>\n",
       "      <th>post_code</th>\n",
       "      <th>capacity</th>\n",
       "      <th>address</th>\n",
       "      <th>district</th>\n",
       "    </tr>\n",
       "  </thead>\n",
       "  <tbody>\n",
       "    <tr>\n",
       "      <th>0</th>\n",
       "      <td>1</td>\n",
       "      <td>41.397978</td>\n",
       "      <td>2.180107</td>\n",
       "      <td>16.0</td>\n",
       "      <td>08013</td>\n",
       "      <td>46</td>\n",
       "      <td>GRAN VIA CORTS CATALANES, 760</td>\n",
       "      <td>Eixample</td>\n",
       "    </tr>\n",
       "    <tr>\n",
       "      <th>1</th>\n",
       "      <td>2</td>\n",
       "      <td>41.395488</td>\n",
       "      <td>2.177198</td>\n",
       "      <td>17.0</td>\n",
       "      <td>08013</td>\n",
       "      <td>29</td>\n",
       "      <td>C/ ROGER DE FLOR, 126</td>\n",
       "      <td>Eixample</td>\n",
       "    </tr>\n",
       "    <tr>\n",
       "      <th>2</th>\n",
       "      <td>3</td>\n",
       "      <td>41.394156</td>\n",
       "      <td>2.181331</td>\n",
       "      <td>11.0</td>\n",
       "      <td>08013</td>\n",
       "      <td>27</td>\n",
       "      <td>C/ NÀPOLS, 82</td>\n",
       "      <td>Eixample</td>\n",
       "    </tr>\n",
       "    <tr>\n",
       "      <th>3</th>\n",
       "      <td>4</td>\n",
       "      <td>41.393317</td>\n",
       "      <td>2.181248</td>\n",
       "      <td>8.0</td>\n",
       "      <td>08013</td>\n",
       "      <td>21</td>\n",
       "      <td>C/ RIBES, 13</td>\n",
       "      <td>Eixample</td>\n",
       "    </tr>\n",
       "    <tr>\n",
       "      <th>4</th>\n",
       "      <td>5</td>\n",
       "      <td>41.391103</td>\n",
       "      <td>2.180176</td>\n",
       "      <td>7.0</td>\n",
       "      <td>08018</td>\n",
       "      <td>39</td>\n",
       "      <td>PG. LLUIS COMPANYS, 11 (ARC TRIOMF)</td>\n",
       "      <td>Sant Martí</td>\n",
       "    </tr>\n",
       "  </tbody>\n",
       "</table>\n",
       "</div>"
      ],
      "text/plain": [
       "   station_id        lat       lon  altitude post_code  capacity  \\\n",
       "0           1  41.397978  2.180107      16.0     08013        46   \n",
       "1           2  41.395488  2.177198      17.0     08013        29   \n",
       "2           3  41.394156  2.181331      11.0     08013        27   \n",
       "3           4  41.393317  2.181248       8.0     08013        21   \n",
       "4           5  41.391103  2.180176       7.0     08018        39   \n",
       "\n",
       "                               address    district  \n",
       "0        GRAN VIA CORTS CATALANES, 760    Eixample  \n",
       "1                C/ ROGER DE FLOR, 126    Eixample  \n",
       "2                        C/ NÀPOLS, 82    Eixample  \n",
       "3                         C/ RIBES, 13    Eixample  \n",
       "4  PG. LLUIS COMPANYS, 11 (ARC TRIOMF)  Sant Martí  "
      ]
     },
     "execution_count": 9,
     "metadata": {},
     "output_type": "execute_result"
    }
   ],
   "source": [
    "station_info_df = pd.read_csv('../../data/bicing/processed/2024_STATION_LOCATIONS.csv', dtype={'post_code': str})\n",
    "station_info_df.head()"
   ]
  },
  {
   "cell_type": "code",
   "execution_count": 10,
   "metadata": {},
   "outputs": [
    {
     "data": {
      "text/html": [
       "<div>\n",
       "<style scoped>\n",
       "    .dataframe tbody tr th:only-of-type {\n",
       "        vertical-align: middle;\n",
       "    }\n",
       "\n",
       "    .dataframe tbody tr th {\n",
       "        vertical-align: top;\n",
       "    }\n",
       "\n",
       "    .dataframe thead th {\n",
       "        text-align: right;\n",
       "    }\n",
       "</style>\n",
       "<table border=\"1\" class=\"dataframe\">\n",
       "  <thead>\n",
       "    <tr style=\"text-align: right;\">\n",
       "      <th></th>\n",
       "      <th>station_id</th>\n",
       "      <th>num_bikes_available</th>\n",
       "      <th>num_bikes_available_types.mechanical</th>\n",
       "      <th>num_bikes_available_types.ebike</th>\n",
       "      <th>num_docks_available</th>\n",
       "      <th>status</th>\n",
       "      <th>is_renting</th>\n",
       "      <th>is_returning</th>\n",
       "      <th>year</th>\n",
       "      <th>month</th>\n",
       "      <th>...</th>\n",
       "      <th>date</th>\n",
       "      <th>temperature</th>\n",
       "      <th>rainfall</th>\n",
       "      <th>lat</th>\n",
       "      <th>lon</th>\n",
       "      <th>altitude</th>\n",
       "      <th>post_code</th>\n",
       "      <th>capacity</th>\n",
       "      <th>address</th>\n",
       "      <th>district</th>\n",
       "    </tr>\n",
       "  </thead>\n",
       "  <tbody>\n",
       "    <tr>\n",
       "      <th>0</th>\n",
       "      <td>1</td>\n",
       "      <td>37</td>\n",
       "      <td>35</td>\n",
       "      <td>2</td>\n",
       "      <td>9</td>\n",
       "      <td>IN_SERVICE</td>\n",
       "      <td>1</td>\n",
       "      <td>1</td>\n",
       "      <td>2023</td>\n",
       "      <td>1</td>\n",
       "      <td>...</td>\n",
       "      <td>2023-01-01</td>\n",
       "      <td>15</td>\n",
       "      <td>0.0</td>\n",
       "      <td>41.397978</td>\n",
       "      <td>2.180107</td>\n",
       "      <td>16.0</td>\n",
       "      <td>08013</td>\n",
       "      <td>46.0</td>\n",
       "      <td>GRAN VIA CORTS CATALANES, 760</td>\n",
       "      <td>Eixample</td>\n",
       "    </tr>\n",
       "    <tr>\n",
       "      <th>1</th>\n",
       "      <td>185</td>\n",
       "      <td>9</td>\n",
       "      <td>4</td>\n",
       "      <td>5</td>\n",
       "      <td>8</td>\n",
       "      <td>IN_SERVICE</td>\n",
       "      <td>1</td>\n",
       "      <td>1</td>\n",
       "      <td>2023</td>\n",
       "      <td>1</td>\n",
       "      <td>...</td>\n",
       "      <td>2023-01-01</td>\n",
       "      <td>15</td>\n",
       "      <td>0.0</td>\n",
       "      <td>41.370372</td>\n",
       "      <td>2.138944</td>\n",
       "      <td>20.0</td>\n",
       "      <td>08014</td>\n",
       "      <td>17.0</td>\n",
       "      <td>C/GAVÀ, 81</td>\n",
       "      <td>Sants-Montjuïc</td>\n",
       "    </tr>\n",
       "    <tr>\n",
       "      <th>2</th>\n",
       "      <td>188</td>\n",
       "      <td>23</td>\n",
       "      <td>20</td>\n",
       "      <td>3</td>\n",
       "      <td>4</td>\n",
       "      <td>IN_SERVICE</td>\n",
       "      <td>1</td>\n",
       "      <td>1</td>\n",
       "      <td>2023</td>\n",
       "      <td>1</td>\n",
       "      <td>...</td>\n",
       "      <td>2023-01-01</td>\n",
       "      <td>15</td>\n",
       "      <td>0.0</td>\n",
       "      <td>41.375695</td>\n",
       "      <td>2.135857</td>\n",
       "      <td>30.0</td>\n",
       "      <td>08014</td>\n",
       "      <td>27.0</td>\n",
       "      <td>PG. SANT ANTONI /PL. SANTS</td>\n",
       "      <td>Sants-Montjuïc</td>\n",
       "    </tr>\n",
       "    <tr>\n",
       "      <th>3</th>\n",
       "      <td>196</td>\n",
       "      <td>6</td>\n",
       "      <td>1</td>\n",
       "      <td>5</td>\n",
       "      <td>21</td>\n",
       "      <td>IN_SERVICE</td>\n",
       "      <td>1</td>\n",
       "      <td>1</td>\n",
       "      <td>2023</td>\n",
       "      <td>1</td>\n",
       "      <td>...</td>\n",
       "      <td>2023-01-01</td>\n",
       "      <td>15</td>\n",
       "      <td>0.0</td>\n",
       "      <td>41.383261</td>\n",
       "      <td>2.139266</td>\n",
       "      <td>38.0</td>\n",
       "      <td>08029</td>\n",
       "      <td>27.0</td>\n",
       "      <td>C/ BERLÍN, 38</td>\n",
       "      <td>Les Corts</td>\n",
       "    </tr>\n",
       "    <tr>\n",
       "      <th>4</th>\n",
       "      <td>201</td>\n",
       "      <td>2</td>\n",
       "      <td>0</td>\n",
       "      <td>2</td>\n",
       "      <td>22</td>\n",
       "      <td>IN_SERVICE</td>\n",
       "      <td>1</td>\n",
       "      <td>1</td>\n",
       "      <td>2023</td>\n",
       "      <td>1</td>\n",
       "      <td>...</td>\n",
       "      <td>2023-01-01</td>\n",
       "      <td>15</td>\n",
       "      <td>0.0</td>\n",
       "      <td>41.387806</td>\n",
       "      <td>2.134422</td>\n",
       "      <td>55.0</td>\n",
       "      <td>08029</td>\n",
       "      <td>24.0</td>\n",
       "      <td>C/ NUMÀNCIA, 136</td>\n",
       "      <td>Les Corts</td>\n",
       "    </tr>\n",
       "  </tbody>\n",
       "</table>\n",
       "<p>5 rows × 31 columns</p>\n",
       "</div>"
      ],
      "text/plain": [
       "   station_id  num_bikes_available  num_bikes_available_types.mechanical  \\\n",
       "0           1                   37                                    35   \n",
       "1         185                    9                                     4   \n",
       "2         188                   23                                    20   \n",
       "3         196                    6                                     1   \n",
       "4         201                    2                                     0   \n",
       "\n",
       "   num_bikes_available_types.ebike  num_docks_available      status  \\\n",
       "0                                2                    9  IN_SERVICE   \n",
       "1                                5                    8  IN_SERVICE   \n",
       "2                                3                    4  IN_SERVICE   \n",
       "3                                5                   21  IN_SERVICE   \n",
       "4                                2                   22  IN_SERVICE   \n",
       "\n",
       "   is_renting  is_returning  year  month  ...       date  temperature  \\\n",
       "0           1             1  2023      1  ... 2023-01-01           15   \n",
       "1           1             1  2023      1  ... 2023-01-01           15   \n",
       "2           1             1  2023      1  ... 2023-01-01           15   \n",
       "3           1             1  2023      1  ... 2023-01-01           15   \n",
       "4           1             1  2023      1  ... 2023-01-01           15   \n",
       "\n",
       "   rainfall        lat       lon altitude  post_code  capacity  \\\n",
       "0       0.0  41.397978  2.180107     16.0      08013      46.0   \n",
       "1       0.0  41.370372  2.138944     20.0      08014      17.0   \n",
       "2       0.0  41.375695  2.135857     30.0      08014      27.0   \n",
       "3       0.0  41.383261  2.139266     38.0      08029      27.0   \n",
       "4       0.0  41.387806  2.134422     55.0      08029      24.0   \n",
       "\n",
       "                         address        district  \n",
       "0  GRAN VIA CORTS CATALANES, 760        Eixample  \n",
       "1                     C/GAVÀ, 81  Sants-Montjuïc  \n",
       "2     PG. SANT ANTONI /PL. SANTS  Sants-Montjuïc  \n",
       "3                  C/ BERLÍN, 38       Les Corts  \n",
       "4               C/ NUMÀNCIA, 136       Les Corts  \n",
       "\n",
       "[5 rows x 31 columns]"
      ]
     },
     "execution_count": 10,
     "metadata": {},
     "output_type": "execute_result"
    }
   ],
   "source": [
    "df_2023_weather_station = pd.merge(df_2023_weather, station_info_df, on='station_id', how='left')\n",
    "df_2023_weather_station.head()"
   ]
  },
  {
   "cell_type": "code",
   "execution_count": 29,
   "metadata": {},
   "outputs": [
    {
     "data": {
      "text/plain": [
       "Index(['station_id', 'num_bikes_available',\n",
       "       'num_bikes_available_types.mechanical',\n",
       "       'num_bikes_available_types.ebike', 'num_docks_available', 'status',\n",
       "       'is_renting', 'is_returning', 'year', 'month', 'day', 'hour',\n",
       "       'grouped_minute', 'day_of_week', 'is_weekend', 'grouped_date',\n",
       "       'docking_available', 'bikes_available', 'bikes_available.mechanical',\n",
       "       'bikes_available.ebike', 'season', 'date', 'temperature', 'rainfall',\n",
       "       'lat', 'lon', 'altitude', 'post_code', 'capacity', 'address',\n",
       "       'district'],\n",
       "      dtype='object')"
      ]
     },
     "execution_count": 29,
     "metadata": {},
     "output_type": "execute_result"
    }
   ],
   "source": [
    "df_2023_weather_station.columns"
   ]
  },
  {
   "cell_type": "code",
   "execution_count": 11,
   "metadata": {},
   "outputs": [
    {
     "data": {
      "text/html": [
       "<div>\n",
       "<style scoped>\n",
       "    .dataframe tbody tr th:only-of-type {\n",
       "        vertical-align: middle;\n",
       "    }\n",
       "\n",
       "    .dataframe tbody tr th {\n",
       "        vertical-align: top;\n",
       "    }\n",
       "\n",
       "    .dataframe thead th {\n",
       "        text-align: right;\n",
       "    }\n",
       "</style>\n",
       "<table border=\"1\" class=\"dataframe\">\n",
       "  <thead>\n",
       "    <tr style=\"text-align: right;\">\n",
       "      <th></th>\n",
       "      <th>station_id</th>\n",
       "      <th>num_bikes_available</th>\n",
       "      <th>num_bikes_available_types.mechanical</th>\n",
       "      <th>num_bikes_available_types.ebike</th>\n",
       "      <th>num_docks_available</th>\n",
       "      <th>status</th>\n",
       "      <th>is_renting</th>\n",
       "      <th>is_returning</th>\n",
       "      <th>year</th>\n",
       "      <th>month</th>\n",
       "      <th>...</th>\n",
       "      <th>date</th>\n",
       "      <th>temperature</th>\n",
       "      <th>rainfall</th>\n",
       "      <th>lat</th>\n",
       "      <th>lon</th>\n",
       "      <th>altitude</th>\n",
       "      <th>post_code</th>\n",
       "      <th>capacity</th>\n",
       "      <th>address</th>\n",
       "      <th>district</th>\n",
       "    </tr>\n",
       "  </thead>\n",
       "  <tbody>\n",
       "    <tr>\n",
       "      <th>0</th>\n",
       "      <td>1</td>\n",
       "      <td>37</td>\n",
       "      <td>35</td>\n",
       "      <td>2</td>\n",
       "      <td>9</td>\n",
       "      <td>IN_SERVICE</td>\n",
       "      <td>1</td>\n",
       "      <td>1</td>\n",
       "      <td>2023</td>\n",
       "      <td>1</td>\n",
       "      <td>...</td>\n",
       "      <td>2023-01-01</td>\n",
       "      <td>15</td>\n",
       "      <td>0.0</td>\n",
       "      <td>41.397978</td>\n",
       "      <td>2.180107</td>\n",
       "      <td>16.0</td>\n",
       "      <td>08013</td>\n",
       "      <td>46.0</td>\n",
       "      <td>GRAN VIA CORTS CATALANES, 760</td>\n",
       "      <td>Eixample</td>\n",
       "    </tr>\n",
       "    <tr>\n",
       "      <th>1</th>\n",
       "      <td>185</td>\n",
       "      <td>9</td>\n",
       "      <td>4</td>\n",
       "      <td>5</td>\n",
       "      <td>8</td>\n",
       "      <td>IN_SERVICE</td>\n",
       "      <td>1</td>\n",
       "      <td>1</td>\n",
       "      <td>2023</td>\n",
       "      <td>1</td>\n",
       "      <td>...</td>\n",
       "      <td>2023-01-01</td>\n",
       "      <td>15</td>\n",
       "      <td>0.0</td>\n",
       "      <td>41.370372</td>\n",
       "      <td>2.138944</td>\n",
       "      <td>20.0</td>\n",
       "      <td>08014</td>\n",
       "      <td>17.0</td>\n",
       "      <td>C/GAVÀ, 81</td>\n",
       "      <td>Sants-Montjuïc</td>\n",
       "    </tr>\n",
       "    <tr>\n",
       "      <th>2</th>\n",
       "      <td>188</td>\n",
       "      <td>23</td>\n",
       "      <td>20</td>\n",
       "      <td>3</td>\n",
       "      <td>4</td>\n",
       "      <td>IN_SERVICE</td>\n",
       "      <td>1</td>\n",
       "      <td>1</td>\n",
       "      <td>2023</td>\n",
       "      <td>1</td>\n",
       "      <td>...</td>\n",
       "      <td>2023-01-01</td>\n",
       "      <td>15</td>\n",
       "      <td>0.0</td>\n",
       "      <td>41.375695</td>\n",
       "      <td>2.135857</td>\n",
       "      <td>30.0</td>\n",
       "      <td>08014</td>\n",
       "      <td>27.0</td>\n",
       "      <td>PG. SANT ANTONI /PL. SANTS</td>\n",
       "      <td>Sants-Montjuïc</td>\n",
       "    </tr>\n",
       "    <tr>\n",
       "      <th>3</th>\n",
       "      <td>196</td>\n",
       "      <td>6</td>\n",
       "      <td>1</td>\n",
       "      <td>5</td>\n",
       "      <td>21</td>\n",
       "      <td>IN_SERVICE</td>\n",
       "      <td>1</td>\n",
       "      <td>1</td>\n",
       "      <td>2023</td>\n",
       "      <td>1</td>\n",
       "      <td>...</td>\n",
       "      <td>2023-01-01</td>\n",
       "      <td>15</td>\n",
       "      <td>0.0</td>\n",
       "      <td>41.383261</td>\n",
       "      <td>2.139266</td>\n",
       "      <td>38.0</td>\n",
       "      <td>08029</td>\n",
       "      <td>27.0</td>\n",
       "      <td>C/ BERLÍN, 38</td>\n",
       "      <td>Les Corts</td>\n",
       "    </tr>\n",
       "    <tr>\n",
       "      <th>4</th>\n",
       "      <td>201</td>\n",
       "      <td>2</td>\n",
       "      <td>0</td>\n",
       "      <td>2</td>\n",
       "      <td>22</td>\n",
       "      <td>IN_SERVICE</td>\n",
       "      <td>1</td>\n",
       "      <td>1</td>\n",
       "      <td>2023</td>\n",
       "      <td>1</td>\n",
       "      <td>...</td>\n",
       "      <td>2023-01-01</td>\n",
       "      <td>15</td>\n",
       "      <td>0.0</td>\n",
       "      <td>41.387806</td>\n",
       "      <td>2.134422</td>\n",
       "      <td>55.0</td>\n",
       "      <td>08029</td>\n",
       "      <td>24.0</td>\n",
       "      <td>C/ NUMÀNCIA, 136</td>\n",
       "      <td>Les Corts</td>\n",
       "    </tr>\n",
       "  </tbody>\n",
       "</table>\n",
       "<p>5 rows × 31 columns</p>\n",
       "</div>"
      ],
      "text/plain": [
       "   station_id  num_bikes_available  num_bikes_available_types.mechanical  \\\n",
       "0           1                   37                                    35   \n",
       "1         185                    9                                     4   \n",
       "2         188                   23                                    20   \n",
       "3         196                    6                                     1   \n",
       "4         201                    2                                     0   \n",
       "\n",
       "   num_bikes_available_types.ebike  num_docks_available      status  \\\n",
       "0                                2                    9  IN_SERVICE   \n",
       "1                                5                    8  IN_SERVICE   \n",
       "2                                3                    4  IN_SERVICE   \n",
       "3                                5                   21  IN_SERVICE   \n",
       "4                                2                   22  IN_SERVICE   \n",
       "\n",
       "   is_renting  is_returning  year  month  ...       date  temperature  \\\n",
       "0           1             1  2023      1  ... 2023-01-01           15   \n",
       "1           1             1  2023      1  ... 2023-01-01           15   \n",
       "2           1             1  2023      1  ... 2023-01-01           15   \n",
       "3           1             1  2023      1  ... 2023-01-01           15   \n",
       "4           1             1  2023      1  ... 2023-01-01           15   \n",
       "\n",
       "   rainfall        lat       lon altitude  post_code  capacity  \\\n",
       "0       0.0  41.397978  2.180107     16.0      08013      46.0   \n",
       "1       0.0  41.370372  2.138944     20.0      08014      17.0   \n",
       "2       0.0  41.375695  2.135857     30.0      08014      27.0   \n",
       "3       0.0  41.383261  2.139266     38.0      08029      27.0   \n",
       "4       0.0  41.387806  2.134422     55.0      08029      24.0   \n",
       "\n",
       "                         address        district  \n",
       "0  GRAN VIA CORTS CATALANES, 760        Eixample  \n",
       "1                     C/GAVÀ, 81  Sants-Montjuïc  \n",
       "2     PG. SANT ANTONI /PL. SANTS  Sants-Montjuïc  \n",
       "3                  C/ BERLÍN, 38       Les Corts  \n",
       "4               C/ NUMÀNCIA, 136       Les Corts  \n",
       "\n",
       "[5 rows x 31 columns]"
      ]
     },
     "execution_count": 11,
     "metadata": {},
     "output_type": "execute_result"
    }
   ],
   "source": [
    "# columns_to_keep = ['station_id', 'num_bikes_available',\n",
    "#                    'num_bikes_available_types.mechanical',\n",
    "#                    'num_bikes_available_types.ebike', 'num_docks_available', 'status',\n",
    "#                    'is_renting', 'is_returning', 'day_of_week', 'is_weekend', 'grouped_date',\n",
    "#                    'docking_available', 'bikes_available', 'bikes_available.mechanical',\n",
    "#                    'bikes_available.ebike', 'temperature', 'rainfall', 'lat', 'lon', 'post_code', 'altitude', 'capacity', 'year', 'month', 'day', 'hour',\n",
    "#        'grouped_minute','season']\n",
    "\n",
    "df_2023_ml = df_2023_weather_station\n",
    "df_2023_ml.head()"
   ]
  },
  {
   "cell_type": "code",
   "execution_count": 12,
   "metadata": {},
   "outputs": [],
   "source": [
    "df_2023_ml[df_2023_ml['capacity'].isnull()]['station_id'].unique()\n",
    "#Station 520 missing information\n",
    "df_2023_ml = df_2023_ml[df_2023_ml['station_id'] != 520]"
   ]
  },
  {
   "cell_type": "code",
   "execution_count": 32,
   "metadata": {},
   "outputs": [
    {
     "data": {
      "text/plain": [
       "station_id                              0\n",
       "num_bikes_available                     0\n",
       "num_bikes_available_types.mechanical    0\n",
       "num_bikes_available_types.ebike         0\n",
       "num_docks_available                     0\n",
       "status                                  0\n",
       "is_renting                              0\n",
       "is_returning                            0\n",
       "year                                    0\n",
       "month                                   0\n",
       "day                                     0\n",
       "hour                                    0\n",
       "grouped_minute                          0\n",
       "day_of_week                             0\n",
       "is_weekend                              0\n",
       "grouped_date                            0\n",
       "docking_available                       0\n",
       "bikes_available                         0\n",
       "bikes_available.mechanical              0\n",
       "bikes_available.ebike                   0\n",
       "season                                  0\n",
       "date                                    0\n",
       "temperature                             0\n",
       "rainfall                                0\n",
       "lat                                     0\n",
       "lon                                     0\n",
       "altitude                                0\n",
       "post_code                               0\n",
       "capacity                                0\n",
       "address                                 0\n",
       "district                                0\n",
       "dtype: int64"
      ]
     },
     "execution_count": 32,
     "metadata": {},
     "output_type": "execute_result"
    }
   ],
   "source": [
    "df_2023_ml.isnull().sum()"
   ]
  },
  {
   "cell_type": "code",
   "execution_count": 13,
   "metadata": {},
   "outputs": [
    {
     "name": "stderr",
     "output_type": "stream",
     "text": [
      "/var/folders/1j/zxqksxbs0bg17c_9cj2hm8bh0000gn/T/ipykernel_28873/2227770550.py:1: SettingWithCopyWarning: \n",
      "A value is trying to be set on a copy of a slice from a DataFrame.\n",
      "Try using .loc[row_indexer,col_indexer] = value instead\n",
      "\n",
      "See the caveats in the documentation: https://pandas.pydata.org/pandas-docs/stable/user_guide/indexing.html#returning-a-view-versus-a-copy\n",
      "  df_2023_ml['grouped_date'] = pd.to_datetime(df_2023_ml['grouped_date'])\n"
     ]
    }
   ],
   "source": [
    "df_2023_ml['grouped_date'] = pd.to_datetime(df_2023_ml['grouped_date'])"
   ]
  },
  {
   "cell_type": "code",
   "execution_count": 14,
   "metadata": {},
   "outputs": [
    {
     "name": "stderr",
     "output_type": "stream",
     "text": [
      "/var/folders/1j/zxqksxbs0bg17c_9cj2hm8bh0000gn/T/ipykernel_28873/2482286237.py:2: FutureWarning: The behavior of 'isin' with dtype=datetime64[ns] and castable values (e.g. strings) is deprecated. In a future version, these will not be considered matching by isin. Explicitly cast to the appropriate dtype before calling isin instead.\n",
      "  df_2023_ml['is_holiday'] = df_2023_ml['grouped_date'].isin(holidays)\n",
      "/var/folders/1j/zxqksxbs0bg17c_9cj2hm8bh0000gn/T/ipykernel_28873/2482286237.py:2: SettingWithCopyWarning: \n",
      "A value is trying to be set on a copy of a slice from a DataFrame.\n",
      "Try using .loc[row_indexer,col_indexer] = value instead\n",
      "\n",
      "See the caveats in the documentation: https://pandas.pydata.org/pandas-docs/stable/user_guide/indexing.html#returning-a-view-versus-a-copy\n",
      "  df_2023_ml['is_holiday'] = df_2023_ml['grouped_date'].isin(holidays)\n"
     ]
    },
    {
     "data": {
      "text/plain": [
       "1935575    2023-01-06\n",
       "1935576    2023-01-06\n",
       "1935577    2023-01-06\n",
       "1935578    2023-01-06\n",
       "1935579    2023-01-06\n",
       "              ...    \n",
       "26002052   2023-09-11\n",
       "26002053   2023-09-11\n",
       "26002054   2023-09-11\n",
       "26002055   2023-09-11\n",
       "26002056   2023-09-11\n",
       "Name: grouped_date, Length: 8928, dtype: datetime64[ns]"
      ]
     },
     "execution_count": 14,
     "metadata": {},
     "output_type": "execute_result"
    }
   ],
   "source": [
    "holidays = ['01/06/2023', '04/07/2023', '04/10/2023', '05/01/2023', '06/24/2023', '08/15/2023', '09/11/2023', '10/12/2023', '11/01/2023', '12/06/2023', '12/08/2023', '12/25/2023', '12/26/2023']\n",
    "df_2023_ml['is_holiday'] = df_2023_ml['grouped_date'].isin(holidays)\n",
    "df_2023_ml[df_2023_ml['is_holiday'] == True]['grouped_date']"
   ]
  },
  {
   "cell_type": "code",
   "execution_count": 34,
   "metadata": {},
   "outputs": [
    {
     "data": {
      "text/html": [
       "<div>\n",
       "<style scoped>\n",
       "    .dataframe tbody tr th:only-of-type {\n",
       "        vertical-align: middle;\n",
       "    }\n",
       "\n",
       "    .dataframe tbody tr th {\n",
       "        vertical-align: top;\n",
       "    }\n",
       "\n",
       "    .dataframe thead th {\n",
       "        text-align: right;\n",
       "    }\n",
       "</style>\n",
       "<table border=\"1\" class=\"dataframe\">\n",
       "  <thead>\n",
       "    <tr style=\"text-align: right;\">\n",
       "      <th></th>\n",
       "      <th>station_id</th>\n",
       "      <th>num_bikes_available</th>\n",
       "      <th>num_bikes_available_types.mechanical</th>\n",
       "      <th>num_bikes_available_types.ebike</th>\n",
       "      <th>num_docks_available</th>\n",
       "      <th>status</th>\n",
       "      <th>is_renting</th>\n",
       "      <th>is_returning</th>\n",
       "      <th>year</th>\n",
       "      <th>month</th>\n",
       "      <th>...</th>\n",
       "      <th>temperature</th>\n",
       "      <th>rainfall</th>\n",
       "      <th>lat</th>\n",
       "      <th>lon</th>\n",
       "      <th>altitude</th>\n",
       "      <th>post_code</th>\n",
       "      <th>capacity</th>\n",
       "      <th>address</th>\n",
       "      <th>district</th>\n",
       "      <th>is_holiday</th>\n",
       "    </tr>\n",
       "  </thead>\n",
       "  <tbody>\n",
       "    <tr>\n",
       "      <th>0</th>\n",
       "      <td>1</td>\n",
       "      <td>37</td>\n",
       "      <td>35</td>\n",
       "      <td>2</td>\n",
       "      <td>9</td>\n",
       "      <td>IN_SERVICE</td>\n",
       "      <td>1</td>\n",
       "      <td>1</td>\n",
       "      <td>2023</td>\n",
       "      <td>1</td>\n",
       "      <td>...</td>\n",
       "      <td>15</td>\n",
       "      <td>0.0</td>\n",
       "      <td>41.397978</td>\n",
       "      <td>2.180107</td>\n",
       "      <td>16.0</td>\n",
       "      <td>08013</td>\n",
       "      <td>46.0</td>\n",
       "      <td>GRAN VIA CORTS CATALANES, 760</td>\n",
       "      <td>Eixample</td>\n",
       "      <td>False</td>\n",
       "    </tr>\n",
       "    <tr>\n",
       "      <th>1</th>\n",
       "      <td>185</td>\n",
       "      <td>9</td>\n",
       "      <td>4</td>\n",
       "      <td>5</td>\n",
       "      <td>8</td>\n",
       "      <td>IN_SERVICE</td>\n",
       "      <td>1</td>\n",
       "      <td>1</td>\n",
       "      <td>2023</td>\n",
       "      <td>1</td>\n",
       "      <td>...</td>\n",
       "      <td>15</td>\n",
       "      <td>0.0</td>\n",
       "      <td>41.370372</td>\n",
       "      <td>2.138944</td>\n",
       "      <td>20.0</td>\n",
       "      <td>08014</td>\n",
       "      <td>17.0</td>\n",
       "      <td>C/GAVÀ, 81</td>\n",
       "      <td>Sants-Montjuïc</td>\n",
       "      <td>False</td>\n",
       "    </tr>\n",
       "    <tr>\n",
       "      <th>2</th>\n",
       "      <td>188</td>\n",
       "      <td>23</td>\n",
       "      <td>20</td>\n",
       "      <td>3</td>\n",
       "      <td>4</td>\n",
       "      <td>IN_SERVICE</td>\n",
       "      <td>1</td>\n",
       "      <td>1</td>\n",
       "      <td>2023</td>\n",
       "      <td>1</td>\n",
       "      <td>...</td>\n",
       "      <td>15</td>\n",
       "      <td>0.0</td>\n",
       "      <td>41.375695</td>\n",
       "      <td>2.135857</td>\n",
       "      <td>30.0</td>\n",
       "      <td>08014</td>\n",
       "      <td>27.0</td>\n",
       "      <td>PG. SANT ANTONI /PL. SANTS</td>\n",
       "      <td>Sants-Montjuïc</td>\n",
       "      <td>False</td>\n",
       "    </tr>\n",
       "    <tr>\n",
       "      <th>3</th>\n",
       "      <td>196</td>\n",
       "      <td>6</td>\n",
       "      <td>1</td>\n",
       "      <td>5</td>\n",
       "      <td>21</td>\n",
       "      <td>IN_SERVICE</td>\n",
       "      <td>1</td>\n",
       "      <td>1</td>\n",
       "      <td>2023</td>\n",
       "      <td>1</td>\n",
       "      <td>...</td>\n",
       "      <td>15</td>\n",
       "      <td>0.0</td>\n",
       "      <td>41.383261</td>\n",
       "      <td>2.139266</td>\n",
       "      <td>38.0</td>\n",
       "      <td>08029</td>\n",
       "      <td>27.0</td>\n",
       "      <td>C/ BERLÍN, 38</td>\n",
       "      <td>Les Corts</td>\n",
       "      <td>False</td>\n",
       "    </tr>\n",
       "    <tr>\n",
       "      <th>4</th>\n",
       "      <td>201</td>\n",
       "      <td>2</td>\n",
       "      <td>0</td>\n",
       "      <td>2</td>\n",
       "      <td>22</td>\n",
       "      <td>IN_SERVICE</td>\n",
       "      <td>1</td>\n",
       "      <td>1</td>\n",
       "      <td>2023</td>\n",
       "      <td>1</td>\n",
       "      <td>...</td>\n",
       "      <td>15</td>\n",
       "      <td>0.0</td>\n",
       "      <td>41.387806</td>\n",
       "      <td>2.134422</td>\n",
       "      <td>55.0</td>\n",
       "      <td>08029</td>\n",
       "      <td>24.0</td>\n",
       "      <td>C/ NUMÀNCIA, 136</td>\n",
       "      <td>Les Corts</td>\n",
       "      <td>False</td>\n",
       "    </tr>\n",
       "  </tbody>\n",
       "</table>\n",
       "<p>5 rows × 32 columns</p>\n",
       "</div>"
      ],
      "text/plain": [
       "   station_id  num_bikes_available  num_bikes_available_types.mechanical  \\\n",
       "0           1                   37                                    35   \n",
       "1         185                    9                                     4   \n",
       "2         188                   23                                    20   \n",
       "3         196                    6                                     1   \n",
       "4         201                    2                                     0   \n",
       "\n",
       "   num_bikes_available_types.ebike  num_docks_available      status  \\\n",
       "0                                2                    9  IN_SERVICE   \n",
       "1                                5                    8  IN_SERVICE   \n",
       "2                                3                    4  IN_SERVICE   \n",
       "3                                5                   21  IN_SERVICE   \n",
       "4                                2                   22  IN_SERVICE   \n",
       "\n",
       "   is_renting  is_returning  year  month  ...  temperature  rainfall  \\\n",
       "0           1             1  2023      1  ...           15       0.0   \n",
       "1           1             1  2023      1  ...           15       0.0   \n",
       "2           1             1  2023      1  ...           15       0.0   \n",
       "3           1             1  2023      1  ...           15       0.0   \n",
       "4           1             1  2023      1  ...           15       0.0   \n",
       "\n",
       "         lat       lon  altitude post_code  capacity  \\\n",
       "0  41.397978  2.180107      16.0     08013      46.0   \n",
       "1  41.370372  2.138944      20.0     08014      17.0   \n",
       "2  41.375695  2.135857      30.0     08014      27.0   \n",
       "3  41.383261  2.139266      38.0     08029      27.0   \n",
       "4  41.387806  2.134422      55.0     08029      24.0   \n",
       "\n",
       "                         address        district  is_holiday  \n",
       "0  GRAN VIA CORTS CATALANES, 760        Eixample       False  \n",
       "1                     C/GAVÀ, 81  Sants-Montjuïc       False  \n",
       "2     PG. SANT ANTONI /PL. SANTS  Sants-Montjuïc       False  \n",
       "3                  C/ BERLÍN, 38       Les Corts       False  \n",
       "4               C/ NUMÀNCIA, 136       Les Corts       False  \n",
       "\n",
       "[5 rows x 32 columns]"
      ]
     },
     "execution_count": 34,
     "metadata": {},
     "output_type": "execute_result"
    }
   ],
   "source": [
    "df_2023_ml.head(5)"
   ]
  },
  {
   "cell_type": "code",
   "execution_count": 15,
   "metadata": {},
   "outputs": [
    {
     "name": "stderr",
     "output_type": "stream",
     "text": [
      "/var/folders/1j/zxqksxbs0bg17c_9cj2hm8bh0000gn/T/ipykernel_28873/150156111.py:1: SettingWithCopyWarning: \n",
      "A value is trying to be set on a copy of a slice from a DataFrame.\n",
      "Try using .loc[row_indexer,col_indexer] = value instead\n",
      "\n",
      "See the caveats in the documentation: https://pandas.pydata.org/pandas-docs/stable/user_guide/indexing.html#returning-a-view-versus-a-copy\n",
      "  df_2023_ml['percentage_docks_available'] = df_2023_ml['num_docks_available'] / df_2023_ml['capacity']\n"
     ]
    },
    {
     "data": {
      "text/html": [
       "<div>\n",
       "<style scoped>\n",
       "    .dataframe tbody tr th:only-of-type {\n",
       "        vertical-align: middle;\n",
       "    }\n",
       "\n",
       "    .dataframe tbody tr th {\n",
       "        vertical-align: top;\n",
       "    }\n",
       "\n",
       "    .dataframe thead th {\n",
       "        text-align: right;\n",
       "    }\n",
       "</style>\n",
       "<table border=\"1\" class=\"dataframe\">\n",
       "  <thead>\n",
       "    <tr style=\"text-align: right;\">\n",
       "      <th></th>\n",
       "      <th>station_id</th>\n",
       "      <th>num_bikes_available</th>\n",
       "      <th>num_bikes_available_types.mechanical</th>\n",
       "      <th>num_bikes_available_types.ebike</th>\n",
       "      <th>num_docks_available</th>\n",
       "      <th>status</th>\n",
       "      <th>is_renting</th>\n",
       "      <th>is_returning</th>\n",
       "      <th>year</th>\n",
       "      <th>month</th>\n",
       "      <th>...</th>\n",
       "      <th>rainfall</th>\n",
       "      <th>lat</th>\n",
       "      <th>lon</th>\n",
       "      <th>altitude</th>\n",
       "      <th>post_code</th>\n",
       "      <th>capacity</th>\n",
       "      <th>address</th>\n",
       "      <th>district</th>\n",
       "      <th>is_holiday</th>\n",
       "      <th>percentage_docks_available</th>\n",
       "    </tr>\n",
       "  </thead>\n",
       "  <tbody>\n",
       "    <tr>\n",
       "      <th>0</th>\n",
       "      <td>1</td>\n",
       "      <td>37</td>\n",
       "      <td>35</td>\n",
       "      <td>2</td>\n",
       "      <td>9</td>\n",
       "      <td>IN_SERVICE</td>\n",
       "      <td>1</td>\n",
       "      <td>1</td>\n",
       "      <td>2023</td>\n",
       "      <td>1</td>\n",
       "      <td>...</td>\n",
       "      <td>0.0</td>\n",
       "      <td>41.397978</td>\n",
       "      <td>2.180107</td>\n",
       "      <td>16.0</td>\n",
       "      <td>08013</td>\n",
       "      <td>46.0</td>\n",
       "      <td>GRAN VIA CORTS CATALANES, 760</td>\n",
       "      <td>Eixample</td>\n",
       "      <td>False</td>\n",
       "      <td>0.195652</td>\n",
       "    </tr>\n",
       "    <tr>\n",
       "      <th>1</th>\n",
       "      <td>185</td>\n",
       "      <td>9</td>\n",
       "      <td>4</td>\n",
       "      <td>5</td>\n",
       "      <td>8</td>\n",
       "      <td>IN_SERVICE</td>\n",
       "      <td>1</td>\n",
       "      <td>1</td>\n",
       "      <td>2023</td>\n",
       "      <td>1</td>\n",
       "      <td>...</td>\n",
       "      <td>0.0</td>\n",
       "      <td>41.370372</td>\n",
       "      <td>2.138944</td>\n",
       "      <td>20.0</td>\n",
       "      <td>08014</td>\n",
       "      <td>17.0</td>\n",
       "      <td>C/GAVÀ, 81</td>\n",
       "      <td>Sants-Montjuïc</td>\n",
       "      <td>False</td>\n",
       "      <td>0.470588</td>\n",
       "    </tr>\n",
       "    <tr>\n",
       "      <th>2</th>\n",
       "      <td>188</td>\n",
       "      <td>23</td>\n",
       "      <td>20</td>\n",
       "      <td>3</td>\n",
       "      <td>4</td>\n",
       "      <td>IN_SERVICE</td>\n",
       "      <td>1</td>\n",
       "      <td>1</td>\n",
       "      <td>2023</td>\n",
       "      <td>1</td>\n",
       "      <td>...</td>\n",
       "      <td>0.0</td>\n",
       "      <td>41.375695</td>\n",
       "      <td>2.135857</td>\n",
       "      <td>30.0</td>\n",
       "      <td>08014</td>\n",
       "      <td>27.0</td>\n",
       "      <td>PG. SANT ANTONI /PL. SANTS</td>\n",
       "      <td>Sants-Montjuïc</td>\n",
       "      <td>False</td>\n",
       "      <td>0.148148</td>\n",
       "    </tr>\n",
       "    <tr>\n",
       "      <th>3</th>\n",
       "      <td>196</td>\n",
       "      <td>6</td>\n",
       "      <td>1</td>\n",
       "      <td>5</td>\n",
       "      <td>21</td>\n",
       "      <td>IN_SERVICE</td>\n",
       "      <td>1</td>\n",
       "      <td>1</td>\n",
       "      <td>2023</td>\n",
       "      <td>1</td>\n",
       "      <td>...</td>\n",
       "      <td>0.0</td>\n",
       "      <td>41.383261</td>\n",
       "      <td>2.139266</td>\n",
       "      <td>38.0</td>\n",
       "      <td>08029</td>\n",
       "      <td>27.0</td>\n",
       "      <td>C/ BERLÍN, 38</td>\n",
       "      <td>Les Corts</td>\n",
       "      <td>False</td>\n",
       "      <td>0.777778</td>\n",
       "    </tr>\n",
       "    <tr>\n",
       "      <th>4</th>\n",
       "      <td>201</td>\n",
       "      <td>2</td>\n",
       "      <td>0</td>\n",
       "      <td>2</td>\n",
       "      <td>22</td>\n",
       "      <td>IN_SERVICE</td>\n",
       "      <td>1</td>\n",
       "      <td>1</td>\n",
       "      <td>2023</td>\n",
       "      <td>1</td>\n",
       "      <td>...</td>\n",
       "      <td>0.0</td>\n",
       "      <td>41.387806</td>\n",
       "      <td>2.134422</td>\n",
       "      <td>55.0</td>\n",
       "      <td>08029</td>\n",
       "      <td>24.0</td>\n",
       "      <td>C/ NUMÀNCIA, 136</td>\n",
       "      <td>Les Corts</td>\n",
       "      <td>False</td>\n",
       "      <td>0.916667</td>\n",
       "    </tr>\n",
       "  </tbody>\n",
       "</table>\n",
       "<p>5 rows × 33 columns</p>\n",
       "</div>"
      ],
      "text/plain": [
       "   station_id  num_bikes_available  num_bikes_available_types.mechanical  \\\n",
       "0           1                   37                                    35   \n",
       "1         185                    9                                     4   \n",
       "2         188                   23                                    20   \n",
       "3         196                    6                                     1   \n",
       "4         201                    2                                     0   \n",
       "\n",
       "   num_bikes_available_types.ebike  num_docks_available      status  \\\n",
       "0                                2                    9  IN_SERVICE   \n",
       "1                                5                    8  IN_SERVICE   \n",
       "2                                3                    4  IN_SERVICE   \n",
       "3                                5                   21  IN_SERVICE   \n",
       "4                                2                   22  IN_SERVICE   \n",
       "\n",
       "   is_renting  is_returning  year  month  ...  rainfall        lat       lon  \\\n",
       "0           1             1  2023      1  ...       0.0  41.397978  2.180107   \n",
       "1           1             1  2023      1  ...       0.0  41.370372  2.138944   \n",
       "2           1             1  2023      1  ...       0.0  41.375695  2.135857   \n",
       "3           1             1  2023      1  ...       0.0  41.383261  2.139266   \n",
       "4           1             1  2023      1  ...       0.0  41.387806  2.134422   \n",
       "\n",
       "   altitude  post_code capacity                        address  \\\n",
       "0      16.0      08013     46.0  GRAN VIA CORTS CATALANES, 760   \n",
       "1      20.0      08014     17.0                     C/GAVÀ, 81   \n",
       "2      30.0      08014     27.0     PG. SANT ANTONI /PL. SANTS   \n",
       "3      38.0      08029     27.0                  C/ BERLÍN, 38   \n",
       "4      55.0      08029     24.0               C/ NUMÀNCIA, 136   \n",
       "\n",
       "         district  is_holiday  percentage_docks_available  \n",
       "0        Eixample       False                    0.195652  \n",
       "1  Sants-Montjuïc       False                    0.470588  \n",
       "2  Sants-Montjuïc       False                    0.148148  \n",
       "3       Les Corts       False                    0.777778  \n",
       "4       Les Corts       False                    0.916667  \n",
       "\n",
       "[5 rows x 33 columns]"
      ]
     },
     "execution_count": 15,
     "metadata": {},
     "output_type": "execute_result"
    }
   ],
   "source": [
    "df_2023_ml['percentage_docks_available'] = df_2023_ml['num_docks_available'] / df_2023_ml['capacity']\n",
    "df_2023_ml.head(5)"
   ]
  },
  {
   "cell_type": "code",
   "execution_count": 17,
   "metadata": {},
   "outputs": [
    {
     "data": {
      "text/plain": [
       "Index(['station_id', 'num_bikes_available',\n",
       "       'num_bikes_available_types.mechanical',\n",
       "       'num_bikes_available_types.ebike', 'num_docks_available', 'status',\n",
       "       'is_renting', 'is_returning', 'day_of_week', 'is_weekend',\n",
       "       'grouped_date', 'docking_available', 'bikes_available',\n",
       "       'bikes_available.mechanical', 'bikes_available.ebike', 'temperature',\n",
       "       'rainfall', 'lat', 'lon', 'post_code', 'altitude', 'capacity',\n",
       "       'is_holiday', 'percentage_docks_available'],\n",
       "      dtype='object')"
      ]
     },
     "execution_count": 17,
     "metadata": {},
     "output_type": "execute_result"
    }
   ],
   "source": [
    "df_2023_ml.columns"
   ]
  },
  {
   "cell_type": "code",
   "execution_count": 16,
   "metadata": {},
   "outputs": [],
   "source": [
    "#filter stations if needed\n",
    "stations_ids = df_2023_ml['station_id'].unique()\n",
    "# get 10 random stations\n",
    "import random\n",
    "filter_stations = random.sample(list(stations_ids), 10)\n",
    "filter_stations = [57, 32, 31, 378, 446]\n",
    "df_a = df_2023_ml[df_2023_ml['station_id'].isin(filter_stations)]\n",
    "#df_a = df_2023_ml"
   ]
  },
  {
   "cell_type": "markdown",
   "metadata": {},
   "source": [
    "# Randon Forest Classifier (Binary Target)"
   ]
  },
  {
   "cell_type": "markdown",
   "metadata": {},
   "source": [
    "### Pipeline"
   ]
  },
  {
   "cell_type": "code",
   "execution_count": 22,
   "metadata": {},
   "outputs": [
    {
     "data": {
      "text/html": [
       "<style>#sk-container-id-2 {\n",
       "  /* Definition of color scheme common for light and dark mode */\n",
       "  --sklearn-color-text: black;\n",
       "  --sklearn-color-line: gray;\n",
       "  /* Definition of color scheme for unfitted estimators */\n",
       "  --sklearn-color-unfitted-level-0: #fff5e6;\n",
       "  --sklearn-color-unfitted-level-1: #f6e4d2;\n",
       "  --sklearn-color-unfitted-level-2: #ffe0b3;\n",
       "  --sklearn-color-unfitted-level-3: chocolate;\n",
       "  /* Definition of color scheme for fitted estimators */\n",
       "  --sklearn-color-fitted-level-0: #f0f8ff;\n",
       "  --sklearn-color-fitted-level-1: #d4ebff;\n",
       "  --sklearn-color-fitted-level-2: #b3dbfd;\n",
       "  --sklearn-color-fitted-level-3: cornflowerblue;\n",
       "\n",
       "  /* Specific color for light theme */\n",
       "  --sklearn-color-text-on-default-background: var(--sg-text-color, var(--theme-code-foreground, var(--jp-content-font-color1, black)));\n",
       "  --sklearn-color-background: var(--sg-background-color, var(--theme-background, var(--jp-layout-color0, white)));\n",
       "  --sklearn-color-border-box: var(--sg-text-color, var(--theme-code-foreground, var(--jp-content-font-color1, black)));\n",
       "  --sklearn-color-icon: #696969;\n",
       "\n",
       "  @media (prefers-color-scheme: dark) {\n",
       "    /* Redefinition of color scheme for dark theme */\n",
       "    --sklearn-color-text-on-default-background: var(--sg-text-color, var(--theme-code-foreground, var(--jp-content-font-color1, white)));\n",
       "    --sklearn-color-background: var(--sg-background-color, var(--theme-background, var(--jp-layout-color0, #111)));\n",
       "    --sklearn-color-border-box: var(--sg-text-color, var(--theme-code-foreground, var(--jp-content-font-color1, white)));\n",
       "    --sklearn-color-icon: #878787;\n",
       "  }\n",
       "}\n",
       "\n",
       "#sk-container-id-2 {\n",
       "  color: var(--sklearn-color-text);\n",
       "}\n",
       "\n",
       "#sk-container-id-2 pre {\n",
       "  padding: 0;\n",
       "}\n",
       "\n",
       "#sk-container-id-2 input.sk-hidden--visually {\n",
       "  border: 0;\n",
       "  clip: rect(1px 1px 1px 1px);\n",
       "  clip: rect(1px, 1px, 1px, 1px);\n",
       "  height: 1px;\n",
       "  margin: -1px;\n",
       "  overflow: hidden;\n",
       "  padding: 0;\n",
       "  position: absolute;\n",
       "  width: 1px;\n",
       "}\n",
       "\n",
       "#sk-container-id-2 div.sk-dashed-wrapped {\n",
       "  border: 1px dashed var(--sklearn-color-line);\n",
       "  margin: 0 0.4em 0.5em 0.4em;\n",
       "  box-sizing: border-box;\n",
       "  padding-bottom: 0.4em;\n",
       "  background-color: var(--sklearn-color-background);\n",
       "}\n",
       "\n",
       "#sk-container-id-2 div.sk-container {\n",
       "  /* jupyter's `normalize.less` sets `[hidden] { display: none; }`\n",
       "     but bootstrap.min.css set `[hidden] { display: none !important; }`\n",
       "     so we also need the `!important` here to be able to override the\n",
       "     default hidden behavior on the sphinx rendered scikit-learn.org.\n",
       "     See: https://github.com/scikit-learn/scikit-learn/issues/21755 */\n",
       "  display: inline-block !important;\n",
       "  position: relative;\n",
       "}\n",
       "\n",
       "#sk-container-id-2 div.sk-text-repr-fallback {\n",
       "  display: none;\n",
       "}\n",
       "\n",
       "div.sk-parallel-item,\n",
       "div.sk-serial,\n",
       "div.sk-item {\n",
       "  /* draw centered vertical line to link estimators */\n",
       "  background-image: linear-gradient(var(--sklearn-color-text-on-default-background), var(--sklearn-color-text-on-default-background));\n",
       "  background-size: 2px 100%;\n",
       "  background-repeat: no-repeat;\n",
       "  background-position: center center;\n",
       "}\n",
       "\n",
       "/* Parallel-specific style estimator block */\n",
       "\n",
       "#sk-container-id-2 div.sk-parallel-item::after {\n",
       "  content: \"\";\n",
       "  width: 100%;\n",
       "  border-bottom: 2px solid var(--sklearn-color-text-on-default-background);\n",
       "  flex-grow: 1;\n",
       "}\n",
       "\n",
       "#sk-container-id-2 div.sk-parallel {\n",
       "  display: flex;\n",
       "  align-items: stretch;\n",
       "  justify-content: center;\n",
       "  background-color: var(--sklearn-color-background);\n",
       "  position: relative;\n",
       "}\n",
       "\n",
       "#sk-container-id-2 div.sk-parallel-item {\n",
       "  display: flex;\n",
       "  flex-direction: column;\n",
       "}\n",
       "\n",
       "#sk-container-id-2 div.sk-parallel-item:first-child::after {\n",
       "  align-self: flex-end;\n",
       "  width: 50%;\n",
       "}\n",
       "\n",
       "#sk-container-id-2 div.sk-parallel-item:last-child::after {\n",
       "  align-self: flex-start;\n",
       "  width: 50%;\n",
       "}\n",
       "\n",
       "#sk-container-id-2 div.sk-parallel-item:only-child::after {\n",
       "  width: 0;\n",
       "}\n",
       "\n",
       "/* Serial-specific style estimator block */\n",
       "\n",
       "#sk-container-id-2 div.sk-serial {\n",
       "  display: flex;\n",
       "  flex-direction: column;\n",
       "  align-items: center;\n",
       "  background-color: var(--sklearn-color-background);\n",
       "  padding-right: 1em;\n",
       "  padding-left: 1em;\n",
       "}\n",
       "\n",
       "\n",
       "/* Toggleable style: style used for estimator/Pipeline/ColumnTransformer box that is\n",
       "clickable and can be expanded/collapsed.\n",
       "- Pipeline and ColumnTransformer use this feature and define the default style\n",
       "- Estimators will overwrite some part of the style using the `sk-estimator` class\n",
       "*/\n",
       "\n",
       "/* Pipeline and ColumnTransformer style (default) */\n",
       "\n",
       "#sk-container-id-2 div.sk-toggleable {\n",
       "  /* Default theme specific background. It is overwritten whether we have a\n",
       "  specific estimator or a Pipeline/ColumnTransformer */\n",
       "  background-color: var(--sklearn-color-background);\n",
       "}\n",
       "\n",
       "/* Toggleable label */\n",
       "#sk-container-id-2 label.sk-toggleable__label {\n",
       "  cursor: pointer;\n",
       "  display: block;\n",
       "  width: 100%;\n",
       "  margin-bottom: 0;\n",
       "  padding: 0.5em;\n",
       "  box-sizing: border-box;\n",
       "  text-align: center;\n",
       "}\n",
       "\n",
       "#sk-container-id-2 label.sk-toggleable__label-arrow:before {\n",
       "  /* Arrow on the left of the label */\n",
       "  content: \"▸\";\n",
       "  float: left;\n",
       "  margin-right: 0.25em;\n",
       "  color: var(--sklearn-color-icon);\n",
       "}\n",
       "\n",
       "#sk-container-id-2 label.sk-toggleable__label-arrow:hover:before {\n",
       "  color: var(--sklearn-color-text);\n",
       "}\n",
       "\n",
       "/* Toggleable content - dropdown */\n",
       "\n",
       "#sk-container-id-2 div.sk-toggleable__content {\n",
       "  max-height: 0;\n",
       "  max-width: 0;\n",
       "  overflow: hidden;\n",
       "  text-align: left;\n",
       "  /* unfitted */\n",
       "  background-color: var(--sklearn-color-unfitted-level-0);\n",
       "}\n",
       "\n",
       "#sk-container-id-2 div.sk-toggleable__content.fitted {\n",
       "  /* fitted */\n",
       "  background-color: var(--sklearn-color-fitted-level-0);\n",
       "}\n",
       "\n",
       "#sk-container-id-2 div.sk-toggleable__content pre {\n",
       "  margin: 0.2em;\n",
       "  border-radius: 0.25em;\n",
       "  color: var(--sklearn-color-text);\n",
       "  /* unfitted */\n",
       "  background-color: var(--sklearn-color-unfitted-level-0);\n",
       "}\n",
       "\n",
       "#sk-container-id-2 div.sk-toggleable__content.fitted pre {\n",
       "  /* unfitted */\n",
       "  background-color: var(--sklearn-color-fitted-level-0);\n",
       "}\n",
       "\n",
       "#sk-container-id-2 input.sk-toggleable__control:checked~div.sk-toggleable__content {\n",
       "  /* Expand drop-down */\n",
       "  max-height: 200px;\n",
       "  max-width: 100%;\n",
       "  overflow: auto;\n",
       "}\n",
       "\n",
       "#sk-container-id-2 input.sk-toggleable__control:checked~label.sk-toggleable__label-arrow:before {\n",
       "  content: \"▾\";\n",
       "}\n",
       "\n",
       "/* Pipeline/ColumnTransformer-specific style */\n",
       "\n",
       "#sk-container-id-2 div.sk-label input.sk-toggleable__control:checked~label.sk-toggleable__label {\n",
       "  color: var(--sklearn-color-text);\n",
       "  background-color: var(--sklearn-color-unfitted-level-2);\n",
       "}\n",
       "\n",
       "#sk-container-id-2 div.sk-label.fitted input.sk-toggleable__control:checked~label.sk-toggleable__label {\n",
       "  background-color: var(--sklearn-color-fitted-level-2);\n",
       "}\n",
       "\n",
       "/* Estimator-specific style */\n",
       "\n",
       "/* Colorize estimator box */\n",
       "#sk-container-id-2 div.sk-estimator input.sk-toggleable__control:checked~label.sk-toggleable__label {\n",
       "  /* unfitted */\n",
       "  background-color: var(--sklearn-color-unfitted-level-2);\n",
       "}\n",
       "\n",
       "#sk-container-id-2 div.sk-estimator.fitted input.sk-toggleable__control:checked~label.sk-toggleable__label {\n",
       "  /* fitted */\n",
       "  background-color: var(--sklearn-color-fitted-level-2);\n",
       "}\n",
       "\n",
       "#sk-container-id-2 div.sk-label label.sk-toggleable__label,\n",
       "#sk-container-id-2 div.sk-label label {\n",
       "  /* The background is the default theme color */\n",
       "  color: var(--sklearn-color-text-on-default-background);\n",
       "}\n",
       "\n",
       "/* On hover, darken the color of the background */\n",
       "#sk-container-id-2 div.sk-label:hover label.sk-toggleable__label {\n",
       "  color: var(--sklearn-color-text);\n",
       "  background-color: var(--sklearn-color-unfitted-level-2);\n",
       "}\n",
       "\n",
       "/* Label box, darken color on hover, fitted */\n",
       "#sk-container-id-2 div.sk-label.fitted:hover label.sk-toggleable__label.fitted {\n",
       "  color: var(--sklearn-color-text);\n",
       "  background-color: var(--sklearn-color-fitted-level-2);\n",
       "}\n",
       "\n",
       "/* Estimator label */\n",
       "\n",
       "#sk-container-id-2 div.sk-label label {\n",
       "  font-family: monospace;\n",
       "  font-weight: bold;\n",
       "  display: inline-block;\n",
       "  line-height: 1.2em;\n",
       "}\n",
       "\n",
       "#sk-container-id-2 div.sk-label-container {\n",
       "  text-align: center;\n",
       "}\n",
       "\n",
       "/* Estimator-specific */\n",
       "#sk-container-id-2 div.sk-estimator {\n",
       "  font-family: monospace;\n",
       "  border: 1px dotted var(--sklearn-color-border-box);\n",
       "  border-radius: 0.25em;\n",
       "  box-sizing: border-box;\n",
       "  margin-bottom: 0.5em;\n",
       "  /* unfitted */\n",
       "  background-color: var(--sklearn-color-unfitted-level-0);\n",
       "}\n",
       "\n",
       "#sk-container-id-2 div.sk-estimator.fitted {\n",
       "  /* fitted */\n",
       "  background-color: var(--sklearn-color-fitted-level-0);\n",
       "}\n",
       "\n",
       "/* on hover */\n",
       "#sk-container-id-2 div.sk-estimator:hover {\n",
       "  /* unfitted */\n",
       "  background-color: var(--sklearn-color-unfitted-level-2);\n",
       "}\n",
       "\n",
       "#sk-container-id-2 div.sk-estimator.fitted:hover {\n",
       "  /* fitted */\n",
       "  background-color: var(--sklearn-color-fitted-level-2);\n",
       "}\n",
       "\n",
       "/* Specification for estimator info (e.g. \"i\" and \"?\") */\n",
       "\n",
       "/* Common style for \"i\" and \"?\" */\n",
       "\n",
       ".sk-estimator-doc-link,\n",
       "a:link.sk-estimator-doc-link,\n",
       "a:visited.sk-estimator-doc-link {\n",
       "  float: right;\n",
       "  font-size: smaller;\n",
       "  line-height: 1em;\n",
       "  font-family: monospace;\n",
       "  background-color: var(--sklearn-color-background);\n",
       "  border-radius: 1em;\n",
       "  height: 1em;\n",
       "  width: 1em;\n",
       "  text-decoration: none !important;\n",
       "  margin-left: 1ex;\n",
       "  /* unfitted */\n",
       "  border: var(--sklearn-color-unfitted-level-1) 1pt solid;\n",
       "  color: var(--sklearn-color-unfitted-level-1);\n",
       "}\n",
       "\n",
       ".sk-estimator-doc-link.fitted,\n",
       "a:link.sk-estimator-doc-link.fitted,\n",
       "a:visited.sk-estimator-doc-link.fitted {\n",
       "  /* fitted */\n",
       "  border: var(--sklearn-color-fitted-level-1) 1pt solid;\n",
       "  color: var(--sklearn-color-fitted-level-1);\n",
       "}\n",
       "\n",
       "/* On hover */\n",
       "div.sk-estimator:hover .sk-estimator-doc-link:hover,\n",
       ".sk-estimator-doc-link:hover,\n",
       "div.sk-label-container:hover .sk-estimator-doc-link:hover,\n",
       ".sk-estimator-doc-link:hover {\n",
       "  /* unfitted */\n",
       "  background-color: var(--sklearn-color-unfitted-level-3);\n",
       "  color: var(--sklearn-color-background);\n",
       "  text-decoration: none;\n",
       "}\n",
       "\n",
       "div.sk-estimator.fitted:hover .sk-estimator-doc-link.fitted:hover,\n",
       ".sk-estimator-doc-link.fitted:hover,\n",
       "div.sk-label-container:hover .sk-estimator-doc-link.fitted:hover,\n",
       ".sk-estimator-doc-link.fitted:hover {\n",
       "  /* fitted */\n",
       "  background-color: var(--sklearn-color-fitted-level-3);\n",
       "  color: var(--sklearn-color-background);\n",
       "  text-decoration: none;\n",
       "}\n",
       "\n",
       "/* Span, style for the box shown on hovering the info icon */\n",
       ".sk-estimator-doc-link span {\n",
       "  display: none;\n",
       "  z-index: 9999;\n",
       "  position: relative;\n",
       "  font-weight: normal;\n",
       "  right: .2ex;\n",
       "  padding: .5ex;\n",
       "  margin: .5ex;\n",
       "  width: min-content;\n",
       "  min-width: 20ex;\n",
       "  max-width: 50ex;\n",
       "  color: var(--sklearn-color-text);\n",
       "  box-shadow: 2pt 2pt 4pt #999;\n",
       "  /* unfitted */\n",
       "  background: var(--sklearn-color-unfitted-level-0);\n",
       "  border: .5pt solid var(--sklearn-color-unfitted-level-3);\n",
       "}\n",
       "\n",
       ".sk-estimator-doc-link.fitted span {\n",
       "  /* fitted */\n",
       "  background: var(--sklearn-color-fitted-level-0);\n",
       "  border: var(--sklearn-color-fitted-level-3);\n",
       "}\n",
       "\n",
       ".sk-estimator-doc-link:hover span {\n",
       "  display: block;\n",
       "}\n",
       "\n",
       "/* \"?\"-specific style due to the `<a>` HTML tag */\n",
       "\n",
       "#sk-container-id-2 a.estimator_doc_link {\n",
       "  float: right;\n",
       "  font-size: 1rem;\n",
       "  line-height: 1em;\n",
       "  font-family: monospace;\n",
       "  background-color: var(--sklearn-color-background);\n",
       "  border-radius: 1rem;\n",
       "  height: 1rem;\n",
       "  width: 1rem;\n",
       "  text-decoration: none;\n",
       "  /* unfitted */\n",
       "  color: var(--sklearn-color-unfitted-level-1);\n",
       "  border: var(--sklearn-color-unfitted-level-1) 1pt solid;\n",
       "}\n",
       "\n",
       "#sk-container-id-2 a.estimator_doc_link.fitted {\n",
       "  /* fitted */\n",
       "  border: var(--sklearn-color-fitted-level-1) 1pt solid;\n",
       "  color: var(--sklearn-color-fitted-level-1);\n",
       "}\n",
       "\n",
       "/* On hover */\n",
       "#sk-container-id-2 a.estimator_doc_link:hover {\n",
       "  /* unfitted */\n",
       "  background-color: var(--sklearn-color-unfitted-level-3);\n",
       "  color: var(--sklearn-color-background);\n",
       "  text-decoration: none;\n",
       "}\n",
       "\n",
       "#sk-container-id-2 a.estimator_doc_link.fitted:hover {\n",
       "  /* fitted */\n",
       "  background-color: var(--sklearn-color-fitted-level-3);\n",
       "}\n",
       "</style><div id=\"sk-container-id-2\" class=\"sk-top-container\"><div class=\"sk-text-repr-fallback\"><pre>Pipeline(steps=[(&#x27;preprocessor&#x27;,\n",
       "                 ColumnTransformer(transformers=[(&#x27;num&#x27;, StandardScaler(),\n",
       "                                                  [&#x27;temperature&#x27;, &#x27;rainfall&#x27;,\n",
       "                                                   &#x27;capacity&#x27;, &#x27;altitude&#x27;]),\n",
       "                                                 (&#x27;cat&#x27;,\n",
       "                                                  OneHotEncoder(handle_unknown=&#x27;ignore&#x27;),\n",
       "                                                  [&#x27;day_of_week&#x27;, &#x27;season&#x27;,\n",
       "                                                   &#x27;station_id&#x27;, &#x27;is_weekend&#x27;,\n",
       "                                                   &#x27;is_returning&#x27;, &#x27;hour&#x27;,\n",
       "                                                   &#x27;grouped_minute&#x27;])])),\n",
       "                (&#x27;model&#x27;,\n",
       "                 RandomForestClassifier(max_depth=30, min_samples_split=10,\n",
       "                                        n_estimators=300, random_state=42))])</pre><b>In a Jupyter environment, please rerun this cell to show the HTML representation or trust the notebook. <br />On GitHub, the HTML representation is unable to render, please try loading this page with nbviewer.org.</b></div><div class=\"sk-container\" hidden><div class=\"sk-item sk-dashed-wrapped\"><div class=\"sk-label-container\"><div class=\"sk-label  sk-toggleable\"><input class=\"sk-toggleable__control sk-hidden--visually\" id=\"sk-estimator-id-8\" type=\"checkbox\" ><label for=\"sk-estimator-id-8\" class=\"sk-toggleable__label  sk-toggleable__label-arrow \">&nbsp;&nbsp;Pipeline<a class=\"sk-estimator-doc-link \" rel=\"noreferrer\" target=\"_blank\" href=\"https://scikit-learn.org/1.4/modules/generated/sklearn.pipeline.Pipeline.html\">?<span>Documentation for Pipeline</span></a><span class=\"sk-estimator-doc-link \">i<span>Not fitted</span></span></label><div class=\"sk-toggleable__content \"><pre>Pipeline(steps=[(&#x27;preprocessor&#x27;,\n",
       "                 ColumnTransformer(transformers=[(&#x27;num&#x27;, StandardScaler(),\n",
       "                                                  [&#x27;temperature&#x27;, &#x27;rainfall&#x27;,\n",
       "                                                   &#x27;capacity&#x27;, &#x27;altitude&#x27;]),\n",
       "                                                 (&#x27;cat&#x27;,\n",
       "                                                  OneHotEncoder(handle_unknown=&#x27;ignore&#x27;),\n",
       "                                                  [&#x27;day_of_week&#x27;, &#x27;season&#x27;,\n",
       "                                                   &#x27;station_id&#x27;, &#x27;is_weekend&#x27;,\n",
       "                                                   &#x27;is_returning&#x27;, &#x27;hour&#x27;,\n",
       "                                                   &#x27;grouped_minute&#x27;])])),\n",
       "                (&#x27;model&#x27;,\n",
       "                 RandomForestClassifier(max_depth=30, min_samples_split=10,\n",
       "                                        n_estimators=300, random_state=42))])</pre></div> </div></div><div class=\"sk-serial\"><div class=\"sk-item sk-dashed-wrapped\"><div class=\"sk-label-container\"><div class=\"sk-label  sk-toggleable\"><input class=\"sk-toggleable__control sk-hidden--visually\" id=\"sk-estimator-id-9\" type=\"checkbox\" ><label for=\"sk-estimator-id-9\" class=\"sk-toggleable__label  sk-toggleable__label-arrow \">&nbsp;preprocessor: ColumnTransformer<a class=\"sk-estimator-doc-link \" rel=\"noreferrer\" target=\"_blank\" href=\"https://scikit-learn.org/1.4/modules/generated/sklearn.compose.ColumnTransformer.html\">?<span>Documentation for preprocessor: ColumnTransformer</span></a></label><div class=\"sk-toggleable__content \"><pre>ColumnTransformer(transformers=[(&#x27;num&#x27;, StandardScaler(),\n",
       "                                 [&#x27;temperature&#x27;, &#x27;rainfall&#x27;, &#x27;capacity&#x27;,\n",
       "                                  &#x27;altitude&#x27;]),\n",
       "                                (&#x27;cat&#x27;, OneHotEncoder(handle_unknown=&#x27;ignore&#x27;),\n",
       "                                 [&#x27;day_of_week&#x27;, &#x27;season&#x27;, &#x27;station_id&#x27;,\n",
       "                                  &#x27;is_weekend&#x27;, &#x27;is_returning&#x27;, &#x27;hour&#x27;,\n",
       "                                  &#x27;grouped_minute&#x27;])])</pre></div> </div></div><div class=\"sk-parallel\"><div class=\"sk-parallel-item\"><div class=\"sk-item\"><div class=\"sk-label-container\"><div class=\"sk-label  sk-toggleable\"><input class=\"sk-toggleable__control sk-hidden--visually\" id=\"sk-estimator-id-10\" type=\"checkbox\" ><label for=\"sk-estimator-id-10\" class=\"sk-toggleable__label  sk-toggleable__label-arrow \">num</label><div class=\"sk-toggleable__content \"><pre>[&#x27;temperature&#x27;, &#x27;rainfall&#x27;, &#x27;capacity&#x27;, &#x27;altitude&#x27;]</pre></div> </div></div><div class=\"sk-serial\"><div class=\"sk-item\"><div class=\"sk-estimator  sk-toggleable\"><input class=\"sk-toggleable__control sk-hidden--visually\" id=\"sk-estimator-id-11\" type=\"checkbox\" ><label for=\"sk-estimator-id-11\" class=\"sk-toggleable__label  sk-toggleable__label-arrow \">&nbsp;StandardScaler<a class=\"sk-estimator-doc-link \" rel=\"noreferrer\" target=\"_blank\" href=\"https://scikit-learn.org/1.4/modules/generated/sklearn.preprocessing.StandardScaler.html\">?<span>Documentation for StandardScaler</span></a></label><div class=\"sk-toggleable__content \"><pre>StandardScaler()</pre></div> </div></div></div></div></div><div class=\"sk-parallel-item\"><div class=\"sk-item\"><div class=\"sk-label-container\"><div class=\"sk-label  sk-toggleable\"><input class=\"sk-toggleable__control sk-hidden--visually\" id=\"sk-estimator-id-12\" type=\"checkbox\" ><label for=\"sk-estimator-id-12\" class=\"sk-toggleable__label  sk-toggleable__label-arrow \">cat</label><div class=\"sk-toggleable__content \"><pre>[&#x27;day_of_week&#x27;, &#x27;season&#x27;, &#x27;station_id&#x27;, &#x27;is_weekend&#x27;, &#x27;is_returning&#x27;, &#x27;hour&#x27;, &#x27;grouped_minute&#x27;]</pre></div> </div></div><div class=\"sk-serial\"><div class=\"sk-item\"><div class=\"sk-estimator  sk-toggleable\"><input class=\"sk-toggleable__control sk-hidden--visually\" id=\"sk-estimator-id-13\" type=\"checkbox\" ><label for=\"sk-estimator-id-13\" class=\"sk-toggleable__label  sk-toggleable__label-arrow \">&nbsp;OneHotEncoder<a class=\"sk-estimator-doc-link \" rel=\"noreferrer\" target=\"_blank\" href=\"https://scikit-learn.org/1.4/modules/generated/sklearn.preprocessing.OneHotEncoder.html\">?<span>Documentation for OneHotEncoder</span></a></label><div class=\"sk-toggleable__content \"><pre>OneHotEncoder(handle_unknown=&#x27;ignore&#x27;)</pre></div> </div></div></div></div></div></div></div><div class=\"sk-item\"><div class=\"sk-estimator  sk-toggleable\"><input class=\"sk-toggleable__control sk-hidden--visually\" id=\"sk-estimator-id-14\" type=\"checkbox\" ><label for=\"sk-estimator-id-14\" class=\"sk-toggleable__label  sk-toggleable__label-arrow \">&nbsp;RandomForestClassifier<a class=\"sk-estimator-doc-link \" rel=\"noreferrer\" target=\"_blank\" href=\"https://scikit-learn.org/1.4/modules/generated/sklearn.ensemble.RandomForestClassifier.html\">?<span>Documentation for RandomForestClassifier</span></a></label><div class=\"sk-toggleable__content \"><pre>RandomForestClassifier(max_depth=30, min_samples_split=10, n_estimators=300,\n",
       "                       random_state=42)</pre></div> </div></div></div></div></div></div>"
      ],
      "text/plain": [
       "Pipeline(steps=[('preprocessor',\n",
       "                 ColumnTransformer(transformers=[('num', StandardScaler(),\n",
       "                                                  ['temperature', 'rainfall',\n",
       "                                                   'capacity', 'altitude']),\n",
       "                                                 ('cat',\n",
       "                                                  OneHotEncoder(handle_unknown='ignore'),\n",
       "                                                  ['day_of_week', 'season',\n",
       "                                                   'station_id', 'is_weekend',\n",
       "                                                   'is_returning', 'hour',\n",
       "                                                   'grouped_minute'])])),\n",
       "                ('model',\n",
       "                 RandomForestClassifier(max_depth=30, min_samples_split=10,\n",
       "                                        n_estimators=300, random_state=42))])"
      ]
     },
     "execution_count": 22,
     "metadata": {},
     "output_type": "execute_result"
    }
   ],
   "source": [
    "from sklearn.pipeline import Pipeline\n",
    "from sklearn.compose import ColumnTransformer\n",
    "from sklearn.preprocessing import StandardScaler, OneHotEncoder\n",
    "from sklearn.model_selection import train_test_split\n",
    "from sklearn.ensemble import RandomForestClassifier\n",
    "\n",
    "df_rf = df_a.copy()\n",
    "\n",
    "# Select features and target\n",
    "features = ['day_of_week', 'hour', 'grouped_minute', 'temperature', 'rainfall',\n",
    "            'capacity',  'season', 'altitude', 'station_id', 'is_weekend', 'is_returning']\n",
    "#removed month and day\n",
    "#removed feautures that are not important disctrict, is_holiday\n",
    "target = 'docking_available'\n",
    "\n",
    "X = df_rf[features]\n",
    "y = df_rf[target]\n",
    "\n",
    "#I could remove day\n",
    "categorical_features = ['day_of_week',  'season', 'station_id', 'is_weekend', 'is_returning', 'hour', 'grouped_minute']\n",
    "numerical_features = [ 'temperature', 'rainfall', 'capacity', 'altitude']\n",
    "\n",
    "\n",
    "# preprocessing for numerical data and categorical data\n",
    "numerical_transformer = StandardScaler()\n",
    "categorical_transformer = OneHotEncoder(handle_unknown='ignore')\n",
    "\n",
    "preprocessor = ColumnTransformer(\n",
    "    transformers=[\n",
    "        ('num', numerical_transformer, numerical_features),\n",
    "        ('cat', categorical_transformer, categorical_features)\n",
    "    ])\n",
    "\n",
    "#Grid search Best Parameters: {'model__max_depth': 30, 'model__min_samples_leaf': 1, 'model__min_samples_split': 10, 'model__n_estimators': 300}\n",
    "model_rf = RandomForestClassifier(n_estimators=300,max_depth=30,min_samples_leaf=1,min_samples_split=10, random_state=42)\n",
    "\n",
    "#Create pipeline\n",
    "pipeline = Pipeline(steps=[('preprocessor', preprocessor),\n",
    "                           ('model', model_rf)])\n",
    "\n",
    "pipeline\n"
   ]
  },
  {
   "cell_type": "markdown",
   "metadata": {},
   "source": [
    "### Train"
   ]
  },
  {
   "cell_type": "code",
   "execution_count": 23,
   "metadata": {},
   "outputs": [],
   "source": [
    "import pandas as pd\n",
    "from sklearn.model_selection import cross_val_score, train_test_split\n",
    "from sklearn.ensemble import RandomForestClassifier\n",
    "from sklearn.metrics import accuracy_score, classification_report, confusion_matrix, f1_score, precision_score, recall_score, roc_auc_score\n",
    "\n",
    "\n",
    "\n",
    "X_train, X_test, y_train, y_test = train_test_split(\n",
    "    X, y, test_size=0.2, random_state=42)\n",
    "\n",
    "# Fit the model\n",
    "pipeline.fit(X_train, y_train)\n",
    "\n",
    "# Predictions\n",
    "y_pred = pipeline.predict(X_test)\n",
    "\n",
    "# Evaluate Accuracy, precision, recall, F1-score, ROC curve, AUC.\n",
    "accuracy = accuracy_score(y_test, y_pred)\n",
    "precision = precision_score(y_test, y_pred)\n",
    "recall = recall_score(y_test, y_pred)\n",
    "f1 = f1_score(y_test, y_pred)\n",
    "roc_auc = roc_auc_score(y_test, y_pred)\n",
    "conf_matrix = confusion_matrix(y_test, y_pred)\n",
    "class_report = classification_report(y_test, y_pred)\n",
    "\n",
    "print(f\"Accuracy: {accuracy}\")\n",
    "print(\"Confusion Matrix:\\n\", conf_matrix)\n",
    "print(\"Classification Report:\\n\", class_report)\n",
    "print(\"Precision: \", precision)\n",
    "print(\"Recall: \", recall)\n",
    "print(\"F1 Score: \", f1)\n",
    "print(\"ROC AUC: \", roc_auc)"
   ]
  },
  {
   "cell_type": "markdown",
   "metadata": {},
   "source": [
    "## Confusion Matrix"
   ]
  },
  {
   "cell_type": "code",
   "execution_count": 19,
   "metadata": {},
   "outputs": [
    {
     "data": {
      "application/vnd.plotly.v1+json": {
       "config": {
        "plotlyServerURL": "https://plot.ly"
       },
       "data": [
        {
         "coloraxis": "coloraxis",
         "hovertemplate": "Predicted: %{x}<br>True: %{y}<br>Count: %{z}<extra></extra>",
         "name": "0",
         "texttemplate": "%{z}",
         "type": "heatmap",
         "xaxis": "x",
         "yaxis": "y",
         "z": [
          [
           1799,
           6909
          ],
          [
           867,
           47114
          ]
         ]
        }
       ],
       "layout": {
        "coloraxis": {
         "colorbar": {
          "title": {
           "text": "Count"
          }
         },
         "colorscale": [
          [
           0,
           "#0d0887"
          ],
          [
           0.1111111111111111,
           "#46039f"
          ],
          [
           0.2222222222222222,
           "#7201a8"
          ],
          [
           0.3333333333333333,
           "#9c179e"
          ],
          [
           0.4444444444444444,
           "#bd3786"
          ],
          [
           0.5555555555555556,
           "#d8576b"
          ],
          [
           0.6666666666666666,
           "#ed7953"
          ],
          [
           0.7777777777777778,
           "#fb9f3a"
          ],
          [
           0.8888888888888888,
           "#fdca26"
          ],
          [
           1,
           "#f0f921"
          ]
         ]
        },
        "margin": {
         "t": 60
        },
        "template": {
         "data": {
          "bar": [
           {
            "error_x": {
             "color": "#2a3f5f"
            },
            "error_y": {
             "color": "#2a3f5f"
            },
            "marker": {
             "line": {
              "color": "#E5ECF6",
              "width": 0.5
             },
             "pattern": {
              "fillmode": "overlay",
              "size": 10,
              "solidity": 0.2
             }
            },
            "type": "bar"
           }
          ],
          "barpolar": [
           {
            "marker": {
             "line": {
              "color": "#E5ECF6",
              "width": 0.5
             },
             "pattern": {
              "fillmode": "overlay",
              "size": 10,
              "solidity": 0.2
             }
            },
            "type": "barpolar"
           }
          ],
          "carpet": [
           {
            "aaxis": {
             "endlinecolor": "#2a3f5f",
             "gridcolor": "white",
             "linecolor": "white",
             "minorgridcolor": "white",
             "startlinecolor": "#2a3f5f"
            },
            "baxis": {
             "endlinecolor": "#2a3f5f",
             "gridcolor": "white",
             "linecolor": "white",
             "minorgridcolor": "white",
             "startlinecolor": "#2a3f5f"
            },
            "type": "carpet"
           }
          ],
          "choropleth": [
           {
            "colorbar": {
             "outlinewidth": 0,
             "ticks": ""
            },
            "type": "choropleth"
           }
          ],
          "contour": [
           {
            "colorbar": {
             "outlinewidth": 0,
             "ticks": ""
            },
            "colorscale": [
             [
              0,
              "#0d0887"
             ],
             [
              0.1111111111111111,
              "#46039f"
             ],
             [
              0.2222222222222222,
              "#7201a8"
             ],
             [
              0.3333333333333333,
              "#9c179e"
             ],
             [
              0.4444444444444444,
              "#bd3786"
             ],
             [
              0.5555555555555556,
              "#d8576b"
             ],
             [
              0.6666666666666666,
              "#ed7953"
             ],
             [
              0.7777777777777778,
              "#fb9f3a"
             ],
             [
              0.8888888888888888,
              "#fdca26"
             ],
             [
              1,
              "#f0f921"
             ]
            ],
            "type": "contour"
           }
          ],
          "contourcarpet": [
           {
            "colorbar": {
             "outlinewidth": 0,
             "ticks": ""
            },
            "type": "contourcarpet"
           }
          ],
          "heatmap": [
           {
            "colorbar": {
             "outlinewidth": 0,
             "ticks": ""
            },
            "colorscale": [
             [
              0,
              "#0d0887"
             ],
             [
              0.1111111111111111,
              "#46039f"
             ],
             [
              0.2222222222222222,
              "#7201a8"
             ],
             [
              0.3333333333333333,
              "#9c179e"
             ],
             [
              0.4444444444444444,
              "#bd3786"
             ],
             [
              0.5555555555555556,
              "#d8576b"
             ],
             [
              0.6666666666666666,
              "#ed7953"
             ],
             [
              0.7777777777777778,
              "#fb9f3a"
             ],
             [
              0.8888888888888888,
              "#fdca26"
             ],
             [
              1,
              "#f0f921"
             ]
            ],
            "type": "heatmap"
           }
          ],
          "heatmapgl": [
           {
            "colorbar": {
             "outlinewidth": 0,
             "ticks": ""
            },
            "colorscale": [
             [
              0,
              "#0d0887"
             ],
             [
              0.1111111111111111,
              "#46039f"
             ],
             [
              0.2222222222222222,
              "#7201a8"
             ],
             [
              0.3333333333333333,
              "#9c179e"
             ],
             [
              0.4444444444444444,
              "#bd3786"
             ],
             [
              0.5555555555555556,
              "#d8576b"
             ],
             [
              0.6666666666666666,
              "#ed7953"
             ],
             [
              0.7777777777777778,
              "#fb9f3a"
             ],
             [
              0.8888888888888888,
              "#fdca26"
             ],
             [
              1,
              "#f0f921"
             ]
            ],
            "type": "heatmapgl"
           }
          ],
          "histogram": [
           {
            "marker": {
             "pattern": {
              "fillmode": "overlay",
              "size": 10,
              "solidity": 0.2
             }
            },
            "type": "histogram"
           }
          ],
          "histogram2d": [
           {
            "colorbar": {
             "outlinewidth": 0,
             "ticks": ""
            },
            "colorscale": [
             [
              0,
              "#0d0887"
             ],
             [
              0.1111111111111111,
              "#46039f"
             ],
             [
              0.2222222222222222,
              "#7201a8"
             ],
             [
              0.3333333333333333,
              "#9c179e"
             ],
             [
              0.4444444444444444,
              "#bd3786"
             ],
             [
              0.5555555555555556,
              "#d8576b"
             ],
             [
              0.6666666666666666,
              "#ed7953"
             ],
             [
              0.7777777777777778,
              "#fb9f3a"
             ],
             [
              0.8888888888888888,
              "#fdca26"
             ],
             [
              1,
              "#f0f921"
             ]
            ],
            "type": "histogram2d"
           }
          ],
          "histogram2dcontour": [
           {
            "colorbar": {
             "outlinewidth": 0,
             "ticks": ""
            },
            "colorscale": [
             [
              0,
              "#0d0887"
             ],
             [
              0.1111111111111111,
              "#46039f"
             ],
             [
              0.2222222222222222,
              "#7201a8"
             ],
             [
              0.3333333333333333,
              "#9c179e"
             ],
             [
              0.4444444444444444,
              "#bd3786"
             ],
             [
              0.5555555555555556,
              "#d8576b"
             ],
             [
              0.6666666666666666,
              "#ed7953"
             ],
             [
              0.7777777777777778,
              "#fb9f3a"
             ],
             [
              0.8888888888888888,
              "#fdca26"
             ],
             [
              1,
              "#f0f921"
             ]
            ],
            "type": "histogram2dcontour"
           }
          ],
          "mesh3d": [
           {
            "colorbar": {
             "outlinewidth": 0,
             "ticks": ""
            },
            "type": "mesh3d"
           }
          ],
          "parcoords": [
           {
            "line": {
             "colorbar": {
              "outlinewidth": 0,
              "ticks": ""
             }
            },
            "type": "parcoords"
           }
          ],
          "pie": [
           {
            "automargin": true,
            "type": "pie"
           }
          ],
          "scatter": [
           {
            "fillpattern": {
             "fillmode": "overlay",
             "size": 10,
             "solidity": 0.2
            },
            "type": "scatter"
           }
          ],
          "scatter3d": [
           {
            "line": {
             "colorbar": {
              "outlinewidth": 0,
              "ticks": ""
             }
            },
            "marker": {
             "colorbar": {
              "outlinewidth": 0,
              "ticks": ""
             }
            },
            "type": "scatter3d"
           }
          ],
          "scattercarpet": [
           {
            "marker": {
             "colorbar": {
              "outlinewidth": 0,
              "ticks": ""
             }
            },
            "type": "scattercarpet"
           }
          ],
          "scattergeo": [
           {
            "marker": {
             "colorbar": {
              "outlinewidth": 0,
              "ticks": ""
             }
            },
            "type": "scattergeo"
           }
          ],
          "scattergl": [
           {
            "marker": {
             "colorbar": {
              "outlinewidth": 0,
              "ticks": ""
             }
            },
            "type": "scattergl"
           }
          ],
          "scattermapbox": [
           {
            "marker": {
             "colorbar": {
              "outlinewidth": 0,
              "ticks": ""
             }
            },
            "type": "scattermapbox"
           }
          ],
          "scatterpolar": [
           {
            "marker": {
             "colorbar": {
              "outlinewidth": 0,
              "ticks": ""
             }
            },
            "type": "scatterpolar"
           }
          ],
          "scatterpolargl": [
           {
            "marker": {
             "colorbar": {
              "outlinewidth": 0,
              "ticks": ""
             }
            },
            "type": "scatterpolargl"
           }
          ],
          "scatterternary": [
           {
            "marker": {
             "colorbar": {
              "outlinewidth": 0,
              "ticks": ""
             }
            },
            "type": "scatterternary"
           }
          ],
          "surface": [
           {
            "colorbar": {
             "outlinewidth": 0,
             "ticks": ""
            },
            "colorscale": [
             [
              0,
              "#0d0887"
             ],
             [
              0.1111111111111111,
              "#46039f"
             ],
             [
              0.2222222222222222,
              "#7201a8"
             ],
             [
              0.3333333333333333,
              "#9c179e"
             ],
             [
              0.4444444444444444,
              "#bd3786"
             ],
             [
              0.5555555555555556,
              "#d8576b"
             ],
             [
              0.6666666666666666,
              "#ed7953"
             ],
             [
              0.7777777777777778,
              "#fb9f3a"
             ],
             [
              0.8888888888888888,
              "#fdca26"
             ],
             [
              1,
              "#f0f921"
             ]
            ],
            "type": "surface"
           }
          ],
          "table": [
           {
            "cells": {
             "fill": {
              "color": "#EBF0F8"
             },
             "line": {
              "color": "white"
             }
            },
            "header": {
             "fill": {
              "color": "#C8D4E3"
             },
             "line": {
              "color": "white"
             }
            },
            "type": "table"
           }
          ]
         },
         "layout": {
          "annotationdefaults": {
           "arrowcolor": "#2a3f5f",
           "arrowhead": 0,
           "arrowwidth": 1
          },
          "autotypenumbers": "strict",
          "coloraxis": {
           "colorbar": {
            "outlinewidth": 0,
            "ticks": ""
           }
          },
          "colorscale": {
           "diverging": [
            [
             0,
             "#8e0152"
            ],
            [
             0.1,
             "#c51b7d"
            ],
            [
             0.2,
             "#de77ae"
            ],
            [
             0.3,
             "#f1b6da"
            ],
            [
             0.4,
             "#fde0ef"
            ],
            [
             0.5,
             "#f7f7f7"
            ],
            [
             0.6,
             "#e6f5d0"
            ],
            [
             0.7,
             "#b8e186"
            ],
            [
             0.8,
             "#7fbc41"
            ],
            [
             0.9,
             "#4d9221"
            ],
            [
             1,
             "#276419"
            ]
           ],
           "sequential": [
            [
             0,
             "#0d0887"
            ],
            [
             0.1111111111111111,
             "#46039f"
            ],
            [
             0.2222222222222222,
             "#7201a8"
            ],
            [
             0.3333333333333333,
             "#9c179e"
            ],
            [
             0.4444444444444444,
             "#bd3786"
            ],
            [
             0.5555555555555556,
             "#d8576b"
            ],
            [
             0.6666666666666666,
             "#ed7953"
            ],
            [
             0.7777777777777778,
             "#fb9f3a"
            ],
            [
             0.8888888888888888,
             "#fdca26"
            ],
            [
             1,
             "#f0f921"
            ]
           ],
           "sequentialminus": [
            [
             0,
             "#0d0887"
            ],
            [
             0.1111111111111111,
             "#46039f"
            ],
            [
             0.2222222222222222,
             "#7201a8"
            ],
            [
             0.3333333333333333,
             "#9c179e"
            ],
            [
             0.4444444444444444,
             "#bd3786"
            ],
            [
             0.5555555555555556,
             "#d8576b"
            ],
            [
             0.6666666666666666,
             "#ed7953"
            ],
            [
             0.7777777777777778,
             "#fb9f3a"
            ],
            [
             0.8888888888888888,
             "#fdca26"
            ],
            [
             1,
             "#f0f921"
            ]
           ]
          },
          "colorway": [
           "#636efa",
           "#EF553B",
           "#00cc96",
           "#ab63fa",
           "#FFA15A",
           "#19d3f3",
           "#FF6692",
           "#B6E880",
           "#FF97FF",
           "#FECB52"
          ],
          "font": {
           "color": "#2a3f5f"
          },
          "geo": {
           "bgcolor": "white",
           "lakecolor": "white",
           "landcolor": "#E5ECF6",
           "showlakes": true,
           "showland": true,
           "subunitcolor": "white"
          },
          "hoverlabel": {
           "align": "left"
          },
          "hovermode": "closest",
          "mapbox": {
           "style": "light"
          },
          "paper_bgcolor": "white",
          "plot_bgcolor": "#E5ECF6",
          "polar": {
           "angularaxis": {
            "gridcolor": "white",
            "linecolor": "white",
            "ticks": ""
           },
           "bgcolor": "#E5ECF6",
           "radialaxis": {
            "gridcolor": "white",
            "linecolor": "white",
            "ticks": ""
           }
          },
          "scene": {
           "xaxis": {
            "backgroundcolor": "#E5ECF6",
            "gridcolor": "white",
            "gridwidth": 2,
            "linecolor": "white",
            "showbackground": true,
            "ticks": "",
            "zerolinecolor": "white"
           },
           "yaxis": {
            "backgroundcolor": "#E5ECF6",
            "gridcolor": "white",
            "gridwidth": 2,
            "linecolor": "white",
            "showbackground": true,
            "ticks": "",
            "zerolinecolor": "white"
           },
           "zaxis": {
            "backgroundcolor": "#E5ECF6",
            "gridcolor": "white",
            "gridwidth": 2,
            "linecolor": "white",
            "showbackground": true,
            "ticks": "",
            "zerolinecolor": "white"
           }
          },
          "shapedefaults": {
           "line": {
            "color": "#2a3f5f"
           }
          },
          "ternary": {
           "aaxis": {
            "gridcolor": "white",
            "linecolor": "white",
            "ticks": ""
           },
           "baxis": {
            "gridcolor": "white",
            "linecolor": "white",
            "ticks": ""
           },
           "bgcolor": "#E5ECF6",
           "caxis": {
            "gridcolor": "white",
            "linecolor": "white",
            "ticks": ""
           }
          },
          "title": {
           "x": 0.05
          },
          "xaxis": {
           "automargin": true,
           "gridcolor": "white",
           "linecolor": "white",
           "ticks": "",
           "title": {
            "standoff": 15
           },
           "zerolinecolor": "white",
           "zerolinewidth": 2
          },
          "yaxis": {
           "automargin": true,
           "gridcolor": "white",
           "linecolor": "white",
           "ticks": "",
           "title": {
            "standoff": 15
           },
           "zerolinecolor": "white",
           "zerolinewidth": 2
          }
         }
        },
        "title": {
         "text": "Confusion Matrix"
        },
        "xaxis": {
         "anchor": "y",
         "constrain": "domain",
         "domain": [
          0,
          1
         ],
         "scaleanchor": "y",
         "ticktext": [
          "No",
          "Yes"
         ],
         "tickvals": [
          0,
          1
         ],
         "title": {
          "text": "Predicted"
         }
        },
        "yaxis": {
         "anchor": "x",
         "autorange": "reversed",
         "constrain": "domain",
         "domain": [
          0,
          1
         ],
         "ticktext": [
          "No",
          "Yes"
         ],
         "tickvals": [
          0,
          1
         ],
         "title": {
          "text": "True"
         }
        }
       }
      }
     },
     "metadata": {},
     "output_type": "display_data"
    }
   ],
   "source": [
    "import plotly.express as px\n",
    "fig = px.imshow(conf_matrix, text_auto=True,labels=dict(x=\"Predicted\", y=\"True\", color=\"Count\"))\n",
    "fig.update_layout(title='Confusion Matrix')\n",
    "fig.update_xaxes(title_text='Predicted', tickvals = [0, 1], ticktext = ['No', 'Yes'])\n",
    "fig.update_yaxes(title_text='True', tickvals = [0, 1], ticktext = ['No', 'Yes'])\n",
    "fig.show()"
   ]
  },
  {
   "cell_type": "markdown",
   "metadata": {},
   "source": [
    "## Roc Curve"
   ]
  },
  {
   "cell_type": "code",
   "execution_count": 54,
   "metadata": {},
   "outputs": [
    {
     "name": "stdout",
     "output_type": "stream",
     "text": [
      "ROC AUC 0.8829315327571337\n"
     ]
    },
    {
     "data": {
      "image/png": "[encoded data removed]",
      "text/plain": [
       "<Figure size 640x480 with 1 Axes>"
      ]
     },
     "metadata": {},
     "output_type": "display_data"
    }
   ],
   "source": [
    "# Plot Roc Curve\n",
    "from sklearn.metrics import roc_curve, auc\n",
    "# Compute ROC curve and AUC\n",
    "y_prob = pipeline.predict_proba(X_test)[:, 1]\n",
    "fpr, tpr, thresholds = roc_curve(y_test, y_prob)\n",
    "roc_auc = auc(fpr, tpr)\n",
    "print('ROC AUC', roc_auc)\n",
    "# Plot ROC curve\n",
    "plt.figure()\n",
    "plt.plot(fpr, tpr, color='darkorange', lw=2, label=f'ROC curve (area = {roc_auc:0.2f})')\n",
    "plt.plot([0, 1], [0, 1], color='navy', lw=2, linestyle='--')\n",
    "plt.xlim([0.0, 1.0])\n",
    "plt.ylim([0.0, 1.05])\n",
    "plt.xlabel('False Positive Rate')\n",
    "plt.ylabel('True Positive Rate')\n",
    "plt.title('Test Set - ROC Curve')\n",
    "plt.legend(loc='lower right')\n",
    "plt.show()"
   ]
  },
  {
   "cell_type": "code",
   "execution_count": 55,
   "metadata": {},
   "outputs": [
    {
     "name": "stdout",
     "output_type": "stream",
     "text": [
      "ROC AUC Train 0.9878827789833462\n",
      "ROC AUC Test 0.8829315327571337\n"
     ]
    },
    {
     "data": {
      "image/png": "[encoded data removed]",
      "text/plain": [
       "<Figure size 1400x500 with 2 Axes>"
      ]
     },
     "metadata": {},
     "output_type": "display_data"
    }
   ],
   "source": [
    "from sklearn.metrics import roc_curve, auc\n",
    "import matplotlib.pyplot as plt\n",
    "# Compute ROC curve and AUC\n",
    "y_prob_train = pipeline.predict_proba(X_train)[:, 1]\n",
    "fpr_train, tpr_train, thresholds_train = roc_curve(y_train, y_prob_train)\n",
    "roc_auc_train = auc(fpr_train, tpr_train)\n",
    "print('ROC AUC Train', roc_auc_train)\n",
    "y_prob = pipeline.predict_proba(X_test)[:, 1]\n",
    "fpr, tpr, thresholds = roc_curve(y_test, y_prob)\n",
    "roc_auc = auc(fpr, tpr)\n",
    "print('ROC AUC Test', roc_auc)\n",
    "#plot both curves\n",
    "fig, ax = plt.subplots(1, 2, figsize=(14, 5))\n",
    "ax[0].plot(fpr_train, tpr_train, color='darkorange', lw=2, label=f'ROC curve Train (area = {roc_auc_train:0.2f})')\n",
    "ax[0].plot([0, 1], [0, 1], color='navy', lw=2, linestyle='--')\n",
    "ax[0].set_xlim([0.0, 1.0])\n",
    "ax[0].set_ylim([0.0, 1.05])\n",
    "ax[0].set_xlabel('False Positive Rate')\n",
    "ax[0].set_ylabel('True Positive Rate')\n",
    "ax[0].set_title('Training Set - ROC Curve')\n",
    "ax[0].legend(loc='lower right')\n",
    "ax[1].plot(fpr, tpr, color='darkorange', lw=2, label=f'ROC curve Test (area = {roc_auc:0.2f})')\n",
    "ax[1].plot([0, 1], [0, 1], color='navy', lw=2, linestyle='--')\n",
    "ax[1].set_xlim([0.0, 1.0])\n",
    "ax[1].set_ylim([0.0, 1.05])\n",
    "ax[1].set_xlabel('False Positive Rate')\n",
    "ax[1].set_ylabel('True Positive Rate')\n",
    "ax[1].set_title('Test Set - ROC Curve')\n",
    "ax[1].legend(loc='lower right')\n",
    "plt.show()\n"
   ]
  },
  {
   "cell_type": "markdown",
   "metadata": {},
   "source": [
    "## Feature Importance"
   ]
  },
  {
   "cell_type": "code",
   "execution_count": 21,
   "metadata": {},
   "outputs": [
    {
     "data": {
      "text/plain": [
       "Text(0, 0.5, 'Features')"
      ]
     },
     "execution_count": 21,
     "metadata": {},
     "output_type": "execute_result"
    },
    {
     "data": {
      "image/png": "[encoded data removed]",
      "text/plain": [
       "<Figure size 1000x600 with 1 Axes>"
      ]
     },
     "metadata": {},
     "output_type": "display_data"
    }
   ],
   "source": [
    "import matplotlib.pyplot as plt\n",
    "# Extract feature importances\n",
    "model_rf = pipeline.named_steps['model']\n",
    "importances = model_rf.feature_importances_\n",
    "\n",
    "# Get feature names after preprocessing\n",
    "encoded_categorical_features = pipeline.named_steps['preprocessor'].named_transformers_['cat'].get_feature_names_out(categorical_features)\n",
    "all_feature_names = numerical_features + list(encoded_categorical_features)\n",
    "\n",
    "# Create a DataFrame for feature importances\n",
    "feature_importances = pd.DataFrame({'feature': all_feature_names, 'importance': importances})\n",
    "feature_importances = feature_importances.sort_values(by='importance', ascending=False)\n",
    "\n",
    "# Plot feature importances\n",
    "plt.figure(figsize=(10, 6))\n",
    "plt.title(\"Feature Importance\")\n",
    "plt.barh(range(len(feature_importances)), feature_importances['importance'], align=\"center\")\n",
    "plt.yticks(range(len(feature_importances)), feature_importances['feature'])\n",
    "plt.gca().invert_yaxis()\n",
    "plt.xlabel(\"Importance\")\n",
    "plt.ylabel(\"Features\")"
   ]
  },
  {
   "cell_type": "markdown",
   "metadata": {},
   "source": [
    "## Cross-Validation"
   ]
  },
  {
   "cell_type": "code",
   "execution_count": null,
   "metadata": {},
   "outputs": [],
   "source": []
  },
  {
   "cell_type": "markdown",
   "metadata": {},
   "source": [
    "## GRIDSEARCH"
   ]
  },
  {
   "cell_type": "code",
   "execution_count": 69,
   "metadata": {},
   "outputs": [
    {
     "name": "stdout",
     "output_type": "stream",
     "text": [
      "Fitting 3 folds for each of 81 candidates, totalling 243 fits\n",
      "[CV] END model__max_depth=10, model__min_samples_leaf=1, model__min_samples_split=2, model__n_estimators=100; total time=  47.7s\n",
      "[CV] END model__max_depth=10, model__min_samples_leaf=1, model__min_samples_split=2, model__n_estimators=100; total time=  47.7s\n",
      "[CV] END model__max_depth=10, model__min_samples_leaf=1, model__min_samples_split=2, model__n_estimators=100; total time=  47.8s\n",
      "[CV] END model__max_depth=10, model__min_samples_leaf=1, model__min_samples_split=5, model__n_estimators=100; total time=  48.2s\n",
      "[CV] END model__max_depth=10, model__min_samples_leaf=1, model__min_samples_split=5, model__n_estimators=100; total time=  48.2s\n",
      "[CV] END model__max_depth=10, model__min_samples_leaf=1, model__min_samples_split=5, model__n_estimators=100; total time=  48.4s\n",
      "[CV] END model__max_depth=10, model__min_samples_leaf=1, model__min_samples_split=2, model__n_estimators=200; total time= 1.6min\n",
      "[CV] END model__max_depth=10, model__min_samples_leaf=1, model__min_samples_split=2, model__n_estimators=200; total time= 1.6min\n",
      "[CV] END model__max_depth=10, model__min_samples_leaf=1, model__min_samples_split=2, model__n_estimators=200; total time= 1.6min\n",
      "[CV] END model__max_depth=10, model__min_samples_leaf=1, model__min_samples_split=2, model__n_estimators=300; total time= 2.3min\n",
      "[CV] END model__max_depth=10, model__min_samples_leaf=1, model__min_samples_split=10, model__n_estimators=100; total time=  47.1s\n",
      "[CV] END model__max_depth=10, model__min_samples_leaf=1, model__min_samples_split=10, model__n_estimators=100; total time=  47.1s\n",
      "[CV] END model__max_depth=10, model__min_samples_leaf=1, model__min_samples_split=2, model__n_estimators=300; total time= 2.3min\n",
      "[CV] END model__max_depth=10, model__min_samples_leaf=1, model__min_samples_split=5, model__n_estimators=200; total time= 1.6min\n",
      "[CV] END model__max_depth=10, model__min_samples_leaf=1, model__min_samples_split=2, model__n_estimators=300; total time= 2.3min\n",
      "[CV] END model__max_depth=10, model__min_samples_leaf=1, model__min_samples_split=10, model__n_estimators=100; total time=  47.3s\n",
      "[CV] END model__max_depth=10, model__min_samples_leaf=1, model__min_samples_split=5, model__n_estimators=200; total time= 1.6min\n",
      "[CV] END model__max_depth=10, model__min_samples_leaf=1, model__min_samples_split=5, model__n_estimators=200; total time= 1.6min\n",
      "[CV] END model__max_depth=10, model__min_samples_leaf=1, model__min_samples_split=5, model__n_estimators=300; total time= 2.3min\n",
      "[CV] END model__max_depth=10, model__min_samples_leaf=1, model__min_samples_split=5, model__n_estimators=300; total time= 2.3min\n",
      "[CV] END model__max_depth=10, model__min_samples_leaf=1, model__min_samples_split=5, model__n_estimators=300; total time= 2.3min\n",
      "[CV] END model__max_depth=10, model__min_samples_leaf=2, model__min_samples_split=2, model__n_estimators=100; total time=  47.1s\n",
      "[CV] END model__max_depth=10, model__min_samples_leaf=2, model__min_samples_split=2, model__n_estimators=100; total time=  47.0s\n",
      "[CV] END model__max_depth=10, model__min_samples_leaf=2, model__min_samples_split=2, model__n_estimators=100; total time=  47.3s\n",
      "[CV] END model__max_depth=10, model__min_samples_leaf=1, model__min_samples_split=10, model__n_estimators=200; total time= 1.6min\n",
      "[CV] END model__max_depth=10, model__min_samples_leaf=1, model__min_samples_split=10, model__n_estimators=200; total time= 1.6min\n",
      "[CV] END model__max_depth=10, model__min_samples_leaf=1, model__min_samples_split=10, model__n_estimators=200; total time= 1.6min\n",
      "[CV] END model__max_depth=10, model__min_samples_leaf=1, model__min_samples_split=10, model__n_estimators=300; total time= 2.3min\n",
      "[CV] END model__max_depth=10, model__min_samples_leaf=1, model__min_samples_split=10, model__n_estimators=300; total time= 2.3min\n",
      "[CV] END model__max_depth=10, model__min_samples_leaf=2, model__min_samples_split=5, model__n_estimators=100; total time=  47.9s\n",
      "[CV] END model__max_depth=10, model__min_samples_leaf=1, model__min_samples_split=10, model__n_estimators=300; total time= 2.4min\n",
      "[CV] END model__max_depth=10, model__min_samples_leaf=2, model__min_samples_split=2, model__n_estimators=200; total time= 1.6min\n",
      "[CV] END model__max_depth=10, model__min_samples_leaf=2, model__min_samples_split=5, model__n_estimators=100; total time=  47.6s\n",
      "[CV] END model__max_depth=10, model__min_samples_leaf=2, model__min_samples_split=5, model__n_estimators=100; total time=  47.6s\n",
      "[CV] END model__max_depth=10, model__min_samples_leaf=2, model__min_samples_split=2, model__n_estimators=200; total time= 1.6min\n",
      "[CV] END model__max_depth=10, model__min_samples_leaf=2, model__min_samples_split=2, model__n_estimators=200; total time= 1.6min\n",
      "[CV] END model__max_depth=10, model__min_samples_leaf=2, model__min_samples_split=2, model__n_estimators=300; total time= 2.3min\n",
      "[CV] END model__max_depth=10, model__min_samples_leaf=2, model__min_samples_split=2, model__n_estimators=300; total time= 2.3min\n",
      "[CV] END model__max_depth=10, model__min_samples_leaf=2, model__min_samples_split=2, model__n_estimators=300; total time= 2.3min\n",
      "[CV] END model__max_depth=10, model__min_samples_leaf=2, model__min_samples_split=10, model__n_estimators=100; total time=  47.5s\n",
      "[CV] END model__max_depth=10, model__min_samples_leaf=2, model__min_samples_split=10, model__n_estimators=100; total time=  47.4s\n",
      "[CV] END model__max_depth=10, model__min_samples_leaf=2, model__min_samples_split=10, model__n_estimators=100; total time=  47.5s\n",
      "[CV] END model__max_depth=10, model__min_samples_leaf=2, model__min_samples_split=5, model__n_estimators=200; total time= 1.6min\n",
      "[CV] END model__max_depth=10, model__min_samples_leaf=2, model__min_samples_split=5, model__n_estimators=200; total time= 1.6min\n",
      "[CV] END model__max_depth=10, model__min_samples_leaf=2, model__min_samples_split=5, model__n_estimators=200; total time= 1.6min\n",
      "[CV] END model__max_depth=10, model__min_samples_leaf=4, model__min_samples_split=2, model__n_estimators=100; total time=  47.1s\n",
      "[CV] END model__max_depth=10, model__min_samples_leaf=2, model__min_samples_split=5, model__n_estimators=300; total time= 2.3min\n",
      "[CV] END model__max_depth=10, model__min_samples_leaf=2, model__min_samples_split=10, model__n_estimators=200; total time= 1.6min\n",
      "[CV] END model__max_depth=10, model__min_samples_leaf=2, model__min_samples_split=10, model__n_estimators=200; total time= 1.6min\n",
      "[CV] END model__max_depth=10, model__min_samples_leaf=2, model__min_samples_split=5, model__n_estimators=300; total time= 2.3min\n",
      "[CV] END model__max_depth=10, model__min_samples_leaf=2, model__min_samples_split=5, model__n_estimators=300; total time= 2.3min\n",
      "[CV] END model__max_depth=10, model__min_samples_leaf=4, model__min_samples_split=2, model__n_estimators=100; total time=  47.1s\n",
      "[CV] END model__max_depth=10, model__min_samples_leaf=4, model__min_samples_split=2, model__n_estimators=100; total time=  47.2s\n",
      "[CV] END model__max_depth=10, model__min_samples_leaf=2, model__min_samples_split=10, model__n_estimators=200; total time= 1.6min\n",
      "[CV] END model__max_depth=10, model__min_samples_leaf=2, model__min_samples_split=10, model__n_estimators=300; total time= 2.3min\n",
      "[CV] END model__max_depth=10, model__min_samples_leaf=2, model__min_samples_split=10, model__n_estimators=300; total time= 2.3min\n",
      "[CV] END model__max_depth=10, model__min_samples_leaf=2, model__min_samples_split=10, model__n_estimators=300; total time= 2.3min\n",
      "[CV] END model__max_depth=10, model__min_samples_leaf=4, model__min_samples_split=5, model__n_estimators=100; total time=  47.5s\n",
      "[CV] END model__max_depth=10, model__min_samples_leaf=4, model__min_samples_split=5, model__n_estimators=100; total time=  47.7s\n",
      "[CV] END model__max_depth=10, model__min_samples_leaf=4, model__min_samples_split=5, model__n_estimators=100; total time=  47.8s\n",
      "[CV] END model__max_depth=10, model__min_samples_leaf=4, model__min_samples_split=2, model__n_estimators=200; total time= 1.6min\n",
      "[CV] END model__max_depth=10, model__min_samples_leaf=4, model__min_samples_split=2, model__n_estimators=200; total time= 1.6min\n",
      "[CV] END model__max_depth=10, model__min_samples_leaf=4, model__min_samples_split=2, model__n_estimators=200; total time= 1.6min\n",
      "[CV] END model__max_depth=10, model__min_samples_leaf=4, model__min_samples_split=10, model__n_estimators=100; total time=  46.7s\n",
      "[CV] END model__max_depth=10, model__min_samples_leaf=4, model__min_samples_split=2, model__n_estimators=300; total time= 2.3min\n",
      "[CV] END model__max_depth=10, model__min_samples_leaf=4, model__min_samples_split=2, model__n_estimators=300; total time= 2.3min\n",
      "[CV] END model__max_depth=10, model__min_samples_leaf=4, model__min_samples_split=2, model__n_estimators=300; total time= 2.3min\n",
      "[CV] END model__max_depth=10, model__min_samples_leaf=4, model__min_samples_split=5, model__n_estimators=200; total time= 1.6min\n",
      "[CV] END model__max_depth=10, model__min_samples_leaf=4, model__min_samples_split=10, model__n_estimators=100; total time=  46.7s\n",
      "[CV] END model__max_depth=10, model__min_samples_leaf=4, model__min_samples_split=5, model__n_estimators=200; total time= 1.6min\n",
      "[CV] END model__max_depth=10, model__min_samples_leaf=4, model__min_samples_split=10, model__n_estimators=100; total time=  46.7s\n",
      "[CV] END model__max_depth=10, model__min_samples_leaf=4, model__min_samples_split=5, model__n_estimators=200; total time= 1.6min\n",
      "[CV] END model__max_depth=10, model__min_samples_leaf=4, model__min_samples_split=5, model__n_estimators=300; total time= 2.3min\n",
      "[CV] END model__max_depth=10, model__min_samples_leaf=4, model__min_samples_split=5, model__n_estimators=300; total time= 2.3min\n",
      "[CV] END model__max_depth=10, model__min_samples_leaf=4, model__min_samples_split=5, model__n_estimators=300; total time= 2.3min\n",
      "[CV] END model__max_depth=20, model__min_samples_leaf=1, model__min_samples_split=2, model__n_estimators=100; total time= 1.0min\n",
      "[CV] END model__max_depth=20, model__min_samples_leaf=1, model__min_samples_split=2, model__n_estimators=100; total time= 1.0min\n",
      "[CV] END model__max_depth=20, model__min_samples_leaf=1, model__min_samples_split=2, model__n_estimators=100; total time= 1.0min\n",
      "[CV] END model__max_depth=10, model__min_samples_leaf=4, model__min_samples_split=10, model__n_estimators=200; total time= 1.4min\n",
      "[CV] END model__max_depth=10, model__min_samples_leaf=4, model__min_samples_split=10, model__n_estimators=200; total time= 1.4min\n",
      "[CV] END model__max_depth=10, model__min_samples_leaf=4, model__min_samples_split=10, model__n_estimators=200; total time= 1.4min\n",
      "[CV] END model__max_depth=10, model__min_samples_leaf=4, model__min_samples_split=10, model__n_estimators=300; total time= 2.1min\n",
      "[CV] END model__max_depth=10, model__min_samples_leaf=4, model__min_samples_split=10, model__n_estimators=300; total time= 2.1min\n",
      "[CV] END model__max_depth=10, model__min_samples_leaf=4, model__min_samples_split=10, model__n_estimators=300; total time= 2.1min\n",
      "[CV] END model__max_depth=20, model__min_samples_leaf=1, model__min_samples_split=5, model__n_estimators=100; total time=  56.0s\n",
      "[CV] END model__max_depth=20, model__min_samples_leaf=1, model__min_samples_split=5, model__n_estimators=100; total time=  56.1s\n",
      "[CV] END model__max_depth=20, model__min_samples_leaf=1, model__min_samples_split=5, model__n_estimators=100; total time=  56.0s\n",
      "[CV] END model__max_depth=20, model__min_samples_leaf=1, model__min_samples_split=2, model__n_estimators=200; total time= 1.9min\n",
      "[CV] END model__max_depth=20, model__min_samples_leaf=1, model__min_samples_split=2, model__n_estimators=200; total time= 1.9min\n",
      "[CV] END model__max_depth=20, model__min_samples_leaf=1, model__min_samples_split=2, model__n_estimators=200; total time= 1.9min\n",
      "[CV] END model__max_depth=20, model__min_samples_leaf=1, model__min_samples_split=10, model__n_estimators=100; total time=  53.0s\n",
      "[CV] END model__max_depth=20, model__min_samples_leaf=1, model__min_samples_split=10, model__n_estimators=100; total time=  53.0s\n",
      "[CV] END model__max_depth=20, model__min_samples_leaf=1, model__min_samples_split=10, model__n_estimators=100; total time=  53.2s\n",
      "[CV] END model__max_depth=20, model__min_samples_leaf=1, model__min_samples_split=2, model__n_estimators=300; total time= 2.8min\n",
      "[CV] END model__max_depth=20, model__min_samples_leaf=1, model__min_samples_split=5, model__n_estimators=200; total time= 1.8min\n",
      "[CV] END model__max_depth=20, model__min_samples_leaf=1, model__min_samples_split=2, model__n_estimators=300; total time= 2.8min\n",
      "[CV] END model__max_depth=20, model__min_samples_leaf=1, model__min_samples_split=2, model__n_estimators=300; total time= 2.8min\n",
      "[CV] END model__max_depth=20, model__min_samples_leaf=1, model__min_samples_split=5, model__n_estimators=200; total time= 1.8min\n",
      "[CV] END model__max_depth=20, model__min_samples_leaf=1, model__min_samples_split=5, model__n_estimators=200; total time= 1.8min\n",
      "[CV] END model__max_depth=20, model__min_samples_leaf=2, model__min_samples_split=2, model__n_estimators=100; total time=  53.2s\n",
      "[CV] END model__max_depth=20, model__min_samples_leaf=2, model__min_samples_split=2, model__n_estimators=100; total time=  53.8s\n",
      "[CV] END model__max_depth=20, model__min_samples_leaf=2, model__min_samples_split=2, model__n_estimators=100; total time=  53.8s\n",
      "[CV] END model__max_depth=20, model__min_samples_leaf=1, model__min_samples_split=5, model__n_estimators=300; total time= 2.6min\n",
      "[CV] END model__max_depth=20, model__min_samples_leaf=1, model__min_samples_split=5, model__n_estimators=300; total time= 2.6min\n",
      "[CV] END model__max_depth=20, model__min_samples_leaf=1, model__min_samples_split=5, model__n_estimators=300; total time= 2.6min\n",
      "[CV] END model__max_depth=20, model__min_samples_leaf=1, model__min_samples_split=10, model__n_estimators=200; total time= 1.7min\n",
      "[CV] END model__max_depth=20, model__min_samples_leaf=1, model__min_samples_split=10, model__n_estimators=200; total time= 1.7min\n",
      "[CV] END model__max_depth=20, model__min_samples_leaf=1, model__min_samples_split=10, model__n_estimators=200; total time= 1.7min\n",
      "[CV] END model__max_depth=20, model__min_samples_leaf=2, model__min_samples_split=5, model__n_estimators=100; total time=  52.9s\n",
      "[CV] END model__max_depth=20, model__min_samples_leaf=2, model__min_samples_split=5, model__n_estimators=100; total time=  52.8s\n",
      "[CV] END model__max_depth=20, model__min_samples_leaf=2, model__min_samples_split=5, model__n_estimators=100; total time=  52.9s\n",
      "[CV] END model__max_depth=20, model__min_samples_leaf=1, model__min_samples_split=10, model__n_estimators=300; total time= 2.5min\n",
      "[CV] END model__max_depth=20, model__min_samples_leaf=1, model__min_samples_split=10, model__n_estimators=300; total time= 2.5min\n",
      "[CV] END model__max_depth=20, model__min_samples_leaf=1, model__min_samples_split=10, model__n_estimators=300; total time= 2.5min\n",
      "[CV] END model__max_depth=20, model__min_samples_leaf=2, model__min_samples_split=2, model__n_estimators=200; total time= 1.7min\n",
      "[CV] END model__max_depth=20, model__min_samples_leaf=2, model__min_samples_split=2, model__n_estimators=200; total time= 1.7min\n",
      "[CV] END model__max_depth=20, model__min_samples_leaf=2, model__min_samples_split=2, model__n_estimators=200; total time= 1.7min\n",
      "[CV] END model__max_depth=20, model__min_samples_leaf=2, model__min_samples_split=10, model__n_estimators=100; total time=  52.2s\n",
      "[CV] END model__max_depth=20, model__min_samples_leaf=2, model__min_samples_split=10, model__n_estimators=100; total time=  52.0s\n",
      "[CV] END model__max_depth=20, model__min_samples_leaf=2, model__min_samples_split=10, model__n_estimators=100; total time=  52.0s\n",
      "[CV] END model__max_depth=20, model__min_samples_leaf=2, model__min_samples_split=2, model__n_estimators=300; total time= 2.6min\n",
      "[CV] END model__max_depth=20, model__min_samples_leaf=2, model__min_samples_split=2, model__n_estimators=300; total time= 2.6min\n",
      "[CV] END model__max_depth=20, model__min_samples_leaf=2, model__min_samples_split=2, model__n_estimators=300; total time= 2.6min\n",
      "[CV] END model__max_depth=20, model__min_samples_leaf=2, model__min_samples_split=5, model__n_estimators=200; total time= 1.7min\n",
      "[CV] END model__max_depth=20, model__min_samples_leaf=2, model__min_samples_split=5, model__n_estimators=200; total time= 1.7min\n",
      "[CV] END model__max_depth=20, model__min_samples_leaf=2, model__min_samples_split=5, model__n_estimators=200; total time= 1.7min\n",
      "[CV] END model__max_depth=20, model__min_samples_leaf=4, model__min_samples_split=2, model__n_estimators=100; total time=  51.7s\n",
      "[CV] END model__max_depth=20, model__min_samples_leaf=4, model__min_samples_split=2, model__n_estimators=100; total time=  51.5s\n",
      "[CV] END model__max_depth=20, model__min_samples_leaf=4, model__min_samples_split=2, model__n_estimators=100; total time=  51.8s\n",
      "[CV] END model__max_depth=20, model__min_samples_leaf=2, model__min_samples_split=5, model__n_estimators=300; total time= 2.6min\n",
      "[CV] END model__max_depth=20, model__min_samples_leaf=2, model__min_samples_split=5, model__n_estimators=300; total time= 2.6min\n",
      "[CV] END model__max_depth=20, model__min_samples_leaf=2, model__min_samples_split=5, model__n_estimators=300; total time= 2.6min\n",
      "[CV] END model__max_depth=20, model__min_samples_leaf=2, model__min_samples_split=10, model__n_estimators=200; total time= 1.6min\n",
      "[CV] END model__max_depth=20, model__min_samples_leaf=2, model__min_samples_split=10, model__n_estimators=200; total time= 1.7min\n",
      "[CV] END model__max_depth=20, model__min_samples_leaf=2, model__min_samples_split=10, model__n_estimators=200; total time= 1.7min\n",
      "[CV] END model__max_depth=20, model__min_samples_leaf=4, model__min_samples_split=5, model__n_estimators=100; total time=  52.3s\n",
      "[CV] END model__max_depth=20, model__min_samples_leaf=4, model__min_samples_split=5, model__n_estimators=100; total time=  52.5s\n",
      "[CV] END model__max_depth=20, model__min_samples_leaf=4, model__min_samples_split=5, model__n_estimators=100; total time=  52.8s\n",
      "[CV] END model__max_depth=20, model__min_samples_leaf=2, model__min_samples_split=10, model__n_estimators=300; total time= 2.5min\n",
      "[CV] END model__max_depth=20, model__min_samples_leaf=2, model__min_samples_split=10, model__n_estimators=300; total time= 2.5min\n",
      "[CV] END model__max_depth=20, model__min_samples_leaf=2, model__min_samples_split=10, model__n_estimators=300; total time= 2.5min\n",
      "[CV] END model__max_depth=20, model__min_samples_leaf=4, model__min_samples_split=2, model__n_estimators=200; total time= 1.7min\n",
      "[CV] END model__max_depth=20, model__min_samples_leaf=4, model__min_samples_split=2, model__n_estimators=200; total time= 1.7min\n",
      "[CV] END model__max_depth=20, model__min_samples_leaf=4, model__min_samples_split=2, model__n_estimators=200; total time= 1.7min\n",
      "[CV] END model__max_depth=20, model__min_samples_leaf=4, model__min_samples_split=10, model__n_estimators=100; total time=  53.0s\n",
      "[CV] END model__max_depth=20, model__min_samples_leaf=4, model__min_samples_split=10, model__n_estimators=100; total time=  53.7s\n",
      "[CV] END model__max_depth=20, model__min_samples_leaf=4, model__min_samples_split=10, model__n_estimators=100; total time=  53.1s\n",
      "[CV] END model__max_depth=20, model__min_samples_leaf=4, model__min_samples_split=2, model__n_estimators=300; total time= 2.6min\n",
      "[CV] END model__max_depth=20, model__min_samples_leaf=4, model__min_samples_split=2, model__n_estimators=300; total time= 2.6min\n",
      "[CV] END model__max_depth=20, model__min_samples_leaf=4, model__min_samples_split=2, model__n_estimators=300; total time= 2.6min\n",
      "[CV] END model__max_depth=20, model__min_samples_leaf=4, model__min_samples_split=5, model__n_estimators=200; total time= 1.7min\n",
      "[CV] END model__max_depth=20, model__min_samples_leaf=4, model__min_samples_split=5, model__n_estimators=200; total time= 1.7min\n",
      "[CV] END model__max_depth=20, model__min_samples_leaf=4, model__min_samples_split=5, model__n_estimators=200; total time= 1.7min\n",
      "[CV] END model__max_depth=30, model__min_samples_leaf=1, model__min_samples_split=2, model__n_estimators=100; total time= 1.0min\n",
      "[CV] END model__max_depth=30, model__min_samples_leaf=1, model__min_samples_split=2, model__n_estimators=100; total time= 1.0min\n",
      "[CV] END model__max_depth=30, model__min_samples_leaf=1, model__min_samples_split=2, model__n_estimators=100; total time= 1.0min\n",
      "[CV] END model__max_depth=20, model__min_samples_leaf=4, model__min_samples_split=5, model__n_estimators=300; total time= 2.5min\n",
      "[CV] END model__max_depth=20, model__min_samples_leaf=4, model__min_samples_split=5, model__n_estimators=300; total time= 2.5min\n",
      "[CV] END model__max_depth=20, model__min_samples_leaf=4, model__min_samples_split=5, model__n_estimators=300; total time= 2.6min\n",
      "[CV] END model__max_depth=20, model__min_samples_leaf=4, model__min_samples_split=10, model__n_estimators=200; total time= 1.7min\n",
      "[CV] END model__max_depth=20, model__min_samples_leaf=4, model__min_samples_split=10, model__n_estimators=200; total time= 1.7min\n",
      "[CV] END model__max_depth=20, model__min_samples_leaf=4, model__min_samples_split=10, model__n_estimators=200; total time= 1.7min\n",
      "[CV] END model__max_depth=30, model__min_samples_leaf=1, model__min_samples_split=5, model__n_estimators=100; total time=  54.7s\n",
      "[CV] END model__max_depth=30, model__min_samples_leaf=1, model__min_samples_split=5, model__n_estimators=100; total time=  55.2s\n",
      "[CV] END model__max_depth=30, model__min_samples_leaf=1, model__min_samples_split=5, model__n_estimators=100; total time=  55.0s\n",
      "[CV] END model__max_depth=20, model__min_samples_leaf=4, model__min_samples_split=10, model__n_estimators=300; total time= 2.5min\n",
      "[CV] END model__max_depth=20, model__min_samples_leaf=4, model__min_samples_split=10, model__n_estimators=300; total time= 2.5min\n",
      "[CV] END model__max_depth=20, model__min_samples_leaf=4, model__min_samples_split=10, model__n_estimators=300; total time= 2.5min\n",
      "[CV] END model__max_depth=30, model__min_samples_leaf=1, model__min_samples_split=2, model__n_estimators=200; total time= 1.9min\n",
      "[CV] END model__max_depth=30, model__min_samples_leaf=1, model__min_samples_split=2, model__n_estimators=200; total time= 1.9min\n",
      "[CV] END model__max_depth=30, model__min_samples_leaf=1, model__min_samples_split=2, model__n_estimators=200; total time= 1.9min\n",
      "[CV] END model__max_depth=30, model__min_samples_leaf=1, model__min_samples_split=10, model__n_estimators=100; total time=  53.1s\n",
      "[CV] END model__max_depth=30, model__min_samples_leaf=1, model__min_samples_split=10, model__n_estimators=100; total time=  53.1s\n",
      "[CV] END model__max_depth=30, model__min_samples_leaf=1, model__min_samples_split=10, model__n_estimators=100; total time=  58.7s\n",
      "[CV] END model__max_depth=30, model__min_samples_leaf=1, model__min_samples_split=2, model__n_estimators=300; total time= 2.9min\n",
      "[CV] END model__max_depth=30, model__min_samples_leaf=1, model__min_samples_split=2, model__n_estimators=300; total time= 2.9min\n",
      "[CV] END model__max_depth=30, model__min_samples_leaf=1, model__min_samples_split=2, model__n_estimators=300; total time= 2.9min\n",
      "[CV] END model__max_depth=30, model__min_samples_leaf=1, model__min_samples_split=5, model__n_estimators=200; total time= 1.8min\n",
      "[CV] END model__max_depth=30, model__min_samples_leaf=1, model__min_samples_split=5, model__n_estimators=200; total time= 1.8min\n",
      "[CV] END model__max_depth=30, model__min_samples_leaf=1, model__min_samples_split=5, model__n_estimators=200; total time= 1.8min\n",
      "[CV] END model__max_depth=30, model__min_samples_leaf=2, model__min_samples_split=2, model__n_estimators=100; total time=  55.5s\n",
      "[CV] END model__max_depth=30, model__min_samples_leaf=2, model__min_samples_split=2, model__n_estimators=100; total time=  55.4s\n",
      "[CV] END model__max_depth=30, model__min_samples_leaf=2, model__min_samples_split=2, model__n_estimators=100; total time=  55.4s\n",
      "[CV] END model__max_depth=30, model__min_samples_leaf=1, model__min_samples_split=5, model__n_estimators=300; total time= 2.7min\n",
      "[CV] END model__max_depth=30, model__min_samples_leaf=1, model__min_samples_split=5, model__n_estimators=300; total time= 2.7min\n",
      "[CV] END model__max_depth=30, model__min_samples_leaf=1, model__min_samples_split=5, model__n_estimators=300; total time= 2.7min\n",
      "[CV] END model__max_depth=30, model__min_samples_leaf=1, model__min_samples_split=10, model__n_estimators=200; total time= 1.7min\n",
      "[CV] END model__max_depth=30, model__min_samples_leaf=1, model__min_samples_split=10, model__n_estimators=200; total time= 1.7min\n",
      "[CV] END model__max_depth=30, model__min_samples_leaf=1, model__min_samples_split=10, model__n_estimators=200; total time= 1.7min\n",
      "[CV] END model__max_depth=30, model__min_samples_leaf=2, model__min_samples_split=5, model__n_estimators=100; total time=  53.8s\n",
      "[CV] END model__max_depth=30, model__min_samples_leaf=2, model__min_samples_split=5, model__n_estimators=100; total time=  53.7s\n",
      "[CV] END model__max_depth=30, model__min_samples_leaf=2, model__min_samples_split=5, model__n_estimators=100; total time=  54.1s\n",
      "[CV] END model__max_depth=30, model__min_samples_leaf=1, model__min_samples_split=10, model__n_estimators=300; total time= 2.6min\n",
      "[CV] END model__max_depth=30, model__min_samples_leaf=1, model__min_samples_split=10, model__n_estimators=300; total time= 2.6min\n",
      "[CV] END model__max_depth=30, model__min_samples_leaf=1, model__min_samples_split=10, model__n_estimators=300; total time= 2.6min\n",
      "[CV] END model__max_depth=30, model__min_samples_leaf=2, model__min_samples_split=2, model__n_estimators=200; total time= 1.8min\n",
      "[CV] END model__max_depth=30, model__min_samples_leaf=2, model__min_samples_split=2, model__n_estimators=200; total time= 1.8min\n",
      "[CV] END model__max_depth=30, model__min_samples_leaf=2, model__min_samples_split=2, model__n_estimators=200; total time= 1.8min\n",
      "[CV] END model__max_depth=30, model__min_samples_leaf=2, model__min_samples_split=10, model__n_estimators=100; total time=  51.9s\n",
      "[CV] END model__max_depth=30, model__min_samples_leaf=2, model__min_samples_split=10, model__n_estimators=100; total time=  51.9s\n",
      "[CV] END model__max_depth=30, model__min_samples_leaf=2, model__min_samples_split=10, model__n_estimators=100; total time=  52.1s\n",
      "[CV] END model__max_depth=30, model__min_samples_leaf=2, model__min_samples_split=2, model__n_estimators=300; total time= 2.7min\n",
      "[CV] END model__max_depth=30, model__min_samples_leaf=2, model__min_samples_split=2, model__n_estimators=300; total time= 2.7min\n",
      "[CV] END model__max_depth=30, model__min_samples_leaf=2, model__min_samples_split=2, model__n_estimators=300; total time= 2.7min\n",
      "[CV] END model__max_depth=30, model__min_samples_leaf=2, model__min_samples_split=5, model__n_estimators=200; total time= 1.7min\n",
      "[CV] END model__max_depth=30, model__min_samples_leaf=2, model__min_samples_split=5, model__n_estimators=200; total time= 1.8min\n",
      "[CV] END model__max_depth=30, model__min_samples_leaf=2, model__min_samples_split=5, model__n_estimators=200; total time= 1.8min\n",
      "[CV] END model__max_depth=30, model__min_samples_leaf=4, model__min_samples_split=2, model__n_estimators=100; total time=  52.9s\n",
      "[CV] END model__max_depth=30, model__min_samples_leaf=4, model__min_samples_split=2, model__n_estimators=100; total time=  52.5s\n",
      "[CV] END model__max_depth=30, model__min_samples_leaf=4, model__min_samples_split=2, model__n_estimators=100; total time=  52.5s\n",
      "[CV] END model__max_depth=30, model__min_samples_leaf=2, model__min_samples_split=5, model__n_estimators=300; total time= 2.7min\n",
      "[CV] END model__max_depth=30, model__min_samples_leaf=2, model__min_samples_split=5, model__n_estimators=300; total time= 2.7min\n",
      "[CV] END model__max_depth=30, model__min_samples_leaf=2, model__min_samples_split=5, model__n_estimators=300; total time= 2.7min\n",
      "[CV] END model__max_depth=30, model__min_samples_leaf=2, model__min_samples_split=10, model__n_estimators=200; total time= 1.7min\n",
      "[CV] END model__max_depth=30, model__min_samples_leaf=2, model__min_samples_split=10, model__n_estimators=200; total time= 1.7min\n",
      "[CV] END model__max_depth=30, model__min_samples_leaf=2, model__min_samples_split=10, model__n_estimators=200; total time=31.6min\n",
      "[CV] END model__max_depth=30, model__min_samples_leaf=4, model__min_samples_split=5, model__n_estimators=100; total time=31.6min\n",
      "[CV] END model__max_depth=30, model__min_samples_leaf=4, model__min_samples_split=5, model__n_estimators=100; total time=31.6min\n",
      "[CV] END model__max_depth=30, model__min_samples_leaf=4, model__min_samples_split=5, model__n_estimators=100; total time= 1.7min\n",
      "[CV] END model__max_depth=30, model__min_samples_leaf=2, model__min_samples_split=10, model__n_estimators=300; total time=33.4min\n",
      "[CV] END model__max_depth=30, model__min_samples_leaf=2, model__min_samples_split=10, model__n_estimators=300; total time=33.5min\n",
      "[CV] END model__max_depth=30, model__min_samples_leaf=2, model__min_samples_split=10, model__n_estimators=300; total time=33.5min\n",
      "[CV] END model__max_depth=30, model__min_samples_leaf=4, model__min_samples_split=2, model__n_estimators=200; total time=32.9min\n",
      "[CV] END model__max_depth=30, model__min_samples_leaf=4, model__min_samples_split=2, model__n_estimators=200; total time=33.0min\n",
      "[CV] END model__max_depth=30, model__min_samples_leaf=4, model__min_samples_split=2, model__n_estimators=200; total time=33.1min\n",
      "[CV] END model__max_depth=30, model__min_samples_leaf=4, model__min_samples_split=10, model__n_estimators=100; total time=31.5min\n",
      "[CV] END model__max_depth=30, model__min_samples_leaf=4, model__min_samples_split=10, model__n_estimators=100; total time=31.6min\n",
      "[CV] END model__max_depth=30, model__min_samples_leaf=4, model__min_samples_split=10, model__n_estimators=100; total time=31.6min\n",
      "[CV] END model__max_depth=30, model__min_samples_leaf=4, model__min_samples_split=2, model__n_estimators=300; total time=64.7min\n",
      "[CV] END model__max_depth=30, model__min_samples_leaf=4, model__min_samples_split=2, model__n_estimators=300; total time=64.7min\n",
      "[CV] END model__max_depth=30, model__min_samples_leaf=4, model__min_samples_split=2, model__n_estimators=300; total time=64.8min\n",
      "[CV] END model__max_depth=30, model__min_samples_leaf=4, model__min_samples_split=5, model__n_estimators=200; total time=51.0min\n",
      "[CV] END model__max_depth=30, model__min_samples_leaf=4, model__min_samples_split=5, model__n_estimators=200; total time=51.0min\n",
      "[CV] END model__max_depth=30, model__min_samples_leaf=4, model__min_samples_split=5, model__n_estimators=200; total time=51.0min\n",
      "[CV] END model__max_depth=30, model__min_samples_leaf=4, model__min_samples_split=5, model__n_estimators=300; total time=52.2min\n",
      "[CV] END model__max_depth=30, model__min_samples_leaf=4, model__min_samples_split=5, model__n_estimators=300; total time=52.2min\n",
      "[CV] END model__max_depth=30, model__min_samples_leaf=4, model__min_samples_split=5, model__n_estimators=300; total time=52.2min\n",
      "[CV] END model__max_depth=30, model__min_samples_leaf=4, model__min_samples_split=10, model__n_estimators=200; total time=20.4min\n",
      "[CV] END model__max_depth=30, model__min_samples_leaf=4, model__min_samples_split=10, model__n_estimators=200; total time=20.3min\n",
      "[CV] END model__max_depth=30, model__min_samples_leaf=4, model__min_samples_split=10, model__n_estimators=200; total time=20.2min\n",
      "[CV] END model__max_depth=30, model__min_samples_leaf=4, model__min_samples_split=10, model__n_estimators=300; total time=37.3min\n",
      "[CV] END model__max_depth=30, model__min_samples_leaf=4, model__min_samples_split=10, model__n_estimators=300; total time=37.3min\n",
      "[CV] END model__max_depth=30, model__min_samples_leaf=4, model__min_samples_split=10, model__n_estimators=300; total time=37.1min\n",
      "Best Parameters: {'model__max_depth': 30, 'model__min_samples_leaf': 1, 'model__min_samples_split': 10, 'model__n_estimators': 300}\n",
      "Best Cross-Validation AUC Score: 0.8978254291253623\n",
      "Test Accuracy: 0.8664291132318439\n",
      "Confusion Matrix:\n",
      " [[ 3189  5519]\n",
      " [ 2053 45928]]\n",
      "Classification Report:\n",
      "               precision    recall  f1-score   support\n",
      "\n",
      "       False       0.61      0.37      0.46      8708\n",
      "        True       0.89      0.96      0.92     47981\n",
      "\n",
      "    accuracy                           0.87     56689\n",
      "   macro avg       0.75      0.66      0.69     56689\n",
      "weighted avg       0.85      0.87      0.85     56689\n",
      "\n",
      "Test ROC AUC Score: 0.9040035233189312\n"
     ]
    }
   ],
   "source": [
    "from sklearn.metrics import roc_auc_score\n",
    "from sklearn.model_selection import GridSearchCV\n",
    "\n",
    "# Define the parameter grid\n",
    "param_grid = {\n",
    "    'model__n_estimators': [300, 400, 500],\n",
    "    'model__max_depth': [30,50,100],\n",
    "    'model__min_samples_split': [10, 20, 100]\n",
    "}\n",
    "\n",
    "# Perform GridSearchCV\n",
    "\n",
    "\n",
    "grid_search = GridSearchCV(pipeline, param_grid, cv=3, n_jobs=-1, verbose=2, scoring='roc_auc')\n",
    "grid_search.fit(X_train, y_train)\n",
    "\n",
    "# Get the best parameters and best score\n",
    "best_params = grid_search.best_params_\n",
    "best_score = grid_search.best_score_\n",
    "\n",
    "# Train the model with the best parameters\n",
    "best_model = grid_search.best_estimator_\n",
    "\n",
    "# Predict on the test set\n",
    "y_pred_best = best_model.predict(X_test)\n",
    "y_pred_proba_best = best_model.predict_proba(X_test)[:, 1]\n",
    "\n",
    "# Evaluate the model\n",
    "accuracy_best = accuracy_score(y_test, y_pred_best)\n",
    "conf_matrix_best = confusion_matrix(y_test, y_pred_best)\n",
    "class_report_best = classification_report(y_test, y_pred_best)\n",
    "roc_auc_best = roc_auc_score(y_test, y_pred_proba_best)\n",
    "\n",
    "# Display results\n",
    "print(\"Best Parameters:\", best_params)\n",
    "print(\"Best Cross-Validation AUC Score:\", best_score)\n",
    "print(\"Test Accuracy:\", accuracy_best)\n",
    "print(\"Confusion Matrix:\\n\", conf_matrix_best)\n",
    "print(\"Classification Report:\\n\", class_report_best)\n",
    "print(\"Test ROC AUC Score:\", roc_auc_best)\n",
    "\n"
   ]
  },
  {
   "cell_type": "markdown",
   "metadata": {},
   "source": [
    "### Class inbalance - Try Smote\n"
   ]
  },
  {
   "cell_type": "code",
   "execution_count": 1,
   "metadata": {},
   "outputs": [
    {
     "ename": "NameError",
     "evalue": "name 'df_a' is not defined",
     "output_type": "error",
     "traceback": [
      "\u001b[0;31m---------------------------------------------------------------------------\u001b[0m",
      "\u001b[0;31mNameError\u001b[0m                                 Traceback (most recent call last)",
      "Cell \u001b[0;32mIn[1], line 14\u001b[0m\n\u001b[1;32m     11\u001b[0m target \u001b[38;5;241m=\u001b[39m \u001b[38;5;124m'\u001b[39m\u001b[38;5;124mdocking_available\u001b[39m\u001b[38;5;124m'\u001b[39m  \u001b[38;5;66;03m# or 'bikes_available'\u001b[39;00m\n\u001b[1;32m     13\u001b[0m \u001b[38;5;66;03m# Create the dataset\u001b[39;00m\n\u001b[0;32m---> 14\u001b[0m df_rfa \u001b[38;5;241m=\u001b[39m \u001b[43mdf_a\u001b[49m\u001b[38;5;241m.\u001b[39mcopy()\n\u001b[1;32m     15\u001b[0m X \u001b[38;5;241m=\u001b[39m df_rfa[features]\n\u001b[1;32m     16\u001b[0m y \u001b[38;5;241m=\u001b[39m df_rfa[target]\n",
      "\u001b[0;31mNameError\u001b[0m: name 'df_a' is not defined"
     ]
    }
   ],
   "source": [
    "import pandas as pd\n",
    "from sklearn.model_selection import train_test_split\n",
    "from sklearn.ensemble import RandomForestClassifier\n",
    "from sklearn.metrics import accuracy_score, classification_report, confusion_matrix, f1_score, precision_score, recall_score, roc_auc_score\n",
    "from imblearn.pipeline import Pipeline\n",
    "from imblearn.over_sampling import SMOTE\n",
    "\n",
    "# Define the features and target\n",
    "features = ['day_of_week', 'month', 'day', 'hour', 'grouped_minute', 'temperature', 'rainfall',\n",
    "            'capacity', 'season', 'altitude', 'station_id', 'is_weekend', 'is_returning']\n",
    "target = 'docking_available'  # or 'bikes_available'\n",
    "\n",
    "# Create the dataset\n",
    "df_rfa = df_a.copy()\n",
    "X = df_rfa[features]\n",
    "y = df_rfa[target]\n",
    "\n",
    "# Convert categorical columns to one-hot encoding\n",
    "X = pd.get_dummies(X)\n",
    "\n",
    "# Train-test split\n",
    "X_train, X_test, y_train, y_test = train_test_split(X, y, test_size=0.2, random_state=42)\n",
    "\n",
    "# Define the pipeline with SMOTE and RandomForestClassifier\n",
    "pipeline = Pipeline([\n",
    "    ('smote', SMOTE(random_state=42)),\n",
    "    ('model', RandomForestClassifier(n_estimators=300,max_depth=30,min_samples_leaf=1,min_samples_split=10, random_state=42))\n",
    "])\n",
    "\n",
    "# Fit the model\n",
    "pipeline.fit(X_train, y_train)\n",
    "\n",
    "# Predictions\n",
    "y_pred = pipeline.predict(X_test)\n",
    "\n",
    "# Evaluate Accuracy, precision, recall, F1-score, ROC curve, AUC.\n",
    "accuracy = accuracy_score(y_test, y_pred)\n",
    "precision = precision_score(y_test, y_pred)\n",
    "recall = recall_score(y_test, y_pred)\n",
    "f1 = f1_score(y_test, y_pred)\n",
    "roc_auc = roc_auc_score(y_test, y_pred)\n",
    "conf_matrix = confusion_matrix(y_test, y_pred)\n",
    "class_report = classification_report(y_test, y_pred)\n",
    "\n",
    "print(f\"Accuracy: {accuracy}\")\n",
    "print(\"Confusion Matrix:\\n\", conf_matrix)\n",
    "print(\"Classification Report:\\n\", class_report)\n",
    "print(\"Precision: \", precision)\n",
    "print(\"Recall: \", recall)\n",
    "print(\"F1 Score: \", f1)\n",
    "print(\"ROC AUC: \", roc_auc)\n"
   ]
  },
  {
   "cell_type": "code",
   "execution_count": null,
   "metadata": {},
   "outputs": [],
   "source": []
  }
 ],
 "metadata": {
  "kernelspec": {
   "display_name": "Python 3",
   "language": "python",
   "name": "python3"
  },
  "language_info": {
   "codemirror_mode": {
    "name": "ipython",
    "version": 3
   },
   "file_extension": ".py",
   "mimetype": "text/x-python",
   "name": "python",
   "nbconvert_exporter": "python",
   "pygments_lexer": "ipython3",
   "version": "3.9.6"
  }
 },
 "nbformat": 4,
 "nbformat_minor": 2
}
