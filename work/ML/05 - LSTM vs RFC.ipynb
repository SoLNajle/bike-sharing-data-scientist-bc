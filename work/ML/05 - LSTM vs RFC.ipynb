{
 "cells": [
  {
   "cell_type": "code",
   "execution_count": 1,
   "metadata": {},
   "outputs": [],
   "source": [
    "import pandas as pd\n",
    "\n",
    "df_jan = pd.read_csv('../../data/bicing/processed/months/2023_01_STATIONS.csv')\n",
    "df_feb = pd.read_csv('../../data/bicing/processed/months/2023_02_STATIONS.csv')\n",
    "df_march = pd.read_csv('../../data/bicing/processed/months/2023_03_STATIONS.csv')\n",
    "df_april = pd.read_csv('../../data/bicing/processed/months/2023_04_STATIONS.csv')\n",
    "df_may = pd.read_csv('../../data/bicing/processed/months/2023_05_STATIONS.csv')\n",
    "df_june = pd.read_csv('../../data/bicing/processed/months/2023_06_STATIONS.csv')\n",
    "df_july = pd.read_csv('../../data/bicing/processed/months/2023_07_STATIONS.csv')\n",
    "df_aug = pd.read_csv('../../data/bicing/processed/months/2023_08_STATIONS.csv')\n",
    "df_sep = pd.read_csv('../../data/bicing/processed/months/2023_09_STATIONS.csv')\n",
    "df_oct = pd.read_csv('../../data/bicing/processed/months/2023_10_STATIONS.csv')\n",
    "df_nov = pd.read_csv('../../data/bicing/processed/months/2023_11_STATIONS.csv')\n",
    "df_dec = pd.read_csv('../../data/bicing/processed/months/2023_12_STATIONS.csv')\n"
   ]
  },
  {
   "cell_type": "code",
   "execution_count": 2,
   "metadata": {},
   "outputs": [],
   "source": [
    "df_jan = df_jan[(df_jan['month'] == 1) & (df_jan['year'] == 2023)]\n",
    "df_feb = df_feb[(df_feb['month'] == 2) & (df_feb['year'] == 2023)]\n",
    "df_march = df_march[(df_march['month'] == 3) & (df_march['year'] == 2023)]\n",
    "df_april = df_april[(df_april['month'] == 4) & (df_april['year'] == 2023)]\n",
    "df_may = df_may[(df_may['month'] == 5) & (df_may['year'] == 2023)]\n",
    "df_june = df_june[(df_june['month'] == 6) & (df_june['year'] == 2023)]\n",
    "df_july = df_july[(df_july['month'] == 7) & (df_july['year'] == 2023)]\n",
    "df_aug = df_aug[(df_aug['month'] == 8) & (df_aug['year'] == 2023)]\n",
    "df_sep = df_sep[(df_sep['month'] == 9) & (df_sep['year'] == 2023)]\n",
    "df_oct = df_oct[(df_oct['month'] == 10) & (df_oct['year'] == 2023)]\n",
    "df_nov = df_nov[(df_nov['month'] == 11) & (df_nov['year'] == 2023)]\n",
    "df_dec = df_dec[(df_dec['month'] == 12) & (df_dec['year'] == 2023)]"
   ]
  },
  {
   "cell_type": "code",
   "execution_count": 3,
   "metadata": {},
   "outputs": [
    {
     "data": {
      "text/html": [
       "<div>\n",
       "<style scoped>\n",
       "    .dataframe tbody tr th:only-of-type {\n",
       "        vertical-align: middle;\n",
       "    }\n",
       "\n",
       "    .dataframe tbody tr th {\n",
       "        vertical-align: top;\n",
       "    }\n",
       "\n",
       "    .dataframe thead th {\n",
       "        text-align: right;\n",
       "    }\n",
       "</style>\n",
       "<table border=\"1\" class=\"dataframe\">\n",
       "  <thead>\n",
       "    <tr style=\"text-align: right;\">\n",
       "      <th></th>\n",
       "      <th>station_id</th>\n",
       "      <th>num_bikes_available</th>\n",
       "      <th>num_bikes_available_types.mechanical</th>\n",
       "      <th>num_bikes_available_types.ebike</th>\n",
       "      <th>num_docks_available</th>\n",
       "      <th>status</th>\n",
       "      <th>is_renting</th>\n",
       "      <th>is_returning</th>\n",
       "      <th>year</th>\n",
       "      <th>month</th>\n",
       "      <th>day</th>\n",
       "      <th>hour</th>\n",
       "      <th>grouped_minute</th>\n",
       "      <th>day_of_week</th>\n",
       "      <th>is_weekend</th>\n",
       "      <th>grouped_date</th>\n",
       "      <th>docking_available</th>\n",
       "      <th>bikes_available</th>\n",
       "      <th>bikes_available.mechanical</th>\n",
       "      <th>bikes_available.ebike</th>\n",
       "    </tr>\n",
       "  </thead>\n",
       "  <tbody>\n",
       "    <tr>\n",
       "      <th>3826</th>\n",
       "      <td>1</td>\n",
       "      <td>37</td>\n",
       "      <td>35</td>\n",
       "      <td>2</td>\n",
       "      <td>9</td>\n",
       "      <td>IN_SERVICE</td>\n",
       "      <td>1</td>\n",
       "      <td>1</td>\n",
       "      <td>2023</td>\n",
       "      <td>1</td>\n",
       "      <td>1</td>\n",
       "      <td>0</td>\n",
       "      <td>0</td>\n",
       "      <td>6</td>\n",
       "      <td>1</td>\n",
       "      <td>2023-1-1 0:00</td>\n",
       "      <td>True</td>\n",
       "      <td>True</td>\n",
       "      <td>True</td>\n",
       "      <td>True</td>\n",
       "    </tr>\n",
       "    <tr>\n",
       "      <th>4396</th>\n",
       "      <td>185</td>\n",
       "      <td>9</td>\n",
       "      <td>4</td>\n",
       "      <td>5</td>\n",
       "      <td>8</td>\n",
       "      <td>IN_SERVICE</td>\n",
       "      <td>1</td>\n",
       "      <td>1</td>\n",
       "      <td>2023</td>\n",
       "      <td>1</td>\n",
       "      <td>1</td>\n",
       "      <td>0</td>\n",
       "      <td>0</td>\n",
       "      <td>6</td>\n",
       "      <td>1</td>\n",
       "      <td>2023-1-1 0:00</td>\n",
       "      <td>True</td>\n",
       "      <td>True</td>\n",
       "      <td>True</td>\n",
       "      <td>True</td>\n",
       "    </tr>\n",
       "    <tr>\n",
       "      <th>4397</th>\n",
       "      <td>188</td>\n",
       "      <td>23</td>\n",
       "      <td>20</td>\n",
       "      <td>3</td>\n",
       "      <td>4</td>\n",
       "      <td>IN_SERVICE</td>\n",
       "      <td>1</td>\n",
       "      <td>1</td>\n",
       "      <td>2023</td>\n",
       "      <td>1</td>\n",
       "      <td>1</td>\n",
       "      <td>0</td>\n",
       "      <td>0</td>\n",
       "      <td>6</td>\n",
       "      <td>1</td>\n",
       "      <td>2023-1-1 0:00</td>\n",
       "      <td>True</td>\n",
       "      <td>True</td>\n",
       "      <td>True</td>\n",
       "      <td>True</td>\n",
       "    </tr>\n",
       "    <tr>\n",
       "      <th>4398</th>\n",
       "      <td>196</td>\n",
       "      <td>6</td>\n",
       "      <td>1</td>\n",
       "      <td>5</td>\n",
       "      <td>21</td>\n",
       "      <td>IN_SERVICE</td>\n",
       "      <td>1</td>\n",
       "      <td>1</td>\n",
       "      <td>2023</td>\n",
       "      <td>1</td>\n",
       "      <td>1</td>\n",
       "      <td>0</td>\n",
       "      <td>0</td>\n",
       "      <td>6</td>\n",
       "      <td>1</td>\n",
       "      <td>2023-1-1 0:00</td>\n",
       "      <td>True</td>\n",
       "      <td>True</td>\n",
       "      <td>True</td>\n",
       "      <td>True</td>\n",
       "    </tr>\n",
       "    <tr>\n",
       "      <th>4399</th>\n",
       "      <td>201</td>\n",
       "      <td>2</td>\n",
       "      <td>0</td>\n",
       "      <td>2</td>\n",
       "      <td>22</td>\n",
       "      <td>IN_SERVICE</td>\n",
       "      <td>1</td>\n",
       "      <td>1</td>\n",
       "      <td>2023</td>\n",
       "      <td>1</td>\n",
       "      <td>1</td>\n",
       "      <td>0</td>\n",
       "      <td>0</td>\n",
       "      <td>6</td>\n",
       "      <td>1</td>\n",
       "      <td>2023-1-1 0:00</td>\n",
       "      <td>True</td>\n",
       "      <td>True</td>\n",
       "      <td>False</td>\n",
       "      <td>True</td>\n",
       "    </tr>\n",
       "  </tbody>\n",
       "</table>\n",
       "</div>"
      ],
      "text/plain": [
       "      station_id  num_bikes_available  num_bikes_available_types.mechanical  \\\n",
       "3826           1                   37                                    35   \n",
       "4396         185                    9                                     4   \n",
       "4397         188                   23                                    20   \n",
       "4398         196                    6                                     1   \n",
       "4399         201                    2                                     0   \n",
       "\n",
       "      num_bikes_available_types.ebike  num_docks_available      status  \\\n",
       "3826                                2                    9  IN_SERVICE   \n",
       "4396                                5                    8  IN_SERVICE   \n",
       "4397                                3                    4  IN_SERVICE   \n",
       "4398                                5                   21  IN_SERVICE   \n",
       "4399                                2                   22  IN_SERVICE   \n",
       "\n",
       "      is_renting  is_returning  year  month  day  hour  grouped_minute  \\\n",
       "3826           1             1  2023      1    1     0               0   \n",
       "4396           1             1  2023      1    1     0               0   \n",
       "4397           1             1  2023      1    1     0               0   \n",
       "4398           1             1  2023      1    1     0               0   \n",
       "4399           1             1  2023      1    1     0               0   \n",
       "\n",
       "      day_of_week  is_weekend   grouped_date  docking_available  \\\n",
       "3826            6           1  2023-1-1 0:00               True   \n",
       "4396            6           1  2023-1-1 0:00               True   \n",
       "4397            6           1  2023-1-1 0:00               True   \n",
       "4398            6           1  2023-1-1 0:00               True   \n",
       "4399            6           1  2023-1-1 0:00               True   \n",
       "\n",
       "      bikes_available  bikes_available.mechanical  bikes_available.ebike  \n",
       "3826             True                        True                   True  \n",
       "4396             True                        True                   True  \n",
       "4397             True                        True                   True  \n",
       "4398             True                        True                   True  \n",
       "4399             True                       False                   True  "
      ]
     },
     "execution_count": 3,
     "metadata": {},
     "output_type": "execute_result"
    }
   ],
   "source": [
    "df_2023 = pd.concat([df_jan, df_feb, df_march, df_april, df_may, df_june, df_july, df_aug, df_sep, df_oct, df_nov, df_dec])\n",
    "df_2023.sort_values(by=['grouped_date'], inplace=True)\n",
    "df_2023.head()"
   ]
  },
  {
   "cell_type": "code",
   "execution_count": 4,
   "metadata": {},
   "outputs": [
    {
     "data": {
      "text/html": [
       "<div>\n",
       "<style scoped>\n",
       "    .dataframe tbody tr th:only-of-type {\n",
       "        vertical-align: middle;\n",
       "    }\n",
       "\n",
       "    .dataframe tbody tr th {\n",
       "        vertical-align: top;\n",
       "    }\n",
       "\n",
       "    .dataframe thead th {\n",
       "        text-align: right;\n",
       "    }\n",
       "</style>\n",
       "<table border=\"1\" class=\"dataframe\">\n",
       "  <thead>\n",
       "    <tr style=\"text-align: right;\">\n",
       "      <th></th>\n",
       "      <th>station_id</th>\n",
       "      <th>num_bikes_available</th>\n",
       "      <th>num_bikes_available_types.mechanical</th>\n",
       "      <th>num_bikes_available_types.ebike</th>\n",
       "      <th>num_docks_available</th>\n",
       "      <th>status</th>\n",
       "      <th>is_renting</th>\n",
       "      <th>is_returning</th>\n",
       "      <th>year</th>\n",
       "      <th>month</th>\n",
       "      <th>...</th>\n",
       "      <th>hour</th>\n",
       "      <th>grouped_minute</th>\n",
       "      <th>day_of_week</th>\n",
       "      <th>is_weekend</th>\n",
       "      <th>grouped_date</th>\n",
       "      <th>docking_available</th>\n",
       "      <th>bikes_available</th>\n",
       "      <th>bikes_available.mechanical</th>\n",
       "      <th>bikes_available.ebike</th>\n",
       "      <th>season</th>\n",
       "    </tr>\n",
       "  </thead>\n",
       "  <tbody>\n",
       "    <tr>\n",
       "      <th>3826</th>\n",
       "      <td>1</td>\n",
       "      <td>37</td>\n",
       "      <td>35</td>\n",
       "      <td>2</td>\n",
       "      <td>9</td>\n",
       "      <td>IN_SERVICE</td>\n",
       "      <td>1</td>\n",
       "      <td>1</td>\n",
       "      <td>2023</td>\n",
       "      <td>1</td>\n",
       "      <td>...</td>\n",
       "      <td>0</td>\n",
       "      <td>0</td>\n",
       "      <td>6</td>\n",
       "      <td>1</td>\n",
       "      <td>2023-01-01</td>\n",
       "      <td>True</td>\n",
       "      <td>True</td>\n",
       "      <td>True</td>\n",
       "      <td>True</td>\n",
       "      <td>Winter</td>\n",
       "    </tr>\n",
       "    <tr>\n",
       "      <th>4396</th>\n",
       "      <td>185</td>\n",
       "      <td>9</td>\n",
       "      <td>4</td>\n",
       "      <td>5</td>\n",
       "      <td>8</td>\n",
       "      <td>IN_SERVICE</td>\n",
       "      <td>1</td>\n",
       "      <td>1</td>\n",
       "      <td>2023</td>\n",
       "      <td>1</td>\n",
       "      <td>...</td>\n",
       "      <td>0</td>\n",
       "      <td>0</td>\n",
       "      <td>6</td>\n",
       "      <td>1</td>\n",
       "      <td>2023-01-01</td>\n",
       "      <td>True</td>\n",
       "      <td>True</td>\n",
       "      <td>True</td>\n",
       "      <td>True</td>\n",
       "      <td>Winter</td>\n",
       "    </tr>\n",
       "    <tr>\n",
       "      <th>4397</th>\n",
       "      <td>188</td>\n",
       "      <td>23</td>\n",
       "      <td>20</td>\n",
       "      <td>3</td>\n",
       "      <td>4</td>\n",
       "      <td>IN_SERVICE</td>\n",
       "      <td>1</td>\n",
       "      <td>1</td>\n",
       "      <td>2023</td>\n",
       "      <td>1</td>\n",
       "      <td>...</td>\n",
       "      <td>0</td>\n",
       "      <td>0</td>\n",
       "      <td>6</td>\n",
       "      <td>1</td>\n",
       "      <td>2023-01-01</td>\n",
       "      <td>True</td>\n",
       "      <td>True</td>\n",
       "      <td>True</td>\n",
       "      <td>True</td>\n",
       "      <td>Winter</td>\n",
       "    </tr>\n",
       "    <tr>\n",
       "      <th>4398</th>\n",
       "      <td>196</td>\n",
       "      <td>6</td>\n",
       "      <td>1</td>\n",
       "      <td>5</td>\n",
       "      <td>21</td>\n",
       "      <td>IN_SERVICE</td>\n",
       "      <td>1</td>\n",
       "      <td>1</td>\n",
       "      <td>2023</td>\n",
       "      <td>1</td>\n",
       "      <td>...</td>\n",
       "      <td>0</td>\n",
       "      <td>0</td>\n",
       "      <td>6</td>\n",
       "      <td>1</td>\n",
       "      <td>2023-01-01</td>\n",
       "      <td>True</td>\n",
       "      <td>True</td>\n",
       "      <td>True</td>\n",
       "      <td>True</td>\n",
       "      <td>Winter</td>\n",
       "    </tr>\n",
       "  </tbody>\n",
       "</table>\n",
       "<p>4 rows × 21 columns</p>\n",
       "</div>"
      ],
      "text/plain": [
       "      station_id  num_bikes_available  num_bikes_available_types.mechanical  \\\n",
       "3826           1                   37                                    35   \n",
       "4396         185                    9                                     4   \n",
       "4397         188                   23                                    20   \n",
       "4398         196                    6                                     1   \n",
       "\n",
       "      num_bikes_available_types.ebike  num_docks_available      status  \\\n",
       "3826                                2                    9  IN_SERVICE   \n",
       "4396                                5                    8  IN_SERVICE   \n",
       "4397                                3                    4  IN_SERVICE   \n",
       "4398                                5                   21  IN_SERVICE   \n",
       "\n",
       "      is_renting  is_returning  year  month  ...  hour  grouped_minute  \\\n",
       "3826           1             1  2023      1  ...     0               0   \n",
       "4396           1             1  2023      1  ...     0               0   \n",
       "4397           1             1  2023      1  ...     0               0   \n",
       "4398           1             1  2023      1  ...     0               0   \n",
       "\n",
       "      day_of_week  is_weekend  grouped_date docking_available  \\\n",
       "3826            6           1    2023-01-01              True   \n",
       "4396            6           1    2023-01-01              True   \n",
       "4397            6           1    2023-01-01              True   \n",
       "4398            6           1    2023-01-01              True   \n",
       "\n",
       "      bikes_available  bikes_available.mechanical  bikes_available.ebike  \\\n",
       "3826             True                        True                   True   \n",
       "4396             True                        True                   True   \n",
       "4397             True                        True                   True   \n",
       "4398             True                        True                   True   \n",
       "\n",
       "      season  \n",
       "3826  Winter  \n",
       "4396  Winter  \n",
       "4397  Winter  \n",
       "4398  Winter  \n",
       "\n",
       "[4 rows x 21 columns]"
      ]
     },
     "execution_count": 4,
     "metadata": {},
     "output_type": "execute_result"
    }
   ],
   "source": [
    "df_2023['grouped_date'] = pd.to_datetime(df_2023['grouped_date'])\n",
    "df_2023['season'] = df_2023['grouped_date'].dt.month.apply(lambda x: 'Spring' if x in [3, 4, 5] else 'Summer' if x in [6, 7, 8] else 'Autumn' if x in [9, 10, 11] else 'Winter')\n",
    "df_2023.head(4)"
   ]
  },
  {
   "cell_type": "code",
   "execution_count": 5,
   "metadata": {},
   "outputs": [
    {
     "data": {
      "text/html": [
       "<div>\n",
       "<style scoped>\n",
       "    .dataframe tbody tr th:only-of-type {\n",
       "        vertical-align: middle;\n",
       "    }\n",
       "\n",
       "    .dataframe tbody tr th {\n",
       "        vertical-align: top;\n",
       "    }\n",
       "\n",
       "    .dataframe thead th {\n",
       "        text-align: right;\n",
       "    }\n",
       "</style>\n",
       "<table border=\"1\" class=\"dataframe\">\n",
       "  <thead>\n",
       "    <tr style=\"text-align: right;\">\n",
       "      <th></th>\n",
       "      <th>date</th>\n",
       "      <th>hour</th>\n",
       "      <th>temperature</th>\n",
       "      <th>rainfall</th>\n",
       "    </tr>\n",
       "  </thead>\n",
       "  <tbody>\n",
       "    <tr>\n",
       "      <th>0</th>\n",
       "      <td>2023-01-01</td>\n",
       "      <td>0</td>\n",
       "      <td>15</td>\n",
       "      <td>0.0</td>\n",
       "    </tr>\n",
       "    <tr>\n",
       "      <th>1</th>\n",
       "      <td>2023-01-01</td>\n",
       "      <td>1</td>\n",
       "      <td>14</td>\n",
       "      <td>0.0</td>\n",
       "    </tr>\n",
       "    <tr>\n",
       "      <th>2</th>\n",
       "      <td>2023-01-01</td>\n",
       "      <td>2</td>\n",
       "      <td>14</td>\n",
       "      <td>0.0</td>\n",
       "    </tr>\n",
       "  </tbody>\n",
       "</table>\n",
       "</div>"
      ],
      "text/plain": [
       "         date  hour  temperature  rainfall\n",
       "0  2023-01-01     0           15       0.0\n",
       "1  2023-01-01     1           14       0.0\n",
       "2  2023-01-01     2           14       0.0"
      ]
     },
     "execution_count": 5,
     "metadata": {},
     "output_type": "execute_result"
    }
   ],
   "source": [
    "df_weather = pd.read_csv('../../data/weather_clean.csv')\n",
    "\n",
    "df_weather.head(3)"
   ]
  },
  {
   "cell_type": "code",
   "execution_count": 6,
   "metadata": {},
   "outputs": [],
   "source": [
    "df_weather['date'] = pd.to_datetime(df_weather['date'])\n",
    "df_weather['day'] = df_weather['date'].dt.day.astype(int)\n",
    "df_weather['month'] = df_weather['date'].dt.month.astype(int)\n",
    "df_weather['year'] = df_weather['date'].dt.year.astype(int)\n",
    "df_weather['hour'] = df_weather['hour'].astype(int)"
   ]
  },
  {
   "cell_type": "code",
   "execution_count": 7,
   "metadata": {},
   "outputs": [
    {
     "data": {
      "text/html": [
       "<div>\n",
       "<style scoped>\n",
       "    .dataframe tbody tr th:only-of-type {\n",
       "        vertical-align: middle;\n",
       "    }\n",
       "\n",
       "    .dataframe tbody tr th {\n",
       "        vertical-align: top;\n",
       "    }\n",
       "\n",
       "    .dataframe thead th {\n",
       "        text-align: right;\n",
       "    }\n",
       "</style>\n",
       "<table border=\"1\" class=\"dataframe\">\n",
       "  <thead>\n",
       "    <tr style=\"text-align: right;\">\n",
       "      <th></th>\n",
       "      <th>station_id</th>\n",
       "      <th>num_bikes_available</th>\n",
       "      <th>num_bikes_available_types.mechanical</th>\n",
       "      <th>num_bikes_available_types.ebike</th>\n",
       "      <th>num_docks_available</th>\n",
       "      <th>status</th>\n",
       "      <th>is_renting</th>\n",
       "      <th>is_returning</th>\n",
       "      <th>year</th>\n",
       "      <th>month</th>\n",
       "      <th>...</th>\n",
       "      <th>is_weekend</th>\n",
       "      <th>grouped_date</th>\n",
       "      <th>docking_available</th>\n",
       "      <th>bikes_available</th>\n",
       "      <th>bikes_available.mechanical</th>\n",
       "      <th>bikes_available.ebike</th>\n",
       "      <th>season</th>\n",
       "      <th>date</th>\n",
       "      <th>temperature</th>\n",
       "      <th>rainfall</th>\n",
       "    </tr>\n",
       "  </thead>\n",
       "  <tbody>\n",
       "    <tr>\n",
       "      <th>0</th>\n",
       "      <td>1</td>\n",
       "      <td>37</td>\n",
       "      <td>35</td>\n",
       "      <td>2</td>\n",
       "      <td>9</td>\n",
       "      <td>IN_SERVICE</td>\n",
       "      <td>1</td>\n",
       "      <td>1</td>\n",
       "      <td>2023</td>\n",
       "      <td>1</td>\n",
       "      <td>...</td>\n",
       "      <td>1</td>\n",
       "      <td>2023-01-01</td>\n",
       "      <td>True</td>\n",
       "      <td>True</td>\n",
       "      <td>True</td>\n",
       "      <td>True</td>\n",
       "      <td>Winter</td>\n",
       "      <td>2023-01-01</td>\n",
       "      <td>15</td>\n",
       "      <td>0.0</td>\n",
       "    </tr>\n",
       "    <tr>\n",
       "      <th>1</th>\n",
       "      <td>185</td>\n",
       "      <td>9</td>\n",
       "      <td>4</td>\n",
       "      <td>5</td>\n",
       "      <td>8</td>\n",
       "      <td>IN_SERVICE</td>\n",
       "      <td>1</td>\n",
       "      <td>1</td>\n",
       "      <td>2023</td>\n",
       "      <td>1</td>\n",
       "      <td>...</td>\n",
       "      <td>1</td>\n",
       "      <td>2023-01-01</td>\n",
       "      <td>True</td>\n",
       "      <td>True</td>\n",
       "      <td>True</td>\n",
       "      <td>True</td>\n",
       "      <td>Winter</td>\n",
       "      <td>2023-01-01</td>\n",
       "      <td>15</td>\n",
       "      <td>0.0</td>\n",
       "    </tr>\n",
       "    <tr>\n",
       "      <th>2</th>\n",
       "      <td>188</td>\n",
       "      <td>23</td>\n",
       "      <td>20</td>\n",
       "      <td>3</td>\n",
       "      <td>4</td>\n",
       "      <td>IN_SERVICE</td>\n",
       "      <td>1</td>\n",
       "      <td>1</td>\n",
       "      <td>2023</td>\n",
       "      <td>1</td>\n",
       "      <td>...</td>\n",
       "      <td>1</td>\n",
       "      <td>2023-01-01</td>\n",
       "      <td>True</td>\n",
       "      <td>True</td>\n",
       "      <td>True</td>\n",
       "      <td>True</td>\n",
       "      <td>Winter</td>\n",
       "      <td>2023-01-01</td>\n",
       "      <td>15</td>\n",
       "      <td>0.0</td>\n",
       "    </tr>\n",
       "  </tbody>\n",
       "</table>\n",
       "<p>3 rows × 24 columns</p>\n",
       "</div>"
      ],
      "text/plain": [
       "   station_id  num_bikes_available  num_bikes_available_types.mechanical  \\\n",
       "0           1                   37                                    35   \n",
       "1         185                    9                                     4   \n",
       "2         188                   23                                    20   \n",
       "\n",
       "   num_bikes_available_types.ebike  num_docks_available      status  \\\n",
       "0                                2                    9  IN_SERVICE   \n",
       "1                                5                    8  IN_SERVICE   \n",
       "2                                3                    4  IN_SERVICE   \n",
       "\n",
       "   is_renting  is_returning  year  month  ...  is_weekend  grouped_date  \\\n",
       "0           1             1  2023      1  ...           1    2023-01-01   \n",
       "1           1             1  2023      1  ...           1    2023-01-01   \n",
       "2           1             1  2023      1  ...           1    2023-01-01   \n",
       "\n",
       "   docking_available  bikes_available  bikes_available.mechanical  \\\n",
       "0               True             True                        True   \n",
       "1               True             True                        True   \n",
       "2               True             True                        True   \n",
       "\n",
       "  bikes_available.ebike  season       date  temperature  rainfall  \n",
       "0                  True  Winter 2023-01-01           15       0.0  \n",
       "1                  True  Winter 2023-01-01           15       0.0  \n",
       "2                  True  Winter 2023-01-01           15       0.0  \n",
       "\n",
       "[3 rows x 24 columns]"
      ]
     },
     "execution_count": 7,
     "metadata": {},
     "output_type": "execute_result"
    }
   ],
   "source": [
    "df_2023_weather = pd.merge(df_2023, df_weather, on=['year', 'month', 'day', 'hour'], how='left')\n",
    "df_2023_weather.head(3)"
   ]
  },
  {
   "cell_type": "code",
   "execution_count": 8,
   "metadata": {},
   "outputs": [
    {
     "data": {
      "text/html": [
       "<div>\n",
       "<style scoped>\n",
       "    .dataframe tbody tr th:only-of-type {\n",
       "        vertical-align: middle;\n",
       "    }\n",
       "\n",
       "    .dataframe tbody tr th {\n",
       "        vertical-align: top;\n",
       "    }\n",
       "\n",
       "    .dataframe thead th {\n",
       "        text-align: right;\n",
       "    }\n",
       "</style>\n",
       "<table border=\"1\" class=\"dataframe\">\n",
       "  <thead>\n",
       "    <tr style=\"text-align: right;\">\n",
       "      <th></th>\n",
       "      <th>station_id</th>\n",
       "      <th>lat</th>\n",
       "      <th>lon</th>\n",
       "      <th>altitude</th>\n",
       "      <th>post_code</th>\n",
       "      <th>capacity</th>\n",
       "      <th>address</th>\n",
       "      <th>district</th>\n",
       "    </tr>\n",
       "  </thead>\n",
       "  <tbody>\n",
       "    <tr>\n",
       "      <th>0</th>\n",
       "      <td>1</td>\n",
       "      <td>41.397978</td>\n",
       "      <td>2.180107</td>\n",
       "      <td>16.0</td>\n",
       "      <td>08013</td>\n",
       "      <td>46</td>\n",
       "      <td>GRAN VIA CORTS CATALANES, 760</td>\n",
       "      <td>Eixample</td>\n",
       "    </tr>\n",
       "    <tr>\n",
       "      <th>1</th>\n",
       "      <td>2</td>\n",
       "      <td>41.395488</td>\n",
       "      <td>2.177198</td>\n",
       "      <td>17.0</td>\n",
       "      <td>08013</td>\n",
       "      <td>29</td>\n",
       "      <td>C/ ROGER DE FLOR, 126</td>\n",
       "      <td>Eixample</td>\n",
       "    </tr>\n",
       "    <tr>\n",
       "      <th>2</th>\n",
       "      <td>3</td>\n",
       "      <td>41.394156</td>\n",
       "      <td>2.181331</td>\n",
       "      <td>11.0</td>\n",
       "      <td>08013</td>\n",
       "      <td>27</td>\n",
       "      <td>C/ NÀPOLS, 82</td>\n",
       "      <td>Eixample</td>\n",
       "    </tr>\n",
       "    <tr>\n",
       "      <th>3</th>\n",
       "      <td>4</td>\n",
       "      <td>41.393317</td>\n",
       "      <td>2.181248</td>\n",
       "      <td>8.0</td>\n",
       "      <td>08013</td>\n",
       "      <td>21</td>\n",
       "      <td>C/ RIBES, 13</td>\n",
       "      <td>Eixample</td>\n",
       "    </tr>\n",
       "    <tr>\n",
       "      <th>4</th>\n",
       "      <td>5</td>\n",
       "      <td>41.391103</td>\n",
       "      <td>2.180176</td>\n",
       "      <td>7.0</td>\n",
       "      <td>08018</td>\n",
       "      <td>39</td>\n",
       "      <td>PG. LLUIS COMPANYS, 11 (ARC TRIOMF)</td>\n",
       "      <td>Sant Martí</td>\n",
       "    </tr>\n",
       "  </tbody>\n",
       "</table>\n",
       "</div>"
      ],
      "text/plain": [
       "   station_id        lat       lon  altitude post_code  capacity  \\\n",
       "0           1  41.397978  2.180107      16.0     08013        46   \n",
       "1           2  41.395488  2.177198      17.0     08013        29   \n",
       "2           3  41.394156  2.181331      11.0     08013        27   \n",
       "3           4  41.393317  2.181248       8.0     08013        21   \n",
       "4           5  41.391103  2.180176       7.0     08018        39   \n",
       "\n",
       "                               address    district  \n",
       "0        GRAN VIA CORTS CATALANES, 760    Eixample  \n",
       "1                C/ ROGER DE FLOR, 126    Eixample  \n",
       "2                        C/ NÀPOLS, 82    Eixample  \n",
       "3                         C/ RIBES, 13    Eixample  \n",
       "4  PG. LLUIS COMPANYS, 11 (ARC TRIOMF)  Sant Martí  "
      ]
     },
     "execution_count": 8,
     "metadata": {},
     "output_type": "execute_result"
    }
   ],
   "source": [
    "station_info_df = pd.read_csv('../../data/bicing/processed/2024_STATION_LOCATIONS.csv', dtype={'post_code': str})\n",
    "station_info_df.head()"
   ]
  },
  {
   "cell_type": "code",
   "execution_count": 9,
   "metadata": {},
   "outputs": [
    {
     "data": {
      "text/html": [
       "<div>\n",
       "<style scoped>\n",
       "    .dataframe tbody tr th:only-of-type {\n",
       "        vertical-align: middle;\n",
       "    }\n",
       "\n",
       "    .dataframe tbody tr th {\n",
       "        vertical-align: top;\n",
       "    }\n",
       "\n",
       "    .dataframe thead th {\n",
       "        text-align: right;\n",
       "    }\n",
       "</style>\n",
       "<table border=\"1\" class=\"dataframe\">\n",
       "  <thead>\n",
       "    <tr style=\"text-align: right;\">\n",
       "      <th></th>\n",
       "      <th>station_id</th>\n",
       "      <th>num_bikes_available</th>\n",
       "      <th>num_bikes_available_types.mechanical</th>\n",
       "      <th>num_bikes_available_types.ebike</th>\n",
       "      <th>num_docks_available</th>\n",
       "      <th>status</th>\n",
       "      <th>is_renting</th>\n",
       "      <th>is_returning</th>\n",
       "      <th>year</th>\n",
       "      <th>month</th>\n",
       "      <th>...</th>\n",
       "      <th>date</th>\n",
       "      <th>temperature</th>\n",
       "      <th>rainfall</th>\n",
       "      <th>lat</th>\n",
       "      <th>lon</th>\n",
       "      <th>altitude</th>\n",
       "      <th>post_code</th>\n",
       "      <th>capacity</th>\n",
       "      <th>address</th>\n",
       "      <th>district</th>\n",
       "    </tr>\n",
       "  </thead>\n",
       "  <tbody>\n",
       "    <tr>\n",
       "      <th>0</th>\n",
       "      <td>1</td>\n",
       "      <td>37</td>\n",
       "      <td>35</td>\n",
       "      <td>2</td>\n",
       "      <td>9</td>\n",
       "      <td>IN_SERVICE</td>\n",
       "      <td>1</td>\n",
       "      <td>1</td>\n",
       "      <td>2023</td>\n",
       "      <td>1</td>\n",
       "      <td>...</td>\n",
       "      <td>2023-01-01</td>\n",
       "      <td>15</td>\n",
       "      <td>0.0</td>\n",
       "      <td>41.397978</td>\n",
       "      <td>2.180107</td>\n",
       "      <td>16.0</td>\n",
       "      <td>08013</td>\n",
       "      <td>46.0</td>\n",
       "      <td>GRAN VIA CORTS CATALANES, 760</td>\n",
       "      <td>Eixample</td>\n",
       "    </tr>\n",
       "    <tr>\n",
       "      <th>1</th>\n",
       "      <td>185</td>\n",
       "      <td>9</td>\n",
       "      <td>4</td>\n",
       "      <td>5</td>\n",
       "      <td>8</td>\n",
       "      <td>IN_SERVICE</td>\n",
       "      <td>1</td>\n",
       "      <td>1</td>\n",
       "      <td>2023</td>\n",
       "      <td>1</td>\n",
       "      <td>...</td>\n",
       "      <td>2023-01-01</td>\n",
       "      <td>15</td>\n",
       "      <td>0.0</td>\n",
       "      <td>41.370372</td>\n",
       "      <td>2.138944</td>\n",
       "      <td>20.0</td>\n",
       "      <td>08014</td>\n",
       "      <td>17.0</td>\n",
       "      <td>C/GAVÀ, 81</td>\n",
       "      <td>Sants-Montjuïc</td>\n",
       "    </tr>\n",
       "    <tr>\n",
       "      <th>2</th>\n",
       "      <td>188</td>\n",
       "      <td>23</td>\n",
       "      <td>20</td>\n",
       "      <td>3</td>\n",
       "      <td>4</td>\n",
       "      <td>IN_SERVICE</td>\n",
       "      <td>1</td>\n",
       "      <td>1</td>\n",
       "      <td>2023</td>\n",
       "      <td>1</td>\n",
       "      <td>...</td>\n",
       "      <td>2023-01-01</td>\n",
       "      <td>15</td>\n",
       "      <td>0.0</td>\n",
       "      <td>41.375695</td>\n",
       "      <td>2.135857</td>\n",
       "      <td>30.0</td>\n",
       "      <td>08014</td>\n",
       "      <td>27.0</td>\n",
       "      <td>PG. SANT ANTONI /PL. SANTS</td>\n",
       "      <td>Sants-Montjuïc</td>\n",
       "    </tr>\n",
       "    <tr>\n",
       "      <th>3</th>\n",
       "      <td>196</td>\n",
       "      <td>6</td>\n",
       "      <td>1</td>\n",
       "      <td>5</td>\n",
       "      <td>21</td>\n",
       "      <td>IN_SERVICE</td>\n",
       "      <td>1</td>\n",
       "      <td>1</td>\n",
       "      <td>2023</td>\n",
       "      <td>1</td>\n",
       "      <td>...</td>\n",
       "      <td>2023-01-01</td>\n",
       "      <td>15</td>\n",
       "      <td>0.0</td>\n",
       "      <td>41.383261</td>\n",
       "      <td>2.139266</td>\n",
       "      <td>38.0</td>\n",
       "      <td>08029</td>\n",
       "      <td>27.0</td>\n",
       "      <td>C/ BERLÍN, 38</td>\n",
       "      <td>Les Corts</td>\n",
       "    </tr>\n",
       "    <tr>\n",
       "      <th>4</th>\n",
       "      <td>201</td>\n",
       "      <td>2</td>\n",
       "      <td>0</td>\n",
       "      <td>2</td>\n",
       "      <td>22</td>\n",
       "      <td>IN_SERVICE</td>\n",
       "      <td>1</td>\n",
       "      <td>1</td>\n",
       "      <td>2023</td>\n",
       "      <td>1</td>\n",
       "      <td>...</td>\n",
       "      <td>2023-01-01</td>\n",
       "      <td>15</td>\n",
       "      <td>0.0</td>\n",
       "      <td>41.387806</td>\n",
       "      <td>2.134422</td>\n",
       "      <td>55.0</td>\n",
       "      <td>08029</td>\n",
       "      <td>24.0</td>\n",
       "      <td>C/ NUMÀNCIA, 136</td>\n",
       "      <td>Les Corts</td>\n",
       "    </tr>\n",
       "  </tbody>\n",
       "</table>\n",
       "<p>5 rows × 31 columns</p>\n",
       "</div>"
      ],
      "text/plain": [
       "   station_id  num_bikes_available  num_bikes_available_types.mechanical  \\\n",
       "0           1                   37                                    35   \n",
       "1         185                    9                                     4   \n",
       "2         188                   23                                    20   \n",
       "3         196                    6                                     1   \n",
       "4         201                    2                                     0   \n",
       "\n",
       "   num_bikes_available_types.ebike  num_docks_available      status  \\\n",
       "0                                2                    9  IN_SERVICE   \n",
       "1                                5                    8  IN_SERVICE   \n",
       "2                                3                    4  IN_SERVICE   \n",
       "3                                5                   21  IN_SERVICE   \n",
       "4                                2                   22  IN_SERVICE   \n",
       "\n",
       "   is_renting  is_returning  year  month  ...       date  temperature  \\\n",
       "0           1             1  2023      1  ... 2023-01-01           15   \n",
       "1           1             1  2023      1  ... 2023-01-01           15   \n",
       "2           1             1  2023      1  ... 2023-01-01           15   \n",
       "3           1             1  2023      1  ... 2023-01-01           15   \n",
       "4           1             1  2023      1  ... 2023-01-01           15   \n",
       "\n",
       "   rainfall        lat       lon altitude  post_code  capacity  \\\n",
       "0       0.0  41.397978  2.180107     16.0      08013      46.0   \n",
       "1       0.0  41.370372  2.138944     20.0      08014      17.0   \n",
       "2       0.0  41.375695  2.135857     30.0      08014      27.0   \n",
       "3       0.0  41.383261  2.139266     38.0      08029      27.0   \n",
       "4       0.0  41.387806  2.134422     55.0      08029      24.0   \n",
       "\n",
       "                         address        district  \n",
       "0  GRAN VIA CORTS CATALANES, 760        Eixample  \n",
       "1                     C/GAVÀ, 81  Sants-Montjuïc  \n",
       "2     PG. SANT ANTONI /PL. SANTS  Sants-Montjuïc  \n",
       "3                  C/ BERLÍN, 38       Les Corts  \n",
       "4               C/ NUMÀNCIA, 136       Les Corts  \n",
       "\n",
       "[5 rows x 31 columns]"
      ]
     },
     "execution_count": 9,
     "metadata": {},
     "output_type": "execute_result"
    }
   ],
   "source": [
    "df_2023_weather_station = pd.merge(df_2023_weather, station_info_df, on='station_id', how='left')\n",
    "df_2023_weather_station.head()"
   ]
  },
  {
   "cell_type": "code",
   "execution_count": 10,
   "metadata": {},
   "outputs": [
    {
     "data": {
      "text/plain": [
       "Index(['station_id', 'num_bikes_available',\n",
       "       'num_bikes_available_types.mechanical',\n",
       "       'num_bikes_available_types.ebike', 'num_docks_available', 'status',\n",
       "       'is_renting', 'is_returning', 'year', 'month', 'day', 'hour',\n",
       "       'grouped_minute', 'day_of_week', 'is_weekend', 'grouped_date',\n",
       "       'docking_available', 'bikes_available', 'bikes_available.mechanical',\n",
       "       'bikes_available.ebike', 'season', 'date', 'temperature', 'rainfall',\n",
       "       'lat', 'lon', 'altitude', 'post_code', 'capacity', 'address',\n",
       "       'district'],\n",
       "      dtype='object')"
      ]
     },
     "execution_count": 10,
     "metadata": {},
     "output_type": "execute_result"
    }
   ],
   "source": [
    "df_2023_weather_station.columns"
   ]
  },
  {
   "cell_type": "code",
   "execution_count": null,
   "metadata": {},
   "outputs": [],
   "source": []
  },
  {
   "cell_type": "code",
   "execution_count": 11,
   "metadata": {},
   "outputs": [
    {
     "data": {
      "text/html": [
       "<div>\n",
       "<style scoped>\n",
       "    .dataframe tbody tr th:only-of-type {\n",
       "        vertical-align: middle;\n",
       "    }\n",
       "\n",
       "    .dataframe tbody tr th {\n",
       "        vertical-align: top;\n",
       "    }\n",
       "\n",
       "    .dataframe thead th {\n",
       "        text-align: right;\n",
       "    }\n",
       "</style>\n",
       "<table border=\"1\" class=\"dataframe\">\n",
       "  <thead>\n",
       "    <tr style=\"text-align: right;\">\n",
       "      <th></th>\n",
       "      <th>station_id</th>\n",
       "      <th>num_bikes_available</th>\n",
       "      <th>num_bikes_available_types.mechanical</th>\n",
       "      <th>num_bikes_available_types.ebike</th>\n",
       "      <th>num_docks_available</th>\n",
       "      <th>status</th>\n",
       "      <th>is_renting</th>\n",
       "      <th>is_returning</th>\n",
       "      <th>year</th>\n",
       "      <th>month</th>\n",
       "      <th>...</th>\n",
       "      <th>date</th>\n",
       "      <th>temperature</th>\n",
       "      <th>rainfall</th>\n",
       "      <th>lat</th>\n",
       "      <th>lon</th>\n",
       "      <th>altitude</th>\n",
       "      <th>post_code</th>\n",
       "      <th>capacity</th>\n",
       "      <th>address</th>\n",
       "      <th>district</th>\n",
       "    </tr>\n",
       "  </thead>\n",
       "  <tbody>\n",
       "    <tr>\n",
       "      <th>0</th>\n",
       "      <td>1</td>\n",
       "      <td>37</td>\n",
       "      <td>35</td>\n",
       "      <td>2</td>\n",
       "      <td>9</td>\n",
       "      <td>IN_SERVICE</td>\n",
       "      <td>1</td>\n",
       "      <td>1</td>\n",
       "      <td>2023</td>\n",
       "      <td>1</td>\n",
       "      <td>...</td>\n",
       "      <td>2023-01-01</td>\n",
       "      <td>15</td>\n",
       "      <td>0.0</td>\n",
       "      <td>41.397978</td>\n",
       "      <td>2.180107</td>\n",
       "      <td>16.0</td>\n",
       "      <td>08013</td>\n",
       "      <td>46.0</td>\n",
       "      <td>GRAN VIA CORTS CATALANES, 760</td>\n",
       "      <td>Eixample</td>\n",
       "    </tr>\n",
       "    <tr>\n",
       "      <th>1</th>\n",
       "      <td>185</td>\n",
       "      <td>9</td>\n",
       "      <td>4</td>\n",
       "      <td>5</td>\n",
       "      <td>8</td>\n",
       "      <td>IN_SERVICE</td>\n",
       "      <td>1</td>\n",
       "      <td>1</td>\n",
       "      <td>2023</td>\n",
       "      <td>1</td>\n",
       "      <td>...</td>\n",
       "      <td>2023-01-01</td>\n",
       "      <td>15</td>\n",
       "      <td>0.0</td>\n",
       "      <td>41.370372</td>\n",
       "      <td>2.138944</td>\n",
       "      <td>20.0</td>\n",
       "      <td>08014</td>\n",
       "      <td>17.0</td>\n",
       "      <td>C/GAVÀ, 81</td>\n",
       "      <td>Sants-Montjuïc</td>\n",
       "    </tr>\n",
       "    <tr>\n",
       "      <th>2</th>\n",
       "      <td>188</td>\n",
       "      <td>23</td>\n",
       "      <td>20</td>\n",
       "      <td>3</td>\n",
       "      <td>4</td>\n",
       "      <td>IN_SERVICE</td>\n",
       "      <td>1</td>\n",
       "      <td>1</td>\n",
       "      <td>2023</td>\n",
       "      <td>1</td>\n",
       "      <td>...</td>\n",
       "      <td>2023-01-01</td>\n",
       "      <td>15</td>\n",
       "      <td>0.0</td>\n",
       "      <td>41.375695</td>\n",
       "      <td>2.135857</td>\n",
       "      <td>30.0</td>\n",
       "      <td>08014</td>\n",
       "      <td>27.0</td>\n",
       "      <td>PG. SANT ANTONI /PL. SANTS</td>\n",
       "      <td>Sants-Montjuïc</td>\n",
       "    </tr>\n",
       "    <tr>\n",
       "      <th>3</th>\n",
       "      <td>196</td>\n",
       "      <td>6</td>\n",
       "      <td>1</td>\n",
       "      <td>5</td>\n",
       "      <td>21</td>\n",
       "      <td>IN_SERVICE</td>\n",
       "      <td>1</td>\n",
       "      <td>1</td>\n",
       "      <td>2023</td>\n",
       "      <td>1</td>\n",
       "      <td>...</td>\n",
       "      <td>2023-01-01</td>\n",
       "      <td>15</td>\n",
       "      <td>0.0</td>\n",
       "      <td>41.383261</td>\n",
       "      <td>2.139266</td>\n",
       "      <td>38.0</td>\n",
       "      <td>08029</td>\n",
       "      <td>27.0</td>\n",
       "      <td>C/ BERLÍN, 38</td>\n",
       "      <td>Les Corts</td>\n",
       "    </tr>\n",
       "    <tr>\n",
       "      <th>4</th>\n",
       "      <td>201</td>\n",
       "      <td>2</td>\n",
       "      <td>0</td>\n",
       "      <td>2</td>\n",
       "      <td>22</td>\n",
       "      <td>IN_SERVICE</td>\n",
       "      <td>1</td>\n",
       "      <td>1</td>\n",
       "      <td>2023</td>\n",
       "      <td>1</td>\n",
       "      <td>...</td>\n",
       "      <td>2023-01-01</td>\n",
       "      <td>15</td>\n",
       "      <td>0.0</td>\n",
       "      <td>41.387806</td>\n",
       "      <td>2.134422</td>\n",
       "      <td>55.0</td>\n",
       "      <td>08029</td>\n",
       "      <td>24.0</td>\n",
       "      <td>C/ NUMÀNCIA, 136</td>\n",
       "      <td>Les Corts</td>\n",
       "    </tr>\n",
       "  </tbody>\n",
       "</table>\n",
       "<p>5 rows × 31 columns</p>\n",
       "</div>"
      ],
      "text/plain": [
       "   station_id  num_bikes_available  num_bikes_available_types.mechanical  \\\n",
       "0           1                   37                                    35   \n",
       "1         185                    9                                     4   \n",
       "2         188                   23                                    20   \n",
       "3         196                    6                                     1   \n",
       "4         201                    2                                     0   \n",
       "\n",
       "   num_bikes_available_types.ebike  num_docks_available      status  \\\n",
       "0                                2                    9  IN_SERVICE   \n",
       "1                                5                    8  IN_SERVICE   \n",
       "2                                3                    4  IN_SERVICE   \n",
       "3                                5                   21  IN_SERVICE   \n",
       "4                                2                   22  IN_SERVICE   \n",
       "\n",
       "   is_renting  is_returning  year  month  ...       date  temperature  \\\n",
       "0           1             1  2023      1  ... 2023-01-01           15   \n",
       "1           1             1  2023      1  ... 2023-01-01           15   \n",
       "2           1             1  2023      1  ... 2023-01-01           15   \n",
       "3           1             1  2023      1  ... 2023-01-01           15   \n",
       "4           1             1  2023      1  ... 2023-01-01           15   \n",
       "\n",
       "   rainfall        lat       lon altitude  post_code  capacity  \\\n",
       "0       0.0  41.397978  2.180107     16.0      08013      46.0   \n",
       "1       0.0  41.370372  2.138944     20.0      08014      17.0   \n",
       "2       0.0  41.375695  2.135857     30.0      08014      27.0   \n",
       "3       0.0  41.383261  2.139266     38.0      08029      27.0   \n",
       "4       0.0  41.387806  2.134422     55.0      08029      24.0   \n",
       "\n",
       "                         address        district  \n",
       "0  GRAN VIA CORTS CATALANES, 760        Eixample  \n",
       "1                     C/GAVÀ, 81  Sants-Montjuïc  \n",
       "2     PG. SANT ANTONI /PL. SANTS  Sants-Montjuïc  \n",
       "3                  C/ BERLÍN, 38       Les Corts  \n",
       "4               C/ NUMÀNCIA, 136       Les Corts  \n",
       "\n",
       "[5 rows x 31 columns]"
      ]
     },
     "execution_count": 11,
     "metadata": {},
     "output_type": "execute_result"
    }
   ],
   "source": [
    "columns_to_keep = ['station_id', 'num_bikes_available',\n",
    "                   'num_bikes_available_types.mechanical',\n",
    "                   'num_bikes_available_types.ebike', 'num_docks_available', 'status',\n",
    "                   'is_renting', 'is_returning', 'day_of_week', 'is_weekend', 'grouped_date',\n",
    "                   'docking_available', 'bikes_available', 'bikes_available.mechanical',\n",
    "                   'bikes_available.ebike', 'temperature', 'rainfall', 'lat', 'lon', 'post_code', 'altitude', 'capacity', 'year', 'month', 'day', 'hour','season'\n",
    "       'grouped_minute']\n",
    "\n",
    "df_2023_ml = df_2023_weather_station\n",
    "df_2023_ml.head()"
   ]
  },
  {
   "cell_type": "code",
   "execution_count": 12,
   "metadata": {},
   "outputs": [],
   "source": [
    "df_2023_ml[df_2023_ml['capacity'].isnull()]['station_id'].unique()\n",
    "#Station 520 missing information\n",
    "df_2023_ml = df_2023_ml[df_2023_ml['station_id'] != 520]"
   ]
  },
  {
   "cell_type": "code",
   "execution_count": 13,
   "metadata": {},
   "outputs": [
    {
     "data": {
      "text/plain": [
       "station_id                              0\n",
       "num_bikes_available                     0\n",
       "num_bikes_available_types.mechanical    0\n",
       "num_bikes_available_types.ebike         0\n",
       "num_docks_available                     0\n",
       "status                                  0\n",
       "is_renting                              0\n",
       "is_returning                            0\n",
       "year                                    0\n",
       "month                                   0\n",
       "day                                     0\n",
       "hour                                    0\n",
       "grouped_minute                          0\n",
       "day_of_week                             0\n",
       "is_weekend                              0\n",
       "grouped_date                            0\n",
       "docking_available                       0\n",
       "bikes_available                         0\n",
       "bikes_available.mechanical              0\n",
       "bikes_available.ebike                   0\n",
       "season                                  0\n",
       "date                                    0\n",
       "temperature                             0\n",
       "rainfall                                0\n",
       "lat                                     0\n",
       "lon                                     0\n",
       "altitude                                0\n",
       "post_code                               0\n",
       "capacity                                0\n",
       "address                                 0\n",
       "district                                0\n",
       "dtype: int64"
      ]
     },
     "execution_count": 13,
     "metadata": {},
     "output_type": "execute_result"
    }
   ],
   "source": [
    "df_2023_ml.isnull().sum()"
   ]
  },
  {
   "cell_type": "code",
   "execution_count": 14,
   "metadata": {},
   "outputs": [
    {
     "name": "stderr",
     "output_type": "stream",
     "text": [
      "/var/folders/1j/zxqksxbs0bg17c_9cj2hm8bh0000gn/T/ipykernel_37086/2227770550.py:1: SettingWithCopyWarning: \n",
      "A value is trying to be set on a copy of a slice from a DataFrame.\n",
      "Try using .loc[row_indexer,col_indexer] = value instead\n",
      "\n",
      "See the caveats in the documentation: https://pandas.pydata.org/pandas-docs/stable/user_guide/indexing.html#returning-a-view-versus-a-copy\n",
      "  df_2023_ml['grouped_date'] = pd.to_datetime(df_2023_ml['grouped_date'])\n"
     ]
    }
   ],
   "source": [
    "df_2023_ml['grouped_date'] = pd.to_datetime(df_2023_ml['grouped_date'])"
   ]
  },
  {
   "cell_type": "code",
   "execution_count": 15,
   "metadata": {},
   "outputs": [
    {
     "name": "stderr",
     "output_type": "stream",
     "text": [
      "/var/folders/1j/zxqksxbs0bg17c_9cj2hm8bh0000gn/T/ipykernel_37086/2482286237.py:2: FutureWarning: The behavior of 'isin' with dtype=datetime64[ns] and castable values (e.g. strings) is deprecated. In a future version, these will not be considered matching by isin. Explicitly cast to the appropriate dtype before calling isin instead.\n",
      "  df_2023_ml['is_holiday'] = df_2023_ml['grouped_date'].isin(holidays)\n",
      "/var/folders/1j/zxqksxbs0bg17c_9cj2hm8bh0000gn/T/ipykernel_37086/2482286237.py:2: SettingWithCopyWarning: \n",
      "A value is trying to be set on a copy of a slice from a DataFrame.\n",
      "Try using .loc[row_indexer,col_indexer] = value instead\n",
      "\n",
      "See the caveats in the documentation: https://pandas.pydata.org/pandas-docs/stable/user_guide/indexing.html#returning-a-view-versus-a-copy\n",
      "  df_2023_ml['is_holiday'] = df_2023_ml['grouped_date'].isin(holidays)\n"
     ]
    },
    {
     "data": {
      "text/plain": [
       "1935575    2023-01-06\n",
       "1935576    2023-01-06\n",
       "1935577    2023-01-06\n",
       "1935578    2023-01-06\n",
       "1935579    2023-01-06\n",
       "              ...    \n",
       "26002052   2023-09-11\n",
       "26002053   2023-09-11\n",
       "26002054   2023-09-11\n",
       "26002055   2023-09-11\n",
       "26002056   2023-09-11\n",
       "Name: grouped_date, Length: 8928, dtype: datetime64[ns]"
      ]
     },
     "execution_count": 15,
     "metadata": {},
     "output_type": "execute_result"
    }
   ],
   "source": [
    "holidays = ['01/06/2023', '04/07/2023', '04/10/2023', '05/01/2023', '06/24/2023', '08/15/2023', '09/11/2023', '10/12/2023', '11/01/2023', '12/06/2023', '12/08/2023', '12/25/2023', '12/26/2023']\n",
    "df_2023_ml['is_holiday'] = df_2023_ml['grouped_date'].isin(holidays)\n",
    "df_2023_ml[df_2023_ml['is_holiday'] == True]['grouped_date']"
   ]
  },
  {
   "cell_type": "code",
   "execution_count": 16,
   "metadata": {},
   "outputs": [
    {
     "name": "stderr",
     "output_type": "stream",
     "text": [
      "/var/folders/1j/zxqksxbs0bg17c_9cj2hm8bh0000gn/T/ipykernel_37086/150156111.py:1: SettingWithCopyWarning: \n",
      "A value is trying to be set on a copy of a slice from a DataFrame.\n",
      "Try using .loc[row_indexer,col_indexer] = value instead\n",
      "\n",
      "See the caveats in the documentation: https://pandas.pydata.org/pandas-docs/stable/user_guide/indexing.html#returning-a-view-versus-a-copy\n",
      "  df_2023_ml['percentage_docks_available'] = df_2023_ml['num_docks_available'] / df_2023_ml['capacity']\n"
     ]
    },
    {
     "data": {
      "text/html": [
       "<div>\n",
       "<style scoped>\n",
       "    .dataframe tbody tr th:only-of-type {\n",
       "        vertical-align: middle;\n",
       "    }\n",
       "\n",
       "    .dataframe tbody tr th {\n",
       "        vertical-align: top;\n",
       "    }\n",
       "\n",
       "    .dataframe thead th {\n",
       "        text-align: right;\n",
       "    }\n",
       "</style>\n",
       "<table border=\"1\" class=\"dataframe\">\n",
       "  <thead>\n",
       "    <tr style=\"text-align: right;\">\n",
       "      <th></th>\n",
       "      <th>station_id</th>\n",
       "      <th>num_bikes_available</th>\n",
       "      <th>num_bikes_available_types.mechanical</th>\n",
       "      <th>num_bikes_available_types.ebike</th>\n",
       "      <th>num_docks_available</th>\n",
       "      <th>status</th>\n",
       "      <th>is_renting</th>\n",
       "      <th>is_returning</th>\n",
       "      <th>year</th>\n",
       "      <th>month</th>\n",
       "      <th>...</th>\n",
       "      <th>rainfall</th>\n",
       "      <th>lat</th>\n",
       "      <th>lon</th>\n",
       "      <th>altitude</th>\n",
       "      <th>post_code</th>\n",
       "      <th>capacity</th>\n",
       "      <th>address</th>\n",
       "      <th>district</th>\n",
       "      <th>is_holiday</th>\n",
       "      <th>percentage_docks_available</th>\n",
       "    </tr>\n",
       "  </thead>\n",
       "  <tbody>\n",
       "    <tr>\n",
       "      <th>0</th>\n",
       "      <td>1</td>\n",
       "      <td>37</td>\n",
       "      <td>35</td>\n",
       "      <td>2</td>\n",
       "      <td>9</td>\n",
       "      <td>IN_SERVICE</td>\n",
       "      <td>1</td>\n",
       "      <td>1</td>\n",
       "      <td>2023</td>\n",
       "      <td>1</td>\n",
       "      <td>...</td>\n",
       "      <td>0.0</td>\n",
       "      <td>41.397978</td>\n",
       "      <td>2.180107</td>\n",
       "      <td>16.0</td>\n",
       "      <td>08013</td>\n",
       "      <td>46.0</td>\n",
       "      <td>GRAN VIA CORTS CATALANES, 760</td>\n",
       "      <td>Eixample</td>\n",
       "      <td>False</td>\n",
       "      <td>0.195652</td>\n",
       "    </tr>\n",
       "    <tr>\n",
       "      <th>1</th>\n",
       "      <td>185</td>\n",
       "      <td>9</td>\n",
       "      <td>4</td>\n",
       "      <td>5</td>\n",
       "      <td>8</td>\n",
       "      <td>IN_SERVICE</td>\n",
       "      <td>1</td>\n",
       "      <td>1</td>\n",
       "      <td>2023</td>\n",
       "      <td>1</td>\n",
       "      <td>...</td>\n",
       "      <td>0.0</td>\n",
       "      <td>41.370372</td>\n",
       "      <td>2.138944</td>\n",
       "      <td>20.0</td>\n",
       "      <td>08014</td>\n",
       "      <td>17.0</td>\n",
       "      <td>C/GAVÀ, 81</td>\n",
       "      <td>Sants-Montjuïc</td>\n",
       "      <td>False</td>\n",
       "      <td>0.470588</td>\n",
       "    </tr>\n",
       "    <tr>\n",
       "      <th>2</th>\n",
       "      <td>188</td>\n",
       "      <td>23</td>\n",
       "      <td>20</td>\n",
       "      <td>3</td>\n",
       "      <td>4</td>\n",
       "      <td>IN_SERVICE</td>\n",
       "      <td>1</td>\n",
       "      <td>1</td>\n",
       "      <td>2023</td>\n",
       "      <td>1</td>\n",
       "      <td>...</td>\n",
       "      <td>0.0</td>\n",
       "      <td>41.375695</td>\n",
       "      <td>2.135857</td>\n",
       "      <td>30.0</td>\n",
       "      <td>08014</td>\n",
       "      <td>27.0</td>\n",
       "      <td>PG. SANT ANTONI /PL. SANTS</td>\n",
       "      <td>Sants-Montjuïc</td>\n",
       "      <td>False</td>\n",
       "      <td>0.148148</td>\n",
       "    </tr>\n",
       "    <tr>\n",
       "      <th>3</th>\n",
       "      <td>196</td>\n",
       "      <td>6</td>\n",
       "      <td>1</td>\n",
       "      <td>5</td>\n",
       "      <td>21</td>\n",
       "      <td>IN_SERVICE</td>\n",
       "      <td>1</td>\n",
       "      <td>1</td>\n",
       "      <td>2023</td>\n",
       "      <td>1</td>\n",
       "      <td>...</td>\n",
       "      <td>0.0</td>\n",
       "      <td>41.383261</td>\n",
       "      <td>2.139266</td>\n",
       "      <td>38.0</td>\n",
       "      <td>08029</td>\n",
       "      <td>27.0</td>\n",
       "      <td>C/ BERLÍN, 38</td>\n",
       "      <td>Les Corts</td>\n",
       "      <td>False</td>\n",
       "      <td>0.777778</td>\n",
       "    </tr>\n",
       "    <tr>\n",
       "      <th>4</th>\n",
       "      <td>201</td>\n",
       "      <td>2</td>\n",
       "      <td>0</td>\n",
       "      <td>2</td>\n",
       "      <td>22</td>\n",
       "      <td>IN_SERVICE</td>\n",
       "      <td>1</td>\n",
       "      <td>1</td>\n",
       "      <td>2023</td>\n",
       "      <td>1</td>\n",
       "      <td>...</td>\n",
       "      <td>0.0</td>\n",
       "      <td>41.387806</td>\n",
       "      <td>2.134422</td>\n",
       "      <td>55.0</td>\n",
       "      <td>08029</td>\n",
       "      <td>24.0</td>\n",
       "      <td>C/ NUMÀNCIA, 136</td>\n",
       "      <td>Les Corts</td>\n",
       "      <td>False</td>\n",
       "      <td>0.916667</td>\n",
       "    </tr>\n",
       "  </tbody>\n",
       "</table>\n",
       "<p>5 rows × 33 columns</p>\n",
       "</div>"
      ],
      "text/plain": [
       "   station_id  num_bikes_available  num_bikes_available_types.mechanical  \\\n",
       "0           1                   37                                    35   \n",
       "1         185                    9                                     4   \n",
       "2         188                   23                                    20   \n",
       "3         196                    6                                     1   \n",
       "4         201                    2                                     0   \n",
       "\n",
       "   num_bikes_available_types.ebike  num_docks_available      status  \\\n",
       "0                                2                    9  IN_SERVICE   \n",
       "1                                5                    8  IN_SERVICE   \n",
       "2                                3                    4  IN_SERVICE   \n",
       "3                                5                   21  IN_SERVICE   \n",
       "4                                2                   22  IN_SERVICE   \n",
       "\n",
       "   is_renting  is_returning  year  month  ...  rainfall        lat       lon  \\\n",
       "0           1             1  2023      1  ...       0.0  41.397978  2.180107   \n",
       "1           1             1  2023      1  ...       0.0  41.370372  2.138944   \n",
       "2           1             1  2023      1  ...       0.0  41.375695  2.135857   \n",
       "3           1             1  2023      1  ...       0.0  41.383261  2.139266   \n",
       "4           1             1  2023      1  ...       0.0  41.387806  2.134422   \n",
       "\n",
       "   altitude  post_code capacity                        address  \\\n",
       "0      16.0      08013     46.0  GRAN VIA CORTS CATALANES, 760   \n",
       "1      20.0      08014     17.0                     C/GAVÀ, 81   \n",
       "2      30.0      08014     27.0     PG. SANT ANTONI /PL. SANTS   \n",
       "3      38.0      08029     27.0                  C/ BERLÍN, 38   \n",
       "4      55.0      08029     24.0               C/ NUMÀNCIA, 136   \n",
       "\n",
       "         district  is_holiday  percentage_docks_available  \n",
       "0        Eixample       False                    0.195652  \n",
       "1  Sants-Montjuïc       False                    0.470588  \n",
       "2  Sants-Montjuïc       False                    0.148148  \n",
       "3       Les Corts       False                    0.777778  \n",
       "4       Les Corts       False                    0.916667  \n",
       "\n",
       "[5 rows x 33 columns]"
      ]
     },
     "execution_count": 16,
     "metadata": {},
     "output_type": "execute_result"
    }
   ],
   "source": [
    "df_2023_ml['percentage_docks_available'] = df_2023_ml['num_docks_available'] / df_2023_ml['capacity']\n",
    "df_2023_ml.head(5)"
   ]
  },
  {
   "cell_type": "code",
   "execution_count": 17,
   "metadata": {},
   "outputs": [
    {
     "name": "stderr",
     "output_type": "stream",
     "text": [
      "/var/folders/1j/zxqksxbs0bg17c_9cj2hm8bh0000gn/T/ipykernel_37086/3535076674.py:1: SettingWithCopyWarning: \n",
      "A value is trying to be set on a copy of a slice from a DataFrame.\n",
      "Try using .loc[row_indexer,col_indexer] = value instead\n",
      "\n",
      "See the caveats in the documentation: https://pandas.pydata.org/pandas-docs/stable/user_guide/indexing.html#returning-a-view-versus-a-copy\n",
      "  df_2023_ml['week_number'] = df_2023_ml['grouped_date'].dt.isocalendar().week\n"
     ]
    }
   ],
   "source": [
    "df_2023_ml['week_number'] = df_2023_ml['grouped_date'].dt.isocalendar().week"
   ]
  },
  {
   "cell_type": "code",
   "execution_count": 18,
   "metadata": {},
   "outputs": [
    {
     "name": "stderr",
     "output_type": "stream",
     "text": [
      "/var/folders/1j/zxqksxbs0bg17c_9cj2hm8bh0000gn/T/ipykernel_37086/1510188512.py:1: SettingWithCopyWarning: \n",
      "A value is trying to be set on a copy of a slice from a DataFrame.\n",
      "Try using .loc[row_indexer,col_indexer] = value instead\n",
      "\n",
      "See the caveats in the documentation: https://pandas.pydata.org/pandas-docs/stable/user_guide/indexing.html#returning-a-view-versus-a-copy\n",
      "  df_2023_ml['is_summer'] = df_2023_ml['season'] == 'Summer'\n"
     ]
    }
   ],
   "source": [
    "df_2023_ml['is_summer'] = df_2023_ml['season'] == 'Summer'"
   ]
  },
  {
   "cell_type": "code",
   "execution_count": 19,
   "metadata": {},
   "outputs": [
    {
     "data": {
      "text/plain": [
       "Index(['station_id', 'num_bikes_available',\n",
       "       'num_bikes_available_types.mechanical',\n",
       "       'num_bikes_available_types.ebike', 'num_docks_available', 'status',\n",
       "       'is_renting', 'is_returning', 'year', 'month', 'day', 'hour',\n",
       "       'grouped_minute', 'day_of_week', 'is_weekend', 'grouped_date',\n",
       "       'docking_available', 'bikes_available', 'bikes_available.mechanical',\n",
       "       'bikes_available.ebike', 'season', 'date', 'temperature', 'rainfall',\n",
       "       'lat', 'lon', 'altitude', 'post_code', 'capacity', 'address',\n",
       "       'district', 'is_holiday', 'percentage_docks_available', 'week_number',\n",
       "       'is_summer'],\n",
       "      dtype='object')"
      ]
     },
     "execution_count": 19,
     "metadata": {},
     "output_type": "execute_result"
    }
   ],
   "source": [
    "#filter stations if needed\n",
    "stations_ids = df_2023_ml['station_id'].unique()\n",
    "# get 5 random stations\n",
    "import random\n",
    "filter_stations = random.sample(list(stations_ids), 5)\n",
    "#filter_stations = [57, 446]\n",
    "filter_stations = [57, 32, 31, 378, 446]\n",
    "df_a = df_2023_ml[df_2023_ml['station_id'].isin(filter_stations)]\n",
    "#df_a = df_2023_ml\n",
    "df_a.columns"
   ]
  },
  {
   "cell_type": "markdown",
   "metadata": {},
   "source": [
    "# Reduce Dataset"
   ]
  },
  {
   "cell_type": "markdown",
   "metadata": {},
   "source": [
    "## May"
   ]
  },
  {
   "cell_type": "markdown",
   "metadata": {},
   "source": [
    "### Prepare Data DF"
   ]
  },
  {
   "cell_type": "code",
   "execution_count": 30,
   "metadata": {},
   "outputs": [
    {
     "name": "stdout",
     "output_type": "stream",
     "text": [
      "25220\n",
      "15236\n",
      "12445\n",
      "0\n"
     ]
    }
   ],
   "source": [
    "#May has the most data - 31 days  * 24 hours * 4 quarters = 2976\n",
    "# Filter May\n",
    "df_may = df_a[df_a['month'] == 5]\n",
    "#only columns to be able to drop duplicates\n",
    "features = ['day_of_week', 'hour', 'grouped_minute', 'temperature', 'rainfall',\n",
    "            'capacity',  'altitude', 'is_weekend', 'season', 'month','docking_available','grouped_date','station_id']\n",
    "df_may = df_may[features]\n",
    "\n",
    "# drop duplicates\n",
    "print(len(df_may))\n",
    "df_may.drop_duplicates(inplace=True)\n",
    "print(len(df_may))\n",
    "\n",
    "# check for missing values\n",
    "df_may.isna().sum()\n",
    "\n",
    "#find duplicated records by grouped_date\n",
    "print(df_may['grouped_date'].duplicated().sum())\n",
    "#keep one record per grouped_date, keep docking_available as the 0 of the duplicates\n",
    "df_may.drop_duplicates(subset='grouped_date', keep='last', inplace=True)\n",
    "print(df_may['grouped_date'].duplicated().sum())\n",
    "\n",
    "\n",
    "\n"
   ]
  },
  {
   "cell_type": "markdown",
   "metadata": {},
   "source": [
    "### Create May dates DF\n"
   ]
  },
  {
   "cell_type": "code",
   "execution_count": 23,
   "metadata": {},
   "outputs": [
    {
     "name": "stderr",
     "output_type": "stream",
     "text": [
      "/var/folders/1j/zxqksxbs0bg17c_9cj2hm8bh0000gn/T/ipykernel_37086/2312929128.py:1: FutureWarning: 'T' is deprecated and will be removed in a future version, please use 'min' instead.\n",
      "  df_may_dates = pd.date_range(start='2023-05-01', end='2023-06-1', freq='15T')\n"
     ]
    },
    {
     "data": {
      "text/plain": [
       "2976"
      ]
     },
     "execution_count": 23,
     "metadata": {},
     "output_type": "execute_result"
    }
   ],
   "source": [
    "\n",
    "df_may_dates = pd.date_range(start='2023-05-01', end='2023-06-1', freq='15T')\n",
    "#Delete June 1st\n",
    "df_may_dates = df_may_dates[:-1]\n",
    "len(df_may_dates)"
   ]
  },
  {
   "cell_type": "markdown",
   "metadata": {},
   "source": [
    "### Check missing values in the Dates"
   ]
  },
  {
   "cell_type": "markdown",
   "metadata": {},
   "source": []
  },
  {
   "cell_type": "code",
   "execution_count": 31,
   "metadata": {},
   "outputs": [
    {
     "data": {
      "text/plain": [
       "185"
      ]
     },
     "execution_count": 31,
     "metadata": {},
     "output_type": "execute_result"
    }
   ],
   "source": [
    "missing_quarters = ~df_may_dates.isin(df_may['grouped_date'])\n",
    "len(df_may_dates[missing_quarters])"
   ]
  },
  {
   "cell_type": "markdown",
   "metadata": {},
   "source": [
    "### fill in data from previous records"
   ]
  },
  {
   "cell_type": "code",
   "execution_count": 32,
   "metadata": {},
   "outputs": [
    {
     "name": "stderr",
     "output_type": "stream",
     "text": [
      "/var/folders/1j/zxqksxbs0bg17c_9cj2hm8bh0000gn/T/ipykernel_37086/893244272.py:9: FutureWarning: DataFrame.fillna with 'method' is deprecated and will raise in a future version. Use obj.ffill() or obj.bfill() instead.\n",
      "  df_may_filled = df_may_merged.sort_values(['station_id', 'grouped_date']).fillna(method='ffill')\n",
      "/var/folders/1j/zxqksxbs0bg17c_9cj2hm8bh0000gn/T/ipykernel_37086/893244272.py:9: FutureWarning: Downcasting object dtype arrays on .fillna, .ffill, .bfill is deprecated and will change in a future version. Call result.infer_objects(copy=False) instead. To opt-in to the future behavior, set `pd.set_option('future.no_silent_downcasting', True)`\n",
      "  df_may_filled = df_may_merged.sort_values(['station_id', 'grouped_date']).fillna(method='ffill')\n"
     ]
    },
    {
     "data": {
      "text/plain": [
       "day_of_week          0\n",
       "hour                 0\n",
       "grouped_minute       0\n",
       "temperature          0\n",
       "rainfall             0\n",
       "capacity             0\n",
       "altitude             0\n",
       "is_weekend           0\n",
       "season               0\n",
       "month                0\n",
       "docking_available    0\n",
       "grouped_date         0\n",
       "station_id           0\n",
       "dtype: int64"
      ]
     },
     "execution_count": 32,
     "metadata": {},
     "output_type": "execute_result"
    }
   ],
   "source": [
    "#add missing quarters interpolated\n",
    "missing_quarters = df_may_dates[missing_quarters]\n",
    "# create a dataframe with the missing quarters\n",
    "df_missing = pd.DataFrame(missing_quarters, columns=['grouped_date'])\n",
    "#merge with the original dataframe\n",
    "df_may_merged = pd.merge(df_may, df_missing, on='grouped_date', how='outer')\n",
    "#sort by date\n",
    "#df_may_merged.sort_values(['station_id', 'grouped_date'], inplace=True)\n",
    "df_may_filled = df_may_merged.sort_values(['station_id', 'grouped_date']).fillna(method='ffill')\n",
    "df_may_filled.isna().sum()"
   ]
  },
  {
   "cell_type": "markdown",
   "metadata": {},
   "source": [
    "### Check Dates field again in case of fill in "
   ]
  },
  {
   "cell_type": "code",
   "execution_count": 33,
   "metadata": {},
   "outputs": [
    {
     "data": {
      "text/html": [
       "<div>\n",
       "<style scoped>\n",
       "    .dataframe tbody tr th:only-of-type {\n",
       "        vertical-align: middle;\n",
       "    }\n",
       "\n",
       "    .dataframe tbody tr th {\n",
       "        vertical-align: top;\n",
       "    }\n",
       "\n",
       "    .dataframe thead th {\n",
       "        text-align: right;\n",
       "    }\n",
       "</style>\n",
       "<table border=\"1\" class=\"dataframe\">\n",
       "  <thead>\n",
       "    <tr style=\"text-align: right;\">\n",
       "      <th></th>\n",
       "      <th>day_of_week</th>\n",
       "      <th>hour</th>\n",
       "      <th>grouped_minute</th>\n",
       "      <th>temperature</th>\n",
       "      <th>rainfall</th>\n",
       "      <th>capacity</th>\n",
       "      <th>altitude</th>\n",
       "      <th>is_weekend</th>\n",
       "      <th>season</th>\n",
       "      <th>month</th>\n",
       "      <th>docking_available</th>\n",
       "      <th>grouped_date</th>\n",
       "      <th>station_id</th>\n",
       "      <th>day</th>\n",
       "    </tr>\n",
       "  </thead>\n",
       "  <tbody>\n",
       "    <tr>\n",
       "      <th>73</th>\n",
       "      <td>0</td>\n",
       "      <td>18</td>\n",
       "      <td>15</td>\n",
       "      <td>17.0</td>\n",
       "      <td>0.0</td>\n",
       "      <td>18.0</td>\n",
       "      <td>4.0</td>\n",
       "      <td>0.0</td>\n",
       "      <td>Spring</td>\n",
       "      <td>5.0</td>\n",
       "      <td>True</td>\n",
       "      <td>2023-05-01 18:15:00</td>\n",
       "      <td>31.0</td>\n",
       "      <td>1</td>\n",
       "    </tr>\n",
       "    <tr>\n",
       "      <th>79</th>\n",
       "      <td>0</td>\n",
       "      <td>19</td>\n",
       "      <td>45</td>\n",
       "      <td>17.0</td>\n",
       "      <td>0.0</td>\n",
       "      <td>18.0</td>\n",
       "      <td>4.0</td>\n",
       "      <td>0.0</td>\n",
       "      <td>Spring</td>\n",
       "      <td>5.0</td>\n",
       "      <td>True</td>\n",
       "      <td>2023-05-01 19:45:00</td>\n",
       "      <td>31.0</td>\n",
       "      <td>1</td>\n",
       "    </tr>\n",
       "    <tr>\n",
       "      <th>105</th>\n",
       "      <td>1</td>\n",
       "      <td>2</td>\n",
       "      <td>15</td>\n",
       "      <td>16.0</td>\n",
       "      <td>0.0</td>\n",
       "      <td>18.0</td>\n",
       "      <td>4.0</td>\n",
       "      <td>0.0</td>\n",
       "      <td>Spring</td>\n",
       "      <td>5.0</td>\n",
       "      <td>True</td>\n",
       "      <td>2023-05-02 02:15:00</td>\n",
       "      <td>31.0</td>\n",
       "      <td>2</td>\n",
       "    </tr>\n",
       "  </tbody>\n",
       "</table>\n",
       "</div>"
      ],
      "text/plain": [
       "     day_of_week  hour  grouped_minute  temperature  rainfall  capacity  \\\n",
       "73             0    18              15         17.0       0.0      18.0   \n",
       "79             0    19              45         17.0       0.0      18.0   \n",
       "105            1     2              15         16.0       0.0      18.0   \n",
       "\n",
       "     altitude  is_weekend  season  month  docking_available  \\\n",
       "73        4.0         0.0  Spring    5.0               True   \n",
       "79        4.0         0.0  Spring    5.0               True   \n",
       "105       4.0         0.0  Spring    5.0               True   \n",
       "\n",
       "           grouped_date  station_id  day  \n",
       "73  2023-05-01 18:15:00        31.0    1  \n",
       "79  2023-05-01 19:45:00        31.0    1  \n",
       "105 2023-05-02 02:15:00        31.0    2  "
      ]
     },
     "execution_count": 33,
     "metadata": {},
     "output_type": "execute_result"
    }
   ],
   "source": [
    "df_may_filled['day_of_week'] = df_may_filled['grouped_date'].dt.dayofweek\n",
    "df_may_filled['hour'] = df_may_filled['grouped_date'].dt.hour\n",
    "df_may_filled['grouped_minute'] = df_may_filled['grouped_date'].dt.minute \n",
    "df_may_filled['day'] = df_may_filled['grouped_date'].dt.day\n",
    "df_may_filled.head(3)"
   ]
  },
  {
   "cell_type": "code",
   "execution_count": 34,
   "metadata": {},
   "outputs": [
    {
     "data": {
      "text/plain": [
       "array([ 31.,  32.,  57., 378., 446.])"
      ]
     },
     "execution_count": 34,
     "metadata": {},
     "output_type": "execute_result"
    }
   ],
   "source": [
    "df_may_filled['station_id'].unique()"
   ]
  },
  {
   "cell_type": "code",
   "execution_count": 35,
   "metadata": {},
   "outputs": [],
   "source": [
    "df_may_filled['hour_minute'] = df_may_filled['hour'] + df_may_filled['grouped_minute'] / 60"
   ]
  },
  {
   "cell_type": "markdown",
   "metadata": {},
   "source": [
    "## LSTM"
   ]
  },
  {
   "cell_type": "code",
   "execution_count": 62,
   "metadata": {},
   "outputs": [
    {
     "name": "stdout",
     "output_type": "stream",
     "text": [
      "Epoch 1/30\n"
     ]
    },
    {
     "name": "stderr",
     "output_type": "stream",
     "text": [
      "/Users/sol/Library/Python/3.9/lib/python/site-packages/keras/src/layers/rnn/rnn.py:204: UserWarning:\n",
      "\n",
      "Do not pass an `input_shape`/`input_dim` argument to a layer. When using Sequential models, prefer using an `Input(shape)` object as the first layer in the model instead.\n",
      "\n"
     ]
    },
    {
     "name": "stdout",
     "output_type": "stream",
     "text": [
      "\u001b[1m60/60\u001b[0m \u001b[32m━━━━━━━━━━━━━━━━━━━━\u001b[0m\u001b[37m\u001b[0m \u001b[1m5s\u001b[0m 18ms/step - accuracy: 0.7185 - loss: 0.5994 - val_accuracy: 0.7811 - val_loss: 0.5045\n",
      "Epoch 2/30\n",
      "\u001b[1m60/60\u001b[0m \u001b[32m━━━━━━━━━━━━━━━━━━━━\u001b[0m\u001b[37m\u001b[0m \u001b[1m1s\u001b[0m 9ms/step - accuracy: 0.7819 - loss: 0.4970 - val_accuracy: 0.7811 - val_loss: 0.4850\n",
      "Epoch 3/30\n",
      "\u001b[1m60/60\u001b[0m \u001b[32m━━━━━━━━━━━━━━━━━━━━\u001b[0m\u001b[37m\u001b[0m \u001b[1m1s\u001b[0m 9ms/step - accuracy: 0.7838 - loss: 0.4802 - val_accuracy: 0.7811 - val_loss: 0.4900\n",
      "Epoch 4/30\n",
      "\u001b[1m60/60\u001b[0m \u001b[32m━━━━━━━━━━━━━━━━━━━━\u001b[0m\u001b[37m\u001b[0m \u001b[1m1s\u001b[0m 11ms/step - accuracy: 0.7777 - loss: 0.4593 - val_accuracy: 0.7811 - val_loss: 0.4713\n",
      "Epoch 5/30\n",
      "\u001b[1m60/60\u001b[0m \u001b[32m━━━━━━━━━━━━━━━━━━━━\u001b[0m\u001b[37m\u001b[0m \u001b[1m1s\u001b[0m 9ms/step - accuracy: 0.7964 - loss: 0.4083 - val_accuracy: 0.7811 - val_loss: 0.4543\n",
      "Epoch 6/30\n",
      "\u001b[1m60/60\u001b[0m \u001b[32m━━━━━━━━━━━━━━━━━━━━\u001b[0m\u001b[37m\u001b[0m \u001b[1m1s\u001b[0m 9ms/step - accuracy: 0.7969 - loss: 0.4081 - val_accuracy: 0.7747 - val_loss: 0.4612\n",
      "Epoch 7/30\n",
      "\u001b[1m60/60\u001b[0m \u001b[32m━━━━━━━━━━━━━━━━━━━━\u001b[0m\u001b[37m\u001b[0m \u001b[1m1s\u001b[0m 9ms/step - accuracy: 0.8128 - loss: 0.3721 - val_accuracy: 0.7768 - val_loss: 0.4404\n",
      "Epoch 8/30\n",
      "\u001b[1m60/60\u001b[0m \u001b[32m━━━━━━━━━━━━━━━━━━━━\u001b[0m\u001b[37m\u001b[0m \u001b[1m1s\u001b[0m 9ms/step - accuracy: 0.8152 - loss: 0.3556 - val_accuracy: 0.7684 - val_loss: 0.4481\n",
      "Epoch 9/30\n",
      "\u001b[1m60/60\u001b[0m \u001b[32m━━━━━━━━━━━━━━━━━━━━\u001b[0m\u001b[37m\u001b[0m \u001b[1m1s\u001b[0m 9ms/step - accuracy: 0.8506 - loss: 0.3077 - val_accuracy: 0.7621 - val_loss: 0.4392\n",
      "Epoch 10/30\n",
      "\u001b[1m60/60\u001b[0m \u001b[32m━━━━━━━━━━━━━━━━━━━━\u001b[0m\u001b[37m\u001b[0m \u001b[1m1s\u001b[0m 9ms/step - accuracy: 0.8532 - loss: 0.2999 - val_accuracy: 0.7726 - val_loss: 0.4506\n",
      "Epoch 11/30\n",
      "\u001b[1m60/60\u001b[0m \u001b[32m━━━━━━━━━━━━━━━━━━━━\u001b[0m\u001b[37m\u001b[0m \u001b[1m1s\u001b[0m 9ms/step - accuracy: 0.8572 - loss: 0.2891 - val_accuracy: 0.7642 - val_loss: 0.4311\n",
      "Epoch 12/30\n",
      "\u001b[1m60/60\u001b[0m \u001b[32m━━━━━━━━━━━━━━━━━━━━\u001b[0m\u001b[37m\u001b[0m \u001b[1m1s\u001b[0m 9ms/step - accuracy: 0.8605 - loss: 0.2822 - val_accuracy: 0.7874 - val_loss: 0.4296\n",
      "Epoch 13/30\n",
      "\u001b[1m60/60\u001b[0m \u001b[32m━━━━━━━━━━━━━━━━━━━━\u001b[0m\u001b[37m\u001b[0m \u001b[1m1s\u001b[0m 11ms/step - accuracy: 0.8682 - loss: 0.2459 - val_accuracy: 0.7853 - val_loss: 0.5133\n",
      "Epoch 14/30\n",
      "\u001b[1m60/60\u001b[0m \u001b[32m━━━━━━━━━━━━━━━━━━━━\u001b[0m\u001b[37m\u001b[0m \u001b[1m1s\u001b[0m 9ms/step - accuracy: 0.8838 - loss: 0.2351 - val_accuracy: 0.7811 - val_loss: 0.5527\n",
      "Epoch 15/30\n",
      "\u001b[1m60/60\u001b[0m \u001b[32m━━━━━━━━━━━━━━━━━━━━\u001b[0m\u001b[37m\u001b[0m \u001b[1m1s\u001b[0m 9ms/step - accuracy: 0.8830 - loss: 0.2232 - val_accuracy: 0.7747 - val_loss: 0.5378\n",
      "Epoch 16/30\n",
      "\u001b[1m60/60\u001b[0m \u001b[32m━━━━━━━━━━━━━━━━━━━━\u001b[0m\u001b[37m\u001b[0m \u001b[1m1s\u001b[0m 9ms/step - accuracy: 0.9049 - loss: 0.2051 - val_accuracy: 0.7811 - val_loss: 0.6185\n",
      "Epoch 17/30\n",
      "\u001b[1m60/60\u001b[0m \u001b[32m━━━━━━━━━━━━━━━━━━━━\u001b[0m\u001b[37m\u001b[0m \u001b[1m1s\u001b[0m 11ms/step - accuracy: 0.8818 - loss: 0.2456 - val_accuracy: 0.7558 - val_loss: 0.6581\n",
      "Epoch 18/30\n",
      "\u001b[1m60/60\u001b[0m \u001b[32m━━━━━━━━━━━━━━━━━━━━\u001b[0m\u001b[37m\u001b[0m \u001b[1m1s\u001b[0m 9ms/step - accuracy: 0.9010 - loss: 0.1985 - val_accuracy: 0.7516 - val_loss: 0.6307\n",
      "Epoch 19/30\n",
      "\u001b[1m60/60\u001b[0m \u001b[32m━━━━━━━━━━━━━━━━━━━━\u001b[0m\u001b[37m\u001b[0m \u001b[1m1s\u001b[0m 9ms/step - accuracy: 0.8956 - loss: 0.2050 - val_accuracy: 0.7705 - val_loss: 0.8483\n",
      "Epoch 20/30\n",
      "\u001b[1m60/60\u001b[0m \u001b[32m━━━━━━━━━━━━━━━━━━━━\u001b[0m\u001b[37m\u001b[0m \u001b[1m1s\u001b[0m 9ms/step - accuracy: 0.8660 - loss: 0.2845 - val_accuracy: 0.7747 - val_loss: 0.8759\n",
      "Epoch 21/30\n",
      "\u001b[1m60/60\u001b[0m \u001b[32m━━━━━━━━━━━━━━━━━━━━\u001b[0m\u001b[37m\u001b[0m \u001b[1m1s\u001b[0m 10ms/step - accuracy: 0.9010 - loss: 0.2064 - val_accuracy: 0.7811 - val_loss: 0.9273\n",
      "Epoch 22/30\n",
      "\u001b[1m60/60\u001b[0m \u001b[32m━━━━━━━━━━━━━━━━━━━━\u001b[0m\u001b[37m\u001b[0m \u001b[1m1s\u001b[0m 9ms/step - accuracy: 0.9008 - loss: 0.1934 - val_accuracy: 0.7853 - val_loss: 1.5143\n",
      "Epoch 23/30\n",
      "\u001b[1m60/60\u001b[0m \u001b[32m━━━━━━━━━━━━━━━━━━━━\u001b[0m\u001b[37m\u001b[0m \u001b[1m1s\u001b[0m 9ms/step - accuracy: 0.9010 - loss: 0.1890 - val_accuracy: 0.7747 - val_loss: 1.1965\n",
      "Epoch 24/30\n",
      "\u001b[1m60/60\u001b[0m \u001b[32m━━━━━━━━━━━━━━━━━━━━\u001b[0m\u001b[37m\u001b[0m \u001b[1m1s\u001b[0m 9ms/step - accuracy: 0.8994 - loss: 0.1856 - val_accuracy: 0.7853 - val_loss: 1.6449\n",
      "Epoch 25/30\n",
      "\u001b[1m60/60\u001b[0m \u001b[32m━━━━━━━━━━━━━━━━━━━━\u001b[0m\u001b[37m\u001b[0m \u001b[1m1s\u001b[0m 9ms/step - accuracy: 0.8973 - loss: 0.1873 - val_accuracy: 0.7853 - val_loss: 1.4692\n",
      "Epoch 26/30\n",
      "\u001b[1m60/60\u001b[0m \u001b[32m━━━━━━━━━━━━━━━━━━━━\u001b[0m\u001b[37m\u001b[0m \u001b[1m1s\u001b[0m 11ms/step - accuracy: 0.9182 - loss: 0.1662 - val_accuracy: 0.7789 - val_loss: 1.5550\n",
      "Epoch 27/30\n",
      "\u001b[1m60/60\u001b[0m \u001b[32m━━━━━━━━━━━━━━━━━━━━\u001b[0m\u001b[37m\u001b[0m \u001b[1m1s\u001b[0m 9ms/step - accuracy: 0.9221 - loss: 0.1550 - val_accuracy: 0.7579 - val_loss: 1.3090\n",
      "Epoch 28/30\n",
      "\u001b[1m60/60\u001b[0m \u001b[32m━━━━━━━━━━━━━━━━━━━━\u001b[0m\u001b[37m\u001b[0m \u001b[1m1s\u001b[0m 9ms/step - accuracy: 0.9314 - loss: 0.1519 - val_accuracy: 0.7789 - val_loss: 1.0896\n",
      "Epoch 29/30\n",
      "\u001b[1m60/60\u001b[0m \u001b[32m━━━━━━━━━━━━━━━━━━━━\u001b[0m\u001b[37m\u001b[0m \u001b[1m1s\u001b[0m 9ms/step - accuracy: 0.9206 - loss: 0.1619 - val_accuracy: 0.7558 - val_loss: 1.8528\n",
      "Epoch 30/30\n",
      "\u001b[1m60/60\u001b[0m \u001b[32m━━━━━━━━━━━━━━━━━━━━\u001b[0m\u001b[37m\u001b[0m \u001b[1m1s\u001b[0m 11ms/step - accuracy: 0.9246 - loss: 0.1644 - val_accuracy: 0.7768 - val_loss: 2.2142\n",
      "\u001b[1m19/19\u001b[0m \u001b[32m━━━━━━━━━━━━━━━━━━━━\u001b[0m\u001b[37m\u001b[0m \u001b[1m0s\u001b[0m 4ms/step - accuracy: 0.8485 - loss: 1.7183\n",
      "Test Loss: 1.8679746389389038\n",
      "Test Accuracy: 0.8282828330993652\n",
      "\u001b[1m19/19\u001b[0m \u001b[32m━━━━━━━━━━━━━━━━━━━━\u001b[0m\u001b[37m\u001b[0m \u001b[1m1s\u001b[0m 21ms/step\n"
     ]
    }
   ],
   "source": [
    "import pandas as pd\n",
    "import numpy as np\n",
    "from sklearn.preprocessing import StandardScaler, OneHotEncoder\n",
    "from sklearn.compose import ColumnTransformer\n",
    "from sklearn.pipeline import Pipeline\n",
    "from tensorflow.keras.models import Sequential\n",
    "from tensorflow.keras.layers import LSTM, Dense, LeakyReLU, Dropout\n",
    "from sklearn.model_selection import train_test_split\n",
    "from sklearn.preprocessing import LabelEncoder\n",
    "from tensorflow.keras.utils import to_categorical\n",
    "\n",
    "\n",
    "\n",
    "df_lstm_2 = df_may_filled.copy()\n",
    "df_lstm_2['day'] = df_may_filled['grouped_date'].dt.day.astype(int)\n",
    "# Assuming df_rfg is your DataFrame\n",
    "# Feature and target definition\n",
    "\n",
    "features = ['day_of_week', 'hour_minute', 'temperature', 'rainfall',\n",
    "            'capacity',  'altitude', 'station_id', 'is_weekend']\n",
    "\n",
    "target = 'docking_available'\n",
    "\n",
    "# Encoding categorical features\n",
    "categorical_features = ['day_of_week',  'is_weekend', 'hour_minute', 'station_id']\n",
    "numerical_features = ['temperature', 'rainfall', 'capacity', 'altitude']\n",
    "preprocessor = ColumnTransformer(\n",
    "    transformers=[\n",
    "        ('num', StandardScaler(), numerical_features),\n",
    "        ('cat', OneHotEncoder(), categorical_features)\n",
    "    ])\n",
    "\n",
    "# Process features\n",
    "X = df_lstm_2[features]\n",
    "y = df_lstm_2[target]\n",
    "\n",
    "X_processed = preprocessor.fit_transform(X)\n",
    "\n",
    "# Create sequences\n",
    "def create_sequences(data, target, sequence_length=24):\n",
    "    X_seq, y_seq = [], []\n",
    "    for i in range(len(data) - sequence_length):\n",
    "        X_seq.append(data[i:i + sequence_length])\n",
    "        y_seq.append(target[i + sequence_length])\n",
    "    return np.array(X_seq), np.array(y_seq)\n",
    "\n",
    "sequence_length = 10\n",
    "X_processed = X_processed.toarray() \n",
    "X_seq, y_seq = create_sequences(X_processed, y.values, sequence_length)\n",
    "\n",
    "# Train-test split\n",
    "X_train, X_test, y_train, y_test = train_test_split(X_seq, y_seq, test_size=0.2, random_state=42)\n",
    "\n",
    "num_classes = len(np.unique(y))\n",
    "\n",
    "# Convert target variable to one-hot encoded format\n",
    "y_train_encoded = to_categorical(y_train, num_classes=num_classes)\n",
    "y_test_encoded = to_categorical(y_test, num_classes=num_classes)\n",
    "\n",
    "# Build LSTM model\n",
    "model = Sequential()\n",
    "#model.add(LSTM(50, activation='relu', input_shape=(sequence_length, X_seq.shape[2])))\n",
    "model.add(LSTM(50, activation='relu', input_shape=(sequence_length, X_seq.shape[2]), return_sequences=True))\n",
    "model.add(LSTM(50, activation='relu'))\n",
    "#model.add(Dense(9500, activation='relu'))\n",
    "#model.add(Dense(1024))\n",
    "#model.add(LeakyReLU(alpha=0.01))\n",
    "model.add(Dropout(0.5))  # Dropout layer to prevent overfitting\n",
    "model.add(Dense(num_classes, activation='softmax'))  # Output layer for classification\n",
    "\n",
    "# Compile the model\n",
    "model.compile(optimizer='adam', loss='categorical_crossentropy', metrics=['accuracy'])\n",
    "\n",
    "# Train the model\n",
    "history = model.fit(X_train, y_train_encoded, epochs=30, batch_size=32, validation_split=0.2)\n",
    "\n",
    "# Evaluate the model\n",
    "loss, accuracy = model.evaluate(X_test, y_test_encoded)\n",
    "print(f\"Test Loss: {loss}\")\n",
    "print(f\"Test Accuracy: {accuracy}\")\n",
    "\n",
    "# Predict\n",
    "y_pred_prob = model.predict(X_test)\n",
    "y_pred = np.argmax(y_pred_prob, axis=1)  # Convert probabilities to class labels\n",
    "\n"
   ]
  },
  {
   "cell_type": "markdown",
   "metadata": {},
   "source": [
    "### Metrics"
   ]
  },
  {
   "cell_type": "code",
   "execution_count": 63,
   "metadata": {},
   "outputs": [
    {
     "data": {
      "image/png": "[encoded data removed]",
      "text/plain": [
       "<Figure size 1200x600 with 1 Axes>"
      ]
     },
     "metadata": {},
     "output_type": "display_data"
    },
    {
     "data": {
      "image/png": "[encoded data removed]",
      "text/plain": [
       "<Figure size 640x480 with 1 Axes>"
      ]
     },
     "metadata": {},
     "output_type": "display_data"
    }
   ],
   "source": [
    "# Plotting the training history\n",
    "import matplotlib.pyplot as plt\n",
    "\n",
    "# Example to show some predictions vs actual\n",
    "plt.figure(figsize=(12, 6))\n",
    "plt.plot(y_test[:100], label='Actual')\n",
    "plt.plot(y_pred[:100], label='Predicted')\n",
    "plt.legend()\n",
    "plt.show()\n",
    "\n",
    "plt.plot(history.history['accuracy'], label='accuracy')\n",
    "plt.plot(history.history['val_accuracy'], label = 'val_accuracy')\n",
    "plt.xlabel('Epoch')\n",
    "plt.ylabel('Accuracy')\n",
    "plt.ylim([0.5, 1])\n",
    "plt.legend(loc='lower right')\n",
    "plt.show()"
   ]
  },
  {
   "cell_type": "code",
   "execution_count": 64,
   "metadata": {},
   "outputs": [
    {
     "name": "stdout",
     "output_type": "stream",
     "text": [
      "Accuracy: 0.8282828282828283\n",
      "Confusion Matrix:\n",
      " [[ 88  59]\n",
      " [ 43 404]]\n",
      "Classification Report:\n",
      "               precision    recall  f1-score   support\n",
      "\n",
      "       False       0.67      0.60      0.63       147\n",
      "        True       0.87      0.90      0.89       447\n",
      "\n",
      "    accuracy                           0.83       594\n",
      "   macro avg       0.77      0.75      0.76       594\n",
      "weighted avg       0.82      0.83      0.82       594\n",
      "\n",
      "Precision:  0.8725701943844493\n",
      "Recall:  0.9038031319910514\n",
      "F1 Score:  0.8879120879120879\n",
      "ROC AUC:  0.7512212938866822\n"
     ]
    }
   ],
   "source": [
    "from sklearn.metrics import accuracy_score, precision_score, recall_score, f1_score, roc_auc_score, classification_report, confusion_matrix\n",
    "# Evaluate Accuracy, precision, recall, F1-score, ROC curve, AUC.\n",
    "accuracy = accuracy_score(y_test, y_pred)\n",
    "precision = precision_score(y_test, y_pred)\n",
    "recall = recall_score(y_test, y_pred)\n",
    "f1 = f1_score(y_test, y_pred)\n",
    "roc_auc = roc_auc_score(y_test, y_pred)\n",
    "conf_matrix = confusion_matrix(y_test, y_pred)\n",
    "class_report = classification_report(y_test, y_pred)\n",
    "\n",
    "print(f\"Accuracy: {accuracy}\")\n",
    "print(\"Confusion Matrix:\\n\", conf_matrix)\n",
    "print(\"Classification Report:\\n\", class_report)\n",
    "print(\"Precision: \", precision)\n",
    "print(\"Recall: \", recall)\n",
    "print(\"F1 Score: \", f1)\n",
    "print(\"ROC AUC: \", roc_auc)"
   ]
  },
  {
   "cell_type": "code",
   "execution_count": null,
   "metadata": {},
   "outputs": [],
   "source": [
    "Accuracy: 0.8265993265993266\n",
    "Confusion Matrix:\n",
    " [[101  46]\n",
    " [ 57 390]]\n",
    "Classification Report:\n",
    "               precision    recall  f1-score   support\n",
    "\n",
    "       False       0.64      0.69      0.66       147\n",
    "        True       0.89      0.87      0.88       447\n",
    "\n",
    "    accuracy                           0.83       594\n",
    "   macro avg       0.77      0.78      0.77       594\n",
    "weighted avg       0.83      0.83      0.83       594\n",
    "\n",
    "Precision:  0.8944954128440367\n",
    "Recall:  0.87248322147651\n",
    "F1 Score:  0.883352208380521\n",
    "ROC AUC:  0.7797790257042414\n"
   ]
  },
  {
   "cell_type": "markdown",
   "metadata": {},
   "source": [
    "### Confusion Matrix"
   ]
  },
  {
   "cell_type": "code",
   "execution_count": 42,
   "metadata": {},
   "outputs": [
    {
     "data": {
      "application/vnd.plotly.v1+json": {
       "config": {
        "plotlyServerURL": "https://plot.ly"
       },
       "data": [
        {
         "coloraxis": "coloraxis",
         "hovertemplate": "Predicted: %{x}<br>True: %{y}<br>Count: %{z}<extra></extra>",
         "name": "0",
         "texttemplate": "%{z}",
         "type": "heatmap",
         "xaxis": "x",
         "yaxis": "y",
         "z": [
          [
           101,
           46
          ],
          [
           57,
           390
          ]
         ]
        }
       ],
       "layout": {
        "coloraxis": {
         "colorbar": {
          "title": {
           "text": "Count"
          }
         },
         "colorscale": [
          [
           0,
           "#0d0887"
          ],
          [
           0.1111111111111111,
           "#46039f"
          ],
          [
           0.2222222222222222,
           "#7201a8"
          ],
          [
           0.3333333333333333,
           "#9c179e"
          ],
          [
           0.4444444444444444,
           "#bd3786"
          ],
          [
           0.5555555555555556,
           "#d8576b"
          ],
          [
           0.6666666666666666,
           "#ed7953"
          ],
          [
           0.7777777777777778,
           "#fb9f3a"
          ],
          [
           0.8888888888888888,
           "#fdca26"
          ],
          [
           1,
           "#f0f921"
          ]
         ]
        },
        "margin": {
         "t": 60
        },
        "template": {
         "data": {
          "bar": [
           {
            "error_x": {
             "color": "#2a3f5f"
            },
            "error_y": {
             "color": "#2a3f5f"
            },
            "marker": {
             "line": {
              "color": "#E5ECF6",
              "width": 0.5
             },
             "pattern": {
              "fillmode": "overlay",
              "size": 10,
              "solidity": 0.2
             }
            },
            "type": "bar"
           }
          ],
          "barpolar": [
           {
            "marker": {
             "line": {
              "color": "#E5ECF6",
              "width": 0.5
             },
             "pattern": {
              "fillmode": "overlay",
              "size": 10,
              "solidity": 0.2
             }
            },
            "type": "barpolar"
           }
          ],
          "carpet": [
           {
            "aaxis": {
             "endlinecolor": "#2a3f5f",
             "gridcolor": "white",
             "linecolor": "white",
             "minorgridcolor": "white",
             "startlinecolor": "#2a3f5f"
            },
            "baxis": {
             "endlinecolor": "#2a3f5f",
             "gridcolor": "white",
             "linecolor": "white",
             "minorgridcolor": "white",
             "startlinecolor": "#2a3f5f"
            },
            "type": "carpet"
           }
          ],
          "choropleth": [
           {
            "colorbar": {
             "outlinewidth": 0,
             "ticks": ""
            },
            "type": "choropleth"
           }
          ],
          "contour": [
           {
            "colorbar": {
             "outlinewidth": 0,
             "ticks": ""
            },
            "colorscale": [
             [
              0,
              "#0d0887"
             ],
             [
              0.1111111111111111,
              "#46039f"
             ],
             [
              0.2222222222222222,
              "#7201a8"
             ],
             [
              0.3333333333333333,
              "#9c179e"
             ],
             [
              0.4444444444444444,
              "#bd3786"
             ],
             [
              0.5555555555555556,
              "#d8576b"
             ],
             [
              0.6666666666666666,
              "#ed7953"
             ],
             [
              0.7777777777777778,
              "#fb9f3a"
             ],
             [
              0.8888888888888888,
              "#fdca26"
             ],
             [
              1,
              "#f0f921"
             ]
            ],
            "type": "contour"
           }
          ],
          "contourcarpet": [
           {
            "colorbar": {
             "outlinewidth": 0,
             "ticks": ""
            },
            "type": "contourcarpet"
           }
          ],
          "heatmap": [
           {
            "colorbar": {
             "outlinewidth": 0,
             "ticks": ""
            },
            "colorscale": [
             [
              0,
              "#0d0887"
             ],
             [
              0.1111111111111111,
              "#46039f"
             ],
             [
              0.2222222222222222,
              "#7201a8"
             ],
             [
              0.3333333333333333,
              "#9c179e"
             ],
             [
              0.4444444444444444,
              "#bd3786"
             ],
             [
              0.5555555555555556,
              "#d8576b"
             ],
             [
              0.6666666666666666,
              "#ed7953"
             ],
             [
              0.7777777777777778,
              "#fb9f3a"
             ],
             [
              0.8888888888888888,
              "#fdca26"
             ],
             [
              1,
              "#f0f921"
             ]
            ],
            "type": "heatmap"
           }
          ],
          "heatmapgl": [
           {
            "colorbar": {
             "outlinewidth": 0,
             "ticks": ""
            },
            "colorscale": [
             [
              0,
              "#0d0887"
             ],
             [
              0.1111111111111111,
              "#46039f"
             ],
             [
              0.2222222222222222,
              "#7201a8"
             ],
             [
              0.3333333333333333,
              "#9c179e"
             ],
             [
              0.4444444444444444,
              "#bd3786"
             ],
             [
              0.5555555555555556,
              "#d8576b"
             ],
             [
              0.6666666666666666,
              "#ed7953"
             ],
             [
              0.7777777777777778,
              "#fb9f3a"
             ],
             [
              0.8888888888888888,
              "#fdca26"
             ],
             [
              1,
              "#f0f921"
             ]
            ],
            "type": "heatmapgl"
           }
          ],
          "histogram": [
           {
            "marker": {
             "pattern": {
              "fillmode": "overlay",
              "size": 10,
              "solidity": 0.2
             }
            },
            "type": "histogram"
           }
          ],
          "histogram2d": [
           {
            "colorbar": {
             "outlinewidth": 0,
             "ticks": ""
            },
            "colorscale": [
             [
              0,
              "#0d0887"
             ],
             [
              0.1111111111111111,
              "#46039f"
             ],
             [
              0.2222222222222222,
              "#7201a8"
             ],
             [
              0.3333333333333333,
              "#9c179e"
             ],
             [
              0.4444444444444444,
              "#bd3786"
             ],
             [
              0.5555555555555556,
              "#d8576b"
             ],
             [
              0.6666666666666666,
              "#ed7953"
             ],
             [
              0.7777777777777778,
              "#fb9f3a"
             ],
             [
              0.8888888888888888,
              "#fdca26"
             ],
             [
              1,
              "#f0f921"
             ]
            ],
            "type": "histogram2d"
           }
          ],
          "histogram2dcontour": [
           {
            "colorbar": {
             "outlinewidth": 0,
             "ticks": ""
            },
            "colorscale": [
             [
              0,
              "#0d0887"
             ],
             [
              0.1111111111111111,
              "#46039f"
             ],
             [
              0.2222222222222222,
              "#7201a8"
             ],
             [
              0.3333333333333333,
              "#9c179e"
             ],
             [
              0.4444444444444444,
              "#bd3786"
             ],
             [
              0.5555555555555556,
              "#d8576b"
             ],
             [
              0.6666666666666666,
              "#ed7953"
             ],
             [
              0.7777777777777778,
              "#fb9f3a"
             ],
             [
              0.8888888888888888,
              "#fdca26"
             ],
             [
              1,
              "#f0f921"
             ]
            ],
            "type": "histogram2dcontour"
           }
          ],
          "mesh3d": [
           {
            "colorbar": {
             "outlinewidth": 0,
             "ticks": ""
            },
            "type": "mesh3d"
           }
          ],
          "parcoords": [
           {
            "line": {
             "colorbar": {
              "outlinewidth": 0,
              "ticks": ""
             }
            },
            "type": "parcoords"
           }
          ],
          "pie": [
           {
            "automargin": true,
            "type": "pie"
           }
          ],
          "scatter": [
           {
            "fillpattern": {
             "fillmode": "overlay",
             "size": 10,
             "solidity": 0.2
            },
            "type": "scatter"
           }
          ],
          "scatter3d": [
           {
            "line": {
             "colorbar": {
              "outlinewidth": 0,
              "ticks": ""
             }
            },
            "marker": {
             "colorbar": {
              "outlinewidth": 0,
              "ticks": ""
             }
            },
            "type": "scatter3d"
           }
          ],
          "scattercarpet": [
           {
            "marker": {
             "colorbar": {
              "outlinewidth": 0,
              "ticks": ""
             }
            },
            "type": "scattercarpet"
           }
          ],
          "scattergeo": [
           {
            "marker": {
             "colorbar": {
              "outlinewidth": 0,
              "ticks": ""
             }
            },
            "type": "scattergeo"
           }
          ],
          "scattergl": [
           {
            "marker": {
             "colorbar": {
              "outlinewidth": 0,
              "ticks": ""
             }
            },
            "type": "scattergl"
           }
          ],
          "scattermapbox": [
           {
            "marker": {
             "colorbar": {
              "outlinewidth": 0,
              "ticks": ""
             }
            },
            "type": "scattermapbox"
           }
          ],
          "scatterpolar": [
           {
            "marker": {
             "colorbar": {
              "outlinewidth": 0,
              "ticks": ""
             }
            },
            "type": "scatterpolar"
           }
          ],
          "scatterpolargl": [
           {
            "marker": {
             "colorbar": {
              "outlinewidth": 0,
              "ticks": ""
             }
            },
            "type": "scatterpolargl"
           }
          ],
          "scatterternary": [
           {
            "marker": {
             "colorbar": {
              "outlinewidth": 0,
              "ticks": ""
             }
            },
            "type": "scatterternary"
           }
          ],
          "surface": [
           {
            "colorbar": {
             "outlinewidth": 0,
             "ticks": ""
            },
            "colorscale": [
             [
              0,
              "#0d0887"
             ],
             [
              0.1111111111111111,
              "#46039f"
             ],
             [
              0.2222222222222222,
              "#7201a8"
             ],
             [
              0.3333333333333333,
              "#9c179e"
             ],
             [
              0.4444444444444444,
              "#bd3786"
             ],
             [
              0.5555555555555556,
              "#d8576b"
             ],
             [
              0.6666666666666666,
              "#ed7953"
             ],
             [
              0.7777777777777778,
              "#fb9f3a"
             ],
             [
              0.8888888888888888,
              "#fdca26"
             ],
             [
              1,
              "#f0f921"
             ]
            ],
            "type": "surface"
           }
          ],
          "table": [
           {
            "cells": {
             "fill": {
              "color": "#EBF0F8"
             },
             "line": {
              "color": "white"
             }
            },
            "header": {
             "fill": {
              "color": "#C8D4E3"
             },
             "line": {
              "color": "white"
             }
            },
            "type": "table"
           }
          ]
         },
         "layout": {
          "annotationdefaults": {
           "arrowcolor": "#2a3f5f",
           "arrowhead": 0,
           "arrowwidth": 1
          },
          "autotypenumbers": "strict",
          "coloraxis": {
           "colorbar": {
            "outlinewidth": 0,
            "ticks": ""
           }
          },
          "colorscale": {
           "diverging": [
            [
             0,
             "#8e0152"
            ],
            [
             0.1,
             "#c51b7d"
            ],
            [
             0.2,
             "#de77ae"
            ],
            [
             0.3,
             "#f1b6da"
            ],
            [
             0.4,
             "#fde0ef"
            ],
            [
             0.5,
             "#f7f7f7"
            ],
            [
             0.6,
             "#e6f5d0"
            ],
            [
             0.7,
             "#b8e186"
            ],
            [
             0.8,
             "#7fbc41"
            ],
            [
             0.9,
             "#4d9221"
            ],
            [
             1,
             "#276419"
            ]
           ],
           "sequential": [
            [
             0,
             "#0d0887"
            ],
            [
             0.1111111111111111,
             "#46039f"
            ],
            [
             0.2222222222222222,
             "#7201a8"
            ],
            [
             0.3333333333333333,
             "#9c179e"
            ],
            [
             0.4444444444444444,
             "#bd3786"
            ],
            [
             0.5555555555555556,
             "#d8576b"
            ],
            [
             0.6666666666666666,
             "#ed7953"
            ],
            [
             0.7777777777777778,
             "#fb9f3a"
            ],
            [
             0.8888888888888888,
             "#fdca26"
            ],
            [
             1,
             "#f0f921"
            ]
           ],
           "sequentialminus": [
            [
             0,
             "#0d0887"
            ],
            [
             0.1111111111111111,
             "#46039f"
            ],
            [
             0.2222222222222222,
             "#7201a8"
            ],
            [
             0.3333333333333333,
             "#9c179e"
            ],
            [
             0.4444444444444444,
             "#bd3786"
            ],
            [
             0.5555555555555556,
             "#d8576b"
            ],
            [
             0.6666666666666666,
             "#ed7953"
            ],
            [
             0.7777777777777778,
             "#fb9f3a"
            ],
            [
             0.8888888888888888,
             "#fdca26"
            ],
            [
             1,
             "#f0f921"
            ]
           ]
          },
          "colorway": [
           "#636efa",
           "#EF553B",
           "#00cc96",
           "#ab63fa",
           "#FFA15A",
           "#19d3f3",
           "#FF6692",
           "#B6E880",
           "#FF97FF",
           "#FECB52"
          ],
          "font": {
           "color": "#2a3f5f"
          },
          "geo": {
           "bgcolor": "white",
           "lakecolor": "white",
           "landcolor": "#E5ECF6",
           "showlakes": true,
           "showland": true,
           "subunitcolor": "white"
          },
          "hoverlabel": {
           "align": "left"
          },
          "hovermode": "closest",
          "mapbox": {
           "style": "light"
          },
          "paper_bgcolor": "white",
          "plot_bgcolor": "#E5ECF6",
          "polar": {
           "angularaxis": {
            "gridcolor": "white",
            "linecolor": "white",
            "ticks": ""
           },
           "bgcolor": "#E5ECF6",
           "radialaxis": {
            "gridcolor": "white",
            "linecolor": "white",
            "ticks": ""
           }
          },
          "scene": {
           "xaxis": {
            "backgroundcolor": "#E5ECF6",
            "gridcolor": "white",
            "gridwidth": 2,
            "linecolor": "white",
            "showbackground": true,
            "ticks": "",
            "zerolinecolor": "white"
           },
           "yaxis": {
            "backgroundcolor": "#E5ECF6",
            "gridcolor": "white",
            "gridwidth": 2,
            "linecolor": "white",
            "showbackground": true,
            "ticks": "",
            "zerolinecolor": "white"
           },
           "zaxis": {
            "backgroundcolor": "#E5ECF6",
            "gridcolor": "white",
            "gridwidth": 2,
            "linecolor": "white",
            "showbackground": true,
            "ticks": "",
            "zerolinecolor": "white"
           }
          },
          "shapedefaults": {
           "line": {
            "color": "#2a3f5f"
           }
          },
          "ternary": {
           "aaxis": {
            "gridcolor": "white",
            "linecolor": "white",
            "ticks": ""
           },
           "baxis": {
            "gridcolor": "white",
            "linecolor": "white",
            "ticks": ""
           },
           "bgcolor": "#E5ECF6",
           "caxis": {
            "gridcolor": "white",
            "linecolor": "white",
            "ticks": ""
           }
          },
          "title": {
           "x": 0.05
          },
          "xaxis": {
           "automargin": true,
           "gridcolor": "white",
           "linecolor": "white",
           "ticks": "",
           "title": {
            "standoff": 15
           },
           "zerolinecolor": "white",
           "zerolinewidth": 2
          },
          "yaxis": {
           "automargin": true,
           "gridcolor": "white",
           "linecolor": "white",
           "ticks": "",
           "title": {
            "standoff": 15
           },
           "zerolinecolor": "white",
           "zerolinewidth": 2
          }
         }
        },
        "title": {
         "text": "Confusion Matrix"
        },
        "xaxis": {
         "anchor": "y",
         "constrain": "domain",
         "domain": [
          0,
          1
         ],
         "scaleanchor": "y",
         "ticktext": [
          "No",
          "Yes"
         ],
         "tickvals": [
          0,
          1
         ],
         "title": {
          "text": "Predicted"
         }
        },
        "yaxis": {
         "anchor": "x",
         "autorange": "reversed",
         "constrain": "domain",
         "domain": [
          0,
          1
         ],
         "ticktext": [
          "No",
          "Yes"
         ],
         "tickvals": [
          0,
          1
         ],
         "title": {
          "text": "True"
         }
        }
       }
      }
     },
     "metadata": {},
     "output_type": "display_data"
    }
   ],
   "source": [
    "import plotly.express as px\n",
    "fig = px.imshow(conf_matrix, text_auto=True,labels=dict(x=\"Predicted\", y=\"True\", color=\"Count\"))\n",
    "fig.update_layout(title='Confusion Matrix')\n",
    "fig.update_xaxes(title_text='Predicted', tickvals = [0, 1], ticktext = ['No', 'Yes'])\n",
    "fig.update_yaxes(title_text='True', tickvals = [0, 1], ticktext = ['No', 'Yes'])\n",
    "fig.show()"
   ]
  },
  {
   "cell_type": "markdown",
   "metadata": {},
   "source": [
    "### Random Search"
   ]
  },
  {
   "cell_type": "code",
   "execution_count": 48,
   "metadata": {},
   "outputs": [
    {
     "name": "stdout",
     "output_type": "stream",
     "text": [
      "Trial 10 Complete [00h 05m 31s]\n",
      "val_accuracy: 0.804912288983663\n",
      "\n",
      "Best val_accuracy So Far: 0.8133333325386047\n",
      "Total elapsed time: 00h 43m 00s\n"
     ]
    },
    {
     "name": "stderr",
     "output_type": "stream",
     "text": [
      "/Users/sol/Library/Python/3.9/lib/python/site-packages/keras/src/saving/saving_lib.py:576: UserWarning:\n",
      "\n",
      "Skipping variable loading for optimizer 'adam', because it has 2 variables whereas the saved optimizer has 18 variables. \n",
      "\n"
     ]
    },
    {
     "name": "stdout",
     "output_type": "stream",
     "text": [
      "\u001b[1m19/19\u001b[0m \u001b[32m━━━━━━━━━━━━━━━━━━━━\u001b[0m\u001b[37m\u001b[0m \u001b[1m1s\u001b[0m 15ms/step - accuracy: 0.8403 - loss: 0.4452\n",
      "Test Loss: 0.4691271483898163\n",
      "Test Accuracy: 0.8131313323974609\n"
     ]
    }
   ],
   "source": [
    "import pandas as pd\n",
    "import numpy as np\n",
    "from sklearn.preprocessing import StandardScaler, OneHotEncoder\n",
    "from sklearn.compose import ColumnTransformer\n",
    "from sklearn.pipeline import Pipeline\n",
    "from tensorflow.keras.models import Sequential\n",
    "from tensorflow.keras.layers import LSTM, Dense, Dropout\n",
    "from sklearn.model_selection import train_test_split\n",
    "from tensorflow.keras.utils import to_categorical\n",
    "import keras_tuner as kt\n",
    "from tensorflow.keras.optimizers import Adam\n",
    "\n",
    "# Assuming df_may_filled is your DataFrame\n",
    "df_lstm_3 = df_may_filled.copy()\n",
    "df_lstm_3['day'] = df_may_filled['grouped_date'].dt.day.astype(int)\n",
    "\n",
    "features = ['day_of_week', 'hour_minute', 'temperature', 'rainfall', 'capacity', 'altitude', 'station_id', 'is_weekend']\n",
    "target = 'docking_available'\n",
    "\n",
    "categorical_features = ['day_of_week', 'is_weekend', 'hour_minute', 'station_id']\n",
    "numerical_features = ['temperature', 'rainfall', 'capacity', 'altitude']\n",
    "preprocessor = ColumnTransformer(\n",
    "    transformers=[\n",
    "        ('num', StandardScaler(), numerical_features),\n",
    "        ('cat', OneHotEncoder(), categorical_features)\n",
    "    ])\n",
    "\n",
    "X = df_lstm_3[features]\n",
    "y = df_lstm_3[target]\n",
    "\n",
    "X_processed = preprocessor.fit_transform(X)\n",
    "\n",
    "def create_sequences(data, target, sequence_length=10):\n",
    "    X_seq, y_seq = [], []\n",
    "    for i in range(len(data) - sequence_length):\n",
    "        X_seq.append(data[i:i + sequence_length])\n",
    "        y_seq.append(target[i + sequence_length])\n",
    "    return np.array(X_seq), np.array(y_seq)\n",
    "\n",
    "sequence_length = 10\n",
    "X_processed = X_processed.toarray() \n",
    "X_seq, y_seq = create_sequences(X_processed, y.values, sequence_length)\n",
    "\n",
    "X_train, X_test, y_train, y_test = train_test_split(X_seq, y_seq, test_size=0.2, random_state=42)\n",
    "\n",
    "num_classes = len(np.unique(y))\n",
    "\n",
    "y_train_encoded = to_categorical(y_train, num_classes=num_classes)\n",
    "y_test_encoded = to_categorical(y_test, num_classes=num_classes)\n",
    "\n",
    "def build_model(hp):\n",
    "    model = Sequential()\n",
    "    model.add(LSTM(units=hp.Int('units', min_value=32, max_value=512, step=32), activation='relu', input_shape=(sequence_length, X_seq.shape[2]), return_sequences=True))\n",
    "    model.add(LSTM(units=hp.Int('units', min_value=32, max_value=512, step=32), activation='relu'))\n",
    "    model.add(Dropout(hp.Float('dropout', 0.1, 0.5, step=0.1)))\n",
    "    model.add(Dense(num_classes, activation='softmax'))\n",
    "    \n",
    "    model.compile(optimizer=Adam(hp.Float('learning_rate', 1e-4, 1e-2, sampling='LOG')), \n",
    "                  loss='categorical_crossentropy', \n",
    "                  metrics=['accuracy'])\n",
    "    return model\n",
    "\n",
    "tuner = kt.RandomSearch(\n",
    "    build_model,\n",
    "    objective='val_accuracy',\n",
    "    max_trials=10,  # You can adjust the number of trials\n",
    "    executions_per_trial=3,  # Number of models to be built and fit for each trial\n",
    "    directory='tuner_dir',\n",
    "    project_name='lstm_tuning'\n",
    ")\n",
    "\n",
    "tuner.search(X_train, y_train_encoded, epochs=15, batch_size=32, validation_split=0.2)\n",
    "\n",
    "best_model = tuner.get_best_models(num_models=1)[0]\n",
    "\n",
    "loss, accuracy = best_model.evaluate(X_test, y_test_encoded)\n",
    "print(f\"Test Loss: {loss}\")\n",
    "print(f\"Test Accuracy: {accuracy}\")\n"
   ]
  },
  {
   "cell_type": "code",
   "execution_count": 54,
   "metadata": {},
   "outputs": [
    {
     "data": {
      "text/html": [
       "<pre style=\"white-space:pre;overflow-x:auto;line-height:normal;font-family:Menlo,'DejaVu Sans Mono',consolas,'Courier New',monospace\"><span style=\"font-weight: bold\">Model: \"sequential\"</span>\n",
       "</pre>\n"
      ],
      "text/plain": [
       "\u001b[1mModel: \"sequential\"\u001b[0m\n"
      ]
     },
     "metadata": {},
     "output_type": "display_data"
    },
    {
     "data": {
      "text/html": [
       "<pre style=\"white-space:pre;overflow-x:auto;line-height:normal;font-family:Menlo,'DejaVu Sans Mono',consolas,'Courier New',monospace\">┏━━━━━━━━━━━━━━━━━━━━━━━━━━━━━━━━━┳━━━━━━━━━━━━━━━━━━━━━━━━┳━━━━━━━━━━━━━━━┓\n",
       "┃<span style=\"font-weight: bold\"> Layer (type)                    </span>┃<span style=\"font-weight: bold\"> Output Shape           </span>┃<span style=\"font-weight: bold\">       Param # </span>┃\n",
       "┡━━━━━━━━━━━━━━━━━━━━━━━━━━━━━━━━━╇━━━━━━━━━━━━━━━━━━━━━━━━╇━━━━━━━━━━━━━━━┩\n",
       "│ lstm (<span style=\"color: #0087ff; text-decoration-color: #0087ff\">LSTM</span>)                     │ (<span style=\"color: #00d7ff; text-decoration-color: #00d7ff\">None</span>, <span style=\"color: #00af00; text-decoration-color: #00af00\">10</span>, <span style=\"color: #00af00; text-decoration-color: #00af00\">224</span>)        │       <span style=\"color: #00af00; text-decoration-color: #00af00\">303,744</span> │\n",
       "├─────────────────────────────────┼────────────────────────┼───────────────┤\n",
       "│ lstm_1 (<span style=\"color: #0087ff; text-decoration-color: #0087ff\">LSTM</span>)                   │ (<span style=\"color: #00d7ff; text-decoration-color: #00d7ff\">None</span>, <span style=\"color: #00af00; text-decoration-color: #00af00\">224</span>)            │       <span style=\"color: #00af00; text-decoration-color: #00af00\">402,304</span> │\n",
       "├─────────────────────────────────┼────────────────────────┼───────────────┤\n",
       "│ dropout (<span style=\"color: #0087ff; text-decoration-color: #0087ff\">Dropout</span>)               │ (<span style=\"color: #00d7ff; text-decoration-color: #00d7ff\">None</span>, <span style=\"color: #00af00; text-decoration-color: #00af00\">224</span>)            │             <span style=\"color: #00af00; text-decoration-color: #00af00\">0</span> │\n",
       "├─────────────────────────────────┼────────────────────────┼───────────────┤\n",
       "│ dense (<span style=\"color: #0087ff; text-decoration-color: #0087ff\">Dense</span>)                   │ (<span style=\"color: #00d7ff; text-decoration-color: #00d7ff\">None</span>, <span style=\"color: #00af00; text-decoration-color: #00af00\">2</span>)              │           <span style=\"color: #00af00; text-decoration-color: #00af00\">450</span> │\n",
       "└─────────────────────────────────┴────────────────────────┴───────────────┘\n",
       "</pre>\n"
      ],
      "text/plain": [
       "┏━━━━━━━━━━━━━━━━━━━━━━━━━━━━━━━━━┳━━━━━━━━━━━━━━━━━━━━━━━━┳━━━━━━━━━━━━━━━┓\n",
       "┃\u001b[1m \u001b[0m\u001b[1mLayer (type)                   \u001b[0m\u001b[1m \u001b[0m┃\u001b[1m \u001b[0m\u001b[1mOutput Shape          \u001b[0m\u001b[1m \u001b[0m┃\u001b[1m \u001b[0m\u001b[1m      Param #\u001b[0m\u001b[1m \u001b[0m┃\n",
       "┡━━━━━━━━━━━━━━━━━━━━━━━━━━━━━━━━━╇━━━━━━━━━━━━━━━━━━━━━━━━╇━━━━━━━━━━━━━━━┩\n",
       "│ lstm (\u001b[38;5;33mLSTM\u001b[0m)                     │ (\u001b[38;5;45mNone\u001b[0m, \u001b[38;5;34m10\u001b[0m, \u001b[38;5;34m224\u001b[0m)        │       \u001b[38;5;34m303,744\u001b[0m │\n",
       "├─────────────────────────────────┼────────────────────────┼───────────────┤\n",
       "│ lstm_1 (\u001b[38;5;33mLSTM\u001b[0m)                   │ (\u001b[38;5;45mNone\u001b[0m, \u001b[38;5;34m224\u001b[0m)            │       \u001b[38;5;34m402,304\u001b[0m │\n",
       "├─────────────────────────────────┼────────────────────────┼───────────────┤\n",
       "│ dropout (\u001b[38;5;33mDropout\u001b[0m)               │ (\u001b[38;5;45mNone\u001b[0m, \u001b[38;5;34m224\u001b[0m)            │             \u001b[38;5;34m0\u001b[0m │\n",
       "├─────────────────────────────────┼────────────────────────┼───────────────┤\n",
       "│ dense (\u001b[38;5;33mDense\u001b[0m)                   │ (\u001b[38;5;45mNone\u001b[0m, \u001b[38;5;34m2\u001b[0m)              │           \u001b[38;5;34m450\u001b[0m │\n",
       "└─────────────────────────────────┴────────────────────────┴───────────────┘\n"
      ]
     },
     "metadata": {},
     "output_type": "display_data"
    },
    {
     "data": {
      "text/html": [
       "<pre style=\"white-space:pre;overflow-x:auto;line-height:normal;font-family:Menlo,'DejaVu Sans Mono',consolas,'Courier New',monospace\"><span style=\"font-weight: bold\"> Total params: </span><span style=\"color: #00af00; text-decoration-color: #00af00\">706,498</span> (2.70 MB)\n",
       "</pre>\n"
      ],
      "text/plain": [
       "\u001b[1m Total params: \u001b[0m\u001b[38;5;34m706,498\u001b[0m (2.70 MB)\n"
      ]
     },
     "metadata": {},
     "output_type": "display_data"
    },
    {
     "data": {
      "text/html": [
       "<pre style=\"white-space:pre;overflow-x:auto;line-height:normal;font-family:Menlo,'DejaVu Sans Mono',consolas,'Courier New',monospace\"><span style=\"font-weight: bold\"> Trainable params: </span><span style=\"color: #00af00; text-decoration-color: #00af00\">706,498</span> (2.70 MB)\n",
       "</pre>\n"
      ],
      "text/plain": [
       "\u001b[1m Trainable params: \u001b[0m\u001b[38;5;34m706,498\u001b[0m (2.70 MB)\n"
      ]
     },
     "metadata": {},
     "output_type": "display_data"
    },
    {
     "data": {
      "text/html": [
       "<pre style=\"white-space:pre;overflow-x:auto;line-height:normal;font-family:Menlo,'DejaVu Sans Mono',consolas,'Courier New',monospace\"><span style=\"font-weight: bold\"> Non-trainable params: </span><span style=\"color: #00af00; text-decoration-color: #00af00\">0</span> (0.00 B)\n",
       "</pre>\n"
      ],
      "text/plain": [
       "\u001b[1m Non-trainable params: \u001b[0m\u001b[38;5;34m0\u001b[0m (0.00 B)\n"
      ]
     },
     "metadata": {},
     "output_type": "display_data"
    },
    {
     "data": {
      "text/plain": [
       "{'units': 224, 'dropout': 0.1, 'learning_rate': 0.0015620297094023163}"
      ]
     },
     "execution_count": 54,
     "metadata": {},
     "output_type": "execute_result"
    }
   ],
   "source": [
    "best_model.summary()\n",
    "#tuner.results_summary()\n",
    "tuner.get_best_hyperparameters()[0].values"
   ]
  },
  {
   "cell_type": "code",
   "execution_count": 56,
   "metadata": {},
   "outputs": [
    {
     "name": "stdout",
     "output_type": "stream",
     "text": [
      "\u001b[1m19/19\u001b[0m \u001b[32m━━━━━━━━━━━━━━━━━━━━\u001b[0m\u001b[37m\u001b[0m \u001b[1m1s\u001b[0m 30ms/step\n",
      "Accuracy: 0.8131313131313131\n",
      "Confusion Matrix:\n",
      " [[ 83  64]\n",
      " [ 47 400]]\n",
      "Classification Report:\n",
      "               precision    recall  f1-score   support\n",
      "\n",
      "       False       0.64      0.56      0.60       147\n",
      "        True       0.86      0.89      0.88       447\n",
      "\n",
      "    accuracy                           0.81       594\n",
      "   macro avg       0.75      0.73      0.74       594\n",
      "weighted avg       0.81      0.81      0.81       594\n",
      "\n",
      "Precision:  0.8620689655172413\n",
      "Recall:  0.8948545861297539\n",
      "F1 Score:  0.8781558726673985\n",
      "ROC AUC:  0.7297402182349448\n"
     ]
    }
   ],
   "source": [
    "from sklearn.metrics import accuracy_score, precision_score, recall_score, f1_score, roc_auc_score, classification_report, confusion_matrix\n",
    "\n",
    "\n",
    "# Predict\n",
    "y_pred_prob = best_model.predict(X_test)\n",
    "y_pred = np.argmax(y_pred_prob, axis=1)  # Convert probabilities to class labels\n",
    "\n",
    "# Evaluate Accuracy, precision, recall, F1-score, ROC curve, AUC.\n",
    "accuracy = accuracy_score(y_test, y_pred)\n",
    "precision = precision_score(y_test, y_pred)\n",
    "recall = recall_score(y_test, y_pred)\n",
    "f1 = f1_score(y_test, y_pred)\n",
    "roc_auc = roc_auc_score(y_test, y_pred)\n",
    "conf_matrix = confusion_matrix(y_test, y_pred)\n",
    "class_report = classification_report(y_test, y_pred)\n",
    "\n",
    "print(f\"Accuracy: {accuracy}\")\n",
    "print(\"Confusion Matrix:\\n\", conf_matrix)\n",
    "print(\"Classification Report:\\n\", class_report)\n",
    "print(\"Precision: \", precision)\n",
    "print(\"Recall: \", recall)\n",
    "print(\"F1 Score: \", f1)\n",
    "print(\"ROC AUC: \", roc_auc)"
   ]
  },
  {
   "cell_type": "markdown",
   "metadata": {},
   "source": [
    "#### save model"
   ]
  },
  {
   "cell_type": "code",
   "execution_count": 50,
   "metadata": {},
   "outputs": [],
   "source": [
    "import pickle\n",
    "# Save the model\n",
    "filename = '05_lstm_best_model_gridseach.pkl'\n",
    "pickle.dump(best_model, open(filename, 'wb'))"
   ]
  },
  {
   "cell_type": "markdown",
   "metadata": {},
   "source": [
    "### KFOLD"
   ]
  },
  {
   "cell_type": "code",
   "execution_count": 57,
   "metadata": {},
   "outputs": [
    {
     "ename": "KeyError",
     "evalue": "\"None of [Index([   1,    2,    3,    4,    5,    6,    8,    9,   10,   11,\\n       ...\\n       2965, 2966, 2967, 2968, 2969, 2970, 2971, 2972, 2973, 2974],\\n      dtype='int64', length=2380)] are in the [columns]\"",
     "output_type": "error",
     "traceback": [
      "\u001b[0;31m---------------------------------------------------------------------------\u001b[0m",
      "\u001b[0;31mKeyError\u001b[0m                                  Traceback (most recent call last)",
      "Cell \u001b[0;32mIn[57], line 6\u001b[0m\n\u001b[1;32m      4\u001b[0m kfold \u001b[38;5;241m=\u001b[39m KFold(n_splits\u001b[38;5;241m=\u001b[39m\u001b[38;5;241m5\u001b[39m, shuffle\u001b[38;5;241m=\u001b[39m\u001b[38;5;28;01mTrue\u001b[39;00m, random_state\u001b[38;5;241m=\u001b[39m\u001b[38;5;241m42\u001b[39m)\n\u001b[1;32m      5\u001b[0m \u001b[38;5;28;01mfor\u001b[39;00m train_index, val_index \u001b[38;5;129;01min\u001b[39;00m kfold\u001b[38;5;241m.\u001b[39msplit(X):\n\u001b[0;32m----> 6\u001b[0m     x_train, x_val \u001b[38;5;241m=\u001b[39m \u001b[43mX\u001b[49m\u001b[43m[\u001b[49m\u001b[43mtrain_index\u001b[49m\u001b[43m]\u001b[49m, X[val_index]\n\u001b[1;32m      7\u001b[0m     y_train, y_val \u001b[38;5;241m=\u001b[39m y[train_index], y[val_index]\n\u001b[1;32m      8\u001b[0m     model\u001b[38;5;241m.\u001b[39mfit(x_train, y_train, epochs\u001b[38;5;241m=\u001b[39m\u001b[38;5;241m50\u001b[39m, batch_size\u001b[38;5;241m=\u001b[39m\u001b[38;5;241m32\u001b[39m, validation_data\u001b[38;5;241m=\u001b[39m(x_val, y_val))\n",
      "File \u001b[0;32m~/Library/Python/3.9/lib/python/site-packages/pandas/core/frame.py:4108\u001b[0m, in \u001b[0;36mDataFrame.__getitem__\u001b[0;34m(self, key)\u001b[0m\n\u001b[1;32m   4106\u001b[0m     \u001b[38;5;28;01mif\u001b[39;00m is_iterator(key):\n\u001b[1;32m   4107\u001b[0m         key \u001b[38;5;241m=\u001b[39m \u001b[38;5;28mlist\u001b[39m(key)\n\u001b[0;32m-> 4108\u001b[0m     indexer \u001b[38;5;241m=\u001b[39m \u001b[38;5;28;43mself\u001b[39;49m\u001b[38;5;241;43m.\u001b[39;49m\u001b[43mcolumns\u001b[49m\u001b[38;5;241;43m.\u001b[39;49m\u001b[43m_get_indexer_strict\u001b[49m\u001b[43m(\u001b[49m\u001b[43mkey\u001b[49m\u001b[43m,\u001b[49m\u001b[43m \u001b[49m\u001b[38;5;124;43m\"\u001b[39;49m\u001b[38;5;124;43mcolumns\u001b[39;49m\u001b[38;5;124;43m\"\u001b[39;49m\u001b[43m)\u001b[49m[\u001b[38;5;241m1\u001b[39m]\n\u001b[1;32m   4110\u001b[0m \u001b[38;5;66;03m# take() does not accept boolean indexers\u001b[39;00m\n\u001b[1;32m   4111\u001b[0m \u001b[38;5;28;01mif\u001b[39;00m \u001b[38;5;28mgetattr\u001b[39m(indexer, \u001b[38;5;124m\"\u001b[39m\u001b[38;5;124mdtype\u001b[39m\u001b[38;5;124m\"\u001b[39m, \u001b[38;5;28;01mNone\u001b[39;00m) \u001b[38;5;241m==\u001b[39m \u001b[38;5;28mbool\u001b[39m:\n",
      "File \u001b[0;32m~/Library/Python/3.9/lib/python/site-packages/pandas/core/indexes/base.py:6200\u001b[0m, in \u001b[0;36mIndex._get_indexer_strict\u001b[0;34m(self, key, axis_name)\u001b[0m\n\u001b[1;32m   6197\u001b[0m \u001b[38;5;28;01melse\u001b[39;00m:\n\u001b[1;32m   6198\u001b[0m     keyarr, indexer, new_indexer \u001b[38;5;241m=\u001b[39m \u001b[38;5;28mself\u001b[39m\u001b[38;5;241m.\u001b[39m_reindex_non_unique(keyarr)\n\u001b[0;32m-> 6200\u001b[0m \u001b[38;5;28;43mself\u001b[39;49m\u001b[38;5;241;43m.\u001b[39;49m\u001b[43m_raise_if_missing\u001b[49m\u001b[43m(\u001b[49m\u001b[43mkeyarr\u001b[49m\u001b[43m,\u001b[49m\u001b[43m \u001b[49m\u001b[43mindexer\u001b[49m\u001b[43m,\u001b[49m\u001b[43m \u001b[49m\u001b[43maxis_name\u001b[49m\u001b[43m)\u001b[49m\n\u001b[1;32m   6202\u001b[0m keyarr \u001b[38;5;241m=\u001b[39m \u001b[38;5;28mself\u001b[39m\u001b[38;5;241m.\u001b[39mtake(indexer)\n\u001b[1;32m   6203\u001b[0m \u001b[38;5;28;01mif\u001b[39;00m \u001b[38;5;28misinstance\u001b[39m(key, Index):\n\u001b[1;32m   6204\u001b[0m     \u001b[38;5;66;03m# GH 42790 - Preserve name from an Index\u001b[39;00m\n",
      "File \u001b[0;32m~/Library/Python/3.9/lib/python/site-packages/pandas/core/indexes/base.py:6249\u001b[0m, in \u001b[0;36mIndex._raise_if_missing\u001b[0;34m(self, key, indexer, axis_name)\u001b[0m\n\u001b[1;32m   6247\u001b[0m \u001b[38;5;28;01mif\u001b[39;00m nmissing:\n\u001b[1;32m   6248\u001b[0m     \u001b[38;5;28;01mif\u001b[39;00m nmissing \u001b[38;5;241m==\u001b[39m \u001b[38;5;28mlen\u001b[39m(indexer):\n\u001b[0;32m-> 6249\u001b[0m         \u001b[38;5;28;01mraise\u001b[39;00m \u001b[38;5;167;01mKeyError\u001b[39;00m(\u001b[38;5;124mf\u001b[39m\u001b[38;5;124m\"\u001b[39m\u001b[38;5;124mNone of [\u001b[39m\u001b[38;5;132;01m{\u001b[39;00mkey\u001b[38;5;132;01m}\u001b[39;00m\u001b[38;5;124m] are in the [\u001b[39m\u001b[38;5;132;01m{\u001b[39;00maxis_name\u001b[38;5;132;01m}\u001b[39;00m\u001b[38;5;124m]\u001b[39m\u001b[38;5;124m\"\u001b[39m)\n\u001b[1;32m   6251\u001b[0m     not_found \u001b[38;5;241m=\u001b[39m \u001b[38;5;28mlist\u001b[39m(ensure_index(key)[missing_mask\u001b[38;5;241m.\u001b[39mnonzero()[\u001b[38;5;241m0\u001b[39m]]\u001b[38;5;241m.\u001b[39munique())\n\u001b[1;32m   6252\u001b[0m     \u001b[38;5;28;01mraise\u001b[39;00m \u001b[38;5;167;01mKeyError\u001b[39;00m(\u001b[38;5;124mf\u001b[39m\u001b[38;5;124m\"\u001b[39m\u001b[38;5;132;01m{\u001b[39;00mnot_found\u001b[38;5;132;01m}\u001b[39;00m\u001b[38;5;124m not in index\u001b[39m\u001b[38;5;124m\"\u001b[39m)\n",
      "\u001b[0;31mKeyError\u001b[0m: \"None of [Index([   1,    2,    3,    4,    5,    6,    8,    9,   10,   11,\\n       ...\\n       2965, 2966, 2967, 2968, 2969, 2970, 2971, 2972, 2973, 2974],\\n      dtype='int64', length=2380)] are in the [columns]\""
     ]
    }
   ],
   "source": [
    "from sklearn.model_selection import KFold\n",
    "import numpy as np\n",
    "\n",
    "kfold = KFold(n_splits=5, shuffle=True, random_state=42)\n",
    "for train_index, val_index in kfold.split(X):\n",
    "    x_train, x_val = X[train_index], X[val_index]\n",
    "    y_train, y_val = y[train_index], y[val_index]\n",
    "    model.fit(x_train, y_train, epochs=50, batch_size=32, validation_data=(x_val, y_val))\n",
    "    val_loss = model.evaluate(x_val, y_val)\n",
    "    print(f'Validation Loss: {val_loss}')\n"
   ]
  },
  {
   "cell_type": "code",
   "execution_count": 60,
   "metadata": {},
   "outputs": [
    {
     "name": "stdout",
     "output_type": "stream",
     "text": [
      "Reloading Tuner from tuner_dir/lstm_tuning/tuner0.json\n"
     ]
    },
    {
     "name": "stderr",
     "output_type": "stream",
     "text": [
      "/Users/sol/Library/Python/3.9/lib/python/site-packages/keras/src/layers/rnn/rnn.py:204: UserWarning:\n",
      "\n",
      "Do not pass an `input_shape`/`input_dim` argument to a layer. When using Sequential models, prefer using an `Input(shape)` object as the first layer in the model instead.\n",
      "\n",
      "/Users/sol/Library/Python/3.9/lib/python/site-packages/keras/src/saving/saving_lib.py:576: UserWarning:\n",
      "\n",
      "Skipping variable loading for optimizer 'adam', because it has 2 variables whereas the saved optimizer has 18 variables. \n",
      "\n"
     ]
    },
    {
     "name": "stdout",
     "output_type": "stream",
     "text": [
      "\u001b[1m19/19\u001b[0m \u001b[32m━━━━━━━━━━━━━━━━━━━━\u001b[0m\u001b[37m\u001b[0m \u001b[1m1s\u001b[0m 11ms/step - accuracy: 0.7821 - loss: 0.6295\n",
      "Validation Loss: 0.4691270887851715, Validation Accuracy: 0.8131313323974609\n",
      "\u001b[1m19/19\u001b[0m \u001b[32m━━━━━━━━━━━━━━━━━━━━\u001b[0m\u001b[37m\u001b[0m \u001b[1m1s\u001b[0m 11ms/step - accuracy: 0.8676 - loss: 0.2199\n",
      "Validation Loss: 0.2116670459508896, Validation Accuracy: 0.8802698254585266\n",
      "\u001b[1m19/19\u001b[0m \u001b[32m━━━━━━━━━━━━━━━━━━━━\u001b[0m\u001b[37m\u001b[0m \u001b[1m1s\u001b[0m 10ms/step - accuracy: 0.9018 - loss: 0.2085\n",
      "Validation Loss: 0.18187227845191956, Validation Accuracy: 0.9190556406974792\n",
      "\u001b[1m19/19\u001b[0m \u001b[32m━━━━━━━━━━━━━━━━━━━━\u001b[0m\u001b[37m\u001b[0m \u001b[1m1s\u001b[0m 10ms/step - accuracy: 0.8911 - loss: 0.2197\n",
      "Validation Loss: 0.2150040566921234, Validation Accuracy: 0.8937605619430542\n",
      "\u001b[1m19/19\u001b[0m \u001b[32m━━━━━━━━━━━━━━━━━━━━\u001b[0m\u001b[37m\u001b[0m \u001b[1m1s\u001b[0m 12ms/step - accuracy: 0.8300 - loss: 0.4248\n",
      "Validation Loss: 0.39821913838386536, Validation Accuracy: 0.8482293486595154\n",
      "Average Validation Loss: 0.2951779216527939, Average Validation Accuracy: 0.8708893418312073\n",
      "Epoch 1/30\n",
      "\u001b[1m75/75\u001b[0m \u001b[32m━━━━━━━━━━━━━━━━━━━━\u001b[0m\u001b[37m\u001b[0m \u001b[1m5s\u001b[0m 27ms/step - accuracy: 0.8742 - loss: 0.2827\n",
      "Epoch 2/30\n",
      "\u001b[1m75/75\u001b[0m \u001b[32m━━━━━━━━━━━━━━━━━━━━\u001b[0m\u001b[37m\u001b[0m \u001b[1m2s\u001b[0m 29ms/step - accuracy: 0.8982 - loss: 0.2132\n",
      "Epoch 3/30\n",
      "\u001b[1m75/75\u001b[0m \u001b[32m━━━━━━━━━━━━━━━━━━━━\u001b[0m\u001b[37m\u001b[0m \u001b[1m2s\u001b[0m 27ms/step - accuracy: 0.8847 - loss: 0.2516\n",
      "Epoch 4/30\n",
      "\u001b[1m75/75\u001b[0m \u001b[32m━━━━━━━━━━━━━━━━━━━━\u001b[0m\u001b[37m\u001b[0m \u001b[1m2s\u001b[0m 31ms/step - accuracy: 0.9177 - loss: 0.1852\n",
      "Epoch 5/30\n",
      "\u001b[1m75/75\u001b[0m \u001b[32m━━━━━━━━━━━━━━━━━━━━\u001b[0m\u001b[37m\u001b[0m \u001b[1m2s\u001b[0m 31ms/step - accuracy: 0.9064 - loss: 0.1928\n",
      "Epoch 6/30\n",
      "\u001b[1m75/75\u001b[0m \u001b[32m━━━━━━━━━━━━━━━━━━━━\u001b[0m\u001b[37m\u001b[0m \u001b[1m2s\u001b[0m 31ms/step - accuracy: 0.9274 - loss: 0.1517\n",
      "Epoch 7/30\n",
      "\u001b[1m75/75\u001b[0m \u001b[32m━━━━━━━━━━━━━━━━━━━━\u001b[0m\u001b[37m\u001b[0m \u001b[1m2s\u001b[0m 29ms/step - accuracy: 0.9313 - loss: 0.1436\n",
      "Epoch 8/30\n",
      "\u001b[1m75/75\u001b[0m \u001b[32m━━━━━━━━━━━━━━━━━━━━\u001b[0m\u001b[37m\u001b[0m \u001b[1m2s\u001b[0m 30ms/step - accuracy: 0.9547 - loss: 0.1192\n",
      "Epoch 9/30\n",
      "\u001b[1m75/75\u001b[0m \u001b[32m━━━━━━━━━━━━━━━━━━━━\u001b[0m\u001b[37m\u001b[0m \u001b[1m2s\u001b[0m 32ms/step - accuracy: 0.9337 - loss: 0.1917\n",
      "Epoch 10/30\n",
      "\u001b[1m75/75\u001b[0m \u001b[32m━━━━━━━━━━━━━━━━━━━━\u001b[0m\u001b[37m\u001b[0m \u001b[1m2s\u001b[0m 33ms/step - accuracy: 0.9453 - loss: 0.1276\n",
      "Epoch 11/30\n",
      "\u001b[1m75/75\u001b[0m \u001b[32m━━━━━━━━━━━━━━━━━━━━\u001b[0m\u001b[37m\u001b[0m \u001b[1m2s\u001b[0m 29ms/step - accuracy: 0.9596 - loss: 0.0901\n",
      "Epoch 12/30\n",
      "\u001b[1m75/75\u001b[0m \u001b[32m━━━━━━━━━━━━━━━━━━━━\u001b[0m\u001b[37m\u001b[0m \u001b[1m2s\u001b[0m 32ms/step - accuracy: 0.9656 - loss: 0.0960\n",
      "Epoch 13/30\n",
      "\u001b[1m75/75\u001b[0m \u001b[32m━━━━━━━━━━━━━━━━━━━━\u001b[0m\u001b[37m\u001b[0m \u001b[1m2s\u001b[0m 29ms/step - accuracy: 0.9738 - loss: 0.0647\n",
      "Epoch 14/30\n",
      "\u001b[1m75/75\u001b[0m \u001b[32m━━━━━━━━━━━━━━━━━━━━\u001b[0m\u001b[37m\u001b[0m \u001b[1m2s\u001b[0m 31ms/step - accuracy: 0.9751 - loss: 0.0604\n",
      "Epoch 15/30\n",
      "\u001b[1m75/75\u001b[0m \u001b[32m━━━━━━━━━━━━━━━━━━━━\u001b[0m\u001b[37m\u001b[0m \u001b[1m2s\u001b[0m 31ms/step - accuracy: 0.9787 - loss: 0.0679\n",
      "Epoch 16/30\n",
      "\u001b[1m75/75\u001b[0m \u001b[32m━━━━━━━━━━━━━━━━━━━━\u001b[0m\u001b[37m\u001b[0m \u001b[1m2s\u001b[0m 32ms/step - accuracy: 0.9876 - loss: 0.0390\n",
      "Epoch 17/30\n",
      "\u001b[1m75/75\u001b[0m \u001b[32m━━━━━━━━━━━━━━━━━━━━\u001b[0m\u001b[37m\u001b[0m \u001b[1m2s\u001b[0m 30ms/step - accuracy: 0.9641 - loss: 0.0954\n",
      "Epoch 18/30\n",
      "\u001b[1m75/75\u001b[0m \u001b[32m━━━━━━━━━━━━━━━━━━━━\u001b[0m\u001b[37m\u001b[0m \u001b[1m2s\u001b[0m 29ms/step - accuracy: 0.9728 - loss: 0.0732\n",
      "Epoch 19/30\n",
      "\u001b[1m75/75\u001b[0m \u001b[32m━━━━━━━━━━━━━━━━━━━━\u001b[0m\u001b[37m\u001b[0m \u001b[1m2s\u001b[0m 28ms/step - accuracy: 0.9893 - loss: 0.0283\n",
      "Epoch 20/30\n",
      "\u001b[1m75/75\u001b[0m \u001b[32m━━━━━━━━━━━━━━━━━━━━\u001b[0m\u001b[37m\u001b[0m \u001b[1m2s\u001b[0m 31ms/step - accuracy: 0.9878 - loss: 0.0324\n",
      "Epoch 21/30\n",
      "\u001b[1m75/75\u001b[0m \u001b[32m━━━━━━━━━━━━━━━━━━━━\u001b[0m\u001b[37m\u001b[0m \u001b[1m2s\u001b[0m 32ms/step - accuracy: 0.9949 - loss: 0.0238\n",
      "Epoch 22/30\n",
      "\u001b[1m75/75\u001b[0m \u001b[32m━━━━━━━━━━━━━━━━━━━━\u001b[0m\u001b[37m\u001b[0m \u001b[1m2s\u001b[0m 30ms/step - accuracy: 0.9961 - loss: 0.0140\n",
      "Epoch 23/30\n",
      "\u001b[1m75/75\u001b[0m \u001b[32m━━━━━━━━━━━━━━━━━━━━\u001b[0m\u001b[37m\u001b[0m \u001b[1m2s\u001b[0m 26ms/step - accuracy: 0.9934 - loss: 0.0160\n",
      "Epoch 24/30\n",
      "\u001b[1m75/75\u001b[0m \u001b[32m━━━━━━━━━━━━━━━━━━━━\u001b[0m\u001b[37m\u001b[0m \u001b[1m2s\u001b[0m 25ms/step - accuracy: 0.9838 - loss: 0.0796\n",
      "Epoch 25/30\n",
      "\u001b[1m75/75\u001b[0m \u001b[32m━━━━━━━━━━━━━━━━━━━━\u001b[0m\u001b[37m\u001b[0m \u001b[1m2s\u001b[0m 28ms/step - accuracy: 0.9860 - loss: 0.0644\n",
      "Epoch 26/30\n",
      "\u001b[1m75/75\u001b[0m \u001b[32m━━━━━━━━━━━━━━━━━━━━\u001b[0m\u001b[37m\u001b[0m \u001b[1m3s\u001b[0m 35ms/step - accuracy: 0.9914 - loss: 0.0251\n",
      "Epoch 27/30\n",
      "\u001b[1m75/75\u001b[0m \u001b[32m━━━━━━━━━━━━━━━━━━━━\u001b[0m\u001b[37m\u001b[0m \u001b[1m2s\u001b[0m 32ms/step - accuracy: 0.9956 - loss: 0.0145\n",
      "Epoch 28/30\n",
      "\u001b[1m75/75\u001b[0m \u001b[32m━━━━━━━━━━━━━━━━━━━━\u001b[0m\u001b[37m\u001b[0m \u001b[1m2s\u001b[0m 33ms/step - accuracy: 0.9927 - loss: 0.0180\n",
      "Epoch 29/30\n",
      "\u001b[1m75/75\u001b[0m \u001b[32m━━━━━━━━━━━━━━━━━━━━\u001b[0m\u001b[37m\u001b[0m \u001b[1m2s\u001b[0m 33ms/step - accuracy: 0.9974 - loss: 0.0076\n",
      "Epoch 30/30\n",
      "\u001b[1m75/75\u001b[0m \u001b[32m━━━━━━━━━━━━━━━━━━━━\u001b[0m\u001b[37m\u001b[0m \u001b[1m3s\u001b[0m 39ms/step - accuracy: 0.9845 - loss: 0.0653\n",
      "\u001b[1m19/19\u001b[0m \u001b[32m━━━━━━━━━━━━━━━━━━━━\u001b[0m\u001b[37m\u001b[0m \u001b[1m0s\u001b[0m 12ms/step - accuracy: 0.8097 - loss: 1.0969\n",
      "Test Loss: 1.0657306909561157, Test Accuracy: 0.8013467788696289\n",
      "\u001b[1m19/19\u001b[0m \u001b[32m━━━━━━━━━━━━━━━━━━━━\u001b[0m\u001b[37m\u001b[0m \u001b[1m1s\u001b[0m 33ms/step\n"
     ]
    }
   ],
   "source": [
    "import pandas as pd\n",
    "import numpy as np\n",
    "from sklearn.preprocessing import StandardScaler, OneHotEncoder\n",
    "from sklearn.compose import ColumnTransformer\n",
    "from sklearn.pipeline import Pipeline\n",
    "from tensorflow.keras.models import Sequential\n",
    "from tensorflow.keras.layers import LSTM, Dense, Dropout\n",
    "from sklearn.model_selection import train_test_split, KFold\n",
    "from tensorflow.keras.utils import to_categorical\n",
    "import keras_tuner as kt\n",
    "from tensorflow.keras.optimizers import Adam\n",
    "\n",
    "# Assuming df_may_filled is your DataFrame\n",
    "df_lstm_2 = df_may_filled.copy()\n",
    "df_lstm_2['day'] = df_may_filled['grouped_date'].dt.day.astype(int)\n",
    "\n",
    "features = ['day_of_week', 'hour_minute', 'temperature', 'rainfall', 'capacity', 'altitude', 'station_id', 'is_weekend']\n",
    "target = 'docking_available'\n",
    "\n",
    "categorical_features = ['day_of_week', 'is_weekend', 'hour_minute', 'station_id']\n",
    "numerical_features = ['temperature', 'rainfall', 'capacity', 'altitude']\n",
    "preprocessor = ColumnTransformer(\n",
    "    transformers=[\n",
    "        ('num', StandardScaler(), numerical_features),\n",
    "        ('cat', OneHotEncoder(), categorical_features)\n",
    "    ])\n",
    "\n",
    "X = df_lstm_2[features]\n",
    "y = df_lstm_2[target]\n",
    "\n",
    "X_processed = preprocessor.fit_transform(X)\n",
    "\n",
    "def create_sequences(data, target, sequence_length=10):\n",
    "    X_seq, y_seq = [], []\n",
    "    for i in range(len(data) - sequence_length):\n",
    "        X_seq.append(data[i:i + sequence_length])\n",
    "        y_seq.append(target[i + sequence_length])\n",
    "    return np.array(X_seq), np.array(y_seq)\n",
    "\n",
    "sequence_length = 10\n",
    "X_processed = X_processed.toarray() \n",
    "X_seq, y_seq = create_sequences(X_processed, y.values, sequence_length)\n",
    "\n",
    "num_classes = len(np.unique(y))\n",
    "\n",
    "y_seq_encoded = to_categorical(y_seq, num_classes=num_classes)\n",
    "\n",
    "def build_model(hp):\n",
    "    model = Sequential()\n",
    "    model.add(LSTM(units=hp.Int('units', min_value=32, max_value=512, step=32), activation='relu', input_shape=(sequence_length, X_seq.shape[2]), return_sequences=True))\n",
    "    model.add(LSTM(units=hp.Int('units', min_value=32, max_value=512, step=32), activation='relu'))\n",
    "    model.add(Dropout(hp.Float('dropout', 0.4, 0.5, step=0.1)))\n",
    "    model.add(Dense(num_classes, activation='softmax'))\n",
    "    \n",
    "    model.compile(optimizer=Adam(hp.Float('learning_rate', 1e-4, 1e-2, sampling='LOG')), \n",
    "                  loss='categorical_crossentropy', \n",
    "                  metrics=['accuracy'])\n",
    "    return model\n",
    "\n",
    "tuner = kt.RandomSearch(\n",
    "    build_model,\n",
    "    objective='val_accuracy',\n",
    "    max_trials=10,\n",
    "    executions_per_trial=1,\n",
    "    directory='tuner_dir',\n",
    "    project_name='lstm_tuning'\n",
    ")\n",
    "\n",
    "# Initialize KFold\n",
    "kfold = KFold(n_splits=5, shuffle=True, random_state=42)\n",
    "\n",
    "# Collect results from each fold\n",
    "all_val_scores = []\n",
    "\n",
    "for train_index, val_index in kfold.split(X_seq):\n",
    "    X_train, X_val = X_seq[train_index], X_seq[val_index]\n",
    "    y_train, y_val = y_seq_encoded[train_index], y_seq_encoded[val_index]\n",
    "    \n",
    "    tuner.search(X_train, y_train, epochs=30, batch_size=32, validation_data=(X_val, y_val))\n",
    "    \n",
    "    best_model = tuner.get_best_models(num_models=1)[0]\n",
    "    val_loss, val_accuracy = best_model.evaluate(X_val, y_val)\n",
    "    all_val_scores.append((val_loss, val_accuracy))\n",
    "    print(f'Validation Loss: {val_loss}, Validation Accuracy: {val_accuracy}')\n",
    "\n",
    "# Average validation scores across all folds\n",
    "avg_val_loss = np.mean([score[0] for score in all_val_scores])\n",
    "avg_val_accuracy = np.mean([score[1] for score in all_val_scores])\n",
    "print(f'Average Validation Loss: {avg_val_loss}, Average Validation Accuracy: {avg_val_accuracy}')\n",
    "\n",
    "# Evaluate on the test set using the best model\n",
    "X_train_full, X_test, y_train_full, y_test = train_test_split(X_seq, y_seq_encoded, test_size=0.2, random_state=42)\n",
    "best_model.fit(X_train_full, y_train_full, epochs=30, batch_size=32)\n",
    "test_loss, test_accuracy = best_model.evaluate(X_test, y_test)\n",
    "print(f'Test Loss: {test_loss}, Test Accuracy: {test_accuracy}')\n",
    "\n",
    "# Predict on test data\n",
    "y_pred_prob = best_model.predict(X_test)\n",
    "y_pred = np.argmax(y_pred_prob, axis=1)\n"
   ]
  },
  {
   "cell_type": "code",
   "execution_count": 61,
   "metadata": {},
   "outputs": [
    {
     "name": "stdout",
     "output_type": "stream",
     "text": [
      "Reloading Tuner from tuner_dir/lstm_tuning/tuner0.json\n",
      "\u001b[1m19/19\u001b[0m \u001b[32m━━━━━━━━━━━━━━━━━━━━\u001b[0m\u001b[37m\u001b[0m \u001b[1m1s\u001b[0m 11ms/step - accuracy: 0.7821 - loss: 2.0704\n",
      "Validation Loss: 1.9099996089935303, Validation Accuracy: 0.8131313323974609\n",
      "\u001b[1m19/19\u001b[0m \u001b[32m━━━━━━━━━━━━━━━━━━━━\u001b[0m\u001b[37m\u001b[0m \u001b[1m1s\u001b[0m 11ms/step - accuracy: 0.8676 - loss: 1.6607\n",
      "Validation Loss: 1.652539610862732, Validation Accuracy: 0.8802698254585266\n",
      "\u001b[1m19/19\u001b[0m \u001b[32m━━━━━━━━━━━━━━━━━━━━\u001b[0m\u001b[37m\u001b[0m \u001b[1m1s\u001b[0m 11ms/step - accuracy: 0.9018 - loss: 1.6494\n",
      "Validation Loss: 1.6227445602416992, Validation Accuracy: 0.9190556406974792\n",
      "\u001b[1m19/19\u001b[0m \u001b[32m━━━━━━━━━━━━━━━━━━━━\u001b[0m\u001b[37m\u001b[0m \u001b[1m1s\u001b[0m 14ms/step - accuracy: 0.8911 - loss: 1.6605\n",
      "Validation Loss: 1.6558765172958374, Validation Accuracy: 0.8937605619430542\n",
      "\u001b[1m19/19\u001b[0m \u001b[32m━━━━━━━━━━━━━━━━━━━━\u001b[0m\u001b[37m\u001b[0m \u001b[1m1s\u001b[0m 12ms/step - accuracy: 0.8300 - loss: 1.8657\n",
      "Validation Loss: 1.8390915393829346, Validation Accuracy: 0.8482293486595154\n",
      "Average Validation Loss: 1.7360503673553467, Average Validation Accuracy: 0.8708893418312073\n",
      "Epoch 1/30\n",
      "\u001b[1m75/75\u001b[0m \u001b[32m━━━━━━━━━━━━━━━━━━━━\u001b[0m\u001b[37m\u001b[0m \u001b[1m6s\u001b[0m 34ms/step - accuracy: 0.8645 - loss: 1.2524 - learning_rate: 0.0016\n",
      "Epoch 2/30\n",
      "\u001b[1m 5/75\u001b[0m \u001b[32m━\u001b[0m\u001b[37m━━━━━━━━━━━━━━━━━━━\u001b[0m \u001b[1m2s\u001b[0m 33ms/step - accuracy: 0.9565 - loss: 0.4687"
     ]
    },
    {
     "name": "stderr",
     "output_type": "stream",
     "text": [
      "/Users/sol/Library/Python/3.9/lib/python/site-packages/keras/src/callbacks/early_stopping.py:155: UserWarning:\n",
      "\n",
      "Early stopping conditioned on metric `val_loss` which is not available. Available metrics are: accuracy,loss\n",
      "\n",
      "/Users/sol/Library/Python/3.9/lib/python/site-packages/keras/src/callbacks/callback_list.py:96: UserWarning:\n",
      "\n",
      "Learning rate reduction is conditioned on metric `val_loss` which is not available. Available metrics are: accuracy,loss,learning_rate.\n",
      "\n"
     ]
    },
    {
     "name": "stdout",
     "output_type": "stream",
     "text": [
      "\u001b[1m75/75\u001b[0m \u001b[32m━━━━━━━━━━━━━━━━━━━━\u001b[0m\u001b[37m\u001b[0m \u001b[1m2s\u001b[0m 33ms/step - accuracy: 0.8939 - loss: 0.5027 - learning_rate: 0.0016\n",
      "Epoch 3/30\n",
      "\u001b[1m75/75\u001b[0m \u001b[32m━━━━━━━━━━━━━━━━━━━━\u001b[0m\u001b[37m\u001b[0m \u001b[1m2s\u001b[0m 33ms/step - accuracy: 0.8840 - loss: 0.3851 - learning_rate: 0.0016\n",
      "Epoch 4/30\n",
      "\u001b[1m75/75\u001b[0m \u001b[32m━━━━━━━━━━━━━━━━━━━━\u001b[0m\u001b[37m\u001b[0m \u001b[1m3s\u001b[0m 33ms/step - accuracy: 0.8935 - loss: 0.3581 - learning_rate: 0.0016\n",
      "Epoch 5/30\n",
      "\u001b[1m75/75\u001b[0m \u001b[32m━━━━━━━━━━━━━━━━━━━━\u001b[0m\u001b[37m\u001b[0m \u001b[1m3s\u001b[0m 33ms/step - accuracy: 0.8713 - loss: 0.3625 - learning_rate: 0.0016\n",
      "Epoch 6/30\n",
      "\u001b[1m75/75\u001b[0m \u001b[32m━━━━━━━━━━━━━━━━━━━━\u001b[0m\u001b[37m\u001b[0m \u001b[1m3s\u001b[0m 33ms/step - accuracy: 0.8846 - loss: 0.4717 - learning_rate: 0.0016\n",
      "Epoch 7/30\n",
      "\u001b[1m75/75\u001b[0m \u001b[32m━━━━━━━━━━━━━━━━━━━━\u001b[0m\u001b[37m\u001b[0m \u001b[1m2s\u001b[0m 30ms/step - accuracy: 0.8968 - loss: 0.3102 - learning_rate: 0.0016\n",
      "Epoch 8/30\n",
      "\u001b[1m75/75\u001b[0m \u001b[32m━━━━━━━━━━━━━━━━━━━━\u001b[0m\u001b[37m\u001b[0m \u001b[1m3s\u001b[0m 33ms/step - accuracy: 0.9073 - loss: 0.2951 - learning_rate: 0.0016\n",
      "Epoch 9/30\n",
      "\u001b[1m75/75\u001b[0m \u001b[32m━━━━━━━━━━━━━━━━━━━━\u001b[0m\u001b[37m\u001b[0m \u001b[1m2s\u001b[0m 33ms/step - accuracy: 0.9173 - loss: 0.2772 - learning_rate: 0.0016\n",
      "Epoch 10/30\n",
      "\u001b[1m75/75\u001b[0m \u001b[32m━━━━━━━━━━━━━━━━━━━━\u001b[0m\u001b[37m\u001b[0m \u001b[1m3s\u001b[0m 33ms/step - accuracy: 0.9174 - loss: 0.2758 - learning_rate: 0.0016\n",
      "Epoch 11/30\n",
      "\u001b[1m75/75\u001b[0m \u001b[32m━━━━━━━━━━━━━━━━━━━━\u001b[0m\u001b[37m\u001b[0m \u001b[1m2s\u001b[0m 30ms/step - accuracy: 0.9402 - loss: 0.2321 - learning_rate: 0.0016\n",
      "Epoch 12/30\n",
      "\u001b[1m75/75\u001b[0m \u001b[32m━━━━━━━━━━━━━━━━━━━━\u001b[0m\u001b[37m\u001b[0m \u001b[1m2s\u001b[0m 28ms/step - accuracy: 0.9322 - loss: 0.2686 - learning_rate: 0.0016\n",
      "Epoch 13/30\n",
      "\u001b[1m75/75\u001b[0m \u001b[32m━━━━━━━━━━━━━━━━━━━━\u001b[0m\u001b[37m\u001b[0m \u001b[1m2s\u001b[0m 29ms/step - accuracy: 0.9396 - loss: 0.2163 - learning_rate: 0.0016\n",
      "Epoch 14/30\n",
      "\u001b[1m75/75\u001b[0m \u001b[32m━━━━━━━━━━━━━━━━━━━━\u001b[0m\u001b[37m\u001b[0m \u001b[1m2s\u001b[0m 29ms/step - accuracy: 0.9014 - loss: 0.3050 - learning_rate: 0.0016\n",
      "Epoch 15/30\n",
      "\u001b[1m75/75\u001b[0m \u001b[32m━━━━━━━━━━━━━━━━━━━━\u001b[0m\u001b[37m\u001b[0m \u001b[1m2s\u001b[0m 29ms/step - accuracy: 0.9335 - loss: 0.2370 - learning_rate: 0.0016\n",
      "Epoch 16/30\n",
      "\u001b[1m75/75\u001b[0m \u001b[32m━━━━━━━━━━━━━━━━━━━━\u001b[0m\u001b[37m\u001b[0m \u001b[1m2s\u001b[0m 29ms/step - accuracy: 0.9536 - loss: 0.2123 - learning_rate: 0.0016\n",
      "Epoch 17/30\n",
      "\u001b[1m75/75\u001b[0m \u001b[32m━━━━━━━━━━━━━━━━━━━━\u001b[0m\u001b[37m\u001b[0m \u001b[1m2s\u001b[0m 28ms/step - accuracy: 0.9461 - loss: 0.2210 - learning_rate: 0.0016\n",
      "Epoch 18/30\n",
      "\u001b[1m75/75\u001b[0m \u001b[32m━━━━━━━━━━━━━━━━━━━━\u001b[0m\u001b[37m\u001b[0m \u001b[1m2s\u001b[0m 31ms/step - accuracy: 0.9535 - loss: 0.2121 - learning_rate: 0.0016\n",
      "Epoch 19/30\n",
      "\u001b[1m75/75\u001b[0m \u001b[32m━━━━━━━━━━━━━━━━━━━━\u001b[0m\u001b[37m\u001b[0m \u001b[1m2s\u001b[0m 30ms/step - accuracy: 0.9521 - loss: 0.2022 - learning_rate: 0.0016\n",
      "Epoch 20/30\n",
      "\u001b[1m75/75\u001b[0m \u001b[32m━━━━━━━━━━━━━━━━━━━━\u001b[0m\u001b[37m\u001b[0m \u001b[1m2s\u001b[0m 30ms/step - accuracy: 0.9616 - loss: 0.1929 - learning_rate: 0.0016\n",
      "Epoch 21/30\n",
      "\u001b[1m75/75\u001b[0m \u001b[32m━━━━━━━━━━━━━━━━━━━━\u001b[0m\u001b[37m\u001b[0m \u001b[1m2s\u001b[0m 30ms/step - accuracy: 0.9723 - loss: 0.1686 - learning_rate: 0.0016\n",
      "Epoch 22/30\n",
      "\u001b[1m75/75\u001b[0m \u001b[32m━━━━━━━━━━━━━━━━━━━━\u001b[0m\u001b[37m\u001b[0m \u001b[1m2s\u001b[0m 30ms/step - accuracy: 0.9381 - loss: 0.2345 - learning_rate: 0.0016\n",
      "Epoch 23/30\n",
      "\u001b[1m75/75\u001b[0m \u001b[32m━━━━━━━━━━━━━━━━━━━━\u001b[0m\u001b[37m\u001b[0m \u001b[1m2s\u001b[0m 29ms/step - accuracy: 0.9642 - loss: 0.1874 - learning_rate: 0.0016\n",
      "Epoch 24/30\n",
      "\u001b[1m75/75\u001b[0m \u001b[32m━━━━━━━━━━━━━━━━━━━━\u001b[0m\u001b[37m\u001b[0m \u001b[1m2s\u001b[0m 29ms/step - accuracy: 0.9593 - loss: 0.1880 - learning_rate: 0.0016\n",
      "Epoch 25/30\n",
      "\u001b[1m75/75\u001b[0m \u001b[32m━━━━━━━━━━━━━━━━━━━━\u001b[0m\u001b[37m\u001b[0m \u001b[1m2s\u001b[0m 29ms/step - accuracy: 0.9690 - loss: 0.1751 - learning_rate: 0.0016\n",
      "Epoch 26/30\n",
      "\u001b[1m75/75\u001b[0m \u001b[32m━━━━━━━━━━━━━━━━━━━━\u001b[0m\u001b[37m\u001b[0m \u001b[1m2s\u001b[0m 30ms/step - accuracy: 0.9655 - loss: 0.1974 - learning_rate: 0.0016\n",
      "Epoch 27/30\n",
      "\u001b[1m75/75\u001b[0m \u001b[32m━━━━━━━━━━━━━━━━━━━━\u001b[0m\u001b[37m\u001b[0m \u001b[1m2s\u001b[0m 29ms/step - accuracy: 0.9809 - loss: 0.1433 - learning_rate: 0.0016\n",
      "Epoch 28/30\n",
      "\u001b[1m75/75\u001b[0m \u001b[32m━━━━━━━━━━━━━━━━━━━━\u001b[0m\u001b[37m\u001b[0m \u001b[1m2s\u001b[0m 30ms/step - accuracy: 0.9702 - loss: 0.1819 - learning_rate: 0.0016\n",
      "Epoch 29/30\n",
      "\u001b[1m75/75\u001b[0m \u001b[32m━━━━━━━━━━━━━━━━━━━━\u001b[0m\u001b[37m\u001b[0m \u001b[1m2s\u001b[0m 28ms/step - accuracy: 0.9365 - loss: 0.3747 - learning_rate: 0.0016\n",
      "Epoch 30/30\n",
      "\u001b[1m75/75\u001b[0m \u001b[32m━━━━━━━━━━━━━━━━━━━━\u001b[0m\u001b[37m\u001b[0m \u001b[1m2s\u001b[0m 28ms/step - accuracy: 0.9662 - loss: 0.2427 - learning_rate: 0.0016\n",
      "\u001b[1m19/19\u001b[0m \u001b[32m━━━━━━━━━━━━━━━━━━━━\u001b[0m\u001b[37m\u001b[0m \u001b[1m0s\u001b[0m 11ms/step - accuracy: 0.8266 - loss: 1.0111\n",
      "Test Loss: 1.0268439054489136, Test Accuracy: 0.8249158263206482\n",
      "\u001b[1m19/19\u001b[0m \u001b[32m━━━━━━━━━━━━━━━━━━━━\u001b[0m\u001b[37m\u001b[0m \u001b[1m1s\u001b[0m 35ms/step\n"
     ]
    }
   ],
   "source": [
    "import pandas as pd\n",
    "import numpy as np\n",
    "from sklearn.preprocessing import StandardScaler, OneHotEncoder\n",
    "from sklearn.compose import ColumnTransformer\n",
    "from tensorflow.keras.models import Sequential\n",
    "from tensorflow.keras.layers import LSTM, Dense, Dropout\n",
    "from sklearn.model_selection import train_test_split, KFold\n",
    "from tensorflow.keras.utils import to_categorical\n",
    "import keras_tuner as kt\n",
    "from tensorflow.keras.optimizers import Adam\n",
    "from tensorflow.keras.callbacks import EarlyStopping, ReduceLROnPlateau\n",
    "from tensorflow.keras.regularizers import l2\n",
    "\n",
    "# Data Preparation (same as before)\n",
    "# ... [data preparation steps] ...\n",
    "\n",
    "# Define the Model-Building Function with Improvements\n",
    "def build_model(hp):\n",
    "    model = Sequential()\n",
    "    model.add(LSTM(units=hp.Int('units', min_value=32, max_value=512, step=32), \n",
    "                   activation='relu', \n",
    "                   input_shape=(sequence_length, X_seq.shape[2]), \n",
    "                   return_sequences=True, \n",
    "                   kernel_regularizer=l2(0.001)))\n",
    "    model.add(Dropout(hp.Float('dropout', 0.1, 0.5, step=0.1)))\n",
    "    model.add(LSTM(units=hp.Int('units', min_value=32, max_value=512, step=32), \n",
    "                   activation='relu', \n",
    "                   kernel_regularizer=l2(0.001)))\n",
    "    model.add(Dropout(hp.Float('dropout', 0.1, 0.5, step=0.1)))\n",
    "    model.add(Dense(num_classes, activation='softmax'))\n",
    "    \n",
    "    model.compile(optimizer=Adam(hp.Float('learning_rate', 1e-4, 1e-2, sampling='LOG')), \n",
    "                  loss='categorical_crossentropy', \n",
    "                  metrics=['accuracy'])\n",
    "    return model\n",
    "\n",
    "tuner = kt.RandomSearch(\n",
    "    build_model,\n",
    "    objective='val_accuracy',\n",
    "    max_trials=10,\n",
    "    executions_per_trial=1,\n",
    "    directory='tuner_dir',\n",
    "    project_name='lstm_tuning'\n",
    ")\n",
    "\n",
    "# Initialize KFold\n",
    "kfold = KFold(n_splits=5, shuffle=True, random_state=42)\n",
    "\n",
    "# Collect results from each fold\n",
    "all_val_scores = []\n",
    "\n",
    "# Callbacks\n",
    "early_stopping = EarlyStopping(monitor='val_loss', patience=5, restore_best_weights=True)\n",
    "reduce_lr = ReduceLROnPlateau(monitor='val_loss', factor=0.2, patience=3, min_lr=1e-5)\n",
    "\n",
    "for train_index, val_index in kfold.split(X_seq):\n",
    "    X_train, X_val = X_seq[train_index], X_seq[val_index]\n",
    "    y_train, y_val = y_seq_encoded[train_index], y_seq_encoded[val_index]\n",
    "    \n",
    "    tuner.search(X_train, y_train, epochs=30, batch_size=32, validation_data=(X_val, y_val), callbacks=[early_stopping, reduce_lr])\n",
    "    \n",
    "    best_model = tuner.get_best_models(num_models=1)[0]\n",
    "    val_loss, val_accuracy = best_model.evaluate(X_val, y_val)\n",
    "    all_val_scores.append((val_loss, val_accuracy))\n",
    "    print(f'Validation Loss: {val_loss}, Validation Accuracy: {val_accuracy}')\n",
    "\n",
    "# Average validation scores across all folds\n",
    "avg_val_loss = np.mean([score[0] for score in all_val_scores])\n",
    "avg_val_accuracy = np.mean([score[1] for score in all_val_scores])\n",
    "print(f'Average Validation Loss: {avg_val_loss}, Average Validation Accuracy: {avg_val_accuracy}')\n",
    "\n",
    "# Evaluate on the test set using the best model\n",
    "X_train_full, X_test, y_train_full, y_test = train_test_split(X_seq, y_seq_encoded, test_size=0.2, random_state=42)\n",
    "best_model.fit(X_train_full, y_train_full, epochs=30, batch_size=32, callbacks=[early_stopping, reduce_lr])\n",
    "test_loss, test_accuracy = best_model.evaluate(X_test, y_test)\n",
    "print(f'Test Loss: {test_loss}, Test Accuracy: {test_accuracy}')\n",
    "\n",
    "# Predict on test data\n",
    "y_pred_prob = best_model.predict(X_test)\n",
    "y_pred = np.argmax(y_pred_prob, axis=1)\n"
   ]
  },
  {
   "cell_type": "markdown",
   "metadata": {},
   "source": [
    "## SAve model"
   ]
  },
  {
   "cell_type": "code",
   "execution_count": 20,
   "metadata": {},
   "outputs": [
    {
     "ename": "NameError",
     "evalue": "name 'mae' is not defined",
     "output_type": "error",
     "traceback": [
      "\u001b[0;31m---------------------------------------------------------------------------\u001b[0m",
      "\u001b[0;31mNameError\u001b[0m                                 Traceback (most recent call last)",
      "Cell \u001b[0;32mIn[20], line 7\u001b[0m\n\u001b[1;32m      5\u001b[0m now \u001b[38;5;241m=\u001b[39m pd\u001b[38;5;241m.\u001b[39mTimestamp\u001b[38;5;241m.\u001b[39mnow()\n\u001b[1;32m      6\u001b[0m date \u001b[38;5;241m=\u001b[39m now\u001b[38;5;241m.\u001b[39mstrftime(\u001b[38;5;124m\"\u001b[39m\u001b[38;5;124m%\u001b[39m\u001b[38;5;124mY-\u001b[39m\u001b[38;5;124m%\u001b[39m\u001b[38;5;124mm-\u001b[39m\u001b[38;5;132;01m%d\u001b[39;00m\u001b[38;5;124m-\u001b[39m\u001b[38;5;124m%\u001b[39m\u001b[38;5;124mH-\u001b[39m\u001b[38;5;124m%\u001b[39m\u001b[38;5;124mM-\u001b[39m\u001b[38;5;124m%\u001b[39m\u001b[38;5;124mS\u001b[39m\u001b[38;5;124m\"\u001b[39m)\n\u001b[0;32m----> 7\u001b[0m added_info \u001b[38;5;241m=\u001b[39m \u001b[38;5;124mf\u001b[39m\u001b[38;5;124m'\u001b[39m\u001b[38;5;124mmae_\u001b[39m\u001b[38;5;132;01m{\u001b[39;00m\u001b[38;5;28mround\u001b[39m(mae,\u001b[38;5;241m5\u001b[39m)\u001b[38;5;132;01m}\u001b[39;00m\u001b[38;5;124m_mse_\u001b[39m\u001b[38;5;132;01m{\u001b[39;00m\u001b[38;5;28mround\u001b[39m(mse,\u001b[38;5;241m5\u001b[39m)\u001b[38;5;132;01m}\u001b[39;00m\u001b[38;5;124m_r2_\u001b[39m\u001b[38;5;132;01m{\u001b[39;00m\u001b[38;5;28mround\u001b[39m(r2,\u001b[38;5;241m5\u001b[39m)\u001b[38;5;132;01m}\u001b[39;00m\u001b[38;5;124m_stations_\u001b[39m\u001b[38;5;132;01m{\u001b[39;00mstations_str\u001b[38;5;132;01m}\u001b[39;00m\u001b[38;5;124m_date_\u001b[39m\u001b[38;5;132;01m{\u001b[39;00mdate\u001b[38;5;132;01m}\u001b[39;00m\u001b[38;5;124m'\u001b[39m\n\u001b[1;32m      8\u001b[0m filename \u001b[38;5;241m=\u001b[39m \u001b[38;5;124mf\u001b[39m\u001b[38;5;124m'\u001b[39m\u001b[38;5;124mmodels/0X_model_rfg_\u001b[39m\u001b[38;5;132;01m{\u001b[39;00madded_info\u001b[38;5;132;01m}\u001b[39;00m\u001b[38;5;124m.pkl\u001b[39m\u001b[38;5;124m'\u001b[39m\n\u001b[1;32m     10\u001b[0m pickle\u001b[38;5;241m.\u001b[39mdump(pipeline, \u001b[38;5;28mopen\u001b[39m(filename, \u001b[38;5;124m'\u001b[39m\u001b[38;5;124mwb\u001b[39m\u001b[38;5;124m'\u001b[39m))\n",
      "\u001b[0;31mNameError\u001b[0m: name 'mae' is not defined"
     ]
    }
   ],
   "source": [
    "# save the model with pickle\n",
    "import pickle\n",
    "\n",
    "stations_str = '_'.join([str(x) for x in filter_stations])\n",
    "now = pd.Timestamp.now()\n",
    "date = now.strftime(\"%Y-%m-%d-%H-%M-%S\")\n",
    "added_info = f'mae_{round(mae,5)}_mse_{round(mse,5)}_r2_{round(r2,5)}_stations_{stations_str}_date_{date}'\n",
    "filename = f'models/0X_model_rfg_{added_info}.pkl'\n",
    "\n",
    "pickle.dump(pipeline, open(filename, 'wb'))\n"
   ]
  },
  {
   "cell_type": "code",
   "execution_count": null,
   "metadata": {},
   "outputs": [],
   "source": []
  }
 ],
 "metadata": {
  "kernelspec": {
   "display_name": "Python 3",
   "language": "python",
   "name": "python3"
  },
  "language_info": {
   "codemirror_mode": {
    "name": "ipython",
    "version": 3
   },
   "file_extension": ".py",
   "mimetype": "text/x-python",
   "name": "python",
   "nbconvert_exporter": "python",
   "pygments_lexer": "ipython3",
   "version": "3.9.6"
  }
 },
 "nbformat": 4,
 "nbformat_minor": 2
}
