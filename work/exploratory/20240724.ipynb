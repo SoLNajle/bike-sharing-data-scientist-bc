{
 "cells": [
  {
   "cell_type": "code",
   "execution_count": null,
   "metadata": {},
   "outputs": [],
   "source": [
    "import pandas as pd \n",
    "df_busiest_day = pd.read_csv('../../data/bicing/processed/months/days/0113_2023_01_STATIONS_busiest_day.csv')\n",
    "df_busiest_day.head(3)\n"
   ]
  },
  {
   "cell_type": "code",
   "execution_count": null,
   "metadata": {},
   "outputs": [],
   "source": [
    "import plotly.express as px\n",
    "\n",
    "# Assuming df_month_busiest_days is your DataFrame and it includes the 'is_returning' column with values 0 and 1\n",
    "fig = px.scatter_mapbox(df_busiest_day, lat=\"lat\", lon=\"lon\", color=\"bikes_available\", # size=\"num_bikes_available\",size_max=2,\n",
    "                        color_discrete_map={0: \"red\", 1: \"green\"},\n",
    "                        hover_name=\"address\", hover_data=[\"station_id\", \"altitude\", \"post_code\", \"capacity\",\"num_bikes_available\"],\n",
    "                        title=\"January's busiest day Bikes Availability\",\n",
    "                        animation_frame='grouped_date',\n",
    "                        zoom=11.5, height=630, width=600,\n",
    "                        category_orders={\"bikes_available\": [0, 1]})  # Explicitly setting the order of categories\n",
    "\n",
    "fig.update_layout(mapbox_style=\"open-street-map\",\n",
    "                  margin={\"r\": 0, \"t\": 80, \"l\": 0, \"b\": 0},\n",
    "                  mapbox={\"center\": {\"lat\": 41.40484, \"lon\": 2.17482}})\n",
    "\n",
    "for i, frame in enumerate(fig.frames):\n",
    "    time_frame = frame.name[-5:]\n",
    "    frame.layout.title = \"January's busiest day Bikes Availability At: {}\".format(str(time_frame))\n",
    "    \n",
    "fig.show()"
   ]
  },
  {
   "cell_type": "code",
   "execution_count": null,
   "metadata": {},
   "outputs": [],
   "source": [
    "import plotly.express as px\n",
    "\n",
    "fig = px.scatter_mapbox(df_busiest_day, lat=\"lat\", lon=\"lon\", color=\"docking_available\",\n",
    "                        color_discrete_map={0: \"red\", 1: \"green\"},\n",
    "                        hover_name=\"address\", hover_data=[\"station_id\", \"altitude\", \"post_code\", \"capacity\"],\n",
    "                        title=\"January's busiest day Docking Availability\",\n",
    "                        animation_frame='grouped_date',\n",
    "                        zoom=11.5, height=630, width=600,\n",
    "                        category_orders={\"docking_available\": [0, 1]})  # Explicitly setting the order of categories\n",
    "\n",
    "fig.update_layout(mapbox_style=\"open-street-map\",\n",
    "                  margin={\"r\": 0, \"t\": 80, \"l\": 0, \"b\": 0},\n",
    "                  mapbox={\"center\": {\"lat\": 41.40484, \"lon\": 2.17482}})\n",
    "\n",
    "for i, frame in enumerate(fig.frames):\n",
    "    time_frame = frame.name[-5:]\n",
    "    frame.layout.title = \"January's busiest day Docking Availability At: {}\".format(str(time_frame))\n",
    "\n",
    "fig.show()"
   ]
  },
  {
   "cell_type": "code",
   "execution_count": null,
   "metadata": {},
   "outputs": [],
   "source": [
    "import plotly.graph_objects as go\n",
    "from plotly.subplots import make_subplots\n",
    "import pandas as pd\n",
    "import numpy as np\n",
    "\n",
    "# Sample DataFrame creation for demonstration purposes\n",
    "np.random.seed(0)\n",
    "df_busiest_day = pd.DataFrame({\n",
    "    'lat': np.random.uniform(41.3, 41.5, size=10),\n",
    "    'lon': np.random.uniform(2.1, 2.2, size=10),\n",
    "    'bikes_available': np.random.choice([0, 1], size=10),\n",
    "    'docking_available': np.random.choice([0, 1], size=10),\n",
    "    'address': ['Station ' + str(i) for i in range(10)],\n",
    "    'station_id': np.arange(10),\n",
    "    'altitude': np.random.uniform(50, 100, size=10),\n",
    "    'post_code': ['08000' for _ in range(10)],\n",
    "    'capacity': np.random.randint(10, 50, size=10),\n",
    "    'num_bikes_available': np.random.randint(0, 10, size=10),\n",
    "    'grouped_date': pd.date_range(start='2024-01-01', periods=10, freq='D').strftime('%Y-%m-%d')\n",
    "})\n",
    "\n",
    "print(df_busiest_day.head())  # Check the data\n",
    "\n",
    "# Create traces\n",
    "trace1 = go.Scattermapbox(\n",
    "    lat=df_busiest_day[\"lat\"],\n",
    "    lon=df_busiest_day[\"lon\"],\n",
    "    mode='markers',\n",
    "    marker=dict(\n",
    "        size=14,\n",
    "        color=df_busiest_day[\"bikes_available\"].map({0: \"red\", 1: \"green\"}),\n",
    "        opacity=0.7\n",
    "    ),\n",
    "    text=df_busiest_day[\"address\"],\n",
    "    hoverinfo='text',\n",
    "    name='Bikes Availability'\n",
    ")\n",
    "\n",
    "trace2 = go.Scattermapbox(\n",
    "    lat=df_busiest_day[\"lat\"],\n",
    "    lon=df_busiest_day[\"lon\"],\n",
    "    mode='markers',\n",
    "    marker=dict(\n",
    "        size=14,\n",
    "        color=df_busiest_day[\"docking_available\"].map({0: \"red\", 1: \"green\"}),\n",
    "        opacity=0.7\n",
    "    ),\n",
    "    text=df_busiest_day[\"address\"],\n",
    "    hoverinfo='text',\n",
    "    name='Docking Availability'\n",
    ")\n",
    "\n",
    "# Create subplots\n",
    "fig = make_subplots(\n",
    "    rows=1, cols=2,\n",
    "    subplot_titles=(\"Bikes Availability\", \"Docking Availability\"),\n",
    "    specs=[[{'type': 'mapbox'}, {'type': 'mapbox'}]]\n",
    ")\n",
    "\n",
    "# Add traces to subplots\n",
    "fig.add_trace(trace1, row=1, col=1)\n",
    "fig.add_trace(trace2, row=1, col=2)\n",
    "\n",
    "# Update layout\n",
    "fig.update_layout(\n",
    "    mapbox_style=\"open-street-map\",\n",
    "    margin={\"r\": 0, \"t\": 80, \"l\": 0, \"b\": 0},\n",
    "    mapbox=dict(center={\"lat\": 41.40484, \"lon\": 2.17482}, zoom=11.5),\n",
    "    title_text=\"January's Busiest Day\"\n",
    ")\n",
    "\n",
    "fig.show()\n"
   ]
  },
  {
   "cell_type": "code",
   "execution_count": null,
   "metadata": {},
   "outputs": [],
   "source": [
    "import plotly.graph_objects as go\n",
    "\n",
    "fig = go.Figure(data=go.Scattermapbox(\n",
    "    lat=[41.409763],\n",
    "    lon=[2.179173],\n",
    "    mode='markers',\n",
    "    marker=dict(size=14, color='red')\n",
    "))\n",
    "\n",
    "fig.update_layout(\n",
    "    mapbox_style=\"open-street-map\",\n",
    "    mapbox=dict(center={\"lat\": 41.40484, \"lon\": 2.17482}, zoom=11.5),\n",
    "    title=\"Simple Mapbox Plot\"\n",
    ")\n",
    "\n",
    "fig.show()\n"
   ]
  },
  {
   "cell_type": "code",
   "execution_count": null,
   "metadata": {},
   "outputs": [],
   "source": [
    "import plotly.graph_objects as go\n",
    "from plotly.subplots import make_subplots\n",
    "\n",
    "# Create traces\n",
    "trace1 = go.Scattermapbox(\n",
    "    lat=df_busiest_day[\"lat\"],\n",
    "    lon=df_busiest_day[\"lon\"],\n",
    "    mode='markers',\n",
    "    marker=dict(\n",
    "        size=14,\n",
    "        color=df_busiest_day[\"bikes_available\"].map({0: \"red\", 1: \"green\"}),\n",
    "        opacity=0.7\n",
    "    ),\n",
    "    text=df_busiest_day[\"address\"],\n",
    "    hoverinfo='text',\n",
    "    name='Bikes Availability'\n",
    ")\n",
    "\n",
    "trace2 = go.Scattermapbox(\n",
    "    lat=df_busiest_day[\"lat\"],\n",
    "    lon=df_busiest_day[\"lon\"],\n",
    "    mode='markers',\n",
    "    marker=dict(\n",
    "        size=14,\n",
    "        color=df_busiest_day[\"docking_available\"].map({0: \"red\", 1: \"green\"}),\n",
    "        opacity=0.7\n",
    "    ),\n",
    "    text=df_busiest_day[\"address\"],\n",
    "    hoverinfo='text',\n",
    "    name='Docking Availability'\n",
    ")\n",
    "\n",
    "# Create subplots\n",
    "fig = make_subplots(\n",
    "    rows=1, cols=2,\n",
    "    subplot_titles=(\"Bikes Availability\", \"Docking Availability\"),\n",
    "    specs=[[{'type': 'mapbox'}, {'type': 'mapbox'}]]\n",
    ")\n",
    "\n",
    "# Add traces to subplots\n",
    "fig.add_trace(trace1, row=1, col=1)\n",
    "fig.add_trace(trace2, row=1, col=2)\n",
    "\n",
    "# Update layout\n",
    "fig.update_layout(\n",
    "    mapbox_style=\"open-street-map\",\n",
    "    margin={\"r\": 0, \"t\": 80, \"l\": 0, \"b\": 0},\n",
    "    mapbox=dict(center={\"lat\": 41.40484, \"lon\": 2.17482}, zoom=11.5),\n",
    "    title_text=\"January's Busiest Day\"\n",
    ")\n",
    "\n",
    "fig.show()\n"
   ]
  },
  {
   "cell_type": "code",
   "execution_count": null,
   "metadata": {},
   "outputs": [],
   "source": [
    "import plotly.graph_objects as go\n",
    "from plotly.subplots import make_subplots\n",
    "\n",
    "# Ensure the DataFrame df_busiest_day is properly defined\n",
    "# Example DataFrame:\n",
    "# df_busiest_day = pd.DataFrame({\n",
    "#     'lat': [41.409763, 41.443038],\n",
    "#     'lon': [2.179173, 2.152889],\n",
    "#     'bikes_available': [0, 1],\n",
    "#     'docking_available': [0, 1],\n",
    "#     'address': ['Station 0', 'Station 1']\n",
    "# })\n",
    "\n",
    "# Create traces\n",
    "trace1 = go.Scattermapbox(\n",
    "    lat=df_busiest_day[\"lat\"],\n",
    "    lon=df_busiest_day[\"lon\"],\n",
    "    mode='markers',\n",
    "    marker=dict(\n",
    "        size=14,\n",
    "        color=df_busiest_day[\"bikes_available\"].map({0: \"red\", 1: \"green\"}),\n",
    "        opacity=0.7\n",
    "    ),\n",
    "    text=df_busiest_day[\"address\"],\n",
    "    hoverinfo='text',\n",
    "    name='Bikes Availability'\n",
    ")\n",
    "\n",
    "trace2 = go.Scattermapbox(\n",
    "    lat=df_busiest_day[\"lat\"],\n",
    "    lon=df_busiest_day[\"lon\"],\n",
    "    mode='markers',\n",
    "    marker=dict(\n",
    "        size=14,\n",
    "        color=df_busiest_day[\"docking_available\"].map({0: \"red\", 1: \"green\"}),\n",
    "        opacity=0.7\n",
    "    ),\n",
    "    text=df_busiest_day[\"address\"],\n",
    "    hoverinfo='text',\n",
    "    name='Docking Availability'\n",
    ")\n",
    "\n",
    "# Create subplots\n",
    "fig = make_subplots(\n",
    "    rows=1, cols=2,\n",
    "    subplot_titles=(\"Bikes Availability\", \"Docking Availability\"),\n",
    "    specs=[[{'type': 'mapbox'}, {'type': 'mapbox'}]]\n",
    ")\n",
    "\n",
    "# Add traces to subplots\n",
    "fig.add_trace(trace1, row=1, col=1)\n",
    "fig.add_trace(trace2, row=1, col=2)\n",
    "\n",
    "# Update layout\n",
    "fig.update_layout(\n",
    "    mapbox_style=\"open-street-map\",\n",
    "    margin={\"r\": 0, \"t\": 80, \"l\": 0, \"b\": 0},\n",
    "    mapbox=dict(center={\"lat\": 41.40484, \"lon\": 2.17482}, zoom=11.5),\n",
    "    title_text=\"January's Busiest Day\"\n",
    ")\n",
    "\n",
    "# Show figure\n",
    "fig.show()\n"
   ]
  },
  {
   "cell_type": "code",
   "execution_count": null,
   "metadata": {},
   "outputs": [],
   "source": [
    "fig = make_subplots(rows=1, cols=2,\n",
    "                    subplot_titles=(\"Bikes Availability\",\n",
    "                                    \"Docking Availability\"),\n",
    "                    specs=[[{'type': 'mapbox'}, {'type': 'mapbox'}]])\n",
    "\n",
    "fig.add_traces(\n",
    "    [go.Scattermapbox(\n",
    "        lat=[41.409763],\n",
    "        lon=[2.179173],\n",
    "        mode='markers',\n",
    "        marker=dict(size=14, color='red')\n",
    "    ),\n",
    "        go.Scattermapbox(\n",
    "        lat=[41.409763],\n",
    "        lon=[2.179173],\n",
    "        mode='markers',\n",
    "        marker=dict(size=14, color='red')\n",
    "    )\n",
    "    ],\n",
    "    rows=[1, 1],\n",
    "    cols=[1, 2])\n",
    "\n",
    "fig.show()"
   ]
  },
  {
   "cell_type": "code",
   "execution_count": null,
   "metadata": {},
   "outputs": [],
   "source": [
    "import plotly.graph_objects as go\n",
    "fig = go.Figure()\n",
    "\n",
    "fig.add_trace(\n",
    "    go.Scattermapbox(\n",
    "        lat=['45.5017'],\n",
    "        lon=['-73.5673'],\n",
    "        mode='markers',\n",
    "        marker=dict(\n",
    "            size=14,\n",
    "                    color=df_busiest_day[\"docking_available\"].map({0: \"red\", 1: \"green\"}),\n",
    "        opacity=0.7\n",
    "        ),\n",
    "        text=['Montreal'],\n",
    "        subplot='mapbox',\n",
    "    ))\n",
    "fig.add_trace(  \n",
    "    go.Scattermapbox(\n",
    "        lat=['45.5017'],\n",
    "        lon=['-73.5673'],\n",
    "        mode='markers',\n",
    "        marker=dict(\n",
    "            size=14,\n",
    "                    color=df_busiest_day[\"docking_available\"].map({0: \"red\", 1: \"green\"}),\n",
    "        opacity=0.7\n",
    "        ),\n",
    "        text=['Montreal'],\n",
    "        subplot='mapbox2',\n",
    "    ))\n",
    "\n",
    "fig.update_layout(\n",
    "    autosize=True,\n",
    "    hovermode='closest',\n",
    "    mapbox=dict(\n",
    "        style='open-street-map',\n",
    "        domain={'x': [0, 0.4], 'y': [0, 1]},\n",
    "        bearing=0,\n",
    "        center=dict(\n",
    "            lat=45,\n",
    "            lon=-73\n",
    "        ),\n",
    "        pitch=0,\n",
    "        zoom=5\n",
    "    ),\n",
    "        mapbox2=dict(\n",
    "        style='open-street-map',\n",
    "        domain={'x': [0.6, 1.0], 'y': [0, 1]},\n",
    "        bearing=0,\n",
    "        center=dict(\n",
    "            lat=45,\n",
    "            lon=-73\n",
    "        ),\n",
    "        pitch=0,\n",
    "        zoom=5\n",
    "    ),\n",
    ")"
   ]
  },
  {
   "cell_type": "code",
   "execution_count": null,
   "metadata": {},
   "outputs": [],
   "source": [
    "import plotly.graph_objects as go\n",
    "\n",
    "# Create a figure\n",
    "fig = go.Figure()\n",
    "\n",
    "# Add first subplot for Bikes Availability\n",
    "fig.add_trace(\n",
    "    go.Scattermapbox(\n",
    "        lat=df_busiest_day[\"lat\"],\n",
    "        lon=df_busiest_day[\"lon\"],\n",
    "        mode='markers',\n",
    "        marker=dict(\n",
    "            size=14,\n",
    "            color=df_busiest_day[\"bikes_available\"].map({0: \"red\", 1: \"green\"}),\n",
    "            opacity=0.7,\n",
    "        animation_frame=df_busiest_day['grouped_date']\n",
    "        ),\n",
    "        text=df_busiest_day[\"address\"],\n",
    "        hoverinfo='text',\n",
    "        name='Bikes Availability',\n",
    "        subplot='mapbox1'\n",
    "    )\n",
    ")\n",
    "\n",
    "# Add second subplot for Docking Availability\n",
    "fig.add_trace(\n",
    "    go.Scattermapbox(\n",
    "        lat=df_busiest_day[\"lat\"],\n",
    "        lon=df_busiest_day[\"lon\"],\n",
    "        mode='markers',\n",
    "        marker=dict(\n",
    "            size=14,\n",
    "            color=df_busiest_day[\"docking_available\"].map({0: \"red\", 1: \"green\"}),\n",
    "            opacity=0.7,\n",
    "        animation_frame=df_busiest_day['grouped_date']\n",
    "        ),\n",
    "        text=df_busiest_day[\"address\"],\n",
    "        hoverinfo='text',\n",
    "        name='Docking Availability',\n",
    "        subplot='mapbox2'\n",
    "    )\n",
    ")\n",
    "\n",
    "# Update layout\n",
    "fig.update_layout(\n",
    "    autosize=True,\n",
    "    hovermode='closest',\n",
    "    mapbox1=dict(\n",
    "        style='open-street-map',\n",
    "        domain={'x': [0, 0.5], 'y': [0, 1]},\n",
    "        bearing=0,\n",
    "        center=dict(\n",
    "            lat=41.40484,  # Adjust these coordinates if needed\n",
    "            lon=2.17482\n",
    "        ),\n",
    "        pitch=0,\n",
    "        zoom=11.5\n",
    "    ),\n",
    "    mapbox2=dict(\n",
    "        style='open-street-map',\n",
    "        domain={'x': [0.5, 1.0], 'y': [0, 1]},\n",
    "        bearing=0,\n",
    "        center=dict(\n",
    "            lat=41.40484,  # Adjust these coordinates if needed\n",
    "            lon=2.17482\n",
    "        ),\n",
    "        pitch=0,\n",
    "        zoom=11.5\n",
    "    ),\n",
    "    title_text=\"Bikes and Docking Availability\"\n",
    ")\n",
    "\n",
    "# Show the figure\n",
    "fig.show()\n"
   ]
  },
  {
   "cell_type": "code",
   "execution_count": null,
   "metadata": {},
   "outputs": [],
   "source": [
    "import plotly.express as px\n",
    "\n",
    "# Assuming df_month_busiest_days is your DataFrame and it includes the 'is_returning' column with values 0 and 1\n",
    "fig = px.scatter_mapbox(df_busiest_day, lat=\"lat\", lon=\"lon\", color=\"bikes_available\", # size=\"num_bikes_available\",size_max=2,\n",
    "                        color_discrete_map={0: \"red\", 1: \"green\"},\n",
    "                        hover_name=\"address\", hover_data=[\"station_id\", \"altitude\", \"post_code\", \"capacity\",\"num_bikes_available\"],\n",
    "                        title=\"January's busiest day Bikes Availability\",\n",
    "                        animation_frame='grouped_date',\n",
    "                        zoom=11.5, height=630, width=600,\n",
    "                        category_orders={\"bikes_available\": [0, 1]})  # Explicitly setting the order of categories\n",
    "\n",
    "fig.update_layout(mapbox_style=\"open-street-map\",\n",
    "                  margin={\"r\": 0, \"t\": 80, \"l\": 0, \"b\": 0},\n",
    "                  mapbox={\"center\": {\"lat\": 41.40484, \"lon\": 2.17482}})\n",
    "\n",
    "for i, frame in enumerate(fig.frames):\n",
    "    time_frame = frame.name[-5:]\n",
    "    frame.layout.title = \"January's busiest day Bikes Availability At: {}\".format(str(time_frame))\n",
    "    \n",
    "fig.show()"
   ]
  },
  {
   "cell_type": "code",
   "execution_count": null,
   "metadata": {},
   "outputs": [],
   "source": [
    "import plotly.graph_objects as go\n",
    "import plotly.express as px\n",
    "\n",
    "# Create the first figure with animation for Bikes Availability\n",
    "fig1 = px.scatter_mapbox(df_busiest_day, lat=\"lat\", lon=\"lon\", color=\"bikes_available\", # size=\"num_bikes_available\",size_max=2,\n",
    "                        color_discrete_map={0: \"red\", 1: \"green\"},\n",
    "                        hover_name=\"address\", hover_data=[\"station_id\", \"altitude\", \"post_code\", \"capacity\",\"num_bikes_available\"],\n",
    "                        title=\"January's busiest day Bikes Availability\",\n",
    "                        animation_frame='grouped_date',\n",
    "                        zoom=11.5, height=630, width=600,\n",
    "                        category_orders={\"bikes_available\": [0, 1]})  # Explicitly setting the order of categories\n",
    "\n",
    "\n",
    "fig1.update_layout(\n",
    "    mapbox_style=\"open-street-map\",\n",
    "    margin={\"r\": 0, \"t\": 80, \"l\": 0, \"b\": 0},\n",
    "    mapbox={\"center\": {\"lat\": 41.40484, \"lon\": 2.17482}}\n",
    ")\n",
    "\n",
    "for i, frame in enumerate(fig1.frames):\n",
    "    time_frame = frame.name[-5:]\n",
    "    frame.layout.title = \"January's busiest day Bikes Availability At: {}\".format(str(time_frame))\n",
    "    \n",
    "# Create the second figure with animation for Docking Availability\n",
    "fig2 = px.scatter_mapbox(df_busiest_day, lat=\"lat\", lon=\"lon\", color=\"docking_available\", # size=\"num_bikes_available\",size_max=2,\n",
    "                        color_discrete_map={0: \"red\", 1: \"green\"},\n",
    "                        hover_name=\"address\", hover_data=[\"station_id\", \"altitude\", \"post_code\", \"capacity\",\"num_bikes_available\"],\n",
    "                        title=\"January's busiest day Bikes docking Availability\",\n",
    "                        animation_frame='grouped_date',\n",
    "                        zoom=11.5, height=630, width=600,\n",
    "                        category_orders={\"bikes_available\": [0, 1]})  # Explicitly setting the order of categories\n",
    "\n",
    "\n",
    "fig2.update_layout(\n",
    "    mapbox_style=\"open-street-map\",\n",
    "    margin={\"r\": 0, \"t\": 80, \"l\": 0, \"b\": 0},\n",
    "    mapbox={\"center\": {\"lat\": 41.40484, \"lon\": 2.17482}}\n",
    ")\n",
    "for i, frame in enumerate(fig2.frames):\n",
    "    time_frame = frame.name[-5:]\n",
    "    frame.layout.title = \"January's busiest day Bikes Availability At: {}\".format(str(time_frame))\n",
    "    \n",
    "\n",
    "# Create a new figure for combining the subplots\n",
    "fig = go.Figure()\n",
    "\n",
    "# Add traces from the first figure to the combined figure\n",
    "for trace in fig1.data:\n",
    "    fig.add_trace(trace)\n",
    "\n",
    "# Add traces from the second figure to the combined figure\n",
    "for trace in fig2.data:\n",
    "    fig.add_trace(trace)\n",
    "\n",
    "# Set up the layout for the subplots\n",
    "fig.update_layout(\n",
    "    autosize=True,\n",
    "    title_text=\"Bikes and Docking Availability\",\n",
    "    mapbox1=dict(\n",
    "        style='open-street-map',\n",
    "        domain={'x': [0, 0.5], 'y': [0, 1]},\n",
    "        bearing=0,\n",
    "        center=dict(\n",
    "            lat=41.40484,\n",
    "            lon=2.17482\n",
    "        ),\n",
    "        pitch=0,\n",
    "        zoom=11.5\n",
    "    ),\n",
    "    mapbox2=dict(\n",
    "        style='open-street-map',\n",
    "        domain={'x': [0.5, 1.0], 'y': [0, 1]},\n",
    "        bearing=0,\n",
    "        center=dict(\n",
    "            lat=41.40484,\n",
    "            lon=2.17482\n",
    "        ),\n",
    "        pitch=0,\n",
    "        zoom=11.5\n",
    "    )\n",
    ")\n",
    "\n",
    "# Combine frames from both figures\n",
    "frames = []\n",
    "for i, (frame1, frame2) in enumerate(zip(fig1.frames, fig2.frames)):\n",
    "    combined_frame = go.Frame(data=frame1.data + frame2.data, name=frame1.name)\n",
    "    frames.append(combined_frame)\n",
    "\n",
    "fig.frames = frames\n",
    "\n",
    "# Show the figure\n",
    "fig.show()\n"
   ]
  },
  {
   "cell_type": "code",
   "execution_count": null,
   "metadata": {},
   "outputs": [],
   "source": [
    "fig = make_subplots(\n",
    "    rows=2, cols=1,\n",
    "    specs=[[{\"type\": \"mapbox\"}],[{\"type\": \"mapbox\"}]],\n",
    "    subplot_titles=(\"Montreal 1\",\"Montreal 2\"),\n",
    ")\n",
    "\n",
    "fig.add_trace(go.Scattermapbox(\n",
    "        lat=['45.5017'],\n",
    "        lon=['-73.5673'],\n",
    "        mode='markers',\n",
    "        marker=go.scattermapbox.Marker(\n",
    "            size=14\n",
    "        ),\n",
    "        text=['Montreal'],\n",
    "    ), row=1, col=1\n",
    ")\n",
    "\n",
    "fig.update_layout(\n",
    "    hovermode='closest',\n",
    "    mapbox=go.layout.Mapbox(\n",
    "\n",
    "        bearing=0,\n",
    "        center=go.layout.mapbox.Center(\n",
    "            lat=45,\n",
    "            lon=-73\n",
    "        ),\n",
    "        pitch=0,\n",
    "        zoom=5\n",
    "    )\n",
    ")\n",
    "fig.update_mapboxes(style='open-street-map)\n",
    "fig.show()"
   ]
  },
  {
   "cell_type": "code",
   "execution_count": null,
   "metadata": {},
   "outputs": [],
   "source": [
    "import plotly.graph_objects as go\n",
    "import plotly.express as px\n",
    "\n",
    "# Create the first figure with animation for Bikes Availability\n",
    "fig1 = px.scatter_mapbox(df_busiest_day,\n",
    "                        lat=\"lat\",\n",
    "                        lon=\"lon\",\n",
    "                        color=\"bikes_available\",\n",
    "                        color_discrete_map={0: \"red\", 1: \"green\"},\n",
    "                        hover_name=\"address\",\n",
    "                        hover_data=[\"station_id\", \"altitude\", \"post_code\", \"capacity\"],\n",
    "                        title=\"Bikes Availability\",\n",
    "                        animation_frame='grouped_date',\n",
    "                        zoom=11.5, height=630, width=600,\n",
    "                        category_orders={\"bikes_available\": [0, 1]})\n",
    "\n",
    "fig1.update_layout(\n",
    "    mapbox_style=\"open-street-map\",\n",
    "    margin={\"r\": 0, \"t\": 80, \"l\": 0, \"b\": 0},\n",
    "    mapbox={\"center\": {\"lat\": 41.40484, \"lon\": 2.17482}}\n",
    ")\n",
    "\n",
    "# Create the second figure with animation for Docking Availability\n",
    "fig2 = px.scatter_mapbox(df_busiest_day,\n",
    "                        lat=\"lat\",\n",
    "                        lon=\"lon\",\n",
    "                        color=\"docking_available\",\n",
    "                        color_discrete_map={0: \"red\", 1: \"green\"},\n",
    "                        hover_name=\"address\",\n",
    "                        hover_data=[\"station_id\", \"altitude\", \"post_code\", \"capacity\"],\n",
    "                        title=\"Docking Availability\",\n",
    "                        animation_frame='grouped_date',\n",
    "                        zoom=11.5, height=630, width=600,\n",
    "                        category_orders={\"docking_available\": [0, 1]})\n",
    "\n",
    "fig2.update_layout(\n",
    "    mapbox_style=\"open-street-map\",\n",
    "    margin={\"r\": 0, \"t\": 80, \"l\": 0, \"b\": 0},\n",
    "    mapbox={\"center\": {\"lat\": 41.40484, \"lon\": 2.17482}}\n",
    ")\n",
    "\n",
    "# Create a new figure for combining the subplots\n",
    "fig = go.Figure()\n",
    "\n",
    "# Add traces from the first figure to the combined figure\n",
    "for trace in fig1.data:\n",
    "    fig.add_trace(trace)\n",
    "\n",
    "# Add traces from the second figure to the combined figure\n",
    "for trace in fig2.data:\n",
    "    fig.add_trace(trace)\n",
    "\n",
    "# Update layout to configure subplots\n",
    "fig.update_layout(\n",
    "    autosize=True,\n",
    "    title_text=\"Bikes and Docking Availability\",\n",
    "    mapbox1=dict(\n",
    "        style='open-street-map',\n",
    "        domain={'x': [0, 0.5], 'y': [0, 1]},\n",
    "        bearing=0,\n",
    "        center=dict(\n",
    "            lat=41.40484,  # Adjust these coordinates if needed\n",
    "            lon=2.17482\n",
    "        ),\n",
    "        pitch=0,\n",
    "        zoom=11.5\n",
    "    ),\n",
    "    mapbox2=dict(\n",
    "        style='open-street-map',\n",
    "        domain={'x': [0.5, 1.0], 'y': [0, 1]},\n",
    "        bearing=0,\n",
    "        center=dict(\n",
    "            lat=41.40484,  # Adjust these coordinates if needed\n",
    "            lon=2.17482\n",
    "        ),\n",
    "        pitch=0,\n",
    "        zoom=11.5\n",
    "    )\n",
    ")\n",
    "\n",
    "# Update layout for frames\n",
    "for i, frame in enumerate(fig1.frames):\n",
    "    time_frame = frame.name[-5:]\n",
    "    frame.layout.title = \"Bikes Availability At: {}\".format(str(time_frame))\n",
    "    fig.frames += (frame,)\n",
    "\n",
    "for i, frame in enumerate(fig1.frames):\n",
    "    time_frame = frame.name[-5:]\n",
    "    frame.layout.title = \"Docking Availability At: {}\".format(str(time_frame))\n",
    "    fig.frames += (frame,)\n",
    "\n",
    "for i, frame in enumerate(fig2.frames):\n",
    "    time_frame = frame.name[-5:]\n",
    "    frame.layout.title = \"Docking Availability At: {}\".format(str(time_frame))\n",
    "    fig.frames += (frame,)\n",
    "\n",
    "for i, frame in enumerate(fig2.frames):\n",
    "    time_frame = frame.name[-5:]\n",
    "    frame.layout.title = \"Docking Availability At: {}\".format(str(time_frame))\n",
    "    fig.frames += (frame,)\n",
    "\n",
    "# Show the figure\n",
    "fig.show()\n"
   ]
  },
  {
   "cell_type": "code",
   "execution_count": 2,
   "metadata": {},
   "outputs": [],
   "source": [
    "import pandas as pd\n",
    "df_jan = pd.read_csv('../../data/bicing/raw/2023_01_STATIONS.csv')"
   ]
  },
  {
   "cell_type": "code",
   "execution_count": 4,
   "metadata": {},
   "outputs": [
    {
     "data": {
      "text/html": [
       "<div>\n",
       "<style scoped>\n",
       "    .dataframe tbody tr th:only-of-type {\n",
       "        vertical-align: middle;\n",
       "    }\n",
       "\n",
       "    .dataframe tbody tr th {\n",
       "        vertical-align: top;\n",
       "    }\n",
       "\n",
       "    .dataframe thead th {\n",
       "        text-align: right;\n",
       "    }\n",
       "</style>\n",
       "<table border=\"1\" class=\"dataframe\">\n",
       "  <thead>\n",
       "    <tr style=\"text-align: right;\">\n",
       "      <th></th>\n",
       "      <th>station_id</th>\n",
       "      <th>num_bikes_available</th>\n",
       "      <th>num_bikes_available_types.mechanical</th>\n",
       "      <th>num_bikes_available_types.ebike</th>\n",
       "      <th>num_docks_available</th>\n",
       "      <th>last_reported</th>\n",
       "      <th>is_charging_station</th>\n",
       "      <th>status</th>\n",
       "      <th>is_installed</th>\n",
       "      <th>is_renting</th>\n",
       "      <th>is_returning</th>\n",
       "      <th>traffic</th>\n",
       "      <th>last_updated</th>\n",
       "      <th>ttl</th>\n",
       "    </tr>\n",
       "  </thead>\n",
       "  <tbody>\n",
       "    <tr>\n",
       "      <th>662737</th>\n",
       "      <td>390</td>\n",
       "      <td>0</td>\n",
       "      <td>20</td>\n",
       "      <td>3</td>\n",
       "      <td>0</td>\n",
       "      <td>1672941642</td>\n",
       "      <td>True</td>\n",
       "      <td>NOT_IN_SERVICE</td>\n",
       "      <td>1</td>\n",
       "      <td>0</td>\n",
       "      <td>0</td>\n",
       "      <td>NaN</td>\n",
       "      <td>1672941904</td>\n",
       "      <td>29</td>\n",
       "    </tr>\n",
       "    <tr>\n",
       "      <th>663218</th>\n",
       "      <td>390</td>\n",
       "      <td>0</td>\n",
       "      <td>20</td>\n",
       "      <td>3</td>\n",
       "      <td>0</td>\n",
       "      <td>1672942087</td>\n",
       "      <td>True</td>\n",
       "      <td>NOT_IN_SERVICE</td>\n",
       "      <td>1</td>\n",
       "      <td>0</td>\n",
       "      <td>0</td>\n",
       "      <td>NaN</td>\n",
       "      <td>1672942189</td>\n",
       "      <td>14</td>\n",
       "    </tr>\n",
       "    <tr>\n",
       "      <th>664180</th>\n",
       "      <td>390</td>\n",
       "      <td>0</td>\n",
       "      <td>20</td>\n",
       "      <td>3</td>\n",
       "      <td>0</td>\n",
       "      <td>1672942640</td>\n",
       "      <td>True</td>\n",
       "      <td>NOT_IN_SERVICE</td>\n",
       "      <td>1</td>\n",
       "      <td>0</td>\n",
       "      <td>0</td>\n",
       "      <td>NaN</td>\n",
       "      <td>1672942789</td>\n",
       "      <td>14</td>\n",
       "    </tr>\n",
       "    <tr>\n",
       "      <th>664661</th>\n",
       "      <td>390</td>\n",
       "      <td>0</td>\n",
       "      <td>20</td>\n",
       "      <td>3</td>\n",
       "      <td>0</td>\n",
       "      <td>1672942890</td>\n",
       "      <td>True</td>\n",
       "      <td>NOT_IN_SERVICE</td>\n",
       "      <td>1</td>\n",
       "      <td>0</td>\n",
       "      <td>0</td>\n",
       "      <td>NaN</td>\n",
       "      <td>1672943104</td>\n",
       "      <td>30</td>\n",
       "    </tr>\n",
       "    <tr>\n",
       "      <th>666104</th>\n",
       "      <td>390</td>\n",
       "      <td>0</td>\n",
       "      <td>21</td>\n",
       "      <td>2</td>\n",
       "      <td>0</td>\n",
       "      <td>1672943706</td>\n",
       "      <td>True</td>\n",
       "      <td>NOT_IN_SERVICE</td>\n",
       "      <td>1</td>\n",
       "      <td>0</td>\n",
       "      <td>0</td>\n",
       "      <td>NaN</td>\n",
       "      <td>1672944004</td>\n",
       "      <td>30</td>\n",
       "    </tr>\n",
       "    <tr>\n",
       "      <th>...</th>\n",
       "      <td>...</td>\n",
       "      <td>...</td>\n",
       "      <td>...</td>\n",
       "      <td>...</td>\n",
       "      <td>...</td>\n",
       "      <td>...</td>\n",
       "      <td>...</td>\n",
       "      <td>...</td>\n",
       "      <td>...</td>\n",
       "      <td>...</td>\n",
       "      <td>...</td>\n",
       "      <td>...</td>\n",
       "      <td>...</td>\n",
       "      <td>...</td>\n",
       "    </tr>\n",
       "    <tr>\n",
       "      <th>3890612</th>\n",
       "      <td>373</td>\n",
       "      <td>0</td>\n",
       "      <td>0</td>\n",
       "      <td>0</td>\n",
       "      <td>0</td>\n",
       "      <td>1675099018</td>\n",
       "      <td>True</td>\n",
       "      <td>NOT_IN_SERVICE</td>\n",
       "      <td>1</td>\n",
       "      <td>0</td>\n",
       "      <td>0</td>\n",
       "      <td>NaN</td>\n",
       "      <td>1675103398</td>\n",
       "      <td>24</td>\n",
       "    </tr>\n",
       "    <tr>\n",
       "      <th>3891116</th>\n",
       "      <td>373</td>\n",
       "      <td>0</td>\n",
       "      <td>0</td>\n",
       "      <td>0</td>\n",
       "      <td>0</td>\n",
       "      <td>1675099018</td>\n",
       "      <td>True</td>\n",
       "      <td>NOT_IN_SERVICE</td>\n",
       "      <td>1</td>\n",
       "      <td>0</td>\n",
       "      <td>0</td>\n",
       "      <td>NaN</td>\n",
       "      <td>1675103698</td>\n",
       "      <td>24</td>\n",
       "    </tr>\n",
       "    <tr>\n",
       "      <th>3891620</th>\n",
       "      <td>373</td>\n",
       "      <td>0</td>\n",
       "      <td>0</td>\n",
       "      <td>0</td>\n",
       "      <td>0</td>\n",
       "      <td>1675099018</td>\n",
       "      <td>True</td>\n",
       "      <td>NOT_IN_SERVICE</td>\n",
       "      <td>1</td>\n",
       "      <td>0</td>\n",
       "      <td>0</td>\n",
       "      <td>NaN</td>\n",
       "      <td>1675103998</td>\n",
       "      <td>24</td>\n",
       "    </tr>\n",
       "    <tr>\n",
       "      <th>3892124</th>\n",
       "      <td>373</td>\n",
       "      <td>0</td>\n",
       "      <td>0</td>\n",
       "      <td>0</td>\n",
       "      <td>0</td>\n",
       "      <td>1675099018</td>\n",
       "      <td>True</td>\n",
       "      <td>NOT_IN_SERVICE</td>\n",
       "      <td>1</td>\n",
       "      <td>0</td>\n",
       "      <td>0</td>\n",
       "      <td>NaN</td>\n",
       "      <td>1675104298</td>\n",
       "      <td>24</td>\n",
       "    </tr>\n",
       "    <tr>\n",
       "      <th>4028070</th>\n",
       "      <td>286</td>\n",
       "      <td>0</td>\n",
       "      <td>13</td>\n",
       "      <td>3</td>\n",
       "      <td>0</td>\n",
       "      <td>1675185307</td>\n",
       "      <td>True</td>\n",
       "      <td>NOT_IN_SERVICE</td>\n",
       "      <td>1</td>\n",
       "      <td>0</td>\n",
       "      <td>0</td>\n",
       "      <td>NaN</td>\n",
       "      <td>1675185600</td>\n",
       "      <td>26</td>\n",
       "    </tr>\n",
       "  </tbody>\n",
       "</table>\n",
       "<p>84 rows × 14 columns</p>\n",
       "</div>"
      ],
      "text/plain": [
       "         station_id  num_bikes_available  \\\n",
       "662737          390                    0   \n",
       "663218          390                    0   \n",
       "664180          390                    0   \n",
       "664661          390                    0   \n",
       "666104          390                    0   \n",
       "...             ...                  ...   \n",
       "3890612         373                    0   \n",
       "3891116         373                    0   \n",
       "3891620         373                    0   \n",
       "3892124         373                    0   \n",
       "4028070         286                    0   \n",
       "\n",
       "         num_bikes_available_types.mechanical  \\\n",
       "662737                                     20   \n",
       "663218                                     20   \n",
       "664180                                     20   \n",
       "664661                                     20   \n",
       "666104                                     21   \n",
       "...                                       ...   \n",
       "3890612                                     0   \n",
       "3891116                                     0   \n",
       "3891620                                     0   \n",
       "3892124                                     0   \n",
       "4028070                                    13   \n",
       "\n",
       "         num_bikes_available_types.ebike  num_docks_available  last_reported  \\\n",
       "662737                                 3                    0     1672941642   \n",
       "663218                                 3                    0     1672942087   \n",
       "664180                                 3                    0     1672942640   \n",
       "664661                                 3                    0     1672942890   \n",
       "666104                                 2                    0     1672943706   \n",
       "...                                  ...                  ...            ...   \n",
       "3890612                                0                    0     1675099018   \n",
       "3891116                                0                    0     1675099018   \n",
       "3891620                                0                    0     1675099018   \n",
       "3892124                                0                    0     1675099018   \n",
       "4028070                                3                    0     1675185307   \n",
       "\n",
       "         is_charging_station          status  is_installed  is_renting  \\\n",
       "662737                  True  NOT_IN_SERVICE             1           0   \n",
       "663218                  True  NOT_IN_SERVICE             1           0   \n",
       "664180                  True  NOT_IN_SERVICE             1           0   \n",
       "664661                  True  NOT_IN_SERVICE             1           0   \n",
       "666104                  True  NOT_IN_SERVICE             1           0   \n",
       "...                      ...             ...           ...         ...   \n",
       "3890612                 True  NOT_IN_SERVICE             1           0   \n",
       "3891116                 True  NOT_IN_SERVICE             1           0   \n",
       "3891620                 True  NOT_IN_SERVICE             1           0   \n",
       "3892124                 True  NOT_IN_SERVICE             1           0   \n",
       "4028070                 True  NOT_IN_SERVICE             1           0   \n",
       "\n",
       "         is_returning  traffic  last_updated  ttl  \n",
       "662737              0      NaN    1672941904   29  \n",
       "663218              0      NaN    1672942189   14  \n",
       "664180              0      NaN    1672942789   14  \n",
       "664661              0      NaN    1672943104   30  \n",
       "666104              0      NaN    1672944004   30  \n",
       "...               ...      ...           ...  ...  \n",
       "3890612             0      NaN    1675103398   24  \n",
       "3891116             0      NaN    1675103698   24  \n",
       "3891620             0      NaN    1675103998   24  \n",
       "3892124             0      NaN    1675104298   24  \n",
       "4028070             0      NaN    1675185600   26  \n",
       "\n",
       "[84 rows x 14 columns]"
      ]
     },
     "execution_count": 4,
     "metadata": {},
     "output_type": "execute_result"
    }
   ],
   "source": [
    "df_jan[(df_jan['num_docks_available'] == 0) & (df_jan['is_returning'] == 0)]"
   ]
  },
  {
   "cell_type": "code",
   "execution_count": 6,
   "metadata": {},
   "outputs": [
    {
     "data": {
      "application/vnd.plotly.v1+json": {
       "config": {
        "plotlyServerURL": "https://plot.ly"
       },
       "data": [
        {
         "domain": {
          "x": [
           0,
           1
          ],
          "y": [
           0,
           1
          ]
         },
         "hovertemplate": "labels=%{label}<br>value=%{value}<extra></extra>",
         "labels": [
          "Preparing Data",
          "Complaining About Preparing Data",
          "Modeling"
         ],
         "legendgroup": "",
         "name": "",
         "showlegend": true,
         "type": "pie",
         "values": [
          60,
          30,
          10
         ]
        }
       ],
       "layout": {
        "legend": {
         "tracegroupgap": 0
        },
        "piecolorway": [
         "#0c4c8b",
         "#ef562d",
         "#1f2429"
        ],
        "template": {
         "data": {
          "bar": [
           {
            "error_x": {
             "color": "#2a3f5f"
            },
            "error_y": {
             "color": "#2a3f5f"
            },
            "marker": {
             "line": {
              "color": "#E5ECF6",
              "width": 0.5
             },
             "pattern": {
              "fillmode": "overlay",
              "size": 10,
              "solidity": 0.2
             }
            },
            "type": "bar"
           }
          ],
          "barpolar": [
           {
            "marker": {
             "line": {
              "color": "#E5ECF6",
              "width": 0.5
             },
             "pattern": {
              "fillmode": "overlay",
              "size": 10,
              "solidity": 0.2
             }
            },
            "type": "barpolar"
           }
          ],
          "carpet": [
           {
            "aaxis": {
             "endlinecolor": "#2a3f5f",
             "gridcolor": "white",
             "linecolor": "white",
             "minorgridcolor": "white",
             "startlinecolor": "#2a3f5f"
            },
            "baxis": {
             "endlinecolor": "#2a3f5f",
             "gridcolor": "white",
             "linecolor": "white",
             "minorgridcolor": "white",
             "startlinecolor": "#2a3f5f"
            },
            "type": "carpet"
           }
          ],
          "choropleth": [
           {
            "colorbar": {
             "outlinewidth": 0,
             "ticks": ""
            },
            "type": "choropleth"
           }
          ],
          "contour": [
           {
            "colorbar": {
             "outlinewidth": 0,
             "ticks": ""
            },
            "colorscale": [
             [
              0,
              "#0d0887"
             ],
             [
              0.1111111111111111,
              "#46039f"
             ],
             [
              0.2222222222222222,
              "#7201a8"
             ],
             [
              0.3333333333333333,
              "#9c179e"
             ],
             [
              0.4444444444444444,
              "#bd3786"
             ],
             [
              0.5555555555555556,
              "#d8576b"
             ],
             [
              0.6666666666666666,
              "#ed7953"
             ],
             [
              0.7777777777777778,
              "#fb9f3a"
             ],
             [
              0.8888888888888888,
              "#fdca26"
             ],
             [
              1,
              "#f0f921"
             ]
            ],
            "type": "contour"
           }
          ],
          "contourcarpet": [
           {
            "colorbar": {
             "outlinewidth": 0,
             "ticks": ""
            },
            "type": "contourcarpet"
           }
          ],
          "heatmap": [
           {
            "colorbar": {
             "outlinewidth": 0,
             "ticks": ""
            },
            "colorscale": [
             [
              0,
              "#0d0887"
             ],
             [
              0.1111111111111111,
              "#46039f"
             ],
             [
              0.2222222222222222,
              "#7201a8"
             ],
             [
              0.3333333333333333,
              "#9c179e"
             ],
             [
              0.4444444444444444,
              "#bd3786"
             ],
             [
              0.5555555555555556,
              "#d8576b"
             ],
             [
              0.6666666666666666,
              "#ed7953"
             ],
             [
              0.7777777777777778,
              "#fb9f3a"
             ],
             [
              0.8888888888888888,
              "#fdca26"
             ],
             [
              1,
              "#f0f921"
             ]
            ],
            "type": "heatmap"
           }
          ],
          "heatmapgl": [
           {
            "colorbar": {
             "outlinewidth": 0,
             "ticks": ""
            },
            "colorscale": [
             [
              0,
              "#0d0887"
             ],
             [
              0.1111111111111111,
              "#46039f"
             ],
             [
              0.2222222222222222,
              "#7201a8"
             ],
             [
              0.3333333333333333,
              "#9c179e"
             ],
             [
              0.4444444444444444,
              "#bd3786"
             ],
             [
              0.5555555555555556,
              "#d8576b"
             ],
             [
              0.6666666666666666,
              "#ed7953"
             ],
             [
              0.7777777777777778,
              "#fb9f3a"
             ],
             [
              0.8888888888888888,
              "#fdca26"
             ],
             [
              1,
              "#f0f921"
             ]
            ],
            "type": "heatmapgl"
           }
          ],
          "histogram": [
           {
            "marker": {
             "pattern": {
              "fillmode": "overlay",
              "size": 10,
              "solidity": 0.2
             }
            },
            "type": "histogram"
           }
          ],
          "histogram2d": [
           {
            "colorbar": {
             "outlinewidth": 0,
             "ticks": ""
            },
            "colorscale": [
             [
              0,
              "#0d0887"
             ],
             [
              0.1111111111111111,
              "#46039f"
             ],
             [
              0.2222222222222222,
              "#7201a8"
             ],
             [
              0.3333333333333333,
              "#9c179e"
             ],
             [
              0.4444444444444444,
              "#bd3786"
             ],
             [
              0.5555555555555556,
              "#d8576b"
             ],
             [
              0.6666666666666666,
              "#ed7953"
             ],
             [
              0.7777777777777778,
              "#fb9f3a"
             ],
             [
              0.8888888888888888,
              "#fdca26"
             ],
             [
              1,
              "#f0f921"
             ]
            ],
            "type": "histogram2d"
           }
          ],
          "histogram2dcontour": [
           {
            "colorbar": {
             "outlinewidth": 0,
             "ticks": ""
            },
            "colorscale": [
             [
              0,
              "#0d0887"
             ],
             [
              0.1111111111111111,
              "#46039f"
             ],
             [
              0.2222222222222222,
              "#7201a8"
             ],
             [
              0.3333333333333333,
              "#9c179e"
             ],
             [
              0.4444444444444444,
              "#bd3786"
             ],
             [
              0.5555555555555556,
              "#d8576b"
             ],
             [
              0.6666666666666666,
              "#ed7953"
             ],
             [
              0.7777777777777778,
              "#fb9f3a"
             ],
             [
              0.8888888888888888,
              "#fdca26"
             ],
             [
              1,
              "#f0f921"
             ]
            ],
            "type": "histogram2dcontour"
           }
          ],
          "mesh3d": [
           {
            "colorbar": {
             "outlinewidth": 0,
             "ticks": ""
            },
            "type": "mesh3d"
           }
          ],
          "parcoords": [
           {
            "line": {
             "colorbar": {
              "outlinewidth": 0,
              "ticks": ""
             }
            },
            "type": "parcoords"
           }
          ],
          "pie": [
           {
            "automargin": true,
            "type": "pie"
           }
          ],
          "scatter": [
           {
            "fillpattern": {
             "fillmode": "overlay",
             "size": 10,
             "solidity": 0.2
            },
            "type": "scatter"
           }
          ],
          "scatter3d": [
           {
            "line": {
             "colorbar": {
              "outlinewidth": 0,
              "ticks": ""
             }
            },
            "marker": {
             "colorbar": {
              "outlinewidth": 0,
              "ticks": ""
             }
            },
            "type": "scatter3d"
           }
          ],
          "scattercarpet": [
           {
            "marker": {
             "colorbar": {
              "outlinewidth": 0,
              "ticks": ""
             }
            },
            "type": "scattercarpet"
           }
          ],
          "scattergeo": [
           {
            "marker": {
             "colorbar": {
              "outlinewidth": 0,
              "ticks": ""
             }
            },
            "type": "scattergeo"
           }
          ],
          "scattergl": [
           {
            "marker": {
             "colorbar": {
              "outlinewidth": 0,
              "ticks": ""
             }
            },
            "type": "scattergl"
           }
          ],
          "scattermapbox": [
           {
            "marker": {
             "colorbar": {
              "outlinewidth": 0,
              "ticks": ""
             }
            },
            "type": "scattermapbox"
           }
          ],
          "scatterpolar": [
           {
            "marker": {
             "colorbar": {
              "outlinewidth": 0,
              "ticks": ""
             }
            },
            "type": "scatterpolar"
           }
          ],
          "scatterpolargl": [
           {
            "marker": {
             "colorbar": {
              "outlinewidth": 0,
              "ticks": ""
             }
            },
            "type": "scatterpolargl"
           }
          ],
          "scatterternary": [
           {
            "marker": {
             "colorbar": {
              "outlinewidth": 0,
              "ticks": ""
             }
            },
            "type": "scatterternary"
           }
          ],
          "surface": [
           {
            "colorbar": {
             "outlinewidth": 0,
             "ticks": ""
            },
            "colorscale": [
             [
              0,
              "#0d0887"
             ],
             [
              0.1111111111111111,
              "#46039f"
             ],
             [
              0.2222222222222222,
              "#7201a8"
             ],
             [
              0.3333333333333333,
              "#9c179e"
             ],
             [
              0.4444444444444444,
              "#bd3786"
             ],
             [
              0.5555555555555556,
              "#d8576b"
             ],
             [
              0.6666666666666666,
              "#ed7953"
             ],
             [
              0.7777777777777778,
              "#fb9f3a"
             ],
             [
              0.8888888888888888,
              "#fdca26"
             ],
             [
              1,
              "#f0f921"
             ]
            ],
            "type": "surface"
           }
          ],
          "table": [
           {
            "cells": {
             "fill": {
              "color": "#EBF0F8"
             },
             "line": {
              "color": "white"
             }
            },
            "header": {
             "fill": {
              "color": "#C8D4E3"
             },
             "line": {
              "color": "white"
             }
            },
            "type": "table"
           }
          ]
         },
         "layout": {
          "annotationdefaults": {
           "arrowcolor": "#2a3f5f",
           "arrowhead": 0,
           "arrowwidth": 1
          },
          "autotypenumbers": "strict",
          "coloraxis": {
           "colorbar": {
            "outlinewidth": 0,
            "ticks": ""
           }
          },
          "colorscale": {
           "diverging": [
            [
             0,
             "#8e0152"
            ],
            [
             0.1,
             "#c51b7d"
            ],
            [
             0.2,
             "#de77ae"
            ],
            [
             0.3,
             "#f1b6da"
            ],
            [
             0.4,
             "#fde0ef"
            ],
            [
             0.5,
             "#f7f7f7"
            ],
            [
             0.6,
             "#e6f5d0"
            ],
            [
             0.7,
             "#b8e186"
            ],
            [
             0.8,
             "#7fbc41"
            ],
            [
             0.9,
             "#4d9221"
            ],
            [
             1,
             "#276419"
            ]
           ],
           "sequential": [
            [
             0,
             "#0d0887"
            ],
            [
             0.1111111111111111,
             "#46039f"
            ],
            [
             0.2222222222222222,
             "#7201a8"
            ],
            [
             0.3333333333333333,
             "#9c179e"
            ],
            [
             0.4444444444444444,
             "#bd3786"
            ],
            [
             0.5555555555555556,
             "#d8576b"
            ],
            [
             0.6666666666666666,
             "#ed7953"
            ],
            [
             0.7777777777777778,
             "#fb9f3a"
            ],
            [
             0.8888888888888888,
             "#fdca26"
            ],
            [
             1,
             "#f0f921"
            ]
           ],
           "sequentialminus": [
            [
             0,
             "#0d0887"
            ],
            [
             0.1111111111111111,
             "#46039f"
            ],
            [
             0.2222222222222222,
             "#7201a8"
            ],
            [
             0.3333333333333333,
             "#9c179e"
            ],
            [
             0.4444444444444444,
             "#bd3786"
            ],
            [
             0.5555555555555556,
             "#d8576b"
            ],
            [
             0.6666666666666666,
             "#ed7953"
            ],
            [
             0.7777777777777778,
             "#fb9f3a"
            ],
            [
             0.8888888888888888,
             "#fdca26"
            ],
            [
             1,
             "#f0f921"
            ]
           ]
          },
          "colorway": [
           "#636efa",
           "#EF553B",
           "#00cc96",
           "#ab63fa",
           "#FFA15A",
           "#19d3f3",
           "#FF6692",
           "#B6E880",
           "#FF97FF",
           "#FECB52"
          ],
          "font": {
           "color": "#2a3f5f"
          },
          "geo": {
           "bgcolor": "white",
           "lakecolor": "white",
           "landcolor": "#E5ECF6",
           "showlakes": true,
           "showland": true,
           "subunitcolor": "white"
          },
          "hoverlabel": {
           "align": "left"
          },
          "hovermode": "closest",
          "mapbox": {
           "style": "light"
          },
          "paper_bgcolor": "white",
          "plot_bgcolor": "#E5ECF6",
          "polar": {
           "angularaxis": {
            "gridcolor": "white",
            "linecolor": "white",
            "ticks": ""
           },
           "bgcolor": "#E5ECF6",
           "radialaxis": {
            "gridcolor": "white",
            "linecolor": "white",
            "ticks": ""
           }
          },
          "scene": {
           "xaxis": {
            "backgroundcolor": "#E5ECF6",
            "gridcolor": "white",
            "gridwidth": 2,
            "linecolor": "white",
            "showbackground": true,
            "ticks": "",
            "zerolinecolor": "white"
           },
           "yaxis": {
            "backgroundcolor": "#E5ECF6",
            "gridcolor": "white",
            "gridwidth": 2,
            "linecolor": "white",
            "showbackground": true,
            "ticks": "",
            "zerolinecolor": "white"
           },
           "zaxis": {
            "backgroundcolor": "#E5ECF6",
            "gridcolor": "white",
            "gridwidth": 2,
            "linecolor": "white",
            "showbackground": true,
            "ticks": "",
            "zerolinecolor": "white"
           }
          },
          "shapedefaults": {
           "line": {
            "color": "#2a3f5f"
           }
          },
          "ternary": {
           "aaxis": {
            "gridcolor": "white",
            "linecolor": "white",
            "ticks": ""
           },
           "baxis": {
            "gridcolor": "white",
            "linecolor": "white",
            "ticks": ""
           },
           "bgcolor": "#E5ECF6",
           "caxis": {
            "gridcolor": "white",
            "linecolor": "white",
            "ticks": ""
           }
          },
          "title": {
           "x": 0.05
          },
          "xaxis": {
           "automargin": true,
           "gridcolor": "white",
           "linecolor": "white",
           "ticks": "",
           "title": {
            "standoff": 15
           },
           "zerolinecolor": "white",
           "zerolinewidth": 2
          },
          "yaxis": {
           "automargin": true,
           "gridcolor": "white",
           "linecolor": "white",
           "ticks": "",
           "title": {
            "standoff": 15
           },
           "zerolinecolor": "white",
           "zerolinewidth": 2
          }
         }
        },
        "title": {
         "text": "My Time Spent in the project"
        },
        "width": 500
       }
      }
     },
     "metadata": {},
     "output_type": "display_data"
    }
   ],
   "source": [
    "import pandas as pd\n",
    "\n",
    "# want to have a dataset with 3 values \"Practicing\", \"Not Practicing\", \"Not Sure\" and 3 percentages to be able to draw a cake\n",
    "df = pd.DataFrame({\n",
    "    'values': [60, 30, 10],\n",
    "    'labels': ['Preparing Data', 'Complaining About Preparing Data', 'Modeling']\n",
    "})\n",
    "\n",
    "import plotly.express as px\n",
    "colors = ['#0c4c8b', '#ef562d', '#1f2429']\n",
    "fig = px.pie(df, values='values', names='labels', title='My Time Spent in the project', width=500, color_discrete_sequence=colors )\n",
    "fig.show()"
   ]
  },
  {
   "cell_type": "code",
   "execution_count": null,
   "metadata": {},
   "outputs": [],
   "source": []
  }
 ],
 "metadata": {
  "kernelspec": {
   "display_name": "Python 3",
   "language": "python",
   "name": "python3"
  },
  "language_info": {
   "codemirror_mode": {
    "name": "ipython",
    "version": 3
   },
   "file_extension": ".py",
   "mimetype": "text/x-python",
   "name": "python",
   "nbconvert_exporter": "python",
   "pygments_lexer": "ipython3",
   "version": "3.9.6"
  }
 },
 "nbformat": 4,
 "nbformat_minor": 2
}
