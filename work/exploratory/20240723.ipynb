{
 "cells": [
  {
   "cell_type": "code",
   "execution_count": null,
   "metadata": {},
   "outputs": [],
   "source": [
    "FILES_NAME = [\"2023_01_STATIONS\", \"2023_02_STATIONS\", \"2023_03_STATIONS\", \"2023_04_STATIONS\", \"2023_05_STATIONS\", \"2023_06_STATIONS\",\n",
    "                  \"2023_07_STATIONS\", \"2023_08_STATIONS\", \"2023_09_STATIONS\", \"2023_10_STATIONS\", \"2023_11_STATIONS\", \"2023_12_STATIONS\"]\n",
    "PROCCESED_FOLDER = \"../../data/bicing/processed\"\n",
    "\n",
    "import pandas as pd\n",
    "import os \n",
    "\n",
    "df_2023 = pd.DataFrame()\n",
    "for file_name in FILES_NAME:\n",
    "    file_path = os.path.join(PROCCESED_FOLDER, f\"{file_name}.csv\")\n",
    "\n",
    "    df = pd.read_csv(file_path)\n",
    "    print(f\"File: {file_name}\")\n",
    "    df_2023 = pd.concat([df_2023, df])\n",
    "\n",
    "df_2023.count()"
   ]
  },
  {
   "cell_type": "code",
   "execution_count": null,
   "metadata": {},
   "outputs": [],
   "source": [
    "from pyspark.sql import SparkSession, functions as F\n",
    "from pyspark.sql.functions import *\n",
    "\n",
    "spark = SparkSession.builder \\\n",
    "    .master(\"local\") \\\n",
    "    .config(\"spark.sql.autoBroadcastJoinThreshold\", -1) \\\n",
    "    .config(\"spark.executor.memory\", \"4000mb\") \\\n",
    "    .appName(\"Exercise1\") \\\n",
    "    .getOrCreate()\n",
    "\n",
    "\n",
    "df=spark.read.csv(\"../../data/bicing/processed/stations/\", header=True, inferSchema=True)\n",
    "df.count()"
   ]
  },
  {
   "cell_type": "code",
   "execution_count": null,
   "metadata": {},
   "outputs": [],
   "source": [
    "# i want to do in spark the same as in pandas pd.isnull().sum()\n",
    "columns = [F.count(F.when(F.isnull(F.col(f\"`{c}`\")), F.col(f\"`{c}`\"))).alias(c) if '.' in c else F.count(F.when(F.isnull(c), c)).alias(c) for c in df.columns]\n",
    "\n",
    "# Count nulls in each column\n",
    "null_counts = df.select(columns)\n",
    "null_counts.show()"
   ]
  },
  {
   "cell_type": "code",
   "execution_count": null,
   "metadata": {},
   "outputs": [],
   "source": [
    "df_2023_station_1 = df_2023[df_2023[\"station_id\"] == 1]\n",
    "df_2023_station_1.count()"
   ]
  },
  {
   "cell_type": "code",
   "execution_count": null,
   "metadata": {},
   "outputs": [],
   "source": [
    "df_station_1 = df.filter(df[\"station_id\"] == 1)\n",
    "df_station_1.count()"
   ]
  },
  {
   "cell_type": "code",
   "execution_count": null,
   "metadata": {},
   "outputs": [],
   "source": [
    "df_jan_13 = df.filter((df[\"month\"] == 1) & (df['day'] == 13))\n"
   ]
  },
  {
   "cell_type": "code",
   "execution_count": null,
   "metadata": {},
   "outputs": [],
   "source": [
    "df_jan_13.count()"
   ]
  },
  {
   "cell_type": "code",
   "execution_count": null,
   "metadata": {},
   "outputs": [],
   "source": [
    "df_jan_13.write.csv(\"../../data/bicing/processed/jan_13.csv\", header=True)\n"
   ]
  },
  {
   "cell_type": "code",
   "execution_count": null,
   "metadata": {},
   "outputs": [],
   "source": [
    "df_jan_13.write.parquet(\"../../data/bicing/processed/jan_13.parquet\", mode=\"overwrite\")"
   ]
  },
  {
   "cell_type": "code",
   "execution_count": null,
   "metadata": {},
   "outputs": [],
   "source": [
    "import tensorflow as tf\n",
    "\n",
    "# Define the CSV file path\n",
    "csv_file_path = '../../data/bicing/processed/stations/'\n",
    "\n",
    "# Create a TensorFlow dataset from the CSV file\n",
    "dataset = tf.data.experimental.make_csv_dataset(\n",
    "    csv_file_path,\n",
    "    batch_size=1024,  # Adjust based on your memory capacity\n",
    "    label_name='target_column',  # Replace with your label column name\n",
    "    num_epochs=1,\n",
    "    ignore_errors=True\n",
    ")\n",
    "\n",
    "# Process the dataset (e.g., batching, shuffling)\n",
    "dataset = dataset.shuffle(buffer_size=10000).batch(32)\n",
    "\n",
    "# Example: Iterate over the dataset\n",
    "for batch in dataset:\n",
    "    print(batch)\n"
   ]
  },
  {
   "cell_type": "code",
   "execution_count": null,
   "metadata": {},
   "outputs": [],
   "source": [
    "import dask.dataframe as dd\n",
    "FILES_NAME = [\"2023_01_STATIONS\", \"2023_02_STATIONS\", \"2023_03_STATIONS\", \"2023_04_STATIONS\", \"2023_05_STATIONS\", \"2023_06_STATIONS\",\n",
    "                  \"2023_07_STATIONS\", \"2023_08_STATIONS\", \"2023_09_STATIONS\", \"2023_10_STATIONS\", \"2023_11_STATIONS\", \"2023_12_STATIONS\"]\n",
    "PROCCESED_FOLDER = \"../../data/bicing/processed\"\n",
    "\n",
    "import pandas as pd\n",
    "import os \n",
    "\n",
    "dd_2023 = dd.from_pandas(pd.DataFrame(), npartitions=1)\n",
    "for file_name in FILES_NAME:\n",
    "    file_path = os.path.join(PROCCESED_FOLDER, f\"{file_name}.csv\")\n",
    "\n",
    "    df = dd.read_csv(file_path)\n",
    "    print(f\"File: {file_name}\")\n",
    "    dd_2023 = dd.concat([dd_2023, df])\n",
    "\n",
    "dd_2023.count().compute()"
   ]
  },
  {
   "cell_type": "code",
   "execution_count": null,
   "metadata": {},
   "outputs": [],
   "source": [
    "dd_2023_station_1 = dd_2023[dd_2023[\"station_id\"] == 1]\n",
    "dd_2023_station_1.head()"
   ]
  },
  {
   "cell_type": "code",
   "execution_count": null,
   "metadata": {},
   "outputs": [],
   "source": [
    "dd_2023_station_1 = dd_2023[dd_2023[\"station_id\"] == 1]\n",
    "dd_2023_station_1.count().compute()"
   ]
  },
  {
   "cell_type": "code",
   "execution_count": null,
   "metadata": {},
   "outputs": [],
   "source": [
    "#count na values\n",
    "dd_2023.isna().sum().compute()"
   ]
  },
  {
   "cell_type": "code",
   "execution_count": null,
   "metadata": {},
   "outputs": [],
   "source": [
    "df_2023.isna().sum()"
   ]
  },
  {
   "cell_type": "code",
   "execution_count": null,
   "metadata": {},
   "outputs": [],
   "source": [
    "from pyspark.sql import functions as F\n",
    "#count na in spark\n",
    "df.head(3)\n",
    "print(type(df   ))\n",
    "#count na values\n",
    "df.select([F.count(F.when(F.isnan(c) | F.col(c).isNull(), c)).alias(c) for c in df.columns]).show()"
   ]
  },
  {
   "cell_type": "markdown",
   "metadata": {},
   "source": []
  },
  {
   "cell_type": "markdown",
   "metadata": {},
   "source": [
    "# PAndas PArquet vs CSV"
   ]
  },
  {
   "cell_type": "code",
   "execution_count": null,
   "metadata": {},
   "outputs": [],
   "source": [
    "\n",
    "import pandas as pd\n",
    "import glob\n",
    "\n",
    "csv_files = glob.glob(\"../../data/bicing/processed/jan_13.csv/*.csv\")\n",
    "dfs = []\n",
    "\n",
    "for file in csv_files:\n",
    "    df = pd.read_csv(file)\n",
    "    dfs.append(df)\n",
    "\n",
    "combined_df = pd.concat(dfs)\n",
    "combined_df.count()"
   ]
  },
  {
   "cell_type": "code",
   "execution_count": null,
   "metadata": {},
   "outputs": [],
   "source": [
    "\n",
    "import pandas as pd\n",
    "import glob\n",
    "\n",
    "parquet_files = glob.glob(\"../../data/bicing/processed/jan_13.parquet/*.parquet\")\n",
    "dfs = []\n",
    "\n",
    "for file in parquet_files:\n",
    "    df = pd.read_parquet(file)\n",
    "    dfs.append(df)\n",
    "\n",
    "combined_df = pd.concat(dfs)\n",
    "combined_df.count()"
   ]
  },
  {
   "cell_type": "code",
   "execution_count": null,
   "metadata": {},
   "outputs": [],
   "source": [
    "!pip install pyarrow"
   ]
  },
  {
   "cell_type": "code",
   "execution_count": null,
   "metadata": {},
   "outputs": [],
   "source": [
    "import pandas as pd\n",
    "\n",
    "df_2023_oct = pd.read_csv(\"../../data/bicing/processed/months/2023_10_STATIONS.csv\")"
   ]
  },
  {
   "cell_type": "code",
   "execution_count": null,
   "metadata": {},
   "outputs": [],
   "source": [
    "df_2023_oct.isnull().sum()\n",
    "#df_2023_oct.dropna(inplace=True)"
   ]
  },
  {
   "cell_type": "code",
   "execution_count": null,
   "metadata": {},
   "outputs": [],
   "source": [
    "df_2023_oct.isnull().sum()"
   ]
  },
  {
   "cell_type": "code",
   "execution_count": null,
   "metadata": {},
   "outputs": [],
   "source": [
    "import pandas as pd\n",
    "df_2023_oct = pd.read_csv(\"../../data/bicing/processed/months/2023_10_STATIONS.csv\")\n",
    "df_2023_oct.head()"
   ]
  },
  {
   "cell_type": "code",
   "execution_count": null,
   "metadata": {},
   "outputs": [],
   "source": [
    "\n",
    "def assign_datatypes_month_df(df: pd.DataFrame) -> pd.DataFrame:\n",
    "    df = df.astype({\n",
    "        'station_id': int,\n",
    "        'num_bikes_available': int,\n",
    "        'num_bikes_available_types.mechanical': int,\n",
    "        'num_bikes_available_types.ebike': int,\n",
    "        'num_docks_available': int,\n",
    "        'status': str,\n",
    "        'is_renting': int,\n",
    "        'is_returning': int,\n",
    "        'year': int,\n",
    "        'month': int,\n",
    "        'day': int,\n",
    "        'hour': int,\n",
    "        'grouped_minute': int,\n",
    "        'day_of_week': int,\n",
    "        'is_weekend': int\n",
    "    })\n",
    "    return df"
   ]
  },
  {
   "cell_type": "code",
   "execution_count": null,
   "metadata": {},
   "outputs": [],
   "source": [
    "df_2023_oct = assign_datatypes_month_df(df_2023_oct)\n",
    "df_2023_oct.head()"
   ]
  },
  {
   "cell_type": "code",
   "execution_count": null,
   "metadata": {},
   "outputs": [],
   "source": [
    "# find busiest days\n",
    "df_2023_oct['bike_available_diff'] = df_2023_oct.groupby(['station_id'])['num_bikes_available'].diff()\n",
    "df_2023_oct['bike_available_diff'] = df_2023_oct['bike_available_diff'].apply(lambda x: abs(x))\n",
    "df_month_busiest_days = df_2023_oct.groupby('day').agg({'bike_available_diff': 'sum'}).reset_index()\n",
    "df_month_busiest_days.sort_values(by='bike_available_diff', ascending=False).head(20)"
   ]
  },
  {
   "cell_type": "code",
   "execution_count": null,
   "metadata": {},
   "outputs": [],
   "source": [
    "df_2023_oct[df_2023_oct['station_id'] == 46]"
   ]
  },
  {
   "cell_type": "code",
   "execution_count": null,
   "metadata": {},
   "outputs": [],
   "source": [
    "df_2023_oct['grouped_date'] = df_2023_oct['year'].astype(str) + '-' + df_2023_oct['month'].astype(str) + '-' + df_2023_oct['day'].astype(str) + ' ' + df_2023_oct['hour'].astype(\n",
    "            str) + ':' + df_2023_oct['grouped_minute'].astype(str).apply(lambda x: '0' + str(x) if int(x) < 10 else str(x))"
   ]
  },
  {
   "cell_type": "code",
   "execution_count": null,
   "metadata": {},
   "outputs": [],
   "source": [
    "df_2023_oct_6 = df_2023_oct[df_2023_oct['day'] == 6]"
   ]
  },
  {
   "cell_type": "code",
   "execution_count": null,
   "metadata": {},
   "outputs": [],
   "source": [
    "df_stations = pd.read_csv('../../data/bicing/processed/2024_STATION_LOCATIONS.csv')\n",
    "df_month_busiest_days = df_2023_oct_6.merge(df_stations, on='station_id', how='left')\n",
    "df_month_busiest_days.head(3)"
   ]
  },
  {
   "cell_type": "code",
   "execution_count": null,
   "metadata": {},
   "outputs": [],
   "source": [
    "df_month_busiest_days['docking_available'] = df_month_busiest_days['num_docks_available'].apply(lambda x: False if x == 0 else True) & df_month_busiest_days['is_returning'].apply(lambda x: False if x == 0 else True)"
   ]
  },
  {
   "cell_type": "code",
   "execution_count": null,
   "metadata": {},
   "outputs": [],
   "source": [
    "df_month_busiest_days['bikes_available'] = df_month_busiest_days['num_bikes_available'].apply(lambda x: False if x == 0 else True) & df_month_busiest_days['is_renting'].apply(lambda x: False if x == 0 else True)b"
   ]
  },
  {
   "cell_type": "code",
   "execution_count": null,
   "metadata": {},
   "outputs": [],
   "source": [
    "df_month_busiest_days.to"
   ]
  },
  {
   "cell_type": "code",
   "execution_count": null,
   "metadata": {},
   "outputs": [],
   "source": [
    "import plotly.express as px\n",
    "\n",
    "# Assuming df_month_busiest_days is your DataFrame and it includes the 'is_returning' column with values 0 and 1\n",
    "fig = px.scatter_mapbox(df_month_busiest_days, lat=\"lat\", lon=\"lon\", color=\"bikes_available\", # size=\"num_bikes_available\",size_max=2,\n",
    "                        color_discrete_map={0: \"red\", 1: \"green\"},\n",
    "                        hover_name=\"address\", hover_data=[\"station_id\", \"altitude\", \"post_code\", \"capacity\",\"num_bikes_available\"],\n",
    "                        title=\"October's busiest day Bikes Availability\",\n",
    "                        animation_frame='grouped_date',\n",
    "                        zoom=11.5, height=630, width=600,\n",
    "                        category_orders={\"bikes_available\": [0, 1]})  # Explicitly setting the order of categories\n",
    "\n",
    "fig.update_layout(mapbox_style=\"open-street-map\",\n",
    "                  margin={\"r\": 0, \"t\": 80, \"l\": 0, \"b\": 0},\n",
    "                  mapbox={\"center\": {\"lat\": 41.40484, \"lon\": 2.17482}})\n",
    "\n",
    "for i, frame in enumerate(fig.frames):\n",
    "    time_frame = frame.name[-5:]\n",
    "    frame.layout.title = \"January's busiest day Bikes Availability At: {}\".format(str(time_frame))\n",
    "    \n",
    "fig.show()"
   ]
  },
  {
   "cell_type": "code",
   "execution_count": null,
   "metadata": {},
   "outputs": [],
   "source": [
    "import plotly.express as px\n",
    "\n",
    "fig = px.scatter_mapbox(df_month_busiest_days, lat=\"lat\", lon=\"lon\", color=\"docking_available\",\n",
    "                        color_discrete_map={0: \"red\", 1: \"green\"},\n",
    "                        hover_name=\"address\", hover_data=[\"station_id\", \"altitude\", \"post_code\", \"capacity\"],\n",
    "                        title=\"October's busiest day Docking Availability\",\n",
    "                        animation_frame='grouped_date',\n",
    "                        zoom=11.5, height=630, width=600,\n",
    "                        category_orders={\"docking_available\": [0, 1]})  # Explicitly setting the order of categories\n",
    "\n",
    "fig.update_layout(mapbox_style=\"open-street-map\",\n",
    "                  margin={\"r\": 0, \"t\": 80, \"l\": 0, \"b\": 0},\n",
    "                  mapbox={\"center\": {\"lat\": 41.40484, \"lon\": 2.17482}})\n",
    "\n",
    "for i, frame in enumerate(fig.frames):\n",
    "    time_frame = frame.name[-5:]\n",
    "    frame.layout.title = \"January's busiest day Docking Availability At: {}\".format(str(time_frame))\n",
    "\n",
    "fig.show()"
   ]
  },
  {
   "cell_type": "code",
   "execution_count": null,
   "metadata": {},
   "outputs": [],
   "source": [
    "import plotly.express as px\n",
    "\n",
    "# Assuming df_month_busiest_days is your DataFrame and it includes the 'is_returning' column with values 0 and 1\n",
    "fig1 = px.scatter_mapbox(df_month_busiest_days, lat=\"lat\", lon=\"lon\", color=\"bikes_available\", # size=\"num_bikes_available\",size_max=2,\n",
    "                        color_discrete_map={0: \"red\", 1: \"green\"},\n",
    "                        hover_name=\"address\", hover_data=[\"station_id\", \"altitude\", \"post_code\", \"capacity\",\"num_bikes_available\"],\n",
    "                        title=\"October's busiest day Bikes Availability\",\n",
    "                        animation_frame='grouped_date',\n",
    "                        zoom=11.5, height=630, width=600,\n",
    "                        category_orders={\"bikes_available\": [0, 1]})  # Explicitly setting the order of categories\n",
    "\n",
    "fig1.update_layout(mapbox_style=\"open-street-map\",\n",
    "                  margin={\"r\": 0, \"t\": 80, \"l\": 0, \"b\": 0},\n",
    "                  mapbox={\"center\": {\"lat\": 41.40484, \"lon\": 2.17482}})\n",
    "\n",
    "for i, frame in enumerate(fig1.frames):\n",
    "    time_frame = frame.name[-5:]\n",
    "    frame.layout.title = \"January's busiest day Bikes Availability At: {}\".format(str(time_frame))\n",
    "    \n",
    "\n",
    "import plotly.express as px\n",
    "\n",
    "fig2 = px.scatter_mapbox(df_month_busiest_days, lat=\"lat\", lon=\"lon\", color=\"docking_available\",\n",
    "                        color_discrete_map={0: \"red\", 1: \"green\"},\n",
    "                        hover_name=\"address\", hover_data=[\"station_id\", \"altitude\", \"post_code\", \"capacity\"],\n",
    "                        title=\"October's busiest day Docking Availability\",\n",
    "                        animation_frame='grouped_date',\n",
    "                        zoom=11.5, height=630, width=600,\n",
    "                        category_orders={\"docking_available\": [0, 1]})  # Explicitly setting the order of categories\n",
    "\n",
    "fig2.update_layout(mapbox_style=\"open-street-map\",\n",
    "                  margin={\"r\": 0, \"t\": 80, \"l\": 0, \"b\": 0},\n",
    "                  mapbox={\"center\": {\"lat\": 41.40484, \"lon\": 2.17482}})\n",
    "\n",
    "for i, frame in enumerate(fig2.frames):\n",
    "    time_frame = frame.name[-5:]\n",
    "    frame.layout.title = \"January's busiest day Docking Availability At: {}\".format(str(time_frame))\n",
    "\n",
    "\n",
    "    import plotly.subplots as sp\n",
    "\n",
    "    fig = sp.make_subplots(rows=1, cols=2)\n",
    "\n",
    "    fig.add_trace(fig1.data[0], row=1, col=1)\n",
    "    fig.add_trace(fig2.data[0], row=1, col=2)\n",
    "\n",
    "    fig.update_layout(height=630, width=1200, title_text=\"October's busiest day Bikes and Docking Availability\")\n",
    "\n",
    "    fig.show()# Create a subplot layout\n",
    "\n"
   ]
  },
  {
   "cell_type": "code",
   "execution_count": null,
   "metadata": {},
   "outputs": [],
   "source": [
    "import plotly.express as px\n",
    "from plotly.subplots import make_subplots\n",
    "import plotly.graph_objects as go\n",
    "\n",
    "\n",
    "# Assuming df_month_busiest_days is your DataFrame and it includes the 'is_returning' column with values 0 and 1\n",
    "fig1 = px.scatter_mapbox(df_month_busiest_days, lat=\"lat\", lon=\"lon\", color=\"bikes_available\", # size=\"num_bikes_available\",size_max=2,\n",
    "                        color_discrete_map={0: \"red\", 1: \"green\"},\n",
    "                        hover_name=\"address\", hover_data=[\"station_id\", \"altitude\", \"post_code\", \"capacity\",\"num_bikes_available\"],\n",
    "                        title=\"October's busiest day Bikes Availability\",\n",
    "                        animation_frame='grouped_date',\n",
    "                        zoom=11.5, height=630, width=600,\n",
    "                        category_orders={\"bikes_available\": [0, 1]})  # Explicitly setting the order of categories\n",
    "\n",
    "fig1.update_layout(mapbox_style=\"open-street-map\",\n",
    "                  margin={\"r\": 0, \"t\": 80, \"l\": 0, \"b\": 0},\n",
    "                  mapbox={\"center\": {\"lat\": 41.40484, \"lon\": 2.17482}})\n",
    "\n",
    "for i, frame in enumerate(fig1.frames):\n",
    "    time_frame = frame.name[-5:]\n",
    "    frame.layout.title = \"January's busiest day Bikes Availability At: {}\".format(str(time_frame))\n",
    "    \n",
    "\n",
    "import plotly.express as px\n",
    "\n",
    "fig2 = px.scatter_mapbox(df_month_busiest_days, lat=\"lat\", lon=\"lon\", color=\"docking_available\",\n",
    "                        color_discrete_map={0: \"red\", 1: \"green\"},\n",
    "                        hover_name=\"address\", hover_data=[\"station_id\", \"altitude\", \"post_code\", \"capacity\"],\n",
    "                        title=\"October's busiest day Docking Availability\",\n",
    "                        animation_frame='grouped_date',\n",
    "                        zoom=11.5, height=630, width=600,\n",
    "                        category_orders={\"docking_available\": [0, 1]})  # Explicitly setting the order of categories\n",
    "\n",
    "fig2.update_layout(mapbox_style=\"open-street-map\",\n",
    "                  margin={\"r\": 0, \"t\": 80, \"l\": 0, \"b\": 0},\n",
    "                  mapbox={\"center\": {\"lat\": 41.40484, \"lon\": 2.17482}})\n",
    "\n",
    "for i, frame in enumerate(fig2.frames):\n",
    "    time_frame = frame.name[-5:]\n",
    "    frame.layout.title = \"January's busiest day Docking Availability At: {}\".format(str(time_frame))\n",
    "\n",
    "\n",
    "# Create a subplot layout\n",
    "fig = make_subplots(rows=1, cols=2, subplot_titles=(\"Bikes Availability\", \"Docking Availability\"),\n",
    "                    specs=[[{\"type\": \"scattermapbox\"}, {\"type\": \"scattermapbox\"}]])\n",
    "\n",
    "# Add the two figures to the subplot layout\n",
    "for trace in fig1.data:\n",
    "    fig.add_trace(trace, row=1, col=1)\n",
    "\n",
    "for trace in fig2.data:\n",
    "    fig.add_trace(trace, row=1, col=2)\n",
    "\n",
    "# Update the layout\n",
    "fig.update_layout(height=700, width=1300, title_text=\"October's Busiest Day: Bikes and Docking Availability\")\n",
    "\n",
    "# Show the combined figure\n",
    "fig.show()\n"
   ]
  },
  {
   "cell_type": "code",
   "execution_count": null,
   "metadata": {},
   "outputs": [],
   "source": [
    "\n",
    "import plotly.graph_objects as go\n",
    "from plotly.subplots import make_subplots\n",
    "import pandas as pd\n",
    "import numpy as np\n",
    "\n",
    "mapboxtoken = \"pk.eyJ1IjoianBhbGV4MTIzIiwiYSI6ImNsN3NsemlieTA0ZGszdnAzNHRzb3k4emkifQ.DOmCc34Bj1t4zG6O5yVzoA\"\n",
    "mapboxstyle = 'mapbox://styles/jpalex123/cl7sp1tou001q14qtcjt5ndhn'\n",
    "\n",
    "df = pd.read_csv('https://raw.githubusercontent.com/plotly/datasets/master/Nuclear%20Waste%20Sites%20on%20American%20Campuses.csv')\n",
    "site_lat = df.lat\n",
    "site_lon = df.lon\n",
    "locations_name = df.text\n",
    "\n",
    "\n",
    "fig = make_subplots(rows=1, cols=2, subplot_titles=(\"Bikes Availability\", \"Docking Availability\"),\n",
    "                    specs=[[{\"type\": \"scattermapbox\"}, {\"type\": \"scattermapbox\"}]])\n",
    "\n",
    "fig.add_trace(go.Scattermapbox(\n",
    "        lat=site_lat,\n",
    "        lon=site_lon,\n",
    "        mode='markers',\n",
    "        marker=go.scattermapbox.Marker(\n",
    "            size=17,\n",
    "            color='rgb(255, 0, 0)',\n",
    "            opacity=0.7\n",
    "        ),\n",
    "        text=locations_name,\n",
    "        hoverinfo='text',\n",
    "    ), row = 1, col = 1)\n",
    "\n",
    "fig.add_trace(go.Scattermapbox(\n",
    "        lat=site_lat,\n",
    "        lon=site_lon,\n",
    "        mode='markers',\n",
    "        marker=go.scattermapbox.Marker(\n",
    "            size=17,\n",
    "            color='rgb(255, 0, 0)',\n",
    "            opacity=0.7\n",
    "        ),\n",
    "        text=locations_name,\n",
    "        hoverinfo='text',\n",
    "    ), row = 1, col = 2)\n",
    "\n",
    "fig.update_layout(mapbox1_accesstoken = mapboxtoken,\n",
    "                  mapbox1 = dict(zoom = 1,\n",
    "                                 style = mapboxstyle,\n",
    "                                 center=go.layout.mapbox.Center(lat=np.mean(site_lat),lon=np.mean(site_lon))\n",
    "                            )            \n",
    "                 )\n",
    "\n",
    "fig.show()"
   ]
  },
  {
   "cell_type": "code",
   "execution_count": null,
   "metadata": {},
   "outputs": [],
   "source": [
    "from plotly.subplots import make_subplots\n",
    "import plotly.graph_objects as go\n",
    "\n",
    "fig = make_subplots(rows=1,cols=2)\n",
    "\n",
    "fig.add_scattermapbox(df_month_busiest_days,\n",
    "                       lat=\"lat\", lon=\"lon\", color=\"docking_available\",\n",
    "                        color_discrete_map={0: \"red\", 1: \"green\"},\n",
    "                        hover_name=\"address\", hover_data=[\"station_id\", \"altitude\", \"post_code\", \"capacity\"],\n",
    "                        title=\"October's busiest day Docking Availability\",\n",
    "                        animation_frame='grouped_date',\n",
    "                        zoom=11.5, height=630, width=600,\n",
    "                        category_orders={\"docking_available\": [0, 1]})\n",
    "fig.show()"
   ]
  },
  {
   "cell_type": "code",
   "execution_count": null,
   "metadata": {},
   "outputs": [],
   "source": [
    "import plotly.express as px\n",
    "from plotly.subplots import make_subplots\n",
    "import plotly.graph_objects as go\n",
    "\n",
    "# Create the first scatter_mapbox figure\n",
    "fig1 = px.scatter_mapbox(df_month_busiest_days, lat=\"lat\", lon=\"lon\", color=\"docking_available\",\n",
    "                         color_discrete_map={0: \"red\", 1: \"green\"},\n",
    "                         hover_name=\"address\", hover_data=[\"station_id\", \"altitude\", \"post_code\", \"capacity\"],\n",
    "                         title=\"October's busiest day Docking Availability\",\n",
    "                         animation_frame='grouped_date',\n",
    "                         zoom=11.5, height=630, width=600,\n",
    "                         category_orders={\"docking_available\": [0, 1]})\n",
    "\n",
    "# Extract traces from the first figure\n",
    "traces1 = [trace for trace in fig1.data]\n",
    "\n",
    "# Create the second scatter_mapbox figure\n",
    "fig2 = px.scatter_mapbox(df_month_busiest_days, lat=\"lat\", lon=\"lon\", color=\"bikes_available\",\n",
    "                         color_discrete_map={0: \"red\", 1: \"green\"},\n",
    "                         hover_name=\"address\", hover_data=[\"station_id\", \"altitude\", \"post_code\", \"capacity\", \"num_bikes_available\"],\n",
    "                         title=\"October's busiest day Bikes Availability\",\n",
    "                         animation_frame='grouped_date',\n",
    "                         zoom=11.5, height=630, width=600,\n",
    "                         category_orders={\"bikes_available\": [0, 1]})\n",
    "\n",
    "# Extract traces from the second figure\n",
    "traces2 = [trace for trace in fig2.data]\n",
    "\n",
    "# Create a subplot layout\n",
    "fig = make_subplots(rows=1, cols=2, subplot_titles=(\"Docking Availability\", \"Bikes Availability\"),\n",
    "                    specs=[[{\"type\": \"scattermapbox\"}, {\"type\": \"scattermapbox\"}]])\n",
    "\n",
    "# Add the first figure traces to the first subplot\n",
    "for trace in traces1:\n",
    "    fig.add_trace(trace, row=1, col=1)\n",
    "\n",
    "# Add the second figure traces to the second subplot\n",
    "for trace in traces2:\n",
    "    fig.add_trace(trace, row=1, col=2)\n",
    "\n",
    "# Update the layout\n",
    "fig.update_layout(mapbox_style=\"open-street-map\",\n",
    "                  mapbox=dict(center=dict(lat=41.40484, lon=2.17482)),\n",
    "                  margin={\"r\": 0, \"t\": 80, \"l\": 0, \"b\": 0},\n",
    "                  height=700, width=1200,\n",
    "                  title_text=\"October's Busiest Day: Bikes and Docking Availability\")\n",
    "\n",
    "# Show the combined figure\n",
    "fig.show()"
   ]
  },
  {
   "cell_type": "code",
   "execution_count": null,
   "metadata": {},
   "outputs": [],
   "source": [
    "import plotly.express as px\n",
    "from plotly.subplots import make_subplots\n",
    "import plotly.graph_objects as go\n",
    "\n",
    "# Create the first scatter_mapbox figure\n",
    "fig1 = px.scatter_mapbox(df_month_busiest_days, lat=\"lat\", lon=\"lon\", color=\"docking_available\",\n",
    "                         color_discrete_map={0: \"red\", 1: \"green\"},\n",
    "                         hover_name=\"address\", hover_data=[\"station_id\", \"altitude\", \"post_code\", \"capacity\"],\n",
    "                         title=\"October's busiest day Docking Availability\",\n",
    "                         animation_frame='grouped_date',\n",
    "                         zoom=11.5, height=630, width=600,\n",
    "                         category_orders={\"docking_available\": [0, 1]})\n",
    "\n",
    "# Create the second scatter_mapbox figure\n",
    "fig2 = px.scatter_mapbox(df_month_busiest_days, lat=\"lat\", lon=\"lon\", color=\"bikes_available\",\n",
    "                         color_discrete_map={0: \"red\", 1: \"green\"},\n",
    "                         hover_name=\"address\", hover_data=[\"station_id\", \"altitude\", \"post_code\", \"capacity\", \"num_bikes_available\"],\n",
    "                         title=\"October's busiest day Bikes Availability\",\n",
    "                         animation_frame='grouped_date',\n",
    "                         zoom=11.5, height=630, width=600,\n",
    "                         category_orders={\"bikes_available\": [0, 1]})\n",
    "\n",
    "# Create a subplot layout\n",
    "fig = make_subplots(rows=1, cols=2, subplot_titles=(\"Docking Availability\", \"Bikes Availability\"),\n",
    "                    specs=[[{\"type\": \"scattermapbox\"}, {\"type\": \"scattermapbox\"}]])\n",
    "\n",
    "# Function to update frames\n",
    "# Function to update frames\n",
    "def update_frames(fig, traces, row, col):\n",
    "    for frame in fig.frames:\n",
    "        for trace in frame.data:\n",
    "            fig.add_trace(trace, row=row, col=col)\n",
    "\n",
    "# Extract and add traces from both figures\n",
    "for trace in fig1.data:\n",
    "    fig.add_trace(trace, row=1, col=1)\n",
    "\n",
    "for trace in fig2.data:\n",
    "    fig.add_trace(trace, row=1, col=2)\n",
    "\n",
    "# Update frames for the animation\n",
    "update_frames(fig1, fig1.data, row=1, col=1)\n",
    "update_frames(fig2, fig2.data, row=1, col=2)\n",
    "\n",
    "# Update the layout\n",
    "fig.update_layout(mapbox_style=\"open-street-map\",\n",
    "                  mapbox=dict(center=dict(lat=41.40484, lon=2.17482)),\n",
    "                  margin={\"r\": 0, \"t\": 80, \"l\": 0, \"b\": 0},\n",
    "                  height=700, width=1200,\n",
    "                  title_text=\"October's Busiest Day: Bikes and Docking Availability\")\n",
    "\n",
    "# Add animation settings\n",
    "fig.frames = fig1.frames + fig2.frames\n",
    "\n",
    "# Show the combined figure\n",
    "fig.show()\n"
   ]
  },
  {
   "cell_type": "code",
   "execution_count": null,
   "metadata": {},
   "outputs": [],
   "source": [
    "df_month_busiest_days.to_csv('../../data/bicing/processed/months/days/1006_October_busiest_day.csv')"
   ]
  },
  {
   "cell_type": "code",
   "execution_count": null,
   "metadata": {},
   "outputs": [],
   "source": [
    "#plotly express version\n",
    "px."
   ]
  }
 ],
 "metadata": {
  "kernelspec": {
   "display_name": "Python 3",
   "language": "python",
   "name": "python3"
  },
  "language_info": {
   "codemirror_mode": {
    "name": "ipython",
    "version": 3
   },
   "file_extension": ".py",
   "mimetype": "text/x-python",
   "name": "python",
   "nbconvert_exporter": "python",
   "pygments_lexer": "ipython3",
   "version": "3.9.6"
  }
 },
 "nbformat": 4,
 "nbformat_minor": 2
}
