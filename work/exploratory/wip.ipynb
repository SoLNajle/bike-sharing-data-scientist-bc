{
 "cells": [
  {
   "cell_type": "code",
   "execution_count": null,
   "metadata": {},
   "outputs": [],
   "source": [
    "import pandas as pd\n"
   ]
  },
  {
   "cell_type": "code",
   "execution_count": null,
   "metadata": {},
   "outputs": [],
   "source": [
    "df_2023 = pd.read_csv('../../data/bicing/2023_INFO.csv')\n",
    "df_2023.count()"
   ]
  },
  {
   "cell_type": "code",
   "execution_count": null,
   "metadata": {},
   "outputs": [],
   "source": []
  },
  {
   "cell_type": "code",
   "execution_count": null,
   "metadata": {},
   "outputs": [],
   "source": [
    "df_2023.head()"
   ]
  },
  {
   "cell_type": "code",
   "execution_count": null,
   "metadata": {},
   "outputs": [],
   "source": [
    "#check missing values\n",
    "df_2023.isnull().sum()"
   ]
  },
  {
   "cell_type": "code",
   "execution_count": null,
   "metadata": {},
   "outputs": [],
   "source": [
    "df_2023.drop(['Unnamed: 0', 'cross_street', 'rental_uris'], axis=1, inplace=True)"
   ]
  },
  {
   "cell_type": "code",
   "execution_count": null,
   "metadata": {},
   "outputs": [],
   "source": [
    "df_2023.info()"
   ]
  },
  {
   "cell_type": "code",
   "execution_count": null,
   "metadata": {},
   "outputs": [],
   "source": [
    "df_2023.head()\n",
    "#make date a datetime object\n",
    "df_2023['date'] = pd.to_datetime(df_2023['date'])\n",
    "df_2023.info()"
   ]
  },
  {
   "cell_type": "code",
   "execution_count": null,
   "metadata": {},
   "outputs": [],
   "source": [
    "df_2023['date'].dt.year.value_counts()"
   ]
  },
  {
   "cell_type": "code",
   "execution_count": null,
   "metadata": {},
   "outputs": [],
   "source": [
    "df_2023[df_2023['date'] == '2023-12-31']"
   ]
  },
  {
   "cell_type": "code",
   "execution_count": null,
   "metadata": {},
   "outputs": [],
   "source": [
    "df_2023['station_id'].nunique()"
   ]
  },
  {
   "cell_type": "code",
   "execution_count": null,
   "metadata": {},
   "outputs": [],
   "source": [
    "#make a new dataframe with unique station_id by max date with all the columns but the date should be in 2023\n",
    "df_2023 = df_2023[df_2023['date'].dt.year == 2023]\n",
    "df_2023_max_date = df_2023.loc[df_2023.groupby('station_id')['date'].idxmax()]\n",
    "df_2023_max_date.head()"
   ]
  },
  {
   "cell_type": "code",
   "execution_count": null,
   "metadata": {},
   "outputs": [],
   "source": [
    "import plotly.express as px\n",
    "\n",
    "#draw a map of the stations\n",
    "fig = px.scatter_mapbox(df_2023_max_date, lat=\"lat\", lon=\"lon\", hover_name=\"station_id\", hover_data=[\"address\",\"post_code\"], color='altitude',\n",
    "                        color_discrete_sequence=[\"fuchsia\"], zoom=11, height=400, width=500,)\n",
    "fig.update_layout(mapbox_style=\"open-street-map\")\n",
    "fig.update_layout(margin={\"r\":0,\"t\":0,\"l\":0,\"b\":0})\n",
    "fig.show()"
   ]
  },
  {
   "cell_type": "code",
   "execution_count": null,
   "metadata": {},
   "outputs": [],
   "source": [
    "df_2022 = pd.read_csv('../../data/bicing/2022_INFO.csv')\n",
    "df_2022.isna().sum()\n",
    "df_2022.drop(['Unnamed: 0', 'cross_street', 'is_charging_station', 'x_ride_code_support'], axis=1, inplace=True)"
   ]
  },
  {
   "cell_type": "code",
   "execution_count": null,
   "metadata": {},
   "outputs": [],
   "source": [
    "df_2022['date'] = pd.to_datetime(df_2022['date'])\n",
    "df_2022.info()\n"
   ]
  },
  {
   "cell_type": "code",
   "execution_count": null,
   "metadata": {},
   "outputs": [],
   "source": [
    "df_2022 = df_2022[df_2022['date'].dt.year == 2022]\n",
    "df_2022_max_date = df_2022.loc[df_2022.groupby('station_id')['date'].idxmax()]\n",
    "df_2022_max_date.nunique()"
   ]
  },
  {
   "cell_type": "code",
   "execution_count": null,
   "metadata": {},
   "outputs": [],
   "source": [
    "df_2022_max_date['year'] = 2022\n",
    "df_2023_max_date['year'] = 2023"
   ]
  },
  {
   "cell_type": "code",
   "execution_count": null,
   "metadata": {},
   "outputs": [],
   "source": [
    "df_years = pd.concat([df_2022_max_date, df_2023_max_date])"
   ]
  },
  {
   "cell_type": "code",
   "execution_count": null,
   "metadata": {},
   "outputs": [],
   "source": [
    "# add animation by year\n",
    "import plotly.express as px\n",
    "\n",
    "#draw a map of the stations\n",
    "fig = px.scatter_mapbox(df_years, lat=\"lat\", lon=\"lon\", hover_name=\"station_id\", hover_data=[\"address\",\"post_code\"], color='altitude',\n",
    "                        color_discrete_sequence=[\"fuchsia\"], zoom=11, height=900, width=800,animation_frame='year')\n",
    "fig.update_layout(mapbox_style=\"open-street-map\")\n",
    "fig.update_layout(margin={\"r\":0,\"t\":0,\"l\":0,\"b\":0})\n",
    "fig.show()"
   ]
  },
  {
   "cell_type": "code",
   "execution_count": null,
   "metadata": {},
   "outputs": [],
   "source": [
    "df_2021 = pd.read_csv('../../data/bicing/2021_INFO.csv')\n",
    "df_2021.isna().sum()\n",
    "df_2021.drop(['Unnamed: 0', 'cross_street'], axis=1, inplace=True)\n",
    "df_2021['date'] = pd.to_datetime(df_2021['date'])\n",
    "df_2021 = df_2021[df_2021['date'].dt.year == 2021]\n",
    "df_2021['year'] = 2021\n",
    "df_2021_max_date = df_2021.loc[df_2021.groupby('station_id')['date'].idxmax()]\n",
    "\n",
    "df_2021_max_date.nunique()"
   ]
  },
  {
   "cell_type": "code",
   "execution_count": null,
   "metadata": {},
   "outputs": [],
   "source": [
    "#2024\n",
    "df_2024 = pd.read_csv('../../data/bicing/2024_INFO.csv')\n",
    "df_2024.isna().sum()\n",
    "df_2024.drop(['Unnamed: 0', 'cross_street', 'rental_uris', 'V1', 'is_valet_station', 'x_valet_station_details'], axis=1, inplace=True)\n",
    "df_2024['date'] = pd.to_datetime(df_2024['date'])\n",
    "df_2024['year'] = 2024\n",
    "df_2024 = df_2024[df_2024['date'].dt.year == 2024]\n",
    "df_2024_max_date = df_2024.loc[df_2024.groupby('station_id')['date'].idxmax()]\n",
    "df_2024_max_date.nunique()\n"
   ]
  },
  {
   "cell_type": "code",
   "execution_count": null,
   "metadata": {},
   "outputs": [],
   "source": [
    "#2021\n",
    "df_2021 = pd.read_csv('../../data/bicing/2021_INFO.csv')\n",
    "df_2021.isna().sum()\n",
    "df_2021.drop(['Unnamed: 0', 'cross_street'], axis=1, inplace=True)\n",
    "df_2021['date'] = pd.to_datetime(df_2021['date'])\n",
    "df_2021['mean_capacity'] = df_2021.groupby('station_id')['capacity'].transform('mean')\n",
    "df_2021 = df_2021[df_2021['date'].dt.year == 2021]\n",
    "df_2021['year'] = 2021\n",
    "df_2021_max_date = df_2021.loc[df_2021.groupby('station_id')['date'].idxmax()]\n",
    "df_2021_max_date.nunique()\n"
   ]
  },
  {
   "cell_type": "code",
   "execution_count": null,
   "metadata": {},
   "outputs": [],
   "source": [
    "#2020\n",
    "df_2020 = pd.read_csv('../../data/bicing/2020_INFO.csv')\n",
    "df_2020.isna().sum()\n",
    "df_2020.drop(['Unnamed: 0', 'cross_street', 'planned_date'], axis=1, inplace=True)\n",
    "df_2020['date'] = pd.to_datetime(df_2020['date'])\n",
    "df_2020 = df_2020[df_2020['date'].dt.year == 2020]\n",
    "df_2020['mean_capacity'] = df_2020.groupby('station_id')['capacity'].transform('mean')\n",
    "df_2020['year'] = 2020\n",
    "df_2020_max_date = df_2020.loc[df_2020.groupby('station_id')['date'].idxmax()]\n",
    "df_2020_max_date.nunique()"
   ]
  },
  {
   "cell_type": "code",
   "execution_count": null,
   "metadata": {},
   "outputs": [],
   "source": [
    "#2019\n",
    "df_2019 = pd.read_csv('../../data/bicing/2019_INFO.csv')\n",
    "df_2019.isna().sum()\n",
    "df_2019.drop(['Unnamed: 0', 'cross_street', 'nearby_distance'], axis=1, inplace=True)\n",
    "df_2019['date'] = pd.to_datetime(df_2019['date'])\n",
    "df_2019 = df_2019[df_2019['date'].dt.year == 2019]\n",
    "df_2019['year'] = 2019\n",
    "#mean capacity by station_id\n",
    "df_2019['mean_capacity'] = df_2019.groupby('station_id')['capacity'].mean()\n",
    "\n",
    "df_2019_max_date = df_2019.loc[df_2019.groupby('station_id')['date'].idxmax()]\n",
    "df_2019_max_date.nunique()\n",
    "df_2019_max_date.head()"
   ]
  },
  {
   "cell_type": "code",
   "execution_count": null,
   "metadata": {},
   "outputs": [],
   "source": [
    "df_years = pd.concat([df_2019_max_date, df_2020_max_date, df_2021_max_date, df_2022_max_date, df_2023_max_date, df_2024_max_date])\n",
    "df_years['altitude'] = df_years['altitude'].astype(float)\n",
    "yearly_counts = df_years.groupby('year')['station_id'].count().reset_index(name='total_count')\n",
    "df_years = pd.merge(df_years, yearly_counts, on='year', how='left')\n",
    "df_years.head()"
   ]
  },
  {
   "cell_type": "code",
   "execution_count": null,
   "metadata": {},
   "outputs": [],
   "source": [
    "\n",
    "stations_count_by_year = df_years.groupby('year')['station_id'].count().values\n",
    "total_bikes = df_years.groupby('year')['capacity'].sum().values\n"
   ]
  },
  {
   "cell_type": "code",
   "execution_count": null,
   "metadata": {},
   "outputs": [],
   "source": [
    "# add animation by year\n",
    "import plotly.express as px\n",
    "\n",
    "#draw a map of the stations\n",
    "fig = px.scatter_mapbox(df_years, lat=\"lat\", lon=\"lon\", hover_name=\"station_id\", hover_data=[\"address\",\"post_code\", \"capacity\"], color='capacity',\n",
    "                        color_discrete_sequence=[\"blue\"],\n",
    "                         zoom=11, height=550, width=800,animation_frame='year', title='Stations by Year')\n",
    "fig.update_layout(mapbox_style=\"open-street-map\", margin={\"r\":0,\"t\":80,\"l\":0,\"b\":0},mapbox={\"center\": {\"lat\": 41.40484, \"lon\": 2.17482}}) \n",
    "for i, frame in enumerate(fig.frames):\n",
    "    #get the year from the frame\n",
    "    year = frame.name\n",
    "    frame.layout.title = \"Total Stations: {}\".format(str(stations_count_by_year[i]) + \" Total Bikes: \" + str(int(total_bikes[i])) + \" in year: \" + year)\n",
    "    \n",
    "for step in fig.layout.sliders[0].steps:\n",
    "    step[\"args\"][1][\"frame\"][\"redraw\"] = True\n",
    "fig.show()"
   ]
  },
  {
   "cell_type": "code",
   "execution_count": null,
   "metadata": {},
   "outputs": [],
   "source": [
    "df_years.isnull().sum()\n"
   ]
  },
  {
   "cell_type": "code",
   "execution_count": null,
   "metadata": {},
   "outputs": [],
   "source": [
    "df_2021[df_2021['station_id'] == 2]\n",
    "# check if there are any stations that the capacity decreased by the end of the year\n",
    "df_2021 = df_years.sort_values(by='date')\n",
    "df_2021['capacity_diff'] = df_2021.groupby('station_id')['capacity'].diff()\n",
    "df_2021[df_2021['capacity_diff'] < 0]"
   ]
  },
  {
   "cell_type": "code",
   "execution_count": null,
   "metadata": {},
   "outputs": [],
   "source": [
    "df_2021[df_2021['station_id'] == 32]"
   ]
  },
  {
   "cell_type": "code",
   "execution_count": null,
   "metadata": {},
   "outputs": [],
   "source": [
    "df_2021[df_2021['last_updated'] == 1609369234]"
   ]
  },
  {
   "cell_type": "code",
   "execution_count": null,
   "metadata": {},
   "outputs": [],
   "source": [
    "df_2019['mean_capacity'] = df_2019.groupby('station_id')['capacity'].transform('mean')\n",
    "df_2019.isna().sum()"
   ]
  },
  {
   "cell_type": "code",
   "execution_count": null,
   "metadata": {},
   "outputs": [],
   "source": [
    "#read json aemet\n",
    "import pandas as pd\n",
    "\n",
    "\n",
    "df_aemet = pd.read_json('../../data/bicing/aemet/20230101-20230701.json')\n",
    "df_aemet.columns\n",
    "df_aemet.isna().sum()\n",
    "df_aemet.columns"
   ]
  },
  {
   "cell_type": "code",
   "execution_count": null,
   "metadata": {},
   "outputs": [],
   "source": [
    "#read the metadata json and add to the df only the info in 'campos'\n",
    "\n",
    "df_metadata = pd.read_json('../../data/bicing/aemet/metadata.json')\n",
    "df_metadata.head()\n",
    "a_json = df_metadata['campos']\n",
    "a_dict = a_json.to_dict()\n",
    "df_metadata = pd.DataFrame(dict)\n",
    "df_metadata.head()\n",
    "# the index row should be columns\n",
    "df_metadata = df_metadata.T\n",
    "df_metadata.head(26)"
   ]
  },
  {
   "cell_type": "code",
   "execution_count": null,
   "metadata": {},
   "outputs": [],
   "source": [
    "import plotly.express as px\n",
    "df_aemet['fecha'] = pd.to_datetime(df_aemet['fecha'])\n",
    "\n",
    "#print(df_aemet.info())\n",
    "\n",
    "float_columns = ['tmed', 'prec', 'tmin', 'tmax', 'velmedia', 'racha', 'hrMedia', 'hrMax', 'hrMin']\n",
    "\n",
    "for float_column in float_columns:\n",
    "    print(float_column)\n",
    "    if df_aemet[float_column].dtype == 'object':\n",
    "        df_aemet[float_column] = df_aemet[float_column].str.replace(',', '.').astype(float)\n",
    "\n",
    "df_aemet.info()\n"
   ]
  },
  {
   "cell_type": "code",
   "execution_count": null,
   "metadata": {},
   "outputs": [],
   "source": [
    "df_aemet.describe()"
   ]
  },
  {
   "cell_type": "code",
   "execution_count": null,
   "metadata": {},
   "outputs": [],
   "source": [
    "import pandas as pd\n",
    "\n",
    "df = pd.read_csv('../../data/bicing/2023_11_STATIONS.csv')\n",
    "df.count()"
   ]
  },
  {
   "cell_type": "code",
   "execution_count": null,
   "metadata": {},
   "outputs": [],
   "source": [
    "df[ds_s()"
   ]
  },
  {
   "cell_type": "code",
   "execution_count": null,
   "metadata": {},
   "outputs": [],
   "source": [
    "df_stations = pd.read_csv('../../data/bicing/2024_INFO.csv')\n",
    "#get uniques stations by max capacity\n",
    "df_stations_max_capacity = df_stations.loc[df_stations.groupby('station_id')['capacity'].idxmax()]\n",
    "df_stations_max_capacity\n",
    "\n",
    "#check wich stations are in df_stations but not in df_stations_max_capacity\n",
    "df_location[df_location['station_id'].isin(df_stations_max_capacity['station_id'])]\n",
    "df_location['station_id'].nunique()"
   ]
  },
  {
   "cell_type": "markdown",
   "metadata": {},
   "source": [
    "# IMPORTANT"
   ]
  },
  {
   "cell_type": "code",
   "execution_count": null,
   "metadata": {},
   "outputs": [],
   "source": [
    "df_stations = pd.read_csv('../../data/bicing/2024_INFO.csv')\n",
    "df_stations = df_stations.loc[df_stations.groupby('station_id')['capacity'].idxmax()]\n",
    "df_stations[df_stations['station_id'] == 535]\n",
    "#drop gera_testing_station\n",
    "df_stations = df_stations[df_stations['station_id'] != 535]\n",
    "#post_code for station 35 is incorrect the correct one is C/ SANT RAMON DE PENYAFORT, 1, 08019 Barcelona\n",
    "df_stations.loc[df_stations['station_id'] == 35, 'post_code'] = 8019\n",
    "df_location = df_stations[['station_id', 'lat', 'lon', 'altitude','post_code','capacity','address']]\n",
    "# #make station_id \n",
    "df_location['station_id'] = df_location['station_id'].astype(int)\n",
    "df_location['capacity'] = df_location['capacity'].astype(int)\n",
    "#post_code should be string removing the .0 and add a 0 at the beginning\n",
    "df_location['post_code'] = \"0\" + df_location['post_code'].astype(str).str.replace('.0', '')\n",
    "\n",
    "df_location.drop_duplicates(inplace=True)\n",
    "df_location.to_csv('../../data/bicing/2024_STATION_LOCATIONS.csv', index=False)\n",
    "df_location.head()\n"
   ]
  },
  {
   "cell_type": "code",
   "execution_count": null,
   "metadata": {},
   "outputs": [],
   "source": [
    "\n",
    "df_location.count()\n",
    "#remove duplicates\n"
   ]
  },
  {
   "cell_type": "code",
   "execution_count": null,
   "metadata": {},
   "outputs": [],
   "source": [
    "df_location.count()"
   ]
  },
  {
   "cell_type": "code",
   "execution_count": null,
   "metadata": {},
   "outputs": [],
   "source": []
  },
  {
   "cell_type": "code",
   "execution_count": null,
   "metadata": {},
   "outputs": [],
   "source": [
    "df_stations = pd.read_csv('../../data/bicing/2024_STATION_LOCATIONS.csv')"
   ]
  },
  {
   "cell_type": "code",
   "execution_count": null,
   "metadata": {},
   "outputs": [],
   "source": [
    "# calculate distance between two STATIONS using lat and lon\n",
    "unique_location_pairs = []\n",
    "locations = df_stations[['lat', 'lon']].values\n",
    "# Generate unique pairs\n",
    "for i in range(len(locations)):\n",
    "    for j in range(i + 1, len(locations)):\n",
    "        unique_location_pairs.append((locations[i], locations[j]))\n",
    "\n",
    "len(unique_location_pairs) / 2500\n"
   ]
  },
  {
   "cell_type": "code",
   "execution_count": null,
   "metadata": {},
   "outputs": [],
   "source": [
    "df_stations.head()"
   ]
  },
  {
   "cell_type": "code",
   "execution_count": null,
   "metadata": {},
   "outputs": [],
   "source": [
    "from math import sin, cos, asin, sqrt, radians\n",
    "\n",
    "# Earth's radius in kilometers\n",
    "earth_radius = 6371\n",
    "\n",
    "def haversine(lat1, lon1, lat2, lon2):\n",
    "  \"\"\"\n",
    "  Calculates the distance between two points on a sphere using the Haversine formula.\n",
    "\n",
    "  Args:\n",
    "      lat1: Latitude of the first point in radians.\n",
    "      lon1: Longitude of the first point in radians.\n",
    "      lat2: Latitude of the second point in radians.\n",
    "      lon2: Longitude of the second point in radians.\n",
    "\n",
    "  Returns:\n",
    "      The distance between the two points in kilometers.\n",
    "  \"\"\"\n",
    "  # convert to radians if degrees are provided\n",
    "  lat1 = radians(lat1) if not isinstance(lat1, float) else lat1\n",
    "  lon1 = radians(lon1) if not isinstance(lon1, float) else lon1\n",
    "  lat2 = radians(lat2) if not isinstance(lat2, float) else lat2\n",
    "  lon2 = radians(lon2) if not isinstance(lon2, float) else lon2\n",
    "\n",
    "  dlon = lon2 - lon1\n",
    "  dlat = lat2 - lat1\n",
    "\n",
    "  a = sin(dlat / 2) * sin(dlat / 2) + cos(lat1) * cos(lat2) * sin(dlon / 2) * sin(dlon / 2)\n",
    "  c = 2 * asin(sqrt(a))\n",
    "  distance = earth_radius * c\n",
    "\n",
    "  return distance\n",
    "\n",
    "def generate_points(start_lat, start_lon, distance_min, distance_max):\n",
    "  \"\"\"\n",
    "  Generates a list of latitude and longitude points within a specified distance range from a starting point.\n",
    "\n",
    "  Args:\n",
    "      start_lat: Latitude of the starting point.\n",
    "      start_lon: Longitude of the starting point.\n",
    "      distance_min: Minimum distance in kilometers.\n",
    "      distance_max: Maximum distance in kilometers.\n",
    "\n",
    "  Returns:\n",
    "      A list of dictionaries containing latitude and longitude for each generated point.\n",
    "  \"\"\"\n",
    "\n",
    "  points = []\n",
    "  for distance in range(distance_min * 1000, distance_max * 1000 + 1, 100):  # convert km to meters for calculation\n",
    "    # convert distance to meters for calculation\n",
    "    distance_meters = distance\n",
    "\n",
    "    # calculate end point latitude and longitude using inverse Haversine formula (more complex)\n",
    "    # ... (implementation omitted for brevity)\n",
    "\n",
    "    # for simplicity, assume a perfect sphere (Earth) and calculate end point coordinates\n",
    "    # with a slight offset based on distance and starting point\n",
    "    end_lat = start_lat + (distance_meters / earth_radius) * (1 / cos(radians(start_lat)))\n",
    "    end_lon = start_lon + (distance_meters / earth_radius) * cos(radians(start_lat)) / sin(radians(start_lat))\n",
    "\n",
    "    point = {\n",
    "      \"latitude\": end_lat,\n",
    "      \"longitude\": end_lon\n",
    "    }\n",
    "    points.append(point)\n",
    "\n",
    "  return points\n",
    "\n",
    "# Example usage\n",
    "start_latitude = 1.4095069  # Replace with your starting latitude\n",
    "start_longitude = 2.1885055  # Replace with your starting longitude\n",
    "# 514.0,41.4095069,2.1885055,16.0\n",
    "# Desired distance range in kilometers\n",
    "distance_min = 10\n",
    "distance_max = 15\n",
    "\n",
    "points = generate_points(start_latitude, start_longitude, distance_min, distance_max)\n",
    "\n",
    "# Print the generated points\n",
    "for point in points:\n",
    "  print(f\"Latitude: {point['latitude']:.6f}, Longitude: {point['longitude']:.6f}\")\n",
    "\n",
    "# You can use these points to visualize the area on a map\n"
   ]
  },
  {
   "cell_type": "code",
   "execution_count": null,
   "metadata": {},
   "outputs": [],
   "source": [
    "points\n",
    "df_points = pd.DataFrame(points)\n",
    "df_points.head()\n",
    "#data = pd.DataFrame({\"lat\": lats, \"lon\": lons})"
   ]
  },
  {
   "cell_type": "code",
   "execution_count": null,
   "metadata": {},
   "outputs": [],
   "source": [
    "import plotly.express as px\n",
    "\n",
    "fig = px.scatter_mapbox(\n",
    "    data=df_points,\n",
    "    hover_name=\"Distance\",\n",
    "    hover_data=[distance_min for _ in points],  # Assuming constant distance for simplicity\n",
    "    mapbox_style=\"open-street-map\",\n",
    "    zoom=12,\n",
    "    center=dict(lat=start_latitude, lon=start_longitude)\n",
    ")\n"
   ]
  },
  {
   "cell_type": "code",
   "execution_count": null,
   "metadata": {},
   "outputs": [],
   "source": [
    "import plotly.express as px\n",
    "import plotly.graph_objects as go\n",
    "\n",
    "# Sample data\n",
    "lat, lon = 41.3851, 2.1734  # Coordinates for Barcelona\n",
    "radius_km = 5\n",
    "\n",
    "# Create a scatter mapbox plot\n",
    "fig = px.scatter_mapbox(\n",
    "    lat=[lat],\n",
    "    lon=[lon],\n",
    "    zoom=12,\n",
    "    mapbox_style=\"carto-positron\"\n",
    ")\n",
    "\n",
    "# Function to create a circle\n",
    "def create_circle(lat, lon, radius_km):\n",
    "    import geopy.distance\n",
    "    \n",
    "    lats = []\n",
    "    lons = []\n",
    "    num_points = 100  # Number of points for the circle\n",
    "    \n",
    "    for i in range(num_points):\n",
    "        angle = 360 * i / num_points\n",
    "        destination = geopy.distance.distance(kilometers=radius_km).destination((lat, lon), angle)\n",
    "        lats.append(destination.latitude)\n",
    "        lons.append(destination.longitude)\n",
    "    \n",
    "    return lats, lons\n",
    "\n",
    "# Create a circle and add to the plot\n",
    "lats, lons = create_circle(lat, lon, radius_km)\n",
    "fig.add_trace(go.Scattermapbox(\n",
    "    mode = \"lines\",\n",
    "    lat = lats,\n",
    "    lon = lons,\n",
    "    line = dict(width=2, color='blue'),\n",
    "    name = 'Radius'\n",
    "))\n",
    "\n",
    "fig.show()\n"
   ]
  },
  {
   "cell_type": "code",
   "execution_count": null,
   "metadata": {},
   "outputs": [],
   "source": [
    "!pip install geopy\n"
   ]
  },
  {
   "cell_type": "code",
   "execution_count": null,
   "metadata": {},
   "outputs": [],
   "source": [
    "import pandas as pd\n",
    "# Postal codes and districts in Barcelona\n",
    "barcelona_postal_codes = {\n",
    "    \"08001\": \"Ciutat Vella\",\n",
    "    \"08002\": \"Ciutat Vella\",\n",
    "    \"08003\": \"Ciutat Vella\",\n",
    "    \"08004\": \"Sants-Montjuïc\",\n",
    "    \"08005\": \"Sant Martí\",\n",
    "    \"08006\": \"Sarrià-Sant Gervasi\",\n",
    "    \"08007\": \"Eixample\",\n",
    "    \"08008\": \"Eixample\",\n",
    "    \"08009\": \"Eixample\",\n",
    "    \"08010\": \"Eixample\",\n",
    "    \"08011\": \"Eixample\",\n",
    "    \"08012\": \"Gràcia\",\n",
    "    \"08013\": \"Eixample\",\n",
    "    \"08014\": \"Sants-Montjuïc\",\n",
    "    \"08015\": \"Eixample\",\n",
    "    \"08016\": \"Nou Barris\",\n",
    "    \"08017\": \"Sarrià-Sant Gervasi\",\n",
    "    \"08018\": \"Sant Martí\",\n",
    "    \"08019\": \"Sant Martí\",\n",
    "    \"08020\": \"Sant Martí\",\n",
    "    \"08021\": \"Sarrià-Sant Gervasi\",\n",
    "    \"08022\": \"Sarrià-Sant Gervasi\",\n",
    "    \"08023\": \"Sarrià-Sant Gervasi\",\n",
    "    \"08024\": \"Gràcia\",\n",
    "    \"08025\": \"Horta-Guinardó\",\n",
    "    \"08026\": \"Sant Martí\",\n",
    "    \"08027\": \"Sant Andreu\",\n",
    "    \"08028\": \"Les Corts\",\n",
    "    \"08029\": \"Les Corts\",\n",
    "    \"08030\": \"Sant Andreu\",\n",
    "    \"08031\": \"Nou Barris\",\n",
    "    \"08032\": \"Horta-Guinardó\",\n",
    "    \"08033\": \"Nou Barris\",\n",
    "    \"08034\": \"Les Corts\",\n",
    "    \"08035\": \"Horta-Guinardó\",\n",
    "    \"08036\": \"Eixample\",\n",
    "    \"08037\": \"Eixample\",\n",
    "    \"08038\": \"Sants-Montjuïc\",\n",
    "    \"08039\": \"Sants-Montjuïc\",\n",
    "    \"08040\": \"Sant Martí\",\n",
    "    \"08041\": \"Horta-Guinardó\",\n",
    "    \"08042\": \"Nou Barris\",\n",
    "    \"08043\": \"Sarrià-Sant Gervasi\",\n",
    "    \"08044\": \"Nou Barris\",\n",
    "    \"08045\": \"Sant Andreu\",\n",
    "    \"08046\": \"Sant Andreu\",\n",
    "    \"08047\": \"Nou Barris\",\n",
    "    \"08048\": \"Sant Martí\",\n",
    "    \"08049\": \"Nou Barris\"\n",
    "}\n",
    "# Load the station locations and post_code should be string\n",
    "df_stations = pd.read_csv('../../data/bicing/2024_STATION_LOCATIONS.csv', dtype={'post_code': str})\n",
    "df_stations['district'] = df_stations['post_code'].map(barcelona_postal_codes)"
   ]
  },
  {
   "cell_type": "code",
   "execution_count": null,
   "metadata": {},
   "outputs": [],
   "source": [
    "df_stations"
   ]
  },
  {
   "cell_type": "code",
   "execution_count": null,
   "metadata": {},
   "outputs": [],
   "source": [
    "df_stations.to_csv('../../data/bicing/2024_STATION_LOCATIONS.csv', index=False)"
   ]
  },
  {
   "cell_type": "code",
   "execution_count": null,
   "metadata": {},
   "outputs": [],
   "source": [
    "import plotly.express as px\n",
    "\n",
    "# Assuming 'df_stations' is your DataFrame and it includes 'lat', 'lon', and 'district' columns\n",
    "fig = px.scatter_mapbox(df_stations, lat=\"lat\", lon=\"lon\", color=\"district\",\n",
    "                        hover_name=\"station_id\", hover_data=[\"altitude\", \"post_code\"],\n",
    "                        color_continuous_scale=px.colors.cyclical.IceFire, size_max=15, zoom=10)\n",
    "\n",
    "fig.update_layout(mapbox_style=\"open-street-map\")\n",
    "fig.update_layout(margin={\"r\":0,\"t\":0,\"l\":0,\"b\":0})\n",
    "fig.show()"
   ]
  },
  {
   "cell_type": "code",
   "execution_count": null,
   "metadata": {},
   "outputs": [],
   "source": [
    "import pandas as pd\n",
    "df_month = pd.read_csv('../../data/bicing/raw/2023_01_STATIONS.csv')"
   ]
  },
  {
   "cell_type": "code",
   "execution_count": null,
   "metadata": {},
   "outputs": [],
   "source": [
    "df_month.count()\n"
   ]
  },
  {
   "cell_type": "code",
   "execution_count": null,
   "metadata": {},
   "outputs": [],
   "source": [
    "df_month.head()\n",
    "df_month['ttl'].unique()\n",
    "#drop ttl\n",
    "df_month.drop('ttl', axis=1, inplace=True)\n",
    "df_month.head()\n"
   ]
  },
  {
   "cell_type": "code",
   "execution_count": null,
   "metadata": {},
   "outputs": [],
   "source": [
    "df_month['is_charging_station'].unique()\n",
    "#drop is_charging_station\n",
    "df_month.drop('is_charging_station', axis=1, inplace=True)"
   ]
  },
  {
   "cell_type": "code",
   "execution_count": null,
   "metadata": {},
   "outputs": [],
   "source": [
    "df_month.head()\n",
    "df_month['traffic'].unique()\n",
    "df_month.drop('traffic', axis=1, inplace=True)"
   ]
  },
  {
   "cell_type": "code",
   "execution_count": null,
   "metadata": {},
   "outputs": [],
   "source": [
    "df_month.head()"
   ]
  },
  {
   "cell_type": "code",
   "execution_count": null,
   "metadata": {},
   "outputs": [],
   "source": [
    "df_month[df_month['station_id'] == 3].sort_values(by='last_reported')"
   ]
  },
  {
   "cell_type": "code",
   "execution_count": null,
   "metadata": {},
   "outputs": [],
   "source": [
    "date = 1672527440\n",
    "\n",
    "print(datetime.datetime.fromtimestamp(date))\n",
    "date = 1672527593\n",
    "print(datetime.datetime.fromtimestamp(date))\n",
    "df_month['last_reported'] = pd.to_datetime(df_month['last_reported'], unit='s')\n",
    "df_month['last_updated'] = pd.to_datetime(df_month['last_updated'], unit='s')   \n",
    "df_month.head()"
   ]
  },
  {
   "cell_type": "code",
   "execution_count": null,
   "metadata": {},
   "outputs": [],
   "source": [
    "# will separate the date and time in columns year, month, day, hour, and minute will be divided in 2 values 0 and 30 \n",
    "df_month['year'] = df_month['last_reported'].dt.year\n",
    "df_month['month'] = df_month['last_reported'].dt.month\n",
    "df_month['day'] = df_month['last_reported'].dt.day\n",
    "df_month['hour'] = df_month['last_reported'].dt.hour\n",
    "df_month['minute'] = df_month['last_reported'].dt.minute\n",
    "#group 0-15, 16-30, 31-45, 46-59\n",
    "df_month['grouped_minute'] = df_month['minute'].apply(lambda x: 0 if x < 15 else 15 if x < 30 else 30 if x < 45 else 45)\n",
    "#df_month['grouped_minute'] = df_month['minute'].apply(lambda x: 0 if x < 30 else 30)\n",
    "df_month['day_of_week'] = df_month['last_reported'].dt.dayofweek\n",
    "df_month['is_weekend'] = df_month['day_of_week'].apply(lambda x: 1 if x > 4 else 0)\n",
    "df_month.head(15)"
   ]
  },
  {
   "cell_type": "code",
   "execution_count": null,
   "metadata": {},
   "outputs": [],
   "source": [
    "df_month.drop('last_reported', axis=1, inplace=True)\n",
    "df_month.drop('last_updated', axis=1, inplace=True)\n",
    "\n"
   ]
  },
  {
   "cell_type": "code",
   "execution_count": null,
   "metadata": {},
   "outputs": [],
   "source": [
    "df_month.count()\n"
   ]
  },
  {
   "cell_type": "code",
   "execution_count": null,
   "metadata": {},
   "outputs": [],
   "source": [
    "df_month.drop('minute', axis=1, inplace=True)"
   ]
  },
  {
   "cell_type": "code",
   "execution_count": null,
   "metadata": {},
   "outputs": [],
   "source": [
    "#drop duplicates\n",
    "df_month.drop_duplicates(inplace=True)"
   ]
  },
  {
   "cell_type": "code",
   "execution_count": null,
   "metadata": {},
   "outputs": [],
   "source": [
    "df_month.count()"
   ]
  },
  {
   "cell_type": "code",
   "execution_count": null,
   "metadata": {},
   "outputs": [],
   "source": [
    "4064084 - 2245991\n",
    "# 2345890 records deleted"
   ]
  },
  {
   "cell_type": "code",
   "execution_count": null,
   "metadata": {},
   "outputs": [],
   "source": [
    "df_month[df_month['station_id'] == 3].sort_values(by=['year', 'month', 'day', 'hour', 'grouped_minute'])"
   ]
  },
  {
   "cell_type": "code",
   "execution_count": null,
   "metadata": {},
   "outputs": [],
   "source": [
    "df_month['status'].unique()"
   ]
  },
  {
   "cell_type": "code",
   "execution_count": null,
   "metadata": {},
   "outputs": [],
   "source": [
    "df_month[ (df_month['status']== \"NOT_IN_SERVICE\") & (df_month['station_id'] == 428)].sort_values(by=['year', 'month', 'day', 'hour', 'grouped_minute'])"
   ]
  },
  {
   "cell_type": "code",
   "execution_count": null,
   "metadata": {},
   "outputs": [],
   "source": [
    "df_month[ (df_month['status']== \"MAINTENANCE\") ].sort_values(by=['year', 'month', 'day', 'hour', 'grouped_minute'])"
   ]
  },
  {
   "cell_type": "code",
   "execution_count": null,
   "metadata": {},
   "outputs": [],
   "source": [
    "df_month[ (df_month['status']== \"PLANNED\") ].sort_values(by=['year', 'month', 'day', 'hour', 'grouped_minute'])"
   ]
  },
  {
   "cell_type": "code",
   "execution_count": null,
   "metadata": {},
   "outputs": [],
   "source": [
    "df_month[ (df_month['is_renting']== 0) ].sort_values(by=['year', 'month', 'day', 'hour', 'grouped_minute'])"
   ]
  },
  {
   "cell_type": "code",
   "execution_count": null,
   "metadata": {},
   "outputs": [],
   "source": [
    "df_month[ (df_month['is_returning']== 1) & df_month['status'] == \"IN_SERVICE\" ].sort_values(by=['year', 'month', 'day', 'hour', 'grouped_minute'])"
   ]
  },
  {
   "cell_type": "code",
   "execution_count": null,
   "metadata": {},
   "outputs": [],
   "source": [
    "df_month.info()"
   ]
  },
  {
   "cell_type": "code",
   "execution_count": null,
   "metadata": {},
   "outputs": [],
   "source": [
    "df_month[ (df_month['is_returning']== 0) & (df_month['station_id'] == 428)].sort_values(by=['year', 'month', 'day', 'hour', 'grouped_minute'])"
   ]
  },
  {
   "cell_type": "code",
   "execution_count": null,
   "metadata": {},
   "outputs": [],
   "source": [
    "df_station_428 = df_month[df_month['station_id'] == 428]"
   ]
  },
  {
   "cell_type": "code",
   "execution_count": null,
   "metadata": {},
   "outputs": [],
   "source": [
    "df_station_428.count()"
   ]
  },
  {
   "cell_type": "code",
   "execution_count": null,
   "metadata": {},
   "outputs": [],
   "source": [
    "# check when numbies are < 5 and next record is +4\n",
    "df_station_428['capacity_diff'] = df_station_428['num_bikes_available'].diff()\n"
   ]
  },
  {
   "cell_type": "code",
   "execution_count": null,
   "metadata": {},
   "outputs": [],
   "source": [
    "df_station_428[ (df_station_428['capacity_diff'] > 4) ].sort_values(by=['year', 'month', 'day', 'hour', 'grouped_minute'])"
   ]
  },
  {
   "cell_type": "code",
   "execution_count": null,
   "metadata": {},
   "outputs": [],
   "source": [
    "# 2023\t1\t20\t15\t\n",
    "df_station_428[ (df_station_428['year'] == 2023) & (df_station_428['month'] == 1) & (df_station_428['day'] == 20) & (df_station_428['hour'] > 7)].sort_values(by=['year', 'month', 'day', 'hour', 'grouped_minute'])"
   ]
  },
  {
   "cell_type": "code",
   "execution_count": null,
   "metadata": {},
   "outputs": [],
   "source": [
    "df_month['day_of_week'] = df_month['last_reported'].dt.dayofweek\n",
    "df_month['day_of_week'].unique()"
   ]
  },
  {
   "cell_type": "code",
   "execution_count": null,
   "metadata": {},
   "outputs": [],
   "source": [
    "df_month['grouped_date'] = df_month['year'].astype(str) + '-' + df_month['month'].astype(str) + '-' + df_month['day'].astype(str) + ' ' + df_month['hour'].astype(str) + ':' + df_month['grouped_minute'].astype(str).apply(lambda x: '0' + str(x) if int(x) < 10 else str(x))\n",
    "df_month"
   ]
  },
  {
   "cell_type": "code",
   "execution_count": null,
   "metadata": {},
   "outputs": [],
   "source": [
    "df_stations = pd.read_csv('../../data/bicing/processed/2024_STATION_LOCATIONS.csv')\n",
    "# merge with df_month on station_id\n",
    "df_month = pd.merge(df_month, df_stations, on='station_id', how='left')\n",
    "df_month.head()\n"
   ]
  },
  {
   "cell_type": "code",
   "execution_count": null,
   "metadata": {},
   "outputs": [],
   "source": [
    "#busisest day in january i need the bike diff but using station_id and date grouped as order\n",
    "df_month['bike_available_diff'] = df_month.groupby(['station_id', 'grouped_date'])['num_bikes_available'].diff()\n",
    "\n",
    "df_month"
   ]
  },
  {
   "cell_type": "code",
   "execution_count": null,
   "metadata": {},
   "outputs": [],
   "source": [
    "\n",
    "import plotly.express as px\n",
    "\n",
    "fig = px.scatter_mapbox(df_month, lat=\"lat\", lon=\"lon\", color=\"is_returning\", size=\"capacity\", size_max=12,color_discrete_map={0: \"red\", 1: \"green\"},\n",
    "                        hover_name=\"address\", hover_data=[\"station_id\",\"altitude\", \"post_code\", \"capacity\"], title=\"January's Docking Availability\", animation_frame='grouped_date',\n",
    "                        zoom=11.5, height=630, width=1200)\n",
    "fig.update_layout(mapbox_style=\"open-street-map\", margin={\"r\":0,\"t\":80,\"l\":0,\"b\":0},mapbox={\"center\": {\"lat\": 41.40484, \"lon\": 2.17482}}) \n",
    "fig.show()\n"
   ]
  },
  {
   "cell_type": "code",
   "execution_count": null,
   "metadata": {},
   "outputs": [],
   "source": [
    "s"
   ]
  }
 ],
 "metadata": {
  "kernelspec": {
   "display_name": "Python 3 (ipykernel)",
   "language": "python",
   "name": "python3"
  },
  "language_info": {
   "codemirror_mode": {
    "name": "ipython",
    "version": 3
   },
   "file_extension": ".py",
   "mimetype": "text/x-python",
   "name": "python",
   "nbconvert_exporter": "python",
   "pygments_lexer": "ipython3",
   "version": "3.9.6"
  }
 },
 "nbformat": 4,
 "nbformat_minor": 4
}
