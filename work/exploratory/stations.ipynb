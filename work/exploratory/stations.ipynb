{
 "cells": [
  {
   "cell_type": "code",
   "execution_count": null,
   "metadata": {},
   "outputs": [],
   "source": [
    "import pandas as pd\n"
   ]
  },
  {
   "cell_type": "markdown",
   "metadata": {},
   "source": [
    "## Read Dataframes"
   ]
  },
  {
   "cell_type": "code",
   "execution_count": null,
   "metadata": {},
   "outputs": [],
   "source": [
    "df_2019 = pd.read_csv('../../data/bicing/raw/2019_INFO.csv')\n",
    "df_2020 = pd.read_csv('../../data/bicing/raw/2020_INFO.csv')\n",
    "df_2021 = pd.read_csv('../../data/bicing/raw/2021_INFO.csv')\n",
    "df_2022 = pd.read_csv('../../data/bicing/raw/2022_INFO.csv')\n",
    "df_2023 = pd.read_csv('../../data/bicing/raw/2023_INFO.csv')\n",
    "df_2024 = pd.read_csv('../../data/bicing/raw/2024_INFO.csv')\n"
   ]
  },
  {
   "cell_type": "markdown",
   "metadata": {},
   "source": [
    "## Prepare the data\n",
    "### Drop Columns"
   ]
  },
  {
   "cell_type": "code",
   "execution_count": null,
   "metadata": {},
   "outputs": [],
   "source": [
    "df_2019.drop(['Unnamed: 0', 'cross_street', 'nearby_distance'], axis=1, inplace=True)\n",
    "df_2020.drop(['Unnamed: 0', 'cross_street', 'planned_date'], axis=1, inplace=True)\n",
    "df_2021.drop(['Unnamed: 0', 'cross_street'], axis=1, inplace=True)\n",
    "df_2022.drop(['Unnamed: 0', 'cross_street', 'is_charging_station', 'x_ride_code_support'], axis=1, inplace=True)\n",
    "df_2023.drop(['Unnamed: 0', 'cross_street', 'rental_uris'], axis=1, inplace=True)\n",
    "df_2024.drop(['Unnamed: 0', 'cross_street', 'rental_uris', 'V1', 'is_valet_station', 'x_valet_station_details'], axis=1, inplace=True)\n"
   ]
  },
  {
   "cell_type": "markdown",
   "metadata": {},
   "source": [
    "### Clean Data"
   ]
  },
  {
   "cell_type": "code",
   "execution_count": null,
   "metadata": {},
   "outputs": [],
   "source": [
    "\n",
    "#remove row with invalid post_code\n",
    "df_2019 = df_2019[df_2019['post_code'] != 'J3y8Y9']\n",
    "\n",
    "#remove invalid test rows name='Gera_Testing - 535'\n",
    "df_2024 = df_2024[df_2024['name'] != 'Gera_Testing - 535']\n",
    "\n",
    "#remove invalid station df_2022[df_2022['name'] == 'Planned-527']\n",
    "df_2022 = df_2022[df_2022['name'] != 'Planned-527']\n",
    "\n",
    "#remove invalid rows by keyword\n",
    "key_words = ['prueba', 'test']\n",
    "dfs = [df_2019, df_2020, df_2021, df_2022, df_2023, df_2024]\n",
    "for word in key_words:\n",
    "    for df in dfs:\n",
    "        #print(df[df['name'].str.contains(word, case=False)])\n",
    "        df.drop(df[df['name'].str.contains(word, case=False)].index, inplace=True)\n",
    "\n",
    "#remove temporary stations e.g Merced\n",
    "temporary_stations = [529, 530]\n",
    "for df in dfs:\n",
    "    df.drop(df[df['station_id'].isin(temporary_stations)].index, inplace=True)"
   ]
  },
  {
   "cell_type": "markdown",
   "metadata": {},
   "source": [
    "### Convert Datatypes and filter info"
   ]
  },
  {
   "cell_type": "code",
   "execution_count": null,
   "metadata": {},
   "outputs": [],
   "source": [
    "df_2019['date'] = pd.to_datetime(df_2019['date'])\n",
    "df_2020['date'] = pd.to_datetime(df_2020['date'])\n",
    "df_2021['date'] = pd.to_datetime(df_2021['date'])\n",
    "df_2022['date'] = pd.to_datetime(df_2022['date'])\n",
    "df_2023['date'] = pd.to_datetime(df_2023['date'])\n",
    "df_2024['date'] = pd.to_datetime(df_2024['date'])\n",
    "\n",
    "\n",
    "df_2019[df_2019['date'] == '2019-12-31']\n",
    "df_2020[df_2020['date'] == '2020-12-31']\n",
    "df_2021[df_2021['date'] == '2021-12-31']\n",
    "df_2022[df_2022['date'] == '2022-12-31']\n",
    "df_2023[df_2023['date'] == '2023-12-31']\n",
    "df_2024[df_2024['date'] == '2024-12-31']\n",
    "\n",
    "# postcode to int\n",
    "df_2019['postcode'] = df_2019['post_code'].astype(int)\n",
    "df_2020['postcode'] = df_2020['post_code'].astype(int)\n",
    "df_2021['postcode'] = df_2021['post_code'].astype(int)\n",
    "df_2022['postcode'] = df_2022['post_code'].astype(int)\n",
    "df_2023['postcode'] = df_2023['post_code'].astype(int)\n",
    "df_2024['postcode'] = df_2024['post_code'].astype(int)\n",
    "\n",
    "#station_id to int\n",
    "df_2019['station_id'] = df_2019['station_id'].astype(int)\n",
    "df_2020['station_id'] = df_2020['station_id'].astype(int)\n",
    "df_2021['station_id'] = df_2021['station_id'].astype(int)\n",
    "df_2022['station_id'] = df_2022['station_id'].astype(int)\n",
    "df_2023['station_id'] = df_2023['station_id'].astype(int)\n",
    "df_2024['station_id'] = df_2024['station_id'].astype(int)\n"
   ]
  },
  {
   "cell_type": "markdown",
   "metadata": {},
   "source": [
    "#### Add Year"
   ]
  },
  {
   "cell_type": "code",
   "execution_count": null,
   "metadata": {},
   "outputs": [],
   "source": [
    "df_2019['year'] = 2019\n",
    "df_2020['year'] = 2020\n",
    "df_2021['year'] = 2021\n",
    "df_2022['year'] = 2022\n",
    "df_2023['year'] = 2023\n",
    "df_2024['year'] = 2024\n"
   ]
  },
  {
   "cell_type": "markdown",
   "metadata": {},
   "source": [
    "#### Max Date and Median capacity"
   ]
  },
  {
   "cell_type": "code",
   "execution_count": null,
   "metadata": {},
   "outputs": [],
   "source": [
    "df_2019['median_capacity'] = df_2019.groupby('station_id')['capacity'].transform('median')\n",
    "df_2020['median_capacity'] = df_2020.groupby('station_id')['capacity'].transform('median')\n",
    "df_2021['median_capacity'] = df_2021.groupby('station_id')['capacity'].transform('median')\n",
    "df_2022['median_capacity'] = df_2022.groupby('station_id')['capacity'].transform('median')\n",
    "df_2023['median_capacity'] = df_2023.groupby('station_id')['capacity'].transform('median')\n",
    "df_2024['median_capacity'] = df_2024.groupby('station_id')['capacity'].transform('median')\n",
    "\n"
   ]
  },
  {
   "cell_type": "code",
   "execution_count": null,
   "metadata": {},
   "outputs": [],
   "source": [
    "columns_to_keep = ['station_id', 'date', 'name', 'address', 'capacity', 'year', 'median_capacity', 'post_code','lat','lon','altitude']\n",
    "df_2019 = df_2019[columns_to_keep]\n",
    "df_2020 = df_2020[columns_to_keep]\n",
    "df_2021 = df_2021[columns_to_keep]\n",
    "df_2022 = df_2022[columns_to_keep]\n",
    "df_2023 = df_2023[columns_to_keep]\n",
    "df_2024 = df_2024[columns_to_keep]"
   ]
  },
  {
   "cell_type": "code",
   "execution_count": null,
   "metadata": {},
   "outputs": [],
   "source": [
    "df_2019_max_date = df_2019.loc[df_2019.groupby('station_id')['date'].idxmax()]\n",
    "df_2020_max_date = df_2020.loc[df_2020.groupby('station_id')['date'].idxmax()]\n",
    "df_2021_max_date = df_2021.loc[df_2021.groupby('station_id')['date'].idxmax()]\n",
    "df_2022_max_date = df_2022.loc[df_2022.groupby('station_id')['date'].idxmax()]\n",
    "df_2023_max_date = df_2023.loc[df_2023.groupby('station_id')['date'].idxmax()]\n",
    "df_2024_max_date = df_2024.loc[df_2024.groupby('station_id')['date'].idxmax()]"
   ]
  },
  {
   "cell_type": "markdown",
   "metadata": {},
   "source": [
    "### Concat DF in years_df"
   ]
  },
  {
   "cell_type": "code",
   "execution_count": null,
   "metadata": {},
   "outputs": [],
   "source": [
    "df_years = pd.concat([df_2019_max_date, df_2020_max_date, df_2021_max_date, df_2022_max_date, df_2023_max_date, df_2024_max_date], ignore_index=True)\n",
    "#order by date\n",
    "df_years.sort_values(by='date', inplace=True)\n",
    "#\n",
    "print(df_years['year'].value_counts())\n"
   ]
  },
  {
   "cell_type": "code",
   "execution_count": null,
   "metadata": {},
   "outputs": [],
   "source": [
    "df_years.head(4)"
   ]
  },
  {
   "cell_type": "markdown",
   "metadata": {},
   "source": [
    "### Scatter Map"
   ]
  },
  {
   "cell_type": "code",
   "execution_count": null,
   "metadata": {},
   "outputs": [],
   "source": [
    "import plotly.express as px\n",
    "\n",
    "stations_count_by_year = df_years.groupby('year')['station_id'].count().values\n",
    "total_bikes = df_years.groupby('year')['median_capacity'].sum().values\n",
    "min_capacity = df_years['median_capacity'].min() \n",
    "max_capacity = df_years['median_capacity'].max() \n",
    "# add threshold to color\n",
    "print(min_capacity, max_capacity)\n",
    "fig = px.scatter_mapbox(df_years, lat=\"lat\", lon=\"lon\", hover_name=\"station_id\", hover_data=[\"address\",\"post_code\", \"capacity\", \"altitude\"], color='capacity',\n",
    "                        #color_continuous_scale=px.colors.sequential.Viridis, \n",
    "                         zoom=11, height=630, width=800,animation_frame='year', title='Stations by Year', range_color=[min_capacity, max_capacity])\n",
    "fig.update_layout(mapbox_style=\"open-street-map\", margin={\"r\":0,\"t\":80,\"l\":0,\"b\":0},mapbox={\"center\": {\"lat\": 41.40484, \"lon\": 2.17482}}) \n",
    "\n",
    "for i, frame in enumerate(fig.frames):\n",
    "    year = frame.name\n",
    "    frame.layout.title = \"Total Stations: {}\".format(str(stations_count_by_year[i]) + \" Total Slots for Bikes: \" + str(int(total_bikes[i])) + \" in  \" + year)\n",
    "    \n",
    "for step in fig.layout.sliders[0].steps:\n",
    "    step[\"args\"][1][\"frame\"][\"redraw\"] = True\n",
    "fig.show()\n"
   ]
  },
  {
   "cell_type": "markdown",
   "metadata": {
    "vscode": {
     "languageId": "html"
    }
   },
   "source": [
    "<img src=\"../assets/map.png\" width=\"800\" />"
   ]
  },
  {
   "cell_type": "code",
   "execution_count": null,
   "metadata": {},
   "outputs": [],
   "source": [
    "from IPython.display import Image\n",
    "Image(filename=\"../../assets/map.png\")"
   ]
  },
  {
   "cell_type": "code",
   "execution_count": null,
   "metadata": {},
   "outputs": [],
   "source": [
    "df_years[df_years['median_capacity'] == 12]"
   ]
  },
  {
   "cell_type": "code",
   "execution_count": null,
   "metadata": {},
   "outputs": [],
   "source": [
    "import pandas as pd\n",
    "df_station_locations =pd.read_csv('../../data/bicing/processed/2024_STATION_LOCATIONS.csv', dtype={'post_code': str})\n",
    "df_station_locations"
   ]
  },
  {
   "cell_type": "code",
   "execution_count": null,
   "metadata": {},
   "outputs": [],
   "source": [
    "import plotly.express as px\n",
    "import pandas as pd\n",
    "\n",
    "df_station_locations =pd.read_csv('../../data/bicing/processed/2024_STATION_LOCATIONS.csv', dtype={'post_code': str})\n",
    "# Assuming 'df_stations' is your DataFrame and it includes 'lat', 'lon', and 'district' columns\n",
    "fig = px.scatter_mapbox(df_station_locations, lat=\"lat\", lon=\"lon\", color=\"district\", size=\"capacity\", size_max=12,\n",
    "                        hover_name=\"address\", hover_data=[\"station_id\",\"altitude\", \"post_code\", \"capacity\"], title=\"Stations by District\",\n",
    "                        zoom=11.5, height=630, width=1200)\n",
    "fig.update_layout(mapbox_style=\"open-street-map\", margin={\"r\":0,\"t\":80,\"l\":0,\"b\":0},mapbox={\"center\": {\"lat\": 41.40484, \"lon\": 2.17482}}) \n",
    "fig.show()"
   ]
  },
  {
   "cell_type": "code",
   "execution_count": null,
   "metadata": {},
   "outputs": [],
   "source": [
    "#total stations per discrict and have column as total stations\n",
    "from plotly.subplots import make_subplots\n",
    "import plotly.express as px\n",
    "import plotly.graph_objects as go\n",
    "\n",
    "fig1 = px.bar(df_station_locations.groupby('district')['capacity'].sum(), \n",
    "    title='Total Bikes by District', labels={'value':'Total Bikes', 'district':'District'},\n",
    "    height=600, \n",
    "    width=800,\n",
    "    color_discrete_sequence=px.colors.qualitative.Set3)\n",
    "\n",
    "fig2 = px.bar(df_station_locations.groupby('district')['station_id'].count().reset_index(name='total_stations'), \n",
    "    x='district', y='total_stations',\n",
    "    title='Total Stations by District', labels={'total_stations':'Total Stations', 'district':'District'},\n",
    "    color_continuous_scale='thermal',\n",
    "    height=600, \n",
    "    width=800)\n",
    "\n",
    "fig = make_subplots(rows=1, cols=2, subplot_titles=('Total Bikes by District', 'Total Stations by District'))\n",
    "\n",
    "\n",
    "fig.add_trace(fig2['data'][0], row=1, col=2)\n",
    "\n",
    "for trace in fig1.data:\n",
    "    trace.showlegend = False  # Hide the legend for this trace\n",
    "    fig.add_trace(trace, row=1, col=1)\n",
    "\n",
    "fig.update_layout(height=500, width=1000, title_text=\"Total Bikes and Stations by District\",title_font=dict(size=24, family=\"Arial, sans-serif\"), title_x=0.5)\n",
    "fig.show()"
   ]
  },
  {
   "cell_type": "code",
   "execution_count": null,
   "metadata": {},
   "outputs": [],
   "source": [
    "import pandas as pd\n",
    "df_station_locations =pd.read_csv('../../data/bicing/processed/2024_STATION_LOCATIONS.csv', dtype={'post_code': str})\n",
    "df_station_locations.sort_values(by='capacity', ascending=False, inplace=True)"
   ]
  },
  {
   "cell_type": "code",
   "execution_count": null,
   "metadata": {},
   "outputs": [],
   "source": [
    "from plotly.subplots import make_subplots\n",
    "import plotly.express as px\n",
    "import plotly.graph_objects as go\n",
    "\n",
    "# Create subplots\n",
    "fig = make_subplots(rows=1, cols=2, subplot_titles=(\"Density Heatmap of Stations by Capacity\", \"Area with Highest Capacity\"),\n",
    "                    specs=[[{\"type\": \"xy\"}, {\"type\": \"scattermapbox\"}]])\n",
    "\n",
    "# Create the density heatmap\n",
    "heatmap = px.density_heatmap(df_station_locations, x='lat', y='lon', z='capacity',\n",
    "                             color_continuous_scale='fall')\n",
    "\n",
    "# Normalize capacity values for color scale\n",
    "norm_capacity = (df_station_locations['capacity'] - df_station_locations['capacity'].min()) / (df_station_locations['capacity'].max() - df_station_locations['capacity'].min())\n",
    "colorscale = px.colors.sample_colorscale('thermal', norm_capacity)\n",
    "\n",
    "# Add heatmap to the first subplot\n",
    "for trace in heatmap.data:\n",
    "    fig.add_trace(trace, row=1, col=1)\n",
    "\n",
    "fig.add_trace(go.Scattermapbox(\n",
    "    lat=df_station_locations['lat'],\n",
    "    lon=df_station_locations['lon'],\n",
    "    mode='markers',\n",
    "    marker=go.scattermapbox.Marker(\n",
    "        size=10,\n",
    "        color=colorscale,\n",
    "    ),\n",
    "    text=df_station_locations['address'] + ' lon=' + df_station_locations['lat'].astype(\n",
    "        str) + ' lon=' + df_station_locations['lon'].astype(str) + ' ' + df_station_locations['capacity'].astype(str) + ' bikes',\n",
    "    hoverinfo='text',\n",
    "    name='Stations'\n",
    "), row=1, col=2)\n",
    "\n",
    "highest_density_lat = 41.385\n",
    "highest_density_lon = 2.16999\n",
    "\n",
    "fig.add_trace(go.Scattermapbox(\n",
    "    lat=[highest_density_lat],\n",
    "    lon=[highest_density_lon],\n",
    "    mode='markers',\n",
    "    marker=go.scattermapbox.Marker(\n",
    "        size=30,\n",
    "        color='green',\n",
    "        opacity=0.7\n",
    "    ),\n",
    "    text='Highest lat=41.385, lon=2.17',\n",
    "    hoverinfo='text',\n",
    "    name='Highest Density'\n",
    "), row=1, col=2)\n",
    "# Update layout for the mapbox subplot\n",
    "fig.update_layout(\n",
    "    mapbox=dict(\n",
    "        style=\"open-street-map\",\n",
    "        domain={'x': [0.55, 1.0], 'y': [0, 1]},\n",
    "        center=dict(lat=41.38, lon=2.16999),\n",
    "        zoom=11.5\n",
    "    ),\n",
    "    height=600,\n",
    "    width=1300,\n",
    "    title_text=\"Station Capacity Analysis\",title_font=dict(size=24, family=\"Arial, sans-serif\"), title_x=0.5,\n",
    "    margin={\"r\": 0, \"t\": 80, \"l\": 0, \"b\": 0},\n",
    "    legend=dict(\n",
    "        x=1.1,  \n",
    "        y=1,\n",
    "        traceorder='normal',\n",
    "        orientation='v' \n",
    "    )\n",
    ")\n",
    "fig.show()"
   ]
  },
  {
   "cell_type": "markdown",
   "metadata": {},
   "source": [
    "## Busiest Days"
   ]
  },
  {
   "cell_type": "code",
   "execution_count": null,
   "metadata": {},
   "outputs": [],
   "source": [
    "import pandas as pd\n",
    "df_busiest_day_may = pd.read_csv('../../data/bicing/processed/months/days/0530_2023_05_busiest_day.csv')"
   ]
  },
  {
   "cell_type": "code",
   "execution_count": null,
   "metadata": {},
   "outputs": [],
   "source": [
    "import plotly.express as px\n",
    "\n",
    "# Assuming df_month_busiest_days is your DataFrame and it includes the 'is_returning' column with values 0 and 1\n",
    "fig = px.scatter_mapbox(df_busiest_day_may, lat=\"lat\", lon=\"lon\", color=\"bikes_available\", # size=\"num_bikes_available\",size_max=2,\n",
    "                        color_discrete_map={0: \"red\", 1: \"green\"},\n",
    "                        hover_name=\"address\", hover_data=[\"station_id\", \"altitude\", \"post_code\", \"capacity\",\"num_bikes_available\"],\n",
    "                        title=\"May's busiest day Bikes Availability\",\n",
    "                        animation_frame='grouped_date',\n",
    "                        zoom=11.5, height=630, width=800,\n",
    "                        category_orders={\"bikes_available\": [0, 1]})  # Explicitly setting the order of categories\n",
    "\n",
    "fig.update_layout(mapbox_style=\"open-street-map\",\n",
    "                  margin={\"r\": 0, \"t\": 80, \"l\": 0, \"b\": 0},\n",
    "                  mapbox={\"center\": {\"lat\": 41.40484, \"lon\": 2.17482}})\n",
    "\n",
    "for i, frame in enumerate(fig.frames):\n",
    "    time_frame = frame.name[-5:]\n",
    "    frame.layout.title = \"May's busiest day Bikes Availability At: {}\".format(str(time_frame))\n",
    "    \n",
    "fig.show()"
   ]
  },
  {
   "cell_type": "code",
   "execution_count": null,
   "metadata": {},
   "outputs": [],
   "source": [
    "import plotly.express as px\n",
    "\n",
    "fig = px.scatter_mapbox(df_busiest_day_may, lat=\"lat\", lon=\"lon\", color=\"docking_available\",\n",
    "                        color_discrete_map={0: \"red\", 1: \"green\"},\n",
    "                        hover_name=\"address\", hover_data=[\"station_id\", \"altitude\", \"post_code\", \"capacity\"],\n",
    "                        title=\"May's busiest day Docking Availability\",\n",
    "                        animation_frame='grouped_date',\n",
    "                        zoom=11.5, height=630, width=800,\n",
    "                        category_orders={\"docking_available\": [0, 1]})  # Explicitly setting the order of categories\n",
    "\n",
    "fig.update_layout(mapbox_style=\"open-street-map\",\n",
    "                  margin={\"r\": 0, \"t\": 80, \"l\": 0, \"b\": 0},\n",
    "                  mapbox={\"center\": {\"lat\": 41.40484, \"lon\": 2.17482}})\n",
    "\n",
    "for i, frame in enumerate(fig.frames):\n",
    "    time_frame = frame.name[-5:]\n",
    "    frame.layout.title = \"May's busiest day Docking Availability At: {}\".format(str(time_frame))\n",
    "\n",
    "fig.show()"
   ]
  },
  {
   "cell_type": "markdown",
   "metadata": {},
   "source": [
    "### July"
   ]
  },
  {
   "cell_type": "code",
   "execution_count": null,
   "metadata": {},
   "outputs": [],
   "source": [
    "import pandas as pd\n",
    "df_busiest_day_july = pd.read_csv('../../data/bicing/processed/months/days/076_2023_07_busiest_day.csv')"
   ]
  },
  {
   "cell_type": "code",
   "execution_count": null,
   "metadata": {},
   "outputs": [],
   "source": [
    "import plotly.express as px\n",
    "\n",
    "# Assuming df_month_busiest_days is your DataFrame and it includes the 'is_returning' column with values 0 and 1\n",
    "fig = px.scatter_mapbox(df_busiest_day_july, lat=\"lat\", lon=\"lon\", color=\"bikes_available\", # size=\"num_bikes_available\",size_max=2,\n",
    "                        color_discrete_map={0: \"red\", 1: \"green\"},\n",
    "                        hover_name=\"address\", hover_data=[\"station_id\", \"altitude\", \"post_code\", \"capacity\",\"num_bikes_available\"],\n",
    "                        title=\"July's busiest day Bikes Availability\",\n",
    "                        animation_frame='grouped_date',\n",
    "                        zoom=11.5, height=630, width=800,\n",
    "                        category_orders={\"bikes_available\": [0, 1]})  # Explicitly setting the order of categories\n",
    "\n",
    "fig.update_layout(mapbox_style=\"open-street-map\",\n",
    "                  margin={\"r\": 0, \"t\": 80, \"l\": 0, \"b\": 0},\n",
    "                  mapbox={\"center\": {\"lat\": 41.40484, \"lon\": 2.17482}})\n",
    "\n",
    "for i, frame in enumerate(fig.frames):\n",
    "    time_frame = frame.name[-5:]\n",
    "    frame.layout.title = \"July's busiest day Bikes Availability At: {}\".format(str(time_frame))\n",
    "    \n",
    "fig.show()"
   ]
  },
  {
   "cell_type": "code",
   "execution_count": null,
   "metadata": {},
   "outputs": [],
   "source": [
    "import plotly.express as px\n",
    "\n",
    "fig = px.scatter_mapbox(df_busiest_day_july, lat=\"lat\", lon=\"lon\", color=\"docking_available\",\n",
    "                        color_discrete_map={0: \"red\", 1: \"green\"},\n",
    "                        hover_name=\"address\", hover_data=[\"station_id\", \"altitude\", \"post_code\", \"capacity\"],\n",
    "                        title=\"July's busiest day Docking Availability\",\n",
    "                        animation_frame='grouped_date',\n",
    "                        zoom=11.5, height=630, width=800,\n",
    "                        category_orders={\"docking_available\": [0, 1]})  # Explicitly setting the order of categories\n",
    "\n",
    "fig.update_layout(mapbox_style=\"open-street-map\",\n",
    "                  margin={\"r\": 0, \"t\": 80, \"l\": 0, \"b\": 0},\n",
    "                  mapbox={\"center\": {\"lat\": 41.40484, \"lon\": 2.17482}})\n",
    "\n",
    "for i, frame in enumerate(fig.frames):\n",
    "    time_frame = frame.name[-5:]\n",
    "    frame.layout.title = \"July's busiest day Docking Availability At: {}\".format(str(time_frame))\n",
    "\n",
    "fig.show()"
   ]
  },
  {
   "cell_type": "code",
   "execution_count": null,
   "metadata": {},
   "outputs": [],
   "source": []
  }
 ],
 "metadata": {
  "kernelspec": {
   "display_name": "Python 3 (ipykernel)",
   "language": "python",
   "name": "python3"
  },
  "language_info": {
   "codemirror_mode": {
    "name": "ipython",
    "version": 3
   },
   "file_extension": ".py",
   "mimetype": "text/x-python",
   "name": "python",
   "nbconvert_exporter": "python",
   "pygments_lexer": "ipython3",
   "version": "3.9.6"
  }
 },
 "nbformat": 4,
 "nbformat_minor": 4
}
