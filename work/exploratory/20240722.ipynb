{
 "cells": [
  {
   "cell_type": "code",
   "execution_count": null,
   "metadata": {
    "tags": []
   },
   "outputs": [],
   "source": [
    "#Prepare Dataset for Jan 2023\n",
    "\n",
    "import pandas as pd\n",
    "#import datetime\n",
    "\n",
    "\n",
    "df_month = pd.read_csv('../../data/bicing/raw/2023_01_STATIONS.csv')\n",
    "\n",
    "#Drop columns\n",
    "df_month.drop('ttl', axis=1, inplace=True)\n",
    "df_month.drop('is_charging_station', axis=1, inplace=True)\n",
    "df_month.drop('traffic', axis=1, inplace=True)\n",
    "\n",
    "#change datetime type\n",
    "df_month['last_reported'] = pd.to_datetime(df_month['last_reported'], unit='s')\n",
    "df_month['last_updated'] = pd.to_datetime(df_month['last_updated'], unit='s')   \n",
    "\n",
    "df_month['year'] = df_month['last_reported'].dt.year\n",
    "df_month['month'] = df_month['last_reported'].dt.month\n",
    "df_month['day'] = df_month['last_reported'].dt.day\n",
    "df_month['hour'] = df_month['last_reported'].dt.hour\n",
    "df_month['minute'] = df_month['last_reported'].dt.minute\n",
    "#group 0-15, 16-30, 31-45, 46-59\n",
    "df_month['grouped_minute'] = df_month['minute'].apply(lambda x: 0 if x < 15 else 15 if x < 30 else 30 if x < 45 else 45)\n",
    "#df_month['grouped_minute'] = df_month['minute'].apply(lambda x: 0 if x < 30 else 30)\n",
    "df_month['day_of_week'] = df_month['last_reported'].dt.dayofweek\n",
    "df_month['is_weekend'] = df_month['day_of_week'].apply(lambda x: 1 if x > 4 else 0)\n",
    "df_month['grouped_date'] = df_month['year'].astype(str) + '-' + df_month['month'].astype(str) + '-' + df_month['day'].astype(str) + ' ' + df_month['hour'].astype(str) + ':' + df_month['grouped_minute'].astype(str).apply(lambda x: '0' + str(x) if int(x) < 10 else str(x))\n",
    "\n",
    "# drop unique columns for date\n",
    "df_month.drop('last_reported', axis=1, inplace=True)\n",
    "df_month.drop('last_updated', axis=1, inplace=True)\n",
    "df_month.drop('minute', axis=1, inplace=True)\n",
    "\n",
    "df_month.drop_duplicates(inplace=True)\n",
    "df_month.count()"
   ]
  },
  {
   "cell_type": "code",
   "execution_count": null,
   "metadata": {
    "tags": []
   },
   "outputs": [],
   "source": [
    "#busisest day in january i need the bike diff but using station_id and date grouped as order\n",
    "df_month['bike_available_diff'] = df_month.groupby(['station_id'])['num_bikes_available'].diff()\n",
    "\n",
    "df_month.head(2)"
   ]
  },
  {
   "cell_type": "code",
   "execution_count": null,
   "metadata": {
    "tags": []
   },
   "outputs": [],
   "source": [
    "# sum all the diff as positive to count movements by grouped_date to see the busiest day\n",
    "df_month['bike_available_diff'] = df_month['bike_available_diff'].apply(lambda x: abs(x))\n",
    "df_month_busiest_days = df_month.groupby('day').agg({'bike_available_diff': 'sum'}).reset_index()\n",
    "df_month_busiest_days.sort_values(by='bike_available_diff', ascending=False).head(10)"
   ]
  },
  {
   "cell_type": "code",
   "execution_count": null,
   "metadata": {
    "tags": []
   },
   "outputs": [],
   "source": [
    "busiest_day = df_month[df_month['day'] == 13]\n",
    "busiest_day.head(2)"
   ]
  },
  {
   "cell_type": "code",
   "execution_count": null,
   "metadata": {
    "tags": []
   },
   "outputs": [],
   "source": [
    "df_stations = pd.read_csv('../../data/bicing/processed/2024_STATION_LOCATIONS.csv')\n",
    "df_month_busiest_days = busiest_day.merge(df_stations, on='station_id', how='left')\n",
    "df_month_busiest_days.head(3)"
   ]
  },
  {
   "cell_type": "code",
   "execution_count": null,
   "metadata": {},
   "outputs": [],
   "source": [
    "#df_month_busiest_days[df_month_busiest_days['is_returning'] == 0]"
   ]
  },
  {
   "cell_type": "code",
   "execution_count": null,
   "metadata": {
    "tags": []
   },
   "outputs": [],
   "source": [
    "df_month_busiest_days['docking_available'] = df_month_busiest_days['num_docks_available'].apply(lambda x: False if x == 0 else True)\n",
    "#df_month_busiest_days['docking_available'] = df_month_busiest_days['is_returning'].apply(lambda x: x if x == 1 else False)"
   ]
  },
  {
   "cell_type": "code",
   "execution_count": null,
   "metadata": {
    "tags": []
   },
   "outputs": [],
   "source": [
    "import plotly.express as px\n",
    "\n",
    "# Assuming df_month_busiest_days is your DataFrame and it includes the 'is_returning' column with values 0 and 1\n",
    "fig = px.scatter_mapbox(df_month_busiest_days, lat=\"lat\", lon=\"lon\", color=\"docking_available\",\n",
    "                        color_discrete_map={0: \"red\", 1: \"green\"},\n",
    "                        hover_name=\"address\", hover_data=[\"station_id\", \"altitude\", \"post_code\", \"capacity\"],\n",
    "                        title=\"January's busiest day Docking Availability\",\n",
    "                        animation_frame='grouped_date',\n",
    "                        zoom=11.5, height=630, width=1200,\n",
    "                        category_orders={\"docking_available\": [0, 1]})  # Explicitly setting the order of categories\n",
    "\n",
    "fig.update_layout(mapbox_style=\"open-street-map\",\n",
    "                  margin={\"r\": 0, \"t\": 80, \"l\": 0, \"b\": 0},\n",
    "                  mapbox={\"center\": {\"lat\": 41.40484, \"lon\": 2.17482}})\n",
    "\n",
    "for i, frame in enumerate(fig.frames):\n",
    "    time_frame = frame.name[-5:]\n",
    "    frame.layout.title = \"January's busiest day Docking Availability At: {}\".format(str(time_frame))\n",
    "\n",
    "fig.show()"
   ]
  },
  {
   "cell_type": "code",
   "execution_count": null,
   "metadata": {
    "tags": []
   },
   "outputs": [],
   "source": [
    "df_month_busiest_days['bikes_available'] = df_month_busiest_days['num_bikes_available'].apply(lambda x: False if x == 0 else True)\n",
    "#df_month_busiest_days['bikes_available'] = df_month_busiest_days['is_renting'].apply(lambda x: x if x == 1 else False)\n"
   ]
  },
  {
   "cell_type": "code",
   "execution_count": null,
   "metadata": {
    "tags": []
   },
   "outputs": [],
   "source": [
    "import plotly.express as px\n",
    "\n",
    "# Assuming df_month_busiest_days is your DataFrame and it includes the 'is_returning' column with values 0 and 1\n",
    "fig = px.scatter_mapbox(df_month_busiest_days, lat=\"lat\", lon=\"lon\", color=\"bikes_available\", # size=\"num_bikes_available\",size_max=2,\n",
    "                        color_discrete_map={0: \"red\", 1: \"green\"},\n",
    "                        hover_name=\"address\", hover_data=[\"station_id\", \"altitude\", \"post_code\", \"capacity\",\"num_bikes_available\"],\n",
    "                        title=\"January's busiest day Bikes Availability\",\n",
    "                        animation_frame='grouped_date',\n",
    "                        zoom=11.5, height=630, width=1200,\n",
    "                        category_orders={\"bikes_available\": [0, 1]})  # Explicitly setting the order of categories\n",
    "\n",
    "fig.update_layout(mapbox_style=\"open-street-map\",\n",
    "                  margin={\"r\": 0, \"t\": 80, \"l\": 0, \"b\": 0},\n",
    "                  mapbox={\"center\": {\"lat\": 41.40484, \"lon\": 2.17482}})\n",
    "\n",
    "for i, frame in enumerate(fig.frames):\n",
    "    time_frame = frame.name[-5:]\n",
    "    frame.layout.title = \"January's busiest day Bikes Availability At: {}\".format(str(time_frame))\n",
    "    \n",
    "fig.show()"
   ]
  },
  {
   "cell_type": "code",
   "execution_count": null,
   "metadata": {},
   "outputs": [],
   "source": []
  }
 ],
 "metadata": {
  "kernelspec": {
   "display_name": "Python 3 (ipykernel)",
   "language": "python",
   "name": "python3"
  },
  "language_info": {
   "codemirror_mode": {
    "name": "ipython",
    "version": 3
   },
   "file_extension": ".py",
   "mimetype": "text/x-python",
   "name": "python",
   "nbconvert_exporter": "python",
   "pygments_lexer": "ipython3",
   "version": "3.11.7"
  },
  "widgets": {
   "application/vnd.jupyter.widget-state+json": {
    "state": {},
    "version_major": 2,
    "version_minor": 0
   }
  }
 },
 "nbformat": 4,
 "nbformat_minor": 4
}
