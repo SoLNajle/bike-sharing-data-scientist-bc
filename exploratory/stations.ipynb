{
 "cells": [
  {
   "cell_type": "code",
   "execution_count": null,
   "metadata": {},
   "outputs": [],
   "source": [
    "import pandas as pd\n"
   ]
  },
  {
   "cell_type": "code",
   "execution_count": null,
   "metadata": {},
   "outputs": [],
   "source": []
  },
  {
   "cell_type": "markdown",
   "metadata": {},
   "source": [
    "## Read Dataframes"
   ]
  },
  {
   "cell_type": "code",
   "execution_count": null,
   "metadata": {},
   "outputs": [
    {
     "name": "stderr",
     "output_type": "stream",
     "text": [
      "/var/folders/1j/zxqksxbs0bg17c_9cj2hm8bh0000gn/T/ipykernel_36389/1577800796.py:1: DtypeWarning:\n",
      "\n",
      "Columns (7,9) have mixed types. Specify dtype option on import or set low_memory=False.\n",
      "\n",
      "/var/folders/1j/zxqksxbs0bg17c_9cj2hm8bh0000gn/T/ipykernel_36389/1577800796.py:2: DtypeWarning:\n",
      "\n",
      "Columns (15) have mixed types. Specify dtype option on import or set low_memory=False.\n",
      "\n",
      "/var/folders/1j/zxqksxbs0bg17c_9cj2hm8bh0000gn/T/ipykernel_36389/1577800796.py:4: DtypeWarning:\n",
      "\n",
      "Columns (15,16) have mixed types. Specify dtype option on import or set low_memory=False.\n",
      "\n",
      "/var/folders/1j/zxqksxbs0bg17c_9cj2hm8bh0000gn/T/ipykernel_36389/1577800796.py:6: DtypeWarning:\n",
      "\n",
      "Columns (19) have mixed types. Specify dtype option on import or set low_memory=False.\n",
      "\n"
     ]
    }
   ],
   "source": [
    "df_2019 = pd.read_csv('../data/2019_INFO.csv')\n",
    "df_2020 = pd.read_csv('../data/2020_INFO.csv')\n",
    "df_2021 = pd.read_csv('../data/2021_INFO.csv')\n",
    "df_2022 = pd.read_csv('../data/2022_INFO.csv')\n",
    "df_2023 = pd.read_csv('../data/2023_INFO.csv')\n",
    "df_2024 = pd.read_csv('../data/2024_INFO.csv')\n"
   ]
  },
  {
   "cell_type": "markdown",
   "metadata": {},
   "source": [
    "## Prepare the data\n",
    "### Drop Columns"
   ]
  },
  {
   "cell_type": "code",
   "execution_count": null,
   "metadata": {},
   "outputs": [],
   "source": [
    "df_2019.drop(['Unnamed: 0', 'cross_street', 'nearby_distance'], axis=1, inplace=True)\n",
    "df_2020.drop(['Unnamed: 0', 'cross_street', 'planned_date'], axis=1, inplace=True)\n",
    "df_2021.drop(['Unnamed: 0', 'cross_street'], axis=1, inplace=True)\n",
    "df_2022.drop(['Unnamed: 0', 'cross_street', 'is_charging_station', 'x_ride_code_support'], axis=1, inplace=True)\n",
    "df_2023.drop(['Unnamed: 0', 'cross_street', 'rental_uris'], axis=1, inplace=True)\n",
    "df_2024.drop(['Unnamed: 0', 'cross_street', 'rental_uris', 'V1', 'is_valet_station', 'x_valet_station_details'], axis=1, inplace=True)\n"
   ]
  },
  {
   "cell_type": "markdown",
   "metadata": {},
   "source": [
    "### Clean Data"
   ]
  },
  {
   "cell_type": "code",
   "execution_count": null,
   "metadata": {},
   "outputs": [],
   "source": [
    "\n",
    "#remove row with invalid post_code\n",
    "df_2019 = df_2019[df_2019['post_code'] != 'J3y8Y9']\n",
    "\n",
    "#remove invalid test rows name='Gera_Testing - 535'\n",
    "df_2024 = df_2024[df_2024['name'] != 'Gera_Testing - 535']\n",
    "\n",
    "#remove invalid station df_2022[df_2022['name'] == 'Planned-527']\n",
    "df_2022 = df_2022[df_2022['name'] != 'Planned-527']\n",
    "\n",
    "#remove invalid rows by keyword\n",
    "key_words = ['prueba', 'test']\n",
    "dfs = [df_2019, df_2020, df_2021, df_2022, df_2023, df_2024]\n",
    "for word in key_words:\n",
    "    for df in dfs:\n",
    "        #print(df[df['name'].str.contains(word, case=False)])\n",
    "        df.drop(df[df['name'].str.contains(word, case=False)].index, inplace=True)\n",
    "\n",
    "#remove temporary stations e.g Merced\n",
    "temporary_stations = [529, 530]\n",
    "for df in dfs:\n",
    "    df.drop(df[df['station_id'].isin(temporary_stations)].index, inplace=True)"
   ]
  },
  {
   "cell_type": "markdown",
   "metadata": {},
   "source": [
    "### Convert Datatypes and filter info"
   ]
  },
  {
   "cell_type": "code",
   "execution_count": null,
   "metadata": {},
   "outputs": [],
   "source": [
    "df_2019['date'] = pd.to_datetime(df_2019['date'])\n",
    "df_2020['date'] = pd.to_datetime(df_2020['date'])\n",
    "df_2021['date'] = pd.to_datetime(df_2021['date'])\n",
    "df_2022['date'] = pd.to_datetime(df_2022['date'])\n",
    "df_2023['date'] = pd.to_datetime(df_2023['date'])\n",
    "df_2024['date'] = pd.to_datetime(df_2024['date'])\n",
    "\n",
    "\n",
    "df_2019[df_2019['date'] == '2019-12-31']\n",
    "df_2020[df_2020['date'] == '2020-12-31']\n",
    "df_2021[df_2021['date'] == '2021-12-31']\n",
    "df_2022[df_2022['date'] == '2022-12-31']\n",
    "df_2023[df_2023['date'] == '2023-12-31']\n",
    "df_2024[df_2024['date'] == '2024-12-31']\n",
    "\n",
    "# postcode to int\n",
    "df_2019['postcode'] = df_2019['post_code'].astype(int)\n",
    "df_2020['postcode'] = df_2020['post_code'].astype(int)\n",
    "df_2021['postcode'] = df_2021['post_code'].astype(int)\n",
    "df_2022['postcode'] = df_2022['post_code'].astype(int)\n",
    "df_2023['postcode'] = df_2023['post_code'].astype(int)\n",
    "df_2024['postcode'] = df_2024['post_code'].astype(int)\n",
    "\n",
    "#station_id to int\n",
    "df_2019['station_id'] = df_2019['station_id'].astype(int)\n",
    "df_2020['station_id'] = df_2020['station_id'].astype(int)\n",
    "df_2021['station_id'] = df_2021['station_id'].astype(int)\n",
    "df_2022['station_id'] = df_2022['station_id'].astype(int)\n",
    "df_2023['station_id'] = df_2023['station_id'].astype(int)\n",
    "df_2024['station_id'] = df_2024['station_id'].astype(int)\n"
   ]
  },
  {
   "cell_type": "markdown",
   "metadata": {},
   "source": [
    "#### Add Year"
   ]
  },
  {
   "cell_type": "code",
   "execution_count": null,
   "metadata": {},
   "outputs": [],
   "source": [
    "df_2019['year'] = 2019\n",
    "df_2020['year'] = 2020\n",
    "df_2021['year'] = 2021\n",
    "df_2022['year'] = 2022\n",
    "df_2023['year'] = 2023\n",
    "df_2024['year'] = 2024\n"
   ]
  },
  {
   "cell_type": "markdown",
   "metadata": {},
   "source": [
    "#### Max Date and Mean capacity"
   ]
  },
  {
   "cell_type": "code",
   "execution_count": null,
   "metadata": {},
   "outputs": [],
   "source": [
    "df_2019['mean_capacity'] = df_2019.groupby('station_id')['capacity'].transform('mean')\n",
    "df_2020['mean_capacity'] = df_2020.groupby('station_id')['capacity'].transform('mean')\n",
    "df_2021['mean_capacity'] = df_2021.groupby('station_id')['capacity'].transform('mean')\n",
    "df_2022['mean_capacity'] = df_2022.groupby('station_id')['capacity'].transform('mean')\n",
    "df_2023['mean_capacity'] = df_2023.groupby('station_id')['capacity'].transform('mean')\n",
    "df_2024['mean_capacity'] = df_2024.groupby('station_id')['capacity'].transform('mean')\n",
    "\n"
   ]
  },
  {
   "cell_type": "code",
   "execution_count": null,
   "metadata": {},
   "outputs": [],
   "source": [
    "columns_to_keep = ['station_id', 'date', 'name', 'address', 'capacity', 'year', 'mean_capacity', 'post_code','lat','lon','altitude']\n",
    "df_2019 = df_2019[columns_to_keep]\n",
    "df_2020 = df_2020[columns_to_keep]\n",
    "df_2021 = df_2021[columns_to_keep]\n",
    "df_2022 = df_2022[columns_to_keep]\n",
    "df_2023 = df_2023[columns_to_keep]\n",
    "df_2024 = df_2024[columns_to_keep]"
   ]
  },
  {
   "cell_type": "code",
   "execution_count": null,
   "metadata": {},
   "outputs": [],
   "source": [
    "df_2019_max_date = df_2019.loc[df_2019.groupby('station_id')['date'].idxmax()]\n",
    "df_2020_max_date = df_2020.loc[df_2020.groupby('station_id')['date'].idxmax()]\n",
    "df_2021_max_date = df_2021.loc[df_2021.groupby('station_id')['date'].idxmax()]\n",
    "df_2022_max_date = df_2022.loc[df_2022.groupby('station_id')['date'].idxmax()]\n",
    "df_2023_max_date = df_2023.loc[df_2023.groupby('station_id')['date'].idxmax()]\n",
    "df_2024_max_date = df_2024.loc[df_2024.groupby('station_id')['date'].idxmax()]"
   ]
  },
  {
   "cell_type": "markdown",
   "metadata": {},
   "source": [
    "### Concat DF in years_df"
   ]
  },
  {
   "cell_type": "code",
   "execution_count": null,
   "metadata": {},
   "outputs": [
    {
     "name": "stdout",
     "output_type": "stream",
     "text": [
      "year\n",
      "2022    511\n",
      "2023    511\n",
      "2021    510\n",
      "2024    510\n",
      "2020    508\n",
      "2019    410\n",
      "Name: count, dtype: int64\n"
     ]
    }
   ],
   "source": [
    "df_years = pd.concat([df_2019_max_date, df_2020_max_date, df_2021_max_date, df_2022_max_date, df_2023_max_date, df_2024_max_date], ignore_index=True)\n",
    "#order by date\n",
    "df_years.sort_values(by='date', inplace=True)\n",
    "#\n",
    "print(df_years['year'].value_counts())\n"
   ]
  },
  {
   "cell_type": "markdown",
   "metadata": {},
   "source": [
    "### Scatter Map"
   ]
  },
  {
   "cell_type": "code",
   "execution_count": null,
   "metadata": {},
   "outputs": [
    {
     "name": "stdout",
     "output_type": "stream",
     "text": [
      "12.0 54.0\n"
     ]
    },
    {
     "data": {
      "application/vnd.plotly.v1+json": {
       "config": {
        "plotlyServerURL": "https://plot.ly"
       },
       "data": [
        {
         "customdata": [
          [
           "C/ ARAGÓ, 629",
           8908,
           21,
           17
          ],
          [
           "LA BARCELONETA (CN BARCELONETA)",
           8908,
           27,
           1
          ],
          [
           "C/ GALLEGO, 2",
           8908,
           24,
           52
          ],
          [
           "C/ GRAN VIA CORTS CATALANES, 760",
           8908,
           46,
           21
          ],
          [
           "C/ CUBELLES, 2",
           8908,
           27,
           55
          ],
          [
           "PL. DELS JARDINS D'ALFÀBIA, 1",
           8908,
           17,
           84
          ],
          [
           "C/ MÚRCIA, 64",
           8908,
           27,
           18
          ],
          [
           "PL. VIRREI AMAT",
           8908,
           32,
           63
          ],
          [
           "GRAN VIA DE LES CORTS CATALANES, 632",
           8908,
           16,
           32
          ],
          [
           "C/ BOLÍVIA, 76",
           8908,
           16,
           18
          ],
          [
           "C/ MALATS, 98-100",
           8908,
           24,
           25
          ],
          [
           "AV. DIAGONAL, 652",
           8908,
           27,
           60
          ],
          [
           "C/ FULTON, 1",
           8908,
           20,
           0
          ],
          [
           "C/ D'ESCORNALBOU, 51",
           8908,
           24,
           45
          ],
          [
           "C/ AMILCAR, 1",
           8908,
           15,
           63
          ],
          [
           "C/ SANT ANTONI Mª CLARET, 290-296",
           8908,
           27,
           37
          ],
          [
           "C/ MAS CASANOVAS, 137",
           8908,
           27,
           70
          ],
          [
           "TRAVESSERA DE GRÀCIA, 368",
           8908,
           27,
           55
          ],
          [
           "TRAVESSERA DE GRÀCIA, 328",
           8908,
           27,
           59
          ],
          [
           "PLAÇA ALFONS X EL SAVI / RONDA DEL GUINARDO",
           8908,
           27,
           87
          ],
          [
           "AV. RIO DE JANEIRO, 3",
           8908,
           32,
           27
          ],
          [
           "RAMBLA FABRA I PUIG, 67",
           8908,
           32,
           27
          ],
          [
           "AV. MERIDIANA/PG. FABRA I PUIG (SANT ANDREU)",
           8908,
           36,
           27
          ],
          [
           "C/ CONCEPCIÓ ARENAL, 281",
           8908,
           27,
           27
          ],
          [
           "PG. FONT D´EN- FARGAS, 1",
           8908,
           27,
           88
          ],
          [
           "C/ GRANOLLERS, 1",
           8908,
           24,
           95
          ],
          [
           "SEU DEL DISTRICTE (NOU BARRIS)",
           8908,
           24,
           61
          ],
          [
           "C/ SANT ISCLE, 60",
           8908,
           27,
           61
          ],
          [
           "RAMBLA DE PRIM, 256",
           8908,
           27,
           12
          ],
          [
           "C/ CANTÀBRIA, 55",
           8908,
           26,
           13
          ],
          [
           "C/ DEL GUINARDÓ, 32-38",
           8908,
           27,
           33
          ],
          [
           "RAMBLA DEL BRASIL, 44",
           8908,
           24,
           46
          ],
          [
           "C/ FELIU DE CASANOVA, 1",
           8908,
           27,
           42
          ],
          [
           "C/ ARIZALA, 77",
           8908,
           36,
           50
          ],
          [
           "C/ JOSEP SAMITIER / JOAN XXIII",
           8908,
           27,
           47
          ],
          [
           "C/ SANT RAMON NONAT,  26",
           8908,
           22,
           47
          ],
          [
           "C/ CARDENAL REIG, 11",
           8908,
           27,
           50
          ],
          [
           "C/ PINTOR RIBALTA / AV. XILE",
           8908,
           32,
           50
          ],
          [
           "C/ DOCTOR SALVADOR CARDENAL, 1-5",
           8908,
           31,
           63
          ],
          [
           "AV. DIAGONAL, 680",
           8908,
           27,
           63
          ],
          [
           "PG. MANUEL GIRONA, 7",
           8908,
           27,
           63
          ],
          [
           "C/ CAVALLERS, 67",
           8908,
           27,
           101
          ],
          [
           "C/ CAVALLERS, 41",
           8908,
           32,
           73
          ],
          [
           "C/ MARIE CURIE, 8-14",
           8908,
           27,
           61
          ],
          [
           "C/ DE MALADETA, 1",
           8908,
           18,
           47
          ],
          [
           "C/ DE L'ESCULTOR ORDÓÑEZ, 55",
           8908,
           27,
           45
          ],
          [
           "C/ ANDREU NIN, 22",
           8908,
           33,
           45
          ],
          [
           "C/ TURÓ BLAU, 1-3",
           8908,
           24,
           45
          ],
          [
           "C/ DE ROSSELLÓ I PORCEL, 1/AV.MERIDIANA",
           8908,
           33,
           25
          ],
          [
           "VIA BARCINO, 69",
           8908,
           21,
           18
          ],
          [
           "270 - CRTA. DE RIBES, 77 (TRINITAT VELLA)",
           8908,
           27,
           24
          ],
          [
           "VIA BARCINO, 121",
           8908,
           22,
           23
          ],
          [
           "C/ FERNANDO PESSOA, 72",
           8908,
           27,
           23
          ],
          [
           "C/ JOSEP ESTIVILL, 32",
           8908,
           27,
           18
          ],
          [
           "C/ INDÚSTRIA, 329",
           8908,
           27,
           18
          ],
          [
           "C/ ESPRONCEDA, 298",
           8908,
           27,
           17
          ],
          [
           "C/ RIUS I TAULET, 4",
           8908,
           27,
           67
          ],
          [
           "AV. PARAL.LEL, 194",
           8908,
           24,
           47
          ],
          [
           "AV. PARAL.LEL, 98",
           8908,
           27,
           40
          ],
          [
           "PG. DE L´EXPOSICIÓ, 30 /BLASCO GARAY",
           8908,
           27,
           44
          ],
          [
           "C/ NOU DE LA RAMBLA, 164",
           8908,
           27,
           1
          ],
          [
           "C/ VILÀ I VILÀ, 45",
           8908,
           27,
           1
          ],
          [
           "C/ PI I MARGALL, 38",
           8908,
           24,
           82
          ],
          [
           "C/ TEODOR LLORENTE, 2",
           8908,
           33,
           40
          ],
          [
           "C/ DE NIL FABRA, 16-20",
           8908,
           26,
           71
          ],
          [
           "PL. DEL NORD, 5",
           8908,
           21,
           71
          ],
          [
           "C/ DEL TORRENT DE LES FLORS, 102",
           8908,
           18,
           59
          ],
          [
           "C/ MONTMANY, 1",
           8908,
           27,
           59
          ],
          [
           "C/ MALLORCA, 84",
           8908,
           24,
           44
          ],
          [
           "C / GIRONA, 176",
           8908,
           26,
           55
          ],
          [
           "C/ DE BONAVISTA, 14",
           8908,
           36,
           50
          ],
          [
           "C/ DEL CANÓ, 1",
           8908,
           27,
           71
          ],
          [
           "GRAN DE GRÀCIA, 155 (METRO FONTANA)",
           8908,
           24,
           71
          ],
          [
           "C/ TUSET, 19",
           8908,
           27,
           59
          ],
          [
           "C/ LAFORJA, 74-76",
           8908,
           26,
           69
          ],
          [
           "C/ DE LA SANTACREU, 2 (PL.DE LA VIRREINA)",
           8908,
           28,
           71
          ],
          [
           "C/ CARTAGENA, 368",
           8908,
           27,
           59
          ],
          [
           "C/ RAMON ALBÓ, 1",
           8908,
           27,
           37
          ],
          [
           "C/ FELIP II, 214",
           8908,
           27,
           47
          ],
          [
           "PG. TORRAS I BAGES, 129",
           8908,
           24,
           24
          ],
          [
           "C/ CONCEPCIÓ ARENAL, 176",
           8908,
           27,
           37
          ],
          [
           "C/ CASANOVAS, 67",
           8908,
           27,
           40
          ],
          [
           "C/REPÚBLICA DOMINICANA,25(CENTRE COMERCIAL)",
           8908,
           33,
           19
          ],
          [
           "PG. TORRAS I BAGES, 29",
           8908,
           20,
           27
          ],
          [
           "C/ ROCAFORT, 103",
           8908,
           32,
           40
          ],
          [
           "C/ VILLARROEL, 39",
           8908,
           32,
           35
          ],
          [
           "CARRER DEL CINCA, 7",
           8030,
           27,
           0
          ],
          [
           "C/ DE BARTRINA, 14",
           8908,
           24,
           25
          ],
          [
           "C/ FERNANDO PESSOA, 41",
           8908,
           27,
           15
          ],
          [
           "C/ ALEXANDRE GALÍ, 1-5",
           8908,
           27,
           37
          ],
          [
           "C/ SANT ADRIÀ, 2-8",
           8908,
           24,
           0
          ],
          [
           "C/ IRLANDA, 11-21",
           8908,
           18,
           27
          ],
          [
           "RAMBLA DE L'ONZE DE SETEMBRE, 69",
           8908,
           26,
           25
          ],
          [
           "C/ ONZE DE SETEMBRE, 37-39",
           8908,
           27,
           18
          ],
          [
           "RAMBLA DE L'ONZE DE SETEMBRE, 31",
           8908,
           33,
           18
          ],
          [
           "C/ CARDENAL TEDESCHINI, 13",
           8908,
           33,
           27
          ],
          [
           "C/ PORTUGAL, 3",
           8908,
           27,
           24
          ],
          [
           "C/ AÇORES,1-3",
           8908,
           27,
           18
          ],
          [
           "C/ PALÈNCIA, 31",
           8908,
           27,
           18
          ],
          [
           "C/ FELIPE II, 112",
           8908,
           32,
           19
          ],
          [
           "C/ GARCILASO, 77",
           8908,
           18,
           18
          ],
          [
           "C/ MALATS, 28-30",
           8908,
           32,
           25
          ],
          [
           "C/ SAGUÉS, 1",
           8908,
           31,
           65
          ],
          [
           "C/ SANT HERMENEGILD, 30",
           8908,
           27,
           80
          ],
          [
           "C/ CONSELL DE CENT, 566",
           8908,
           27,
           28
          ],
          [
           "PL. ANTONIO LÓPEZ ( VIA LAIETANA)",
           8908,
           24,
           5
          ],
          [
           "MOLL ORIENTAL",
           8908,
           28,
           5
          ],
          [
           "PG. MARÍTIM DE LA BARCELONETA/ANDREA DÒRIA",
           8908,
           27,
           0.1
          ],
          [
           "AV. LITORAL (PG MARÍTIM DEL PORT OLÍMPIC)",
           8908,
           27,
           1
          ],
          [
           "C/ JOAN MIRÓ, 2-12",
           8908,
           32,
           1
          ],
          [
           "PL. CATALUNYA, 22",
           8908,
           33,
           32
          ],
          [
           "C/ DIPUTACIÓ, 226",
           8908,
           27,
           41
          ],
          [
           "C/ LLACUNA, 86",
           8908,
           32,
           16
          ],
          [
           "C/ RAMON TURRÓ, 4",
           8908,
           19,
           11
          ],
          [
           "C/ SAGRERA, 74",
           8908,
           27,
           18
          ],
          [
           "C/ COMERÇ, 36",
           8908,
           25,
           16
          ],
          [
           "RECINTE PARC DE LA CIUTADELLA",
           8908,
           27,
           11
          ],
          [
           "C/ RIERA ALTA, 6",
           8908,
           27,
           24
          ],
          [
           "C/ NÀPOLS, 125",
           8908,
           27,
           21
          ],
          [
           "AV. PARAL.LEL 164",
           8908,
           24,
           40
          ],
          [
           "C/ CASANOVA, 119",
           8908,
           29,
           45
          ],
          [
           "C/ VILAMARÍ, 85",
           8908,
           26,
           44
          ],
          [
           "C/ LOPE DE VEGA, 79",
           8908,
           27,
           10
          ],
          [
           "C/ AGUSTÍ DURAN I SANPERE, 10",
           8908,
           33,
           24
          ],
          [
           "C/ DURAN I BAS, 2",
           8908,
           24,
           32
          ],
          [
           "PL. JOAQUIM XIRAU I PALAU, 1",
           8908,
           21,
           5
          ],
          [
           "PG. DE COLOM (VIA LAIETANA)",
           8908,
           27,
           5
          ],
          [
           "C/ JUAN GRIS, 28",
           8908,
           32,
           16
          ],
          [
           "C/ COMTE BORRELL, 198",
           8908,
           26,
           45
          ],
          [
           "GRAN VIA DE LES CORTS CATALANES, 592",
           8908,
           33,
           41
          ],
          [
           "C/ PROVENÇA, 445",
           1,
           18,
           21
          ],
          [
           "C/ DIPUTACIÓ - TARRAGONA",
           8908,
           24,
           45
          ],
          [
           "RAMBLA CATALUNYA/DIPUTACIO",
           8908,
           24,
           41
          ],
          [
           "PL. TETUAN",
           1,
           24,
           21
          ],
          [
           "C/ PUJADES, 103",
           8908,
           27,
           11
          ],
          [
           "C/ DE SANT PAU, 119/ RONDA SANT PAU",
           8908,
           20,
           24
          ],
          [
           "C/ DE RIBES, 59 B",
           8908,
           33,
           21
          ],
          [
           "C/ DE CERVELLÓ, 5",
           8908,
           23,
           24
          ],
          [
           "PG. MARÍTIM DE LA BARCELONETA",
           8908,
           27,
           5
          ],
          [
           "C/ HONDURAS, 32-34",
           8908,
           32,
           18
          ],
          [
           "PL. ICTÍNEO",
           8908,
           29,
           1
          ],
          [
           "PL. DE JOAN PEIRÓ",
           8908,
           33,
           45
          ],
          [
           "PG.DE LLUíS COMPANYS (ARC DE TRIOMF)",
           8908,
           33,
           16
          ],
          [
           "PG. DE LLUíS COMPANYS (ARC DE TRIOMF)",
           8908,
           27,
           16
          ],
          [
           "RAMBLA DEL RAVAL, 20",
           8908,
           27,
           24
          ],
          [
           "RAMBLA DEL RAVAL, 13",
           8908,
           25,
           24
          ],
          [
           "C/ CASP, 67",
           8908,
           33,
           21
          ],
          [
           "C/ BRUC, 66",
           8908,
           32,
           42
          ],
          [
           "PL. URQUINAONA, 3",
           8908,
           27,
           32
          ],
          [
           "PG.DE COLOM (LES RAMBLES)",
           8908,
           33,
           5
          ],
          [
           "C/ JOAN D'ÀUSTRIA, 31B",
           8908,
           27,
           11
          ],
          [
           "C/ RAMON TRIAS FARGAS, 23",
           8908,
           39,
           1
          ],
          [
           "GRAN VIA DE LES CORTS CATALANES, 361",
           8908,
           27,
           61
          ],
          [
           "WORLD  TRADE CENTER",
           8908,
           27,
           1
          ],
          [
           "WORLD TRADE CENTER",
           8908,
           27,
           1
          ],
          [
           "PG. DE GRÀCIA, 89",
           8908,
           33,
           50
          ],
          [
           "C/ CIUTAT D'ASUNCIÓN, 73 / POTOSÍ",
           8908,
           27,
           23
          ],
          [
           "CAMPANA DE LA MAQUINISTA (SAO PAULO I PL. DE",
           8908,
           27,
           19
          ],
          [
           "C/ ROC BORONAT, 134",
           8908,
           27,
           18
          ],
          [
           "PG. D'ENRIC SANCHIS, 33",
           8908,
           27,
           28
          ],
          [
           "C/ SANT ADRIÀ, 113",
           8908,
           24,
           28
          ],
          [
           "C/ RAMON TURRÓ, 246",
           8908,
           27,
           9
          ],
          [
           "AV. J. V. FOIX,  63",
           8908,
           36,
           96
          ],
          [
           "C/ CARME KARR, 12-14",
           8908,
           23,
           96
          ],
          [
           "C/ CAPONATA, 10",
           8908,
           27,
           96
          ],
          [
           "C/ SANTA AMÈLIA, 2",
           8908,
           27,
           96
          ],
          [
           "C/ DE LA FONERIA, 33",
           8908,
           36,
           48
          ],
          [
           "VIA AUGUSTA, 348",
           8908,
           26,
           138
          ],
          [
           "C/ DOCTOR ROUX, 86",
           8908,
           27,
           82
          ],
          [
           "C/ CASTELLNOU, 65",
           8908,
           31,
           82
          ],
          [
           "C/ DE LES ESCOLES PIES, 99",
           8908,
           27,
           130
          ],
          [
           "C/ ARTESA DE SEGRE, 2",
           8908,
           27,
           106
          ],
          [
           "C/ REUS, 23",
           8908,
           24,
           106
          ],
          [
           "C/ BALMES, 409",
           8908,
           32,
           110
          ],
          [
           "C/ ALT DE GIRONELLA, 13",
           8908,
           23,
           82
          ],
          [
           "C/ REINA VICTORIA, 31",
           8908,
           27,
           79
          ],
          [
           "C/ VALLMAJOR, 13",
           8908,
           27,
           79
          ],
          [
           "C/ SANTALÓ, 165",
           8908,
           24,
           106
          ],
          [
           "PASSATGE DE SENILLOSA, 3-5",
           8908,
           27,
           82
          ],
          [
           "VÍA AUGUSTA, 109",
           8908,
           27,
           80
          ],
          [
           "C/ ALTS FORNS, 77",
           8908,
           28,
           35
          ],
          [
           "C/ DE L'ENERGIA, 2 / ALTS FORNS",
           8908,
           33,
           13
          ],
          [
           "AV. PARAL.LEL, 132",
           8908,
           30,
           35
          ],
          [
           "C/ RIBES, 77",
           8908,
           27,
           18
          ],
          [
           "C/ DELS ENAMORATS, 49",
           8908,
           31,
           28
          ],
          [
           "C/ SARDENYA, 326",
           8908,
           32,
           49
          ],
          [
           "C/ CONSELL DE CENT, 482",
           8908,
           27,
           28
          ],
          [
           "C/ DIPUTACIÓ, 350",
           8908,
           28,
           21
          ],
          [
           "C/ MARQUÈS DE SENTMENAT, 46",
           8908,
           32,
           57
          ],
          [
           "C/ VILADOMAT, 244",
           8908,
           31,
           51
          ],
          [
           "PG. DE GRÀCIA, 61",
           8908,
           33,
           50
          ],
          [
           "C/ BRUC, 20",
           8908,
           24,
           32
          ],
          [
           "JARDINS DE CAN FERRERO/PG.DE LA ZONA FRANCA",
           8908,
           33,
           13
          ],
          [
           "C/ BAILÉN, 100",
           8908,
           32,
           42
          ],
          [
           "C/ BAILÉN, 62",
           8908,
           30,
           42
          ],
          [
           "C/ MÉNDEZ NÚÑEZ, 16",
           8908,
           26,
           16
          ],
          [
           "C/ GOMBAU, 24",
           8908,
           26,
           16
          ],
          [
           "C/ CARDENER, 59",
           8908,
           27,
           0
          ],
          [
           "C/ CAMÈLIES, 73",
           8908,
           27,
           115
          ],
          [
           "RAMBLA DEL BRASIL, 5",
           8908,
           27,
           46
          ],
          [
           "C/ MUNNÉ  2-6",
           8908,
           31,
           47
          ],
          [
           "C/RADI,10/GRAN VIA DE LES CORTS CATALANES",
           8908,
           28,
           48
          ],
          [
           "C/ JANE ADDAMS, 26/ CRTA. DEL PRAT",
           8908,
           33,
           48
          ],
          [
           "C/ VILLARROEL, 208",
           8908,
           31,
           69
          ],
          [
           "PG. DE COLOM (LES RAMBLES)",
           8908,
           33,
           5
          ],
          [
           "C/ RECTOR UBACH, 24",
           8908,
           27,
           69
          ],
          [
           "PL. TERESA DE CLARAMUNT/C/ DELS FERROCARILS",
           8908,
           32,
           48
          ],
          [
           "C/ GANDUXER, 29",
           8908,
           21,
           79
          ],
          [
           "C/ ENRIC  GRANADOS, 35",
           8908,
           21,
           41
          ],
          [
           "PL. UNIVERSITAT",
           8908,
           24,
           41
          ],
          [
           "PL. UNIVERSITAT /  ARIBAU",
           8908,
           26,
           41
          ],
          [
           "C/ CÒRSEGA, 216",
           8908,
           32,
           45
          ],
          [
           "AV. JOSEP TARRADELLAS, 58",
           8908,
           21,
           51
          ],
          [
           "AV. JOSEP TARRADELLAS, 133",
           8908,
           15,
           51
          ],
          [
           "C/ ENRIC GRANADOS, 93",
           8908,
           27,
           59
          ],
          [
           "C/ PROVENÇA, 215",
           8908,
           27,
           55
          ],
          [
           "C/ FLORIDABLANCA, 145",
           8908,
           21,
           35
          ],
          [
           "C/ COMTE URGELL, 23",
           8908,
           27,
           35
          ],
          [
           "CARRER DE LA MARINA,25-33",
           8908,
           20,
           8
          ],
          [
           "RAMBLA CATALUNYA, 133 /  CÒRSEGA",
           8908,
           27,
           59
          ],
          [
           "C/ ROCAFORT, 214 / ROSSELLÓ",
           8908,
           24,
           51
          ],
          [
           "GRAN VIA DE LES CORTS CATALANES, 609",
           8908,
           15,
           32
          ],
          [
           "PL. CATALUNYA, 10-11 (PG. DE GRACIA)",
           8908,
           21,
           32
          ],
          [
           "PL. CATALUNYA, 10-11 (RAMBLA)",
           8908,
           21,
           32
          ],
          [
           "PL. CATALUNYA, 7",
           8908,
           27,
           32
          ],
          [
           "PL. CATALUNYA, 5",
           8908,
           25,
           32
          ],
          [
           "RAMBLA CATALUNYA, 42",
           8908,
           27,
           41
          ],
          [
           "RAMBLA CATALUNYA, 47",
           8908,
           27,
           41
          ],
          [
           "59 - PLAÇA DELS ÀNGELS ( MACBA )",
           8908,
           21,
           24
          ],
          [
           "C/ VILAMARÍ,  61",
           8908,
           21,
           44
          ],
          [
           "C/ ROCAFORT, 72-74",
           8908,
           33,
           40
          ],
          [
           "C/ COMTE BORRELL, 177",
           8908,
           24,
           45
          ],
          [
           "C/ DEL COMTE D'URGELL, 75 B",
           8908,
           27,
           35
          ],
          [
           "C / INDÚSTRIA, 10",
           8908,
           21,
           59
          ],
          [
           "TRAV. DE GRÀCIA, 92 / VIA AUGUSTA",
           8908,
           20,
           59
          ],
          [
           "PL  JOANIC - C / BRUNIQUER, 59",
           8908,
           20,
           59
          ],
          [
           "PL. URQUINAONA, 9-10",
           8908,
           21,
           32
          ],
          [
           "C/ VALÈNCIA, 621",
           8908,
           26,
           17
          ],
          [
           "AV. DIAGONAL,  612",
           8908,
           24,
           69
          ],
          [
           "AV. DIAGONAL,  602",
           8908,
           24,
           69
          ],
          [
           "C/ TARRAGONA,  159-173",
           8908,
           22,
           44
          ],
          [
           "C/ VIRIAT,  53",
           8908,
           21,
           44
          ],
          [
           "C/ VIRIAT, 43",
           8908,
           21,
           44
          ],
          [
           "PLAÇA DELS ÀNGELS ( MACBA )",
           8908,
           21,
           24
          ],
          [
           "C/ TARRAGONA, 141",
           8908,
           21,
           44
          ],
          [
           "C/ TARRAGONA, 103-115",
           8908,
           33,
           44
          ],
          [
           "GRAN  VIA DE LES CORTS CATALANES, 375-385",
           8908,
           24,
           40
          ],
          [
           "GRAN VIA DE LES CORTS CATALANES, 375-385",
           8908,
           24,
           40
          ],
          [
           "C / PROVENÇA, 241",
           8908,
           18,
           50
          ],
          [
           "C/ ROSSELLÓ, 108-110",
           8908,
           18,
           45
          ],
          [
           "C/ ROSSELLÓ,  101",
           8908,
           27,
           45
          ],
          [
           "C/ LONDRES, 101-103",
           8908,
           20,
           59
          ],
          [
           "C/ MALLORCA, 41-43",
           8908,
           21,
           44
          ],
          [
           "C/ VILADOMAT,  2",
           8908,
           27,
           35
          ],
          [
           "AV. PARAL·LEL, 146 BIS",
           8908,
           24,
           35
          ],
          [
           "GRAN VIA DE LES CORTS CATALANES, 361",
           8908,
           21,
           61
          ],
          [
           "C/ LONDRES,  53",
           8908,
           24,
           51
          ],
          [
           "RAMBLA, 2",
           8908,
           25,
           5
          ],
          [
           "LA RAMBLA, 80",
           8908,
           19,
           24
          ],
          [
           "C/ BRUC, 45",
           8908,
           27,
           42
          ],
          [
           "C/ SARDENYA, 292",
           8908,
           19,
           28
          ],
          [
           "C/ SANT ANTONI MARIA CLARET, 214",
           8908,
           21,
           59
          ],
          [
           "C/ CARTAGENA, 308",
           8908,
           18,
           59
          ],
          [
           "C/ ROSSELLÓ, 354",
           8908,
           30,
           49
          ],
          [
           "C/ ROSSELLÓ, 453",
           8908,
           27,
           49
          ],
          [
           "AV. MERIDIANA, 47 (ANNEXA A LA 16)",
           8908,
           42,
           18
          ],
          [
           "C/ GIRONA, 68",
           8908,
           21,
           40
          ],
          [
           "AV. MARQUÉS DE  L'ARGENTERA, 15",
           8908,
           27,
           11
          ],
          [
           "CARRER DE LA MARINA, 25-33",
           8908,
           54,
           8
          ],
          [
           "PG. MARITIM, 23 (HOSPITAL DEL MAR)",
           8908,
           26,
           0.1
          ],
          [
           "PG. MARITIM, 11 (DAVANT PL. BRUGADA)",
           8908,
           21,
           1
          ],
          [
           "AV. MARQUÉS DE L'ARGENTERA,13",
           8908,
           27,
           11
          ],
          [
           "PG. PUJADES, 2",
           8908,
           27,
           11
          ],
          [
           "PG. PUJADES,  1 (JUTJATS)",
           8908,
           27,
           16
          ],
          [
           "PG. LLUIS COMPANYS, 18  (ARC TRIOMF)",
           8908,
           39,
           16
          ],
          [
           "PG. LLUIS COMPANYS, 11 (ARC TRIOMF)",
           8908,
           39,
           16
          ],
          [
           "C/ RIBES, 13",
           8908,
           21,
           21
          ],
          [
           "C/ NÀPOLS, 82",
           8908,
           27,
           22
          ],
          [
           "C/ ROGER DE FLOR, 126",
           8908,
           27,
           21
          ],
          [
           "C/ MADRAZO, 131",
           8908,
           27,
           69
          ],
          [
           "C/ MARINA, 199",
           8908,
           30,
           30
          ],
          [
           "C/ BRUC, 102",
           8908,
           21,
           42
          ],
          [
           "C/ DOS DE MAIG, 230-232",
           8908,
           18,
           28
          ],
          [
           "C/ PROVENÇA, 322",
           8908,
           21,
           49
          ],
          [
           "C/ SANT OLEGUER, 2",
           8908,
           19,
           24
          ],
          [
           "PL. CARLES PI I SUNYER",
           8908,
           21,
           32
          ],
          [
           "PL. VICENÇ MARTORELL",
           8908,
           20,
           32
          ],
          [
           "AV. PARAL.LEL, 54",
           8908,
           18,
           1
          ],
          [
           "C/ ROSA SENSAT, 20",
           8908,
           21,
           1
          ],
          [
           "AV. MERIDIANA, 40",
           8908,
           21,
           18
          ],
          [
           "C/ RAMON TRIAS FARGAS, 21",
           8908,
           47,
           1
          ],
          [
           "C/ RAMON TRIAS FARGAS, 19",
           8908,
           54,
           1
          ],
          [
           "AV. MERIDIANA, 66 ( COSTAT METRO GLORIES)",
           8908,
           21,
           18
          ],
          [
           "C/ CIUTAT DE GRANADA, 168 / AV. DIAGONAL",
           8908,
           24,
           18
          ],
          [
           "PORTAL DE SANTA MADRONA, 2-4",
           8908,
           27,
           5
          ],
          [
           "PL. POETA BOSCÀ/ATLÀNTIDA",
           8908,
           21,
           1
          ],
          [
           "PL. PAU VILA",
           8908,
           44,
           1
          ],
          [
           "PL. ANTONIO LÓPEZ (CORREUS, VIA LAIETANA)",
           8908,
           24,
           5
          ],
          [
           "AV. DE LA CATEDRAL, 6",
           8908,
           21,
           16
          ],
          [
           "C/ SANT RAMON DE PENYAFORT, 1",
           8908,
           27,
           1
          ],
          [
           "C/ SANT PERE MÉS ALT, 4",
           8908,
           21,
           16
          ],
          [
           "C/ PONTEVEDRA / JUDICI",
           8908,
           21,
           1
          ],
          [
           "PL. DEL MAR",
           8908,
           18,
           1
          ],
          [
           "AV. DIAGONAL, 231 AMB PADILLA",
           8908,
           21,
           28
          ],
          [
           "C/ PROVENÇA, 388-390",
           8908,
           23,
           50
          ],
          [
           "C/ SARDENYA, 362",
           8908,
           23,
           45
          ],
          [
           "C/ DOCTOR AIGUADER, 2",
           8908,
           18,
           1
          ],
          [
           "AV. ROMA,  136",
           8908,
           21,
           43
          ],
          [
           "C/ SARDENYA, 66",
           8908,
           27,
           18
          ],
          [
           "C/ FLORIDABLANCA, 49",
           8908,
           20,
           40
          ],
          [
           "PG. SANT ANTONI /PL. SANTS",
           8908,
           27,
           45
          ],
          [
           "C/ DE SANT PAU, 89 - 97",
           8908,
           19,
           24
          ],
          [
           "C/CONSELL DE CENT, 6",
           8908,
           26,
           0
          ],
          [
           "C/GAVÀ, 81",
           8908,
           17,
           50
          ],
          [
           "C/ QUETZAL, 22-24",
           8908,
           27,
           50
          ],
          [
           "C/ GAVÀ, 1",
           8908,
           28,
           61
          ],
          [
           "GRAN VIA DE LES CORTS CATALANES, 273",
           8908,
           27,
           61
          ],
          [
           "GRAN VIA DE LES CORTS CATALANES/MOSSÈN AMADEU OLLER",
           8908,
           51,
           50
          ],
          [
           "PG. ZONA FRANCA, 244",
           8908,
           15,
           48
          ],
          [
           "PG. DE GARCIA FÀRIA, 85",
           8908,
           27,
           0.1
          ],
          [
           "C/ BRUC, 130",
           8908,
           28,
           50
          ],
          [
           "C/ ROSSELLÓ, 557",
           8908,
           27,
           0.1
          ],
          [
           "C/ LLULL, 309",
           8908,
           27,
           10
          ],
          [
           "PG. DE GARCIA FÀRIA, 21/ESPRONCEDA",
           8908,
           27,
           0.1
          ],
          [
           "AV.LITORAL, 84",
           8908,
           27,
           0.1
          ],
          [
           "PG. MARÍTIM DE LA NOVA ICÀRIA, 83",
           8908,
           54,
           0.1
          ],
          [
           "AV.LITORAL, 40 (ANNEXA A LA 169)",
           8908,
           54,
           1
          ],
          [
           "SELVA DE MAR / PG. DEL TAULAT",
           8908,
           27,
           0.1
          ],
          [
           "C/ BAC DE RODA, 11",
           8908,
           21,
           0.1
          ],
          [
           "C/ BILBAO, 2",
           8005,
           27,
           0
          ],
          [
           "C/ DEL DOCTOR TRUETA, 222",
           8908,
           27,
           0.1
          ],
          [
           "C/ INDEPENDÈNCIA, 379",
           8908,
           26,
           33
          ],
          [
           "PG. DE GARCIA FÀRIA, 37/JOSEP FERRATER",
           8908,
           27,
           0.1
          ],
          [
           "AV. ICÀRIA, 202",
           8908,
           27,
           11
          ],
          [
           "AV. LITORAL, 72",
           8908,
           29,
           0.1
          ],
          [
           "C/ JOAN GÜELL, 50",
           8908,
           21,
           40
          ],
          [
           "C/ JOSÉ DE  AGULLÓ, 9",
           8908,
           25,
           85
          ],
          [
           "C/ CALÀBRIA, 137",
           8908,
           27,
           41
          ],
          [
           "C/ SANTA FE DE NOU MÈXIC, 2",
           8908,
           33,
           79
          ],
          [
           "AV. SARRIÀ, 163",
           8908,
           24,
           82
          ],
          [
           "C/ SANCHO DE ÁVILA, 60-64",
           8908,
           28,
           18
          ],
          [
           "C/ VILARDELL, 18",
           8908,
           27,
           50
          ],
          [
           "C/ DIPUTACIÓ, 200",
           8908,
           26,
           41
          ],
          [
           "AV. DIAGONAL, 630",
           8908,
           33,
           57
          ],
          [
           "AV. DIAGONAL, 634",
           8908,
           25,
           57
          ],
          [
           "AV. DIAGONAL, 650",
           8908,
           33,
           60
          ],
          [
           "C/ ROCAFORT, 167",
           8908,
           24,
           44
          ],
          [
           "C/ EUROPA, 25",
           8908,
           33,
           60
          ],
          [
           "AV. DIAGONAL, 668",
           8908,
           33,
           60
          ],
          [
           "C/ DE LES CORTS, 20",
           8908,
           27,
           60
          ],
          [
           "C/ NUMÀNCIA, 136",
           8908,
           24,
           58
          ],
          [
           "C/ JOAN GUELL, 174",
           8908,
           24,
           60
          ],
          [
           "C/ MEJÍA LEQUERICA, 2",
           8908,
           27,
           46
          ],
          [
           "C/ VALLESPIR, 194",
           8908,
           27,
           58
          ],
          [
           "C/ GELABERT, 1",
           8908,
           27,
           57
          ],
          [
           "C/ BERLÍN, 38",
           8908,
           27,
           30
          ],
          [
           "C/ VALLESPIR, 130",
           8908,
           27,
           45
          ],
          [
           "C/ FÍGOLS, 1",
           8908,
           27,
           46
          ],
          [
           "AV. DIAGONAL, 664",
           8908,
           33,
           60
          ],
          [
           "C/ RAMON TURRÓ, 292",
           8908,
           27,
           0.1
          ],
          [
           "C/ JOAN GÜELL, 98",
           8908,
           24,
           40
          ],
          [
           "AV. D'EDUARD MARISTANY, 1 /FORUM",
           8908,
           33,
           1
          ],
          [
           "C/ BAC DE RODA, 157",
           8908,
           21,
           10
          ],
          [
           "GRAN VIA DE LES CORTS CATALANES, 902",
           8908,
           16,
           16
          ],
          [
           "PL.VALENTÍ ALMIRALL",
           8908,
           27,
           13
          ],
          [
           "RAMBLA  DE GUIPÚSCOA, 158/ CA N'OLIVA",
           8908,
           27,
           9
          ],
          [
           "RAMBLA DE GUIPÚSCOA, 103 /CANTÀBRIA",
           8908,
           24,
           9
          ],
          [
           "C/ MANSO, 46",
           8908,
           27,
           35
          ],
          [
           "RAMBLA DE GUIPÚSCOA, 43/FLUVIÀ",
           8908,
           28,
           13
          ],
          [
           "C/ ARAGÓ, 659 /NAVAS DE TOLOSA",
           8908,
           27,
           17
          ],
          [
           "PG. DE COLOM /VIA LAIETANA",
           8908,
           23,
           5
          ],
          [
           "PG. MARíTIM, 31 B (ANNEXA A LA  12)",
           8908,
           21,
           1
          ],
          [
           "GRAN VIA DE LES CORTS CATALANES,  981",
           8908,
           21,
           13
          ],
          [
           "C/ GIRONA, 142",
           8908,
           21,
           45
          ],
          [
           "C/ CASTILLEJOS, 258",
           8908,
           21,
           28
          ],
          [
           "C/ LEPANT,  278",
           8908,
           21,
           28
          ],
          [
           "C/ SARDENYA,  178",
           8908,
           27,
           21
          ],
          [
           "C/ PUJADES,  3",
           8908,
           27,
           18
          ],
          [
           "C/ ROSA SENSAT, 12",
           8908,
           21,
           1
          ],
          [
           "C/ DEL DR. AIGUADER, 72 / PG. SALVAT PAPASSEIT",
           8908,
           27,
           11
          ],
          [
           "AV. MARQUÉS DE L'ARGENTERA,  3",
           8908,
           21,
           1
          ],
          [
           "C/ RAMON TURRÓ, 91",
           8908,
           27,
           11
          ],
          [
           "PL. JEAN GENET,  1",
           8908,
           20,
           24
          ],
          [
           "RONDA DE SANT PAU, 51",
           8908,
           27,
           30
          ],
          [
           "C/ NÀPOLS, 344",
           8908,
           21,
           59
          ],
          [
           "GRAN VIA DE LES CORTS CATALANES,  1062",
           8908,
           27,
           9
          ],
          [
           "C/ NOVA  BOCANA",
           8908,
           27,
           5
          ],
          [
           "GRAN VIA DE LES CORTS CATALANES, 1118",
           8908,
           21,
           9
          ],
          [
           "C/ LLULL, 465",
           8908,
           24,
           0.1
          ],
          [
           "GRAN VIA DE LES CORTS CATALANES, 1041",
           8908,
           24,
           9
          ],
          [
           "C/ SELVA DE MAR, 46",
           8908,
           27,
           5
          ],
          [
           "C/ PUJADES, 311/ FLUVIÀ",
           8908,
           32,
           10
          ],
          [
           "C/ PUJADES, 191",
           8908,
           32,
           10
          ],
          [
           "C/ PUJADES, 173/RAMBLA DEL POBLE NOU",
           8908,
           23,
           10
          ],
          [
           "RAMBLA DE PRIM, 19",
           8908,
           27,
           1
          ],
          [
           "C/ PALLARS, 182",
           8908,
           27,
           6
          ],
          [
           "C/ ESPRONCEDA, 124",
           8908,
           27,
           10
          ],
          [
           "149 - C/ PUJADES, 57B",
           8908,
           27,
           11
          ],
          [
           "AV. DIAGONAL, 26",
           8908,
           32,
           5
          ],
          [
           "C/ PUJADES, 121",
           8908,
           27,
           11
          ],
          [
           "RAMBLA PRIM, 79",
           8908,
           27,
           5
          ],
          [
           "GRAN VIA DE LES CORTS CATALANES,  1131",
           8908,
           32,
           9
          ],
          [
           "RONDA SANT PAU, 79",
           8908,
           27,
           12
          ],
          [
           "GRAN VIA DE LES CORTS CATALANES ,  940",
           8908,
           32,
           13
          ],
          [
           "C/ SANCHO DE ÁVILA,  104 - C/ BADAJOZ",
           8908,
           32,
           16
          ],
          [
           "C/ VILADOMAT, 122",
           8908,
           27,
           41
          ],
          [
           "C/ CASTELLA,  28 / DIAGONAL",
           8908,
           27,
           16
          ],
          [
           "C/ PERE IV,  301 / FLUVIÀ",
           8908,
           27,
           9
          ],
          [
           "C/ PERE IV, 488",
           8908,
           15,
           9
          ],
          [
           "C/ SANCHO DE ÁVILA, 170 / LLACUNA",
           8908,
           27,
           16
          ]
         ],
         "hovertemplate": "<b>%{hovertext}</b><br><br>year=2019<br>lat=%{lat}<br>lon=%{lon}<br>address=%{customdata[0]}<br>post_code=%{customdata[1]}<br>capacity=%{marker.color}<br>altitude=%{customdata[3]}<extra></extra>",
         "hovertext": [
          103,
          32,
          311,
          1,
          291,
          290,
          289,
          288,
          287,
          286,
          285,
          284,
          283,
          281,
          292,
          280,
          279,
          278,
          277,
          276,
          275,
          274,
          273,
          272,
          282,
          293,
          294,
          295,
          317,
          316,
          315,
          314,
          313,
          312,
          310,
          309,
          308,
          307,
          306,
          305,
          304,
          303,
          302,
          301,
          300,
          299,
          298,
          297,
          296,
          271,
          270,
          269,
          268,
          240,
          239,
          238,
          237,
          236,
          235,
          234,
          233,
          232,
          231,
          241,
          230,
          228,
          227,
          226,
          225,
          224,
          223,
          222,
          221,
          220,
          219,
          229,
          318,
          242,
          244,
          267,
          266,
          265,
          264,
          263,
          262,
          261,
          260,
          259,
          258,
          243,
          257,
          255,
          254,
          253,
          252,
          251,
          250,
          249,
          248,
          247,
          246,
          256,
          319,
          321,
          218,
          401,
          400,
          398,
          397,
          396,
          395,
          394,
          393,
          392,
          391,
          390,
          389,
          388,
          387,
          386,
          385,
          384,
          382,
          381,
          380,
          378,
          402,
          404,
          405,
          406,
          496,
          495,
          494,
          492,
          428,
          427,
          426,
          425,
          424,
          423,
          377,
          421,
          419,
          418,
          416,
          415,
          414,
          413,
          412,
          410,
          409,
          408,
          420,
          376,
          375,
          374,
          344,
          343,
          342,
          341,
          340,
          339,
          338,
          337,
          336,
          335,
          346,
          334,
          332,
          331,
          329,
          328,
          327,
          326,
          325,
          324,
          323,
          322,
          333,
          320,
          347,
          349,
          373,
          372,
          371,
          370,
          369,
          368,
          367,
          365,
          364,
          363,
          348,
          362,
          360,
          359,
          358,
          357,
          356,
          354,
          353,
          352,
          351,
          350,
          361,
          217,
          345,
          215,
          80,
          79,
          78,
          76,
          75,
          74,
          73,
          72,
          71,
          70,
          69,
          68,
          67,
          66,
          65,
          64,
          63,
          62,
          61,
          60,
          59,
          81,
          82,
          83,
          84,
          108,
          107,
          106,
          105,
          104,
          102,
          101,
          100,
          99,
          98,
          58,
          97,
          95,
          94,
          93,
          92,
          90,
          89,
          88,
          87,
          86,
          85,
          96,
          109,
          57,
          55,
          23,
          22,
          21,
          20,
          19,
          18,
          17,
          15,
          14,
          13,
          12,
          11,
          9,
          8,
          7,
          6,
          5,
          4,
          3,
          2,
          216,
          24,
          25,
          26,
          27,
          54,
          53,
          51,
          50,
          49,
          48,
          47,
          46,
          44,
          42,
          56,
          41,
          39,
          37,
          36,
          35,
          34,
          33,
          31,
          30,
          29,
          28,
          40,
          110,
          45,
          112,
          188,
          187,
          186,
          185,
          184,
          183,
          182,
          180,
          179,
          178,
          189,
          177,
          175,
          174,
          173,
          171,
          170,
          168,
          167,
          166,
          165,
          164,
          176,
          163,
          190,
          192,
          214,
          111,
          213,
          212,
          211,
          210,
          209,
          208,
          207,
          206,
          191,
          205,
          203,
          202,
          201,
          200,
          199,
          198,
          197,
          196,
          195,
          193,
          204,
          162,
          194,
          160,
          134,
          133,
          132,
          131,
          130,
          129,
          128,
          127,
          126,
          125,
          135,
          123,
          121,
          120,
          119,
          118,
          117,
          116,
          115,
          161,
          114,
          113,
          122,
          136,
          124,
          138,
          157,
          137,
          156,
          155,
          154,
          153,
          158,
          151,
          150,
          149,
          159,
          152,
          147,
          139,
          148,
          141,
          142,
          140,
          144,
          145,
          146,
          143
         ],
         "lat": [
          41.4098264,
          41.373698,
          41.378638,
          41.397952,
          41.425897,
          41.437094,
          41.416828,
          41.429636,
          41.389171,
          41.403103,
          41.436708,
          41.389503,
          41.42968,
          41.418088,
          41.430036,
          41.413986,
          41.415951,
          41.409815,
          41.408284,
          41.412163,
          41.430693,
          41.430092,
          41.430404,
          41.432559,
          41.427561,
          41.428388,
          41.436373,
          41.43345,
          41.425566,
          41.4222743,
          41.415617,
          41.37836,
          41.375366,
          41.379046,
          41.381223,
          41.37674,
          41.376788,
          41.379135,
          41.385465,
          41.387498,
          41.390208,
          41.393341,
          41.39065,
          41.437053,
          41.431593,
          41.433965,
          41.43463,
          41.438864,
          41.436505,
          41.450634,
          41.448628,
          41.448128,
          41.445705,
          41.417763,
          41.417323,
          41.415684,
          41.372891,
          41.375127,
          41.375065,
          41.371515,
          41.371965,
          41.373509,
          41.407202,
          41.419337,
          41.405986,
          41.40694,
          41.407837,
          41.403465,
          41.384956,
          41.399945,
          41.398311,
          41.40124,
          41.402535,
          41.396229,
          41.397698,
          41.405107,
          41.413406,
          41.424451,
          41.426896,
          41.443395,
          41.426841,
          41.385467,
          41.439949,
          41.437814,
          41.379821,
          41.382206,
          41.4356947,
          41.439109,
          41.442167,
          41.423939,
          41.433897,
          41.431183,
          41.429985,
          41.429977,
          41.429953,
          41.425405,
          41.425905,
          41.425216,
          41.418208,
          41.421992,
          41.422844,
          41.43608,
          41.393713,
          41.403054,
          41.404114,
          41.381241,
          41.36958,
          41.381011,
          41.388894,
          41.389028,
          41.386009,
          41.387151,
          41.402177,
          41.390595,
          41.422873,
          41.386955,
          41.38739,
          41.380593,
          41.395796,
          41.375086,
          41.387978,
          41.380708,
          41.403938,
          41.381686,
          41.385463,
          41.378516,
          41.380705,
          41.365374,
          41.38551,
          41.386512,
          41.404839,
          41.3767081,
          41.3896703,
          41.3944248,
          41.398389,
          41.375336,
          41.398305,
          41.37652,
          41.379632,
          41.420201,
          41.37747,
          41.378031,
          41.391299,
          41.390943,
          41.378134,
          41.379374,
          41.393744,
          41.393512,
          41.389012,
          41.376433,
          41.392272,
          41.388988,
          41.374213,
          41.371663,
          41.372154,
          41.395,
          41.443127,
          41.438886,
          41.403502,
          41.433958,
          41.43619,
          41.401662,
          41.397572,
          41.398719,
          41.395274,
          41.393639,
          41.360654,
          41.400722,
          41.399822,
          41.39706,
          41.402879,
          41.40293,
          41.405,
          41.407384,
          41.39493,
          41.396938,
          41.397996,
          41.400977,
          41.395632,
          41.401116,
          41.359496,
          41.357338,
          41.375073,
          41.400167,
          41.404027,
          41.40377,
          41.400168,
          41.396815,
          41.385057,
          41.387499,
          41.39324,
          41.39076,
          41.357067,
          41.397006,
          41.395213,
          41.390021,
          41.387225,
          41.410615,
          41.413425,
          41.37592,
          41.375414,
          41.36335,
          41.362135,
          41.391833,
          41.376292,
          41.398463,
          41.363093,
          41.39412,
          41.390008,
          41.3854435,
          41.3856691,
          41.391751,
          41.385081,
          41.390062,
          41.392278,
          41.392716,
          41.381931,
          41.380347,
          41.38797,
          41.395364,
          41.385012,
          41.389097,
          41.387678,
          41.387469,
          41.38645,
          41.387142,
          41.390143,
          41.390349,
          41.382781,
          41.3790058,
          41.3787972,
          41.3840885,
          41.3831216,
          41.4024328,
          41.3985611,
          41.4056,
          41.389197,
          41.4108567,
          41.3922519,
          41.3927878,
          41.3791661,
          41.380632,
          41.3803803,
          41.382822,
          41.3782369,
          41.3766488,
          41.3755704,
          41.3755595,
          41.3937852,
          41.3884249,
          41.388154,
          41.3935986,
          41.3832053,
          41.3752683,
          41.3750672,
          41.3742316,
          41.390936,
          41.376758,
          41.381154,
          41.392526,
          41.401684,
          41.410897,
          41.410166,
          41.403282,
          41.406086,
          41.398237,
          41.394812,
          41.384675,
          41.387985,
          41.384538,
          41.381689,
          41.384532,
          41.389088,
          41.388856,
          41.391349,
          41.391075,
          41.39348,
          41.394055,
          41.39553,
          41.396809,
          41.400659,
          41.395179,
          41.407035,
          41.396897,
          41.377635,
          41.385227,
          41.384054,
          41.375,
          41.39106,
          41.396085,
          41.389831,
          41.388359,
          41.402285,
          41.404511,
          41.377011,
          41.379326,
          41.381046,
          41.381226,
          41.385151,
          41.413592,
          41.387074,
          41.376862,
          41.37481,
          41.402046,
          41.401132,
          41.405422,
          41.382335,
          41.3857053,
          41.391429,
          41.3776061,
          41.375802,
          41.376858,
          41.375571,
          41.37046,
          41.367504,
          41.372338,
          41.371455,
          41.36778,
          41.363511,
          41.405389,
          41.396918,
          41.411089,
          41.40666,
          41.40061,
          41.398027,
          41.391986,
          41.389732,
          41.405358,
          41.402561,
          41.400533,
          41.399196,
          41.411901,
          41.402541,
          41.3942,
          41.39606,
          41.378629,
          41.395251,
          41.3813141,
          41.393783,
          41.39239,
          41.398772,
          41.37453,
          41.385755,
          41.391451,
          41.390828,
          41.389845,
          41.382564,
          41.387465,
          41.388742,
          41.385331,
          41.387787,
          41.383834,
          41.38182,
          41.38451,
          41.38712,
          41.383241,
          41.381888,
          41.381311,
          41.388011,
          41.403908,
          41.381013,
          41.411026,
          41.4115934,
          41.4076602,
          41.4084554,
          41.422785,
          41.4198281,
          41.3770515,
          41.4154133,
          41.4118718,
          41.3806785,
          41.3844693,
          41.4121316,
          41.398114,
          41.4061885,
          41.4045867,
          41.3966226,
          41.3919909,
          41.3907885,
          41.3839396,
          41.3837312,
          41.395009,
          41.3768334,
          41.3774096,
          41.4053379,
          41.4141813,
          41.3702482637018,
          41.416832,
          41.412942,
          41.4144656,
          41.409017,
          41.406977,
          41.402454,
          41.401778,
          41.411741,
          41.40065,
          41.406549,
          41.395905,
          41.410882,
          41.39925,
          41.416018,
          41.4179241,
          41.378486,
          41.4090158,
          41.4005692,
          41.3806648,
          41.4057871,
          41.4099066,
          41.415144,
          41.4030725
         ],
         "legendgroup": "",
         "lon": [
          2.1883486,
          2.188927,
          2.120393,
          2.180042,
          2.17505,
          2.174047,
          2.191022,
          2.174487,
          2.168113,
          2.191428,
          2.186059,
          2.131454,
          2.16157,
          2.176313,
          2.171974,
          2.177842,
          2.174564,
          2.171621,
          2.16905,
          2.165275,
          2.182225,
          2.184898,
          2.183382,
          2.184264,
          2.166022,
          2.163101,
          2.170678,
          2.1715,
          2.200693,
          2.1984029,
          2.181966,
          2.129737,
          2.129847,
          2.123253,
          2.119077,
          2.116973,
          2.113864,
          2.113505,
          2.122912,
          2.123637,
          2.121029,
          2.115076,
          2.111615,
          2.169644,
          2.176909,
          2.175199,
          2.181747,
          2.176822,
          2.183877,
          2.192335,
          2.18976,
          2.192826,
          2.192892,
          2.187558,
          2.184534,
          2.190986,
          2.154471,
          2.152769,
          2.165839,
          2.162166,
          2.166871,
          2.171002,
          2.163476,
          2.180482,
          2.151633,
          2.155794,
          2.158678,
          2.161096,
          2.150814,
          2.164389,
          2.159865,
          2.157483,
          2.152519,
          2.151482,
          2.147358,
          2.156874,
          2.171331,
          2.177284,
          2.178511,
          2.190623,
          2.184238,
          2.158532,
          2.197033,
          2.191039,
          2.152496,
          2.160644,
          2.1920248,
          2.185818,
          2.193032,
          2.181298,
          2.189614,
          2.185852,
          2.190163,
          2.191821,
          2.193185,
          2.185226,
          2.19115,
          2.188997,
          2.190374,
          2.184806,
          2.186637,
          2.189542,
          2.145584,
          2.144549,
          2.183203,
          2.181838,
          2.188017,
          2.193502,
          2.199334,
          2.196844,
          2.170212,
          2.162838,
          2.197653,
          2.190681,
          2.191204,
          2.18195,
          2.1875,
          2.167418,
          2.178784,
          2.156848,
          2.155266,
          2.146793,
          2.204188,
          2.167816,
          2.174252,
          2.176716,
          2.182415,
          2.133087,
          2.152,
          2.164597,
          2.17482,
          2.1483947,
          2.1654279,
          2.1751026,
          2.196261,
          2.168007,
          2.183023,
          2.1749,
          2.192662,
          2.189532,
          2.183737,
          2.139124,
          2.180828,
          2.180251,
          2.16965,
          2.168921,
          2.176451,
          2.170718,
          2.172667,
          2.17871,
          2.192556,
          2.192283,
          2.148082,
          2.180302,
          2.180701,
          2.16123,
          2.199538,
          2.199598,
          2.193702,
          2.206166,
          2.204573,
          2.205277,
          2.119506,
          2.120422,
          2.120973,
          2.123224,
          2.139132,
          2.123268,
          2.12809,
          2.12801,
          2.128541,
          2.13427,
          2.13453,
          2.1383,
          2.130325,
          2.136258,
          2.138717,
          2.13907,
          2.125106,
          2.147953,
          2.14182,
          2.137172,
          2.161305,
          2.184362,
          2.181264,
          2.172864,
          2.177948,
          2.175714,
          2.137331,
          2.14702,
          2.16343,
          2.1744,
          2.141563,
          2.17057,
          2.172984,
          2.177572,
          2.17927,
          2.157987,
          2.163411,
          2.13008,
          2.123191,
          2.134144,
          2.135637,
          2.14812,
          2.178553,
          2.143924,
          2.139771,
          2.138146,
          2.1599551,
          2.1634297,
          2.1634139,
          2.153123,
          2.142868,
          2.143272,
          2.156183,
          2.158811,
          2.162969,
          2.160695,
          2.195801,
          2.157356,
          2.145843,
          2.167933,
          2.169587,
          2.169048,
          2.169463,
          2.168858,
          2.164946,
          2.16424,
          2.167203,
          2.1490856,
          2.1533895,
          2.1537733,
          2.1572314,
          2.1648503,
          2.1530513,
          2.1623,
          2.173555,
          2.1872941,
          2.1420435,
          2.1434059,
          2.1440132,
          2.141548,
          2.1409726,
          2.167154,
          2.145503,
          2.1476883,
          2.1500681,
          2.1499725,
          2.1602704,
          2.1507832,
          2.1503428,
          2.1506554,
          2.1486715,
          2.1630981,
          2.159005,
          2.1483861,
          2.1474257,
          2.177093,
          2.173497,
          2.171812,
          2.17568,
          2.17402,
          2.175759,
          2.170726,
          2.174167,
          2.186711,
          2.171189,
          2.185039,
          2.19578,
          2.195679,
          2.193914,
          2.184921,
          2.183568,
          2.183251,
          2.18061,
          2.180223,
          2.181555,
          2.181299,
          2.17706,
          2.144534,
          2.179111,
          2.168294,
          2.181981,
          2.164373,
          2.170586,
          2.173878,
          2.169019,
          2.17035,
          2.196457,
          2.187073,
          2.191147,
          2.193004,
          2.187111,
          2.189881,
          2.175834,
          2.189906,
          2.186576,
          2.181888,
          2.176804,
          2.221153,
          2.175247,
          2.190773,
          2.18895,
          2.182286,
          2.170028,
          2.17064,
          2.187093,
          2.1547191,
          2.189312,
          2.1572895,
          2.135973,
          2.169811,
          2.143812,
          2.138994,
          2.134088,
          2.141875,
          2.143882,
          2.13926,
          2.13677,
          2.216212,
          2.166163,
          2.181119,
          2.20956,
          2.210461,
          2.208982,
          2.203699,
          2.199934,
          2.213677,
          2.210538,
          2.206539,
          2.204253,
          2.177895,
          2.212641,
          2.20077,
          2.207803,
          2.133467,
          2.133541,
          2.1527471,
          2.135078,
          2.130945,
          2.190167,
          2.142356,
          2.161004,
          2.139116,
          2.136665,
          2.13284,
          2.149094,
          2.130838,
          2.128503,
          2.128737,
          2.134341,
          2.131122,
          2.126933,
          2.133617,
          2.141039,
          2.139363,
          2.135433,
          2.128912,
          2.125593,
          2.208436,
          2.132319,
          2.219377,
          2.1987619,
          2.1924881,
          2.1919802,
          2.20594,
          2.201574,
          2.1611378,
          2.1964181,
          2.1911494,
          2.1817748,
          2.1955147,
          2.1977579,
          2.166828,
          2.1785208,
          2.1765086,
          2.1823944,
          2.1879553,
          2.1969509,
          2.1916731,
          2.1841477,
          2.196308,
          2.1737389,
          2.1648261,
          2.1660973,
          2.2015894,
          2.18781259842217,
          2.2053065,
          2.217994,
          2.2014244,
          2.20881,
          2.207602,
          2.201656,
          2.200769,
          2.218546,
          2.19719,
          2.203112,
          2.192958,
          2.216703,
          2.197421,
          2.212658,
          2.2061937,
          2.163404,
          2.1946377,
          2.1923425,
          2.15625,
          2.1975542,
          2.2028356,
          2.207206,
          2.1959541
         ],
         "marker": {
          "color": [
           21,
           27,
           24,
           46,
           27,
           17,
           27,
           32,
           16,
           16,
           24,
           27,
           20,
           24,
           15,
           27,
           27,
           27,
           27,
           27,
           32,
           32,
           36,
           27,
           27,
           24,
           24,
           27,
           27,
           26,
           27,
           24,
           27,
           36,
           27,
           22,
           27,
           32,
           31,
           27,
           27,
           27,
           32,
           27,
           18,
           27,
           33,
           24,
           33,
           21,
           27,
           22,
           27,
           27,
           27,
           27,
           27,
           24,
           27,
           27,
           27,
           27,
           24,
           33,
           26,
           21,
           18,
           27,
           24,
           26,
           36,
           27,
           24,
           27,
           26,
           28,
           27,
           27,
           27,
           24,
           27,
           27,
           33,
           20,
           32,
           32,
           27,
           24,
           27,
           27,
           24,
           18,
           26,
           27,
           33,
           33,
           27,
           27,
           27,
           32,
           18,
           32,
           31,
           27,
           27,
           24,
           28,
           27,
           27,
           32,
           33,
           27,
           32,
           19,
           27,
           25,
           27,
           27,
           27,
           24,
           29,
           26,
           27,
           33,
           24,
           21,
           27,
           32,
           26,
           33,
           18,
           24,
           24,
           24,
           27,
           20,
           33,
           23,
           27,
           32,
           29,
           33,
           33,
           27,
           27,
           25,
           33,
           32,
           27,
           33,
           27,
           39,
           27,
           27,
           27,
           33,
           27,
           27,
           27,
           27,
           24,
           27,
           36,
           23,
           27,
           27,
           36,
           26,
           27,
           31,
           27,
           27,
           24,
           32,
           23,
           27,
           27,
           24,
           27,
           27,
           28,
           33,
           30,
           27,
           31,
           32,
           27,
           28,
           32,
           31,
           33,
           24,
           33,
           32,
           30,
           26,
           26,
           27,
           27,
           27,
           31,
           28,
           33,
           31,
           33,
           27,
           32,
           21,
           21,
           24,
           26,
           32,
           21,
           15,
           27,
           27,
           21,
           27,
           20,
           27,
           24,
           15,
           21,
           21,
           27,
           25,
           27,
           27,
           21,
           21,
           33,
           24,
           27,
           21,
           20,
           20,
           21,
           26,
           24,
           24,
           22,
           21,
           21,
           21,
           21,
           33,
           24,
           24,
           18,
           18,
           27,
           20,
           21,
           27,
           24,
           21,
           24,
           25,
           19,
           27,
           19,
           21,
           18,
           30,
           27,
           42,
           21,
           27,
           54,
           26,
           21,
           27,
           27,
           27,
           39,
           39,
           21,
           27,
           27,
           27,
           30,
           21,
           18,
           21,
           19,
           21,
           20,
           18,
           21,
           21,
           47,
           54,
           21,
           24,
           27,
           21,
           44,
           24,
           21,
           27,
           21,
           21,
           18,
           21,
           23,
           23,
           18,
           21,
           27,
           20,
           27,
           19,
           26,
           17,
           27,
           28,
           27,
           51,
           15,
           27,
           28,
           27,
           27,
           27,
           27,
           54,
           54,
           27,
           21,
           27,
           27,
           26,
           27,
           27,
           29,
           21,
           25,
           27,
           33,
           24,
           28,
           27,
           26,
           33,
           25,
           33,
           24,
           33,
           33,
           27,
           24,
           24,
           27,
           27,
           27,
           27,
           27,
           27,
           33,
           27,
           24,
           33,
           21,
           16,
           27,
           27,
           24,
           27,
           28,
           27,
           23,
           21,
           21,
           21,
           21,
           21,
           27,
           27,
           21,
           27,
           21,
           27,
           20,
           27,
           21,
           27,
           27,
           21,
           24,
           24,
           27,
           32,
           32,
           23,
           27,
           27,
           27,
           27,
           32,
           27,
           27,
           32,
           27,
           32,
           32,
           27,
           27,
           27,
           15,
           27
          ],
          "coloraxis": "coloraxis"
         },
         "mode": "markers",
         "name": "",
         "showlegend": false,
         "subplot": "mapbox",
         "type": "scattermapbox"
        }
       ],
       "frames": [
        {
         "data": [
          {
           "customdata": [
            [
             "C/ ARAGÓ, 629",
             8908,
             21,
             17
            ],
            [
             "LA BARCELONETA (CN BARCELONETA)",
             8908,
             27,
             1
            ],
            [
             "C/ GALLEGO, 2",
             8908,
             24,
             52
            ],
            [
             "C/ GRAN VIA CORTS CATALANES, 760",
             8908,
             46,
             21
            ],
            [
             "C/ CUBELLES, 2",
             8908,
             27,
             55
            ],
            [
             "PL. DELS JARDINS D'ALFÀBIA, 1",
             8908,
             17,
             84
            ],
            [
             "C/ MÚRCIA, 64",
             8908,
             27,
             18
            ],
            [
             "PL. VIRREI AMAT",
             8908,
             32,
             63
            ],
            [
             "GRAN VIA DE LES CORTS CATALANES, 632",
             8908,
             16,
             32
            ],
            [
             "C/ BOLÍVIA, 76",
             8908,
             16,
             18
            ],
            [
             "C/ MALATS, 98-100",
             8908,
             24,
             25
            ],
            [
             "AV. DIAGONAL, 652",
             8908,
             27,
             60
            ],
            [
             "C/ FULTON, 1",
             8908,
             20,
             0
            ],
            [
             "C/ D'ESCORNALBOU, 51",
             8908,
             24,
             45
            ],
            [
             "C/ AMILCAR, 1",
             8908,
             15,
             63
            ],
            [
             "C/ SANT ANTONI Mª CLARET, 290-296",
             8908,
             27,
             37
            ],
            [
             "C/ MAS CASANOVAS, 137",
             8908,
             27,
             70
            ],
            [
             "TRAVESSERA DE GRÀCIA, 368",
             8908,
             27,
             55
            ],
            [
             "TRAVESSERA DE GRÀCIA, 328",
             8908,
             27,
             59
            ],
            [
             "PLAÇA ALFONS X EL SAVI / RONDA DEL GUINARDO",
             8908,
             27,
             87
            ],
            [
             "AV. RIO DE JANEIRO, 3",
             8908,
             32,
             27
            ],
            [
             "RAMBLA FABRA I PUIG, 67",
             8908,
             32,
             27
            ],
            [
             "AV. MERIDIANA/PG. FABRA I PUIG (SANT ANDREU)",
             8908,
             36,
             27
            ],
            [
             "C/ CONCEPCIÓ ARENAL, 281",
             8908,
             27,
             27
            ],
            [
             "PG. FONT D´EN- FARGAS, 1",
             8908,
             27,
             88
            ],
            [
             "C/ GRANOLLERS, 1",
             8908,
             24,
             95
            ],
            [
             "SEU DEL DISTRICTE (NOU BARRIS)",
             8908,
             24,
             61
            ],
            [
             "C/ SANT ISCLE, 60",
             8908,
             27,
             61
            ],
            [
             "RAMBLA DE PRIM, 256",
             8908,
             27,
             12
            ],
            [
             "C/ CANTÀBRIA, 55",
             8908,
             26,
             13
            ],
            [
             "C/ DEL GUINARDÓ, 32-38",
             8908,
             27,
             33
            ],
            [
             "RAMBLA DEL BRASIL, 44",
             8908,
             24,
             46
            ],
            [
             "C/ FELIU DE CASANOVA, 1",
             8908,
             27,
             42
            ],
            [
             "C/ ARIZALA, 77",
             8908,
             36,
             50
            ],
            [
             "C/ JOSEP SAMITIER / JOAN XXIII",
             8908,
             27,
             47
            ],
            [
             "C/ SANT RAMON NONAT,  26",
             8908,
             22,
             47
            ],
            [
             "C/ CARDENAL REIG, 11",
             8908,
             27,
             50
            ],
            [
             "C/ PINTOR RIBALTA / AV. XILE",
             8908,
             32,
             50
            ],
            [
             "C/ DOCTOR SALVADOR CARDENAL, 1-5",
             8908,
             31,
             63
            ],
            [
             "AV. DIAGONAL, 680",
             8908,
             27,
             63
            ],
            [
             "PG. MANUEL GIRONA, 7",
             8908,
             27,
             63
            ],
            [
             "C/ CAVALLERS, 67",
             8908,
             27,
             101
            ],
            [
             "C/ CAVALLERS, 41",
             8908,
             32,
             73
            ],
            [
             "C/ MARIE CURIE, 8-14",
             8908,
             27,
             61
            ],
            [
             "C/ DE MALADETA, 1",
             8908,
             18,
             47
            ],
            [
             "C/ DE L'ESCULTOR ORDÓÑEZ, 55",
             8908,
             27,
             45
            ],
            [
             "C/ ANDREU NIN, 22",
             8908,
             33,
             45
            ],
            [
             "C/ TURÓ BLAU, 1-3",
             8908,
             24,
             45
            ],
            [
             "C/ DE ROSSELLÓ I PORCEL, 1/AV.MERIDIANA",
             8908,
             33,
             25
            ],
            [
             "VIA BARCINO, 69",
             8908,
             21,
             18
            ],
            [
             "270 - CRTA. DE RIBES, 77 (TRINITAT VELLA)",
             8908,
             27,
             24
            ],
            [
             "VIA BARCINO, 121",
             8908,
             22,
             23
            ],
            [
             "C/ FERNANDO PESSOA, 72",
             8908,
             27,
             23
            ],
            [
             "C/ JOSEP ESTIVILL, 32",
             8908,
             27,
             18
            ],
            [
             "C/ INDÚSTRIA, 329",
             8908,
             27,
             18
            ],
            [
             "C/ ESPRONCEDA, 298",
             8908,
             27,
             17
            ],
            [
             "C/ RIUS I TAULET, 4",
             8908,
             27,
             67
            ],
            [
             "AV. PARAL.LEL, 194",
             8908,
             24,
             47
            ],
            [
             "AV. PARAL.LEL, 98",
             8908,
             27,
             40
            ],
            [
             "PG. DE L´EXPOSICIÓ, 30 /BLASCO GARAY",
             8908,
             27,
             44
            ],
            [
             "C/ NOU DE LA RAMBLA, 164",
             8908,
             27,
             1
            ],
            [
             "C/ VILÀ I VILÀ, 45",
             8908,
             27,
             1
            ],
            [
             "C/ PI I MARGALL, 38",
             8908,
             24,
             82
            ],
            [
             "C/ TEODOR LLORENTE, 2",
             8908,
             33,
             40
            ],
            [
             "C/ DE NIL FABRA, 16-20",
             8908,
             26,
             71
            ],
            [
             "PL. DEL NORD, 5",
             8908,
             21,
             71
            ],
            [
             "C/ DEL TORRENT DE LES FLORS, 102",
             8908,
             18,
             59
            ],
            [
             "C/ MONTMANY, 1",
             8908,
             27,
             59
            ],
            [
             "C/ MALLORCA, 84",
             8908,
             24,
             44
            ],
            [
             "C / GIRONA, 176",
             8908,
             26,
             55
            ],
            [
             "C/ DE BONAVISTA, 14",
             8908,
             36,
             50
            ],
            [
             "C/ DEL CANÓ, 1",
             8908,
             27,
             71
            ],
            [
             "GRAN DE GRÀCIA, 155 (METRO FONTANA)",
             8908,
             24,
             71
            ],
            [
             "C/ TUSET, 19",
             8908,
             27,
             59
            ],
            [
             "C/ LAFORJA, 74-76",
             8908,
             26,
             69
            ],
            [
             "C/ DE LA SANTACREU, 2 (PL.DE LA VIRREINA)",
             8908,
             28,
             71
            ],
            [
             "C/ CARTAGENA, 368",
             8908,
             27,
             59
            ],
            [
             "C/ RAMON ALBÓ, 1",
             8908,
             27,
             37
            ],
            [
             "C/ FELIP II, 214",
             8908,
             27,
             47
            ],
            [
             "PG. TORRAS I BAGES, 129",
             8908,
             24,
             24
            ],
            [
             "C/ CONCEPCIÓ ARENAL, 176",
             8908,
             27,
             37
            ],
            [
             "C/ CASANOVAS, 67",
             8908,
             27,
             40
            ],
            [
             "C/REPÚBLICA DOMINICANA,25(CENTRE COMERCIAL)",
             8908,
             33,
             19
            ],
            [
             "PG. TORRAS I BAGES, 29",
             8908,
             20,
             27
            ],
            [
             "C/ ROCAFORT, 103",
             8908,
             32,
             40
            ],
            [
             "C/ VILLARROEL, 39",
             8908,
             32,
             35
            ],
            [
             "CARRER DEL CINCA, 7",
             8030,
             27,
             0
            ],
            [
             "C/ DE BARTRINA, 14",
             8908,
             24,
             25
            ],
            [
             "C/ FERNANDO PESSOA, 41",
             8908,
             27,
             15
            ],
            [
             "C/ ALEXANDRE GALÍ, 1-5",
             8908,
             27,
             37
            ],
            [
             "C/ SANT ADRIÀ, 2-8",
             8908,
             24,
             0
            ],
            [
             "C/ IRLANDA, 11-21",
             8908,
             18,
             27
            ],
            [
             "RAMBLA DE L'ONZE DE SETEMBRE, 69",
             8908,
             26,
             25
            ],
            [
             "C/ ONZE DE SETEMBRE, 37-39",
             8908,
             27,
             18
            ],
            [
             "RAMBLA DE L'ONZE DE SETEMBRE, 31",
             8908,
             33,
             18
            ],
            [
             "C/ CARDENAL TEDESCHINI, 13",
             8908,
             33,
             27
            ],
            [
             "C/ PORTUGAL, 3",
             8908,
             27,
             24
            ],
            [
             "C/ AÇORES,1-3",
             8908,
             27,
             18
            ],
            [
             "C/ PALÈNCIA, 31",
             8908,
             27,
             18
            ],
            [
             "C/ FELIPE II, 112",
             8908,
             32,
             19
            ],
            [
             "C/ GARCILASO, 77",
             8908,
             18,
             18
            ],
            [
             "C/ MALATS, 28-30",
             8908,
             32,
             25
            ],
            [
             "C/ SAGUÉS, 1",
             8908,
             31,
             65
            ],
            [
             "C/ SANT HERMENEGILD, 30",
             8908,
             27,
             80
            ],
            [
             "C/ CONSELL DE CENT, 566",
             8908,
             27,
             28
            ],
            [
             "PL. ANTONIO LÓPEZ ( VIA LAIETANA)",
             8908,
             24,
             5
            ],
            [
             "MOLL ORIENTAL",
             8908,
             28,
             5
            ],
            [
             "PG. MARÍTIM DE LA BARCELONETA/ANDREA DÒRIA",
             8908,
             27,
             0.1
            ],
            [
             "AV. LITORAL (PG MARÍTIM DEL PORT OLÍMPIC)",
             8908,
             27,
             1
            ],
            [
             "C/ JOAN MIRÓ, 2-12",
             8908,
             32,
             1
            ],
            [
             "PL. CATALUNYA, 22",
             8908,
             33,
             32
            ],
            [
             "C/ DIPUTACIÓ, 226",
             8908,
             27,
             41
            ],
            [
             "C/ LLACUNA, 86",
             8908,
             32,
             16
            ],
            [
             "C/ RAMON TURRÓ, 4",
             8908,
             19,
             11
            ],
            [
             "C/ SAGRERA, 74",
             8908,
             27,
             18
            ],
            [
             "C/ COMERÇ, 36",
             8908,
             25,
             16
            ],
            [
             "RECINTE PARC DE LA CIUTADELLA",
             8908,
             27,
             11
            ],
            [
             "C/ RIERA ALTA, 6",
             8908,
             27,
             24
            ],
            [
             "C/ NÀPOLS, 125",
             8908,
             27,
             21
            ],
            [
             "AV. PARAL.LEL 164",
             8908,
             24,
             40
            ],
            [
             "C/ CASANOVA, 119",
             8908,
             29,
             45
            ],
            [
             "C/ VILAMARÍ, 85",
             8908,
             26,
             44
            ],
            [
             "C/ LOPE DE VEGA, 79",
             8908,
             27,
             10
            ],
            [
             "C/ AGUSTÍ DURAN I SANPERE, 10",
             8908,
             33,
             24
            ],
            [
             "C/ DURAN I BAS, 2",
             8908,
             24,
             32
            ],
            [
             "PL. JOAQUIM XIRAU I PALAU, 1",
             8908,
             21,
             5
            ],
            [
             "PG. DE COLOM (VIA LAIETANA)",
             8908,
             27,
             5
            ],
            [
             "C/ JUAN GRIS, 28",
             8908,
             32,
             16
            ],
            [
             "C/ COMTE BORRELL, 198",
             8908,
             26,
             45
            ],
            [
             "GRAN VIA DE LES CORTS CATALANES, 592",
             8908,
             33,
             41
            ],
            [
             "C/ PROVENÇA, 445",
             1,
             18,
             21
            ],
            [
             "C/ DIPUTACIÓ - TARRAGONA",
             8908,
             24,
             45
            ],
            [
             "RAMBLA CATALUNYA/DIPUTACIO",
             8908,
             24,
             41
            ],
            [
             "PL. TETUAN",
             1,
             24,
             21
            ],
            [
             "C/ PUJADES, 103",
             8908,
             27,
             11
            ],
            [
             "C/ DE SANT PAU, 119/ RONDA SANT PAU",
             8908,
             20,
             24
            ],
            [
             "C/ DE RIBES, 59 B",
             8908,
             33,
             21
            ],
            [
             "C/ DE CERVELLÓ, 5",
             8908,
             23,
             24
            ],
            [
             "PG. MARÍTIM DE LA BARCELONETA",
             8908,
             27,
             5
            ],
            [
             "C/ HONDURAS, 32-34",
             8908,
             32,
             18
            ],
            [
             "PL. ICTÍNEO",
             8908,
             29,
             1
            ],
            [
             "PL. DE JOAN PEIRÓ",
             8908,
             33,
             45
            ],
            [
             "PG.DE LLUíS COMPANYS (ARC DE TRIOMF)",
             8908,
             33,
             16
            ],
            [
             "PG. DE LLUíS COMPANYS (ARC DE TRIOMF)",
             8908,
             27,
             16
            ],
            [
             "RAMBLA DEL RAVAL, 20",
             8908,
             27,
             24
            ],
            [
             "RAMBLA DEL RAVAL, 13",
             8908,
             25,
             24
            ],
            [
             "C/ CASP, 67",
             8908,
             33,
             21
            ],
            [
             "C/ BRUC, 66",
             8908,
             32,
             42
            ],
            [
             "PL. URQUINAONA, 3",
             8908,
             27,
             32
            ],
            [
             "PG.DE COLOM (LES RAMBLES)",
             8908,
             33,
             5
            ],
            [
             "C/ JOAN D'ÀUSTRIA, 31B",
             8908,
             27,
             11
            ],
            [
             "C/ RAMON TRIAS FARGAS, 23",
             8908,
             39,
             1
            ],
            [
             "GRAN VIA DE LES CORTS CATALANES, 361",
             8908,
             27,
             61
            ],
            [
             "WORLD  TRADE CENTER",
             8908,
             27,
             1
            ],
            [
             "WORLD TRADE CENTER",
             8908,
             27,
             1
            ],
            [
             "PG. DE GRÀCIA, 89",
             8908,
             33,
             50
            ],
            [
             "C/ CIUTAT D'ASUNCIÓN, 73 / POTOSÍ",
             8908,
             27,
             23
            ],
            [
             "CAMPANA DE LA MAQUINISTA (SAO PAULO I PL. DE",
             8908,
             27,
             19
            ],
            [
             "C/ ROC BORONAT, 134",
             8908,
             27,
             18
            ],
            [
             "PG. D'ENRIC SANCHIS, 33",
             8908,
             27,
             28
            ],
            [
             "C/ SANT ADRIÀ, 113",
             8908,
             24,
             28
            ],
            [
             "C/ RAMON TURRÓ, 246",
             8908,
             27,
             9
            ],
            [
             "AV. J. V. FOIX,  63",
             8908,
             36,
             96
            ],
            [
             "C/ CARME KARR, 12-14",
             8908,
             23,
             96
            ],
            [
             "C/ CAPONATA, 10",
             8908,
             27,
             96
            ],
            [
             "C/ SANTA AMÈLIA, 2",
             8908,
             27,
             96
            ],
            [
             "C/ DE LA FONERIA, 33",
             8908,
             36,
             48
            ],
            [
             "VIA AUGUSTA, 348",
             8908,
             26,
             138
            ],
            [
             "C/ DOCTOR ROUX, 86",
             8908,
             27,
             82
            ],
            [
             "C/ CASTELLNOU, 65",
             8908,
             31,
             82
            ],
            [
             "C/ DE LES ESCOLES PIES, 99",
             8908,
             27,
             130
            ],
            [
             "C/ ARTESA DE SEGRE, 2",
             8908,
             27,
             106
            ],
            [
             "C/ REUS, 23",
             8908,
             24,
             106
            ],
            [
             "C/ BALMES, 409",
             8908,
             32,
             110
            ],
            [
             "C/ ALT DE GIRONELLA, 13",
             8908,
             23,
             82
            ],
            [
             "C/ REINA VICTORIA, 31",
             8908,
             27,
             79
            ],
            [
             "C/ VALLMAJOR, 13",
             8908,
             27,
             79
            ],
            [
             "C/ SANTALÓ, 165",
             8908,
             24,
             106
            ],
            [
             "PASSATGE DE SENILLOSA, 3-5",
             8908,
             27,
             82
            ],
            [
             "VÍA AUGUSTA, 109",
             8908,
             27,
             80
            ],
            [
             "C/ ALTS FORNS, 77",
             8908,
             28,
             35
            ],
            [
             "C/ DE L'ENERGIA, 2 / ALTS FORNS",
             8908,
             33,
             13
            ],
            [
             "AV. PARAL.LEL, 132",
             8908,
             30,
             35
            ],
            [
             "C/ RIBES, 77",
             8908,
             27,
             18
            ],
            [
             "C/ DELS ENAMORATS, 49",
             8908,
             31,
             28
            ],
            [
             "C/ SARDENYA, 326",
             8908,
             32,
             49
            ],
            [
             "C/ CONSELL DE CENT, 482",
             8908,
             27,
             28
            ],
            [
             "C/ DIPUTACIÓ, 350",
             8908,
             28,
             21
            ],
            [
             "C/ MARQUÈS DE SENTMENAT, 46",
             8908,
             32,
             57
            ],
            [
             "C/ VILADOMAT, 244",
             8908,
             31,
             51
            ],
            [
             "PG. DE GRÀCIA, 61",
             8908,
             33,
             50
            ],
            [
             "C/ BRUC, 20",
             8908,
             24,
             32
            ],
            [
             "JARDINS DE CAN FERRERO/PG.DE LA ZONA FRANCA",
             8908,
             33,
             13
            ],
            [
             "C/ BAILÉN, 100",
             8908,
             32,
             42
            ],
            [
             "C/ BAILÉN, 62",
             8908,
             30,
             42
            ],
            [
             "C/ MÉNDEZ NÚÑEZ, 16",
             8908,
             26,
             16
            ],
            [
             "C/ GOMBAU, 24",
             8908,
             26,
             16
            ],
            [
             "C/ CARDENER, 59",
             8908,
             27,
             0
            ],
            [
             "C/ CAMÈLIES, 73",
             8908,
             27,
             115
            ],
            [
             "RAMBLA DEL BRASIL, 5",
             8908,
             27,
             46
            ],
            [
             "C/ MUNNÉ  2-6",
             8908,
             31,
             47
            ],
            [
             "C/RADI,10/GRAN VIA DE LES CORTS CATALANES",
             8908,
             28,
             48
            ],
            [
             "C/ JANE ADDAMS, 26/ CRTA. DEL PRAT",
             8908,
             33,
             48
            ],
            [
             "C/ VILLARROEL, 208",
             8908,
             31,
             69
            ],
            [
             "PG. DE COLOM (LES RAMBLES)",
             8908,
             33,
             5
            ],
            [
             "C/ RECTOR UBACH, 24",
             8908,
             27,
             69
            ],
            [
             "PL. TERESA DE CLARAMUNT/C/ DELS FERROCARILS",
             8908,
             32,
             48
            ],
            [
             "C/ GANDUXER, 29",
             8908,
             21,
             79
            ],
            [
             "C/ ENRIC  GRANADOS, 35",
             8908,
             21,
             41
            ],
            [
             "PL. UNIVERSITAT",
             8908,
             24,
             41
            ],
            [
             "PL. UNIVERSITAT /  ARIBAU",
             8908,
             26,
             41
            ],
            [
             "C/ CÒRSEGA, 216",
             8908,
             32,
             45
            ],
            [
             "AV. JOSEP TARRADELLAS, 58",
             8908,
             21,
             51
            ],
            [
             "AV. JOSEP TARRADELLAS, 133",
             8908,
             15,
             51
            ],
            [
             "C/ ENRIC GRANADOS, 93",
             8908,
             27,
             59
            ],
            [
             "C/ PROVENÇA, 215",
             8908,
             27,
             55
            ],
            [
             "C/ FLORIDABLANCA, 145",
             8908,
             21,
             35
            ],
            [
             "C/ COMTE URGELL, 23",
             8908,
             27,
             35
            ],
            [
             "CARRER DE LA MARINA,25-33",
             8908,
             20,
             8
            ],
            [
             "RAMBLA CATALUNYA, 133 /  CÒRSEGA",
             8908,
             27,
             59
            ],
            [
             "C/ ROCAFORT, 214 / ROSSELLÓ",
             8908,
             24,
             51
            ],
            [
             "GRAN VIA DE LES CORTS CATALANES, 609",
             8908,
             15,
             32
            ],
            [
             "PL. CATALUNYA, 10-11 (PG. DE GRACIA)",
             8908,
             21,
             32
            ],
            [
             "PL. CATALUNYA, 10-11 (RAMBLA)",
             8908,
             21,
             32
            ],
            [
             "PL. CATALUNYA, 7",
             8908,
             27,
             32
            ],
            [
             "PL. CATALUNYA, 5",
             8908,
             25,
             32
            ],
            [
             "RAMBLA CATALUNYA, 42",
             8908,
             27,
             41
            ],
            [
             "RAMBLA CATALUNYA, 47",
             8908,
             27,
             41
            ],
            [
             "59 - PLAÇA DELS ÀNGELS ( MACBA )",
             8908,
             21,
             24
            ],
            [
             "C/ VILAMARÍ,  61",
             8908,
             21,
             44
            ],
            [
             "C/ ROCAFORT, 72-74",
             8908,
             33,
             40
            ],
            [
             "C/ COMTE BORRELL, 177",
             8908,
             24,
             45
            ],
            [
             "C/ DEL COMTE D'URGELL, 75 B",
             8908,
             27,
             35
            ],
            [
             "C / INDÚSTRIA, 10",
             8908,
             21,
             59
            ],
            [
             "TRAV. DE GRÀCIA, 92 / VIA AUGUSTA",
             8908,
             20,
             59
            ],
            [
             "PL  JOANIC - C / BRUNIQUER, 59",
             8908,
             20,
             59
            ],
            [
             "PL. URQUINAONA, 9-10",
             8908,
             21,
             32
            ],
            [
             "C/ VALÈNCIA, 621",
             8908,
             26,
             17
            ],
            [
             "AV. DIAGONAL,  612",
             8908,
             24,
             69
            ],
            [
             "AV. DIAGONAL,  602",
             8908,
             24,
             69
            ],
            [
             "C/ TARRAGONA,  159-173",
             8908,
             22,
             44
            ],
            [
             "C/ VIRIAT,  53",
             8908,
             21,
             44
            ],
            [
             "C/ VIRIAT, 43",
             8908,
             21,
             44
            ],
            [
             "PLAÇA DELS ÀNGELS ( MACBA )",
             8908,
             21,
             24
            ],
            [
             "C/ TARRAGONA, 141",
             8908,
             21,
             44
            ],
            [
             "C/ TARRAGONA, 103-115",
             8908,
             33,
             44
            ],
            [
             "GRAN  VIA DE LES CORTS CATALANES, 375-385",
             8908,
             24,
             40
            ],
            [
             "GRAN VIA DE LES CORTS CATALANES, 375-385",
             8908,
             24,
             40
            ],
            [
             "C / PROVENÇA, 241",
             8908,
             18,
             50
            ],
            [
             "C/ ROSSELLÓ, 108-110",
             8908,
             18,
             45
            ],
            [
             "C/ ROSSELLÓ,  101",
             8908,
             27,
             45
            ],
            [
             "C/ LONDRES, 101-103",
             8908,
             20,
             59
            ],
            [
             "C/ MALLORCA, 41-43",
             8908,
             21,
             44
            ],
            [
             "C/ VILADOMAT,  2",
             8908,
             27,
             35
            ],
            [
             "AV. PARAL·LEL, 146 BIS",
             8908,
             24,
             35
            ],
            [
             "GRAN VIA DE LES CORTS CATALANES, 361",
             8908,
             21,
             61
            ],
            [
             "C/ LONDRES,  53",
             8908,
             24,
             51
            ],
            [
             "RAMBLA, 2",
             8908,
             25,
             5
            ],
            [
             "LA RAMBLA, 80",
             8908,
             19,
             24
            ],
            [
             "C/ BRUC, 45",
             8908,
             27,
             42
            ],
            [
             "C/ SARDENYA, 292",
             8908,
             19,
             28
            ],
            [
             "C/ SANT ANTONI MARIA CLARET, 214",
             8908,
             21,
             59
            ],
            [
             "C/ CARTAGENA, 308",
             8908,
             18,
             59
            ],
            [
             "C/ ROSSELLÓ, 354",
             8908,
             30,
             49
            ],
            [
             "C/ ROSSELLÓ, 453",
             8908,
             27,
             49
            ],
            [
             "AV. MERIDIANA, 47 (ANNEXA A LA 16)",
             8908,
             42,
             18
            ],
            [
             "C/ GIRONA, 68",
             8908,
             21,
             40
            ],
            [
             "AV. MARQUÉS DE  L'ARGENTERA, 15",
             8908,
             27,
             11
            ],
            [
             "CARRER DE LA MARINA, 25-33",
             8908,
             54,
             8
            ],
            [
             "PG. MARITIM, 23 (HOSPITAL DEL MAR)",
             8908,
             26,
             0.1
            ],
            [
             "PG. MARITIM, 11 (DAVANT PL. BRUGADA)",
             8908,
             21,
             1
            ],
            [
             "AV. MARQUÉS DE L'ARGENTERA,13",
             8908,
             27,
             11
            ],
            [
             "PG. PUJADES, 2",
             8908,
             27,
             11
            ],
            [
             "PG. PUJADES,  1 (JUTJATS)",
             8908,
             27,
             16
            ],
            [
             "PG. LLUIS COMPANYS, 18  (ARC TRIOMF)",
             8908,
             39,
             16
            ],
            [
             "PG. LLUIS COMPANYS, 11 (ARC TRIOMF)",
             8908,
             39,
             16
            ],
            [
             "C/ RIBES, 13",
             8908,
             21,
             21
            ],
            [
             "C/ NÀPOLS, 82",
             8908,
             27,
             22
            ],
            [
             "C/ ROGER DE FLOR, 126",
             8908,
             27,
             21
            ],
            [
             "C/ MADRAZO, 131",
             8908,
             27,
             69
            ],
            [
             "C/ MARINA, 199",
             8908,
             30,
             30
            ],
            [
             "C/ BRUC, 102",
             8908,
             21,
             42
            ],
            [
             "C/ DOS DE MAIG, 230-232",
             8908,
             18,
             28
            ],
            [
             "C/ PROVENÇA, 322",
             8908,
             21,
             49
            ],
            [
             "C/ SANT OLEGUER, 2",
             8908,
             19,
             24
            ],
            [
             "PL. CARLES PI I SUNYER",
             8908,
             21,
             32
            ],
            [
             "PL. VICENÇ MARTORELL",
             8908,
             20,
             32
            ],
            [
             "AV. PARAL.LEL, 54",
             8908,
             18,
             1
            ],
            [
             "C/ ROSA SENSAT, 20",
             8908,
             21,
             1
            ],
            [
             "AV. MERIDIANA, 40",
             8908,
             21,
             18
            ],
            [
             "C/ RAMON TRIAS FARGAS, 21",
             8908,
             47,
             1
            ],
            [
             "C/ RAMON TRIAS FARGAS, 19",
             8908,
             54,
             1
            ],
            [
             "AV. MERIDIANA, 66 ( COSTAT METRO GLORIES)",
             8908,
             21,
             18
            ],
            [
             "C/ CIUTAT DE GRANADA, 168 / AV. DIAGONAL",
             8908,
             24,
             18
            ],
            [
             "PORTAL DE SANTA MADRONA, 2-4",
             8908,
             27,
             5
            ],
            [
             "PL. POETA BOSCÀ/ATLÀNTIDA",
             8908,
             21,
             1
            ],
            [
             "PL. PAU VILA",
             8908,
             44,
             1
            ],
            [
             "PL. ANTONIO LÓPEZ (CORREUS, VIA LAIETANA)",
             8908,
             24,
             5
            ],
            [
             "AV. DE LA CATEDRAL, 6",
             8908,
             21,
             16
            ],
            [
             "C/ SANT RAMON DE PENYAFORT, 1",
             8908,
             27,
             1
            ],
            [
             "C/ SANT PERE MÉS ALT, 4",
             8908,
             21,
             16
            ],
            [
             "C/ PONTEVEDRA / JUDICI",
             8908,
             21,
             1
            ],
            [
             "PL. DEL MAR",
             8908,
             18,
             1
            ],
            [
             "AV. DIAGONAL, 231 AMB PADILLA",
             8908,
             21,
             28
            ],
            [
             "C/ PROVENÇA, 388-390",
             8908,
             23,
             50
            ],
            [
             "C/ SARDENYA, 362",
             8908,
             23,
             45
            ],
            [
             "C/ DOCTOR AIGUADER, 2",
             8908,
             18,
             1
            ],
            [
             "AV. ROMA,  136",
             8908,
             21,
             43
            ],
            [
             "C/ SARDENYA, 66",
             8908,
             27,
             18
            ],
            [
             "C/ FLORIDABLANCA, 49",
             8908,
             20,
             40
            ],
            [
             "PG. SANT ANTONI /PL. SANTS",
             8908,
             27,
             45
            ],
            [
             "C/ DE SANT PAU, 89 - 97",
             8908,
             19,
             24
            ],
            [
             "C/CONSELL DE CENT, 6",
             8908,
             26,
             0
            ],
            [
             "C/GAVÀ, 81",
             8908,
             17,
             50
            ],
            [
             "C/ QUETZAL, 22-24",
             8908,
             27,
             50
            ],
            [
             "C/ GAVÀ, 1",
             8908,
             28,
             61
            ],
            [
             "GRAN VIA DE LES CORTS CATALANES, 273",
             8908,
             27,
             61
            ],
            [
             "GRAN VIA DE LES CORTS CATALANES/MOSSÈN AMADEU OLLER",
             8908,
             51,
             50
            ],
            [
             "PG. ZONA FRANCA, 244",
             8908,
             15,
             48
            ],
            [
             "PG. DE GARCIA FÀRIA, 85",
             8908,
             27,
             0.1
            ],
            [
             "C/ BRUC, 130",
             8908,
             28,
             50
            ],
            [
             "C/ ROSSELLÓ, 557",
             8908,
             27,
             0.1
            ],
            [
             "C/ LLULL, 309",
             8908,
             27,
             10
            ],
            [
             "PG. DE GARCIA FÀRIA, 21/ESPRONCEDA",
             8908,
             27,
             0.1
            ],
            [
             "AV.LITORAL, 84",
             8908,
             27,
             0.1
            ],
            [
             "PG. MARÍTIM DE LA NOVA ICÀRIA, 83",
             8908,
             54,
             0.1
            ],
            [
             "AV.LITORAL, 40 (ANNEXA A LA 169)",
             8908,
             54,
             1
            ],
            [
             "SELVA DE MAR / PG. DEL TAULAT",
             8908,
             27,
             0.1
            ],
            [
             "C/ BAC DE RODA, 11",
             8908,
             21,
             0.1
            ],
            [
             "C/ BILBAO, 2",
             8005,
             27,
             0
            ],
            [
             "C/ DEL DOCTOR TRUETA, 222",
             8908,
             27,
             0.1
            ],
            [
             "C/ INDEPENDÈNCIA, 379",
             8908,
             26,
             33
            ],
            [
             "PG. DE GARCIA FÀRIA, 37/JOSEP FERRATER",
             8908,
             27,
             0.1
            ],
            [
             "AV. ICÀRIA, 202",
             8908,
             27,
             11
            ],
            [
             "AV. LITORAL, 72",
             8908,
             29,
             0.1
            ],
            [
             "C/ JOAN GÜELL, 50",
             8908,
             21,
             40
            ],
            [
             "C/ JOSÉ DE  AGULLÓ, 9",
             8908,
             25,
             85
            ],
            [
             "C/ CALÀBRIA, 137",
             8908,
             27,
             41
            ],
            [
             "C/ SANTA FE DE NOU MÈXIC, 2",
             8908,
             33,
             79
            ],
            [
             "AV. SARRIÀ, 163",
             8908,
             24,
             82
            ],
            [
             "C/ SANCHO DE ÁVILA, 60-64",
             8908,
             28,
             18
            ],
            [
             "C/ VILARDELL, 18",
             8908,
             27,
             50
            ],
            [
             "C/ DIPUTACIÓ, 200",
             8908,
             26,
             41
            ],
            [
             "AV. DIAGONAL, 630",
             8908,
             33,
             57
            ],
            [
             "AV. DIAGONAL, 634",
             8908,
             25,
             57
            ],
            [
             "AV. DIAGONAL, 650",
             8908,
             33,
             60
            ],
            [
             "C/ ROCAFORT, 167",
             8908,
             24,
             44
            ],
            [
             "C/ EUROPA, 25",
             8908,
             33,
             60
            ],
            [
             "AV. DIAGONAL, 668",
             8908,
             33,
             60
            ],
            [
             "C/ DE LES CORTS, 20",
             8908,
             27,
             60
            ],
            [
             "C/ NUMÀNCIA, 136",
             8908,
             24,
             58
            ],
            [
             "C/ JOAN GUELL, 174",
             8908,
             24,
             60
            ],
            [
             "C/ MEJÍA LEQUERICA, 2",
             8908,
             27,
             46
            ],
            [
             "C/ VALLESPIR, 194",
             8908,
             27,
             58
            ],
            [
             "C/ GELABERT, 1",
             8908,
             27,
             57
            ],
            [
             "C/ BERLÍN, 38",
             8908,
             27,
             30
            ],
            [
             "C/ VALLESPIR, 130",
             8908,
             27,
             45
            ],
            [
             "C/ FÍGOLS, 1",
             8908,
             27,
             46
            ],
            [
             "AV. DIAGONAL, 664",
             8908,
             33,
             60
            ],
            [
             "C/ RAMON TURRÓ, 292",
             8908,
             27,
             0.1
            ],
            [
             "C/ JOAN GÜELL, 98",
             8908,
             24,
             40
            ],
            [
             "AV. D'EDUARD MARISTANY, 1 /FORUM",
             8908,
             33,
             1
            ],
            [
             "C/ BAC DE RODA, 157",
             8908,
             21,
             10
            ],
            [
             "GRAN VIA DE LES CORTS CATALANES, 902",
             8908,
             16,
             16
            ],
            [
             "PL.VALENTÍ ALMIRALL",
             8908,
             27,
             13
            ],
            [
             "RAMBLA  DE GUIPÚSCOA, 158/ CA N'OLIVA",
             8908,
             27,
             9
            ],
            [
             "RAMBLA DE GUIPÚSCOA, 103 /CANTÀBRIA",
             8908,
             24,
             9
            ],
            [
             "C/ MANSO, 46",
             8908,
             27,
             35
            ],
            [
             "RAMBLA DE GUIPÚSCOA, 43/FLUVIÀ",
             8908,
             28,
             13
            ],
            [
             "C/ ARAGÓ, 659 /NAVAS DE TOLOSA",
             8908,
             27,
             17
            ],
            [
             "PG. DE COLOM /VIA LAIETANA",
             8908,
             23,
             5
            ],
            [
             "PG. MARíTIM, 31 B (ANNEXA A LA  12)",
             8908,
             21,
             1
            ],
            [
             "GRAN VIA DE LES CORTS CATALANES,  981",
             8908,
             21,
             13
            ],
            [
             "C/ GIRONA, 142",
             8908,
             21,
             45
            ],
            [
             "C/ CASTILLEJOS, 258",
             8908,
             21,
             28
            ],
            [
             "C/ LEPANT,  278",
             8908,
             21,
             28
            ],
            [
             "C/ SARDENYA,  178",
             8908,
             27,
             21
            ],
            [
             "C/ PUJADES,  3",
             8908,
             27,
             18
            ],
            [
             "C/ ROSA SENSAT, 12",
             8908,
             21,
             1
            ],
            [
             "C/ DEL DR. AIGUADER, 72 / PG. SALVAT PAPASSEIT",
             8908,
             27,
             11
            ],
            [
             "AV. MARQUÉS DE L'ARGENTERA,  3",
             8908,
             21,
             1
            ],
            [
             "C/ RAMON TURRÓ, 91",
             8908,
             27,
             11
            ],
            [
             "PL. JEAN GENET,  1",
             8908,
             20,
             24
            ],
            [
             "RONDA DE SANT PAU, 51",
             8908,
             27,
             30
            ],
            [
             "C/ NÀPOLS, 344",
             8908,
             21,
             59
            ],
            [
             "GRAN VIA DE LES CORTS CATALANES,  1062",
             8908,
             27,
             9
            ],
            [
             "C/ NOVA  BOCANA",
             8908,
             27,
             5
            ],
            [
             "GRAN VIA DE LES CORTS CATALANES, 1118",
             8908,
             21,
             9
            ],
            [
             "C/ LLULL, 465",
             8908,
             24,
             0.1
            ],
            [
             "GRAN VIA DE LES CORTS CATALANES, 1041",
             8908,
             24,
             9
            ],
            [
             "C/ SELVA DE MAR, 46",
             8908,
             27,
             5
            ],
            [
             "C/ PUJADES, 311/ FLUVIÀ",
             8908,
             32,
             10
            ],
            [
             "C/ PUJADES, 191",
             8908,
             32,
             10
            ],
            [
             "C/ PUJADES, 173/RAMBLA DEL POBLE NOU",
             8908,
             23,
             10
            ],
            [
             "RAMBLA DE PRIM, 19",
             8908,
             27,
             1
            ],
            [
             "C/ PALLARS, 182",
             8908,
             27,
             6
            ],
            [
             "C/ ESPRONCEDA, 124",
             8908,
             27,
             10
            ],
            [
             "149 - C/ PUJADES, 57B",
             8908,
             27,
             11
            ],
            [
             "AV. DIAGONAL, 26",
             8908,
             32,
             5
            ],
            [
             "C/ PUJADES, 121",
             8908,
             27,
             11
            ],
            [
             "RAMBLA PRIM, 79",
             8908,
             27,
             5
            ],
            [
             "GRAN VIA DE LES CORTS CATALANES,  1131",
             8908,
             32,
             9
            ],
            [
             "RONDA SANT PAU, 79",
             8908,
             27,
             12
            ],
            [
             "GRAN VIA DE LES CORTS CATALANES ,  940",
             8908,
             32,
             13
            ],
            [
             "C/ SANCHO DE ÁVILA,  104 - C/ BADAJOZ",
             8908,
             32,
             16
            ],
            [
             "C/ VILADOMAT, 122",
             8908,
             27,
             41
            ],
            [
             "C/ CASTELLA,  28 / DIAGONAL",
             8908,
             27,
             16
            ],
            [
             "C/ PERE IV,  301 / FLUVIÀ",
             8908,
             27,
             9
            ],
            [
             "C/ PERE IV, 488",
             8908,
             15,
             9
            ],
            [
             "C/ SANCHO DE ÁVILA, 170 / LLACUNA",
             8908,
             27,
             16
            ]
           ],
           "hovertemplate": "<b>%{hovertext}</b><br><br>year=2019<br>lat=%{lat}<br>lon=%{lon}<br>address=%{customdata[0]}<br>post_code=%{customdata[1]}<br>capacity=%{marker.color}<br>altitude=%{customdata[3]}<extra></extra>",
           "hovertext": [
            103,
            32,
            311,
            1,
            291,
            290,
            289,
            288,
            287,
            286,
            285,
            284,
            283,
            281,
            292,
            280,
            279,
            278,
            277,
            276,
            275,
            274,
            273,
            272,
            282,
            293,
            294,
            295,
            317,
            316,
            315,
            314,
            313,
            312,
            310,
            309,
            308,
            307,
            306,
            305,
            304,
            303,
            302,
            301,
            300,
            299,
            298,
            297,
            296,
            271,
            270,
            269,
            268,
            240,
            239,
            238,
            237,
            236,
            235,
            234,
            233,
            232,
            231,
            241,
            230,
            228,
            227,
            226,
            225,
            224,
            223,
            222,
            221,
            220,
            219,
            229,
            318,
            242,
            244,
            267,
            266,
            265,
            264,
            263,
            262,
            261,
            260,
            259,
            258,
            243,
            257,
            255,
            254,
            253,
            252,
            251,
            250,
            249,
            248,
            247,
            246,
            256,
            319,
            321,
            218,
            401,
            400,
            398,
            397,
            396,
            395,
            394,
            393,
            392,
            391,
            390,
            389,
            388,
            387,
            386,
            385,
            384,
            382,
            381,
            380,
            378,
            402,
            404,
            405,
            406,
            496,
            495,
            494,
            492,
            428,
            427,
            426,
            425,
            424,
            423,
            377,
            421,
            419,
            418,
            416,
            415,
            414,
            413,
            412,
            410,
            409,
            408,
            420,
            376,
            375,
            374,
            344,
            343,
            342,
            341,
            340,
            339,
            338,
            337,
            336,
            335,
            346,
            334,
            332,
            331,
            329,
            328,
            327,
            326,
            325,
            324,
            323,
            322,
            333,
            320,
            347,
            349,
            373,
            372,
            371,
            370,
            369,
            368,
            367,
            365,
            364,
            363,
            348,
            362,
            360,
            359,
            358,
            357,
            356,
            354,
            353,
            352,
            351,
            350,
            361,
            217,
            345,
            215,
            80,
            79,
            78,
            76,
            75,
            74,
            73,
            72,
            71,
            70,
            69,
            68,
            67,
            66,
            65,
            64,
            63,
            62,
            61,
            60,
            59,
            81,
            82,
            83,
            84,
            108,
            107,
            106,
            105,
            104,
            102,
            101,
            100,
            99,
            98,
            58,
            97,
            95,
            94,
            93,
            92,
            90,
            89,
            88,
            87,
            86,
            85,
            96,
            109,
            57,
            55,
            23,
            22,
            21,
            20,
            19,
            18,
            17,
            15,
            14,
            13,
            12,
            11,
            9,
            8,
            7,
            6,
            5,
            4,
            3,
            2,
            216,
            24,
            25,
            26,
            27,
            54,
            53,
            51,
            50,
            49,
            48,
            47,
            46,
            44,
            42,
            56,
            41,
            39,
            37,
            36,
            35,
            34,
            33,
            31,
            30,
            29,
            28,
            40,
            110,
            45,
            112,
            188,
            187,
            186,
            185,
            184,
            183,
            182,
            180,
            179,
            178,
            189,
            177,
            175,
            174,
            173,
            171,
            170,
            168,
            167,
            166,
            165,
            164,
            176,
            163,
            190,
            192,
            214,
            111,
            213,
            212,
            211,
            210,
            209,
            208,
            207,
            206,
            191,
            205,
            203,
            202,
            201,
            200,
            199,
            198,
            197,
            196,
            195,
            193,
            204,
            162,
            194,
            160,
            134,
            133,
            132,
            131,
            130,
            129,
            128,
            127,
            126,
            125,
            135,
            123,
            121,
            120,
            119,
            118,
            117,
            116,
            115,
            161,
            114,
            113,
            122,
            136,
            124,
            138,
            157,
            137,
            156,
            155,
            154,
            153,
            158,
            151,
            150,
            149,
            159,
            152,
            147,
            139,
            148,
            141,
            142,
            140,
            144,
            145,
            146,
            143
           ],
           "lat": [
            41.4098264,
            41.373698,
            41.378638,
            41.397952,
            41.425897,
            41.437094,
            41.416828,
            41.429636,
            41.389171,
            41.403103,
            41.436708,
            41.389503,
            41.42968,
            41.418088,
            41.430036,
            41.413986,
            41.415951,
            41.409815,
            41.408284,
            41.412163,
            41.430693,
            41.430092,
            41.430404,
            41.432559,
            41.427561,
            41.428388,
            41.436373,
            41.43345,
            41.425566,
            41.4222743,
            41.415617,
            41.37836,
            41.375366,
            41.379046,
            41.381223,
            41.37674,
            41.376788,
            41.379135,
            41.385465,
            41.387498,
            41.390208,
            41.393341,
            41.39065,
            41.437053,
            41.431593,
            41.433965,
            41.43463,
            41.438864,
            41.436505,
            41.450634,
            41.448628,
            41.448128,
            41.445705,
            41.417763,
            41.417323,
            41.415684,
            41.372891,
            41.375127,
            41.375065,
            41.371515,
            41.371965,
            41.373509,
            41.407202,
            41.419337,
            41.405986,
            41.40694,
            41.407837,
            41.403465,
            41.384956,
            41.399945,
            41.398311,
            41.40124,
            41.402535,
            41.396229,
            41.397698,
            41.405107,
            41.413406,
            41.424451,
            41.426896,
            41.443395,
            41.426841,
            41.385467,
            41.439949,
            41.437814,
            41.379821,
            41.382206,
            41.4356947,
            41.439109,
            41.442167,
            41.423939,
            41.433897,
            41.431183,
            41.429985,
            41.429977,
            41.429953,
            41.425405,
            41.425905,
            41.425216,
            41.418208,
            41.421992,
            41.422844,
            41.43608,
            41.393713,
            41.403054,
            41.404114,
            41.381241,
            41.36958,
            41.381011,
            41.388894,
            41.389028,
            41.386009,
            41.387151,
            41.402177,
            41.390595,
            41.422873,
            41.386955,
            41.38739,
            41.380593,
            41.395796,
            41.375086,
            41.387978,
            41.380708,
            41.403938,
            41.381686,
            41.385463,
            41.378516,
            41.380705,
            41.365374,
            41.38551,
            41.386512,
            41.404839,
            41.3767081,
            41.3896703,
            41.3944248,
            41.398389,
            41.375336,
            41.398305,
            41.37652,
            41.379632,
            41.420201,
            41.37747,
            41.378031,
            41.391299,
            41.390943,
            41.378134,
            41.379374,
            41.393744,
            41.393512,
            41.389012,
            41.376433,
            41.392272,
            41.388988,
            41.374213,
            41.371663,
            41.372154,
            41.395,
            41.443127,
            41.438886,
            41.403502,
            41.433958,
            41.43619,
            41.401662,
            41.397572,
            41.398719,
            41.395274,
            41.393639,
            41.360654,
            41.400722,
            41.399822,
            41.39706,
            41.402879,
            41.40293,
            41.405,
            41.407384,
            41.39493,
            41.396938,
            41.397996,
            41.400977,
            41.395632,
            41.401116,
            41.359496,
            41.357338,
            41.375073,
            41.400167,
            41.404027,
            41.40377,
            41.400168,
            41.396815,
            41.385057,
            41.387499,
            41.39324,
            41.39076,
            41.357067,
            41.397006,
            41.395213,
            41.390021,
            41.387225,
            41.410615,
            41.413425,
            41.37592,
            41.375414,
            41.36335,
            41.362135,
            41.391833,
            41.376292,
            41.398463,
            41.363093,
            41.39412,
            41.390008,
            41.3854435,
            41.3856691,
            41.391751,
            41.385081,
            41.390062,
            41.392278,
            41.392716,
            41.381931,
            41.380347,
            41.38797,
            41.395364,
            41.385012,
            41.389097,
            41.387678,
            41.387469,
            41.38645,
            41.387142,
            41.390143,
            41.390349,
            41.382781,
            41.3790058,
            41.3787972,
            41.3840885,
            41.3831216,
            41.4024328,
            41.3985611,
            41.4056,
            41.389197,
            41.4108567,
            41.3922519,
            41.3927878,
            41.3791661,
            41.380632,
            41.3803803,
            41.382822,
            41.3782369,
            41.3766488,
            41.3755704,
            41.3755595,
            41.3937852,
            41.3884249,
            41.388154,
            41.3935986,
            41.3832053,
            41.3752683,
            41.3750672,
            41.3742316,
            41.390936,
            41.376758,
            41.381154,
            41.392526,
            41.401684,
            41.410897,
            41.410166,
            41.403282,
            41.406086,
            41.398237,
            41.394812,
            41.384675,
            41.387985,
            41.384538,
            41.381689,
            41.384532,
            41.389088,
            41.388856,
            41.391349,
            41.391075,
            41.39348,
            41.394055,
            41.39553,
            41.396809,
            41.400659,
            41.395179,
            41.407035,
            41.396897,
            41.377635,
            41.385227,
            41.384054,
            41.375,
            41.39106,
            41.396085,
            41.389831,
            41.388359,
            41.402285,
            41.404511,
            41.377011,
            41.379326,
            41.381046,
            41.381226,
            41.385151,
            41.413592,
            41.387074,
            41.376862,
            41.37481,
            41.402046,
            41.401132,
            41.405422,
            41.382335,
            41.3857053,
            41.391429,
            41.3776061,
            41.375802,
            41.376858,
            41.375571,
            41.37046,
            41.367504,
            41.372338,
            41.371455,
            41.36778,
            41.363511,
            41.405389,
            41.396918,
            41.411089,
            41.40666,
            41.40061,
            41.398027,
            41.391986,
            41.389732,
            41.405358,
            41.402561,
            41.400533,
            41.399196,
            41.411901,
            41.402541,
            41.3942,
            41.39606,
            41.378629,
            41.395251,
            41.3813141,
            41.393783,
            41.39239,
            41.398772,
            41.37453,
            41.385755,
            41.391451,
            41.390828,
            41.389845,
            41.382564,
            41.387465,
            41.388742,
            41.385331,
            41.387787,
            41.383834,
            41.38182,
            41.38451,
            41.38712,
            41.383241,
            41.381888,
            41.381311,
            41.388011,
            41.403908,
            41.381013,
            41.411026,
            41.4115934,
            41.4076602,
            41.4084554,
            41.422785,
            41.4198281,
            41.3770515,
            41.4154133,
            41.4118718,
            41.3806785,
            41.3844693,
            41.4121316,
            41.398114,
            41.4061885,
            41.4045867,
            41.3966226,
            41.3919909,
            41.3907885,
            41.3839396,
            41.3837312,
            41.395009,
            41.3768334,
            41.3774096,
            41.4053379,
            41.4141813,
            41.3702482637018,
            41.416832,
            41.412942,
            41.4144656,
            41.409017,
            41.406977,
            41.402454,
            41.401778,
            41.411741,
            41.40065,
            41.406549,
            41.395905,
            41.410882,
            41.39925,
            41.416018,
            41.4179241,
            41.378486,
            41.4090158,
            41.4005692,
            41.3806648,
            41.4057871,
            41.4099066,
            41.415144,
            41.4030725
           ],
           "legendgroup": "",
           "lon": [
            2.1883486,
            2.188927,
            2.120393,
            2.180042,
            2.17505,
            2.174047,
            2.191022,
            2.174487,
            2.168113,
            2.191428,
            2.186059,
            2.131454,
            2.16157,
            2.176313,
            2.171974,
            2.177842,
            2.174564,
            2.171621,
            2.16905,
            2.165275,
            2.182225,
            2.184898,
            2.183382,
            2.184264,
            2.166022,
            2.163101,
            2.170678,
            2.1715,
            2.200693,
            2.1984029,
            2.181966,
            2.129737,
            2.129847,
            2.123253,
            2.119077,
            2.116973,
            2.113864,
            2.113505,
            2.122912,
            2.123637,
            2.121029,
            2.115076,
            2.111615,
            2.169644,
            2.176909,
            2.175199,
            2.181747,
            2.176822,
            2.183877,
            2.192335,
            2.18976,
            2.192826,
            2.192892,
            2.187558,
            2.184534,
            2.190986,
            2.154471,
            2.152769,
            2.165839,
            2.162166,
            2.166871,
            2.171002,
            2.163476,
            2.180482,
            2.151633,
            2.155794,
            2.158678,
            2.161096,
            2.150814,
            2.164389,
            2.159865,
            2.157483,
            2.152519,
            2.151482,
            2.147358,
            2.156874,
            2.171331,
            2.177284,
            2.178511,
            2.190623,
            2.184238,
            2.158532,
            2.197033,
            2.191039,
            2.152496,
            2.160644,
            2.1920248,
            2.185818,
            2.193032,
            2.181298,
            2.189614,
            2.185852,
            2.190163,
            2.191821,
            2.193185,
            2.185226,
            2.19115,
            2.188997,
            2.190374,
            2.184806,
            2.186637,
            2.189542,
            2.145584,
            2.144549,
            2.183203,
            2.181838,
            2.188017,
            2.193502,
            2.199334,
            2.196844,
            2.170212,
            2.162838,
            2.197653,
            2.190681,
            2.191204,
            2.18195,
            2.1875,
            2.167418,
            2.178784,
            2.156848,
            2.155266,
            2.146793,
            2.204188,
            2.167816,
            2.174252,
            2.176716,
            2.182415,
            2.133087,
            2.152,
            2.164597,
            2.17482,
            2.1483947,
            2.1654279,
            2.1751026,
            2.196261,
            2.168007,
            2.183023,
            2.1749,
            2.192662,
            2.189532,
            2.183737,
            2.139124,
            2.180828,
            2.180251,
            2.16965,
            2.168921,
            2.176451,
            2.170718,
            2.172667,
            2.17871,
            2.192556,
            2.192283,
            2.148082,
            2.180302,
            2.180701,
            2.16123,
            2.199538,
            2.199598,
            2.193702,
            2.206166,
            2.204573,
            2.205277,
            2.119506,
            2.120422,
            2.120973,
            2.123224,
            2.139132,
            2.123268,
            2.12809,
            2.12801,
            2.128541,
            2.13427,
            2.13453,
            2.1383,
            2.130325,
            2.136258,
            2.138717,
            2.13907,
            2.125106,
            2.147953,
            2.14182,
            2.137172,
            2.161305,
            2.184362,
            2.181264,
            2.172864,
            2.177948,
            2.175714,
            2.137331,
            2.14702,
            2.16343,
            2.1744,
            2.141563,
            2.17057,
            2.172984,
            2.177572,
            2.17927,
            2.157987,
            2.163411,
            2.13008,
            2.123191,
            2.134144,
            2.135637,
            2.14812,
            2.178553,
            2.143924,
            2.139771,
            2.138146,
            2.1599551,
            2.1634297,
            2.1634139,
            2.153123,
            2.142868,
            2.143272,
            2.156183,
            2.158811,
            2.162969,
            2.160695,
            2.195801,
            2.157356,
            2.145843,
            2.167933,
            2.169587,
            2.169048,
            2.169463,
            2.168858,
            2.164946,
            2.16424,
            2.167203,
            2.1490856,
            2.1533895,
            2.1537733,
            2.1572314,
            2.1648503,
            2.1530513,
            2.1623,
            2.173555,
            2.1872941,
            2.1420435,
            2.1434059,
            2.1440132,
            2.141548,
            2.1409726,
            2.167154,
            2.145503,
            2.1476883,
            2.1500681,
            2.1499725,
            2.1602704,
            2.1507832,
            2.1503428,
            2.1506554,
            2.1486715,
            2.1630981,
            2.159005,
            2.1483861,
            2.1474257,
            2.177093,
            2.173497,
            2.171812,
            2.17568,
            2.17402,
            2.175759,
            2.170726,
            2.174167,
            2.186711,
            2.171189,
            2.185039,
            2.19578,
            2.195679,
            2.193914,
            2.184921,
            2.183568,
            2.183251,
            2.18061,
            2.180223,
            2.181555,
            2.181299,
            2.17706,
            2.144534,
            2.179111,
            2.168294,
            2.181981,
            2.164373,
            2.170586,
            2.173878,
            2.169019,
            2.17035,
            2.196457,
            2.187073,
            2.191147,
            2.193004,
            2.187111,
            2.189881,
            2.175834,
            2.189906,
            2.186576,
            2.181888,
            2.176804,
            2.221153,
            2.175247,
            2.190773,
            2.18895,
            2.182286,
            2.170028,
            2.17064,
            2.187093,
            2.1547191,
            2.189312,
            2.1572895,
            2.135973,
            2.169811,
            2.143812,
            2.138994,
            2.134088,
            2.141875,
            2.143882,
            2.13926,
            2.13677,
            2.216212,
            2.166163,
            2.181119,
            2.20956,
            2.210461,
            2.208982,
            2.203699,
            2.199934,
            2.213677,
            2.210538,
            2.206539,
            2.204253,
            2.177895,
            2.212641,
            2.20077,
            2.207803,
            2.133467,
            2.133541,
            2.1527471,
            2.135078,
            2.130945,
            2.190167,
            2.142356,
            2.161004,
            2.139116,
            2.136665,
            2.13284,
            2.149094,
            2.130838,
            2.128503,
            2.128737,
            2.134341,
            2.131122,
            2.126933,
            2.133617,
            2.141039,
            2.139363,
            2.135433,
            2.128912,
            2.125593,
            2.208436,
            2.132319,
            2.219377,
            2.1987619,
            2.1924881,
            2.1919802,
            2.20594,
            2.201574,
            2.1611378,
            2.1964181,
            2.1911494,
            2.1817748,
            2.1955147,
            2.1977579,
            2.166828,
            2.1785208,
            2.1765086,
            2.1823944,
            2.1879553,
            2.1969509,
            2.1916731,
            2.1841477,
            2.196308,
            2.1737389,
            2.1648261,
            2.1660973,
            2.2015894,
            2.18781259842217,
            2.2053065,
            2.217994,
            2.2014244,
            2.20881,
            2.207602,
            2.201656,
            2.200769,
            2.218546,
            2.19719,
            2.203112,
            2.192958,
            2.216703,
            2.197421,
            2.212658,
            2.2061937,
            2.163404,
            2.1946377,
            2.1923425,
            2.15625,
            2.1975542,
            2.2028356,
            2.207206,
            2.1959541
           ],
           "marker": {
            "color": [
             21,
             27,
             24,
             46,
             27,
             17,
             27,
             32,
             16,
             16,
             24,
             27,
             20,
             24,
             15,
             27,
             27,
             27,
             27,
             27,
             32,
             32,
             36,
             27,
             27,
             24,
             24,
             27,
             27,
             26,
             27,
             24,
             27,
             36,
             27,
             22,
             27,
             32,
             31,
             27,
             27,
             27,
             32,
             27,
             18,
             27,
             33,
             24,
             33,
             21,
             27,
             22,
             27,
             27,
             27,
             27,
             27,
             24,
             27,
             27,
             27,
             27,
             24,
             33,
             26,
             21,
             18,
             27,
             24,
             26,
             36,
             27,
             24,
             27,
             26,
             28,
             27,
             27,
             27,
             24,
             27,
             27,
             33,
             20,
             32,
             32,
             27,
             24,
             27,
             27,
             24,
             18,
             26,
             27,
             33,
             33,
             27,
             27,
             27,
             32,
             18,
             32,
             31,
             27,
             27,
             24,
             28,
             27,
             27,
             32,
             33,
             27,
             32,
             19,
             27,
             25,
             27,
             27,
             27,
             24,
             29,
             26,
             27,
             33,
             24,
             21,
             27,
             32,
             26,
             33,
             18,
             24,
             24,
             24,
             27,
             20,
             33,
             23,
             27,
             32,
             29,
             33,
             33,
             27,
             27,
             25,
             33,
             32,
             27,
             33,
             27,
             39,
             27,
             27,
             27,
             33,
             27,
             27,
             27,
             27,
             24,
             27,
             36,
             23,
             27,
             27,
             36,
             26,
             27,
             31,
             27,
             27,
             24,
             32,
             23,
             27,
             27,
             24,
             27,
             27,
             28,
             33,
             30,
             27,
             31,
             32,
             27,
             28,
             32,
             31,
             33,
             24,
             33,
             32,
             30,
             26,
             26,
             27,
             27,
             27,
             31,
             28,
             33,
             31,
             33,
             27,
             32,
             21,
             21,
             24,
             26,
             32,
             21,
             15,
             27,
             27,
             21,
             27,
             20,
             27,
             24,
             15,
             21,
             21,
             27,
             25,
             27,
             27,
             21,
             21,
             33,
             24,
             27,
             21,
             20,
             20,
             21,
             26,
             24,
             24,
             22,
             21,
             21,
             21,
             21,
             33,
             24,
             24,
             18,
             18,
             27,
             20,
             21,
             27,
             24,
             21,
             24,
             25,
             19,
             27,
             19,
             21,
             18,
             30,
             27,
             42,
             21,
             27,
             54,
             26,
             21,
             27,
             27,
             27,
             39,
             39,
             21,
             27,
             27,
             27,
             30,
             21,
             18,
             21,
             19,
             21,
             20,
             18,
             21,
             21,
             47,
             54,
             21,
             24,
             27,
             21,
             44,
             24,
             21,
             27,
             21,
             21,
             18,
             21,
             23,
             23,
             18,
             21,
             27,
             20,
             27,
             19,
             26,
             17,
             27,
             28,
             27,
             51,
             15,
             27,
             28,
             27,
             27,
             27,
             27,
             54,
             54,
             27,
             21,
             27,
             27,
             26,
             27,
             27,
             29,
             21,
             25,
             27,
             33,
             24,
             28,
             27,
             26,
             33,
             25,
             33,
             24,
             33,
             33,
             27,
             24,
             24,
             27,
             27,
             27,
             27,
             27,
             27,
             33,
             27,
             24,
             33,
             21,
             16,
             27,
             27,
             24,
             27,
             28,
             27,
             23,
             21,
             21,
             21,
             21,
             21,
             27,
             27,
             21,
             27,
             21,
             27,
             20,
             27,
             21,
             27,
             27,
             21,
             24,
             24,
             27,
             32,
             32,
             23,
             27,
             27,
             27,
             27,
             32,
             27,
             27,
             32,
             27,
             32,
             32,
             27,
             27,
             27,
             15,
             27
            ],
            "coloraxis": "coloraxis"
           },
           "mode": "markers",
           "name": "",
           "showlegend": false,
           "subplot": "mapbox",
           "type": "scattermapbox"
          }
         ],
         "layout": {
          "title": {
           "text": "Total Stations: 410 Total Bikes: 10823 in  2019"
          }
         },
         "name": "2019"
        },
        {
         "data": [
          {
           "customdata": [
            [
             "GRAN VIA DE LES CORTS CATALANES, 375-385",
             8015,
             24,
             26
            ],
            [
             "59 - PLAÇA DELS ÀNGELS ( MACBA )",
             8001,
             21,
             11
            ],
            [
             "SELVA DE MAR / PG. DEL TAULAT",
             8019,
             27,
             5
            ],
            [
             "C/ CIUTAT D'ASUNCIÓN, 73 / POTOSÍ",
             8030,
             27,
             16
            ],
            [
             "C/ ALTS FORNS, 77",
             8038,
             32,
             9
            ],
            [
             "PL. TERESA DE CLARAMUNT/C/ DELS FERROCARILS",
             8038,
             32,
             10
            ],
            [
             "C/ DE LA FONERIA, 33",
             8038,
             36,
             8
            ],
            [
             "C/ JANE ADDAMS, 26/ CRTA. DEL PRAT",
             8038,
             33,
             9
            ],
            [
             "C/ DE L'ENERGIA, 2 / ALTS FORNS",
             8038,
             33,
             7
            ],
            [
             "C/ VILLARROEL, 208",
             8036,
             31,
             43
            ],
            [
             "C/ MUNNÉ  2-6",
             8028,
             31,
             34
            ],
            [
             "C/RADI,10/GRAN VIA DE LES CORTS CATALANES",
             8038,
             28,
             9
            ],
            [
             "JARDINS DE CAN FERRERO/PG.DE LA ZONA FRANCA",
             8038,
             33,
             7
            ],
            [
             "CAMPANA DE LA MAQUINISTA (SAO PAULO I PL. DE",
             8030,
             27,
             14
            ],
            [
             "VIA AUGUSTA, 348",
             8017,
             26,
             117
            ],
            [
             "PG. D'ENRIC SANCHIS, 33",
             8030,
             27,
             11
            ],
            [
             "C/ SANT ADRIÀ, 113",
             8030,
             24,
             13
            ],
            [
             "C/ RAMON TURRÓ, 246",
             8005,
             27,
             2
            ],
            [
             "AV. J. V. FOIX,  63",
             8034,
             36,
             111
            ],
            [
             "C/ CARME KARR, 12-14",
             8034,
             23,
             117
            ],
            [
             "C/ CAPONATA, 10",
             8034,
             27,
             101
            ],
            [
             "C/ SANTA AMÈLIA, 2",
             8034,
             27,
             92
            ],
            [
             "PASSATGE DE SENILLOSA, 3-5",
             8034,
             27,
             94
            ],
            [
             "C/ DOCTOR ROUX, 86",
             8017,
             27,
             104
            ],
            [
             "C/ DE LES ESCOLES PIES, 99",
             8017,
             27,
             121
            ],
            [
             "RAMBLA DEL BRASIL, 5",
             8028,
             27,
             28
            ],
            [
             "C/ CASTELLNOU, 65",
             8017,
             31,
             95
            ],
            [
             "C/ PAU ALCOVER, 94",
             8017,
             27,
             108
            ],
            [
             "C/ ROC BORONAT, 134",
             8018,
             27,
             5
            ],
            [
             "C/ RIERA BLANCA, 123",
             8028,
             21,
             22
            ],
            [
             "PL. JOAQUIM XIRAU I PALAU, 1",
             8002,
             21,
             5
            ],
            [
             "C/ CARDENER, 59",
             8024,
             27,
             87
            ],
            [
             "C/ CASANOVA, 119",
             8036,
             30,
             30
            ],
            [
             "AV. PARAL.LEL 164",
             8015,
             24,
             17
            ],
            [
             "C/ ARTESA DE SEGRE, 2",
             8022,
             27,
             106
            ],
            [
             "C/ VILAMARÍ, 85",
             8015,
             26,
             28
            ],
            [
             "C/ NUMÀNCIA, 2",
             8029,
             24,
             32
            ],
            [
             "C/ LOPE DE VEGA, 79",
             8005,
             27,
             3
            ],
            [
             "C/ AGUSTÍ DURAN I SANPERE, 10",
             8001,
             41,
             10
            ],
            [
             "C/ DURAN I BAS, 2",
             8002,
             24,
             11
            ],
            [
             "AV. JOSEP TARRADELLAS, 27",
             8029,
             21,
             35
            ],
            [
             "PL. ICTÍNEO",
             8039,
             29,
             2
            ],
            [
             "WORLD  TRADE CENTER",
             8039,
             39,
             3
            ],
            [
             "WORLD TRADE CENTER",
             8039,
             39,
             3
            ],
            [
             "PG. DE GRÀCIA, 89",
             8008,
             33,
             37
            ],
            [
             "AV. PARAL.LEL, 132",
             8015,
             30,
             13
            ],
            [
             "C/ RIBES, 77",
             8013,
             27,
             9
            ],
            [
             "C/ DELS ENAMORATS, 49",
             8013,
             36,
             19
            ],
            [
             "C/ SARDENYA, 326",
             8025,
             32,
             37
            ],
            [
             "C/ CONSELL DE CENT, 482",
             8013,
             27,
             23
            ],
            [
             "C/ DIPUTACIÓ, 373",
             8013,
             27,
             21
            ],
            [
             "C/ MARQUÈS DE SENTMENAT, 46",
             8029,
             32,
             44
            ],
            [
             "LA RAMBLA, 75",
             8002,
             18,
             8
            ],
            [
             "C/ VILADOMAT, 244",
             8029,
             31,
             39
            ],
            [
             "PG. DE GRÀCIA, 61",
             8007,
             33,
             32
            ],
            [
             "C/ BRUC, 20",
             8010,
             24,
             16
            ],
            [
             "C/ BAILÉN, 100",
             8009,
             32,
             27
            ],
            [
             "PG. DE COLOM (LES RAMBLES)",
             8039,
             33,
             5
            ],
            [
             "C/ BAILÉN, 62",
             8009,
             30,
             22
            ],
            [
             "C/ MÉNDEZ NÚÑEZ, 16",
             8003,
             26,
             12
            ],
            [
             "C/ GOMBAU, 24",
             8003,
             26,
             5
            ],
            [
             "C/ CAMÈLIES, 73",
             8024,
             27,
             106
            ],
            [
             "C/ REUS, 23",
             8022,
             24,
             114
            ],
            [
             "TRAVESSERA DE GRÀCIA, 368",
             8025,
             27,
             59
            ],
            [
             "C/ ALT DE GIRONELLA, 13",
             8017,
             23,
             82
            ],
            [
             "C/ AMILCAR, 1",
             8031,
             12,
             61
            ],
            [
             "C/ CUBELLES, 2",
             8031,
             27,
             57
            ],
            [
             "PL. DELS JARDINS D'ALFÀBIA, 1",
             8016,
             17,
             66
            ],
            [
             "C/ MÚRCIA, 64",
             8027,
             27,
             17
            ],
            [
             "PL. VIRREI AMAT",
             8016,
             32,
             55
            ],
            [
             "GRAN VIA DE LES CORTS CATALANES, 632",
             8007,
             16,
             22
            ],
            [
             "C/ BOLÍVIA, 76",
             8018,
             16,
             7
            ],
            [
             "C/ MALATS, 98-100",
             8030,
             24,
             35
            ],
            [
             "AV. DIAGONAL, 652",
             8034,
             27,
             63
            ],
            [
             "C/ FULTON, 1",
             8032,
             20,
             76
            ],
            [
             "PG. FONT D´EN- FARGAS, 1",
             8031,
             27,
             75
            ],
            [
             "C/ D'ESCORNALBOU, 51",
             8041,
             24,
             74
            ],
            [
             "C/ SANT ANTONI Mª CLARET, 290-296",
             8041,
             27,
             49
            ],
            [
             "C/ GRANOLLERS, 1",
             8032,
             24,
             78
            ],
            [
             "C/ MAS CASANOVAS, 137",
             8041,
             27,
             75
            ],
            [
             "PLAÇA ALFONS X EL SAVI / RONDA DEL GUINARDO",
             8024,
             27,
             88
            ],
            [
             "AV. RIO DE JANEIRO, 3",
             8016,
             32,
             38
            ],
            [
             "RAMBLA FABRA I PUIG, 67",
             8030,
             32,
             33
            ],
            [
             "AV. MERIDIANA/PG. FABRA I PUIG (SANT ANDREU)",
             8030,
             36,
             38
            ],
            [
             "C/ CONCEPCIÓ ARENAL, 281",
             8033,
             27,
             32
            ],
            [
             "VIA BARCINO, 69",
             8033,
             21,
             28
            ],
            [
             "270 - CRTA. DE RIBES, 77 (TRINITAT VELLA)",
             8033,
             27,
             35
            ],
            [
             "VIA BARCINO, 121",
             8033,
             23,
             26
            ],
            [
             "C/ FERNANDO PESSOA, 72",
             8030,
             27,
             26
            ],
            [
             "PG. TORRAS I BAGES, 129",
             8030,
             24,
             29
            ],
            [
             "C/ CONCEPCIÓ ARENAL, 176",
             8027,
             27,
             37
            ],
            [
             "C/ NÀPOLS, 125",
             8013,
             32,
             15
            ],
            [
             "C/ CASANOVAS, 67",
             8011,
             27,
             23
            ],
            [
             "TRAVESSERA DE GRÀCIA, 328",
             8025,
             27,
             60
            ],
            [
             "C/ BALMES, 409",
             8022,
             32,
             111
            ],
            [
             "SEU DEL DISTRICTE (NOU BARRIS)",
             8042,
             24,
             72
            ],
            [
             "C/ DE ROSSELLÓ I PORCEL, 1/AV.MERIDIANA",
             8016,
             33,
             41
            ],
            [
             "C/ REINA VICTORIA, 31",
             8021,
             27,
             80
            ],
            [
             "C/ VALLMAJOR, 13",
             8021,
             27,
             88
            ],
            [
             "C/ SANTALÓ, 165",
             8021,
             24,
             106
            ],
            [
             "C/ SANT HERMENEGILD, 30",
             8006,
             27,
             79
            ],
            [
             "VÍA AUGUSTA, 109",
             8006,
             27,
             71
            ],
            [
             "C/ SAGUÉS, 1",
             8021,
             31,
             51
            ],
            [
             "C/ CARTAGENA, 368",
             8025,
             27,
             65
            ],
            [
             "RAMBLA DE PRIM, 256",
             8020,
             27,
             11
            ],
            [
             "C/ CANTÀBRIA, 55",
             8020,
             26,
             9
            ],
            [
             "C/ DEL GUINARDÓ, 32-38",
             8041,
             27,
             38
            ],
            [
             "RAMBLA DEL BRASIL, 44",
             8028,
             24,
             35
            ],
            [
             "C/ FELIU DE CASANOVA, 1",
             8028,
             29,
             28
            ],
            [
             "C/ ARIZALA, 77",
             8028,
             36,
             40
            ],
            [
             "C/ SANT ISCLE, 60",
             8031,
             27,
             61
            ],
            [
             "C/ GALLEGO, 2",
             8028,
             24,
             43
            ],
            [
             "C/ SANT RAMON NONAT,  26",
             8028,
             22,
             50
            ],
            [
             "C/ CARDENAL REIG, 11",
             8028,
             27,
             54
            ],
            [
             "C/ PINTOR RIBALTA / AV. XILE",
             8028,
             32,
             60
            ],
            [
             "C/ DOCTOR SALVADOR CARDENAL, 1-5",
             8028,
             31,
             60
            ],
            [
             "AV. DIAGONAL, 680",
             8034,
             27,
             65
            ],
            [
             "PG. MANUEL GIRONA, 7",
             8034,
             27,
             78
            ],
            [
             "C/ CAVALLERS, 67",
             8034,
             27,
             101
            ],
            [
             "C/ CAVALLERS, 41",
             8034,
             32,
             111
            ],
            [
             "C/ MARIE CURIE, 8-14",
             8042,
             27,
             73
            ],
            [
             "C/ DE MALADETA, 1",
             8016,
             18,
             44
            ],
            [
             "C/ DE L'ESCULTOR ORDÓÑEZ, 55",
             8016,
             27,
             53
            ],
            [
             "C/ ANDREU NIN, 22",
             8016,
             33,
             41
            ],
            [
             "C/ TURÓ BLAU, 1-3",
             8016,
             24,
             62
            ],
            [
             "C/ JOSEP SAMITIER / JOAN XXIII",
             8028,
             27,
             46
            ],
            [
             "C/ RIERA ALTA, 6",
             8001,
             35,
             10
            ],
            [
             "RAMBLA CATALUNYA/DIPUTACIO",
             8007,
             24,
             25
            ],
            [
             "C/ COMERÇ, 36",
             8003,
             25,
             5
            ],
            [
             "C/ LISBOA, 128",
             8032,
             27,
             98
            ],
            [
             "C/ PORTO, 35 | AV. ESTATUT DE CATALUNYA",
             8032,
             28,
             81
            ],
            [
             "PG. VALLDAURA, 26",
             8031,
             27,
             121
            ],
            [
             "C/ EDUARD TODA, 33 | C/ DOCTOR LETAMENDI",
             8031,
             27,
             104
            ],
            [
             "C/ LISBOA, 1 | C/ BAIXADA DE LA PLANA",
             8032,
             32,
             79
            ],
            [
             "PG. UNIVERSAL, 29 | C/ DOCTOR LETAMENDI",
             8042,
             24,
             95
            ],
            [
             "PG. FABRA I PUIG, 411",
             8031,
             27,
             89
            ],
            [
             "PG. FABRA I PUIG, 385",
             8031,
             28,
             92
            ],
            [
             "PG. FABRA I PUIG, 344",
             8031,
             18,
             73
            ],
            [
             "C/ ESCULTOR LLIMONA, 7",
             8031,
             30,
             65
            ],
            [
             "C/ AMILCAR, 78",
             8032,
             26,
             69
            ],
            [
             "C/ PERIODISTES, 9",
             8032,
             18,
             80
            ],
            [
             "C/ CAMPO FLORIDO, 66",
             8027,
             19,
             46
            ],
            [
             "AV. CAN MARCET, 36",
             8035,
             27,
             132
            ],
            [
             "VIA FAVÈNCIA, 47",
             8042,
             24,
             102
            ],
            [
             "VIA FAVÈNCIA, 186",
             8042,
             24,
             105
            ],
            [
             "PG. VALLDAURA, 171",
             8042,
             24,
             78
            ],
            [
             "C/ GÒNGORA, 23",
             8042,
             24,
             93
            ],
            [
             "C/ SANT FRANCESC XAVIER, 1",
             8016,
             18,
             72
            ],
            [
             "C/ NOU BARRIS, 23",
             8042,
             18,
             107
            ],
            [
             "C/ PABLO IGLESIAS, 21",
             8016,
             30,
             63
            ],
            [
             "C/ ROSSELLÓ, 261",
             8008,
             27,
             41
            ],
            [
             "AV. RIO DE JANEIRO, 94",
             8016,
             24,
             47
            ],
            [
             "C/ PEDROSA, 24",
             8033,
             24,
             68
            ],
            [
             "C/ PALAMÓS, 33",
             8033,
             28,
             61
            ],
            [
             "AV. RIO DE JANEIRO, 118",
             8016,
             28,
             43
            ],
            [
             "C/ MIREIA, 28",
             8033,
             15,
             56
            ],
            [
             "PG. SANTA COLOMA, 105",
             8030,
             27,
             24
            ],
            [
             "PG. FABRA I PUIG, 449",
             8042,
             31,
             94
            ],
            [
             "C/ TUCUMÁN, 21",
             8030,
             24,
             17
            ],
            [
             "C/ JORGE MANRIQUE, 15",
             8035,
             27,
             119
            ],
            [
             "C/ PARE MARIANA, 24",
             8035,
             27,
             125
            ],
            [
             "C/REPÚBLICA DOMINICANA,25(CENTRE COMERCIAL)",
             8030,
             33,
             20
            ],
            [
             "C/ PEDRELL, 52",
             8032,
             24,
             110
            ],
            [
             "C/ LLOBREGÓS, 115",
             8032,
             27,
             112
            ],
            [
             "AV. RASOS DE PEGUERA, 10",
             8033,
             24,
             44
            ],
            [
             "C/ SANT ADRIÀ, 88",
             8030,
             21,
             15
            ],
            [
             "C/ SANT ADRIÀ, 43",
             8030,
             24,
             19
            ],
            [
             "C/ ARAGÓ, 614",
             8018,
             18,
             16
            ],
            [
             "VIA AUGUSTA, 317",
             8017,
             28,
             111
            ],
            [
             "C/ D'ALACANT, 12",
             8017,
             27,
             96
            ],
            [
             "C/ GRAN DE GRÀCIA, 91",
             8012,
             20,
             61
            ],
            [
             "C/ GRAN DE GRÀCIA, 37",
             8012,
             27,
             55
            ],
            [
             "C/ TORRENT DE L'OLLA, 11",
             8012,
             28,
             46
            ],
            [
             "C/ SARDENYA, 465",
             8025,
             27,
             70
            ],
            [
             "PG. VALL D'HEBRÓN, 168",
             8035,
             50,
             150
            ],
            [
             "C/ SARDENYA, 494",
             8024,
             24,
             81
            ],
            [
             "C/ CAMÈLIES, 78",
             8024,
             27,
             118
            ],
            [
             "C/ MASSENS, 76",
             8024,
             28,
             87
            ],
            [
             "C/ MAIGNON, 31-41",
             8024,
             30,
             105
            ],
            [
             "AV. VALLCARCA, 11",
             8023,
             19,
             88
            ],
            [
             "C/ ELISA, 1",
             8023,
             16,
             95
            ],
            [
             "AV. VALLCARCA, 108",
             8023,
             27,
             102
            ],
            [
             "AV. VALLCARCA, 196",
             8023,
             27,
             127
            ],
            [
             "C/ ESTEVE TERRADAS, 42",
             8023,
             26,
             145
            ],
            [
             "PTGE. MALUQUER, 16",
             8022,
             27,
             124
            ],
            [
             "C/ PROVENÇA, 445",
             8025,
             18,
             33
            ],
            [
             "C/ DIPUTACIÓ, 22",
             8015,
             21,
             24
            ],
            [
             "PG. VALL D'HEBRÓN, 80",
             8023,
             24,
             166
            ],
            [
             "PL. TETUAN",
             8010,
             24,
             18
            ],
            [
             "C/ GARRIGA I ROCA, 2",
             8041,
             15,
             107
            ],
            [
             "RECINTE PARC DE LA CIUTADELLA",
             8003,
             27,
             4
            ],
            [
             "C/ GRANADELLA, 10-19 | C/ SAS",
             8030,
             18,
             12
            ],
            [
             "C/ PROVENÇA, 595",
             8026,
             22,
             27
            ],
            [
             "PG.DE LLUíS COMPANYS (ARC DE TRIOMF)",
             8018,
             33,
             10
            ],
            [
             "PG. DE LLUíS COMPANYS (ARC DE TRIOMF)",
             8018,
             27,
             10
            ],
            [
             "C/ VILLAR, 2",
             8041,
             32,
             46
            ],
            [
             "RAMBLA DEL RAVAL, 20",
             8001,
             27,
             6
            ],
            [
             "RAMBLA DEL RAVAL, 13",
             8001,
             25,
             8
            ],
            [
             "C/ CASP, 67",
             8010,
             33,
             16
            ],
            [
             "C/ BRUC, 66",
             8009,
             32,
             24
            ],
            [
             "PL. URQUINAONA, 3",
             8010,
             27,
             17
            ],
            [
             "C/ JOSEP PLA, 67",
             8019,
             24,
             4
            ],
            [
             "PG.DE COLOM (LES RAMBLES)",
             8039,
             38,
             5
            ],
            [
             "C/ JOAN D'ÀUSTRIA, 31B",
             8005,
             27,
             5
            ],
            [
             "C/ RAMON TRIAS FARGAS, 23",
             8005,
             39,
             5
            ],
            [
             "GRAN VIA DE LES CORTS CATALANES, 592",
             8007,
             33,
             21
            ],
            [
             "GRAN VIA DE LES CORTS CATALANES, 368",
             8010,
             27,
             24
            ],
            [
             "C/ COMTE BORRELL, 198",
             8029,
             26,
             28
            ],
            [
             "C/ VALLESPIR, 49",
             8014,
             22,
             32
            ],
            [
             "PG. DE COLOM (VIA LAIETANA)",
             8002,
             31,
             4
            ],
            [
             "PL. ANTONIO LÓPEZ ( VIA LAIETANA)",
             8002,
             24,
             4
            ],
            [
             "MOLL ORIENTAL",
             8039,
             44,
             3
            ],
            [
             "C/ PAVIA, 3",
             8028,
             27,
             23
            ],
            [
             "PG. MARÍTIM DE LA BARCELONETA/ANDREA DÒRIA",
             8003,
             35,
             4
            ],
            [
             "AV. LITORAL (PG MARÍTIM DEL PORT OLÍMPIC)",
             8005,
             27,
             6
            ],
            [
             "C/ JOAN MIRÓ, 2-12",
             8005,
             32,
             5
            ],
            [
             "PL. CATALUNYA, 22",
             8002,
             33,
             15
            ],
            [
             "C/ DIPUTACIÓ, 226",
             8007,
             27,
             25
            ],
            [
             "C/ LLACUNA, 86",
             8005,
             32,
             3
            ],
            [
             "C/ RAMON TURRÓ, 4",
             8005,
             19,
             5
            ],
            [
             "C/ GRAN DE LA SAGRERA, 74",
             8027,
             27,
             22
            ],
            [
             "C/ JUAN GRIS, 28",
             8014,
             32,
             11
            ],
            [
             "C/ MÚRCIA, 1",
             8026,
             21,
             22
            ],
            [
             "C/ VALLESPIR, 13",
             8014,
             25,
             30
            ],
            [
             "C/ HONDURAS, 32-34",
             8027,
             32,
             22
            ],
            [
             "C/ SARDENYA, 402",
             8025,
             27,
             56
            ],
            [
             "GRAN VIA DE LES CORTS CATALANES, 1157 (D)",
             8020,
             54,
             8
            ],
            [
             "C/ PALLARS, 504",
             8019,
             24,
             4
            ],
            [
             "C/ CRISTOBAL DE MOURA, 84",
             8019,
             27,
             3
            ],
            [
             "C/ BOLIVIA, 120",
             8018,
             27,
             5
            ],
            [
             "C/ RAMÓN TURRÓ, 160",
             8005,
             27,
             3
            ],
            [
             "C/ ALMOGÀVERS, 63",
             8018,
             27,
             10
            ],
            [
             "PG. JOAN DE BORBÓ, 42",
             8003,
             15,
             4
            ],
            [
             "C/ VILAMARÍ, 2",
             8015,
             24,
             21
            ],
            [
             "C/ LLEIDA, 40",
             8004,
             27,
             33
            ],
            [
             "C/ CASANOVA, 139",
             8036,
             32,
             33
            ],
            [
             "C/ WATT, 2",
             8014,
             18,
             25
            ],
            [
             "C/ SELVA DE MAR, 230",
             8020,
             27,
             9
            ],
            [
             "C/ JORDI GIRONA, 29",
             8034,
             28,
             82
            ],
            [
             "RBLA. BADAL, 73 | C/ CONSTITUCIÓ",
             8014,
             18,
             14
            ],
            [
             "PG. ZONA FRANCA, 9",
             8038,
             36,
             5
            ],
            [
             "PG. ZONA FRANCA, 54",
             8038,
             19,
             6
            ],
            [
             "AV. DOCTOR MARAÑON, 25 | C/ PAU GARGALLO",
             8028,
             28,
             64
            ],
            [
             "C/ ROGER, 24",
             8028,
             27,
             34
            ],
            [
             "C/ JOHN MAYNARD KEYNES, 2 | AV. DIAGONAL",
             8034,
             30,
             70
            ],
            [
             "C/ MARTÍ I FRANQUÈS, 1",
             8028,
             28,
             63
            ],
            [
             "C/ ALFAMBRA, 2 | AV. DIAGONAL",
             8034,
             28,
             77
            ],
            [
             "C/ GRAN CAPITÀ, 9",
             8034,
             28,
             105
            ],
            [
             "C/ PUJADES, 103",
             8005,
             27,
             3
            ],
            [
             "C/ DE SANT PAU, 119/ RONDA SANT PAU",
             8001,
             26,
             9
            ],
            [
             "C/ DE RIBES, 59 B",
             8013,
             33,
             12
            ],
            [
             "C/ DE CERVELLÓ, 5",
             8001,
             24,
             5
            ],
            [
             "PG. MARÍTIM DE LA BARCELONETA",
             8003,
             27,
             7
            ],
            [
             "C/ NÀPOLS, 183",
             8013,
             27,
             22
            ],
            [
             "PG. TORRAS I BAGES, 29",
             8030,
             20,
             23
            ],
            [
             "C/ MINERIA, 30",
             8038,
             18,
             11
            ],
            [
             "C/ VILLARROEL, 39",
             8011,
             32,
             17
            ],
            [
             "C/ TARRAGONA, 141",
             8014,
             21,
             29
            ],
            [
             "GRAN VIA DE LES CORTS CATALANES, 368",
             8010,
             21,
             24
            ],
            [
             "C/ TARRAGONA, 103-115",
             8014,
             33,
             28
            ],
            [
             "GRAN  VIA DE LES CORTS CATALANES, 375-385",
             8015,
             48,
             26
            ],
            [
             "C / PROVENÇA, 241",
             8008,
             18,
             37
            ],
            [
             "C/ ROSSELLÓ, 108-110",
             8036,
             18,
             36
            ],
            [
             "C/ ROSSELLÓ,  101",
             8036,
             27,
             36
            ],
            [
             "C/ LONDRES, 101-103",
             8036,
             20,
             45
            ],
            [
             "C/ MALLORCA, 41-43",
             8029,
             25,
             29
            ],
            [
             "C/ VILADOMAT,  2",
             8015,
             27,
             12
            ],
            [
             "AV. PARAL·LEL, 146 BIS",
             8015,
             40,
             15
            ],
            [
             "C/ DEL COMTE D'URGELL, 75 B",
             8011,
             27,
             20
            ],
            [
             "C/ COMTE BORRELL, 177",
             8015,
             24,
             25
            ],
            [
             "C/ ROCAFORT, 72-74",
             8015,
             40,
             20
            ],
            [
             "C/ VILAMARÍ,  61",
             8015,
             21,
             24
            ],
            [
             "C/ ENRIC  GRANADOS, 35",
             8007,
             21,
             31
            ],
            [
             "PL. UNIVERSITAT",
             8007,
             24,
             21
            ],
            [
             "PL. UNIVERSITAT /  ARIBAU",
             8011,
             27,
             21
            ],
            [
             "AV. FRANCESC CAMBÓ, 10",
             8003,
             24,
             8
            ],
            [
             "C/ CÒRSEGA, 216",
             8036,
             32,
             40
            ],
            [
             "AV. JOSEP TARRADELLAS, 58",
             8029,
             21,
             40
            ],
            [
             "AV. JOSEP TARRADELLAS, 133",
             8029,
             15,
             47
            ],
            [
             "C/ ENRIC GRANADOS, 93",
             8008,
             27,
             39
            ],
            [
             "C/ PROVENÇA, 215",
             8008,
             27,
             37
            ],
            [
             "C/ FLORIDABLANCA, 145",
             8011,
             21,
             16
            ],
            [
             "C/ COMTE URGELL, 23",
             8011,
             27,
             15
            ],
            [
             "CARRER DE LA MARINA,25-33",
             8005,
             43,
             7
            ],
            [
             "C/ VIRIAT, 43",
             8014,
             21,
             31
            ],
            [
             "C/ VIRIAT,  53",
             8014,
             21,
             30
            ],
            [
             "C/ TARRAGONA,  159-173",
             8014,
             22,
             29
            ],
            [
             "AV. DIAGONAL,  602",
             8021,
             24,
             53
            ],
            [
             "C/ MANSO, 46",
             8015,
             34,
             13
            ],
            [
             "RAMBLA DE GUIPÚSCOA, 43/FLUVIÀ",
             8020,
             43,
             10
            ],
            [
             "C/ ARAGÓ, 659 /NAVAS DE TOLOSA",
             8026,
             27,
             16
            ],
            [
             "PG. DE COLOM /VIA LAIETANA",
             8002,
             23,
             4
            ],
            [
             "PG. MARíTIM, 31 B (ANNEXA A LA  12)",
             8003,
             21,
             7
            ],
            [
             "C/ NOVA  BOCANA",
             8039,
             31,
             3
            ],
            [
             "C/ GIRONA, 142",
             8037,
             21,
             34
            ],
            [
             "C/ NÀPOLS, 344",
             8025,
             21,
             54
            ],
            [
             "C/ CASTILLEJOS, 258",
             8013,
             21,
             28
            ],
            [
             "C/ LEPANT,  278",
             8013,
             21,
             28
            ],
            [
             "C/ SARDENYA,  178",
             8013,
             39,
             12
            ],
            [
             "C/ PUJADES,  3",
             8018,
             27,
             6
            ],
            [
             "C/ ROSA SENSAT, 12",
             8005,
             21,
             5
            ],
            [
             "RAMBLA CATALUNYA, 133 /  CÒRSEGA",
             8008,
             27,
             44
            ],
            [
             "C/ DEL DR. AIGUADER, 72 / PG. SALVAT PAPASSEIT",
             8003,
             27,
             5
            ],
            [
             "PL. JEAN GENET,  1",
             8001,
             20,
             5
            ],
            [
             "RONDA DE SANT PAU, 51",
             8015,
             34,
             11
            ],
            [
             "C/ FLORIDABLANCA, 49",
             8015,
             20,
             13
            ],
            [
             "C/ CALÀBRIA, 137",
             8015,
             27,
             21
            ],
            [
             "AV. ROMA,  136",
             8011,
             21,
             25
            ],
            [
             "C/ LONDRES,  53",
             8036,
             24,
             43
            ],
            [
             "C / INDÚSTRIA, 10",
             8037,
             21,
             45
            ],
            [
             "TRAV. DE GRÀCIA, 92 / VIA AUGUSTA",
             8006,
             20,
             56
            ],
            [
             "PL  JOANIC - C / BRUNIQUER, 59",
             8024,
             20,
             56
            ],
            [
             "PL. URQUINAONA, 9-10",
             8010,
             21,
             15
            ],
            [
             "C/ VALÈNCIA, 621",
             8026,
             26,
             16
            ],
            [
             "C/ ARAGÓ, 629",
             8026,
             21,
             16
            ],
            [
             "AV. DIAGONAL,  612",
             8021,
             24,
             54
            ],
            [
             "AV. MARQUÉS DE L'ARGENTERA,  3",
             8003,
             21,
             4
            ],
            [
             "GRAN VIA DE LES CORTS CATALANES, 609",
             8007,
             15,
             23
            ],
            [
             "PL. CATALUNYA, 10-11 (PG. DE GRACIA)",
             8002,
             21,
             20
            ],
            [
             "PL. CATALUNYA, 10-11 (RAMBLA)",
             8002,
             21,
             21
            ],
            [
             "C/ SARDENYA, 362",
             8025,
             23,
             46
            ],
            [
             "C/ PROVENÇA, 322",
             8037,
             21,
             38
            ],
            [
             "C/ DOS DE MAIG, 230-232",
             8013,
             18,
             22
            ],
            [
             "C/ BRUC, 102",
             8009,
             21,
             29
            ],
            [
             "C/ MARINA, 199",
             8013,
             30,
             23
            ],
            [
             "C/ BRUC, 45",
             8010,
             27,
             21
            ],
            [
             "C/ SARDENYA, 292",
             8013,
             19,
             28
            ],
            [
             "C/ SANT ANTONI MARIA CLARET, 214",
             8025,
             21,
             52
            ],
            [
             "C/ CARTAGENA, 308",
             8025,
             18,
             46
            ],
            [
             "C/ ROSSELLÓ, 354",
             8025,
             30,
             40
            ],
            [
             "C/ ROSSELLÓ, 453",
             8025,
             27,
             38
            ],
            [
             "AV. MERIDIANA, 47 (D)",
             8013,
             42,
             14
            ],
            [
             "C/ CONSELL DE CENT, 397",
             8009,
             27,
             25
            ],
            [
             "C/ PROVENÇA, 388-390",
             8025,
             23,
             34
            ],
            [
             "AV. MARQUÉS DE  L'ARGENTERA, 15",
             8003,
             27,
             5
            ],
            [
             "PG. MARITIM, 23 (HOSPITAL DEL MAR)",
             8003,
             26,
             7
            ],
            [
             "PG. MARITIM, 11 (DAVANT PL. BRUGADA)",
             8003,
             35,
             7
            ],
            [
             "C/ 60, NÚMERO 25",
             8040,
             43,
             4
            ],
            [
             "AV. MARQUÉS DE L'ARGENTERA,13",
             8003,
             27,
             5
            ],
            [
             "PG. PUJADES, 2",
             8003,
             27,
             6
            ],
            [
             "PG. PUJADES,  1 (JUTJATS)",
             8003,
             27,
             6
            ],
            [
             "PG. LLUIS COMPANYS, 18  (ARC TRIOMF)",
             8018,
             39,
             10
            ],
            [
             "PG. LLUIS COMPANYS, 11 (ARC TRIOMF)",
             8018,
             39,
             7
            ],
            [
             "C/ RIBES, 13",
             8013,
             21,
             8
            ],
            [
             "C/ NÀPOLS, 82",
             8013,
             27,
             11
            ],
            [
             "C/ ROGER DE FLOR, 126",
             8013,
             27,
             17
            ],
            [
             "GRAN VIA CORTS CATALANES, 760",
             8013,
             46,
             16
            ],
            [
             "C/ ROCAFORT, 94",
             8015,
             26,
             21
            ],
            [
             "CARRER DE LA MARINA, 25-33",
             8005,
             54,
             7
            ],
            [
             "RAMBLA DE GUIPÚSCOA, 103 /CANTÀBRIA",
             8020,
             24,
             8
            ],
            [
             "AV. DIAGONAL, 231 AMB PADILLA",
             8013,
             29,
             13
            ],
            [
             "LA BARCELONETA (CN BARCELONETA)",
             8003,
             15,
             4
            ],
            [
             "PL. CATALUNYA, 7",
             8002,
             27,
             19
            ],
            [
             "PL. CATALUNYA, 5",
             8002,
             25,
             19
            ],
            [
             "C/ PAU CLARIS, 120",
             8009,
             21,
             26
            ],
            [
             "RAMBLA CATALUNYA, 47",
             8007,
             27,
             27
            ],
            [
             "PLAÇA DELS ÀNGELS (MACBA)",
             8001,
             43,
             11
            ],
            [
             "RAMBLA, 2",
             8002,
             25,
             4
            ],
            [
             "PORTAL DE SANTA MADRONA, 2-4",
             8001,
             27,
             5
            ],
            [
             "LA RAMBLA, 80",
             8002,
             19,
             8
            ],
            [
             "C/ SANT OLEGUER, 2",
             8001,
             19,
             6
            ],
            [
             "PL. CARLES PI I SUNYER",
             8002,
             21,
             10
            ],
            [
             "PL. VICENÇ MARTORELL",
             8001,
             20,
             12
            ],
            [
             "AV. PARAL.LEL, 54",
             8004,
             18,
             8
            ],
            [
             "C/ ROSA SENSAT, 20",
             8005,
             21,
             5
            ],
            [
             "PL. DEL MAR",
             8003,
             18,
             4
            ],
            [
             "AV. MERIDIANA, 40",
             8018,
             21,
             11
            ],
            [
             "C/ RAMON TRIAS FARGAS, 19 (D)",
             8005,
             54,
             7
            ],
            [
             "C/ SARDENYA, 66",
             8005,
             27,
             5
            ],
            [
             "AV. MERIDIANA, 66 ( COSTAT METRO GLORIES)",
             8018,
             21,
             16
            ],
            [
             "C/ CLOT, 1",
             8018,
             27,
             13
            ],
            [
             "C/ CIUTAT DE GRANADA, 168 / AV. DIAGONAL",
             8018,
             24,
             4
            ],
            [
             "PL. POETA BOSCÀ/ATLÀNTIDA",
             8003,
             25,
             5
            ],
            [
             "C/ DOCTOR AIGUADER, 2",
             8039,
             18,
             6
            ],
            [
             "PL. PAU VILA (D)",
             8039,
             44,
             4
            ],
            [
             "PL. ANTONIO LÓPEZ (CORREUS, VIA LAIETANA)",
             8002,
             24,
             4
            ],
            [
             "AV. DE LA CATEDRAL, 6",
             8002,
             21,
             8
            ],
            [
             "C/ SANT RAMON DE PENYAFORT, 1",
             8930,
             43,
             5
            ],
            [
             "C/ SANT PERE MÉS ALT, 4",
             8003,
             21,
             9
            ],
            [
             "C/ PONTEVEDRA / JUDICI",
             8003,
             21,
             4
            ],
            [
             "C/ RAMON TRIAS FARGAS, 21",
             8005,
             47,
             5
            ],
            [
             "RAMBLA  DE GUIPÚSCOA, 158/ CA N'OLIVA",
             8020,
             27,
             11
            ],
            [
             "C/ ROCAFORT, 214 / ROSSELLÓ",
             8029,
             24,
             37
            ],
            [
             "GRAN VIA DE LES CORTS CATALANES, 902",
             8018,
             16,
             6
            ],
            [
             "PL. DEL NORD, 5",
             8024,
             21,
             73
            ],
            [
             "C/ DEL TORRENT DE LES FLORS, 102",
             8024,
             18,
             69
            ],
            [
             "C/ MONTMANY, 1",
             8012,
             27,
             52
            ],
            [
             "C/ MALLORCA, 84",
             8029,
             24,
             28
            ],
            [
             "C / GIRONA, 176",
             8037,
             26,
             40
            ],
            [
             "C/ DE BONAVISTA, 14",
             8012,
             36,
             48
            ],
            [
             "C/ DEL CANÓ, 1",
             8012,
             27,
             58
            ],
            [
             "GRAN DE GRÀCIA, 155 (METRO FONTANA)",
             8012,
             24,
             68
            ],
            [
             "C/ TUSET, 19",
             8006,
             27,
             53
            ],
            [
             "C/ LAFORJA, 74-76",
             8021,
             26,
             67
            ],
            [
             "C/ CONSELL DE CENT, 566",
             8013,
             39,
             17
            ],
            [
             "C/ RECTOR UBACH, 24",
             8021,
             27,
             75
            ],
            [
             "C/ MADRAZO, 131",
             8021,
             27,
             63
            ],
            [
             "C/ DE LA SANTACREU, 2 (PL.DE LA VIRREINA)",
             8024,
             28,
             68
            ],
            [
             "C/ GANDUXER, 29",
             8021,
             21,
             65
            ],
            [
             "C/ SANTA FE DE NOU MÈXIC, 2",
             8017,
             33,
             70
            ],
            [
             "AV. SARRIÀ, 163",
             8017,
             24,
             75
            ],
            [
             "C/ SANCHO DE ÁVILA, 60-64",
             8018,
             28,
             5
            ],
            [
             "C/ VILARDELL, 18",
             8014,
             31,
             22
            ],
            [
             "C/ DIPUTACIÓ, 200",
             8011,
             26,
             23
            ],
            [
             "AV. DIAGONAL, 630",
             8017,
             33,
             59
            ],
            [
             "AV. DIAGONAL, 634",
             8017,
             25,
             62
            ],
            [
             "AV. DIAGONAL, 650",
             8017,
             33,
             62
            ],
            [
             "C/ EUROPA, 25",
             8028,
             33,
             57
            ],
            [
             "AV. DIAGONAL, 664",
             8034,
             33,
             63
            ],
            [
             "AV. DIAGONAL, 668",
             8034,
             33,
             64
            ],
            [
             "C/ DE LES CORTS, 20",
             8028,
             27,
             52
            ],
            [
             "C/ NUMÀNCIA, 136",
             8029,
             24,
             55
            ],
            [
             "C/ JOSÉ DE  AGULLÓ, 9",
             8017,
             25,
             72
            ],
            [
             "C/ JOAN GUELL, 174",
             8028,
             24,
             47
            ],
            [
             "C/ DE NIL FABRA, 16-20",
             8012,
             26,
             80
            ],
            [
             "C/ VILÀ I VILÀ, 45",
             8004,
             27,
             7
            ],
            [
             "PL.VALENTÍ ALMIRALL",
             8018,
             27,
             6
            ],
            [
             "C/ DE BARTRINA, 14",
             8030,
             24,
             34
            ],
            [
             "C/ FERNANDO PESSOA, 41",
             8030,
             27,
             23
            ],
            [
             "C/ SANT ADRIÀ, 2-8",
             8030,
             24,
             27
            ],
            [
             "C/ MALATS, 28-30",
             8030,
             32,
             25
            ],
            [
             "C/ IRLANDA, 11-21",
             8030,
             18,
             30
            ],
            [
             "RAMBLA DE L'ONZE DE SETEMBRE, 69",
             8030,
             26,
             26
            ],
            [
             "C/ ONZE DE SETEMBRE, 37-39",
             8030,
             27,
             25
            ],
            [
             "RAMBLA DE L'ONZE DE SETEMBRE, 31",
             8030,
             33,
             24
            ],
            [
             "C/ CARDENAL TEDESCHINI, 13",
             8027,
             33,
             35
            ],
            [
             "C/ PORTUGAL, 3",
             8027,
             27,
             25
            ],
            [
             "C/ ANTILLES, 8",
             8027,
             27,
             21
            ],
            [
             "C/ PALÈNCIA, 31",
             8027,
             27,
             18
            ],
            [
             "C/ PI I MARGALL, 38",
             8025,
             24,
             65
            ],
            [
             "C/ FELIPE II, 112",
             8027,
             32,
             32
            ],
            [
             "LA RAMBLA, 101",
             8002,
             27,
             10
            ],
            [
             "C/ FELIP II, 214",
             8027,
             27,
             44
            ],
            [
             "C/ ALEXANDRE GALÍ, 1-5",
             8027,
             27,
             42
            ],
            [
             "C/ RAMON ALBÓ, 1",
             8027,
             27,
             56
            ],
            [
             "C/ TEODOR LLORENTE, 2",
             8041,
             33,
             44
            ],
            [
             "C/ JOSEP ESTIVILL, 32",
             8027,
             27,
             23
            ],
            [
             "C/ INDÚSTRIA, 329",
             8027,
             27,
             31
            ],
            [
             "C/ ESPRONCEDA, 298",
             8027,
             27,
             16
            ],
            [
             "C/ RIUS I TAULET, 4",
             8004,
             27,
             33
            ],
            [
             "AV. PARAL.LEL, 194",
             8015,
             26,
             24
            ],
            [
             "AV. PARAL.LEL, 98",
             8015,
             31,
             10
            ],
            [
             "PG. DE L´EXPOSICIÓ, 30 /BLASCO GARAY",
             8004,
             27,
             31
            ],
            [
             "C/ NOU DE LA RAMBLA, 164",
             8004,
             27,
             21
            ],
            [
             "C/ GARCILASO, 77",
             8027,
             18,
             30
            ],
            [
             "C/ MEJÍA LEQUERICA, 2",
             8028,
             27,
             47
            ],
            [
             "CARRER DEL CINCA, 7",
             8030,
             27,
             22
            ],
            [
             "149 - C/ PUJADES, 57B",
             8019,
             27,
             4
            ],
            [
             "C/ RAMON TURRÓ, 292",
             8005,
             27,
             3
            ],
            [
             "C/ RAMON TURRÓ, 91",
             8005,
             27,
             4
            ],
            [
             "AV. D'EDUARD MARISTANY, 1 /FORUM",
             8019,
             33,
             4
            ],
            [
             "AV. DIAGONAL, 26",
             8019,
             32,
             4
            ],
            [
             "RAMBLA DE PRIM, 19",
             8019,
             27,
             4
            ],
            [
             "C/ LLULL, 465",
             8019,
             33,
             4
            ],
            [
             "C/ SELVA DE MAR, 46",
             8019,
             27,
             4
            ],
            [
             "C/ PUJADES, 311/ FLUVIÀ",
             8019,
             32,
             4
            ],
            [
             "C/ PUJADES, 191",
             8005,
             32,
             2
            ],
            [
             "C/ PUJADES, 173/RAMBLA DEL POBLE NOU",
             8005,
             23,
             3
            ],
            [
             "C/ PUJADES, 121",
             8005,
             27,
             3
            ],
            [
             "C/ PALLARS, 182",
             8005,
             27,
             3
            ],
            [
             "C/ ESPRONCEDA, 124",
             8005,
             27,
             4
            ],
            [
             "AV. ICÀRIA, 202",
             8005,
             27,
             3
            ],
            [
             "RONDA SANT PAU, 79",
             8015,
             27,
             12
            ],
            [
             "C/ PERE IV, 488",
             8019,
             24,
             4
            ],
            [
             "C/ PERE IV,  301 / FLUVIÀ",
             8020,
             27,
             4
            ],
            [
             "C/ CASTELLA,  28 / DIAGONAL",
             8018,
             27,
             4
            ],
            [
             "C/ SANCHO DE ÁVILA, 170 / LLACUNA",
             8018,
             27,
             4
            ],
            [
             "C/ SANCHO DE ÁVILA,  104 - C/ BADAJOZ",
             8018,
             32,
             4
            ],
            [
             "C/ BILBAO, 174",
             8018,
             32,
             7
            ],
            [
             "C/ VILADOMAT, 122",
             8015,
             27,
             19
            ],
            [
             "GRAN VIA DE LES CORTS CATALANES,  1131",
             8020,
             35,
             7
            ],
            [
             "GRAN VIA DE LES CORTS CATALANES, 1118",
             8020,
             21,
             7
            ],
            [
             "GRAN VIA DE LES CORTS CATALANES, 1041",
             8020,
             25,
             7
            ],
            [
             "GRAN VIA DE LES CORTS CATALANES,  1062",
             8020,
             31,
             8
            ],
            [
             "GRAN VIA DE LES CORTS CATALANES,  981",
             8018,
             21,
             8
            ],
            [
             "C/ BAC DE RODA, 157",
             8018,
             21,
             6
            ],
            [
             "RAMBLA PRIM, 79",
             8019,
             33,
             5
            ],
            [
             "C/ INDEPENDÈNCIA, 379",
             8026,
             27,
             46
            ],
            [
             "C/ VALLESPIR, 194",
             8014,
             27,
             48
            ],
            [
             "C/ BILBAO, 2",
             8005,
             27,
             3
            ],
            [
             "C/ VALLESPIR, 130",
             8014,
             27,
             38
            ],
            [
             "C/ JOAN GÜELL, 98",
             8028,
             24,
             38
            ],
            [
             "C/ FÍGOLS, 1",
             8028,
             27,
             41
            ],
            [
             "C/ JOAN GÜELL, 50",
             8028,
             21,
             33
            ],
            [
             "C/ ROCAFORT, 152",
             8015,
             28,
             15
            ],
            [
             "AV. LITORAL, 72",
             8005,
             29,
             6
            ],
            [
             "C/ BRUC, 130",
             8037,
             28,
             34
            ],
            [
             "PG. SANT ANTONI /PL. SANTS",
             8014,
             27,
             30
            ],
            [
             "C/ DE SANT PAU, 89 - 97",
             8001,
             19,
             5
            ],
            [
             "C/CONSELL DE CENT, 6",
             8014,
             26,
             27
            ],
            [
             "C/GAVÀ, 81",
             8014,
             17,
             20
            ],
            [
             "C/ QUETZAL, 22-24",
             8014,
             27,
             22
            ],
            [
             "C/ BERLÍN, 38",
             8029,
             27,
             38
            ],
            [
             "C/ DEL DOCTOR TRUETA, 222",
             8005,
             27,
             3
            ],
            [
             "GRAN VIA DE LES CORTS CATALANES, 273",
             8014,
             33,
             18
            ],
            [
             "GRAN VIA DE LES CORTS CATALANES, 179 (D)",
             8014,
             51,
             14
            ],
            [
             "PG. ZONA FRANCA, 244",
             8038,
             15,
             9
            ],
            [
             "PG. DE GARCIA FÀRIA, 85",
             8019,
             27,
             7
            ],
            [
             "C/ ROSSELLÓ, 557",
             8026,
             34,
             33
            ],
            [
             "PG. DE GARCIA FÀRIA, 37/JOSEP FERRATER",
             8019,
             31,
             6
            ],
            [
             "C/ LLULL, 309",
             8019,
             27,
             4
            ],
            [
             "PG. DE GARCIA FÀRIA, 21/ESPRONCEDA",
             8005,
             27,
             6
            ],
            [
             "AV.LITORAL, 84",
             8005,
             27,
             8
            ],
            [
             "PG. MARÍTIM NOVA ICÀRIA, 83 (D)",
             8005,
             54,
             5
            ],
            [
             "AV. LITORAL, 40 (D)",
             8005,
             54,
             6
            ],
            [
             "C/ BAC DE RODA, 11",
             8005,
             21,
             3
            ],
            [
             "C/ GAVÀ, 1",
             8014,
             31,
             18
            ],
            [
             "C/ GELABERT, 1",
             8029,
             27,
             47
            ]
           ],
           "hovertemplate": "<b>%{hovertext}</b><br><br>year=2020<br>lat=%{lat}<br>lon=%{lon}<br>address=%{customdata[0]}<br>post_code=%{customdata[1]}<br>capacity=%{marker.color}<br>altitude=%{customdata[3]}<extra></extra>",
           "hovertext": [
            93,
            59,
            168,
            344,
            347,
            345,
            346,
            351,
            349,
            350,
            353,
            352,
            348,
            343,
            334,
            341,
            340,
            339,
            338,
            337,
            336,
            335,
            333,
            332,
            329,
            354,
            331,
            330,
            342,
            355,
            378,
            357,
            385,
            386,
            328,
            384,
            383,
            382,
            381,
            380,
            379,
            377,
            376,
            375,
            374,
            373,
            372,
            371,
            370,
            369,
            368,
            367,
            366,
            365,
            364,
            363,
            362,
            361,
            360,
            359,
            358,
            356,
            327,
            278,
            325,
            292,
            291,
            290,
            289,
            288,
            287,
            286,
            285,
            284,
            283,
            282,
            281,
            280,
            293,
            279,
            276,
            275,
            274,
            273,
            272,
            271,
            270,
            269,
            268,
            267,
            266,
            387,
            265,
            277,
            326,
            294,
            296,
            324,
            323,
            322,
            321,
            320,
            319,
            318,
            317,
            316,
            315,
            314,
            313,
            312,
            295,
            311,
            309,
            308,
            307,
            306,
            305,
            304,
            303,
            302,
            301,
            300,
            299,
            298,
            297,
            310,
            388,
            494,
            390,
            487,
            486,
            485,
            484,
            483,
            482,
            481,
            480,
            479,
            478,
            477,
            476,
            475,
            488,
            474,
            472,
            471,
            470,
            469,
            468,
            466,
            465,
            464,
            463,
            462,
            461,
            460,
            459,
            473,
            458,
            489,
            491,
            264,
            519,
            518,
            517,
            516,
            515,
            514,
            513,
            512,
            511,
            510,
            509,
            508,
            490,
            507,
            505,
            504,
            503,
            502,
            501,
            500,
            499,
            498,
            497,
            496,
            495,
            493,
            492,
            506,
            389,
            457,
            455,
            419,
            418,
            417,
            416,
            415,
            414,
            413,
            412,
            411,
            410,
            409,
            408,
            406,
            420,
            405,
            403,
            402,
            401,
            400,
            399,
            398,
            397,
            396,
            395,
            394,
            393,
            392,
            391,
            404,
            456,
            421,
            423,
            454,
            452,
            451,
            450,
            449,
            448,
            447,
            446,
            445,
            444,
            443,
            441,
            440,
            422,
            439,
            437,
            436,
            435,
            434,
            433,
            432,
            430,
            429,
            428,
            427,
            426,
            425,
            424,
            438,
            263,
            442,
            261,
            97,
            96,
            95,
            94,
            92,
            90,
            89,
            88,
            87,
            86,
            85,
            84,
            83,
            82,
            81,
            80,
            79,
            78,
            77,
            76,
            75,
            74,
            73,
            72,
            71,
            70,
            69,
            98,
            99,
            100,
            101,
            129,
            128,
            127,
            126,
            125,
            124,
            123,
            122,
            121,
            120,
            119,
            118,
            117,
            68,
            116,
            114,
            113,
            112,
            111,
            110,
            109,
            108,
            107,
            106,
            105,
            104,
            103,
            102,
            115,
            66,
            65,
            64,
            28,
            27,
            26,
            25,
            24,
            23,
            22,
            21,
            20,
            19,
            18,
            17,
            15,
            29,
            14,
            12,
            11,
            10,
            9,
            8,
            7,
            6,
            5,
            4,
            3,
            2,
            1,
            262,
            13,
            130,
            30,
            32,
            63,
            62,
            61,
            60,
            58,
            57,
            56,
            55,
            54,
            53,
            51,
            50,
            49,
            31,
            48,
            46,
            45,
            44,
            43,
            42,
            41,
            40,
            39,
            37,
            36,
            35,
            34,
            33,
            47,
            131,
            67,
            133,
            228,
            227,
            226,
            225,
            224,
            223,
            222,
            221,
            220,
            219,
            218,
            217,
            216,
            229,
            215,
            213,
            212,
            211,
            210,
            209,
            208,
            207,
            206,
            205,
            204,
            203,
            202,
            201,
            214,
            200,
            230,
            232,
            132,
            259,
            258,
            257,
            256,
            255,
            254,
            253,
            252,
            251,
            250,
            249,
            248,
            231,
            247,
            245,
            244,
            243,
            242,
            241,
            240,
            239,
            238,
            237,
            236,
            235,
            234,
            233,
            246,
            199,
            260,
            149,
            162,
            161,
            160,
            159,
            158,
            157,
            156,
            155,
            154,
            153,
            152,
            151,
            150,
            163,
            148,
            146,
            145,
            144,
            143,
            142,
            141,
            140,
            139,
            138,
            137,
            136,
            135,
            134,
            147,
            164,
            198,
            166,
            195,
            194,
            193,
            192,
            191,
            190,
            189,
            188,
            187,
            186,
            185,
            184,
            196,
            165,
            182,
            180,
            179,
            178,
            177,
            176,
            175,
            174,
            173,
            171,
            170,
            167,
            183,
            197
           ],
           "lat": [
            41.3756316,
            41.3829118,
            41.4053697,
            41.4431441,
            41.3595484,
            41.3631066,
            41.3608475,
            41.3621232,
            41.3573288,
            41.392052,
            41.37541,
            41.363279,
            41.357067,
            41.4389609,
            41.4006765,
            41.4339212,
            41.4361782,
            41.4017084,
            41.3977227,
            41.3986238,
            41.3953855,
            41.3935355,
            41.3954723,
            41.3998981,
            41.4029965,
            41.3759419,
            41.3970497,
            41.401883,
            41.4034967,
            41.371459,
            41.3785379,
            41.4105956,
            41.387888,
            41.3751866,
            41.402988,
            41.3807072,
            41.381219,
            41.4038902,
            41.3816139,
            41.3854094,
            41.3829333,
            41.3776292,
            41.3718728,
            41.3720293,
            41.3949729,
            41.3750995,
            41.4001015,
            41.4040525,
            41.4039698,
            41.40013,
            41.3968391,
            41.384972,
            41.3813118,
            41.3875712,
            41.393062,
            41.3908381,
            41.396994,
            41.376433,
            41.3952527,
            41.3900544,
            41.3872437,
            41.4134503,
            41.4050074,
            41.4098842,
            41.3949601,
            41.4300161,
            41.426078,
            41.4373376,
            41.4166982,
            41.4296439,
            41.3890626,
            41.4030225,
            41.4366708,
            41.389462,
            41.4297231,
            41.4275514,
            41.4180789,
            41.4138664,
            41.4283127,
            41.4158995,
            41.4121345,
            41.43068,
            41.4299201,
            41.4304126,
            41.4325013,
            41.4506081,
            41.4486328,
            41.4482569,
            41.4457195,
            41.4433647,
            41.4268952,
            41.3957813,
            41.3854735,
            41.4082107,
            41.4074131,
            41.4363473,
            41.4364887,
            41.3969455,
            41.3981616,
            41.4009,
            41.4031529,
            41.401136,
            41.3937414,
            41.4133076,
            41.4256626,
            41.4224015,
            41.4156285,
            41.3783067,
            41.3754188,
            41.3789061,
            41.433384,
            41.3785631,
            41.3770199,
            41.37684,
            41.3791986,
            41.3853868,
            41.3875297,
            41.39038,
            41.3934324,
            41.3906352,
            41.4366871,
            41.4315843,
            41.4340849,
            41.4347233,
            41.4388223,
            41.3812111,
            41.3806411,
            41.3896967,
            41.3869612,
            41.4267638,
            41.4306102,
            41.4374904,
            41.4345997,
            41.4295137,
            41.4372022,
            41.4357978,
            41.4333259,
            41.430623,
            41.4276076,
            41.4260751,
            41.422037,
            41.4216738,
            41.4347859,
            41.4418604,
            41.4427374,
            41.4389014,
            41.4432762,
            41.4417001,
            41.4480464,
            41.443387,
            41.3954094,
            41.4387217,
            41.4490679,
            41.446923,
            41.442489,
            41.4513863,
            41.4479402,
            41.4388644,
            41.4457962,
            41.4312335,
            41.4306689,
            41.439929,
            41.4246548,
            41.4246885,
            41.462095,
            41.4354601,
            41.4352071,
            41.4095069,
            41.3989194,
            41.4000778,
            41.4006862,
            41.3989151,
            41.3989713,
            41.4090922,
            41.4280668,
            41.4107641,
            41.4145614,
            41.4092333,
            41.4095926,
            41.4074444,
            41.4052698,
            41.4119568,
            41.4160558,
            41.4144967,
            41.4095489,
            41.4048623,
            41.377846,
            41.419965,
            41.3943454,
            41.4191957,
            41.3873901,
            41.4383117,
            41.4105848,
            41.391313,
            41.391062,
            41.4164824,
            41.3781065,
            41.3793558,
            41.3937234,
            41.393489,
            41.3893094,
            41.411381,
            41.376433,
            41.392384,
            41.3889972,
            41.3863747,
            41.3743329,
            41.3854003,
            41.3796421,
            41.380628,
            41.381275,
            41.3694508,
            41.3734706,
            41.380955,
            41.3889129,
            41.3890253,
            41.3860607,
            41.3873057,
            41.4022657,
            41.3905303,
            41.4230551,
            41.3653426,
            41.4143392,
            41.378118,
            41.4202459,
            41.4072349,
            41.4194972,
            41.4140598,
            41.410712,
            41.4058109,
            41.3972809,
            41.3943033,
            41.3779974,
            41.3755016,
            41.3717304,
            41.3887127,
            41.3754426,
            41.417694,
            41.3881175,
            41.3685394,
            41.3513237,
            41.3545425,
            41.383585,
            41.3767538,
            41.3862258,
            41.3847061,
            41.385641,
            41.3881262,
            41.3983902,
            41.3754047,
            41.39828,
            41.3765618,
            41.3795862,
            41.3981669,
            41.4378773,
            41.3649272,
            41.3821314,
            41.3779613,
            41.3741093,
            41.3763948,
            41.3757914,
            41.3938861,
            41.388296,
            41.3879131,
            41.3936144,
            41.3834802,
            41.3755747,
            41.3751852,
            41.3830299,
            41.3841132,
            41.3790693,
            41.3790718,
            41.389668,
            41.385503,
            41.3856474,
            41.3855644,
            41.3917666,
            41.385004,
            41.3900085,
            41.392135,
            41.3927771,
            41.3819459,
            41.380393,
            41.3881248,
            41.3806074,
            41.3808222,
            41.3787064,
            41.392878,
            41.377046,
            41.4158412,
            41.4120681,
            41.380628,
            41.3833653,
            41.3702483,
            41.3980195,
            41.4054458,
            41.4064529,
            41.4047056,
            41.3967169,
            41.39212,
            41.3906051,
            41.3953894,
            41.3838369,
            41.376735,
            41.3773113,
            41.3776721,
            41.3811829,
            41.3852585,
            41.3912605,
            41.4022081,
            41.3982304,
            41.4055198,
            41.3888694,
            41.4108005,
            41.410098,
            41.392567,
            41.3837684,
            41.3893222,
            41.387696,
            41.387493,
            41.4055143,
            41.3967524,
            41.4071692,
            41.3954041,
            41.4005784,
            41.3924661,
            41.4016969,
            41.4108439,
            41.410314,
            41.4031491,
            41.4060589,
            41.3982615,
            41.3949085,
            41.401061,
            41.384844,
            41.3833653,
            41.3812425,
            41.3467746,
            41.384546,
            41.389135,
            41.388885,
            41.3914292,
            41.3911035,
            41.3933173,
            41.3941557,
            41.3954877,
            41.3979779,
            41.379981,
            41.3881248,
            41.4200135,
            41.4021805,
            41.3736911,
            41.386543,
            41.387235,
            41.3923875,
            41.3902625,
            41.38268,
            41.3768761,
            41.3770715,
            41.3814279,
            41.3775319,
            41.385086,
            41.3842634,
            41.3751145,
            41.3910756,
            41.3748001,
            41.3960652,
            41.3885744,
            41.3913036,
            41.4018969,
            41.4063864,
            41.404511,
            41.379326,
            41.382335,
            41.381046,
            41.381275,
            41.3850616,
            41.4134833,
            41.3871079,
            41.37686,
            41.3902194,
            41.4227912,
            41.3852864,
            41.4075013,
            41.4068417,
            41.4078456,
            41.4035608,
            41.3850278,
            41.3999967,
            41.3983444,
            41.4013296,
            41.4025392,
            41.3960982,
            41.3976165,
            41.4040364,
            41.3985735,
            41.3967824,
            41.4050968,
            41.3939378,
            41.3935816,
            41.3922355,
            41.3987543,
            41.3745238,
            41.3857425,
            41.3915195,
            41.3908477,
            41.3897943,
            41.387561,
            41.3880355,
            41.3887069,
            41.3854466,
            41.3878061,
            41.3952027,
            41.3839045,
            41.4059356,
            41.3733857,
            41.4084796,
            41.4391174,
            41.4420913,
            41.433934,
            41.4361251,
            41.4314061,
            41.4299999,
            41.4298614,
            41.4298991,
            41.4253643,
            41.4258248,
            41.4250835,
            41.4182129,
            41.4072092,
            41.4219291,
            41.3826647,
            41.426925,
            41.4239719,
            41.4244527,
            41.4194205,
            41.4175595,
            41.4172922,
            41.4158807,
            41.3727426,
            41.3751161,
            41.3751767,
            41.3714688,
            41.3719688,
            41.4228449,
            41.3819739,
            41.4356895,
            41.3958685,
            41.4038559,
            41.3953011,
            41.4109763,
            41.4110822,
            41.4116634,
            41.4132316,
            41.4091355,
            41.4070139,
            41.4026275,
            41.4018686,
            41.3993329,
            41.4003471,
            41.4065912,
            41.3942108,
            41.3783467,
            41.4148983,
            41.4093405,
            41.4056269,
            41.4027907,
            41.4003793,
            41.4090202,
            41.3808772,
            41.4183999,
            41.4167933,
            41.4145805,
            41.4139298,
            41.4120452,
            41.4113024,
            41.416043,
            41.4118378,
            41.3847113,
            41.4008312,
            41.3821371,
            41.3812001,
            41.3812979,
            41.3786364,
            41.3824848,
            41.3961412,
            41.3969839,
            41.3756948,
            41.3768806,
            41.3755503,
            41.3703717,
            41.3675438,
            41.3832609,
            41.3992169,
            41.3714775,
            41.3675574,
            41.36352,
            41.4053649,
            41.4110754,
            41.4023621,
            41.4065291,
            41.4008744,
            41.3979002,
            41.3919877,
            41.3896642,
            41.4023354,
            41.3723682,
            41.3871579
           ],
           "legendgroup": "",
           "lon": [
            2.1496688,
            2.1672236,
            2.2135818,
            2.1996045,
            2.1417765,
            2.1398322,
            2.1392335,
            2.1356187,
            2.1371996,
            2.1480223,
            2.1232547,
            2.1341586,
            2.141563,
            2.1996179,
            2.1232926,
            2.2062245,
            2.2047037,
            2.2053803,
            2.1194557,
            2.1204941,
            2.1210928,
            2.1231228,
            2.1250451,
            2.1281922,
            2.1283866,
            2.1299539,
            2.1279409,
            2.131524,
            2.1936584,
            2.127854,
            2.1767427,
            2.1579897,
            2.1552902,
            2.1568773,
            2.1344691,
            2.1468381,
            2.141767,
            2.2041137,
            2.1677697,
            2.1740155,
            2.1420704,
            2.1836886,
            2.180302,
            2.1804468,
            2.1612814,
            2.1613897,
            2.1841711,
            2.181199,
            2.1729061,
            2.1780175,
            2.1756598,
            2.1376205,
            2.1729725,
            2.1469336,
            2.1633226,
            2.1743743,
            2.1706323,
            2.17871,
            2.1730023,
            2.1775594,
            2.1793035,
            2.1631012,
            2.134603,
            2.1715285,
            2.1302775,
            2.1720191,
            2.1751572,
            2.1740962,
            2.1909952,
            2.174444,
            2.1679313,
            2.1913538,
            2.186105,
            2.1314948,
            2.1617032,
            2.1659881,
            2.1763994,
            2.1777274,
            2.1629889,
            2.1745567,
            2.1652216,
            2.1821802,
            2.1849813,
            2.1834174,
            2.1842021,
            2.1923629,
            2.1898372,
            2.1918401,
            2.1929816,
            2.1906302,
            2.1842572,
            2.1787074,
            2.1586183,
            2.1689962,
            2.1381069,
            2.1706752,
            2.1841014,
            2.136346,
            2.1386719,
            2.13892,
            2.1445843,
            2.1479824,
            2.1455022,
            2.1712937,
            2.2008632,
            2.198071,
            2.1817876,
            2.1297303,
            2.1297823,
            2.1233038,
            2.1716309,
            2.1202487,
            2.1169828,
            2.114029,
            2.1135824,
            2.122893,
            2.1237141,
            2.121,
            2.115107,
            2.111541,
            2.1693134,
            2.1769107,
            2.1748267,
            2.1817718,
            2.1767828,
            2.1190863,
            2.1671611,
            2.1652199,
            2.1820169,
            2.1521909,
            2.1564551,
            2.1565742,
            2.1585268,
            2.1589493,
            2.1620235,
            2.163872,
            2.1629258,
            2.1671068,
            2.1697582,
            2.1722534,
            2.174401,
            2.1799878,
            2.147904,
            2.1664224,
            2.170393,
            2.1715576,
            2.1746238,
            2.1781553,
            2.1775154,
            2.1813051,
            2.1599427,
            2.1815953,
            2.1833801,
            2.184857,
            2.185727,
            2.1894717,
            2.1976757,
            2.1657506,
            2.2010422,
            2.1499103,
            2.1456449,
            2.1970692,
            2.166289,
            2.1570492,
            2.178959,
            2.2001569,
            2.1948002,
            2.1885055,
            2.124139,
            2.1326911,
            2.1543317,
            2.1564253,
            2.1606736,
            2.1656378,
            2.1443777,
            2.1640965,
            2.1658677,
            2.1557747,
            2.1524953,
            2.1492066,
            2.1420204,
            2.1447518,
            2.1421504,
            2.1402433,
            2.1360313,
            2.174799,
            2.150523,
            2.1401823,
            2.1751709,
            2.1718497,
            2.1875446,
            2.2039823,
            2.1826833,
            2.1808391,
            2.1801142,
            2.1801094,
            2.1696744,
            2.1689592,
            2.1764275,
            2.1707419,
            2.1727457,
            2.2122054,
            2.17871,
            2.1925059,
            2.1923283,
            2.1646697,
            2.1479385,
            2.1521802,
            2.1368202,
            2.1821916,
            2.1818962,
            2.1879597,
            2.1332694,
            2.1934636,
            2.1993105,
            2.1968267,
            2.1702467,
            2.1631263,
            2.1976297,
            2.1906339,
            2.1913753,
            2.1331357,
            2.1874539,
            2.1378667,
            2.1894852,
            2.1684799,
            2.20934,
            2.2150487,
            2.2061691,
            2.1949461,
            2.1997869,
            2.1860256,
            2.1884228,
            2.154004,
            2.1554047,
            2.1542277,
            2.1398409,
            2.1976864,
            2.1154135,
            2.1328403,
            2.1450958,
            2.1433038,
            2.112186,
            2.1269152,
            2.1168609,
            2.1170751,
            2.113096,
            2.1091535,
            2.1960799,
            2.1680021,
            2.1830315,
            2.1748621,
            2.1925198,
            2.1754896,
            2.1910691,
            2.138599,
            2.1606534,
            2.1450491,
            2.1481993,
            2.1473272,
            2.1499102,
            2.1601641,
            2.150878,
            2.150342,
            2.1507739,
            2.1482099,
            2.1629349,
            2.1592394,
            2.1571646,
            2.1536821,
            2.1537635,
            2.1490553,
            2.1599078,
            2.1634768,
            2.1634306,
            2.1773214,
            2.1532163,
            2.1429115,
            2.1432105,
            2.1563542,
            2.1586273,
            2.1629146,
            2.1606506,
            2.1951871,
            2.1408633,
            2.141539,
            2.1443579,
            2.143411,
            2.16113608,
            2.1959771,
            2.1907524,
            2.1821916,
            2.1946255,
            2.1878126,
            2.1671018,
            2.1663172,
            2.1785364,
            2.1765126,
            2.1825085,
            2.1874966,
            2.1972309,
            2.1572953,
            2.1914756,
            2.1740082,
            2.1646742,
            2.157233,
            2.1528769,
            2.155089,
            2.1476308,
            2.1649035,
            2.1531031,
            2.1622548,
            2.1735975,
            2.1872438,
            2.1884487,
            2.1422174,
            2.1838838,
            2.1678388,
            2.1696543,
            2.1690686,
            2.1706498,
            2.1646338,
            2.1820722,
            2.1681961,
            2.1788855,
            2.1717397,
            2.175767,
            2.1740575,
            2.1757334,
            2.1707947,
            2.1740472,
            2.1866517,
            2.1706023,
            2.169941,
            2.185085,
            2.1946255,
            2.1933482,
            2.1436235,
            2.184922,
            2.183489,
            2.18329,
            2.1805685,
            2.1801763,
            2.1812483,
            2.1813305,
            2.1771985,
            2.1801069,
            2.1525661,
            2.1951871,
            2.2016699,
            2.1829894,
            2.188928,
            2.169427,
            2.168819,
            2.1679349,
            2.164035,
            2.16712,
            2.1772251,
            2.1758261,
            2.1732861,
            2.1707321,
            2.174016,
            2.1692556,
            2.1709386,
            2.1965766,
            2.1889045,
            2.1871959,
            2.1930099,
            2.189476,
            2.1871575,
            2.1874404,
            2.189881,
            2.189906,
            2.187093,
            2.186576,
            2.1818962,
            2.1766834,
            2.2206913,
            2.1753364,
            2.19067,
            2.1904003,
            2.2060317,
            2.1454802,
            2.1930174,
            2.1558354,
            2.1586704,
            2.1609345,
            2.1510385,
            2.1644531,
            2.1598243,
            2.1574439,
            2.1524704,
            2.1513154,
            2.1471724,
            2.183145,
            2.1440826,
            2.1445567,
            2.1569161,
            2.1380304,
            2.1345892,
            2.1309272,
            2.1902116,
            2.1422556,
            2.1610515,
            2.1390667,
            2.136579,
            2.1328634,
            2.1306737,
            2.1256248,
            2.1285766,
            2.1288753,
            2.1344218,
            2.1334873,
            2.1312876,
            2.1517977,
            2.1709545,
            2.192042,
            2.1858025,
            2.1928992,
            2.1896502,
            2.1894423,
            2.1857498,
            2.190246,
            2.1922011,
            2.1932159,
            2.1852073,
            2.191206,
            2.1872818,
            2.1904005,
            2.1635318,
            2.1849107,
            2.1717083,
            2.1786224,
            2.1812399,
            2.1773157,
            2.1804804,
            2.1877153,
            2.1844769,
            2.1908473,
            2.1539198,
            2.1523091,
            2.1658972,
            2.1629627,
            2.1667829,
            2.1866363,
            2.1268625,
            2.1920873,
            2.192952,
            2.2084257,
            2.1965965,
            2.2193724,
            2.2163136,
            2.2183313,
            2.2177652,
            2.2088179,
            2.2074469,
            2.2017694,
            2.20077,
            2.1974184,
            2.1969105,
            2.203028,
            2.2008756,
            2.1633139,
            2.207186,
            2.2024461,
            2.1977119,
            2.1956161,
            2.1924144,
            2.1954152,
            2.1559939,
            2.2058133,
            2.2058345,
            2.2008139,
            2.2017955,
            2.1972673,
            2.1987258,
            2.2124993,
            2.1778852,
            2.1334379,
            2.206645,
            2.1354149,
            2.1323612,
            2.1289917,
            2.1335494,
            2.1493799,
            2.2078439,
            2.1661852,
            2.1358571,
            2.1698206,
            2.1439036,
            2.1389439,
            2.1342316,
            2.1392662,
            2.2041415,
            2.1439304,
            2.1388216,
            2.1369015,
            2.2162094,
            2.1809764,
            2.2119049,
            2.2091221,
            2.2099336,
            2.2088454,
            2.2037136,
            2.1999572,
            2.2105777,
            2.1419494,
            2.1410945
           ],
           "marker": {
            "color": [
             24,
             21,
             27,
             27,
             32,
             32,
             36,
             33,
             33,
             31,
             31,
             28,
             33,
             27,
             26,
             27,
             24,
             27,
             36,
             23,
             27,
             27,
             27,
             27,
             27,
             27,
             31,
             27,
             27,
             21,
             21,
             27,
             30,
             24,
             27,
             26,
             24,
             27,
             41,
             24,
             21,
             29,
             39,
             39,
             33,
             30,
             27,
             36,
             32,
             27,
             27,
             32,
             18,
             31,
             33,
             24,
             32,
             33,
             30,
             26,
             26,
             27,
             24,
             27,
             23,
             12,
             27,
             17,
             27,
             32,
             16,
             16,
             24,
             27,
             20,
             27,
             24,
             27,
             24,
             27,
             27,
             32,
             32,
             36,
             27,
             21,
             27,
             23,
             27,
             24,
             27,
             32,
             27,
             27,
             32,
             24,
             33,
             27,
             27,
             24,
             27,
             27,
             31,
             27,
             27,
             26,
             27,
             24,
             29,
             36,
             27,
             24,
             22,
             27,
             32,
             31,
             27,
             27,
             27,
             32,
             27,
             18,
             27,
             33,
             24,
             27,
             35,
             24,
             25,
             27,
             28,
             27,
             27,
             32,
             24,
             27,
             28,
             18,
             30,
             26,
             18,
             19,
             27,
             24,
             24,
             24,
             24,
             18,
             18,
             30,
             27,
             24,
             24,
             28,
             28,
             15,
             27,
             31,
             24,
             27,
             27,
             33,
             24,
             27,
             24,
             21,
             24,
             18,
             28,
             27,
             20,
             27,
             28,
             27,
             50,
             24,
             27,
             28,
             30,
             19,
             16,
             27,
             27,
             26,
             27,
             18,
             21,
             24,
             24,
             15,
             27,
             18,
             22,
             33,
             27,
             32,
             27,
             25,
             33,
             32,
             27,
             24,
             38,
             27,
             39,
             33,
             27,
             26,
             22,
             31,
             24,
             44,
             27,
             35,
             27,
             32,
             33,
             27,
             32,
             19,
             27,
             32,
             21,
             25,
             32,
             27,
             54,
             24,
             27,
             27,
             27,
             27,
             15,
             24,
             27,
             32,
             18,
             27,
             28,
             18,
             36,
             19,
             28,
             27,
             30,
             28,
             28,
             28,
             27,
             26,
             33,
             24,
             27,
             27,
             20,
             18,
             32,
             21,
             21,
             33,
             48,
             18,
             18,
             27,
             20,
             25,
             27,
             40,
             27,
             24,
             40,
             21,
             21,
             24,
             27,
             24,
             32,
             21,
             15,
             27,
             27,
             21,
             27,
             43,
             21,
             21,
             22,
             24,
             34,
             43,
             27,
             23,
             21,
             31,
             21,
             21,
             21,
             21,
             39,
             27,
             21,
             27,
             27,
             20,
             34,
             20,
             27,
             21,
             24,
             21,
             20,
             20,
             21,
             26,
             21,
             24,
             21,
             15,
             21,
             21,
             23,
             21,
             18,
             21,
             30,
             27,
             19,
             21,
             18,
             30,
             27,
             42,
             27,
             23,
             27,
             26,
             35,
             43,
             27,
             27,
             27,
             39,
             39,
             21,
             27,
             27,
             46,
             26,
             54,
             24,
             29,
             15,
             27,
             25,
             21,
             27,
             43,
             25,
             27,
             19,
             19,
             21,
             20,
             18,
             21,
             18,
             21,
             54,
             27,
             21,
             27,
             24,
             25,
             18,
             44,
             24,
             21,
             43,
             21,
             21,
             47,
             27,
             24,
             16,
             21,
             18,
             27,
             24,
             26,
             36,
             27,
             24,
             27,
             26,
             39,
             27,
             27,
             28,
             21,
             33,
             24,
             28,
             31,
             26,
             33,
             25,
             33,
             33,
             33,
             33,
             27,
             24,
             25,
             24,
             26,
             27,
             27,
             24,
             27,
             24,
             32,
             18,
             26,
             27,
             33,
             33,
             27,
             27,
             27,
             24,
             32,
             27,
             27,
             27,
             27,
             33,
             27,
             27,
             27,
             27,
             26,
             31,
             27,
             27,
             18,
             27,
             27,
             27,
             27,
             27,
             33,
             32,
             27,
             33,
             27,
             32,
             32,
             23,
             27,
             27,
             27,
             27,
             27,
             24,
             27,
             27,
             27,
             32,
             32,
             27,
             35,
             21,
             25,
             31,
             21,
             21,
             33,
             27,
             27,
             27,
             27,
             24,
             27,
             21,
             28,
             29,
             28,
             27,
             19,
             26,
             17,
             27,
             27,
             27,
             33,
             51,
             15,
             27,
             34,
             31,
             27,
             27,
             27,
             54,
             54,
             21,
             31,
             27
            ],
            "coloraxis": "coloraxis"
           },
           "mode": "markers",
           "name": "",
           "showlegend": false,
           "subplot": "mapbox",
           "type": "scattermapbox"
          }
         ],
         "layout": {
          "title": {
           "text": "Total Stations: 508 Total Bikes: 13572 in  2020"
          }
         },
         "name": "2020"
        },
        {
         "data": [
          {
           "customdata": [
            [
             "TALLER R. BARRADAS",
             8908,
             16,
             0
            ],
            [
             "GRAN VIA DE LES CORTS CATALANES, 609",
             8007,
             15,
             23
            ],
            [
             "C/ DE LES ESCOLES PIES, 99",
             8017,
             27,
             121
            ],
            [
             "C/ CAMÈLIES, 73",
             8024,
             27,
             106
            ],
            [
             "C/ RIERA BLANCA, 123",
             8028,
             20,
             22
            ],
            [
             "RAMBLA DEL BRASIL, 5",
             8028,
             25,
             28
            ],
            [
             "C/ MUNNÉ  2-6",
             8028,
             31,
             34
            ],
            [
             "C/RADI,10/GRAN VIA DE LES CORTS CATALANES",
             8038,
             28,
             9
            ],
            [
             "C/ JANE ADDAMS, 26/ CRTA. DEL PRAT",
             8038,
             33,
             9
            ],
            [
             "C/ VILLARROEL, 208",
             8036,
             31,
             43
            ],
            [
             "C/ DE L'ENERGIA, 2 / ALTS FORNS",
             8038,
             32,
             7
            ],
            [
             "JARDINS DE CAN FERRERO/PG.DE LA ZONA FRANCA",
             8038,
             33,
             7
            ],
            [
             "C/ ALTS FORNS, 77",
             8038,
             32,
             9
            ],
            [
             "C/ DE LA FONERIA, 33",
             8038,
             36,
             8
            ],
            [
             "PL. TERESA DE CLARAMUNT/C/ DELS FERROCARILS",
             8038,
             32,
             10
            ],
            [
             "C/ CIUTAT D'ASUNCIÓN, 73 / POTOSÍ",
             8030,
             27,
             16
            ],
            [
             "CAMPANA DE LA MAQUINISTA (SAO PAULO I PL. DE",
             8030,
             27,
             14
            ],
            [
             "C/ ROC BORONAT, 134",
             8018,
             27,
             5
            ],
            [
             "PG. D'ENRIC SANCHIS, 33",
             8030,
             27,
             11
            ],
            [
             "C/ SANT ADRIÀ, 113",
             8030,
             23,
             13
            ],
            [
             "C/ RAMON TURRÓ, 246",
             8005,
             27,
             2
            ],
            [
             "AV. J. V. FOIX,  63",
             8034,
             36,
             111
            ],
            [
             "C/ CARME KARR, 12-14",
             8034,
             23,
             117
            ],
            [
             "C/ CAPONATA, 10",
             8034,
             27,
             101
            ],
            [
             "C/ SANTA AMÈLIA, 2",
             8034,
             27,
             92
            ],
            [
             "VIA AUGUSTA, 348",
             8017,
             26,
             117
            ],
            [
             "PASSATGE DE SENILLOSA, 3-5",
             8034,
             27,
             94
            ],
            [
             "C/ DOCTOR ROUX, 86",
             8017,
             27,
             104
            ],
            [
             "C/ CASTELLNOU, 65",
             8017,
             31,
             95
            ],
            [
             "C/ PAU ALCOVER, 94",
             8017,
             27,
             108
            ],
            [
             "C/ CARDENER, 59",
             8024,
             27,
             87
            ],
            [
             "RECINTE PARC DE LA CIUTADELLA",
             8003,
             27,
             4
            ],
            [
             "C/ RIERA ALTA, 6",
             8001,
             35,
             10
            ],
            [
             "C/ MÉNDEZ NÚÑEZ, 16",
             8003,
             26,
             12
            ],
            [
             "C/ NÀPOLS, 125",
             8013,
             32,
             15
            ],
            [
             "AV. PARAL.LEL 164",
             8015,
             18,
             17
            ],
            [
             "C/ CASANOVA, 119",
             8036,
             30,
             30
            ],
            [
             "C/ VILAMARÍ, 85",
             8015,
             26,
             28
            ],
            [
             "C/ NUMÀNCIA, 2",
             8029,
             24,
             32
            ],
            [
             "C/ LOPE DE VEGA, 79",
             8005,
             27,
             3
            ],
            [
             "C/ AGUSTÍ DURAN I SANPERE, 10",
             8001,
             41,
             10
            ],
            [
             "C/ DURAN I BAS, 2",
             8002,
             24,
             11
            ],
            [
             "AV. JOSEP TARRADELLAS, 27",
             8029,
             21,
             35
            ],
            [
             "PL. JOAQUIM XIRAU I PALAU, 1",
             8002,
             21,
             5
            ],
            [
             "PL. ICTÍNEO",
             8039,
             29,
             2
            ],
            [
             "WORLD  TRADE CENTER",
             8039,
             39,
             3
            ],
            [
             "WORLD TRADE CENTER",
             8039,
             39,
             3
            ],
            [
             "C/ GOMBAU, 24",
             8003,
             26,
             5
            ],
            [
             "PG. DE GRÀCIA, 89",
             8008,
             33,
             37
            ],
            [
             "C/ RIBES, 77",
             8013,
             27,
             9
            ],
            [
             "C/ DELS ENAMORATS, 49",
             8013,
             36,
             19
            ],
            [
             "C/ SARDENYA, 326",
             8025,
             32,
             37
            ],
            [
             "C/ CONSELL DE CENT, 482",
             8013,
             27,
             23
            ],
            [
             "C/ DIPUTACIÓ, 373",
             8013,
             27,
             21
            ],
            [
             "C/ MARQUÈS DE SENTMENAT, 46",
             8029,
             32,
             44
            ],
            [
             "LA RAMBLA, 75",
             8002,
             18,
             8
            ],
            [
             "C/ VILADOMAT, 244",
             8029,
             31,
             39
            ],
            [
             "CAT COMERÇ-PG. DE GRÀCIA, 61",
             8007,
             33,
             32
            ],
            [
             "C/ BRUC, 20",
             8010,
             24,
             16
            ],
            [
             "C/ BAILÉN, 100",
             8009,
             32,
             27
            ],
            [
             "PG. DE COLOM (LES RAMBLES)",
             8039,
             33,
             5
            ],
            [
             "C/ BAILÉN, 62",
             8009,
             30,
             22
            ],
            [
             "AV. PARAL.LEL, 132",
             8015,
             30,
             13
            ],
            [
             "C/ ARTESA DE SEGRE, 2",
             8022,
             27,
             106
            ],
            [
             "C/ TURÓ BLAU, 1-3",
             8016,
             24,
             62
            ],
            [
             "C/ BALMES, 409",
             8022,
             32,
             111
            ],
            [
             "C/ AMILCAR, 1",
             8031,
             12,
             61
            ],
            [
             "C/ CUBELLES, 2",
             8031,
             27,
             57
            ],
            [
             "PL. DELS JARDINS D'ALFÀBIA, 1",
             8016,
             17,
             66
            ],
            [
             "C/ MÚRCIA, 64",
             8027,
             27,
             17
            ],
            [
             "PL. VIRREI AMAT",
             8016,
             32,
             55
            ],
            [
             "GRAN VIA DE LES CORTS CATALANES, 632",
             8007,
             12,
             22
            ],
            [
             "C/ BOLÍVIA, 76",
             8018,
             15,
             7
            ],
            [
             "C/ MALATS, 98-100",
             8030,
             15,
             35
            ],
            [
             "AV. DIAGONAL, 652",
             8034,
             27,
             63
            ],
            [
             "C/ FULTON, 1",
             8032,
             20,
             76
            ],
            [
             "PG. FONT D´EN- FARGAS, 1",
             8031,
             27,
             75
            ],
            [
             "C/ D'ESCORNALBOU, 51",
             8041,
             24,
             74
            ],
            [
             "C/ SANT ANTONI Mª CLARET, 290-296",
             8041,
             27,
             49
            ],
            [
             "C/ MAS CASANOVAS, 137",
             8041,
             27,
             75
            ],
            [
             "TRAVESSERA DE GRÀCIA, 368",
             8025,
             27,
             59
            ],
            [
             "TRAVESSERA DE GRÀCIA, 328",
             8025,
             27,
             60
            ],
            [
             "PLAÇA ALFONS X EL SAVI / RONDA DEL GUINARDO",
             8024,
             27,
             88
            ],
            [
             "AV. RIO DE JANEIRO, 3",
             8016,
             32,
             38
            ],
            [
             "RAMBLA FABRA I PUIG, 67",
             8030,
             32,
             33
            ],
            [
             "CAT COMERÇ-AV.MERID/PG. FABRA I PUIG",
             8030,
             36,
             38
            ],
            [
             "C/ CONCEPCIÓ ARENAL, 281",
             8033,
             27,
             32
            ],
            [
             "VIA BARCINO, 69",
             8033,
             21,
             28
            ],
            [
             "270 - CRTA. DE RIBES, 77 (TRINITAT VELLA)",
             8033,
             27,
             35
            ],
            [
             "VIA BARCINO, 121",
             8033,
             23,
             26
            ],
            [
             "C/ FERNANDO PESSOA, 72",
             8030,
             27,
             26
            ],
            [
             "PG. TORRAS I BAGES, 129",
             8030,
             24,
             29
            ],
            [
             "C/ CONCEPCIÓ ARENAL, 176",
             8027,
             27,
             37
            ],
            [
             "C/ GRANOLLERS, 1",
             8032,
             24,
             78
            ],
            [
             "SEU DEL DISTRICTE (NOU BARRIS)",
             8042,
             24,
             72
            ],
            [
             "C/ SANT ISCLE, 60",
             8031,
             27,
             61
            ],
            [
             "C/ DE ROSSELLÓ I PORCEL, 1/AV.MERIDIANA",
             8016,
             33,
             41
            ],
            [
             "C/ ALT DE GIRONELLA, 13",
             8017,
             23,
             82
            ],
            [
             "C/ REINA VICTORIA, 31",
             8021,
             27,
             80
            ],
            [
             "C/ VALLMAJOR, 13",
             8021,
             27,
             88
            ],
            [
             "C/ SANTALÓ, 165",
             8021,
             24,
             106
            ],
            [
             "C/ SANT HERMENEGILD, 30",
             8006,
             27,
             79
            ],
            [
             "VÍA AUGUSTA, 109",
             8006,
             27,
             71
            ],
            [
             "C/ SAGUÉS, 1",
             8021,
             31,
             51
            ],
            [
             "C/ CARTAGENA, 368",
             8025,
             27,
             65
            ],
            [
             "RAMBLA DE PRIM, 256",
             8020,
             27,
             11
            ],
            [
             "C/ CANTÀBRIA, 55",
             8020,
             26,
             9
            ],
            [
             "C/ DEL GUINARDÓ, 32-38",
             8041,
             27,
             38
            ],
            [
             "RAMBLA DEL BRASIL, 44",
             8028,
             24,
             35
            ],
            [
             "C/ FELIU DE CASANOVA, 1",
             8028,
             29,
             28
            ],
            [
             "C/ REUS, 23",
             8022,
             24,
             114
            ],
            [
             "C/ ARIZALA, 77",
             8028,
             36,
             40
            ],
            [
             "C/ JOSEP SAMITIER / JOAN XXIII",
             8028,
             27,
             46
            ],
            [
             "C/ SANT RAMON NONAT,  26",
             8028,
             22,
             50
            ],
            [
             "C/ CARDENAL REIG, 11",
             8028,
             27,
             54
            ],
            [
             "C/ PINTOR RIBALTA / AV. XILE",
             8028,
             32,
             60
            ],
            [
             "C/ DOCTOR SALVADOR CARDENAL, 1-5",
             8028,
             31,
             60
            ],
            [
             "AV. DIAGONAL, 680",
             8034,
             27,
             65
            ],
            [
             "PG. MANUEL GIRONA, 7",
             8034,
             27,
             78
            ],
            [
             "C/ CAVALLERS, 67",
             8034,
             27,
             101
            ],
            [
             "C/ CAVALLERS, 41",
             8034,
             32,
             111
            ],
            [
             "C/ MARIE CURIE, 8-14",
             8042,
             27,
             73
            ],
            [
             "C/ DE MALADETA, 1",
             8016,
             18,
             44
            ],
            [
             "C/ DE L'ESCULTOR ORDÓÑEZ, 55",
             8016,
             27,
             53
            ],
            [
             "C/ ANDREU NIN, 22",
             8016,
             33,
             41
            ],
            [
             "C/ GALLEGO, 2",
             8028,
             24,
             43
            ],
            [
             "C/ COMERÇ, 36",
             8003,
             25,
             5
            ],
            [
             "C/ LLOBREGÓS, 115",
             8032,
             27,
             112
            ],
            [
             "C/ RAMON TURRÓ, 4",
             8005,
             19,
             5
            ],
            [
             "C/ LISBOA, 128",
             8032,
             27,
             98
            ],
            [
             "C/ PORTO, 35 | AV. ESTATUT DE CATALUNYA",
             8032,
             28,
             81
            ],
            [
             "PG. VALLDAURA, 26",
             8031,
             27,
             121
            ],
            [
             "C/ EDUARD TODA, 33 | C/ DOCTOR LETAMENDI",
             8031,
             27,
             104
            ],
            [
             "C/ LISBOA, 1 | C/ BAIXADA DE LA PLANA",
             8032,
             32,
             79
            ],
            [
             "PG. UNIVERSAL, 29 | C/ DOCTOR LETAMENDI",
             8042,
             24,
             95
            ],
            [
             "PG. FABRA I PUIG, 411",
             8031,
             27,
             89
            ],
            [
             "PG. FABRA I PUIG, 385",
             8031,
             28,
             92
            ],
            [
             "PG. FABRA I PUIG, 344",
             8031,
             18,
             73
            ],
            [
             "C/ ESCULTOR LLIMONA, 7",
             8031,
             30,
             65
            ],
            [
             "C/ AMILCAR, 78",
             8032,
             26,
             69
            ],
            [
             "C/ PERIODISTES, 9",
             8032,
             18,
             80
            ],
            [
             "C/ CAMPO FLORIDO, 66",
             8027,
             19,
             46
            ],
            [
             "AV. CAN MARCET, 36",
             8035,
             27,
             132
            ],
            [
             "VIA FAVÈNCIA, 47",
             8042,
             24,
             102
            ],
            [
             "VIA FAVÈNCIA, 186",
             8042,
             24,
             105
            ],
            [
             "PG. VALLDAURA, 171",
             8042,
             24,
             78
            ],
            [
             "C/ GÒNGORA, 23",
             8042,
             24,
             93
            ],
            [
             "C/ SANT FRANCESC XAVIER, 1",
             8016,
             18,
             72
            ],
            [
             "C/ NOU BARRIS, 23",
             8042,
             18,
             107
            ],
            [
             "PL. JESÚS CARRASCO",
             8042,
             20,
             93
            ],
            [
             "C/ PABLO IGLESIAS, 21",
             8016,
             30,
             63
            ],
            [
             "C/ ROSSELLÓ, 261",
             8008,
             27,
             41
            ],
            [
             "AV. RIO DE JANEIRO, 96",
             8016,
             24,
             47
            ],
            [
             "C/ PEDROSA, 24",
             8033,
             24,
             68
            ],
            [
             "C/ PALAMÓS, 33",
             8033,
             28,
             61
            ],
            [
             "AV. RIO DE JANEIRO, 118",
             8016,
             28,
             43
            ],
            [
             "C/ MIREIA, 28",
             8033,
             15,
             56
            ],
            [
             "PG. FABRA I PUIG, 449",
             8042,
             31,
             94
            ],
            [
             "PG. SANTA COLOMA, 105",
             8030,
             27,
             24
            ],
            [
             "C/ JORGE MANRIQUE, 15",
             8035,
             27,
             119
            ],
            [
             "C/ PARE MARIANA, 24",
             8035,
             27,
             125
            ],
            [
             "C/ PEDRELL, 52",
             8032,
             24,
             110
            ],
            [
             "C/REPÚBLICA DOMINICANA,25(CENTRE COMERCIAL)",
             8030,
             33,
             20
            ],
            [
             "AV. RASOS DE PEGUERA, 10",
             8033,
             20,
             44
            ],
            [
             "C/ SANT ADRIÀ, 88",
             8030,
             21,
             15
            ],
            [
             "C/ SANT ADRIÀ, 43",
             8030,
             24,
             19
            ],
            [
             "C/ ARAGÓ, 614",
             8018,
             18,
             16
            ],
            [
             "VIA AUGUSTA, 317",
             8017,
             28,
             111
            ],
            [
             "C/ D'ALACANT, 12",
             8017,
             27,
             96
            ],
            [
             "C/ GRAN DE GRÀCIA, 91",
             8012,
             20,
             61
            ],
            [
             "C/ GRAN DE GRÀCIA, 37",
             8012,
             27,
             55
            ],
            [
             "C/ TORRENT DE L'OLLA, 11",
             8012,
             28,
             46
            ],
            [
             "C/ SARDENYA, 465",
             8025,
             27,
             70
            ],
            [
             "C/ SARDENYA, 494",
             8024,
             24,
             81
            ],
            [
             "PG. VALL D'HEBRÓN, 168",
             8035,
             50,
             150
            ],
            [
             "C/ GARRIGA I ROCA, 2",
             8041,
             15,
             107
            ],
            [
             "C/ MASSENS, 76",
             8024,
             28,
             87
            ],
            [
             "C/ MAIGNON, 31-41",
             8024,
             30,
             105
            ],
            [
             "AV. VALLCARCA, 11",
             8023,
             19,
             88
            ],
            [
             "C/ ELISA, 1",
             8023,
             16,
             95
            ],
            [
             "AV. VALLCARCA, 108",
             8023,
             27,
             102
            ],
            [
             "AV. VALLCARCA, 196",
             8023,
             27,
             127
            ],
            [
             "C/ ESTEVE TERRADAS, 42",
             8023,
             26,
             145
            ],
            [
             "PTGE. MALUQUER, 16",
             8022,
             27,
             124
            ],
            [
             "C/ PROVENÇA, 445",
             8025,
             18,
             33
            ],
            [
             "C/ DIPUTACIÓ, 22",
             8015,
             21,
             24
            ],
            [
             "RAMBLA CATALUNYA/DIPUTACIO",
             8007,
             24,
             25
            ],
            [
             "PG. VALL D'HEBRÓN, 80",
             8023,
             24,
             166
            ],
            [
             "PL. TETUAN",
             8010,
             24,
             18
            ],
            [
             "C/ CAMÈLIES, 78",
             8024,
             27,
             118
            ],
            [
             "C/ GRAN DE LA SAGRERA, 74",
             8027,
             27,
             22
            ],
            [
             "C/ TUCUMÁN, 21",
             8030,
             24,
             17
            ],
            [
             "C/ MÚRCIA, 1",
             8026,
             21,
             22
            ],
            [
             "CAT COMERÇ-C/ VALLESPIR, 13",
             8014,
             25,
             30
            ],
            [
             "GRAN VIA DE LES CORTS CATALANES, 368",
             8010,
             27,
             24
            ],
            [
             "PG.DE LLUíS COMPANYS (ARC DE TRIOMF)",
             8018,
             33,
             10
            ],
            [
             "PG. DE LLUíS COMPANYS (ARC DE TRIOMF)",
             8018,
             27,
             10
            ],
            [
             "C/ VILLAR, 2",
             8041,
             32,
             46
            ],
            [
             "RAMBLA DEL RAVAL, 20",
             8001,
             27,
             6
            ],
            [
             "RAMBLA DEL RAVAL, 13",
             8001,
             25,
             8
            ],
            [
             "C/ CASP, 67",
             8010,
             33,
             16
            ],
            [
             "C/ BRUC, 66",
             8009,
             32,
             24
            ],
            [
             "PL. URQUINAONA, 3",
             8010,
             27,
             17
            ],
            [
             "C/ JOSEP PLA, 67",
             8019,
             24,
             4
            ],
            [
             "PG.DE COLOM (LES RAMBLES)",
             8039,
             37,
             5
            ],
            [
             "C/ JOAN D'ÀUSTRIA, 31B",
             8005,
             27,
             5
            ],
            [
             "C/ JORDI GIRONA, 29",
             8034,
             28,
             82
            ],
            [
             "C/ RAMON TRIAS FARGAS, 23",
             8005,
             39,
             5
            ],
            [
             "C/ COMTE BORRELL, 198",
             8029,
             26,
             28
            ],
            [
             "C/ JUAN GRIS, 28",
             8014,
             32,
             11
            ],
            [
             "C/ VALLESPIR, 49",
             8014,
             22,
             32
            ],
            [
             "PG. DE COLOM (VIA LAIETANA)",
             8002,
             31,
             4
            ],
            [
             "PL. ANTONIO LÓPEZ ( VIA LAIETANA)",
             8002,
             24,
             4
            ],
            [
             "MOLL ORIENTAL",
             8039,
             43,
             3
            ],
            [
             "C/ PAVIA, 3",
             8028,
             27,
             23
            ],
            [
             "PG. MARÍTIM DE LA BARCELONETA/ANDREA DÒRIA",
             8003,
             35,
             4
            ],
            [
             "AV. LITORAL (PG MARÍTIM DEL PORT OLÍMPIC)",
             8005,
             27,
             6
            ],
            [
             "C/ JOAN MIRÓ, 2-12",
             8005,
             32,
             5
            ],
            [
             "CAT COMERÇ-PL. CATALUNYA, 22",
             8002,
             33,
             15
            ],
            [
             "C/ DIPUTACIÓ, 226",
             8007,
             27,
             25
            ],
            [
             "C/ LLACUNA, 86",
             8005,
             32,
             3
            ],
            [
             "GRAN VIA DE LES CORTS CATALANES, 592",
             8007,
             33,
             21
            ],
            [
             "C/ GRANADELLA, 10-19 | C/ SAS",
             8030,
             18,
             12
            ],
            [
             "C/ HONDURAS, 32-34",
             8027,
             32,
             22
            ],
            [
             "C/ DE CERVELLÓ, 5",
             8001,
             24,
             5
            ],
            [
             "C/ PROVENÇA, 595",
             8026,
             22,
             27
            ],
            [
             "C/ SARDENYA, 402",
             8025,
             27,
             56
            ],
            [
             "GRAN VIA DE LES CORTS CATALANES, 1157 (D)",
             8020,
             54,
             8
            ],
            [
             "C/ PALLARS, 504",
             8019,
             24,
             4
            ],
            [
             "C/ CRISTOBAL DE MOURA, 84",
             8019,
             27,
             3
            ],
            [
             "C/ BOLIVIA, 120",
             8018,
             27,
             5
            ],
            [
             "C/ RAMÓN TURRÓ, 160",
             8005,
             27,
             3
            ],
            [
             "C/ ALMOGÀVERS, 63",
             8018,
             27,
             10
            ],
            [
             "PG. JOAN DE BORBÓ, 42",
             8003,
             15,
             4
            ],
            [
             "C/ VILAMARÍ, 2",
             8015,
             24,
             21
            ],
            [
             "C/ LLEIDA, 40",
             8004,
             27,
             33
            ],
            [
             "C/ CASANOVA, 139",
             8036,
             32,
             33
            ],
            [
             "C/ MINERIA, 30",
             8038,
             18,
             11
            ],
            [
             "PG. MARÍTIM DE LA BARCELONETA",
             8003,
             27,
             7
            ],
            [
             "C/ WATT, 2",
             8014,
             18,
             25
            ],
            [
             "RBLA. BADAL, 73 | C/ CONSTITUCIÓ",
             8014,
             18,
             14
            ],
            [
             "C/ NÀPOLS, 183",
             8013,
             27,
             22
            ],
            [
             "PG. ZONA FRANCA, 9",
             8038,
             36,
             5
            ],
            [
             "PG. ZONA FRANCA, 54",
             8038,
             19,
             6
            ],
            [
             "AV. DOCTOR MARAÑON, 25 | C/ PAU GARGALLO",
             8028,
             28,
             64
            ],
            [
             "C/ ROGER, 24",
             8028,
             27,
             34
            ],
            [
             "C/ JOHN MAYNARD KEYNES, 2 | AV. DIAGONAL",
             8034,
             30,
             70
            ],
            [
             "C/ MARTÍ I FRANQUÈS, 1",
             8028,
             28,
             63
            ],
            [
             "C/ ALFAMBRA, 2 | AV. DIAGONAL",
             8034,
             28,
             77
            ],
            [
             "C/ GRAN CAPITÀ, 9",
             8034,
             28,
             105
            ],
            [
             "C/ PUJADES, 103",
             8005,
             27,
             3
            ],
            [
             "C/ DE SANT PAU, 119/ RONDA SANT PAU",
             8001,
             26,
             9
            ],
            [
             "C/ DE RIBES, 59 B",
             8013,
             32,
             12
            ],
            [
             "C/ SELVA DE MAR, 230",
             8020,
             27,
             9
            ],
            [
             "PG. TORRAS I BAGES, 29",
             8030,
             20,
             23
            ],
            [
             "C/ CASANOVAS, 67",
             8011,
             27,
             23
            ],
            [
             "C/ VILLARROEL, 39",
             8011,
             32,
             17
            ],
            [
             "C/ TARRAGONA, 141",
             8014,
             21,
             29
            ],
            [
             "GRAN VIA DE LES CORTS CATALANES, 368",
             8010,
             21,
             24
            ],
            [
             "C/ TARRAGONA, 103-115",
             8014,
             33,
             28
            ],
            [
             "GRAN  VIA DE LES CORTS CATALANES, 375-385",
             8015,
             48,
             26
            ],
            [
             "C / PROVENÇA, 241",
             8008,
             18,
             37
            ],
            [
             "C/ COMTE D'URGELL, 43",
             8011,
             35,
             16
            ],
            [
             "C/ ROSSELLÓ, 108-110",
             8036,
             18,
             36
            ],
            [
             "C/ ROSSELLÓ,  101",
             8036,
             27,
             36
            ],
            [
             "C/ LONDRES, 101-103",
             8036,
             20,
             45
            ],
            [
             "C/ MALLORCA, 41-43",
             8029,
             25,
             29
            ],
            [
             "C/ VILADOMAT,  2",
             8015,
             27,
             12
            ],
            [
             "AV. PARAL·LEL, 146 BIS",
             8015,
             40,
             15
            ],
            [
             "C/ DEL COMTE D'URGELL, 75 B",
             8011,
             27,
             20
            ],
            [
             "C/ VIRIAT, 43",
             8014,
             21,
             31
            ],
            [
             "C/ COMTE BORRELL, 177",
             8015,
             24,
             25
            ],
            [
             "C/ VILAMARÍ,  61",
             8015,
             21,
             24
            ],
            [
             "C/ ENRIC  GRANADOS, 35",
             8007,
             21,
             31
            ],
            [
             "PL. UNIVERSITAT",
             8007,
             24,
             21
            ],
            [
             "PL. UNIVERSITAT /  ARIBAU",
             8011,
             27,
             21
            ],
            [
             "AV. FRANCESC CAMBÓ, 10",
             8003,
             24,
             8
            ],
            [
             "C/ CÒRSEGA, 216",
             8036,
             32,
             40
            ],
            [
             "AV. JOSEP TARRADELLAS, 58",
             8029,
             21,
             40
            ],
            [
             "AV. JOSEP TARRADELLAS, 133",
             8029,
             15,
             47
            ],
            [
             "C/ ENRIC GRANADOS, 93",
             8008,
             27,
             39
            ],
            [
             "C/ PROVENÇA, 215",
             8008,
             27,
             37
            ],
            [
             "C/ FLORIDABLANCA, 145",
             8011,
             21,
             16
            ],
            [
             "C/ COMTE URGELL, 23",
             8011,
             27,
             15
            ],
            [
             "CARRER DE LA MARINA,25-33",
             8005,
             43,
             7
            ],
            [
             "C/ ROCAFORT, 72-74",
             8015,
             40,
             20
            ],
            [
             "RAMBLA CATALUNYA, 133 /  CÒRSEGA",
             8008,
             27,
             44
            ],
            [
             "C/ VIRIAT,  53",
             8014,
             21,
             30
            ],
            [
             "CAT COMERÇ-AV. DIAGONAL, 602",
             8021,
             24,
             53
            ],
            [
             "C/ MANSO, 46",
             8015,
             34,
             13
            ],
            [
             "RAMBLA DE GUIPÚSCOA, 43/FLUVIÀ",
             8020,
             43,
             10
            ],
            [
             "C/ ARAGÓ, 659 /NAVAS DE TOLOSA",
             8026,
             27,
             16
            ],
            [
             "PG. DE COLOM /VIA LAIETANA",
             8002,
             23,
             4
            ],
            [
             "PG. MARíTIM, 31 B (ANNEXA A LA  12)",
             8003,
             21,
             7
            ],
            [
             "C/ NOVA  BOCANA",
             8039,
             31,
             3
            ],
            [
             "C/ GIRONA, 142",
             8037,
             21,
             34
            ],
            [
             "C/ NÀPOLS, 344",
             8025,
             21,
             54
            ],
            [
             "C/ CASTILLEJOS, 258",
             8013,
             21,
             28
            ],
            [
             "C/ LEPANT,  278",
             8013,
             21,
             28
            ],
            [
             "C/ SARDENYA,  178",
             8013,
             39,
             12
            ],
            [
             "C/ PUJADES,  3",
             8018,
             27,
             6
            ],
            [
             "C/ ROSA SENSAT, 12",
             8005,
             21,
             5
            ],
            [
             "C/ TARRAGONA,  159-173",
             8014,
             22,
             29
            ],
            [
             "C/ DEL DR. AIGUADER, 72 / PG. SALVAT PAPASSEIT",
             8003,
             27,
             5
            ],
            [
             "PL. JEAN GENET,  1",
             8001,
             20,
             5
            ],
            [
             "RONDA DE SANT PAU, 51",
             8015,
             34,
             11
            ],
            [
             "C/ FLORIDABLANCA, 49",
             8015,
             20,
             13
            ],
            [
             "C/ CALÀBRIA, 137",
             8015,
             27,
             21
            ],
            [
             "AV. ROMA,  136",
             8011,
             21,
             25
            ],
            [
             "C/ LONDRES,  53",
             8036,
             24,
             43
            ],
            [
             "C / INDÚSTRIA, 10",
             8037,
             21,
             45
            ],
            [
             "TRAV. DE GRÀCIA, 92 / VIA AUGUSTA",
             8006,
             20,
             56
            ],
            [
             "PL  JOANIC - C / BRUNIQUER, 59",
             8024,
             20,
             56
            ],
            [
             "PL. URQUINAONA, 9-10",
             8010,
             21,
             15
            ],
            [
             "C/ VALÈNCIA, 621",
             8026,
             26,
             16
            ],
            [
             "C/ ARAGÓ, 629",
             8026,
             21,
             16
            ],
            [
             "AV. DIAGONAL,  612",
             8021,
             24,
             54
            ],
            [
             "AV. MARQUÉS DE L'ARGENTERA,  3",
             8003,
             21,
             4
            ],
            [
             "RAMBLA DE GUIPÚSCOA, 103 /CANTÀBRIA",
             8020,
             24,
             8
            ],
            [
             "C/ ROCAFORT, 214 / ROSSELLÓ",
             8029,
             24,
             37
            ],
            [
             "PL. CATALUNYA, 7",
             8002,
             27,
             19
            ],
            [
             "C/ SARDENYA, 362",
             8025,
             23,
             46
            ],
            [
             "C/ PROVENÇA, 322",
             8037,
             21,
             38
            ],
            [
             "C/ DOS DE MAIG, 230-232",
             8013,
             18,
             22
            ],
            [
             "C/ BRUC, 102",
             8009,
             21,
             29
            ],
            [
             "C/ MARINA, 199",
             8013,
             30,
             23
            ],
            [
             "C/ BRUC, 45",
             8010,
             27,
             21
            ],
            [
             "C/ SARDENYA, 292",
             8013,
             19,
             28
            ],
            [
             "C/ SANT ANTONI MARIA CLARET, 214",
             8025,
             21,
             52
            ],
            [
             "C/ CARTAGENA, 308",
             8025,
             18,
             46
            ],
            [
             "C/ ROSSELLÓ, 354",
             8025,
             30,
             40
            ],
            [
             "C/ ROSSELLÓ, 453",
             8025,
             27,
             38
            ],
            [
             "AV. MERIDIANA, 47 (D)",
             8013,
             42,
             14
            ],
            [
             "C/ CONSELL DE CENT, 397",
             8009,
             27,
             25
            ],
            [
             "C/ PROVENÇA, 388-390",
             8025,
             23,
             34
            ],
            [
             "AV. MARQUÉS DE  L'ARGENTERA, 15",
             8003,
             27,
             5
            ],
            [
             "PG. MARITIM, 23 (HOSPITAL DEL MAR)",
             8003,
             26,
             7
            ],
            [
             "PG. MARITIM, 11 (DAVANT PL. BRUGADA)",
             8003,
             35,
             7
            ],
            [
             "C/ 60, NÚMERO 25",
             8040,
             43,
             4
            ],
            [
             "AV. MARQUÉS DE L'ARGENTERA,13",
             8003,
             27,
             5
            ],
            [
             "PG. PUJADES, 2",
             8003,
             27,
             6
            ],
            [
             "PG. PUJADES,  1 (JUTJATS)",
             8003,
             27,
             6
            ],
            [
             "PG. LLUIS COMPANYS, 18  (ARC TRIOMF)",
             8018,
             39,
             10
            ],
            [
             "PG. LLUIS COMPANYS, 11 (ARC TRIOMF)",
             8018,
             39,
             7
            ],
            [
             "CAT COMERÇ-C/ RIBES, 13",
             8013,
             21,
             8
            ],
            [
             "C/ NÀPOLS, 82",
             8013,
             27,
             11
            ],
            [
             "C/ ROGER DE FLOR, 126",
             8013,
             29,
             17
            ],
            [
             "GRAN VIA CORTS CATALANES, 760",
             8013,
             46,
             16
            ],
            [
             "C/ ROCAFORT, 94",
             8015,
             26,
             21
            ],
            [
             "CARRER DE LA MARINA, 25-33",
             8005,
             54,
             7
            ],
            [
             "PL. CATALUNYA, 10-11 (RAMBLA)",
             8002,
             21,
             21
            ],
            [
             "AV. DIAGONAL, 231 AMB PADILLA",
             8013,
             29,
             13
            ],
            [
             "LA BARCELONETA (CN BARCELONETA)",
             8003,
             15,
             4
            ],
            [
             "PL. CATALUNYA, 5",
             8002,
             25,
             19
            ],
            [
             "C/ PAU CLARIS, 120",
             8009,
             20,
             26
            ],
            [
             "RAMBLA CATALUNYA, 47",
             8007,
             27,
             27
            ],
            [
             "PLAÇA DELS ÀNGELS (MACBA)",
             8001,
             43,
             11
            ],
            [
             "RAMBLA, 2",
             8002,
             25,
             4
            ],
            [
             "PORTAL DE SANTA MADRONA, 2-4",
             8001,
             27,
             5
            ],
            [
             "LA RAMBLA, 80",
             8002,
             19,
             8
            ],
            [
             "C/ SANT OLEGUER, 2",
             8001,
             19,
             6
            ],
            [
             "PL. CARLES PI I SUNYER",
             8002,
             21,
             10
            ],
            [
             "PL. SANT MIQUEL, 4",
             8002,
             32,
             11
            ],
            [
             "PL. VICENÇ MARTORELL",
             8001,
             20,
             12
            ],
            [
             "AV. PARAL.LEL, 54",
             8004,
             18,
             8
            ],
            [
             "C/ ROSA SENSAT, 20",
             8005,
             21,
             5
            ],
            [
             "PL. DEL MAR",
             8003,
             18,
             4
            ],
            [
             "AV. MERIDIANA, 40",
             8018,
             20,
             11
            ],
            [
             "C/ RAMON TRIAS FARGAS, 19 (D)",
             8005,
             54,
             7
            ],
            [
             "C/ SARDENYA, 66",
             8005,
             27,
             5
            ],
            [
             "AV. MERIDIANA, 66 ( COSTAT METRO GLORIES)",
             8018,
             21,
             16
            ],
            [
             "C/ CLOT, 1",
             8018,
             27,
             13
            ],
            [
             "C/ CIUTAT DE GRANADA, 168 / AV. DIAGONAL",
             8018,
             24,
             4
            ],
            [
             "PL. POETA BOSCÀ/ATLÀNTIDA",
             8003,
             25,
             5
            ],
            [
             "C/ DOCTOR AIGUADER, 2",
             8039,
             18,
             6
            ],
            [
             "PL. PAU VILA (D)",
             8039,
             43,
             4
            ],
            [
             "PL. ANTONIO LÓPEZ (CORREUS, VIA LAIETANA)",
             8002,
             24,
             4
            ],
            [
             "AV. DE LA CATEDRAL, 6",
             8002,
             21,
             8
            ],
            [
             "C/ SANT RAMON DE PENYAFORT, 1",
             8930,
             43,
             5
            ],
            [
             "C/ SANT PERE MÉS ALT, 4",
             8003,
             21,
             9
            ],
            [
             "C/ PONTEVEDRA / JUDICI",
             8003,
             21,
             4
            ],
            [
             "C/ RAMON TRIAS FARGAS, 21",
             8005,
             46,
             5
            ],
            [
             "RAMBLA  DE GUIPÚSCOA, 158/ CA N'OLIVA",
             8020,
             27,
             11
            ],
            [
             "PL. CATALUNYA, 10-11 (PG. DE GRACIA)",
             8002,
             21,
             20
            ],
            [
             "GRAN VIA DE LES CORTS CATALANES, 902",
             8018,
             16,
             6
            ],
            [
             "PL. DEL NORD, 5",
             8024,
             21,
             73
            ],
            [
             "C/ DEL TORRENT DE LES FLORS, 102",
             8024,
             18,
             69
            ],
            [
             "C/ MONTMANY, 1",
             8012,
             27,
             52
            ],
            [
             "C/ MALLORCA, 84",
             8029,
             24,
             28
            ],
            [
             "C / GIRONA, 176",
             8037,
             26,
             40
            ],
            [
             "C/ DE BONAVISTA, 14",
             8012,
             36,
             48
            ],
            [
             "C/ DEL CANÓ, 1",
             8012,
             27,
             58
            ],
            [
             "GRAN DE GRÀCIA, 155 (METRO FONTANA)",
             8012,
             24,
             68
            ],
            [
             "C/ TUSET, 19",
             8006,
             27,
             53
            ],
            [
             "C/ LAFORJA, 74-76",
             8021,
             26,
             67
            ],
            [
             "C/ CONSELL DE CENT, 566",
             8013,
             39,
             17
            ],
            [
             "C/ RECTOR UBACH, 24",
             8021,
             27,
             75
            ],
            [
             "C/ MADRAZO, 131",
             8021,
             27,
             63
            ],
            [
             "C/ DE LA SANTACREU, 2 (PL.DE LA VIRREINA)",
             8024,
             28,
             68
            ],
            [
             "C/ GANDUXER, 29",
             8021,
             21,
             65
            ],
            [
             "C/ SANTA FE DE NOU MÈXIC, 2",
             8017,
             33,
             70
            ],
            [
             "AV. SARRIÀ, 163",
             8017,
             24,
             75
            ],
            [
             "C/ SANCHO DE ÁVILA, 60-64",
             8018,
             16,
             5
            ],
            [
             "C/ VILARDELL, 18",
             8014,
             31,
             22
            ],
            [
             "C/ DIPUTACIÓ, 200",
             8011,
             26,
             23
            ],
            [
             "AV. DIAGONAL, 630",
             8017,
             33,
             59
            ],
            [
             "AV. DIAGONAL, 634",
             8017,
             25,
             62
            ],
            [
             "AV. DIAGONAL, 650",
             8017,
             33,
             62
            ],
            [
             "C/ EUROPA, 25",
             8028,
             33,
             57
            ],
            [
             "AV. DIAGONAL, 664",
             8034,
             33,
             63
            ],
            [
             "AV. DIAGONAL, 668",
             8034,
             33,
             64
            ],
            [
             "C/ DE LES CORTS, 20",
             8028,
             27,
             52
            ],
            [
             "C/ NUMÀNCIA, 136",
             8029,
             24,
             55
            ],
            [
             "C/ JOSÉ DE  AGULLÓ, 9",
             8017,
             25,
             72
            ],
            [
             "C/ JOAN GUELL, 174",
             8028,
             24,
             47
            ],
            [
             "C/ DE NIL FABRA, 16-20",
             8012,
             25,
             80
            ],
            [
             "C/ VILÀ I VILÀ, 45",
             8004,
             27,
             7
            ],
            [
             "PL.VALENTÍ ALMIRALL",
             8018,
             27,
             6
            ],
            [
             "C/ DE BARTRINA, 14",
             8030,
             24,
             34
            ],
            [
             "C/ FERNANDO PESSOA, 41",
             8030,
             27,
             23
            ],
            [
             "C/ SANT ADRIÀ, 2-8",
             8030,
             24,
             27
            ],
            [
             "C/ MALATS, 28-30",
             8030,
             32,
             25
            ],
            [
             "C/ IRLANDA, 11-21",
             8030,
             18,
             30
            ],
            [
             "RAMBLA DE L'ONZE DE SETEMBRE, 69",
             8030,
             25,
             26
            ],
            [
             "C/ ONZE DE SETEMBRE, 37-39",
             8030,
             27,
             25
            ],
            [
             "RAMBLA DE L'ONZE DE SETEMBRE, 31",
             8030,
             33,
             24
            ],
            [
             "C/ CARDENAL TEDESCHINI, 13",
             8027,
             33,
             35
            ],
            [
             "C/ PORTUGAL, 3",
             8027,
             27,
             25
            ],
            [
             "C/ ANTILLES, 8",
             8027,
             27,
             21
            ],
            [
             "C/ PALÈNCIA, 31",
             8027,
             27,
             18
            ],
            [
             "C/ PI I MARGALL, 38",
             8025,
             24,
             65
            ],
            [
             "C/ FELIPE II, 112",
             8027,
             32,
             32
            ],
            [
             "LA RAMBLA, 101",
             8002,
             27,
             10
            ],
            [
             "C/ FELIP II, 214",
             8027,
             27,
             44
            ],
            [
             "C/ ALEXANDRE GALÍ, 1-5",
             8027,
             27,
             42
            ],
            [
             "C/ RAMON ALBÓ, 1",
             8027,
             27,
             56
            ],
            [
             "C/ TEODOR LLORENTE, 1",
             8041,
             33,
             44
            ],
            [
             "C/ JOSEP ESTIVILL, 32",
             8027,
             27,
             23
            ],
            [
             "C/ INDÚSTRIA, 329",
             8027,
             27,
             31
            ],
            [
             "C/ ESPRONCEDA, 298",
             8027,
             27,
             16
            ],
            [
             "C/ RIUS I TAULET, 4",
             8004,
             27,
             33
            ],
            [
             "AV. PARAL.LEL, 194",
             8015,
             26,
             24
            ],
            [
             "AV. PARAL.LEL, 98",
             8015,
             31,
             10
            ],
            [
             "PG. DE L´EXPOSICIÓ, 30 /BLASCO GARAY",
             8004,
             27,
             31
            ],
            [
             "C/ NOU DE LA RAMBLA, 164",
             8004,
             27,
             21
            ],
            [
             "C/ GARCILASO, 77",
             8027,
             18,
             30
            ],
            [
             "C/ MEJÍA LEQUERICA, 2",
             8028,
             27,
             47
            ],
            [
             "CARRER DEL CINCA, 7",
             8030,
             27,
             22
            ],
            [
             "C/ VALLESPIR, 194",
             8014,
             27,
             48
            ],
            [
             "C/ RAMON TURRÓ, 91",
             8005,
             27,
             4
            ],
            [
             "AV. D'EDUARD MARISTANY, 1 /FORUM",
             8019,
             33,
             4
            ],
            [
             "AV. DIAGONAL, 26",
             8019,
             32,
             4
            ],
            [
             "RAMBLA DE PRIM, 19",
             8019,
             27,
             4
            ],
            [
             "C/ LLULL, 465",
             8019,
             33,
             4
            ],
            [
             "C/ SELVA DE MAR, 46",
             8019,
             27,
             4
            ],
            [
             "C/ PUJADES, 311/ FLUVIÀ",
             8019,
             32,
             4
            ],
            [
             "C/ PUJADES, 191",
             8005,
             32,
             2
            ],
            [
             "CAT COMERÇ-C/ PUJADES, 173/RBLA POBLE NOU",
             8005,
             23,
             3
            ],
            [
             "C/ PUJADES, 121",
             8005,
             27,
             3
            ],
            [
             "C/ PALLARS, 182",
             8005,
             27,
             3
            ],
            [
             "C/ ESPRONCEDA, 124",
             8005,
             27,
             4
            ],
            [
             "C/ PUJADES, 57B",
             8019,
             27,
             4
            ],
            [
             "C/ RAMON TURRÓ, 292",
             8005,
             27,
             3
            ],
            [
             "RONDA SANT PAU, 79",
             8015,
             27,
             12
            ],
            [
             "C/ PERE IV, 488",
             8019,
             24,
             4
            ],
            [
             "C/ PERE IV,  301 / FLUVIÀ",
             8020,
             27,
             4
            ],
            [
             "C/ CASTELLA,  28 / DIAGONAL",
             8018,
             27,
             4
            ],
            [
             "C/ SANCHO DE ÁVILA, 170 / LLACUNA",
             8018,
             27,
             4
            ],
            [
             "C/ SANCHO DE ÁVILA,  104 - C/ BADAJOZ",
             8018,
             32,
             4
            ],
            [
             "C/ BILBAO, 174",
             8018,
             32,
             7
            ],
            [
             "C/ VILADOMAT, 122",
             8015,
             27,
             19
            ],
            [
             "GRAN VIA DE LES CORTS CATALANES,  1131",
             8020,
             35,
             7
            ],
            [
             "GRAN VIA DE LES CORTS CATALANES, 1118",
             8020,
             21,
             7
            ],
            [
             "GRAN VIA DE LES CORTS CATALANES, 1041",
             8020,
             25,
             7
            ],
            [
             "GRAN VIA DE LES CORTS CATALANES,  1062",
             8020,
             31,
             8
            ],
            [
             "GRAN VIA DE LES CORTS CATALANES,  981",
             8018,
             21,
             8
            ],
            [
             "C/ BAC DE RODA, 157",
             8018,
             21,
             6
            ],
            [
             "RAMBLA PRIM, 79",
             8019,
             33,
             5
            ],
            [
             "C/ INDEPENDÈNCIA, 379",
             8026,
             27,
             46
            ],
            [
             "AV. ICÀRIA, 202",
             8005,
             27,
             3
            ],
            [
             "C/ QUETZAL, 22-24",
             8014,
             27,
             22
            ],
            [
             "C/ VALLESPIR, 130",
             8014,
             27,
             38
            ],
            [
             "C/ JOAN GÜELL, 98",
             8028,
             24,
             38
            ],
            [
             "C/ FÍGOLS, 1",
             8028,
             27,
             41
            ],
            [
             "C/ JOAN GÜELL, 50",
             8028,
             21,
             33
            ],
            [
             "C/ ROCAFORT, 152",
             8015,
             28,
             15
            ],
            [
             "AV. LITORAL, 72",
             8005,
             29,
             6
            ],
            [
             "C/ BRUC, 130",
             8037,
             28,
             34
            ],
            [
             "PG. SANT ANTONI /PL. SANTS",
             8014,
             27,
             30
            ],
            [
             "C/ DE SANT PAU, 89 - 97",
             8001,
             19,
             5
            ],
            [
             "C/CONSELL DE CENT, 6",
             8014,
             26,
             27
            ],
            [
             "C/GAVÀ, 81",
             8014,
             17,
             20
            ],
            [
             "C/ DEL DOCTOR TRUETA, 222",
             8005,
             27,
             3
            ],
            [
             "C/ GAVÀ, 1",
             8014,
             31,
             18
            ],
            [
             "GRAN VIA DE LES CORTS CATALANES, 273",
             8014,
             33,
             18
            ],
            [
             "GRAN VIA DE LES CORTS CATALANES, 179 (D)",
             8014,
             51,
             14
            ],
            [
             "PG. ZONA FRANCA, 244",
             8038,
             16,
             9
            ],
            [
             "PG. DE GARCIA FÀRIA, 85",
             8019,
             27,
             7
            ],
            [
             "C/ ROSSELLÓ, 557",
             8026,
             34,
             33
            ],
            [
             "PG. DE GARCIA FÀRIA, 37/JOSEP FERRATER",
             8019,
             31,
             6
            ],
            [
             "C/ LLULL, 309",
             8019,
             27,
             4
            ],
            [
             "PG. DE GARCIA FÀRIA, 21/ESPRONCEDA",
             8005,
             27,
             6
            ],
            [
             "AV.LITORAL, 84",
             8005,
             27,
             8
            ],
            [
             "PG. MARÍTIM NOVA ICÀRIA, 83 (D)",
             8005,
             53,
             5
            ],
            [
             "AV. LITORAL, 40 (D)",
             8005,
             54,
             6
            ],
            [
             "SELVA DE MAR / PG. DEL TAULAT",
             8019,
             27,
             5
            ],
            [
             "C/ BAC DE RODA, 11",
             8005,
             21,
             3
            ],
            [
             "C/ BILBAO, 2",
             8005,
             27,
             3
            ],
            [
             "C/ BERLÍN, 38",
             8029,
             27,
             38
            ],
            [
             "C/ GELABERT, 1",
             8029,
             27,
             47
            ]
           ],
           "hovertemplate": "<b>%{hovertext}</b><br><br>year=2021<br>lat=%{lat}<br>lon=%{lon}<br>address=%{customdata[0]}<br>post_code=%{customdata[1]}<br>capacity=%{marker.color}<br>altitude=%{customdata[3]}<extra></extra>",
           "hovertext": [
            520,
            66,
            329,
            356,
            355,
            354,
            353,
            352,
            351,
            350,
            349,
            348,
            347,
            346,
            345,
            344,
            343,
            342,
            341,
            340,
            339,
            338,
            337,
            336,
            335,
            334,
            333,
            332,
            331,
            330,
            357,
            389,
            388,
            359,
            387,
            386,
            385,
            384,
            383,
            382,
            381,
            380,
            379,
            378,
            377,
            376,
            375,
            358,
            374,
            372,
            371,
            370,
            369,
            368,
            367,
            366,
            365,
            364,
            363,
            362,
            361,
            360,
            373,
            328,
            297,
            326,
            292,
            291,
            290,
            289,
            288,
            287,
            286,
            285,
            284,
            283,
            282,
            281,
            280,
            279,
            278,
            277,
            276,
            275,
            274,
            273,
            272,
            271,
            270,
            269,
            268,
            267,
            266,
            293,
            294,
            295,
            296,
            325,
            324,
            323,
            322,
            321,
            320,
            319,
            318,
            317,
            316,
            315,
            314,
            313,
            327,
            312,
            310,
            309,
            308,
            307,
            306,
            305,
            304,
            303,
            302,
            301,
            300,
            299,
            298,
            311,
            390,
            518,
            392,
            487,
            486,
            485,
            484,
            483,
            482,
            481,
            480,
            479,
            478,
            477,
            476,
            475,
            488,
            474,
            472,
            471,
            470,
            469,
            468,
            467,
            466,
            465,
            464,
            463,
            462,
            461,
            460,
            473,
            459,
            489,
            491,
            519,
            264,
            517,
            516,
            515,
            514,
            513,
            512,
            511,
            510,
            509,
            508,
            507,
            490,
            506,
            504,
            503,
            502,
            501,
            500,
            499,
            498,
            497,
            496,
            495,
            494,
            493,
            492,
            505,
            391,
            458,
            456,
            421,
            420,
            419,
            418,
            417,
            416,
            415,
            414,
            413,
            412,
            411,
            410,
            409,
            422,
            408,
            405,
            404,
            403,
            402,
            401,
            400,
            399,
            398,
            397,
            396,
            395,
            394,
            393,
            406,
            457,
            423,
            425,
            455,
            454,
            452,
            451,
            450,
            449,
            448,
            447,
            446,
            445,
            444,
            443,
            442,
            424,
            441,
            439,
            438,
            437,
            436,
            435,
            434,
            433,
            432,
            430,
            429,
            428,
            427,
            426,
            440,
            263,
            265,
            261,
            97,
            96,
            95,
            94,
            92,
            91,
            90,
            89,
            88,
            87,
            86,
            85,
            84,
            98,
            83,
            81,
            80,
            79,
            78,
            77,
            76,
            75,
            74,
            73,
            72,
            71,
            70,
            69,
            82,
            68,
            99,
            101,
            129,
            128,
            127,
            126,
            125,
            124,
            123,
            122,
            121,
            120,
            119,
            118,
            117,
            100,
            116,
            114,
            113,
            112,
            111,
            110,
            109,
            108,
            107,
            106,
            105,
            104,
            103,
            102,
            115,
            130,
            67,
            63,
            28,
            27,
            26,
            25,
            24,
            23,
            22,
            21,
            20,
            19,
            18,
            17,
            15,
            29,
            14,
            12,
            11,
            10,
            9,
            8,
            7,
            6,
            5,
            4,
            3,
            2,
            1,
            262,
            13,
            64,
            30,
            32,
            62,
            61,
            60,
            58,
            57,
            56,
            55,
            54,
            53,
            52,
            51,
            50,
            49,
            31,
            48,
            46,
            45,
            44,
            43,
            42,
            41,
            40,
            39,
            37,
            36,
            35,
            34,
            33,
            47,
            131,
            65,
            133,
            228,
            227,
            226,
            225,
            224,
            223,
            222,
            221,
            220,
            219,
            218,
            217,
            216,
            229,
            215,
            213,
            212,
            211,
            210,
            209,
            208,
            207,
            206,
            205,
            204,
            203,
            202,
            201,
            214,
            200,
            230,
            232,
            132,
            259,
            258,
            257,
            256,
            255,
            254,
            253,
            252,
            251,
            250,
            249,
            248,
            231,
            247,
            245,
            244,
            243,
            242,
            241,
            240,
            239,
            238,
            237,
            236,
            235,
            234,
            233,
            246,
            199,
            260,
            198,
            161,
            160,
            159,
            158,
            157,
            156,
            155,
            154,
            153,
            152,
            151,
            150,
            149,
            162,
            148,
            146,
            145,
            144,
            143,
            142,
            141,
            140,
            139,
            138,
            137,
            136,
            135,
            134,
            147,
            164,
            163,
            184,
            195,
            194,
            193,
            192,
            191,
            190,
            189,
            188,
            187,
            186,
            185,
            165,
            183,
            182,
            180,
            179,
            178,
            177,
            176,
            175,
            174,
            173,
            171,
            170,
            168,
            167,
            166,
            196,
            197
           ],
           "lat": [
            41.3476951,
            41.3893222,
            41.4029965,
            41.4134503,
            41.371459,
            41.3759419,
            41.37541,
            41.363279,
            41.3621232,
            41.392052,
            41.3573288,
            41.357067,
            41.3595484,
            41.3608475,
            41.3631066,
            41.4431441,
            41.4389609,
            41.4034967,
            41.4339212,
            41.4361782,
            41.4017084,
            41.3977227,
            41.3986238,
            41.3953855,
            41.3935355,
            41.4006765,
            41.3954723,
            41.3998981,
            41.3970497,
            41.401883,
            41.4105956,
            41.3873901,
            41.3806411,
            41.3900544,
            41.3957813,
            41.3751866,
            41.387888,
            41.3807072,
            41.381219,
            41.4038902,
            41.3816139,
            41.3854094,
            41.3829333,
            41.3785379,
            41.3776292,
            41.3718728,
            41.3720293,
            41.3872437,
            41.3949729,
            41.4001015,
            41.4040525,
            41.4039698,
            41.40013,
            41.3968391,
            41.384972,
            41.3813118,
            41.3875712,
            41.393062,
            41.3908381,
            41.396994,
            41.376433,
            41.3952527,
            41.3750995,
            41.402988,
            41.4388223,
            41.4074131,
            41.4300161,
            41.426078,
            41.4373376,
            41.4166982,
            41.4296439,
            41.3890626,
            41.4030225,
            41.4366708,
            41.389462,
            41.4297231,
            41.4275514,
            41.4180789,
            41.4138664,
            41.4158995,
            41.4098842,
            41.4082107,
            41.4121345,
            41.43068,
            41.4299201,
            41.4304126,
            41.4325013,
            41.4506081,
            41.4486328,
            41.4482569,
            41.4457195,
            41.4433647,
            41.4268952,
            41.4283127,
            41.4363473,
            41.433384,
            41.4364887,
            41.3949601,
            41.3969455,
            41.3981616,
            41.4009,
            41.4031529,
            41.401136,
            41.3937414,
            41.4133076,
            41.4256626,
            41.4224015,
            41.4156285,
            41.3783067,
            41.3754188,
            41.4050074,
            41.3789061,
            41.3812111,
            41.3770199,
            41.37684,
            41.3791986,
            41.3853868,
            41.3875297,
            41.39038,
            41.3934324,
            41.3906352,
            41.4366871,
            41.4315843,
            41.4340849,
            41.4347233,
            41.3785631,
            41.3869612,
            41.4246885,
            41.3905303,
            41.4267638,
            41.4306102,
            41.4374904,
            41.4345997,
            41.4295137,
            41.4372022,
            41.4357978,
            41.4333259,
            41.430623,
            41.4276076,
            41.4260751,
            41.422037,
            41.4216738,
            41.4347859,
            41.4418604,
            41.4427374,
            41.4389014,
            41.4432762,
            41.4417001,
            41.4480464,
            41.4450463,
            41.443387,
            41.3954094,
            41.439692,
            41.4490679,
            41.446923,
            41.442489,
            41.4513863,
            41.4388644,
            41.4479402,
            41.4312335,
            41.4306689,
            41.4246548,
            41.439929,
            41.462095,
            41.4354601,
            41.4352071,
            41.4095069,
            41.399017,
            41.4000778,
            41.4006862,
            41.3989151,
            41.3989713,
            41.4090922,
            41.4107641,
            41.4280668,
            41.4191957,
            41.4092333,
            41.4095926,
            41.4074444,
            41.4052698,
            41.4119568,
            41.4160558,
            41.4144967,
            41.4095489,
            41.4048623,
            41.377846,
            41.3896967,
            41.419965,
            41.3943454,
            41.4145614,
            41.4230551,
            41.4457962,
            41.4143392,
            41.378118,
            41.3743329,
            41.391313,
            41.391062,
            41.4164824,
            41.3781065,
            41.3793558,
            41.3937234,
            41.393489,
            41.3893094,
            41.411381,
            41.376433,
            41.392384,
            41.3881175,
            41.3889972,
            41.3854003,
            41.3653426,
            41.3796421,
            41.380628,
            41.381275,
            41.3694508,
            41.3734706,
            41.380955,
            41.3889129,
            41.3890253,
            41.3860607,
            41.3873057,
            41.4022657,
            41.3863747,
            41.4383117,
            41.4202459,
            41.3765618,
            41.4105848,
            41.4072349,
            41.4194972,
            41.4140598,
            41.410712,
            41.4058109,
            41.3972809,
            41.3943033,
            41.3779974,
            41.3755016,
            41.3717304,
            41.3887127,
            41.3649272,
            41.3795862,
            41.3754426,
            41.3685394,
            41.3981669,
            41.3513237,
            41.3545425,
            41.383585,
            41.3767538,
            41.3862258,
            41.3847061,
            41.385641,
            41.3881262,
            41.3983902,
            41.3754047,
            41.39828,
            41.417694,
            41.4378773,
            41.3854735,
            41.3821314,
            41.3779613,
            41.3741093,
            41.3763948,
            41.3757914,
            41.3938861,
            41.3812504,
            41.388296,
            41.3879131,
            41.3936144,
            41.3834802,
            41.3755747,
            41.3751852,
            41.3830299,
            41.3806074,
            41.3841132,
            41.3790718,
            41.389668,
            41.385503,
            41.3856474,
            41.3855644,
            41.3917666,
            41.385004,
            41.3900085,
            41.392135,
            41.3927771,
            41.3819459,
            41.380393,
            41.3881248,
            41.3790693,
            41.3953894,
            41.3808222,
            41.392878,
            41.377046,
            41.4158412,
            41.4120681,
            41.380628,
            41.3833653,
            41.3702483,
            41.3980195,
            41.4054458,
            41.4064529,
            41.4047056,
            41.3967169,
            41.39212,
            41.3906051,
            41.3787064,
            41.3838369,
            41.376735,
            41.3773113,
            41.3776721,
            41.3811829,
            41.3852585,
            41.3912605,
            41.4022081,
            41.3982304,
            41.4055198,
            41.3888694,
            41.4108005,
            41.410098,
            41.392567,
            41.383597,
            41.4200135,
            41.3852864,
            41.386543,
            41.4055143,
            41.3967524,
            41.4071692,
            41.3954041,
            41.4005784,
            41.3924661,
            41.4016969,
            41.4108439,
            41.410314,
            41.4031491,
            41.4060589,
            41.3982615,
            41.3949085,
            41.401061,
            41.384844,
            41.3833653,
            41.3812425,
            41.3467746,
            41.384546,
            41.389135,
            41.388885,
            41.3914292,
            41.3911035,
            41.3933173,
            41.3941557,
            41.3954877,
            41.3979779,
            41.379981,
            41.3881248,
            41.387493,
            41.4021805,
            41.3736911,
            41.387235,
            41.3923875,
            41.3902625,
            41.38268,
            41.3768761,
            41.3770715,
            41.3814279,
            41.3775319,
            41.385086,
            41.381708,
            41.3842634,
            41.3751145,
            41.3910756,
            41.3748001,
            41.3960652,
            41.3885744,
            41.3913036,
            41.4018969,
            41.4063864,
            41.404511,
            41.379326,
            41.382335,
            41.381046,
            41.381275,
            41.3850616,
            41.4134833,
            41.3871079,
            41.37686,
            41.3902194,
            41.4227912,
            41.387696,
            41.4075013,
            41.4068417,
            41.4078456,
            41.4035608,
            41.3850278,
            41.3999967,
            41.3983444,
            41.4013296,
            41.4025392,
            41.3960982,
            41.3976165,
            41.4040364,
            41.3985735,
            41.3967824,
            41.4050968,
            41.3939378,
            41.3935816,
            41.3922355,
            41.3987543,
            41.3745238,
            41.3857425,
            41.3915195,
            41.3908477,
            41.3897943,
            41.387561,
            41.3880355,
            41.3887069,
            41.3854466,
            41.3878061,
            41.3952027,
            41.3839045,
            41.4059356,
            41.3733857,
            41.4084796,
            41.4391174,
            41.4420913,
            41.433934,
            41.4361251,
            41.4314061,
            41.4299999,
            41.4298614,
            41.4298991,
            41.4253643,
            41.4258248,
            41.4250835,
            41.4182129,
            41.4072092,
            41.4219291,
            41.3826647,
            41.426925,
            41.4239719,
            41.4244527,
            41.419178,
            41.4175595,
            41.4172922,
            41.4158807,
            41.3727426,
            41.3751161,
            41.3751767,
            41.3714688,
            41.3719688,
            41.4228449,
            41.3819739,
            41.4356895,
            41.3847113,
            41.3953011,
            41.4109763,
            41.4110822,
            41.4116634,
            41.4132316,
            41.4091355,
            41.4070139,
            41.4026275,
            41.4018686,
            41.3993329,
            41.4003471,
            41.4065912,
            41.3958685,
            41.4038559,
            41.3783467,
            41.4148983,
            41.4093405,
            41.4056269,
            41.4027907,
            41.4003793,
            41.4090202,
            41.3808772,
            41.4183999,
            41.4167933,
            41.4145805,
            41.4139298,
            41.4120452,
            41.4113024,
            41.416043,
            41.4118378,
            41.3942108,
            41.3675438,
            41.3821371,
            41.3812001,
            41.3812979,
            41.3786364,
            41.3824848,
            41.3961412,
            41.3969839,
            41.3756948,
            41.3768806,
            41.3755503,
            41.3703717,
            41.3992169,
            41.3723682,
            41.3714775,
            41.3675574,
            41.36352,
            41.4053649,
            41.4110754,
            41.4023621,
            41.4065291,
            41.4008744,
            41.3979002,
            41.3919877,
            41.3896642,
            41.4053697,
            41.4023354,
            41.4008312,
            41.3832609,
            41.3871579
           ],
           "legendgroup": "",
           "lon": [
            2.11948,
            2.1678388,
            2.1283866,
            2.1631012,
            2.127854,
            2.1299539,
            2.1232547,
            2.1341586,
            2.1356187,
            2.1480223,
            2.1371996,
            2.141563,
            2.1417765,
            2.1392335,
            2.1398322,
            2.1996045,
            2.1996179,
            2.1936584,
            2.2062245,
            2.2047037,
            2.2053803,
            2.1194557,
            2.1204941,
            2.1210928,
            2.1231228,
            2.1232926,
            2.1250451,
            2.1281922,
            2.1279409,
            2.131524,
            2.1579897,
            2.1875446,
            2.1671611,
            2.1775594,
            2.1787074,
            2.1568773,
            2.1552902,
            2.1468381,
            2.141767,
            2.2041137,
            2.1677697,
            2.1740155,
            2.1420704,
            2.1767427,
            2.1836886,
            2.180302,
            2.1804468,
            2.1793035,
            2.1612814,
            2.1841711,
            2.181199,
            2.1729061,
            2.1780175,
            2.1756598,
            2.1376205,
            2.1729725,
            2.1469336,
            2.1633226,
            2.1743743,
            2.1706323,
            2.17871,
            2.1730023,
            2.1613897,
            2.1344691,
            2.1767828,
            2.1381069,
            2.1720191,
            2.1751572,
            2.1740962,
            2.1909952,
            2.174444,
            2.1679313,
            2.1913538,
            2.186105,
            2.1314948,
            2.1617032,
            2.1659881,
            2.1763994,
            2.1777274,
            2.1745567,
            2.1715285,
            2.1689962,
            2.1652216,
            2.1821802,
            2.1849813,
            2.1834174,
            2.1842021,
            2.1923629,
            2.1898372,
            2.1918401,
            2.1929816,
            2.1906302,
            2.1842572,
            2.1629889,
            2.1706752,
            2.1716309,
            2.1841014,
            2.1302775,
            2.136346,
            2.1386719,
            2.13892,
            2.1445843,
            2.1479824,
            2.1455022,
            2.1712937,
            2.2008632,
            2.198071,
            2.1817876,
            2.1297303,
            2.1297823,
            2.134603,
            2.1233038,
            2.1190863,
            2.1169828,
            2.114029,
            2.1135824,
            2.122893,
            2.1237141,
            2.121,
            2.115107,
            2.111541,
            2.1693134,
            2.1769107,
            2.1748267,
            2.1817718,
            2.1202487,
            2.1820169,
            2.1570492,
            2.1906339,
            2.1521909,
            2.1564551,
            2.1565742,
            2.1585268,
            2.1589493,
            2.1620235,
            2.163872,
            2.1629258,
            2.1671068,
            2.1697582,
            2.1722534,
            2.174401,
            2.1799878,
            2.147904,
            2.1664224,
            2.170393,
            2.1715576,
            2.1746238,
            2.1781553,
            2.1775154,
            2.176726,
            2.1813051,
            2.1599427,
            2.182335,
            2.1833801,
            2.184857,
            2.185727,
            2.1894717,
            2.1657506,
            2.1976757,
            2.1499103,
            2.1456449,
            2.166289,
            2.1970692,
            2.178959,
            2.2001569,
            2.1948002,
            2.1885055,
            2.124329,
            2.1326911,
            2.1543317,
            2.1564253,
            2.1606736,
            2.1656378,
            2.1640965,
            2.1443777,
            2.1718497,
            2.1557747,
            2.1524953,
            2.1492066,
            2.1420204,
            2.1447518,
            2.1421504,
            2.1402433,
            2.1360313,
            2.174799,
            2.150523,
            2.1652199,
            2.1401823,
            2.1751709,
            2.1658677,
            2.1913753,
            2.2010422,
            2.1874539,
            2.1378667,
            2.1479385,
            2.1808391,
            2.1801142,
            2.1801094,
            2.1696744,
            2.1689592,
            2.1764275,
            2.1707419,
            2.1727457,
            2.2122054,
            2.17871,
            2.1925059,
            2.1154135,
            2.1923283,
            2.1521802,
            2.1331357,
            2.1368202,
            2.1821916,
            2.1818962,
            2.1879597,
            2.1332694,
            2.1934636,
            2.1993105,
            2.1968267,
            2.1702467,
            2.1631263,
            2.1976297,
            2.1646697,
            2.2039823,
            2.1894852,
            2.1748621,
            2.1826833,
            2.1684799,
            2.20934,
            2.2150487,
            2.2061691,
            2.1949461,
            2.1997869,
            2.1860256,
            2.1884228,
            2.154004,
            2.1554047,
            2.1542277,
            2.138599,
            2.1925198,
            2.1398409,
            2.1328403,
            2.1754896,
            2.1450958,
            2.1433038,
            2.112186,
            2.1269152,
            2.1168609,
            2.1170751,
            2.113096,
            2.1091535,
            2.1960799,
            2.1680021,
            2.1830315,
            2.1976864,
            2.1910691,
            2.1586183,
            2.1606534,
            2.1450491,
            2.1481993,
            2.1473272,
            2.1499102,
            2.1601641,
            2.1594741,
            2.150878,
            2.150342,
            2.1507739,
            2.1482099,
            2.1629349,
            2.1592394,
            2.1571646,
            2.1408633,
            2.1536821,
            2.1490553,
            2.1599078,
            2.1634768,
            2.1634306,
            2.1773214,
            2.1532163,
            2.1429115,
            2.1432105,
            2.1563542,
            2.1586273,
            2.1629146,
            2.1606506,
            2.1951871,
            2.1537635,
            2.1572953,
            2.141539,
            2.143411,
            2.16113608,
            2.1959771,
            2.1907524,
            2.1821916,
            2.1946255,
            2.1878126,
            2.1671018,
            2.1663172,
            2.1785364,
            2.1765126,
            2.1825085,
            2.1874966,
            2.1972309,
            2.1443579,
            2.1914756,
            2.1740082,
            2.1646742,
            2.157233,
            2.1528769,
            2.155089,
            2.1476308,
            2.1649035,
            2.1531031,
            2.1622548,
            2.1735975,
            2.1872438,
            2.1884487,
            2.1422174,
            2.184171,
            2.2016699,
            2.1454802,
            2.169427,
            2.1706498,
            2.1646338,
            2.1820722,
            2.1681961,
            2.1788855,
            2.1717397,
            2.175767,
            2.1740575,
            2.1757334,
            2.1707947,
            2.1740472,
            2.1866517,
            2.1706023,
            2.169941,
            2.185085,
            2.1946255,
            2.1933482,
            2.1436235,
            2.184922,
            2.183489,
            2.18329,
            2.1805685,
            2.1801763,
            2.1812483,
            2.1813305,
            2.1771985,
            2.1801069,
            2.1525661,
            2.1951871,
            2.1690686,
            2.1829894,
            2.188928,
            2.168819,
            2.1679349,
            2.164035,
            2.16712,
            2.1772251,
            2.1758261,
            2.1732861,
            2.1707321,
            2.174016,
            2.177292,
            2.1692556,
            2.1709386,
            2.1965766,
            2.1889045,
            2.1871959,
            2.1930099,
            2.189476,
            2.1871575,
            2.1874404,
            2.189881,
            2.189906,
            2.187093,
            2.186576,
            2.1818962,
            2.1766834,
            2.2206913,
            2.1753364,
            2.19067,
            2.1904003,
            2.2060317,
            2.1696543,
            2.1930174,
            2.1558354,
            2.1586704,
            2.1609345,
            2.1510385,
            2.1644531,
            2.1598243,
            2.1574439,
            2.1524704,
            2.1513154,
            2.1471724,
            2.183145,
            2.1440826,
            2.1445567,
            2.1569161,
            2.1380304,
            2.1345892,
            2.1309272,
            2.1902116,
            2.1422556,
            2.1610515,
            2.1390667,
            2.136579,
            2.1328634,
            2.1306737,
            2.1256248,
            2.1285766,
            2.1288753,
            2.1344218,
            2.1334873,
            2.1312876,
            2.1517977,
            2.1709545,
            2.192042,
            2.1858025,
            2.1928992,
            2.1896502,
            2.1894423,
            2.1857498,
            2.190246,
            2.1922011,
            2.1932159,
            2.1852073,
            2.191206,
            2.1872818,
            2.1904005,
            2.1635318,
            2.1849107,
            2.1717083,
            2.1786224,
            2.1812399,
            2.1773157,
            2.18018,
            2.1877153,
            2.1844769,
            2.1908473,
            2.1539198,
            2.1523091,
            2.1658972,
            2.1629627,
            2.1667829,
            2.1866363,
            2.1268625,
            2.1920873,
            2.1334379,
            2.1965965,
            2.2193724,
            2.2163136,
            2.2183313,
            2.2177652,
            2.2088179,
            2.2074469,
            2.2017694,
            2.20077,
            2.1974184,
            2.1969105,
            2.203028,
            2.192952,
            2.2084257,
            2.1633139,
            2.207186,
            2.2024461,
            2.1977119,
            2.1956161,
            2.1924144,
            2.1954152,
            2.1559939,
            2.2058133,
            2.2058345,
            2.2008139,
            2.2017955,
            2.1972673,
            2.1987258,
            2.2124993,
            2.1778852,
            2.2008756,
            2.1342316,
            2.1354149,
            2.1323612,
            2.1289917,
            2.1335494,
            2.1493799,
            2.2078439,
            2.1661852,
            2.1358571,
            2.1698206,
            2.1439036,
            2.1389439,
            2.2041415,
            2.1419494,
            2.1439304,
            2.1388216,
            2.1369015,
            2.2162094,
            2.1809764,
            2.2119049,
            2.2091221,
            2.2099336,
            2.2088454,
            2.2037136,
            2.1999572,
            2.2135818,
            2.2105777,
            2.206645,
            2.1392662,
            2.1410945
           ],
           "marker": {
            "color": [
             16,
             15,
             27,
             27,
             20,
             25,
             31,
             28,
             33,
             31,
             32,
             33,
             32,
             36,
             32,
             27,
             27,
             27,
             27,
             23,
             27,
             36,
             23,
             27,
             27,
             26,
             27,
             27,
             31,
             27,
             27,
             27,
             35,
             26,
             32,
             18,
             30,
             26,
             24,
             27,
             41,
             24,
             21,
             21,
             29,
             39,
             39,
             26,
             33,
             27,
             36,
             32,
             27,
             27,
             32,
             18,
             31,
             33,
             24,
             32,
             33,
             30,
             30,
             27,
             24,
             32,
             12,
             27,
             17,
             27,
             32,
             12,
             15,
             15,
             27,
             20,
             27,
             24,
             27,
             27,
             27,
             27,
             27,
             32,
             32,
             36,
             27,
             21,
             27,
             23,
             27,
             24,
             27,
             24,
             24,
             27,
             33,
             23,
             27,
             27,
             24,
             27,
             27,
             31,
             27,
             27,
             26,
             27,
             24,
             29,
             24,
             36,
             27,
             22,
             27,
             32,
             31,
             27,
             27,
             27,
             32,
             27,
             18,
             27,
             33,
             24,
             25,
             27,
             19,
             27,
             28,
             27,
             27,
             32,
             24,
             27,
             28,
             18,
             30,
             26,
             18,
             19,
             27,
             24,
             24,
             24,
             24,
             18,
             18,
             20,
             30,
             27,
             24,
             24,
             28,
             28,
             15,
             31,
             27,
             27,
             27,
             24,
             33,
             20,
             21,
             24,
             18,
             28,
             27,
             20,
             27,
             28,
             27,
             24,
             50,
             15,
             28,
             30,
             19,
             16,
             27,
             27,
             26,
             27,
             18,
             21,
             24,
             24,
             24,
             27,
             27,
             24,
             21,
             25,
             27,
             33,
             27,
             32,
             27,
             25,
             33,
             32,
             27,
             24,
             37,
             27,
             28,
             39,
             26,
             32,
             22,
             31,
             24,
             43,
             27,
             35,
             27,
             32,
             33,
             27,
             32,
             33,
             18,
             32,
             24,
             22,
             27,
             54,
             24,
             27,
             27,
             27,
             27,
             15,
             24,
             27,
             32,
             18,
             27,
             18,
             18,
             27,
             36,
             19,
             28,
             27,
             30,
             28,
             28,
             28,
             27,
             26,
             32,
             27,
             20,
             27,
             32,
             21,
             21,
             33,
             48,
             18,
             35,
             18,
             27,
             20,
             25,
             27,
             40,
             27,
             21,
             24,
             21,
             21,
             24,
             27,
             24,
             32,
             21,
             15,
             27,
             27,
             21,
             27,
             43,
             40,
             27,
             21,
             24,
             34,
             43,
             27,
             23,
             21,
             31,
             21,
             21,
             21,
             21,
             39,
             27,
             21,
             22,
             27,
             20,
             34,
             20,
             27,
             21,
             24,
             21,
             20,
             20,
             21,
             26,
             21,
             24,
             21,
             24,
             24,
             27,
             23,
             21,
             18,
             21,
             30,
             27,
             19,
             21,
             18,
             30,
             27,
             42,
             27,
             23,
             27,
             26,
             35,
             43,
             27,
             27,
             27,
             39,
             39,
             21,
             27,
             29,
             46,
             26,
             54,
             21,
             29,
             15,
             25,
             20,
             27,
             43,
             25,
             27,
             19,
             19,
             21,
             32,
             20,
             18,
             21,
             18,
             20,
             54,
             27,
             21,
             27,
             24,
             25,
             18,
             43,
             24,
             21,
             43,
             21,
             21,
             46,
             27,
             21,
             16,
             21,
             18,
             27,
             24,
             26,
             36,
             27,
             24,
             27,
             26,
             39,
             27,
             27,
             28,
             21,
             33,
             24,
             16,
             31,
             26,
             33,
             25,
             33,
             33,
             33,
             33,
             27,
             24,
             25,
             24,
             25,
             27,
             27,
             24,
             27,
             24,
             32,
             18,
             25,
             27,
             33,
             33,
             27,
             27,
             27,
             24,
             32,
             27,
             27,
             27,
             27,
             33,
             27,
             27,
             27,
             27,
             26,
             31,
             27,
             27,
             18,
             27,
             27,
             27,
             27,
             33,
             32,
             27,
             33,
             27,
             32,
             32,
             23,
             27,
             27,
             27,
             27,
             27,
             27,
             24,
             27,
             27,
             27,
             32,
             32,
             27,
             35,
             21,
             25,
             31,
             21,
             21,
             33,
             27,
             27,
             27,
             27,
             24,
             27,
             21,
             28,
             29,
             28,
             27,
             19,
             26,
             17,
             27,
             31,
             33,
             51,
             16,
             27,
             34,
             31,
             27,
             27,
             27,
             53,
             54,
             27,
             21,
             27,
             27,
             27
            ],
            "coloraxis": "coloraxis"
           },
           "mode": "markers",
           "name": "",
           "showlegend": false,
           "subplot": "mapbox",
           "type": "scattermapbox"
          }
         ],
         "layout": {
          "title": {
           "text": "Total Stations: 510 Total Bikes: 13757 in  2021"
          }
         },
         "name": "2021"
        },
        {
         "data": [
          {
           "customdata": [
            [
             "GRAN VIA DE LES CORTS CATALANES, 368",
             8010,
             27,
             24
            ],
            [
             "GRAN VIA DE LES CORTS CATALANES, 368",
             8010,
             21,
             24
            ],
            [
             "AV. D'EDUARD MARISTANY, 1 /FORUM",
             8019,
             33,
             4
            ],
            [
             "C/ ROCAFORT, 152",
             8015,
             28,
             15
            ],
            [
             "TALLER R. BARRADAS",
             8908,
             16,
             0
            ],
            [
             "C/ VILAMARÍ, 85",
             8015,
             26,
             28
            ],
            [
             "C/ CASTELLNOU, 65",
             8017,
             30,
             95
            ],
            [
             "C/ RIERA BLANCA, 123",
             8028,
             21,
             22
            ],
            [
             "RAMBLA DEL BRASIL, 5",
             8028,
             27,
             28
            ],
            [
             "C/ MUNNÉ  2-6",
             8028,
             31,
             34
            ],
            [
             "C/RADI,10/GRAN VIA DE LES CORTS CATALANES",
             8038,
             28,
             9
            ],
            [
             "C/ JANE ADDAMS, 26/ CRTA. DEL PRAT",
             8038,
             33,
             9
            ],
            [
             "C/ VILLARROEL, 208",
             8036,
             31,
             43
            ],
            [
             "C/ DE L'ENERGIA, 2 / ALTS FORNS",
             8038,
             33,
             7
            ],
            [
             "JARDINS DE CAN FERRERO/PG.DE LA ZONA FRANCA",
             8038,
             32,
             7
            ],
            [
             "C/ ALTS FORNS, 77",
             8038,
             32,
             9
            ],
            [
             "PG. ZONA FRANCA, 182",
             8038,
             35,
             8
            ],
            [
             "PL. TERESA DE CLARAMUNT/C/ DELS FERROCARILS",
             8038,
             32,
             10
            ],
            [
             "C/ CAMÈLIES, 73",
             8024,
             27,
             106
            ],
            [
             "C/ CIUTAT D'ASUNCIÓN, 73 / POTOSÍ",
             8030,
             27,
             16
            ],
            [
             "C/ ROC BORONAT, 134",
             8018,
             27,
             5
            ],
            [
             "PG. D'ENRIC SANCHIS, 33",
             8030,
             27,
             11
            ],
            [
             "C/ SANT ADRIÀ, 113",
             8030,
             24,
             13
            ],
            [
             "C/ RAMON TURRÓ, 246",
             8005,
             26,
             2
            ],
            [
             "AV. JOSEP VICENÇ FOIX, 63",
             8034,
             35,
             111
            ],
            [
             "C/ RIERA ALTA, 6",
             8001,
             35,
             10
            ],
            [
             "C/ CARME KARR, 12-14",
             8034,
             23,
             117
            ],
            [
             "C/ CAPONATA, 20",
             8034,
             27,
             101
            ],
            [
             "C/ SANTA AMÈLIA, 2",
             8034,
             27,
             92
            ],
            [
             "VIA AUGUSTA, 348",
             8017,
             26,
             117
            ],
            [
             "PASSATGE DE SENILLOSA, 3-5",
             8034,
             27,
             94
            ],
            [
             "C/ DOCTOR ROUX, 86",
             8017,
             27,
             104
            ],
            [
             "CAMPANA DE LA MAQUINISTA (SAO PAULO I PL. DE",
             8030,
             27,
             14
            ],
            [
             "C/ CASANOVA, 119",
             8036,
             30,
             30
            ],
            [
             "C/ CARDENER, 59",
             8024,
             27,
             87
            ],
            [
             "C/ MÉNDEZ NÚÑEZ, 16",
             8003,
             26,
             12
            ],
            [
             "C/ NUMÀNCIA, 2",
             8029,
             24,
             32
            ],
            [
             "C/ LOPE DE VEGA, 79",
             8005,
             27,
             3
            ],
            [
             "C/ AGUSTÍ DURAN I SANPERE, 10",
             8001,
             41,
             10
            ],
            [
             "C/ DURAN I BAS, 2",
             8002,
             24,
             11
            ],
            [
             "AV. JOSEP TARRADELLAS, 27",
             8029,
             21,
             35
            ],
            [
             "PL. JOAQUIM XIRAU I PALAU, 1",
             8002,
             21,
             5
            ],
            [
             "PL. ICTÍNEO",
             8039,
             29,
             2
            ],
            [
             "WORLD  TRADE CENTER",
             8039,
             39,
             3
            ],
            [
             "WORLD TRADE CENTER",
             8039,
             39,
             3
            ],
            [
             "PG. DE GRÀCIA, 89",
             8008,
             32,
             37
            ],
            [
             "AV. PARAL.LEL, 132",
             8015,
             29,
             13
            ],
            [
             "C/ RIBES, 77",
             8013,
             27,
             9
            ],
            [
             "C/ GOMBAU, 24",
             8003,
             25,
             5
            ],
            [
             "C/ DELS ENAMORATS, 49",
             8013,
             36,
             19
            ],
            [
             "C/ CONSELL DE CENT, 482",
             8013,
             27,
             23
            ],
            [
             "C/ DIPUTACIÓ, 373",
             8013,
             27,
             21
            ],
            [
             "C/ MARQUÈS DE SENTMENAT, 46",
             8029,
             32,
             44
            ],
            [
             "LA RAMBLA, 75",
             8001,
             18,
             8
            ],
            [
             "C/ VILADOMAT, 244",
             8029,
             31,
             39
            ],
            [
             "AV. PARAL.LEL 164",
             8015,
             18,
             17
            ],
            [
             "LLUIS ZAHERA-PG. DE GRÀCIA, 61",
             8007,
             33,
             32
            ],
            [
             "C/ NÀPOLS, 125",
             8013,
             32,
             15
            ],
            [
             "C/ BRUC, 20",
             8010,
             24,
             16
            ],
            [
             "C/ BAILÉN, 100",
             8009,
             32,
             27
            ],
            [
             "PG. DE COLOM (LES RAMBLES)",
             8039,
             33,
             5
            ],
            [
             "C/ BAILÉN, 62",
             8009,
             30,
             22
            ],
            [
             "C/ SARDENYA, 326",
             8025,
             32,
             37
            ],
            [
             "C/ PAU ALCOVER, 94",
             8017,
             27,
             108
            ],
            [
             "C/ DE L'ESCULTOR ORDÓÑEZ, 55",
             8016,
             27,
             53
            ],
            [
             "C/ ARTESA DE SEGRE, 2",
             8022,
             27,
             106
            ],
            [
             "SEU DEL DISTRICTE (NOU BARRIS)",
             8042,
             24,
             72
            ],
            [
             "C/ GRANOLLERS, 1",
             8032,
             24,
             78
            ],
            [
             "C/ AMILCAR, 1",
             8031,
             12,
             61
            ],
            [
             "C/ CUBELLES, 2",
             8031,
             27,
             57
            ],
            [
             "PL. DELS JARDINS D'ALFÀBIA, 1",
             8016,
             16,
             66
            ],
            [
             "C/ MÚRCIA, 64",
             8027,
             27,
             17
            ],
            [
             "PL. VIRREI AMAT",
             8016,
             32,
             55
            ],
            [
             "CARLES LATRE-GRAN VIA DE LES CORTS CATALANES, 632",
             8007,
             16,
             22
            ],
            [
             "C/ BOLÍVIA, 76",
             8018,
             15,
             7
            ],
            [
             "C/ MALATS, 98-100",
             8030,
             15,
             35
            ],
            [
             "AV. DIAGONAL, 652",
             8034,
             27,
             63
            ],
            [
             "C/ FULTON, 1",
             8032,
             20,
             76
            ],
            [
             "PG. FONT D´EN- FARGAS, 1",
             8031,
             27,
             75
            ],
            [
             "C/ SANT ISCLE, 60",
             8031,
             27,
             61
            ],
            [
             "C/ D'ESCORNALBOU, 51",
             8041,
             24,
             74
            ],
            [
             "C/ MAS CASANOVAS, 137",
             8041,
             27,
             75
            ],
            [
             "TRAVESSERA DE GRÀCIA, 368",
             8025,
             27,
             59
            ],
            [
             "TRAVESSERA DE GRÀCIA, 328",
             8025,
             27,
             60
            ],
            [
             "PLAÇA ALFONS X EL SAVI / RONDA DEL GUINARDO",
             8024,
             27,
             88
            ],
            [
             "AV. RIO DE JANEIRO, 3",
             8016,
             32,
             38
            ],
            [
             "RAMBLA FABRA I PUIG, 67",
             8030,
             32,
             33
            ],
            [
             "AV. MERIDIANA, 404",
             8030,
             36,
             38
            ],
            [
             "C/ CONCEPCIÓ ARENAL, 281",
             8033,
             27,
             32
            ],
            [
             "VIA BARCINO, 69",
             8033,
             21,
             28
            ],
            [
             "270 - CRTA. DE RIBES, 77 (TRINITAT VELLA)",
             8033,
             27,
             35
            ],
            [
             "VIA BARCINO, 121",
             8033,
             23,
             26
            ],
            [
             "C/ FERNANDO PESSOA, 72",
             8030,
             27,
             26
            ],
            [
             "PG. TORRAS I BAGES, 129",
             8030,
             24,
             29
            ],
            [
             "C/ SANT ANTONI Mª CLARET, 290-296",
             8041,
             27,
             49
            ],
            [
             "C/ DE ROSSELLÓ I PORCEL, 1/AV.MERIDIANA",
             8016,
             33,
             41
            ],
            [
             "C/ TURÓ BLAU, 1-3",
             8016,
             24,
             62
            ],
            [
             "C/ ANDREU NIN, 22",
             8016,
             33,
             41
            ],
            [
             "C/ REUS, 23",
             8022,
             24,
             114
            ],
            [
             "C/ BALMES, 409",
             8022,
             32,
             111
            ],
            [
             "C/ ALT DE GIRONELLA, 13",
             8017,
             23,
             82
            ],
            [
             "C/ REINA VICTORIA, 31",
             8021,
             27,
             80
            ],
            [
             "C/ VALLMAJOR, 13",
             8021,
             26,
             88
            ],
            [
             "C/ SANTALÓ, 165",
             8021,
             24,
             106
            ],
            [
             "C/ SANT HERMENEGILD, 30",
             8006,
             26,
             79
            ],
            [
             "VÍA AUGUSTA, 109",
             8006,
             27,
             71
            ],
            [
             "C/ SAGUÉS, 1",
             8021,
             31,
             51
            ],
            [
             "C/ CASTILLEJOS, 388",
             8025,
             32,
             77
            ],
            [
             "RAMBLA DE PRIM, 256",
             8020,
             26,
             11
            ],
            [
             "C/ CANTÀBRIA, 55",
             8020,
             26,
             9
            ],
            [
             "C/ DEL GUINARDÓ, 32-38",
             8041,
             27,
             38
            ],
            [
             "RAMBLA DEL BRASIL, 44",
             8028,
             24,
             35
            ],
            [
             "C/ FELIU DE CASANOVA, 1",
             8028,
             29,
             28
            ],
            [
             "C/ ARIZALA, 77",
             8028,
             36,
             40
            ],
            [
             "C/ GALLEGO, 2",
             8028,
             24,
             43
            ],
            [
             "C/ JOSEP SAMITIER / JOAN XXIII",
             8028,
             27,
             46
            ],
            [
             "C/ SANT RAMON NONAT,  26",
             8028,
             22,
             50
            ],
            [
             "C/ CARDENAL REIG, 11",
             8028,
             27,
             54
            ],
            [
             "C/ PINTOR RIBALTA / AV. XILE",
             8028,
             32,
             60
            ],
            [
             "C/ DOCTOR SALVADOR CARDENAL, 1-5",
             8028,
             31,
             60
            ],
            [
             "AV. DIAGONAL, 680",
             8034,
             27,
             65
            ],
            [
             "PG. MANUEL GIRONA, 7",
             8034,
             26,
             78
            ],
            [
             "C/ CAVALLERS, 67",
             8034,
             27,
             101
            ],
            [
             "C/ CAVALLERS, 41",
             8034,
             32,
             111
            ],
            [
             "C/ MARIE CURIE, 8-14",
             8042,
             27,
             73
            ],
            [
             "C/ DE MALADETA, 1",
             8016,
             18,
             44
            ],
            [
             "RECINTE PARC DE LA CIUTADELLA",
             8003,
             27,
             4
            ],
            [
             "C/ DE LES ESCOLES PIES, 99",
             8017,
             26,
             121
            ],
            [
             "C/ COMERÇ, 36",
             8003,
             25,
             5
            ],
            [
             "C/ PEDRELL, 52",
             8032,
             24,
             110
            ],
            [
             "C/ RAMON TURRÓ, 4",
             8005,
             19,
             5
            ],
            [
             "C/ LISBOA, 128",
             8032,
             27,
             98
            ],
            [
             "C/ PORTO, 35 | AV. ESTATUT DE CATALUNYA",
             8032,
             28,
             81
            ],
            [
             "PG. VALLDAURA, 26",
             8031,
             27,
             121
            ],
            [
             "C/ EDUARD TODA, 33 | C/ DOCTOR LETAMENDI",
             8031,
             27,
             104
            ],
            [
             "C/ LISBOA, 1",
             8032,
             21,
             79
            ],
            [
             "PG. UNIVERSAL, 29 | C/ DOCTOR LETAMENDI",
             8042,
             24,
             95
            ],
            [
             "PG. FABRA I PUIG, 411",
             8031,
             27,
             89
            ],
            [
             "PG. FABRA I PUIG, 385",
             8031,
             28,
             92
            ],
            [
             "PG. FABRA I PUIG, 344",
             8031,
             18,
             73
            ],
            [
             "C/ ESCULTOR LLIMONA, 7",
             8031,
             30,
             65
            ],
            [
             "C/ AMILCAR, 78",
             8032,
             26,
             69
            ],
            [
             "C/ PERIODISTES, 9",
             8032,
             18,
             80
            ],
            [
             "C/ CAMPO FLORIDO, 66",
             8027,
             19,
             46
            ],
            [
             "AV. CAN MARCET, 36",
             8035,
             27,
             132
            ],
            [
             "VIA FAVÈNCIA, 47",
             8042,
             24,
             102
            ],
            [
             "VIA FAVÈNCIA, 186",
             8042,
             24,
             105
            ],
            [
             "PG. VALLDAURA, 171",
             8042,
             24,
             78
            ],
            [
             "C/ GÒNGORA, 23",
             8042,
             24,
             93
            ],
            [
             "C/ SANT FRANCESC XAVIER, 1",
             8016,
             18,
             72
            ],
            [
             "C/ NOU BARRIS, 23",
             8042,
             18,
             107
            ],
            [
             "PL. JESÚS CARRASCO",
             8042,
             20,
             93
            ],
            [
             "C/ PABLO IGLESIAS, 21",
             8016,
             30,
             63
            ],
            [
             "C/ ROSSELLÓ, 261",
             8008,
             27,
             41
            ],
            [
             "AV. RIO DE JANEIRO, 96",
             8016,
             24,
             47
            ],
            [
             "C/ PEDROSA, 24",
             8033,
             24,
             68
            ],
            [
             "C/ PALAMÓS, 33",
             8033,
             28,
             61
            ],
            [
             "AV. RIO DE JANEIRO, 118",
             8016,
             28,
             43
            ],
            [
             "C/ MIREIA, 28",
             8033,
             15,
             56
            ],
            [
             "PG. FABRA I PUIG, 449",
             8042,
             31,
             94
            ],
            [
             "PG. SANTA COLOMA, 105",
             8030,
             27,
             24
            ],
            [
             "C/ JORGE MANRIQUE, 15",
             8035,
             27,
             119
            ],
            [
             "C/ PARE MARIANA, 24",
             8035,
             27,
             125
            ],
            [
             "C/ CONCEPCIÓ ARENAL, 176",
             8027,
             27,
             37
            ],
            [
             "C/ LLOBREGÓS, 115",
             8032,
             27,
             112
            ],
            [
             "AV. RASOS DE PEGUERA, 10",
             8033,
             20,
             44
            ],
            [
             "C/ SANT ADRIÀ, 88",
             8030,
             21,
             15
            ],
            [
             "C/ SANT ADRIÀ, 43",
             8030,
             24,
             19
            ],
            [
             "C/ ARAGÓ, 614",
             8018,
             18,
             16
            ],
            [
             "VIA AUGUSTA, 317",
             8017,
             28,
             111
            ],
            [
             "C/ D'ALACANT, 12",
             8017,
             27,
             96
            ],
            [
             "CORBACHO-C/ GRAN DE GRÀCIA, 91",
             8012,
             20,
             61
            ],
            [
             "PEYU-C/ GRAN DE GRÀCIA, 37",
             8012,
             27,
             55
            ],
            [
             "C/ TORRENT DE L'OLLA, 11",
             8012,
             28,
             46
            ],
            [
             "C/ SARDENYA, 465",
             8025,
             27,
             70
            ],
            [
             "C/ SARDENYA, 494",
             8024,
             24,
             81
            ],
            [
             "PG. VALL D'HEBRÓN, 168",
             8035,
             50,
             150
            ],
            [
             "C/ GARRIGA I ROCA, 2",
             8041,
             15,
             107
            ],
            [
             "C/ MASSENS, 76",
             8024,
             28,
             87
            ],
            [
             "C/ MAIGNON, 31-41",
             8024,
             30,
             105
            ],
            [
             "AV. VALLCARCA, 11",
             8023,
             19,
             88
            ],
            [
             "C/ ELISA, 1",
             8023,
             16,
             95
            ],
            [
             "AV. VALLCARCA, 108",
             8023,
             27,
             102
            ],
            [
             "AV. VALLCARCA, 196",
             8023,
             27,
             127
            ],
            [
             "C/ ESTEVE TERRADAS, 42",
             8023,
             26,
             145
            ],
            [
             "PTGE. MALUQUER, 16",
             8022,
             27,
             124
            ],
            [
             "C/ PROVENÇA, 445",
             8025,
             18,
             33
            ],
            [
             "C/ DIPUTACIÓ, 22",
             8015,
             21,
             24
            ],
            [
             "RAMBLA CATALUNYA/DIPUTACIO",
             8007,
             24,
             25
            ],
            [
             "PG. VALL D'HEBRÓN, 80",
             8023,
             24,
             166
            ],
            [
             "CORBACHO-PL. TETUAN",
             8010,
             24,
             18
            ],
            [
             "C/ CAMÈLIES, 78",
             8024,
             27,
             118
            ],
            [
             "C/ GRAN DE LA SAGRERA, 74",
             8027,
             27,
             22
            ],
            [
             "C/ TUCUMÁN, 21",
             8030,
             24,
             17
            ],
            [
             "C/ MÚRCIA, 1",
             8026,
             20,
             22
            ],
            [
             "C/ JORDI GIRONA, 29",
             8034,
             28,
             82
            ],
            [
             "C/ VALLESPIR, 13",
             8014,
             25,
             30
            ],
            [
             "PG.DE LLUíS COMPANYS (ARC DE TRIOMF)",
             8018,
             32,
             10
            ],
            [
             "PG. DE LLUíS COMPANYS (ARC DE TRIOMF)",
             8018,
             27,
             10
            ],
            [
             "C/ VILLAR, 2",
             8041,
             32,
             46
            ],
            [
             "RAMBLA DEL RAVAL, 20",
             8001,
             27,
             6
            ],
            [
             "RAMBLA DEL RAVAL, 13",
             8001,
             24,
             8
            ],
            [
             "C/ CASP, 67",
             8010,
             33,
             16
            ],
            [
             "C/ BRUC, 66",
             8009,
             32,
             24
            ],
            [
             "TONI MOOG-PL. URQUINAONA, 3",
             8010,
             27,
             17
            ],
            [
             "C/ JOSEP PLA, 67",
             8019,
             24,
             4
            ],
            [
             "PG.DE COLOM (LES RAMBLES)",
             8039,
             37,
             5
            ],
            [
             "C/ JOAN D'ÀUSTRIA, 31B",
             8005,
             27,
             5
            ],
            [
             "C/ HONDURAS, 32-34",
             8027,
             32,
             22
            ],
            [
             "C/ RAMON TRIAS FARGAS, 23",
             8005,
             39,
             5
            ],
            [
             "C/ COMTE BORRELL, 198",
             8029,
             26,
             28
            ],
            [
             "C/ JUAN GRIS, 28",
             8014,
             32,
             11
            ],
            [
             "C/ VALLESPIR, 49",
             8014,
             22,
             32
            ],
            [
             "PG. DE COLOM (VIA LAIETANA)",
             8002,
             31,
             4
            ],
            [
             "PL. ANTONIO LÓPEZ ( VIA LAIETANA)",
             8002,
             24,
             4
            ],
            [
             "MOLL ORIENTAL",
             8039,
             44,
             3
            ],
            [
             "C/ PAVIA, 3",
             8028,
             27,
             23
            ],
            [
             "PG. MARÍTIM DE LA BARCELONETA/ANDREA DÒRIA",
             8003,
             35,
             4
            ],
            [
             "AV. LITORAL (PG MARÍTIM DEL PORT OLÍMPIC)",
             8005,
             27,
             6
            ],
            [
             "C/ JOAN MIRÓ, 2-12",
             8005,
             32,
             5
            ],
            [
             "PL. CATALUNYA, 22",
             8002,
             33,
             15
            ],
            [
             "C/ DIPUTACIÓ, 226",
             8007,
             27,
             25
            ],
            [
             "C/ LLACUNA, 86",
             8005,
             31,
             3
            ],
            [
             "GRAN VIA DE LES CORTS CATALANES, 592",
             8007,
             33,
             21
            ],
            [
             "C/ GRANADELLA, 10-19 | C/ SAS",
             8030,
             18,
             12
            ],
            [
             "PG. MARÍTIM DE LA BARCELONETA",
             8003,
             27,
             7
            ],
            [
             "C/ DE RIBES, 59 B",
             8013,
             33,
             12
            ],
            [
             "C/ PROVENÇA, 595",
             8026,
             22,
             27
            ],
            [
             "C/ SARDENYA, 402",
             8025,
             27,
             56
            ],
            [
             "GRAN VIA DE LES CORTS CATALANES, 1157 (D)",
             8020,
             53,
             8
            ],
            [
             "C/ PALLARS, 504",
             8019,
             24,
             4
            ],
            [
             "C/ CRISTOBAL DE MOURA, 84",
             8019,
             27,
             3
            ],
            [
             "C/ BOLIVIA, 120",
             8018,
             27,
             5
            ],
            [
             "C/ RAMÓN TURRÓ, 160",
             8005,
             27,
             3
            ],
            [
             "C/ ALMOGÀVERS, 63",
             8018,
             27,
             10
            ],
            [
             "PG. JOAN DE BORBÓ, 42",
             8003,
             15,
             4
            ],
            [
             "C/ VILAMARÍ, 2",
             8015,
             24,
             21
            ],
            [
             "C/ LLEIDA, 40",
             8004,
             27,
             33
            ],
            [
             "C/ CASANOVA, 139",
             8036,
             32,
             33
            ],
            [
             "C/ MINERIA, 30",
             8038,
             18,
             11
            ],
            [
             "C/ DE CERVELLÓ, 5",
             8001,
             24,
             5
            ],
            [
             "C/ WATT, 2",
             8014,
             18,
             25
            ],
            [
             "RBLA. BADAL, 73 | C/ CONSTITUCIÓ",
             8014,
             18,
             14
            ],
            [
             "C/ NÀPOLS, 183",
             8013,
             27,
             22
            ],
            [
             "PG. ZONA FRANCA, 9",
             8038,
             36,
             5
            ],
            [
             "PG. ZONA FRANCA, 54",
             8038,
             19,
             6
            ],
            [
             "AV. DOCTOR MARAÑON, 25 | C/ PAU GARGALLO",
             8028,
             27,
             64
            ],
            [
             "C/ ROGER, 24",
             8028,
             26,
             34
            ],
            [
             "C/ JOHN MAYNARD KEYNES, 2 | AV. DIAGONAL",
             8034,
             30,
             70
            ],
            [
             "C/ MARTÍ I FRANQUÈS, 1",
             8028,
             28,
             63
            ],
            [
             "AV. JOAN XXIII, 17",
             8028,
             20,
             53
            ],
            [
             "C/ ALFAMBRA, 2 | AV. DIAGONAL",
             8034,
             28,
             77
            ],
            [
             "C/ GRAN CAPITÀ, 9",
             8034,
             28,
             105
            ],
            [
             "C/ PUJADES, 103",
             8005,
             27,
             3
            ],
            [
             "C/ DE SANT PAU, 119/ RONDA SANT PAU",
             8001,
             26,
             9
            ],
            [
             "C/ SELVA DE MAR, 230",
             8020,
             27,
             9
            ],
            [
             "C/ CASANOVA, 55",
             8011,
             27,
             23
            ],
            [
             "C/ SANT OLEGUER, 2",
             8001,
             19,
             6
            ],
            [
             "PG. TORRAS I BAGES, 29",
             8030,
             20,
             23
            ],
            [
             "C/ VIRIAT, 43",
             8014,
             21,
             31
            ],
            [
             "C/ TARRAGONA, 141",
             8014,
             21,
             29
            ],
            [
             "C/ TARRAGONA, 103-115",
             8014,
             33,
             28
            ],
            [
             "MORANCOS-GRAN  VIA DE LES CORTS CATALANES, 375-385",
             8015,
             48,
             26
            ],
            [
             "C / PROVENÇA, 241",
             8008,
             18,
             37
            ],
            [
             "C/ COMTE D'URGELL, 43",
             8011,
             35,
             16
            ],
            [
             "C/ ROSSELLÓ, 108-110",
             8036,
             18,
             36
            ],
            [
             "C/ ROSSELLÓ,  101",
             8036,
             27,
             36
            ],
            [
             "C/ LONDRES, 101-103",
             8036,
             20,
             45
            ],
            [
             "C/ MALLORCA, 41-43",
             8029,
             25,
             29
            ],
            [
             "C/ VILADOMAT,  2",
             8015,
             27,
             12
            ],
            [
             "AV. PARAL·LEL, 146 BIS",
             8015,
             40,
             15
            ],
            [
             "C/ DEL COMTE D'URGELL, 75 B",
             8011,
             27,
             20
            ],
            [
             "C/ CALABRIA, 158",
             8015,
             23,
             25
            ],
            [
             "C/ CALÀBRIA, 112",
             8015,
             39,
             20
            ],
            [
             "C/ VILAMARÍ,  61",
             8015,
             21,
             24
            ],
            [
             "C/ ENRIC  GRANADOS, 35",
             8007,
             21,
             31
            ],
            [
             "TONI MOOG-PL. UNIVERSITAT",
             8007,
             23,
             21
            ],
            [
             "PL. UNIVERSITAT /  ARIBAU",
             8011,
             27,
             21
            ],
            [
             "AV. FRANCESC CAMBÓ, 10",
             8003,
             24,
             8
            ],
            [
             "C/ CÒRSEGA, 216",
             8036,
             32,
             40
            ],
            [
             "AV. JOSEP TARRADELLAS, 58",
             8029,
             21,
             40
            ],
            [
             "AV. JOSEP TARRADELLAS, 133",
             8029,
             15,
             47
            ],
            [
             "DAVID PUERTO-C/ ENRIC GRANADOS, 93",
             8008,
             27,
             39
            ],
            [
             "C/ PROVENÇA, 215",
             8008,
             27,
             37
            ],
            [
             "C/ FLORIDABLANCA, 145",
             8011,
             21,
             16
            ],
            [
             "C/ COMTE URGELL, 23",
             8011,
             27,
             15
            ],
            [
             "C/ VIRIAT,  53",
             8014,
             21,
             30
            ],
            [
             "C/ TARRAGONA,  159-173",
             8014,
             22,
             29
            ],
            [
             "BRUNO ORO-AV. DIAGONAL, 602",
             8021,
             24,
             53
            ],
            [
             "AV. DIAGONAL,  612",
             8021,
             24,
             54
            ],
            [
             "RAMBLA DE GUIPÚSCOA, 103 /CANTÀBRIA",
             8020,
             24,
             8
            ],
            [
             "C/ MANSO, 46",
             8015,
             23,
             13
            ],
            [
             "RAMBLA DE GUIPÚSCOA, 43/FLUVIÀ",
             8020,
             43,
             10
            ],
            [
             "C/ ARAGÓ, 659 /NAVAS DE TOLOSA",
             8026,
             27,
             16
            ],
            [
             "PG. DE COLOM /VIA LAIETANA",
             8002,
             23,
             4
            ],
            [
             "PG. MARíTIM, 31 B (ANNEXA A LA  12)",
             8003,
             21,
             7
            ],
            [
             "C/ NOVA  BOCANA",
             8039,
             31,
             3
            ],
            [
             "C/ PROVENÇA, 317",
             8037,
             21,
             34
            ],
            [
             "C/ NÀPOLS, 344",
             8025,
             25,
             54
            ],
            [
             "C/ CASTILLEJOS, 258",
             8013,
             21,
             28
            ],
            [
             "C/ LEPANT,  278",
             8013,
             21,
             28
            ],
            [
             "C/ SARDENYA,  178",
             8013,
             39,
             12
            ],
            [
             "C/ PUJADES,  3",
             8018,
             27,
             6
            ],
            [
             "CARRER DE LA MARINA,25-33",
             8005,
             43,
             7
            ],
            [
             "C/ ROSA SENSAT, 12",
             8005,
             21,
             5
            ],
            [
             "AV. MARQUÉS DE L'ARGENTERA,  3",
             8003,
             21,
             4
            ],
            [
             "PL. JEAN GENET,  1",
             8001,
             20,
             5
            ],
            [
             "RONDA DE SANT PAU, 51",
             8015,
             33,
             11
            ],
            [
             "C/ FLORIDABLANCA, 49",
             8015,
             20,
             13
            ],
            [
             "C/ ARAGÓN 147",
             8015,
             19,
             21
            ],
            [
             "AV. ROMA,  136",
             8011,
             21,
             25
            ],
            [
             "C/ LONDRES,  53",
             8036,
             23,
             43
            ],
            [
             "C / INDÚSTRIA, 10",
             8037,
             21,
             45
            ],
            [
             "TRAV. DE GRÀCIA, 92 / VIA AUGUSTA",
             8006,
             20,
             56
            ],
            [
             "PL  JOANIC - C / BRUNIQUER, 59",
             8024,
             20,
             56
            ],
            [
             "PL. URQUINAONA, 9-10",
             8010,
             21,
             15
            ],
            [
             "C/ VALÈNCIA, 621",
             8026,
             26,
             16
            ],
            [
             "C/ ARAGÓ, 629",
             8026,
             21,
             16
            ],
            [
             "C/ DEL DR. AIGUADER, 72 / PG. SALVAT PAPASSEIT",
             8003,
             27,
             5
            ],
            [
             "LLUIS ZAHERA-RAMBLA CATALUNYA, 133 /  CÒRSEGA",
             8008,
             27,
             44
            ],
            [
             "C/ ROCAFORT, 214 / ROSSELLÓ",
             8029,
             24,
             37
            ],
            [
             "MORANCOS-PL. CATALUNYA, 10-11 (PG. DE GRACIA)",
             8002,
             21,
             20
            ],
            [
             "C/ PROVENÇA, 388-390",
             8025,
             22,
             34
            ],
            [
             "C/ SARDENYA, 362",
             8025,
             23,
             46
            ],
            [
             "C/ PROVENÇA, 322",
             8037,
             21,
             38
            ],
            [
             "C/ DOS DE MAIG, 230-232",
             8013,
             18,
             22
            ],
            [
             "C/ BRUC, 102",
             8009,
             21,
             29
            ],
            [
             "C/ MARINA, 199",
             8013,
             30,
             23
            ],
            [
             "C/ BRUC, 45",
             8010,
             27,
             21
            ],
            [
             "C/ SARDENYA, 292",
             8013,
             19,
             28
            ],
            [
             "C/ SANT ANTONI MARIA CLARET, 214",
             8025,
             21,
             52
            ],
            [
             "C/ CARTAGENA, 308",
             8025,
             18,
             46
            ],
            [
             "C/ ROSSELLÓ, 354",
             8025,
             30,
             40
            ],
            [
             "C/ ROSSELLÓ, 453",
             8025,
             27,
             38
            ],
            [
             "AV. MERIDIANA, 47 (D)",
             8013,
             42,
             14
            ],
            [
             "C/ CASTILLEJOS, 184",
             8013,
             29,
             13
            ],
            [
             "C/ DIPUTACIÓ, 272",
             8009,
             27,
             25
            ],
            [
             "CARRER DE LA MARINA, 25-33",
             8005,
             54,
             7
            ],
            [
             "PG. MARITIM, 23 (HOSPITAL DEL MAR)",
             8003,
             25,
             7
            ],
            [
             "PG. MARITIM, 11 (DAVANT PL. BRUGADA)",
             8003,
             35,
             7
            ],
            [
             "C/ 60, NÚMERO 25",
             8040,
             42,
             4
            ],
            [
             "AV. MARQUÉS DE L'ARGENTERA,13",
             8003,
             27,
             5
            ],
            [
             "PG. PUJADES, 2",
             8003,
             27,
             6
            ],
            [
             "PG. PUJADES,  1 (JUTJATS)",
             8003,
             27,
             6
            ],
            [
             "MARTITA DE GRANÀ-PG. LLUIS COMPANYS, 18  (ARC TRIOMF)",
             8018,
             39,
             10
            ],
            [
             "BERTO-PG. LLUIS COMPANYS, 11 (ARC TRIOMF)",
             8018,
             39,
             7
            ],
            [
             "C/ RIBES, 13",
             8013,
             21,
             8
            ],
            [
             "C/ NÀPOLS, 82",
             8013,
             27,
             11
            ],
            [
             "C/ ROGER DE FLOR, 126",
             8013,
             29,
             17
            ],
            [
             "GRAN VIA CORTS CATALANES, 760",
             8013,
             46,
             16
            ],
            [
             "AV. MARQUÉS DE  L'ARGENTERA, 15",
             8003,
             27,
             5
            ],
            [
             "RAMBLA  DE GUIPÚSCOA, 158/ CA N'OLIVA",
             8020,
             27,
             11
            ],
            [
             "PL. DEL MAR",
             8003,
             18,
             4
            ],
            [
             "C/ PONTEVEDRA / JUDICI",
             8003,
             21,
             4
            ],
            [
             "PL. CATALUNYA, 10-11 (RAMBLA)",
             8002,
             21,
             21
            ],
            [
             "BRUNO ORO-PL. CATALUNYA, 7",
             8002,
             27,
             19
            ],
            [
             "PL. CATALUNYA, 5",
             8002,
             25,
             19
            ],
            [
             "C/ ARAGÓ, 288",
             8009,
             20,
             26
            ],
            [
             "RAMBLA CATALUNYA, 47",
             8007,
             27,
             27
            ],
            [
             "PLAÇA DELS ÀNGELS (MACBA)",
             8001,
             43,
             11
            ],
            [
             "RAMBLA, 6",
             8002,
             24,
             4
            ],
            [
             "PORTAL DE SANTA MADRONA, 2-4",
             8001,
             27,
             5
            ],
            [
             "LA RAMBLA, 80",
             8002,
             18,
             8
            ],
            [
             "DAVID PUERTO-PL. CARLES PI I SUNYER",
             8002,
             21,
             10
            ],
            [
             "PL. SANT MIQUEL, 4",
             8002,
             31,
             11
            ],
            [
             "PL. VICENÇ MARTORELL",
             8001,
             20,
             12
            ],
            [
             "AV. PARAL.LEL, 54",
             8004,
             18,
             8
            ],
            [
             "LA BARCELONETA (CN BARCELONETA)",
             8003,
             15,
             4
            ],
            [
             "C/ ROSA SENSAT, 20",
             8005,
             21,
             5
            ],
            [
             "C/ RAMON TRIAS FARGAS, 21",
             8005,
             47,
             5
            ],
            [
             "C/ RAMON TRIAS FARGAS, 19 (D)",
             8005,
             54,
             7
            ],
            [
             "C/ SARDENYA, 66",
             8005,
             27,
             5
            ],
            [
             "AV. MERIDIANA, 66 ( COSTAT METRO GLORIES)",
             8018,
             13,
             16
            ],
            [
             "C/ CLOT, 1",
             8018,
             27,
             13
            ],
            [
             "C/ CIUTAT DE GRANADA, 168 / AV. DIAGONAL",
             8018,
             23,
             4
            ],
            [
             "PL. POETA BOSCÀ/ATLÀNTIDA",
             8003,
             25,
             5
            ],
            [
             "C/ DOCTOR AIGUADER, 2",
             8039,
             18,
             6
            ],
            [
             "PL. PAU VILA (D)",
             8039,
             44,
             4
            ],
            [
             "PL. ANTONIO LÓPEZ (CORREUS, VIA LAIETANA)",
             8002,
             24,
             4
            ],
            [
             "AV. DE LA CATEDRAL, 6",
             8002,
             21,
             8
            ],
            [
             "C/ SANT RAMON DE PENYAFORT, 1",
             8930,
             43,
             5
            ],
            [
             "C/ SANT PERE MÉS ALT, 4",
             8003,
             21,
             9
            ],
            [
             "AV. MERIDIANA, 40",
             8018,
             21,
             11
            ],
            [
             "PL.VALENTÍ ALMIRALL",
             8018,
             27,
             6
            ],
            [
             "CARLES LATRE-GRAN VIA DE LES CORTS CATALANES, 609",
             8007,
             16,
             23
            ],
            [
             "C/ BAC DE RODA, 157",
             8018,
             21,
             6
            ],
            [
             "C/ PAU ALSINA, 54",
             8025,
             24,
             65
            ],
            [
             "C/ DE NIL FABRA, 16-20",
             8012,
             26,
             80
            ],
            [
             "C/ DE LA SANTACREU, 2 (PL.DE LA VIRREINA)",
             8024,
             28,
             68
            ],
            [
             "PL. DEL NORD, 5",
             8024,
             21,
             73
            ],
            [
             "C/ DEL TORRENT DE LES FLORS, 102",
             8024,
             18,
             69
            ],
            [
             "C/ MONTMANY, 1",
             8012,
             27,
             52
            ],
            [
             "C/ MALLORCA, 84",
             8029,
             23,
             28
            ],
            [
             "C / GIRONA, 176",
             8037,
             26,
             40
            ],
            [
             "C/ DE BONAVISTA, 14",
             8012,
             36,
             48
            ],
            [
             "C/ DEL CANÓ, 1",
             8012,
             27,
             58
            ],
            [
             "JUDITH MARTIN-GRAN DE GRÀCIA, 155 (METRO FONTANA)",
             8012,
             24,
             68
            ],
            [
             "BRUNO ORO-C/ TUSET, 19",
             8006,
             27,
             53
            ],
            [
             "C/ LAFORJA, 74-76",
             8021,
             26,
             67
            ],
            [
             "C/ VILÀ I VILÀ, 45",
             8004,
             27,
             7
            ],
            [
             "C/ CONSELL DE CENT, 566",
             8013,
             39,
             17
            ],
            [
             "C/ MADRAZO, 131",
             8021,
             27,
             63
            ],
            [
             "C/ GANDUXER, 29",
             8021,
             21,
             65
            ],
            [
             "C/ JOSÉ DE  AGULLÓ, 9",
             8017,
             25,
             72
            ],
            [
             "C/ SANTA FE DE NOU MÈXIC, 2",
             8017,
             33,
             70
            ],
            [
             "AV. SARRIÀ, 163",
             8017,
             24,
             75
            ],
            [
             "C/ SANCHO DE ÁVILA, 60-64",
             8018,
             28,
             5
            ],
            [
             "C/ VILARDELL, 18",
             8014,
             31,
             22
            ],
            [
             "C/ DIPUTACIÓ, 200",
             8011,
             26,
             23
            ],
            [
             "AV. DIAGONAL, 630",
             8017,
             32,
             59
            ],
            [
             "AV. DIAGONAL, 634",
             8017,
             25,
             62
            ],
            [
             "BERTO-AV. DIAGONAL, 650",
             8017,
             33,
             62
            ],
            [
             "C/ EUROPA, 25",
             8028,
             33,
             57
            ],
            [
             "AV. DIAGONAL, 664",
             8034,
             33,
             63
            ],
            [
             "C/ RECTOR UBACH, 24",
             8021,
             27,
             75
            ],
            [
             "CARLES LATRE-AV. DIAGONAL, 668",
             8034,
             33,
             64
            ],
            [
             "C/ NOU DE LA RAMBLA, 164",
             8004,
             27,
             21
            ],
            [
             "AV. PARAL.LEL, 98",
             8015,
             31,
             10
            ],
            [
             "GRAN VIA DE LES CORTS CATALANES, 902",
             8018,
             16,
             6
            ],
            [
             "C/ ENTENÇA, 70",
             8015,
             24,
             21
            ],
            [
             "C/ VILLARROEL, 39",
             8011,
             32,
             17
            ],
            [
             "CARRER DEL CINCA, 7",
             8030,
             27,
             22
            ],
            [
             "C/ DE BARTRINA, 14",
             8030,
             24,
             34
            ],
            [
             "C/ FERNANDO PESSOA, 41",
             8030,
             27,
             23
            ],
            [
             "C/ SANT ADRIÀ, 2-8",
             8030,
             24,
             27
            ],
            [
             "C/ MALATS, 28-30",
             8030,
             31,
             25
            ],
            [
             "C/ IRLANDA, 11-21",
             8030,
             18,
             30
            ],
            [
             "RAMBLA DE L'ONZE DE SETEMBRE, 69",
             8030,
             26,
             26
            ],
            [
             "C/ ONZE DE SETEMBRE, 37-39",
             8030,
             27,
             25
            ],
            [
             "RAMBLA DE L'ONZE DE SETEMBRE, 31",
             8030,
             31,
             24
            ],
            [
             "C/ CARDENAL TEDESCHINI, 13",
             8027,
             33,
             35
            ],
            [
             "PG. DE L´EXPOSICIÓ, 30 /BLASCO GARAY",
             8004,
             27,
             31
            ],
            [
             "C/ PORTUGAL, 3",
             8027,
             27,
             25
            ],
            [
             "C/ PALÈNCIA, 31",
             8027,
             27,
             18
            ],
            [
             "C/ FELIPE II, 112",
             8027,
             32,
             32
            ],
            [
             "C/ GARCILASO, 77",
             8027,
             18,
             30
            ],
            [
             "LA RAMBLA, 101",
             8002,
             27,
             10
            ],
            [
             "C/ FELIP II, 214",
             8027,
             27,
             44
            ],
            [
             "C/ ALEXANDRE GALÍ, 1-5",
             8027,
             27,
             42
            ],
            [
             "C/ RAMON ALBÓ, 1",
             8027,
             27,
             56
            ],
            [
             "C/ TEODOR LLORENTE, 1",
             8041,
             33,
             44
            ],
            [
             "C/ JOSEP ESTIVILL, 32",
             8027,
             27,
             23
            ],
            [
             "C/ INDÚSTRIA, 329",
             8027,
             26,
             31
            ],
            [
             "C/ ESPRONCEDA, 298",
             8027,
             27,
             16
            ],
            [
             "C/ RIUS I TAULET, 4",
             8004,
             27,
             33
            ],
            [
             "AV. PARAL.LEL, 194",
             8015,
             26,
             24
            ],
            [
             "C/ ANTILLES, 8",
             8027,
             27,
             21
            ],
            [
             "C/ DE LES CORTS, 20",
             8028,
             27,
             52
            ],
            [
             "C/REPÚBLICA DOMINICANA,25(CENTRE COMERCIAL)",
             8030,
             31,
             20
            ],
            [
             "C/ NUMÀNCIA, 136",
             8029,
             24,
             55
            ],
            [
             "C/ INDEPENDÈNCIA, 379",
             8026,
             27,
             46
            ],
            [
             "AV. ICÀRIA, 202",
             8005,
             27,
             3
            ],
            [
             "C/ RAMON TURRÓ, 292",
             8005,
             27,
             3
            ],
            [
             "C/ RAMON TURRÓ, 91",
             8005,
             27,
             4
            ],
            [
             "AV. DIAGONAL, 26",
             8019,
             32,
             4
            ],
            [
             "RAMBLA DE PRIM, 19",
             8019,
             27,
             4
            ],
            [
             "C/ LLULL, 465",
             8019,
             33,
             4
            ],
            [
             "C/ SELVA DE MAR, 46",
             8019,
             27,
             4
            ],
            [
             "C/ PUJADES, 311/ FLUVIÀ",
             8019,
             32,
             4
            ],
            [
             "C/ PUJADES, 191",
             8005,
             32,
             2
            ],
            [
             "C/ PUJADES, 173/RBLA POBLE NOU",
             8005,
             23,
             3
            ],
            [
             "C/ PUJADES, 121",
             8005,
             27,
             3
            ],
            [
             "C/ PALLARS, 182",
             8005,
             27,
             3
            ],
            [
             "C/ DEL DOCTOR TRUETA, 222",
             8005,
             27,
             3
            ],
            [
             "C/ ESPRONCEDA, 124",
             8005,
             27,
             4
            ],
            [
             "RONDA SANT PAU, 79",
             8015,
             27,
             12
            ],
            [
             "RAMBLA PRIM, 79",
             8019,
             33,
             5
            ],
            [
             "C/ PERE IV, 488",
             8019,
             24,
             4
            ],
            [
             "C/ PERE IV,  301 / FLUVIÀ",
             8020,
             27,
             4
            ],
            [
             "C/ CASTELLA,  28 / DIAGONAL",
             8018,
             27,
             4
            ],
            [
             "C/ SANCHO DE ÁVILA, 170 / LLACUNA",
             8018,
             25,
             4
            ],
            [
             "C/ SANCHO DE ÁVILA,  104 - C/ BADAJOZ",
             8018,
             32,
             4
            ],
            [
             "C/ BILBAO, 174",
             8018,
             32,
             7
            ],
            [
             "C/ VILADOMAT, 122",
             8015,
             27,
             19
            ],
            [
             "GRAN VIA DE LES CORTS CATALANES,  1131",
             8020,
             35,
             7
            ],
            [
             "GRAN VIA DE LES CORTS CATALANES, 1118",
             8020,
             21,
             7
            ],
            [
             "GRAN VIA DE LES CORTS CATALANES, 1041",
             8020,
             25,
             7
            ],
            [
             "GRAN VIA DE LES CORTS CATALANES,  1062",
             8020,
             31,
             8
            ],
            [
             "C/ PUJADES, 57B",
             8019,
             27,
             4
            ],
            [
             "C/ BILBAO, 2",
             8005,
             27,
             3
            ],
            [
             "GRAN VIA DE LES CORTS CATALANES,  981",
             8018,
             21,
             8
            ],
            [
             "SELVA DE MAR / PG. DEL TAULAT",
             8019,
             27,
             5
            ],
            [
             "C/ JOAN GÜELL, 174",
             8028,
             24,
             47
            ],
            [
             "C/ MEJÍA LEQUERICA, 2",
             8028,
             27,
             47
            ],
            [
             "C/ VALLESPIR, 194",
             8014,
             27,
             48
            ],
            [
             "C/ GELABERT, 1",
             8029,
             27,
             47
            ],
            [
             "C/ BERLÍN, 38",
             8029,
             27,
             38
            ],
            [
             "C/ VALLESPIR, 130",
             8014,
             27,
             38
            ],
            [
             "C/ JOAN GÜELL, 98",
             8028,
             24,
             38
            ],
            [
             "C/ BAC DE RODA, 11",
             8005,
             21,
             3
            ],
            [
             "C/ JOAN GÜELL, 50",
             8028,
             21,
             33
            ],
            [
             "AV. LITORAL, 72",
             8005,
             28,
             6
            ],
            [
             "C/ BRUC, 130",
             8037,
             28,
             34
            ],
            [
             "PG. SANT ANTONI /PL. SANTS",
             8014,
             27,
             30
            ],
            [
             "C/ DE SANT PAU, 89 - 97",
             8001,
             19,
             5
            ],
            [
             "C/CONSELL DE CENT, 6",
             8014,
             26,
             27
            ],
            [
             "C/ FÍGOLS, 1",
             8028,
             27,
             41
            ],
            [
             "C/ QUETZAL, 22-24",
             8014,
             27,
             22
            ],
            [
             "C/GAVÀ, 81",
             8014,
             17,
             20
            ],
            [
             "AV. LITORAL, 40 (D)",
             8005,
             54,
             6
            ],
            [
             "AV. LITORAL, 172",
             8005,
             54,
             5
            ],
            [
             "AV.LITORAL, 84",
             8005,
             27,
             8
            ],
            [
             "C/ LLULL, 309",
             8019,
             27,
             4
            ],
            [
             "PG. DE GARCIA FÀRIA, 37/JOSEP FERRATER",
             8019,
             31,
             6
            ],
            [
             "PG. DE GARCIA FÀRIA, 21/ESPRONCEDA",
             8005,
             27,
             6
            ],
            [
             "PG. DE GARCIA FÀRIA, 85",
             8019,
             27,
             7
            ],
            [
             "PG. ZONA FRANCA, 244",
             8038,
             15,
             9
            ],
            [
             "GRAN VIA DE LES CORTS CATALANES, 179 (D)",
             8014,
             51,
             14
            ],
            [
             "GRAN VIA DE LES CORTS CATALANES, 273",
             8014,
             32,
             18
            ],
            [
             "C/ GAVÀ, 1",
             8014,
             31,
             18
            ],
            [
             "C/ ROSSELLÓ, 557",
             8026,
             34,
             33
            ]
           ],
           "hovertemplate": "<b>%{hovertext}</b><br><br>year=2022<br>lat=%{lat}<br>lon=%{lon}<br>address=%{customdata[0]}<br>post_code=%{customdata[1]}<br>capacity=%{marker.color}<br>altitude=%{customdata[3]}<extra></extra>",
           "hovertext": [
            420,
            96,
            160,
            191,
            520,
            384,
            331,
            355,
            354,
            353,
            352,
            351,
            350,
            349,
            348,
            347,
            346,
            345,
            356,
            344,
            342,
            341,
            340,
            339,
            338,
            388,
            337,
            336,
            335,
            334,
            333,
            332,
            343,
            385,
            357,
            359,
            383,
            382,
            381,
            380,
            379,
            378,
            377,
            376,
            375,
            374,
            373,
            372,
            358,
            371,
            369,
            368,
            367,
            366,
            365,
            386,
            364,
            387,
            363,
            362,
            361,
            360,
            370,
            330,
            299,
            328,
            294,
            293,
            292,
            291,
            290,
            289,
            288,
            287,
            286,
            285,
            284,
            283,
            282,
            295,
            281,
            279,
            278,
            277,
            276,
            275,
            274,
            273,
            272,
            271,
            270,
            269,
            268,
            267,
            280,
            296,
            297,
            298,
            327,
            326,
            325,
            324,
            323,
            322,
            321,
            320,
            319,
            318,
            317,
            316,
            315,
            314,
            313,
            312,
            311,
            310,
            309,
            308,
            307,
            306,
            305,
            304,
            303,
            302,
            301,
            300,
            389,
            329,
            390,
            519,
            392,
            487,
            486,
            485,
            484,
            483,
            482,
            481,
            480,
            479,
            478,
            477,
            476,
            475,
            488,
            474,
            472,
            471,
            470,
            469,
            468,
            467,
            466,
            465,
            464,
            463,
            462,
            461,
            460,
            473,
            459,
            489,
            491,
            266,
            518,
            517,
            516,
            515,
            514,
            513,
            512,
            511,
            510,
            509,
            508,
            507,
            490,
            506,
            504,
            503,
            502,
            501,
            500,
            499,
            498,
            497,
            496,
            495,
            494,
            493,
            492,
            505,
            391,
            458,
            456,
            422,
            421,
            419,
            418,
            417,
            416,
            415,
            414,
            413,
            412,
            411,
            410,
            409,
            423,
            408,
            405,
            404,
            403,
            402,
            401,
            400,
            399,
            398,
            397,
            396,
            395,
            394,
            393,
            406,
            457,
            424,
            426,
            455,
            454,
            452,
            451,
            450,
            449,
            448,
            447,
            446,
            445,
            444,
            443,
            442,
            425,
            441,
            439,
            438,
            437,
            436,
            435,
            434,
            433,
            432,
            431,
            430,
            429,
            428,
            427,
            440,
            265,
            54,
            263,
            98,
            97,
            95,
            94,
            92,
            91,
            90,
            89,
            88,
            87,
            86,
            85,
            84,
            83,
            82,
            81,
            80,
            79,
            78,
            77,
            76,
            75,
            74,
            73,
            72,
            71,
            70,
            99,
            100,
            101,
            102,
            130,
            129,
            128,
            127,
            126,
            125,
            124,
            123,
            122,
            121,
            120,
            119,
            118,
            69,
            117,
            115,
            114,
            113,
            112,
            111,
            110,
            109,
            108,
            107,
            106,
            105,
            104,
            103,
            116,
            68,
            67,
            65,
            29,
            28,
            27,
            26,
            25,
            24,
            23,
            22,
            21,
            20,
            19,
            18,
            17,
            30,
            15,
            13,
            12,
            11,
            10,
            9,
            8,
            7,
            6,
            5,
            4,
            3,
            2,
            1,
            14,
            131,
            31,
            33,
            64,
            63,
            62,
            61,
            60,
            58,
            57,
            56,
            55,
            53,
            52,
            51,
            50,
            32,
            49,
            47,
            46,
            45,
            44,
            43,
            42,
            41,
            40,
            39,
            37,
            36,
            35,
            34,
            48,
            132,
            66,
            134,
            231,
            230,
            229,
            228,
            227,
            226,
            225,
            224,
            223,
            222,
            221,
            220,
            219,
            232,
            218,
            216,
            215,
            214,
            213,
            212,
            211,
            210,
            209,
            208,
            207,
            206,
            205,
            204,
            217,
            203,
            233,
            235,
            133,
            262,
            261,
            260,
            259,
            258,
            257,
            256,
            255,
            254,
            253,
            252,
            251,
            234,
            250,
            248,
            247,
            246,
            245,
            244,
            243,
            242,
            241,
            240,
            239,
            238,
            237,
            236,
            249,
            202,
            264,
            201,
            164,
            163,
            162,
            161,
            159,
            158,
            157,
            156,
            155,
            154,
            153,
            152,
            151,
            165,
            150,
            148,
            147,
            146,
            145,
            144,
            143,
            142,
            141,
            140,
            139,
            138,
            137,
            136,
            149,
            166,
            135,
            168,
            200,
            199,
            198,
            197,
            196,
            195,
            194,
            167,
            192,
            190,
            189,
            188,
            187,
            186,
            193,
            184,
            185,
            170,
            171,
            173,
            175,
            176,
            174,
            178,
            179,
            180,
            182,
            183,
            177
           ],
           "lat": [
            41.3743329,
            41.3741093,
            41.4109763,
            41.3824848,
            41.3476951,
            41.3807072,
            41.3970497,
            41.371459,
            41.3759419,
            41.37541,
            41.363279,
            41.3621232,
            41.392052,
            41.3573288,
            41.357067,
            41.3595484,
            41.360798,
            41.3631066,
            41.4134503,
            41.4431441,
            41.4034967,
            41.4339212,
            41.4361782,
            41.4017084,
            41.3977227,
            41.3806411,
            41.3986238,
            41.3953855,
            41.3935355,
            41.4006765,
            41.3954723,
            41.3998981,
            41.4389609,
            41.387888,
            41.4105956,
            41.3900544,
            41.381219,
            41.4038902,
            41.3816139,
            41.3854094,
            41.3829333,
            41.3785379,
            41.3776292,
            41.3718728,
            41.3720293,
            41.3949729,
            41.3750995,
            41.4001015,
            41.3872437,
            41.4040525,
            41.40013,
            41.3968391,
            41.384972,
            41.3811389,
            41.3875712,
            41.3751866,
            41.393062,
            41.3957813,
            41.3908381,
            41.396994,
            41.37652,
            41.3952527,
            41.4039698,
            41.401883,
            41.4340849,
            41.402988,
            41.4363473,
            41.4283127,
            41.4300161,
            41.426078,
            41.4373376,
            41.4166982,
            41.4296439,
            41.3890626,
            41.4030225,
            41.4366708,
            41.389462,
            41.4297231,
            41.4275514,
            41.433384,
            41.4180789,
            41.4158995,
            41.4098842,
            41.4082107,
            41.4121345,
            41.43068,
            41.4299201,
            41.4304126,
            41.4325013,
            41.4506081,
            41.4486328,
            41.448152,
            41.4457195,
            41.4433647,
            41.4138664,
            41.4364887,
            41.4388223,
            41.4347233,
            41.4050074,
            41.4074131,
            41.3949601,
            41.3969455,
            41.3981616,
            41.4009,
            41.4031529,
            41.401136,
            41.3937414,
            41.412427,
            41.4256626,
            41.4224015,
            41.4156285,
            41.3783067,
            41.3754188,
            41.3789061,
            41.3785631,
            41.3812111,
            41.3770199,
            41.37684,
            41.3791986,
            41.3853868,
            41.3875297,
            41.39038,
            41.3934324,
            41.3906352,
            41.4366871,
            41.4315843,
            41.3873901,
            41.4029965,
            41.3869612,
            41.4246548,
            41.3905303,
            41.4267638,
            41.4306102,
            41.4374904,
            41.4345997,
            41.42961,
            41.4372022,
            41.4357978,
            41.4333259,
            41.430623,
            41.4276076,
            41.4260751,
            41.422037,
            41.4216738,
            41.4347859,
            41.4418604,
            41.4427374,
            41.4389014,
            41.4432762,
            41.4417001,
            41.4480464,
            41.4450463,
            41.443387,
            41.3954094,
            41.439692,
            41.4490679,
            41.446923,
            41.442489,
            41.4513863,
            41.4388644,
            41.4479402,
            41.4312335,
            41.4306689,
            41.4268952,
            41.4246885,
            41.462095,
            41.4354601,
            41.4352071,
            41.4095069,
            41.399017,
            41.4000778,
            41.4006862,
            41.3989151,
            41.3989713,
            41.4090922,
            41.4107641,
            41.4280668,
            41.4191957,
            41.4092333,
            41.4095926,
            41.4074444,
            41.4052698,
            41.4119568,
            41.4160558,
            41.4144967,
            41.4095489,
            41.4048623,
            41.377846,
            41.3896967,
            41.419965,
            41.3943454,
            41.4145614,
            41.4230551,
            41.4457962,
            41.4143392,
            41.3881175,
            41.378118,
            41.391313,
            41.391062,
            41.4164824,
            41.3781065,
            41.3793558,
            41.3937234,
            41.393489,
            41.3893094,
            41.411381,
            41.376433,
            41.392384,
            41.4202459,
            41.3889972,
            41.3854003,
            41.3653426,
            41.3796421,
            41.380628,
            41.381276,
            41.3694508,
            41.3734706,
            41.380955,
            41.3889129,
            41.3890253,
            41.3860607,
            41.3873057,
            41.4022657,
            41.3863747,
            41.4383117,
            41.3795862,
            41.39828,
            41.4105848,
            41.4072349,
            41.4194972,
            41.4140598,
            41.410712,
            41.4058109,
            41.3972809,
            41.3943033,
            41.3779974,
            41.3755016,
            41.3717304,
            41.3887127,
            41.3649272,
            41.3765618,
            41.3754426,
            41.3685394,
            41.3981669,
            41.3513237,
            41.3545425,
            41.383585,
            41.3767538,
            41.3862258,
            41.3847061,
            41.383467,
            41.385641,
            41.3881262,
            41.3983902,
            41.3754047,
            41.417694,
            41.3847738,
            41.3775319,
            41.4378773,
            41.3806074,
            41.3779613,
            41.3763948,
            41.3757914,
            41.3938861,
            41.3812504,
            41.388296,
            41.3879131,
            41.3936144,
            41.3834802,
            41.3755747,
            41.3751852,
            41.3830299,
            41.3821658,
            41.3803180599865,
            41.3790718,
            41.389668,
            41.385503,
            41.3856474,
            41.3855644,
            41.3917666,
            41.385004,
            41.3900085,
            41.392135,
            41.3927771,
            41.3819459,
            41.380393,
            41.3808222,
            41.3787064,
            41.392878,
            41.392567,
            41.4200135,
            41.377046,
            41.4158412,
            41.4120681,
            41.380628,
            41.3834753,
            41.3702483,
            41.3988184485363,
            41.4054458,
            41.4064529,
            41.4047056,
            41.3967169,
            41.39212,
            41.3881248,
            41.3906051,
            41.383597,
            41.376735,
            41.3773113,
            41.3776721,
            41.3847528,
            41.3852585,
            41.3912605,
            41.4022081,
            41.3982304,
            41.4055198,
            41.3888694,
            41.4108005,
            41.410098,
            41.3838369,
            41.3953894,
            41.3852864,
            41.387696,
            41.401061,
            41.4055143,
            41.3967524,
            41.4071692,
            41.3954041,
            41.4005784,
            41.3924661,
            41.4016969,
            41.4108439,
            41.410314,
            41.4031491,
            41.4060589,
            41.3982615,
            41.4021805,
            41.3916117009235,
            41.3881248,
            41.3833653,
            41.3812425,
            41.3467746,
            41.384546,
            41.389135,
            41.388885,
            41.3914292,
            41.3911035,
            41.3933173,
            41.3941557,
            41.3954877,
            41.3979779,
            41.384844,
            41.4227912,
            41.3748001,
            41.37686,
            41.387493,
            41.386543,
            41.387235,
            41.39352,
            41.3902625,
            41.38268,
            41.377187,
            41.3770715,
            41.3811923,
            41.385086,
            41.381708,
            41.3842634,
            41.3751145,
            41.3736911,
            41.3910756,
            41.3902194,
            41.3885744,
            41.3913036,
            41.4018969,
            41.4063864,
            41.404511,
            41.379326,
            41.382335,
            41.381046,
            41.381316,
            41.3850616,
            41.4134833,
            41.3871079,
            41.3960652,
            41.4084796,
            41.3893222,
            41.4113024,
            41.4092005,
            41.4059356,
            41.4050968,
            41.4068417,
            41.4078456,
            41.4035608,
            41.3850278,
            41.3999967,
            41.3983444,
            41.4013296,
            41.4025392,
            41.3960982,
            41.3976165,
            41.3733857,
            41.4040364,
            41.3967824,
            41.3939378,
            41.3952027,
            41.3935816,
            41.3922355,
            41.3987543,
            41.3745238,
            41.3857425,
            41.3915195,
            41.3908477,
            41.3897943,
            41.387561,
            41.3880355,
            41.3985735,
            41.3887069,
            41.3719688,
            41.3751767,
            41.4075013,
            41.3790954665734,
            41.3821314,
            41.4356895,
            41.4391174,
            41.4420913,
            41.433934,
            41.4361251,
            41.4314061,
            41.4299999,
            41.4298614,
            41.4298991,
            41.4253643,
            41.3714688,
            41.4258248,
            41.4182129,
            41.4219291,
            41.4228449,
            41.3826647,
            41.426925,
            41.4239719,
            41.4244527,
            41.419178,
            41.4175595,
            41.4172922,
            41.4158807,
            41.3727426,
            41.3751161,
            41.4250835,
            41.3854466,
            41.439929,
            41.3878061,
            41.4118378,
            41.3942108,
            41.4038559,
            41.3953011,
            41.4110822,
            41.4116634,
            41.4132316,
            41.4091355,
            41.4070139,
            41.4026275,
            41.4018686,
            41.3993329,
            41.4003471,
            41.3992169,
            41.4065912,
            41.3783467,
            41.416043,
            41.4148983,
            41.4093405,
            41.4056269,
            41.4027907,
            41.4003793,
            41.4090202,
            41.3808772,
            41.4183999,
            41.4167933,
            41.4145805,
            41.4139298,
            41.3958685,
            41.4008312,
            41.4120452,
            41.4053697,
            41.3839045,
            41.3819739,
            41.3847113,
            41.3871579,
            41.3832609,
            41.3821371,
            41.3812001,
            41.4023354,
            41.3786364,
            41.3961412,
            41.3969839,
            41.3756948,
            41.3768806,
            41.3755503,
            41.3812979,
            41.3675438,
            41.3703717,
            41.3896642,
            41.3919877,
            41.3979002,
            41.4065291,
            41.4023621,
            41.4008744,
            41.4053649,
            41.36352,
            41.3675574,
            41.3714775,
            41.3723682,
            41.4110754
           ],
           "legendgroup": "",
           "lon": [
            2.1479385,
            2.1481993,
            2.2193724,
            2.1493799,
            2.11948,
            2.1468381,
            2.1279409,
            2.127854,
            2.1299539,
            2.1232547,
            2.1341586,
            2.1356187,
            2.1480223,
            2.1371996,
            2.141563,
            2.1417765,
            2.138931,
            2.1398322,
            2.1631012,
            2.1996045,
            2.1936584,
            2.2062245,
            2.2047037,
            2.2053803,
            2.1194557,
            2.1671611,
            2.1204941,
            2.1210928,
            2.1231228,
            2.1232926,
            2.1250451,
            2.1281922,
            2.1996179,
            2.1552902,
            2.1579897,
            2.1775594,
            2.141767,
            2.2041137,
            2.1677697,
            2.1740155,
            2.1420704,
            2.1767427,
            2.1836886,
            2.180302,
            2.1804468,
            2.1612814,
            2.1613897,
            2.1841711,
            2.1793035,
            2.181199,
            2.1780175,
            2.1756598,
            2.1376205,
            2.1729755,
            2.1469336,
            2.1568773,
            2.1633226,
            2.1787074,
            2.1743743,
            2.1706323,
            2.17881,
            2.1730023,
            2.1729061,
            2.131524,
            2.1748267,
            2.1344691,
            2.1706752,
            2.1629889,
            2.1720191,
            2.1751572,
            2.1740962,
            2.1909952,
            2.174444,
            2.1679313,
            2.1913538,
            2.186105,
            2.1314948,
            2.1617032,
            2.1659881,
            2.1716309,
            2.1763994,
            2.1745567,
            2.1715285,
            2.1689962,
            2.1652216,
            2.1821802,
            2.1849813,
            2.1834174,
            2.1842021,
            2.1923629,
            2.1898372,
            2.19294,
            2.1929816,
            2.1906302,
            2.1777274,
            2.1841014,
            2.1767828,
            2.1817718,
            2.134603,
            2.1381069,
            2.1302775,
            2.136346,
            2.1386719,
            2.13892,
            2.1445843,
            2.1479824,
            2.1455022,
            2.170592,
            2.2008632,
            2.198071,
            2.1817876,
            2.1297303,
            2.1297823,
            2.1233038,
            2.1202487,
            2.1190863,
            2.1169828,
            2.114029,
            2.1135824,
            2.122893,
            2.1237141,
            2.121,
            2.115107,
            2.111541,
            2.1693134,
            2.1769107,
            2.1875446,
            2.1283866,
            2.1820169,
            2.166289,
            2.1906339,
            2.1521909,
            2.1564551,
            2.1565742,
            2.1585268,
            2.15958,
            2.1620235,
            2.163872,
            2.1629258,
            2.1671068,
            2.1697582,
            2.1722534,
            2.174401,
            2.1799878,
            2.147904,
            2.1664224,
            2.170393,
            2.1715576,
            2.1746238,
            2.1781553,
            2.1775154,
            2.176726,
            2.1813051,
            2.1599427,
            2.182335,
            2.1833801,
            2.184857,
            2.185727,
            2.1894717,
            2.1657506,
            2.1976757,
            2.1499103,
            2.1456449,
            2.1842572,
            2.1570492,
            2.178959,
            2.2001569,
            2.1948002,
            2.1885055,
            2.124329,
            2.1326911,
            2.1543317,
            2.1564253,
            2.1606736,
            2.1656378,
            2.1640965,
            2.1443777,
            2.1718497,
            2.1557747,
            2.1524953,
            2.1492066,
            2.1420204,
            2.1447518,
            2.1421504,
            2.1402433,
            2.1360313,
            2.174799,
            2.150523,
            2.1652199,
            2.1401823,
            2.1751709,
            2.1658677,
            2.1913753,
            2.2010422,
            2.1874539,
            2.1154135,
            2.1378667,
            2.1808391,
            2.1801142,
            2.1801094,
            2.1696744,
            2.1689592,
            2.1764275,
            2.1707419,
            2.1727457,
            2.2122054,
            2.17871,
            2.1925059,
            2.1894852,
            2.1923283,
            2.1521802,
            2.1331357,
            2.1368202,
            2.1821917,
            2.181845,
            2.1879597,
            2.1332694,
            2.1934636,
            2.1993105,
            2.1968267,
            2.1702467,
            2.1631263,
            2.1976297,
            2.1646697,
            2.2039823,
            2.1925198,
            2.1830315,
            2.1826833,
            2.1684799,
            2.20934,
            2.2150487,
            2.2061691,
            2.1949461,
            2.1997869,
            2.1860256,
            2.1884228,
            2.154004,
            2.1554047,
            2.1542277,
            2.138599,
            2.1748621,
            2.1398409,
            2.1328403,
            2.1754896,
            2.1450958,
            2.1433038,
            2.112186,
            2.1269152,
            2.1168609,
            2.1170751,
            2.122175,
            2.113096,
            2.1091535,
            2.1960799,
            2.1680021,
            2.1976864,
            2.1592566,
            2.1707321,
            2.1910691,
            2.1408633,
            2.1450491,
            2.1473272,
            2.1499102,
            2.1601641,
            2.1594741,
            2.150878,
            2.150342,
            2.1507739,
            2.1482099,
            2.1629349,
            2.1592394,
            2.1571646,
            2.1520645,
            2.1544371248114,
            2.1490553,
            2.1599078,
            2.1634768,
            2.1634306,
            2.1773214,
            2.1532163,
            2.1429115,
            2.1432105,
            2.1563542,
            2.1586273,
            2.1629146,
            2.1606506,
            2.141539,
            2.1443579,
            2.143411,
            2.1422174,
            2.2016699,
            2.16113608,
            2.1959771,
            2.1907524,
            2.1822815,
            2.194735,
            2.1878126,
            2.16673522491668,
            2.1663172,
            2.1785364,
            2.1765126,
            2.1825085,
            2.1874966,
            2.1951871,
            2.1972309,
            2.184171,
            2.1740082,
            2.1646742,
            2.157233,
            2.1546746,
            2.155089,
            2.1476308,
            2.1649035,
            2.1531031,
            2.1622548,
            2.1735975,
            2.1872438,
            2.1884487,
            2.1914756,
            2.1572953,
            2.1454802,
            2.1696543,
            2.169941,
            2.1706498,
            2.1646338,
            2.1820722,
            2.1681961,
            2.1788855,
            2.1717397,
            2.175767,
            2.1740575,
            2.1757334,
            2.1707947,
            2.1740472,
            2.1866517,
            2.1829894,
            2.16890319787512,
            2.1951871,
            2.1946255,
            2.1933482,
            2.1436235,
            2.184922,
            2.183489,
            2.18329,
            2.1805685,
            2.1801763,
            2.1812483,
            2.1813305,
            2.1771985,
            2.1801069,
            2.185085,
            2.2060317,
            2.1889045,
            2.19067,
            2.1690686,
            2.169427,
            2.168819,
            2.166797,
            2.164035,
            2.16712,
            2.176757,
            2.1758261,
            2.1735007,
            2.174016,
            2.177292,
            2.1692556,
            2.1709386,
            2.188928,
            2.1965766,
            2.1904003,
            2.1930099,
            2.189476,
            2.1871575,
            2.1874404,
            2.189881,
            2.189906,
            2.187093,
            2.186576,
            2.181903,
            2.1766834,
            2.2206913,
            2.1753364,
            2.1871959,
            2.192042,
            2.1678388,
            2.1987258,
            2.16400285,
            2.1517977,
            2.1569161,
            2.1558354,
            2.1586704,
            2.1609345,
            2.1510385,
            2.1644531,
            2.1598243,
            2.1574439,
            2.1524704,
            2.1513154,
            2.1471724,
            2.1709545,
            2.183145,
            2.1445567,
            2.1380304,
            2.1334873,
            2.1345892,
            2.1309272,
            2.1902116,
            2.1422556,
            2.1610515,
            2.1390667,
            2.136579,
            2.1328634,
            2.1306737,
            2.1256248,
            2.1440826,
            2.1285766,
            2.1667829,
            2.1658972,
            2.1930174,
            2.1516210083712,
            2.1606534,
            2.1920873,
            2.1858025,
            2.1928992,
            2.1896502,
            2.1894423,
            2.1857498,
            2.190246,
            2.1922011,
            2.1932159,
            2.1852073,
            2.1629627,
            2.191206,
            2.1904005,
            2.1849107,
            2.1866363,
            2.1717083,
            2.1786224,
            2.1812399,
            2.1773157,
            2.18018,
            2.1877153,
            2.1844769,
            2.1908473,
            2.1539198,
            2.1523091,
            2.1872818,
            2.1288753,
            2.1970692,
            2.1344218,
            2.1778852,
            2.2008756,
            2.2084257,
            2.1965965,
            2.2163136,
            2.2183313,
            2.2177652,
            2.2088179,
            2.2074469,
            2.2017694,
            2.20077,
            2.1974184,
            2.1969105,
            2.2041415,
            2.203028,
            2.1633139,
            2.2124993,
            2.207186,
            2.2024461,
            2.1977119,
            2.1956161,
            2.1924144,
            2.1954152,
            2.1559939,
            2.2058133,
            2.2058345,
            2.2008139,
            2.2017955,
            2.192952,
            2.206645,
            2.1972673,
            2.2135818,
            2.1312876,
            2.1268625,
            2.1334379,
            2.1410945,
            2.1392662,
            2.1354149,
            2.1323612,
            2.2105777,
            2.1335494,
            2.2078439,
            2.1661852,
            2.1358571,
            2.1698206,
            2.1439036,
            2.1289917,
            2.1342316,
            2.1389439,
            2.1999572,
            2.2037136,
            2.2088454,
            2.2091221,
            2.2119049,
            2.2099336,
            2.2162094,
            2.1369015,
            2.1388216,
            2.1439304,
            2.1419494,
            2.1809764
           ],
           "marker": {
            "color": [
             27,
             21,
             33,
             28,
             16,
             26,
             30,
             21,
             27,
             31,
             28,
             33,
             31,
             33,
             32,
             32,
             35,
             32,
             27,
             27,
             27,
             27,
             24,
             26,
             35,
             35,
             23,
             27,
             27,
             26,
             27,
             27,
             27,
             30,
             27,
             26,
             24,
             27,
             41,
             24,
             21,
             21,
             29,
             39,
             39,
             32,
             29,
             27,
             25,
             36,
             27,
             27,
             32,
             18,
             31,
             18,
             33,
             32,
             24,
             32,
             33,
             30,
             32,
             27,
             27,
             27,
             24,
             24,
             12,
             27,
             16,
             27,
             32,
             16,
             15,
             15,
             27,
             20,
             27,
             27,
             24,
             27,
             27,
             27,
             27,
             32,
             32,
             36,
             27,
             21,
             27,
             23,
             27,
             24,
             27,
             33,
             24,
             33,
             24,
             32,
             23,
             27,
             26,
             24,
             26,
             27,
             31,
             32,
             26,
             26,
             27,
             24,
             29,
             36,
             24,
             27,
             22,
             27,
             32,
             31,
             27,
             26,
             27,
             32,
             27,
             18,
             27,
             26,
             25,
             24,
             19,
             27,
             28,
             27,
             27,
             21,
             24,
             27,
             28,
             18,
             30,
             26,
             18,
             19,
             27,
             24,
             24,
             24,
             24,
             18,
             18,
             20,
             30,
             27,
             24,
             24,
             28,
             28,
             15,
             31,
             27,
             27,
             27,
             27,
             27,
             20,
             21,
             24,
             18,
             28,
             27,
             20,
             27,
             28,
             27,
             24,
             50,
             15,
             28,
             30,
             19,
             16,
             27,
             27,
             26,
             27,
             18,
             21,
             24,
             24,
             24,
             27,
             27,
             24,
             20,
             28,
             25,
             32,
             27,
             32,
             27,
             24,
             33,
             32,
             27,
             24,
             37,
             27,
             32,
             39,
             26,
             32,
             22,
             31,
             24,
             44,
             27,
             35,
             27,
             32,
             33,
             27,
             31,
             33,
             18,
             27,
             33,
             22,
             27,
             53,
             24,
             27,
             27,
             27,
             27,
             15,
             24,
             27,
             32,
             18,
             24,
             18,
             18,
             27,
             36,
             19,
             27,
             26,
             30,
             28,
             20,
             28,
             28,
             27,
             26,
             27,
             27,
             19,
             20,
             21,
             21,
             33,
             48,
             18,
             35,
             18,
             27,
             20,
             25,
             27,
             40,
             27,
             23,
             39,
             21,
             21,
             23,
             27,
             24,
             32,
             21,
             15,
             27,
             27,
             21,
             27,
             21,
             22,
             24,
             24,
             24,
             23,
             43,
             27,
             23,
             21,
             31,
             21,
             25,
             21,
             21,
             39,
             27,
             43,
             21,
             21,
             20,
             33,
             20,
             19,
             21,
             23,
             21,
             20,
             20,
             21,
             26,
             21,
             27,
             27,
             24,
             21,
             22,
             23,
             21,
             18,
             21,
             30,
             27,
             19,
             21,
             18,
             30,
             27,
             42,
             29,
             27,
             54,
             25,
             35,
             42,
             27,
             27,
             27,
             39,
             39,
             21,
             27,
             29,
             46,
             27,
             27,
             18,
             21,
             21,
             27,
             25,
             20,
             27,
             43,
             24,
             27,
             18,
             21,
             31,
             20,
             18,
             15,
             21,
             47,
             54,
             27,
             13,
             27,
             23,
             25,
             18,
             44,
             24,
             21,
             43,
             21,
             21,
             27,
             16,
             21,
             24,
             26,
             28,
             21,
             18,
             27,
             23,
             26,
             36,
             27,
             24,
             27,
             26,
             27,
             39,
             27,
             21,
             25,
             33,
             24,
             28,
             31,
             26,
             32,
             25,
             33,
             33,
             33,
             27,
             33,
             27,
             31,
             16,
             24,
             32,
             27,
             24,
             27,
             24,
             31,
             18,
             26,
             27,
             31,
             33,
             27,
             27,
             27,
             32,
             18,
             27,
             27,
             27,
             27,
             33,
             27,
             26,
             27,
             27,
             26,
             27,
             27,
             31,
             24,
             27,
             27,
             27,
             27,
             32,
             27,
             33,
             27,
             32,
             32,
             23,
             27,
             27,
             27,
             27,
             27,
             33,
             24,
             27,
             27,
             25,
             32,
             32,
             27,
             35,
             21,
             25,
             31,
             27,
             27,
             21,
             27,
             24,
             27,
             27,
             27,
             27,
             27,
             24,
             21,
             21,
             28,
             28,
             27,
             19,
             26,
             27,
             27,
             17,
             54,
             54,
             27,
             27,
             31,
             27,
             27,
             15,
             51,
             32,
             31,
             34
            ],
            "coloraxis": "coloraxis"
           },
           "mode": "markers",
           "name": "",
           "showlegend": false,
           "subplot": "mapbox",
           "type": "scattermapbox"
          }
         ],
         "layout": {
          "title": {
           "text": "Total Stations: 511 Total Bikes: 13726 in  2022"
          }
         },
         "name": "2022"
        },
        {
         "data": [
          {
           "customdata": [
            [
             "PG. DE L´EXPOSICIÓ, 30 /BLASCO GARAY",
             8004,
             27,
             31
            ],
            [
             "PL. ANTONIO LÓPEZ (CORREUS, VIA LAIETANA)",
             8002,
             23,
             4
            ],
            [
             "TALLER R. BARRADAS",
             8908,
             15,
             1
            ],
            [
             "C/ VILLARROEL, 208",
             8036,
             31,
             43
            ],
            [
             "C/ ALTS FORNS, 77",
             8038,
             32,
             9
            ],
            [
             "JARDINS DE CAN FERRERO/PG.DE LA ZONA FRANCA",
             8038,
             33,
             7
            ],
            [
             "C/ DE L'ENERGIA, 2 / ALTS FORNS",
             8038,
             33,
             7
            ],
            [
             "C/ JANE ADDAMS, 26/ CRTA. DEL PRAT",
             8038,
             33,
             9
            ],
            [
             "C/ CARDENER, 59",
             8024,
             27,
             87
            ],
            [
             "C/ MUNNÉ  2-6",
             8028,
             31,
             34
            ],
            [
             "RAMBLA DEL BRASIL, 5",
             8028,
             27,
             28
            ],
            [
             "C/ RIERA BLANCA, 123",
             8028,
             27,
             22
            ],
            [
             "C/ CAMÈLIES, 73",
             8024,
             27,
             106
            ],
            [
             "C/RADI,10/GRAN VIA DE LES CORTS CATALANES",
             8038,
             28,
             9
            ],
            [
             "PG. ZONA FRANCA, 182",
             8038,
             35,
             8
            ],
            [
             "C/ CASTELLNOU, 65",
             8017,
             31,
             95
            ],
            [
             "C/ CIUTAT D'ASUNCIÓN, 73 / POTOSÍ",
             8030,
             27,
             16
            ],
            [
             "CAMPANA DE LA MAQUINISTA (SAO PAULO I PL. DE",
             8030,
             27,
             14
            ],
            [
             "C/ ROC BORONAT, 134",
             8018,
             27,
             5
            ],
            [
             "PG. D'ENRIC SANCHIS, 33",
             8030,
             26,
             11
            ],
            [
             "C/ SANT ADRIÀ, 113",
             8030,
             23,
             13
            ],
            [
             "C/ RAMON TURRÓ, 246",
             8005,
             27,
             2
            ],
            [
             "AV. JOSEP VICENÇ FOIX, 63",
             8034,
             36,
             111
            ],
            [
             "C/ CARME KARR, 12-14",
             8034,
             23,
             117
            ],
            [
             "C/ CAPONATA, 20",
             8034,
             27,
             101
            ],
            [
             "C/ SANTA AMÈLIA, 2",
             8034,
             27,
             92
            ],
            [
             "PG. BONANOVA, 100",
             8017,
             26,
             117
            ],
            [
             "PASSATGE DE SENILLOSA, 3-5",
             8034,
             27,
             94
            ],
            [
             "C/ DOCTOR ROUX, 86",
             8017,
             27,
             104
            ],
            [
             "C/ GOMBAU, 24",
             8003,
             25,
             5
            ],
            [
             "PL. TERESA DE CLARAMUNT/C/ DELS FERROCARILS",
             8038,
             31,
             10
            ],
            [
             "C/ MÉNDEZ NÚÑEZ, 16",
             8003,
             26,
             12
            ],
            [
             "PG. DE GRÀCIA, 89",
             8008,
             33,
             37
            ],
            [
             "PG. DE COLOM (LES RAMBLES)",
             8039,
             33,
             5
            ],
            [
             "C/ PAU ALCOVER, 94",
             8017,
             27,
             108
            ],
            [
             "RECINTE PARC DE LA CIUTADELLA",
             8003,
             27,
             4
            ],
            [
             "C/ RIERA ALTA, 6",
             8001,
             34,
             10
            ],
            [
             "C/ NÀPOLS, 125",
             8013,
             32,
             15
            ],
            [
             "AV. PARAL.LEL 164",
             8015,
             18,
             17
            ],
            [
             "C/ CASANOVA, 119",
             8036,
             30,
             30
            ],
            [
             "C/ VILAMARÍ, 85",
             8015,
             26,
             28
            ],
            [
             "C/ NUMÀNCIA, 2",
             8029,
             24,
             32
            ],
            [
             "C/ LOPE DE VEGA, 79",
             8005,
             27,
             3
            ],
            [
             "C/ AGUSTÍ DURAN I SANPERE, 10",
             8001,
             41,
             10
            ],
            [
             "C/ DURAN I BAS, 2",
             8002,
             24,
             11
            ],
            [
             "AV. JOSEP TARRADELLAS, 27",
             8029,
             21,
             35
            ],
            [
             "PL. JOAQUIM XIRAU I PALAU, 1",
             8002,
             21,
             5
            ],
            [
             "C/ BAILÉN, 62",
             8009,
             30,
             22
            ],
            [
             "PL. ICTÍNEO",
             8039,
             29,
             2
            ],
            [
             "WORLD TRADE CENTER",
             8039,
             39,
             3
            ],
            [
             "AV. PARAL.LEL, 132",
             8015,
             30,
             13
            ],
            [
             "C/ RIBES, 77",
             8013,
             25,
             9
            ],
            [
             "C/ DELS ENAMORATS, 49",
             8013,
             36,
             19
            ],
            [
             "C/ SARDENYA, 326",
             8025,
             32,
             37
            ],
            [
             "C/ CONSELL DE CENT, 482",
             8013,
             27,
             23
            ],
            [
             "C/ DIPUTACIÓ, 373",
             8013,
             27,
             21
            ],
            [
             "C/ MARQUÈS DE SENTMENAT, 46",
             8029,
             32,
             44
            ],
            [
             "LA RAMBLA, 75",
             8001,
             18,
             8
            ],
            [
             "C/ VILADOMAT, 244",
             8029,
             31,
             39
            ],
            [
             "PG. DE GRÀCIA, 61",
             8007,
             33,
             32
            ],
            [
             "C/ BRUC, 20",
             8010,
             24,
             16
            ],
            [
             "C/ BAILÉN, 100",
             8009,
             32,
             27
            ],
            [
             "WORLD  TRADE CENTER",
             8039,
             39,
             3
            ],
            [
             "C/ DE LES ESCOLES PIES, 99",
             8017,
             27,
             121
            ],
            [
             "C/ TURÓ BLAU, 1-3",
             8016,
             24,
             62
            ],
            [
             "C/ REUS, 23",
             8022,
             24,
             114
            ],
            [
             "SEU DEL DISTRICTE (NOU BARRIS)",
             8042,
             24,
             72
            ],
            [
             "C/ GRANOLLERS, 1",
             8032,
             24,
             78
            ],
            [
             "C/ AMILCAR, 1",
             8031,
             12,
             61
            ],
            [
             "C/ CUBELLES, 2",
             8031,
             27,
             57
            ],
            [
             "PL. DELS JARDINS D'ALFÀBIA, 1",
             8016,
             17,
             66
            ],
            [
             "C/ MÚRCIA, 64",
             8027,
             27,
             17
            ],
            [
             "PL. VIRREI AMAT",
             8016,
             31,
             55
            ],
            [
             "GRAN VIA DE LES CORTS CATALANES, 632",
             8007,
             16,
             22
            ],
            [
             "C/ BOLÍVIA, 76",
             8018,
             15,
             7
            ],
            [
             "C/ MALATS, 98-100",
             8030,
             15,
             35
            ],
            [
             "AV. DIAGONAL, 652",
             8034,
             27,
             63
            ],
            [
             "C/ FULTON, 1",
             8032,
             20,
             76
            ],
            [
             "PG. FONT D´EN- FARGAS, 1",
             8031,
             27,
             75
            ],
            [
             "C/ SANT ISCLE, 60",
             8031,
             27,
             61
            ],
            [
             "C/ D'ESCORNALBOU, 51",
             8041,
             24,
             74
            ],
            [
             "C/ MAS CASANOVAS, 137",
             8041,
             27,
             75
            ],
            [
             "TRAVESSERA DE GRÀCIA, 368",
             8025,
             27,
             59
            ],
            [
             "TRAVESSERA DE GRÀCIA, 328",
             8025,
             27,
             60
            ],
            [
             "PLAÇA ALFONS X EL SAVI / RONDA DEL GUINARDO",
             8024,
             27,
             88
            ],
            [
             "AV. RIO DE JANEIRO, 3",
             8016,
             32,
             38
            ],
            [
             "RAMBLA FABRA I PUIG, 67",
             8030,
             32,
             33
            ],
            [
             "AV. MERIDIANA, 404",
             8030,
             36,
             38
            ],
            [
             "C/ CONCEPCIÓ ARENAL, 281",
             8033,
             27,
             32
            ],
            [
             "VIA BARCINO, 69",
             8033,
             21,
             28
            ],
            [
             "270 - CRTA. DE RIBES, 77 (TRINITAT VELLA)",
             8033,
             27,
             35
            ],
            [
             "VIA BARCINO, 121",
             8033,
             23,
             26
            ],
            [
             "C/ FERNANDO PESSOA, 72",
             8030,
             27,
             26
            ],
            [
             "PG. TORRAS I BAGES, 129",
             8030,
             24,
             29
            ],
            [
             "C/ SANT ANTONI Mª CLARET, 290-296",
             8041,
             27,
             49
            ],
            [
             "C/ ARTESA DE SEGRE, 2",
             8022,
             26,
             106
            ],
            [
             "C/ DE ROSSELLÓ I PORCEL, 1/AV.MERIDIANA",
             8016,
             33,
             41
            ],
            [
             "C/ ANDREU NIN, 22",
             8016,
             33,
             41
            ],
            [
             "C/ BALMES, 409",
             8022,
             32,
             111
            ],
            [
             "C/ ALT DE GIRONELLA, 13",
             8017,
             23,
             82
            ],
            [
             "C/ REINA VICTORIA, 31",
             8021,
             27,
             80
            ],
            [
             "C/ VALLMAJOR, 13",
             8021,
             26,
             88
            ],
            [
             "C/ SANTALÓ, 165",
             8021,
             24,
             106
            ],
            [
             "C/ SANT HERMENEGILD, 30",
             8006,
             27,
             79
            ],
            [
             "C/ MADRAZO, 39",
             8006,
             27,
             67
            ],
            [
             "C/ SAGUÉS, 1",
             8021,
             31,
             51
            ],
            [
             "C/ CASTILLEJOS, 388",
             8025,
             32,
             77
            ],
            [
             "RAMBLA DE PRIM, 256",
             8020,
             27,
             11
            ],
            [
             "C/ CANTÀBRIA, 55",
             8020,
             26,
             9
            ],
            [
             "C/ DEL GUINARDÓ, 32-38",
             8041,
             27,
             38
            ],
            [
             "RAMBLA DEL BRASIL, 44",
             8028,
             24,
             35
            ],
            [
             "C/ COMERÇ, 36",
             8003,
             25,
             5
            ],
            [
             "C/ FELIU DE CASANOVA, 1",
             8028,
             27,
             28
            ],
            [
             "C/ GALLEGO, 2",
             8028,
             23,
             43
            ],
            [
             "C/ JOSEP SAMITIER / JOAN XXIII",
             8028,
             27,
             46
            ],
            [
             "C/ SANT RAMON NONAT,  26",
             8028,
             22,
             50
            ],
            [
             "C/ CARDENAL REIG, 11",
             8028,
             27,
             54
            ],
            [
             "C/ PINTOR RIBALTA / AV. XILE",
             8028,
             31,
             60
            ],
            [
             "C/ DOCTOR SALVADOR CARDENAL, 1-5",
             8028,
             30,
             60
            ],
            [
             "AV. DIAGONAL, 680",
             8034,
             27,
             65
            ],
            [
             "PG. MANUEL GIRONA, 7",
             8034,
             27,
             78
            ],
            [
             "C/ CAVALLERS, 67",
             8034,
             27,
             101
            ],
            [
             "C/ CAVALLERS, 41",
             8034,
             32,
             111
            ],
            [
             "C/ MARIE CURIE, 8-14",
             8042,
             27,
             73
            ],
            [
             "C/ DE MALADETA, 1",
             8016,
             18,
             44
            ],
            [
             "C/ DE L'ESCULTOR ORDÓÑEZ, 55",
             8016,
             27,
             53
            ],
            [
             "C/ ARIZALA, 77",
             8028,
             36,
             40
            ],
            [
             "C/ CONCEPCIÓ ARENAL, 176",
             8027,
             26,
             37
            ],
            [
             "C/ LLOBREGÓS, 115",
             8032,
             27,
             112
            ],
            [
             "C/ LLACUNA, 86",
             8005,
             32,
             3
            ],
            [
             "C/ LISBOA, 128",
             8032,
             27,
             98
            ],
            [
             "C/ PORTO, 35 | AV. ESTATUT DE CATALUNYA",
             8032,
             28,
             81
            ],
            [
             "PG. VALLDAURA, 26",
             8031,
             27,
             121
            ],
            [
             "C/ EDUARD TODA, 33 | C/ DOCTOR LETAMENDI",
             8031,
             27,
             104
            ],
            [
             "C/ LISBOA, 1",
             8032,
             29,
             79
            ],
            [
             "PG. UNIVERSAL, 29 | C/ DOCTOR LETAMENDI",
             8042,
             20,
             95
            ],
            [
             "PG. FABRA I PUIG, 411",
             8031,
             27,
             89
            ],
            [
             "PG. FABRA I PUIG, 385",
             8031,
             26,
             92
            ],
            [
             "PG. FABRA I PUIG, 344",
             8031,
             18,
             73
            ],
            [
             "C/ ESCULTOR LLIMONA, 7",
             8031,
             30,
             65
            ],
            [
             "C/ AMILCAR, 78",
             8032,
             26,
             69
            ],
            [
             "C/ PERIODISTES, 9",
             8032,
             18,
             80
            ],
            [
             "C/ CAMPO FLORIDO, 66",
             8027,
             19,
             46
            ],
            [
             "AV. CAN MARCET, 36",
             8035,
             27,
             132
            ],
            [
             "VIA FAVÈNCIA, 47",
             8042,
             24,
             102
            ],
            [
             "VIA FAVÈNCIA, 186",
             8042,
             24,
             105
            ],
            [
             "PG. VALLDAURA, 171",
             8042,
             24,
             78
            ],
            [
             "C/ GÒNGORA, 23",
             8042,
             24,
             93
            ],
            [
             "C/ SANT FRANCESC XAVIER, 1",
             8016,
             18,
             72
            ],
            [
             "C/ NOU BARRIS, 23",
             8042,
             18,
             107
            ],
            [
             "PL. JESÚS CARRASCO",
             8042,
             20,
             93
            ],
            [
             "C/ PABLO IGLESIAS, 21",
             8016,
             30,
             63
            ],
            [
             "C/ ROSSELLÓ, 261",
             8008,
             27,
             41
            ],
            [
             "AV. RIO DE JANEIRO, 96",
             8016,
             24,
             47
            ],
            [
             "C/ PEDROSA, 24",
             8033,
             24,
             68
            ],
            [
             "C/ PALAMÓS, 33",
             8033,
             28,
             61
            ],
            [
             "AV. RIO DE JANEIRO, 118",
             8016,
             28,
             43
            ],
            [
             "C/ MIREIA, 28",
             8033,
             15,
             56
            ],
            [
             "PG. FABRA I PUIG, 449",
             8042,
             31,
             94
            ],
            [
             "PG. SANTA COLOMA, 105",
             8030,
             39,
             24
            ],
            [
             "C/ JORGE MANRIQUE, 15",
             8035,
             27,
             119
            ],
            [
             "C/ PARE MARIANA, 24",
             8035,
             27,
             125
            ],
            [
             "C/ PEDRELL, 52",
             8032,
             24,
             110
            ],
            [
             "C/ CASANOVA, 55",
             8011,
             27,
             23
            ],
            [
             "AV. RASOS DE PEGUERA, 10",
             8033,
             20,
             44
            ],
            [
             "C/ SANT ADRIÀ, 88",
             8030,
             21,
             15
            ],
            [
             "C/ SANT ADRIÀ, 43",
             8030,
             24,
             19
            ],
            [
             "C/ ARAGÓ, 614",
             8018,
             18,
             16
            ],
            [
             "VIA AUGUSTA, 317",
             8017,
             28,
             111
            ],
            [
             "C/ D'ALACANT, 12",
             8017,
             27,
             96
            ],
            [
             "C/ GRAN DE GRÀCIA, 91",
             8012,
             20,
             61
            ],
            [
             "C/ GRAN DE GRÀCIA, 37",
             8012,
             27,
             55
            ],
            [
             "C/ TORRENT DE L'OLLA, 11",
             8012,
             28,
             46
            ],
            [
             "C/ SARDENYA, 465",
             8025,
             27,
             70
            ],
            [
             "C/ SARDENYA, 494",
             8024,
             24,
             81
            ],
            [
             "PG. VALL D'HEBRÓN, 168",
             8035,
             50,
             150
            ],
            [
             "C/ GARRIGA I ROCA, 2",
             8041,
             15,
             107
            ],
            [
             "C/ MASSENS, 76",
             8024,
             28,
             87
            ],
            [
             "C/ MAIGNON, 31-41",
             8024,
             30,
             105
            ],
            [
             "AV. VALLCARCA, 11",
             8023,
             19,
             88
            ],
            [
             "C/ ELISA, 1",
             8023,
             15,
             95
            ],
            [
             "C/ ARGENTERA, 23",
             8023,
             23,
             101
            ],
            [
             "AV. VALLCARCA, 196",
             8023,
             27,
             127
            ],
            [
             "C/ ESTEVE TERRADAS, 42",
             8023,
             26,
             145
            ],
            [
             "PTGE. MALUQUER, 16",
             8022,
             27,
             124
            ],
            [
             "C/ PROVENÇA, 445",
             8025,
             18,
             33
            ],
            [
             "C/ DIPUTACIÓ, 22",
             8015,
             21,
             24
            ],
            [
             "RAMBLA CATALUNYA/DIPUTACIO",
             8007,
             24,
             25
            ],
            [
             "PG. VALL D'HEBRÓN, 80",
             8023,
             24,
             166
            ],
            [
             "PL. TETUAN",
             8010,
             23,
             18
            ],
            [
             "C/ CAMÈLIES, 78",
             8024,
             26,
             118
            ],
            [
             "C/ RAMON TURRÓ, 4",
             8005,
             19,
             5
            ],
            [
             "C/ TUCUMÁN, 21",
             8030,
             24,
             17
            ],
            [
             "C/ MÚRCIA, 1",
             8026,
             20,
             22
            ],
            [
             "C/ JORDI GIRONA, 29",
             8034,
             28,
             82
            ],
            [
             "C/ VALLESPIR, 13",
             8014,
             25,
             30
            ],
            [
             "GRAN VIA DE LES CORTS CATALANES, 368",
             8010,
             27,
             24
            ],
            [
             "PG. DE LLUIS COMPANYS (ARC DE TRIOMF)",
             8018,
             33,
             10
            ],
            [
             "PG. DE LLUíS COMPANYS (ARC DE TRIOMF)",
             8018,
             27,
             10
            ],
            [
             "C/ VILLAR, 2",
             8041,
             32,
             46
            ],
            [
             "RAMBLA DEL RAVAL, 20",
             8001,
             27,
             6
            ],
            [
             "RAMBLA DEL RAVAL, 13",
             8001,
             25,
             8
            ],
            [
             "C/ CASP, 67",
             8010,
             33,
             16
            ],
            [
             "C/ BRUC, 66",
             8009,
             32,
             24
            ],
            [
             "PL. URQUINAONA, 3",
             8010,
             27,
             17
            ],
            [
             "C/ JOSEP PLA, 67",
             8019,
             24,
             4
            ],
            [
             "PG.DE COLOM (LES RAMBLES)",
             8039,
             38,
             5
            ],
            [
             "C/ HONDURAS, 32-34",
             8027,
             32,
             22
            ],
            [
             "C/ JOAN D'ÀUSTRIA, 31B",
             8005,
             27,
             5
            ],
            [
             "GRAN VIA DE LES CORTS CATALANES, 592",
             8007,
             33,
             21
            ],
            [
             "C/ COMTE BORRELL, 198",
             8029,
             26,
             28
            ],
            [
             "C/ JUAN GRIS, 28",
             8014,
             32,
             11
            ],
            [
             "C/ VALLESPIR, 49",
             8014,
             22,
             32
            ],
            [
             "PG. DE COLOM (VIA LAIETANA)",
             8002,
             31,
             4
            ],
            [
             "PLA DE PALAU",
             8002,
             24,
             4
            ],
            [
             "MOLL ORIENTAL",
             8039,
             44,
             3
            ],
            [
             "C/ PAVIA, 3",
             8028,
             27,
             23
            ],
            [
             "PG. MARÍTIM DE LA BARCELONETA/ANDREA DÒRIA",
             8003,
             35,
             4
            ],
            [
             "AV. LITORAL (PG MARÍTIM DEL PORT OLÍMPIC)",
             8005,
             27,
             6
            ],
            [
             "C/ JOAN MIRÓ, 2-12",
             8005,
             32,
             5
            ],
            [
             "PL. CATALUNYA, 22",
             8002,
             32,
             15
            ],
            [
             "C/ DIPUTACIÓ, 226",
             8007,
             27,
             25
            ],
            [
             "C/ RAMON TRIAS FARGAS, 23",
             8005,
             38,
             5
            ],
            [
             "C/ GRANADELLA, 10-19 | C/ SAS",
             8030,
             18,
             12
            ],
            [
             "PG. MARÍTIM DE LA BARCELONETA",
             8003,
             27,
             7
            ],
            [
             "C/ DE RIBES, 59 B",
             8013,
             32,
             12
            ],
            [
             "C/ PROVENÇA, 595",
             8026,
             22,
             27
            ],
            [
             "C/ SARDENYA, 402",
             8025,
             27,
             56
            ],
            [
             "GRAN VIA DE LES CORTS CATALANES, 1157 (D)",
             8020,
             54,
             8
            ],
            [
             "C/ PALLARS, 504",
             8019,
             24,
             4
            ],
            [
             "C/ CRISTOBAL DE MOURA, 84",
             8019,
             27,
             3
            ],
            [
             "C/ BOLIVIA, 120",
             8018,
             27,
             5
            ],
            [
             "C/ RAMÓN TURRÓ, 160",
             8005,
             27,
             3
            ],
            [
             "C/ ALMOGÀVERS, 63",
             8018,
             27,
             10
            ],
            [
             "PG. JOAN DE BORBÓ, 42",
             8003,
             15,
             4
            ],
            [
             "C/ VILAMARÍ, 2",
             8015,
             24,
             21
            ],
            [
             "C/ LLEIDA, 40",
             8004,
             27,
             33
            ],
            [
             "C/ CASANOVA, 139",
             8036,
             32,
             33
            ],
            [
             "C/ MINERIA, 30",
             8038,
             18,
             11
            ],
            [
             "C/ DE CERVELLÓ, 5",
             8001,
             24,
             5
            ],
            [
             "C/ WATT, 2",
             8014,
             18,
             25
            ],
            [
             "RBLA. BADAL, 73 | C/ CONSTITUCIÓ",
             8014,
             18,
             14
            ],
            [
             "C/ NÀPOLS, 183",
             8013,
             27,
             22
            ],
            [
             "PG. ZONA FRANCA, 9",
             8038,
             36,
             5
            ],
            [
             "PG. ZONA FRANCA, 54",
             8038,
             19,
             6
            ],
            [
             "AV. DOCTOR MARAÑON, 25 | C/ PAU GARGALLO",
             8028,
             28,
             64
            ],
            [
             "C/ ROGER, 24",
             8028,
             27,
             34
            ],
            [
             "C/ JOHN MAYNARD KEYNES, 2 | AV. DIAGONAL",
             8034,
             42,
             70
            ],
            [
             "C/ MARTÍ I FRANQUÈS, 1",
             8028,
             28,
             63
            ],
            [
             "AV. JOAN XXIII, 17",
             8028,
             20,
             53
            ],
            [
             "C/ ALFAMBRA, 2 | AV. DIAGONAL",
             8034,
             28,
             77
            ],
            [
             "C/ GRAN CAPITÀ, 9",
             8034,
             28,
             105
            ],
            [
             "C/ PUJADES, 103",
             8005,
             27,
             3
            ],
            [
             "C/ DE SANT PAU, 119/ RONDA SANT PAU",
             8001,
             26,
             9
            ],
            [
             "C/ SELVA DE MAR, 230",
             8020,
             27,
             9
            ],
            [
             "C/REPÚBLICA DOMINICANA,25(CENTRE COMERCIAL)",
             8030,
             33,
             20
            ],
            [
             "C/ GRAN DE LA SAGRERA, 74",
             8027,
             26,
             22
            ],
            [
             "C/ ENTENÇA, 70",
             8015,
             24,
             21
            ],
            [
             "C/ TARRAGONA, 141",
             8014,
             21,
             29
            ],
            [
             "GRAN VIA DE LES CORTS CATALANES, 368",
             8010,
             21,
             24
            ],
            [
             "C/ TARRAGONA, 103-115",
             8014,
             33,
             28
            ],
            [
             "GRAN  VIA DE LES CORTS CATALANES, 375-385",
             8015,
             48,
             26
            ],
            [
             "C / PROVENÇA, 241",
             8008,
             18,
             37
            ],
            [
             "C/ COMTE D'URGELL, 43",
             8011,
             35,
             16
            ],
            [
             "C/ ROSSELLÓ, 108-110",
             8036,
             17,
             36
            ],
            [
             "C/ ROSSELLÓ,  101",
             8036,
             27,
             36
            ],
            [
             "C/ LONDRES, 101-103",
             8036,
             20,
             45
            ],
            [
             "C/ ROCAFORT, 187",
             8029,
             25,
             29
            ],
            [
             "C/ VILADOMAT,  2",
             8015,
             27,
             12
            ],
            [
             "AV. PARAL·LEL, 146 BIS",
             8015,
             40,
             15
            ],
            [
             "C/ DEL COMTE D'URGELL, 75 B",
             8011,
             27,
             20
            ],
            [
             "C/ VIRIAT, 43",
             8014,
             21,
             31
            ],
            [
             "C/ CALABRIA, 158",
             8015,
             23,
             25
            ],
            [
             "C/ VILAMARÍ,  61",
             8015,
             21,
             24
            ],
            [
             "C/ ENRIC  GRANADOS, 35",
             8007,
             21,
             31
            ],
            [
             "PL. UNIVERSITAT",
             8007,
             24,
             21
            ],
            [
             "PL. UNIVERSITAT /  ARIBAU",
             8011,
             27,
             21
            ],
            [
             "AV. FRANCESC CAMBÓ, 10",
             8003,
             24,
             8
            ],
            [
             "C/ CÒRSEGA, 216",
             8036,
             32,
             40
            ],
            [
             "AV. JOSEP TARRADELLAS, 58",
             8029,
             21,
             40
            ],
            [
             "AV. JOSEP TARRADELLAS, 133",
             8029,
             15,
             47
            ],
            [
             "C/ ENRIC GRANADOS, 93",
             8008,
             27,
             39
            ],
            [
             "C/ PROVENÇA, 215",
             8008,
             27,
             37
            ],
            [
             "C/ FLORIDABLANCA, 145",
             8011,
             21,
             16
            ],
            [
             "C/ COMTE URGELL, 23",
             8011,
             27,
             15
            ],
            [
             "CARRER DE LA MARINA,25-33",
             8005,
             43,
             7
            ],
            [
             "C/ CALÀBRIA, 112",
             8015,
             40,
             20
            ],
            [
             "PG. TORRAS I BAGES, 29",
             8030,
             20,
             23
            ],
            [
             "C/ VIRIAT,  53",
             8014,
             21,
             30
            ],
            [
             "AV. DIAGONAL, 602",
             8021,
             24,
             53
            ],
            [
             "C/ MANSO, 46",
             8015,
             23,
             13
            ],
            [
             "RAMBLA DE GUIPÚSCOA, 43/FLUVIÀ",
             8020,
             43,
             10
            ],
            [
             "C/ ARAGÓ, 659 /NAVAS DE TOLOSA",
             8026,
             27,
             16
            ],
            [
             "PG. DE COLOM /VIA LAIETANA",
             8002,
             23,
             4
            ],
            [
             "PG. MARíTIM, 31 B (ANNEXA A LA  12)",
             8003,
             21,
             7
            ],
            [
             "C/ NOVA  BOCANA",
             8039,
             31,
             3
            ],
            [
             "C/ PROVENÇA, 317",
             8037,
             21,
             34
            ],
            [
             "C/ NÀPOLS, 344",
             8025,
             25,
             54
            ],
            [
             "C/ CASTILLEJOS, 258",
             8013,
             21,
             28
            ],
            [
             "C/ LEPANT,  278",
             8013,
             21,
             28
            ],
            [
             "C/ SARDENYA,  178",
             8013,
             39,
             12
            ],
            [
             "C/ PUJADES,  3",
             8018,
             27,
             6
            ],
            [
             "C/ ROSA SENSAT, 12",
             8005,
             21,
             5
            ],
            [
             "C/ TARRAGONA,  159-173",
             8014,
             22,
             29
            ],
            [
             "C/ DEL DR. AIGUADER, 72 / PG. SALVAT PAPASSEIT",
             8003,
             27,
             5
            ],
            [
             "PL. JEAN GENET,  1",
             8001,
             20,
             5
            ],
            [
             "RONDA DE SANT PAU, 51",
             8015,
             34,
             11
            ],
            [
             "C/ FLORIDABLANCA, 49",
             8015,
             20,
             13
            ],
            [
             "C/ ARAGÓN 147",
             8015,
             19,
             21
            ],
            [
             "AV. ROMA,  136",
             8011,
             21,
             25
            ],
            [
             "C/ LONDRES,  53",
             8036,
             24,
             43
            ],
            [
             "C / INDÚSTRIA, 10",
             8037,
             21,
             45
            ],
            [
             "TRAV. DE GRÀCIA, 92 / VIA AUGUSTA",
             8006,
             20,
             56
            ],
            [
             "PL  JOANIC - C / BRUNIQUER, 59",
             8024,
             19,
             56
            ],
            [
             "RDA. DE SANT PERE, 26",
             8010,
             21,
             15
            ],
            [
             "C/ VALÈNCIA, 621",
             8026,
             26,
             16
            ],
            [
             "C/ ARAGÓ, 629",
             8026,
             21,
             16
            ],
            [
             "AV. DIAGONAL,  612",
             8021,
             24,
             54
            ],
            [
             "AV. MARQUÉS DE L'ARGENTERA,  3",
             8003,
             21,
             4
            ],
            [
             "RAMBLA DE GUIPÚSCOA, 103 /CANTÀBRIA",
             8020,
             24,
             8
            ],
            [
             "C/ ROCAFORT, 214 | C/ ROSSELLÓ",
             8029,
             24,
             37
            ],
            [
             "PL. CATALUNYA, 10-11 (PG. DE GRÀCIA)",
             8002,
             21,
             20
            ],
            [
             "C/ PROVENÇA, 388-390",
             8025,
             23,
             34
            ],
            [
             "C/ SARDENYA, 362",
             8025,
             23,
             46
            ],
            [
             "C/ PROVENÇA, 322",
             8037,
             21,
             38
            ],
            [
             "C/ DOS DE MAIG, 230-232",
             8013,
             18,
             22
            ],
            [
             "C/ BRUC, 102",
             8009,
             21,
             29
            ],
            [
             "C/ MARINA, 199",
             8013,
             39,
             23
            ],
            [
             "C/ BRUC, 45",
             8010,
             27,
             21
            ],
            [
             "C/ SARDENYA, 292",
             8013,
             19,
             28
            ],
            [
             "C/ SANT ANTONI MARIA CLARET, 214",
             8025,
             20,
             52
            ],
            [
             "C/ CARTAGENA, 308",
             8025,
             18,
             46
            ],
            [
             "C/ ROSSELLÓ, 354",
             8025,
             30,
             40
            ],
            [
             "C/ ROSSELLÓ, 453",
             8025,
             27,
             38
            ],
            [
             "AV. MERIDIANA, 47 (D)",
             8013,
             42,
             14
            ],
            [
             "C/ CASTILLEJOS, 184",
             8013,
             29,
             13
            ],
            [
             "C/ DIPUTACIÓ, 272",
             8009,
             27,
             25
            ],
            [
             "C/ MARINA, 25-33",
             8005,
             54,
             7
            ],
            [
             "PG. MARITIM, 23 (HOSPITAL DEL MAR)",
             8003,
             26,
             7
            ],
            [
             "PG. MARITIM, 11 (DAVANT PL. BRUGADA)",
             8003,
             35,
             7
            ],
            [
             "C/ 60, NÚMERO 25",
             8040,
             43,
             4
            ],
            [
             "AV. MARQUÉS DE L'ARGENTERA,13",
             8003,
             27,
             5
            ],
            [
             "PG. PUJADES, 2",
             8003,
             27,
             6
            ],
            [
             "PG. PUJADES,  1 (JUTJATS)",
             8003,
             27,
             6
            ],
            [
             "PG. LLUIS COMPANYS, 18  (ARC TRIOMF)",
             8018,
             39,
             10
            ],
            [
             "PG. LLUIS COMPANYS, 11 (ARC TRIOMF)",
             8018,
             39,
             7
            ],
            [
             "C/ RIBES, 13",
             8013,
             21,
             8
            ],
            [
             "C/ NÀPOLS, 82",
             8013,
             27,
             11
            ],
            [
             "C/ ROGER DE FLOR, 126",
             8013,
             29,
             17
            ],
            [
             "GRAN VIA CORTS CATALANES, 760",
             8013,
             46,
             16
            ],
            [
             "AV. MARQUÉS DE  L'ARGENTERA, 15",
             8003,
             27,
             5
            ],
            [
             "GRAN VIA DE LES CORTS CATALANES, 609",
             8007,
             16,
             23
            ],
            [
             "PL. DEL MAR",
             8003,
             18,
             4
            ],
            [
             "C/ PONTEVEDRA, 58B | C/ JUDICI",
             8003,
             21,
             4
            ],
            [
             "PL. CATALUNYA, 10-11 (LA RAMBLA)",
             8002,
             21,
             21
            ],
            [
             "PL. CATALUNYA, 7",
             8002,
             26,
             19
            ],
            [
             "PL. CATALUNYA, 5",
             8002,
             25,
             19
            ],
            [
             "C/ ARAGÓ, 288",
             8009,
             20,
             26
            ],
            [
             "RBLA. CATALUNYA, 47",
             8007,
             27,
             27
            ],
            [
             "PLAÇA DELS ÀNGELS (MACBA)",
             8001,
             41,
             11
            ],
            [
             "LA RAMBLA, 2 (MUSEO DE CERA)",
             8002,
             25,
             4
            ],
            [
             "PORTAL DE SANTA MADRONA, 2-4",
             8001,
             27,
             5
            ],
            [
             "LA RAMBLA, 80",
             8002,
             19,
             8
            ],
            [
             "C/ SANT OLEGUER, 2",
             8001,
             19,
             6
            ],
            [
             "PL. CARLES PI I SUNYER",
             8002,
             21,
             10
            ],
            [
             "PL. SANT MIQUEL, 4",
             8002,
             32,
             11
            ],
            [
             "PL. VICENÇ MARTORELL",
             8001,
             20,
             12
            ],
            [
             "LA BARCELONETA (CN BARCELONETA)",
             8003,
             15,
             4
            ],
            [
             "AV. PARAL.LEL, 54",
             8004,
             18,
             8
            ],
            [
             "AV. MERIDIANA, 40",
             8018,
             20,
             11
            ],
            [
             "C/ RAMON TRIAS FARGAS, 21",
             8005,
             47,
             5
            ],
            [
             "C/ VILLENA, 1",
             8005,
             54,
             7
            ],
            [
             "C/ SARDENYA, 68",
             8005,
             24,
             5
            ],
            [
             "AV. MERIDIANA, 66",
             8018,
             17,
             16
            ],
            [
             "C/ CLOT, 1",
             8018,
             27,
             13
            ],
            [
             "C/ CIUTAT DE GRANADA, 168 | AV. DIAGONAL",
             8018,
             24,
             4
            ],
            [
             "PL. POETA BOSCÀ | C/ ATLÀNTIDA",
             8003,
             24,
             5
            ],
            [
             "C/ DOCTOR AIGUADER, 2",
             8039,
             18,
             6
            ],
            [
             "PL. PAU VILA (D)",
             8039,
             44,
             4
            ],
            [
             "AV. DE LA CATEDRAL, 6",
             8002,
             21,
             8
            ],
            [
             "C/ SANT RAMON DE PENYAFORT, 1",
             8930,
             54,
             5
            ],
            [
             "C/ SANT PERE MÉS ALT, 4",
             8003,
             21,
             9
            ],
            [
             "C/ ROSA SENSAT, 20",
             8005,
             21,
             5
            ],
            [
             "RAMBLA  DE GUIPÚSCOA, 158/ CA N'OLIVA",
             8020,
             29,
             11
            ],
            [
             "RAMBLA CATALUNYA, 133 /  CÒRSEGA",
             8008,
             27,
             44
            ],
            [
             "GRAN VIA DE LES CORTS CATALANES, 902",
             8018,
             16,
             6
            ],
            [
             "PL. DEL NORD, 5",
             8024,
             21,
             73
            ],
            [
             "C/ DEL TORRENT DE LES FLORS, 102",
             8024,
             17,
             69
            ],
            [
             "C/ MONTMANY, 1",
             8012,
             27,
             52
            ],
            [
             "C/ VILADOMAT, 200",
             8029,
             25,
             28
            ],
            [
             "C / GIRONA, 176",
             8037,
             26,
             40
            ],
            [
             "C/ DE BONAVISTA, 14",
             8012,
             36,
             48
            ],
            [
             "C/ DEL CANÓ, 1",
             8012,
             27,
             58
            ],
            [
             "GRAN DE GRÀCIA, 155 (METRO FONTANA)",
             8012,
             24,
             68
            ],
            [
             "C/ TUSET, 19",
             8006,
             27,
             53
            ],
            [
             "C/ LAFORJA, 74-76",
             8021,
             25,
             67
            ],
            [
             "C/ CONSELL DE CENT, 566",
             8013,
             39,
             17
            ],
            [
             "C/ RECTOR UBACH, 24",
             8021,
             27,
             75
            ],
            [
             "C/ MADRAZO, 131",
             8021,
             27,
             63
            ],
            [
             "C/ DE NIL FABRA, 16-20",
             8012,
             26,
             80
            ],
            [
             "C/ GANDUXER, 29",
             8021,
             21,
             65
            ],
            [
             "C/ SANTA FE DE NOU MÈXIC, 2",
             8017,
             33,
             70
            ],
            [
             "AV. SARRIÀ, 163",
             8017,
             24,
             75
            ],
            [
             "C/ SANCHO DE ÁVILA, 60-64",
             8018,
             28,
             5
            ],
            [
             "C/ VILARDELL, 18",
             8014,
             31,
             22
            ],
            [
             "C/ DIPUTACIÓ, 200",
             8011,
             26,
             23
            ],
            [
             "AV. DIAGONAL, 630",
             8017,
             33,
             59
            ],
            [
             "AV. DIAGONAL, 634",
             8017,
             25,
             62
            ],
            [
             "AV. DIAGONAL, 650",
             8017,
             33,
             62
            ],
            [
             "C/ EUROPA, 25",
             8028,
             33,
             57
            ],
            [
             "AV. DIAGONAL, 672",
             8034,
             33,
             63
            ],
            [
             "AV. DIAGONAL, 668",
             8034,
             33,
             64
            ],
            [
             "C/ DE LES CORTS, 20",
             8028,
             27,
             52
            ],
            [
             "C/ NUMÀNCIA, 136",
             8029,
             24,
             55
            ],
            [
             "C/ JOSÉ DE  AGULLÓ, 9",
             8017,
             25,
             72
            ],
            [
             "C/ JOAN GÜELL, 174",
             8028,
             24,
             47
            ],
            [
             "C/ PAU ALSINA, 54",
             8025,
             24,
             65
            ],
            [
             "C/ NOU DE LA RAMBLA, 164",
             8004,
             27,
             21
            ],
            [
             "PL.VALENTÍ ALMIRALL",
             8018,
             27,
             6
            ],
            [
             "C/ VILLARROEL, 39",
             8011,
             32,
             17
            ],
            [
             "CARRER DEL CINCA, 7",
             8030,
             27,
             22
            ],
            [
             "C/ DE BARTRINA, 14",
             8030,
             24,
             34
            ],
            [
             "C/ FERNANDO PESSOA, 41",
             8030,
             27,
             23
            ],
            [
             "C/ SANT ADRIÀ, 2-8",
             8030,
             24,
             27
            ],
            [
             "C/ MALATS, 28-30",
             8030,
             32,
             25
            ],
            [
             "C/ IRLANDA, 34",
             8030,
             15,
             30
            ],
            [
             "RAMBLA DE L'ONZE DE SETEMBRE, 69",
             8030,
             26,
             26
            ],
            [
             "C/ ONZE DE SETEMBRE, 37-39",
             8030,
             26,
             25
            ],
            [
             "RAMBLA DE L'ONZE DE SETEMBRE, 31",
             8030,
             33,
             24
            ],
            [
             "C/ CARDENAL TEDESCHINI, 13",
             8027,
             33,
             35
            ],
            [
             "C/ PORTUGAL, 3",
             8027,
             27,
             25
            ],
            [
             "C/ VILÀ I VILÀ, 45",
             8004,
             27,
             7
            ],
            [
             "C/ ANTILLES, 8",
             8027,
             25,
             21
            ],
            [
             "C/ FELIPE II, 112",
             8027,
             32,
             32
            ],
            [
             "C/ GARCILASO, 77",
             8027,
             18,
             30
            ],
            [
             "LA RAMBLA, 101",
             8002,
             27,
             10
            ],
            [
             "C/ FELIP II, 214",
             8027,
             27,
             44
            ],
            [
             "C/ ALEXANDRE GALÍ, 1-5",
             8027,
             27,
             42
            ],
            [
             "C/ RAMON ALBÓ, 1",
             8027,
             27,
             56
            ],
            [
             "C/ TEODOR LLORENTE, 1",
             8041,
             33,
             44
            ],
            [
             "C/ JOSEP ESTIVILL, 32",
             8027,
             26,
             23
            ],
            [
             "C/ INDÚSTRIA, 329",
             8027,
             26,
             31
            ],
            [
             "C/ ESPRONCEDA, 298",
             8027,
             27,
             16
            ],
            [
             "C/ RIUS I TAULET, 4",
             8004,
             27,
             33
            ],
            [
             "AV. PARAL.LEL, 194",
             8015,
             26,
             24
            ],
            [
             "AV. PARAL.LEL, 98",
             8015,
             21,
             10
            ],
            [
             "C/ PALÈNCIA, 31",
             8027,
             27,
             18
            ],
            [
             "C/ MEJÍA LEQUERICA, 2",
             8028,
             27,
             47
            ],
            [
             "C/ DE LA SANTACREU, 2 (PL.DE LA VIRREINA)",
             8024,
             27,
             68
            ],
            [
             "C/ GELABERT, 1",
             8029,
             27,
             47
            ],
            [
             "C/ RAMON TURRÓ, 91",
             8005,
             27,
             4
            ],
            [
             "AV. D'EDUARD MARISTANY, 1 /FORUM",
             8019,
             33,
             4
            ],
            [
             "AV. DIAGONAL, 26",
             8019,
             32,
             4
            ],
            [
             "RAMBLA DE PRIM, 19",
             8019,
             27,
             4
            ],
            [
             "C/ LLULL, 465",
             8019,
             33,
             4
            ],
            [
             "C/ SELVA DE MAR, 46",
             8019,
             27,
             4
            ],
            [
             "C/ PUJADES, 311/ FLUVIÀ",
             8019,
             32,
             4
            ],
            [
             "C/ PUJADES, 191",
             8005,
             32,
             2
            ],
            [
             "C/ PUJADES, 173/RBLA POBLE NOU",
             8005,
             23,
             3
            ],
            [
             "C/ PUJADES, 121",
             8005,
             27,
             3
            ],
            [
             "C/ PALLARS, 182",
             8005,
             27,
             3
            ],
            [
             "C/ ESPRONCEDA, 124",
             8005,
             27,
             4
            ],
            [
             "C/ PUJADES, 57B",
             8019,
             27,
             4
            ],
            [
             "C/ RAMON TURRÓ, 292",
             8005,
             27,
             3
            ],
            [
             "RONDA SANT PAU, 79",
             8015,
             27,
             12
            ],
            [
             "C/ PERE IV, 488",
             8019,
             24,
             4
            ],
            [
             "C/ PERE IV,  301 / FLUVIÀ",
             8020,
             27,
             4
            ],
            [
             "C/ CASTELLA,  28 / DIAGONAL",
             8018,
             27,
             4
            ],
            [
             "C/ SANCHO DE ÁVILA, 170 / LLACUNA",
             8018,
             27,
             4
            ],
            [
             "C/ SANCHO DE ÁVILA,  104 - C/ BADAJOZ",
             8018,
             31,
             4
            ],
            [
             "C/ BILBAO, 174",
             8018,
             32,
             7
            ],
            [
             "C/ VILADOMAT, 122",
             8015,
             27,
             19
            ],
            [
             "GRAN VIA DE LES CORTS CATALANES,  1131",
             8020,
             35,
             7
            ],
            [
             "GRAN VIA DE LES CORTS CATALANES, 1118",
             8020,
             21,
             7
            ],
            [
             "GRAN VIA DE LES CORTS CATALANES, 1041",
             8020,
             24,
             7
            ],
            [
             "GRAN VIA DE LES CORTS CATALANES,  1062",
             8020,
             31,
             8
            ],
            [
             "GRAN VIA DE LES CORTS CATALANES,  981",
             8018,
             21,
             8
            ],
            [
             "C/ VALLESPIR, 194",
             8014,
             27,
             48
            ],
            [
             "RAMBLA PRIM, 79",
             8019,
             33,
             5
            ],
            [
             "AV. ICÀRIA, 202",
             8005,
             27,
             3
            ],
            [
             "C/ BAC DE RODA, 157",
             8018,
             21,
             6
            ],
            [
             "C/ DEL DOCTOR TRUETA, 222",
             8005,
             27,
             3
            ],
            [
             "C/ INDEPENDÈNCIA, 379",
             8026,
             27,
             46
            ],
            [
             "C/ VALLESPIR, 130",
             8014,
             27,
             38
            ],
            [
             "C/ JOAN GÜELL, 98",
             8028,
             24,
             38
            ],
            [
             "C/ FÍGOLS, 1",
             8028,
             27,
             41
            ],
            [
             "C/ JOAN GÜELL, 50",
             8028,
             21,
             33
            ],
            [
             "C/ ENTENÇA, 137",
             8015,
             37,
             15
            ],
            [
             "AV. LITORAL, 72",
             8005,
             29,
             6
            ],
            [
             "C/ BRUC, 130",
             8037,
             28,
             34
            ],
            [
             "PG. SANT ANTONI /PL. SANTS",
             8014,
             27,
             30
            ],
            [
             "C/ DE SANT PAU, 89 - 97",
             8001,
             19,
             5
            ],
            [
             "C/CONSELL DE CENT, 6",
             8014,
             26,
             27
            ],
            [
             "C/GAVÀ, 81",
             8014,
             17,
             20
            ],
            [
             "C/ QUETZAL, 22-24",
             8014,
             27,
             22
            ],
            [
             "C/ GAVÀ, 1",
             8014,
             30,
             18
            ],
            [
             "C/ BERLÍN, 38",
             8029,
             27,
             38
            ],
            [
             "GRAN VIA DE LES CORTS CATALANES, 179 (D)",
             8014,
             51,
             14
            ],
            [
             "PG. ZONA FRANCA, 244",
             8038,
             16,
             9
            ],
            [
             "PG. DE GARCIA FÀRIA, 85",
             8019,
             27,
             7
            ],
            [
             "C/ ROSSELLÓ, 557",
             8026,
             34,
             33
            ],
            [
             "PG. DE GARCIA FÀRIA, 37/JOSEP FERRATER",
             8019,
             31,
             6
            ],
            [
             "C/ LLULL, 309",
             8019,
             26,
             4
            ],
            [
             "PG. DE GARCIA FÀRIA, 21/ESPRONCEDA",
             8005,
             27,
             6
            ],
            [
             "AV.LITORAL, 84",
             8005,
             27,
             8
            ],
            [
             "AV. LITORAL, 172",
             8005,
             54,
             5
            ],
            [
             "AV. LITORAL, 40 (D)",
             8005,
             54,
             6
            ],
            [
             "SELVA DE MAR / PG. DEL TAULAT",
             8019,
             27,
             5
            ],
            [
             "C/ BAC DE RODA, 11",
             8005,
             21,
             3
            ],
            [
             "C/ BILBAO, 2",
             8005,
             27,
             3
            ],
            [
             "C/ SANT PERE D´ABANTO, 2",
             8014,
             32,
             18
            ]
           ],
           "hovertemplate": "<b>%{hovertext}</b><br><br>year=2023<br>lat=%{lat}<br>lon=%{lon}<br>address=%{customdata[0]}<br>post_code=%{customdata[1]}<br>capacity=%{marker.color}<br>altitude=%{customdata[3]}<extra></extra>",
           "hovertext": [
            234,
            37,
            520,
            350,
            347,
            348,
            349,
            351,
            357,
            353,
            354,
            355,
            356,
            352,
            346,
            331,
            344,
            343,
            342,
            341,
            340,
            339,
            338,
            337,
            336,
            335,
            334,
            333,
            332,
            358,
            345,
            359,
            374,
            361,
            330,
            389,
            388,
            387,
            386,
            385,
            384,
            383,
            382,
            381,
            380,
            379,
            378,
            360,
            377,
            375,
            373,
            372,
            371,
            370,
            369,
            368,
            367,
            366,
            365,
            364,
            363,
            362,
            376,
            329,
            297,
            327,
            294,
            293,
            292,
            291,
            290,
            289,
            288,
            287,
            286,
            285,
            284,
            283,
            282,
            295,
            281,
            279,
            278,
            277,
            276,
            275,
            274,
            273,
            272,
            271,
            270,
            269,
            268,
            267,
            280,
            328,
            296,
            298,
            326,
            325,
            324,
            323,
            322,
            321,
            320,
            319,
            318,
            317,
            316,
            315,
            314,
            390,
            313,
            311,
            310,
            309,
            308,
            307,
            306,
            305,
            304,
            303,
            302,
            301,
            300,
            299,
            312,
            266,
            518,
            393,
            487,
            486,
            485,
            484,
            483,
            482,
            481,
            480,
            479,
            478,
            477,
            476,
            475,
            488,
            474,
            472,
            471,
            470,
            469,
            468,
            467,
            466,
            465,
            464,
            463,
            462,
            461,
            460,
            473,
            459,
            489,
            491,
            519,
            265,
            517,
            516,
            515,
            514,
            513,
            512,
            511,
            510,
            509,
            508,
            507,
            490,
            506,
            504,
            503,
            502,
            501,
            500,
            499,
            498,
            497,
            496,
            495,
            494,
            493,
            492,
            505,
            392,
            458,
            456,
            422,
            421,
            420,
            419,
            418,
            417,
            416,
            415,
            414,
            413,
            412,
            411,
            410,
            423,
            409,
            406,
            405,
            404,
            403,
            402,
            401,
            400,
            399,
            398,
            397,
            396,
            395,
            394,
            408,
            457,
            424,
            426,
            455,
            454,
            452,
            451,
            450,
            449,
            448,
            447,
            446,
            445,
            444,
            443,
            442,
            425,
            441,
            439,
            438,
            437,
            436,
            435,
            434,
            433,
            432,
            431,
            430,
            429,
            428,
            427,
            440,
            264,
            391,
            262,
            97,
            96,
            95,
            94,
            92,
            91,
            90,
            89,
            88,
            87,
            86,
            85,
            84,
            98,
            83,
            81,
            80,
            79,
            78,
            77,
            76,
            75,
            74,
            73,
            72,
            71,
            70,
            69,
            82,
            263,
            99,
            101,
            129,
            128,
            127,
            126,
            125,
            124,
            123,
            122,
            121,
            120,
            119,
            118,
            117,
            100,
            116,
            114,
            113,
            112,
            111,
            110,
            109,
            108,
            107,
            106,
            105,
            104,
            103,
            102,
            115,
            130,
            67,
            65,
            29,
            28,
            27,
            26,
            25,
            24,
            23,
            22,
            21,
            20,
            19,
            18,
            17,
            30,
            15,
            13,
            12,
            11,
            10,
            9,
            8,
            7,
            6,
            5,
            4,
            3,
            2,
            1,
            14,
            66,
            31,
            33,
            64,
            63,
            62,
            61,
            60,
            58,
            57,
            56,
            55,
            54,
            53,
            52,
            51,
            32,
            50,
            48,
            47,
            46,
            45,
            44,
            43,
            42,
            41,
            40,
            39,
            36,
            35,
            34,
            49,
            131,
            68,
            133,
            228,
            227,
            226,
            225,
            224,
            223,
            222,
            221,
            220,
            219,
            218,
            217,
            216,
            230,
            215,
            213,
            212,
            211,
            210,
            209,
            208,
            207,
            206,
            205,
            204,
            203,
            202,
            201,
            214,
            200,
            231,
            233,
            132,
            261,
            260,
            259,
            258,
            257,
            256,
            255,
            254,
            253,
            252,
            251,
            250,
            232,
            249,
            247,
            246,
            245,
            244,
            243,
            242,
            241,
            240,
            239,
            238,
            237,
            236,
            235,
            248,
            199,
            229,
            197,
            161,
            160,
            159,
            158,
            157,
            156,
            155,
            154,
            153,
            152,
            151,
            150,
            149,
            162,
            148,
            146,
            145,
            144,
            143,
            142,
            141,
            140,
            139,
            138,
            137,
            136,
            135,
            198,
            147,
            163,
            134,
            165,
            164,
            195,
            194,
            193,
            192,
            191,
            190,
            189,
            188,
            187,
            186,
            185,
            184,
            183,
            196,
            180,
            179,
            178,
            177,
            176,
            175,
            174,
            173,
            171,
            170,
            168,
            167,
            166,
            182
           ],
           "lat": [
            41.3714688,
            41.381316,
            41.3476951,
            41.392052,
            41.3595484,
            41.357067,
            41.3573288,
            41.3621232,
            41.4105956,
            41.37541,
            41.3759419,
            41.371459,
            41.4134503,
            41.363279,
            41.360798,
            41.3970497,
            41.4431441,
            41.4389609,
            41.4034967,
            41.4339212,
            41.4361782,
            41.4017084,
            41.3977227,
            41.3986238,
            41.3953855,
            41.3935355,
            41.400793,
            41.3954723,
            41.3998981,
            41.3872437,
            41.3631066,
            41.3900544,
            41.3949729,
            41.37652,
            41.401883,
            41.3873901,
            41.3806411,
            41.3957813,
            41.3751866,
            41.387888,
            41.3807072,
            41.381219,
            41.4038902,
            41.3816139,
            41.3854094,
            41.3829333,
            41.3785379,
            41.3952527,
            41.3776292,
            41.3720293,
            41.3750995,
            41.4001015,
            41.4040525,
            41.4039698,
            41.40013,
            41.3968391,
            41.384972,
            41.3811389,
            41.3875712,
            41.393062,
            41.3908381,
            41.396994,
            41.3718728,
            41.4029965,
            41.4388223,
            41.4050074,
            41.4363473,
            41.4283127,
            41.4300161,
            41.426078,
            41.4373376,
            41.4166982,
            41.4296439,
            41.3890626,
            41.4030225,
            41.4366708,
            41.389462,
            41.4297231,
            41.4275514,
            41.433384,
            41.4180789,
            41.4158995,
            41.4098842,
            41.4082107,
            41.4121345,
            41.43068,
            41.4299201,
            41.4304126,
            41.4325013,
            41.4506081,
            41.4486328,
            41.448152,
            41.4457195,
            41.4433647,
            41.4138664,
            41.402988,
            41.4364887,
            41.4347233,
            41.4074131,
            41.3949601,
            41.3969455,
            41.3981616,
            41.4009,
            41.4031529,
            41.400305,
            41.3937414,
            41.412427,
            41.4256626,
            41.4224015,
            41.4156285,
            41.3783067,
            41.3869612,
            41.3754188,
            41.3785631,
            41.3812111,
            41.3770199,
            41.37684,
            41.3791986,
            41.3853868,
            41.3875297,
            41.39038,
            41.3934324,
            41.3906352,
            41.4366871,
            41.4315843,
            41.4340849,
            41.3789061,
            41.4268952,
            41.4246885,
            41.4022657,
            41.4267638,
            41.4306102,
            41.4374904,
            41.4345997,
            41.4295617350765,
            41.4372022,
            41.4357978,
            41.4333259,
            41.430623,
            41.4276076,
            41.4260751,
            41.422037,
            41.4216738,
            41.4347859,
            41.4418604,
            41.4427374,
            41.4389014,
            41.4432762,
            41.4417001,
            41.4480464,
            41.4450463,
            41.443387,
            41.3954094,
            41.439692,
            41.4490679,
            41.446923,
            41.442489,
            41.4513863,
            41.4388644,
            41.4479402,
            41.4312335,
            41.4306689,
            41.4246548,
            41.3847738,
            41.462095,
            41.4354601,
            41.4352071,
            41.4095069,
            41.399017,
            41.4000778,
            41.4006862,
            41.3989151,
            41.3989713,
            41.4090922,
            41.4107641,
            41.4280668,
            41.4191957,
            41.4092333,
            41.4095926,
            41.4074444,
            41.4052698,
            41.4117633,
            41.4160558,
            41.4144967,
            41.4095489,
            41.4048623,
            41.377846,
            41.3896967,
            41.419965,
            41.3943454,
            41.4145614,
            41.3905303,
            41.4457962,
            41.4143392,
            41.3881175,
            41.378118,
            41.3743329,
            41.391313,
            41.391062,
            41.4164824,
            41.3781065,
            41.3793558,
            41.3937234,
            41.393489,
            41.3893094,
            41.411381,
            41.376433,
            41.4202459,
            41.392384,
            41.3863747,
            41.3854003,
            41.3653426,
            41.3796421,
            41.380628,
            41.382418,
            41.3694508,
            41.3734706,
            41.380955,
            41.3889129,
            41.3890253,
            41.3860607,
            41.3873057,
            41.3889972,
            41.4383117,
            41.3795862,
            41.39828,
            41.4105848,
            41.4072349,
            41.4194972,
            41.4140598,
            41.410712,
            41.4058109,
            41.3972809,
            41.3943033,
            41.3779974,
            41.3755016,
            41.3717304,
            41.3887127,
            41.3649272,
            41.3765618,
            41.3754426,
            41.3685394,
            41.3981669,
            41.3513237,
            41.3545425,
            41.383585,
            41.3767538,
            41.3862258,
            41.3847061,
            41.383467,
            41.385641,
            41.3881262,
            41.3983902,
            41.3754047,
            41.417694,
            41.439929,
            41.4230551,
            41.3790954665734,
            41.3779613,
            41.3741093,
            41.3763948,
            41.3757914,
            41.3938861,
            41.3812504,
            41.388296,
            41.3879131,
            41.3936144,
            41.3832223888737,
            41.3755747,
            41.3751852,
            41.3830299,
            41.3806074,
            41.3821658,
            41.3790718,
            41.389668,
            41.385503,
            41.3856474,
            41.3855644,
            41.3917666,
            41.385004,
            41.3900085,
            41.392135,
            41.3927771,
            41.3819459,
            41.380393,
            41.3881248,
            41.3803180599865,
            41.4378773,
            41.3808222,
            41.392878,
            41.377046,
            41.4158412,
            41.4120681,
            41.380628,
            41.3834753,
            41.3702483,
            41.3988184485363,
            41.4054458,
            41.4064529,
            41.4047056,
            41.3967169,
            41.39212,
            41.3906051,
            41.3787064,
            41.3838369,
            41.376735,
            41.3773113,
            41.3776721,
            41.3847528,
            41.3852585,
            41.3912605,
            41.4022081,
            41.3982304,
            41.4055198,
            41.389492,
            41.4108005,
            41.410098,
            41.392567,
            41.383597,
            41.4200135,
            41.3852864,
            41.387696,
            41.401061,
            41.4055143,
            41.3967524,
            41.4071692,
            41.3954041,
            41.4005784,
            41.3924661,
            41.4016969,
            41.4108439,
            41.410314,
            41.4031491,
            41.4060589,
            41.3982615,
            41.4021805,
            41.3916117009235,
            41.3881248,
            41.3833653,
            41.3812425,
            41.3467746,
            41.384546,
            41.389135,
            41.388885,
            41.3914292,
            41.3911035,
            41.3933173,
            41.3941557,
            41.3954877,
            41.3979779,
            41.384844,
            41.3893222,
            41.3748001,
            41.37686,
            41.387493,
            41.386543,
            41.387235,
            41.39352,
            41.3902625,
            41.38268,
            41.377187,
            41.3770715,
            41.3811923,
            41.3775319,
            41.385086,
            41.381708,
            41.3842634,
            41.3736911,
            41.3751145,
            41.3960652,
            41.3902194,
            41.3886065969256,
            41.3916096,
            41.40197,
            41.4063864,
            41.404511,
            41.379326,
            41.382335,
            41.381046,
            41.3850616,
            41.4134833,
            41.3871079,
            41.3910756,
            41.4227912,
            41.3953894,
            41.4075013,
            41.4068417,
            41.4078456,
            41.4035608,
            41.3848102114671,
            41.3999967,
            41.3983444,
            41.4013296,
            41.4025392,
            41.3960982,
            41.3976165,
            41.4040364,
            41.3985735,
            41.3967824,
            41.4059356,
            41.3939378,
            41.3935816,
            41.3922355,
            41.3987543,
            41.3745238,
            41.3857425,
            41.3915195,
            41.3908477,
            41.3897943,
            41.387561,
            41.3880355,
            41.3887069,
            41.3854466,
            41.3878061,
            41.3952027,
            41.3839045,
            41.4092005,
            41.3719688,
            41.4084796,
            41.3821314,
            41.4356895,
            41.4391174,
            41.4420913,
            41.433934,
            41.4361251,
            41.4315,
            41.4299999,
            41.4298614,
            41.4298991,
            41.4253643,
            41.4258248,
            41.3733857,
            41.4250835,
            41.4219291,
            41.4228449,
            41.3826647,
            41.426925,
            41.4239719,
            41.4244527,
            41.419178,
            41.4175595,
            41.4172922,
            41.4158807,
            41.3727426,
            41.3751161,
            41.3751767,
            41.4182129,
            41.3819739,
            41.4050968,
            41.3871579,
            41.3953011,
            41.4109763,
            41.4110822,
            41.4116634,
            41.4132316,
            41.4091355,
            41.4070139,
            41.4026275,
            41.4018686,
            41.3993329,
            41.4003471,
            41.4065912,
            41.3958685,
            41.4038559,
            41.3783467,
            41.4148983,
            41.4093405,
            41.4056269,
            41.4027907,
            41.4003793,
            41.4090202,
            41.3808772,
            41.4183999,
            41.4167933,
            41.4145805,
            41.4139298,
            41.4120452,
            41.3847113,
            41.416043,
            41.3942108,
            41.4113024,
            41.3992169,
            41.4118378,
            41.3821371,
            41.3812001,
            41.3812979,
            41.3786364,
            41.381951,
            41.3961412,
            41.3969839,
            41.3756948,
            41.3768806,
            41.3755503,
            41.3703717,
            41.3675438,
            41.3723682,
            41.3832609,
            41.3675574,
            41.36352,
            41.4053649,
            41.4110754,
            41.403216,
            41.4065291,
            41.400654,
            41.3979002,
            41.3919877,
            41.3896642,
            41.4053697,
            41.4023354,
            41.4008312,
            41.371366
           ],
           "legendgroup": "",
           "lon": [
            2.1629627,
            2.181903,
            2.11948,
            2.1480223,
            2.1417765,
            2.141563,
            2.1371996,
            2.1356187,
            2.1579897,
            2.1232547,
            2.1299539,
            2.127854,
            2.1631012,
            2.1341586,
            2.138931,
            2.1279409,
            2.1996045,
            2.1996179,
            2.1936584,
            2.2062245,
            2.2047037,
            2.2053803,
            2.1194557,
            2.1204941,
            2.1210928,
            2.1231228,
            2.122889,
            2.1250451,
            2.1281922,
            2.1793035,
            2.1398322,
            2.1775594,
            2.1612814,
            2.17881,
            2.131524,
            2.1875446,
            2.1671611,
            2.1787074,
            2.1568773,
            2.1552902,
            2.1468381,
            2.141767,
            2.2041137,
            2.1677697,
            2.1740155,
            2.1420704,
            2.1767427,
            2.1730023,
            2.1836886,
            2.1804468,
            2.1613897,
            2.1841711,
            2.181199,
            2.1729061,
            2.1780175,
            2.1756598,
            2.1376205,
            2.1729755,
            2.1469336,
            2.1633226,
            2.1743743,
            2.1706323,
            2.180302,
            2.1283866,
            2.1767828,
            2.134603,
            2.1706752,
            2.1629889,
            2.1720191,
            2.1751572,
            2.1740962,
            2.1909952,
            2.174444,
            2.1679313,
            2.1913538,
            2.186105,
            2.1314948,
            2.1617032,
            2.1659881,
            2.1716309,
            2.1763994,
            2.1745567,
            2.1715285,
            2.1689962,
            2.1652216,
            2.1821802,
            2.1849813,
            2.1834174,
            2.1842021,
            2.1923629,
            2.1898372,
            2.19294,
            2.1929816,
            2.1906302,
            2.1777274,
            2.1344691,
            2.1841014,
            2.1817718,
            2.1381069,
            2.1302775,
            2.136346,
            2.1386719,
            2.13892,
            2.1445843,
            2.149144,
            2.1455022,
            2.170592,
            2.2008632,
            2.198071,
            2.1817876,
            2.1297303,
            2.1820169,
            2.1297823,
            2.1202487,
            2.1190863,
            2.1169828,
            2.114029,
            2.1135824,
            2.122893,
            2.1237141,
            2.121,
            2.115107,
            2.111541,
            2.1693134,
            2.1769107,
            2.1748267,
            2.1233038,
            2.1842572,
            2.1570492,
            2.1976297,
            2.1521909,
            2.1564551,
            2.1565742,
            2.1585268,
            2.15896845634459,
            2.1620235,
            2.163872,
            2.1629258,
            2.1671068,
            2.1697582,
            2.1722534,
            2.174401,
            2.1799878,
            2.147904,
            2.1664224,
            2.170393,
            2.1715576,
            2.1746238,
            2.1781553,
            2.1775154,
            2.176726,
            2.1813051,
            2.1599427,
            2.182335,
            2.1833801,
            2.184857,
            2.185727,
            2.1894717,
            2.1657506,
            2.1976757,
            2.1499103,
            2.1456449,
            2.166289,
            2.1592566,
            2.178959,
            2.2001569,
            2.1948002,
            2.1885055,
            2.124329,
            2.1326911,
            2.1543317,
            2.1564253,
            2.1606736,
            2.1656378,
            2.1640965,
            2.1443777,
            2.1718497,
            2.1557747,
            2.1524953,
            2.1492066,
            2.1420204,
            2.1453424,
            2.1421504,
            2.1402433,
            2.1360313,
            2.174799,
            2.150523,
            2.1652199,
            2.1401823,
            2.1751709,
            2.1658677,
            2.1906339,
            2.2010422,
            2.1874539,
            2.1154135,
            2.1378667,
            2.1479385,
            2.1808391,
            2.1801142,
            2.1801094,
            2.1696744,
            2.1689592,
            2.1764275,
            2.1707419,
            2.1727457,
            2.2122054,
            2.17871,
            2.1894852,
            2.1925059,
            2.1646697,
            2.1521802,
            2.1331357,
            2.1368202,
            2.1821917,
            2.183723,
            2.1879597,
            2.1332694,
            2.1934636,
            2.1993105,
            2.1968267,
            2.1702467,
            2.1631263,
            2.1923283,
            2.2039823,
            2.1925198,
            2.1830315,
            2.1826833,
            2.1684799,
            2.20934,
            2.2150487,
            2.2061691,
            2.1949461,
            2.1997869,
            2.1860256,
            2.1884228,
            2.154004,
            2.1554047,
            2.1542277,
            2.138599,
            2.1748621,
            2.1398409,
            2.1328403,
            2.1754896,
            2.1450958,
            2.1433038,
            2.112186,
            2.1269152,
            2.1168609,
            2.1170751,
            2.122175,
            2.113096,
            2.1091535,
            2.1960799,
            2.1680021,
            2.1976864,
            2.1970692,
            2.1913753,
            2.1516210083712,
            2.1450491,
            2.1481993,
            2.1473272,
            2.1499102,
            2.1601641,
            2.1594741,
            2.150878,
            2.150342,
            2.1507739,
            2.14799319162966,
            2.1629349,
            2.1592394,
            2.1571646,
            2.1408633,
            2.1520645,
            2.1490553,
            2.1599078,
            2.1634768,
            2.1634306,
            2.1773214,
            2.1532163,
            2.1429115,
            2.1432105,
            2.1563542,
            2.1586273,
            2.1629146,
            2.1606506,
            2.1951871,
            2.1544371248114,
            2.1910691,
            2.141539,
            2.143411,
            2.16113608,
            2.1959771,
            2.1907524,
            2.1822815,
            2.194735,
            2.1878126,
            2.16673522491668,
            2.1663172,
            2.1785364,
            2.1765126,
            2.1825085,
            2.1874966,
            2.1972309,
            2.1443579,
            2.1914756,
            2.1740082,
            2.1646742,
            2.157233,
            2.1546746,
            2.155089,
            2.1476308,
            2.1649035,
            2.1531031,
            2.1622548,
            2.17425,
            2.1872438,
            2.1884487,
            2.1422174,
            2.184171,
            2.2016699,
            2.1454802,
            2.1696543,
            2.169941,
            2.1706498,
            2.1646338,
            2.1820722,
            2.1681961,
            2.1788855,
            2.1717397,
            2.175767,
            2.1740575,
            2.1757334,
            2.1707947,
            2.1740472,
            2.1866517,
            2.1829894,
            2.16890319787512,
            2.1951871,
            2.1946255,
            2.1933482,
            2.1436235,
            2.184922,
            2.183489,
            2.18329,
            2.1805685,
            2.1801763,
            2.1812483,
            2.1813305,
            2.1771985,
            2.1801069,
            2.185085,
            2.1678388,
            2.1889045,
            2.19067,
            2.1690686,
            2.169427,
            2.168819,
            2.166797,
            2.164035,
            2.16712,
            2.176757,
            2.1758261,
            2.1735007,
            2.1707321,
            2.174016,
            2.177292,
            2.1692556,
            2.188928,
            2.1709386,
            2.1871959,
            2.1904003,
            2.19219450845947,
            2.1891194,
            2.187081,
            2.1874404,
            2.189881,
            2.189906,
            2.187093,
            2.186576,
            2.1766834,
            2.2206913,
            2.1753364,
            2.1965766,
            2.2060317,
            2.1572953,
            2.1930174,
            2.1558354,
            2.1586704,
            2.1609345,
            2.15080712464522,
            2.1644531,
            2.1598243,
            2.1574439,
            2.1524704,
            2.1513154,
            2.1471724,
            2.183145,
            2.1440826,
            2.1445567,
            2.1517977,
            2.1380304,
            2.1345892,
            2.1309272,
            2.1902116,
            2.1422556,
            2.1610515,
            2.1390667,
            2.136579,
            2.1328634,
            2.1306737,
            2.1256248,
            2.1285766,
            2.1288753,
            2.1344218,
            2.1334873,
            2.1312876,
            2.16400285,
            2.1667829,
            2.192042,
            2.1606534,
            2.1920873,
            2.1858025,
            2.1928992,
            2.1896502,
            2.1894423,
            2.18579,
            2.190246,
            2.1922011,
            2.1932159,
            2.1852073,
            2.191206,
            2.1709545,
            2.1872818,
            2.1849107,
            2.1866363,
            2.1717083,
            2.1786224,
            2.1812399,
            2.1773157,
            2.18018,
            2.1877153,
            2.1844769,
            2.1908473,
            2.1539198,
            2.1523091,
            2.1658972,
            2.1904005,
            2.1268625,
            2.1569161,
            2.1410945,
            2.1965965,
            2.2193724,
            2.2163136,
            2.2183313,
            2.2177652,
            2.2088179,
            2.2074469,
            2.2017694,
            2.20077,
            2.1974184,
            2.1969105,
            2.203028,
            2.192952,
            2.2084257,
            2.1633139,
            2.207186,
            2.2024461,
            2.1977119,
            2.1956161,
            2.1924144,
            2.1954152,
            2.1559939,
            2.2058133,
            2.2058345,
            2.2008139,
            2.2017955,
            2.1972673,
            2.1334379,
            2.2124993,
            2.2008756,
            2.1987258,
            2.2041415,
            2.1778852,
            2.1354149,
            2.1323612,
            2.1289917,
            2.1335494,
            2.147474,
            2.2078439,
            2.1661852,
            2.1358571,
            2.1698206,
            2.1439036,
            2.1389439,
            2.1342316,
            2.1419494,
            2.1392662,
            2.1388216,
            2.1369015,
            2.2162094,
            2.1809764,
            2.2136,
            2.2091221,
            2.210191,
            2.2088454,
            2.2037136,
            2.1999572,
            2.2135818,
            2.2105777,
            2.206645,
            2.143565
           ],
           "marker": {
            "color": [
             27,
             23,
             15,
             31,
             32,
             33,
             33,
             33,
             27,
             31,
             27,
             27,
             27,
             28,
             35,
             31,
             27,
             27,
             27,
             26,
             23,
             27,
             36,
             23,
             27,
             27,
             26,
             27,
             27,
             25,
             31,
             26,
             33,
             33,
             27,
             27,
             34,
             32,
             18,
             30,
             26,
             24,
             27,
             41,
             24,
             21,
             21,
             30,
             29,
             39,
             30,
             25,
             36,
             32,
             27,
             27,
             32,
             18,
             31,
             33,
             24,
             32,
             39,
             27,
             24,
             24,
             24,
             24,
             12,
             27,
             17,
             27,
             31,
             16,
             15,
             15,
             27,
             20,
             27,
             27,
             24,
             27,
             27,
             27,
             27,
             32,
             32,
             36,
             27,
             21,
             27,
             23,
             27,
             24,
             27,
             26,
             33,
             33,
             32,
             23,
             27,
             26,
             24,
             27,
             27,
             31,
             32,
             27,
             26,
             27,
             24,
             25,
             27,
             23,
             27,
             22,
             27,
             31,
             30,
             27,
             27,
             27,
             32,
             27,
             18,
             27,
             36,
             26,
             27,
             32,
             27,
             28,
             27,
             27,
             29,
             20,
             27,
             26,
             18,
             30,
             26,
             18,
             19,
             27,
             24,
             24,
             24,
             24,
             18,
             18,
             20,
             30,
             27,
             24,
             24,
             28,
             28,
             15,
             31,
             39,
             27,
             27,
             24,
             27,
             20,
             21,
             24,
             18,
             28,
             27,
             20,
             27,
             28,
             27,
             24,
             50,
             15,
             28,
             30,
             19,
             15,
             23,
             27,
             26,
             27,
             18,
             21,
             24,
             24,
             23,
             26,
             19,
             24,
             20,
             28,
             25,
             27,
             33,
             27,
             32,
             27,
             25,
             33,
             32,
             27,
             24,
             38,
             32,
             27,
             33,
             26,
             32,
             22,
             31,
             24,
             44,
             27,
             35,
             27,
             32,
             32,
             27,
             38,
             18,
             27,
             32,
             22,
             27,
             54,
             24,
             27,
             27,
             27,
             27,
             15,
             24,
             27,
             32,
             18,
             24,
             18,
             18,
             27,
             36,
             19,
             28,
             27,
             42,
             28,
             20,
             28,
             28,
             27,
             26,
             27,
             33,
             26,
             24,
             21,
             21,
             33,
             48,
             18,
             35,
             17,
             27,
             20,
             25,
             27,
             40,
             27,
             21,
             23,
             21,
             21,
             24,
             27,
             24,
             32,
             21,
             15,
             27,
             27,
             21,
             27,
             43,
             40,
             20,
             21,
             24,
             23,
             43,
             27,
             23,
             21,
             31,
             21,
             25,
             21,
             21,
             39,
             27,
             21,
             22,
             27,
             20,
             34,
             20,
             19,
             21,
             24,
             21,
             20,
             19,
             21,
             26,
             21,
             24,
             21,
             24,
             24,
             21,
             23,
             23,
             21,
             18,
             21,
             39,
             27,
             19,
             20,
             18,
             30,
             27,
             42,
             29,
             27,
             54,
             26,
             35,
             43,
             27,
             27,
             27,
             39,
             39,
             21,
             27,
             29,
             46,
             27,
             16,
             18,
             21,
             21,
             26,
             25,
             20,
             27,
             41,
             25,
             27,
             19,
             19,
             21,
             32,
             20,
             15,
             18,
             20,
             47,
             54,
             24,
             17,
             27,
             24,
             24,
             18,
             44,
             21,
             54,
             21,
             21,
             29,
             27,
             16,
             21,
             17,
             27,
             25,
             26,
             36,
             27,
             24,
             27,
             25,
             39,
             27,
             27,
             26,
             21,
             33,
             24,
             28,
             31,
             26,
             33,
             25,
             33,
             33,
             33,
             33,
             27,
             24,
             25,
             24,
             24,
             27,
             27,
             32,
             27,
             24,
             27,
             24,
             32,
             15,
             26,
             26,
             33,
             33,
             27,
             27,
             25,
             32,
             18,
             27,
             27,
             27,
             27,
             33,
             26,
             26,
             27,
             27,
             26,
             21,
             27,
             27,
             27,
             27,
             27,
             33,
             32,
             27,
             33,
             27,
             32,
             32,
             23,
             27,
             27,
             27,
             27,
             27,
             27,
             24,
             27,
             27,
             27,
             31,
             32,
             27,
             35,
             21,
             24,
             31,
             21,
             27,
             33,
             27,
             21,
             27,
             27,
             27,
             24,
             27,
             21,
             37,
             29,
             28,
             27,
             19,
             26,
             17,
             27,
             30,
             27,
             51,
             16,
             27,
             34,
             31,
             26,
             27,
             27,
             54,
             54,
             27,
             21,
             27,
             32
            ],
            "coloraxis": "coloraxis"
           },
           "mode": "markers",
           "name": "",
           "showlegend": false,
           "subplot": "mapbox",
           "type": "scattermapbox"
          }
         ],
         "layout": {
          "title": {
           "text": "Total Stations: 511 Total Bikes: 13741 in  2023"
          }
         },
         "name": "2023"
        },
        {
         "data": [
          {
           "customdata": [
            [
             "C/ HONDURAS, 32-34",
             8027,
             32,
             22
            ],
            [
             "C/ SELVA DE MAR, 46",
             8019,
             27,
             4
            ],
            [
             "C/ DOCTOR ROUX, 86",
             8017,
             27,
             104
            ],
            [
             "C/ CAMÈLIES, 73",
             8024,
             27,
             106
            ],
            [
             "C/ RIERA BLANCA, 123",
             8028,
             27,
             22
            ],
            [
             "RAMBLA DEL BRASIL, 5",
             8028,
             27,
             28
            ],
            [
             "C/ MUNNÉ  2-6",
             8028,
             31,
             34
            ],
            [
             "C/RADI,10/GRAN VIA DE LES CORTS CATALANES",
             8038,
             28,
             9
            ],
            [
             "C/ JANE ADDAMS, 26/ CRTA. DEL PRAT",
             8038,
             33,
             9
            ],
            [
             "C/ VILLARROEL, 208",
             8036,
             31,
             43
            ],
            [
             "C/ DE L'ENERGIA, 2 / ALTS FORNS",
             8038,
             33,
             7
            ],
            [
             "JARDINS DE CAN FERRERO/PG.DE LA ZONA FRANCA",
             8038,
             33,
             7
            ],
            [
             "C/ ALTS FORNS, 77",
             8038,
             32,
             9
            ],
            [
             "PG. ZONA FRANCA, 182",
             8038,
             36,
             8
            ],
            [
             "C/ CASTELLNOU, 65",
             8017,
             31,
             95
            ],
            [
             "C/ PAU ALCOVER, 94",
             8017,
             27,
             108
            ],
            [
             "C/ CIUTAT D'ASUNCIÓN, 73 / POTOSÍ",
             8030,
             27,
             16
            ],
            [
             "CAMPANA DE LA MAQUINISTA (SAO PAULO I PL. DE",
             8030,
             27,
             14
            ],
            [
             "C/ ROC BORONAT, 134",
             8018,
             27,
             5
            ],
            [
             "PG. D'ENRIC SANCHIS, 33",
             8030,
             26,
             11
            ],
            [
             "C/ SANT ADRIÀ, 113",
             8030,
             24,
             13
            ],
            [
             "C/ RAMON TURRÓ, 246",
             8005,
             27,
             2
            ],
            [
             "C/ CARDENER, 59",
             8024,
             27,
             87
            ],
            [
             "C/ CARME KARR, 12-14",
             8034,
             23,
             117
            ],
            [
             "C/ CAPONATA, 20",
             8034,
             27,
             101
            ],
            [
             "C/ SANTA AMÈLIA, 2",
             8034,
             27,
             92
            ],
            [
             "PG. BONANOVA, 100",
             8017,
             26,
             117
            ],
            [
             "PASSATGE DE SENILLOSA, 3-5",
             8034,
             27,
             94
            ],
            [
             "PL. TERESA DE CLARAMUNT/C/ DELS FERROCARILS",
             8038,
             32,
             10
            ],
            [
             "AV. JOSEP VICENÇ FOIX, 63",
             8034,
             36,
             111
            ],
            [
             "C/ RIBES, 77",
             8013,
             27,
             9
            ],
            [
             "C/ MÉNDEZ NÚÑEZ, 16",
             8003,
             26,
             12
            ],
            [
             "C/ DE LES ESCOLES PIES, 99",
             8017,
             27,
             121
            ],
            [
             "C/ NÀPOLS, 125",
             8013,
             32,
             15
            ],
            [
             "AV. PARAL.LEL 164",
             8015,
             3,
             17
            ],
            [
             "C/ CASANOVA, 119",
             8036,
             30,
             30
            ],
            [
             "C/ VILAMARÍ, 85",
             8015,
             26,
             28
            ],
            [
             "C/ NUMÀNCIA, 2",
             8029,
             24,
             32
            ],
            [
             "C/ LOPE DE VEGA, 79",
             8005,
             27,
             3
            ],
            [
             "C/ AGUSTÍ DURAN I SANPERE, 10",
             8001,
             41,
             10
            ],
            [
             "C/ DURAN I BAS, 2",
             8002,
             24,
             11
            ],
            [
             "AV. JOSEP TARRADELLAS, 27",
             8029,
             21,
             35
            ],
            [
             "PL. JOAQUIM XIRAU I PALAU, 1",
             8002,
             21,
             5
            ],
            [
             "PL. ICTÍNEO",
             8039,
             29,
             2
            ],
            [
             "WORLD  TRADE CENTER",
             8039,
             39,
             3
            ],
            [
             "C/ GOMBAU, 24",
             8003,
             26,
             5
            ],
            [
             "WORLD TRADE CENTER",
             8039,
             39,
             3
            ],
            [
             "AV. PARAL.LEL, 132",
             8015,
             30,
             13
            ],
            [
             "C/ DELS ENAMORATS, 49",
             8013,
             36,
             19
            ],
            [
             "C/ SARDENYA, 326",
             8025,
             32,
             37
            ],
            [
             "C/ CONSELL DE CENT, 482",
             8013,
             27,
             23
            ],
            [
             "C/ DIPUTACIÓ, 373",
             8013,
             27,
             21
            ],
            [
             "C/ MARQUÈS DE SENTMENAT, 46",
             8029,
             32,
             44
            ],
            [
             "LA RAMBLA, 75",
             8001,
             18,
             8
            ],
            [
             "C/ VILADOMAT, 244",
             8029,
             31,
             39
            ],
            [
             "PG. DE GRÀCIA, 61",
             8007,
             32,
             32
            ],
            [
             "C/ BRUC, 20",
             8010,
             24,
             16
            ],
            [
             "C/ BAILÉN, 100",
             8009,
             32,
             27
            ],
            [
             "PG. DE COLOM (LES RAMBLES)",
             8039,
             33,
             5
            ],
            [
             "C/ BAILÉN, 62",
             8009,
             30,
             22
            ],
            [
             "PG. DE GRÀCIA, 89",
             8008,
             33,
             37
            ],
            [
             "C/ ARTESA DE SEGRE, 2",
             8022,
             27,
             106
            ],
            [
             "C/ CASANOVA, 55",
             8011,
             27,
             23
            ],
            [
             "C/ BALMES, 409",
             8022,
             32,
             111
            ],
            [
             "C/ GRANOLLERS, 1",
             8032,
             24,
             78
            ],
            [
             "C/ AMILCAR, 1",
             8031,
             12,
             61
            ],
            [
             "C/ CUBELLES, 2",
             8031,
             27,
             57
            ],
            [
             "PL. DELS JARDINS D'ALFÀBIA, 1",
             8016,
             17,
             66
            ],
            [
             "C/ MÚRCIA, 64",
             8027,
             27,
             17
            ],
            [
             "PL. VIRREI AMAT",
             8016,
             32,
             55
            ],
            [
             "GRAN VIA DE LES CORTS CATALANES, 632",
             8007,
             16,
             22
            ],
            [
             "C/ BOLÍVIA, 76",
             8018,
             16,
             7
            ],
            [
             "C/ MALATS, 98-100",
             8030,
             16,
             35
            ],
            [
             "AV. DIAGONAL, 652",
             8034,
             27,
             63
            ],
            [
             "C/ FULTON, 1",
             8032,
             20,
             76
            ],
            [
             "PG. FONT D´EN- FARGAS, 1",
             8031,
             26,
             75
            ],
            [
             "C/ D'ESCORNALBOU, 51",
             8041,
             24,
             74
            ],
            [
             "SEU DEL DISTRICTE (NOU BARRIS)",
             8042,
             24,
             72
            ],
            [
             "C/ SANT ANTONI Mª CLARET, 290-296",
             8041,
             27,
             49
            ],
            [
             "TRAVESSERA DE GRÀCIA, 368",
             8025,
             27,
             59
            ],
            [
             "TRAVESSERA DE GRÀCIA, 328",
             8025,
             27,
             60
            ],
            [
             "PLAÇA ALFONS X EL SAVI / RONDA DEL GUINARDO",
             8024,
             27,
             88
            ],
            [
             "AV. RIO DE JANEIRO, 3",
             8016,
             32,
             38
            ],
            [
             "RAMBLA FABRA I PUIG, 67",
             8030,
             32,
             33
            ],
            [
             "AV. MERIDIANA, 404",
             8030,
             36,
             38
            ],
            [
             "C/ CONCEPCIÓ ARENAL, 281",
             8033,
             26,
             32
            ],
            [
             "VIA BARCINO, 69",
             8033,
             20,
             28
            ],
            [
             "270 - CRTA. DE RIBES, 77 (TRINITAT VELLA)",
             8033,
             27,
             35
            ],
            [
             "VIA BARCINO, 121",
             8033,
             20,
             26
            ],
            [
             "C/ FERNANDO PESSOA, 72",
             8030,
             27,
             26
            ],
            [
             "PG. TORRAS I BAGES, 129",
             8030,
             24,
             29
            ],
            [
             "C/ CONCEPCIÓ ARENAL, 176",
             8027,
             26,
             37
            ],
            [
             "C/ MAS CASANOVAS, 137",
             8041,
             27,
             75
            ],
            [
             "C/ REUS, 23",
             8022,
             24,
             114
            ],
            [
             "C/ SANT ISCLE, 60",
             8031,
             27,
             61
            ],
            [
             "C/ TURÓ BLAU, 1-3",
             8016,
             24,
             62
            ],
            [
             "C/ ALT DE GIRONELLA, 13",
             8017,
             23,
             82
            ],
            [
             "C/ REINA VICTORIA, 31",
             8021,
             27,
             80
            ],
            [
             "C/ VALLMAJOR, 13",
             8021,
             27,
             88
            ],
            [
             "C/ SANTALÓ, 165",
             8021,
             24,
             106
            ],
            [
             "C/ SANT HERMENEGILD, 30",
             8006,
             27,
             79
            ],
            [
             "C/ MADRAZO, 39",
             8006,
             27,
             67
            ],
            [
             "C/ SAGUÉS, 1",
             8021,
             31,
             51
            ],
            [
             "C/ CASTILLEJOS, 388",
             8025,
             32,
             77
            ],
            [
             "RAMBLA DE PRIM, 256",
             8020,
             27,
             11
            ],
            [
             "C/ CANTÀBRIA, 55",
             8020,
             26,
             9
            ],
            [
             "C/ DEL GUINARDÓ, 32-38",
             8041,
             27,
             38
            ],
            [
             "RAMBLA DEL BRASIL, 44",
             8028,
             24,
             35
            ],
            [
             "C/ FELIU DE CASANOVA, 1",
             8028,
             29,
             28
            ],
            [
             "C/ DE ROSSELLÓ I PORCEL, 1/AV.MERIDIANA",
             8016,
             32,
             41
            ],
            [
             "C/ ARIZALA, 77",
             8028,
             36,
             40
            ],
            [
             "C/ JOSEP SAMITIER / JOAN XXIII",
             8028,
             27,
             46
            ],
            [
             "C/ SANT RAMON NONAT,  26",
             8028,
             22,
             50
            ],
            [
             "C/ CARDENAL REIG, 11",
             8028,
             26,
             54
            ],
            [
             "C/ PINTOR RIBALTA / AV. XILE",
             8028,
             32,
             60
            ],
            [
             "C/ DOCTOR SALVADOR CARDENAL, 1-5",
             8028,
             31,
             60
            ],
            [
             "AV. DIAGONAL, 680",
             8034,
             27,
             65
            ],
            [
             "PG. MANUEL GIRONA, 7",
             8034,
             27,
             78
            ],
            [
             "C/ CAVALLERS, 67",
             8034,
             27,
             101
            ],
            [
             "C/ CAVALLERS, 41",
             8034,
             32,
             111
            ],
            [
             "C/ MARIE CURIE, 8-14",
             8042,
             27,
             73
            ],
            [
             "C/ DE MALADETA, 1",
             8016,
             18,
             44
            ],
            [
             "C/ DE L'ESCULTOR ORDÓÑEZ, 55",
             8016,
             27,
             53
            ],
            [
             "C/ ANDREU NIN, 22",
             8016,
             33,
             41
            ],
            [
             "C/ GALLEGO, 2",
             8028,
             24,
             43
            ],
            [
             "C/ RIERA ALTA, 6",
             8001,
             34,
             10
            ],
            [
             "AV. RASOS DE PEGUERA, 10",
             8033,
             20,
             44
            ],
            [
             "C/ COMERÇ, 36",
             8003,
             25,
             5
            ],
            [
             "PG. VALLDAURA, 26",
             8031,
             27,
             121
            ],
            [
             "C/ EDUARD TODA, 33 | C/ DOCTOR LETAMENDI",
             8031,
             27,
             104
            ],
            [
             "C/ LISBOA, 1",
             8032,
             29,
             79
            ],
            [
             "PG. UNIVERSAL, 29 | C/ DOCTOR LETAMENDI",
             8042,
             20,
             95
            ],
            [
             "PG. FABRA I PUIG, 411",
             8031,
             26,
             89
            ],
            [
             "PG. FABRA I PUIG, 385",
             8031,
             28,
             92
            ],
            [
             "PG. FABRA I PUIG, 344",
             8031,
             18,
             73
            ],
            [
             "C/ ESCULTOR LLIMONA, 7",
             8031,
             30,
             65
            ],
            [
             "C/ AMILCAR, 78",
             8032,
             26,
             69
            ],
            [
             "C/ PERIODISTES, 9",
             8032,
             18,
             80
            ],
            [
             "C/ CAMPO FLORIDO, 66",
             8027,
             19,
             46
            ],
            [
             "VIA FAVÈNCIA, 47",
             8042,
             24,
             102
            ],
            [
             "PG. FABRA I PUIG, 449",
             8042,
             31,
             94
            ],
            [
             "C/ PORTO, 35 | AV. ESTATUT DE CATALUNYA",
             8032,
             28,
             81
            ],
            [
             "VIA FAVÈNCIA, 186",
             8042,
             24,
             105
            ],
            [
             "C/ GÒNGORA, 23",
             8042,
             24,
             93
            ],
            [
             "C/ SANT FRANCESC XAVIER, 1",
             8016,
             18,
             72
            ],
            [
             "C/ NOU BARRIS, 23",
             8042,
             18,
             107
            ],
            [
             "PL. JESÚS CARRASCO",
             8042,
             20,
             93
            ],
            [
             "C/ PABLO IGLESIAS, 21",
             8016,
             29,
             63
            ],
            [
             "C/ ROSSELLÓ, 261",
             8008,
             27,
             41
            ],
            [
             "AV. RIO DE JANEIRO, 96",
             8016,
             24,
             47
            ],
            [
             "C/ PEDROSA, 24",
             8033,
             24,
             68
            ],
            [
             "C/ PALAMÓS, 33",
             8033,
             28,
             61
            ],
            [
             "AV. RIO DE JANEIRO, 118",
             8016,
             28,
             43
            ],
            [
             "C/ MIREIA, 28",
             8033,
             15,
             56
            ],
            [
             "PG. SANTA COLOMA, 105",
             8030,
             39,
             24
            ],
            [
             "C/ TUCUMÁN, 21",
             8030,
             24,
             17
            ],
            [
             "PG. VALLDAURA, 171",
             8042,
             24,
             78
            ],
            [
             "C/ GRANADELLA, 10-19 | C/ SAS",
             8030,
             18,
             12
            ],
            [
             "C/ LISBOA, 128",
             8032,
             27,
             98
            ],
            [
             "C/ JORGE MANRIQUE, 15",
             8035,
             27,
             119
            ],
            [
             "C/REPÚBLICA DOMINICANA,25(CENTRE COMERCIAL)",
             8030,
             33,
             20
            ],
            [
             "C/ SANT ADRIÀ, 88",
             8030,
             21,
             15
            ],
            [
             "C/ SANT ADRIÀ, 43",
             8030,
             24,
             19
            ],
            [
             "C/ ARAGÓ, 614",
             8018,
             18,
             16
            ],
            [
             "VIA AUGUSTA, 317",
             8017,
             28,
             111
            ],
            [
             "C/ D'ALACANT, 12",
             8017,
             27,
             96
            ],
            [
             "C/ GRAN DE GRÀCIA, 91",
             8012,
             20,
             61
            ],
            [
             "C/ GRAN DE GRÀCIA, 37",
             8012,
             27,
             55
            ],
            [
             "C/ TORRENT DE L'OLLA, 11",
             8012,
             32,
             46
            ],
            [
             "C/ SARDENYA, 465",
             8025,
             27,
             70
            ],
            [
             "C/ SARDENYA, 494",
             8024,
             24,
             81
            ],
            [
             "C/ GARRIGA I ROCA, 2",
             8041,
             15,
             107
            ],
            [
             "C/ CAMÈLIES, 78",
             8024,
             27,
             118
            ],
            [
             "AV. CAN MARCET, 36",
             8035,
             27,
             132
            ],
            [
             "C/ MASSENS, 76",
             8024,
             28,
             87
            ],
            [
             "AV. VALLCARCA, 11",
             8023,
             19,
             88
            ],
            [
             "C/ ELISA, 1",
             8023,
             16,
             95
            ],
            [
             "C/ ARGENTERA, 23",
             8023,
             23,
             101
            ],
            [
             "AV. VALLCARCA, 196",
             8023,
             27,
             127
            ],
            [
             "C/ ESTEVE TERRADAS, 42",
             8023,
             26,
             145
            ],
            [
             "PTGE. MALUQUER, 16",
             8022,
             27,
             124
            ],
            [
             "C/ PROVENÇA, 445",
             8025,
             18,
             33
            ],
            [
             "C/ DIPUTACIÓ, 22",
             8015,
             21,
             24
            ],
            [
             "RAMBLA CATALUNYA/DIPUTACIO",
             8007,
             24,
             25
            ],
            [
             "PG. VALL D'HEBRÓN, 80",
             8023,
             24,
             166
            ],
            [
             "PL. TETUAN",
             8010,
             24,
             18
            ],
            [
             "C/ PARE MARIANA, 24",
             8035,
             27,
             125
            ],
            [
             "PG. VALL D'HEBRÓN, 168",
             8035,
             50,
             150
            ],
            [
             "C/ MAIGNON, 31-41",
             8024,
             30,
             105
            ],
            [
             "RECINTE PARC DE LA CIUTADELLA",
             8003,
             27,
             4
            ],
            [
             "C/ MÚRCIA, 1",
             8026,
             21,
             22
            ],
            [
             "C/ SARDENYA, 402",
             8025,
             27,
             56
            ],
            [
             "PG. DE LLUIS COMPANYS (ARC DE TRIOMF)",
             8018,
             33,
             10
            ],
            [
             "PG. DE LLUíS COMPANYS (ARC DE TRIOMF)",
             8018,
             27,
             10
            ],
            [
             "C/ VILLAR, 2",
             8041,
             32,
             46
            ],
            [
             "RAMBLA DEL RAVAL, 20",
             8001,
             27,
             6
            ],
            [
             "RAMBLA DEL RAVAL, 13",
             8001,
             25,
             8
            ],
            [
             "C/ CASP, 67",
             8010,
             33,
             16
            ],
            [
             "C/ BRUC, 66",
             8009,
             32,
             24
            ],
            [
             "PL. URQUINAONA, 3",
             8010,
             27,
             17
            ],
            [
             "C/ JOSEP PLA, 67",
             8019,
             24,
             4
            ],
            [
             "PG.DE COLOM (LES RAMBLES)",
             8039,
             38,
             5
            ],
            [
             "C/ JOAN D'ÀUSTRIA, 31B",
             8005,
             27,
             5
            ],
            [
             "C/ RAMON TRIAS FARGAS, 23",
             8005,
             39,
             5
            ],
            [
             "GRAN VIA DE LES CORTS CATALANES, 592",
             8007,
             33,
             21
            ],
            [
             "GRAN VIA DE LES CORTS CATALANES, 368",
             8010,
             27,
             24
            ],
            [
             "C/ COMTE BORRELL, 198",
             8029,
             26,
             28
            ],
            [
             "C/ VALLESPIR, 49",
             8014,
             22,
             32
            ],
            [
             "PG. DE COLOM (VIA LAIETANA)",
             8002,
             31,
             4
            ],
            [
             "PLA DE PALAU",
             8002,
             24,
             4
            ],
            [
             "MOLL ORIENTAL",
             8039,
             44,
             3
            ],
            [
             "C/ PAVIA, 3",
             8028,
             27,
             23
            ],
            [
             "PG. MARÍTIM DE LA BARCELONETA/ANDREA DÒRIA",
             8003,
             35,
             4
            ],
            [
             "AV. LITORAL (PG MARÍTIM DEL PORT OLÍMPIC)",
             8005,
             27,
             6
            ],
            [
             "C/ JOAN MIRÓ, 2-12",
             8005,
             32,
             5
            ],
            [
             "PL. CATALUNYA, 22",
             8002,
             33,
             15
            ],
            [
             "C/ DIPUTACIÓ, 226",
             8007,
             27,
             25
            ],
            [
             "C/ LLACUNA, 86",
             8005,
             31,
             3
            ],
            [
             "C/ RAMON TURRÓ, 4",
             8005,
             19,
             5
            ],
            [
             "C/ GRAN DE LA SAGRERA, 74",
             8027,
             27,
             22
            ],
            [
             "C/ JUAN GRIS, 28",
             8014,
             32,
             11
            ],
            [
             "C/ PROVENÇA, 595",
             8026,
             22,
             27
            ],
            [
             "C/ VALLESPIR, 13",
             8014,
             25,
             30
            ],
            [
             "PG. MARÍTIM DE LA BARCELONETA",
             8003,
             26,
             7
            ],
            [
             "GRAN VIA DE LES CORTS CATALANES, 1157 (D)",
             8020,
             54,
             8
            ],
            [
             "C/ PALLARS, 504",
             8019,
             24,
             4
            ],
            [
             "C/ CRISTOBAL DE MOURA, 84",
             8019,
             27,
             3
            ],
            [
             "C/ BOLIVIA, 120",
             8018,
             27,
             5
            ],
            [
             "C/ RAMÓN TURRÓ, 160",
             8005,
             27,
             3
            ],
            [
             "C/ ALMOGÀVERS, 63",
             8018,
             27,
             10
            ],
            [
             "PG. JOAN DE BORBÓ, 42",
             8003,
             15,
             4
            ],
            [
             "C/ VILAMARÍ, 2",
             8015,
             24,
             21
            ],
            [
             "C/ LLEIDA, 40",
             8004,
             27,
             33
            ],
            [
             "C/ CASANOVA, 139",
             8036,
             32,
             33
            ],
            [
             "C/ MINERIA, 30",
             8038,
             18,
             11
            ],
            [
             "C/ WATT, 2",
             8014,
             18,
             25
            ],
            [
             "C/ SELVA DE MAR, 230",
             8020,
             27,
             9
            ],
            [
             "C/ JORDI GIRONA, 29",
             8034,
             28,
             82
            ],
            [
             "RBLA. BADAL, 73 | C/ CONSTITUCIÓ",
             8014,
             18,
             14
            ],
            [
             "PG. ZONA FRANCA, 9",
             8038,
             36,
             5
            ],
            [
             "PG. ZONA FRANCA, 54",
             8038,
             19,
             6
            ],
            [
             "AV. DOCTOR MARAÑON, 25 | C/ PAU GARGALLO",
             8028,
             28,
             64
            ],
            [
             "C/ ROGER, 24",
             8028,
             27,
             34
            ],
            [
             "C/ JOHN MAYNARD KEYNES, 2 | AV. DIAGONAL",
             8034,
             42,
             70
            ],
            [
             "C/ MARTÍ I FRANQUÈS, 1",
             8028,
             28,
             63
            ],
            [
             "AV. JOAN XXIII, 17",
             8028,
             20,
             53
            ],
            [
             "C/ ALFAMBRA, 2 | AV. DIAGONAL",
             8034,
             28,
             77
            ],
            [
             "C/ GRAN CAPITÀ, 9",
             8034,
             28,
             105
            ],
            [
             "C/ PUJADES, 103",
             8005,
             27,
             3
            ],
            [
             "C/ DE SANT PAU, 119/ RONDA SANT PAU",
             8001,
             26,
             9
            ],
            [
             "C/ DE RIBES, 59 B",
             8013,
             33,
             12
            ],
            [
             "C/ DE CERVELLÓ, 5",
             8001,
             24,
             5
            ],
            [
             "C/ NÀPOLS, 183",
             8013,
             27,
             22
            ],
            [
             "PG. TORRAS I BAGES, 29",
             8030,
             20,
             23
            ],
            [
             "PL.VALENTÍ ALMIRALL",
             8018,
             27,
             6
            ],
            [
             "C/ VILLARROEL, 39",
             8011,
             32,
             17
            ],
            [
             "C/ TARRAGONA, 103-115",
             8014,
             33,
             28
            ],
            [
             "GRAN  VIA DE LES CORTS CATALANES, 375-385",
             8015,
             48,
             26
            ],
            [
             "C / PROVENÇA, 241",
             8008,
             17,
             37
            ],
            [
             "C/ COMTE D'URGELL, 43",
             8011,
             35,
             16
            ],
            [
             "C/ ROSSELLÓ, 108-110",
             8036,
             18,
             36
            ],
            [
             "C/ ROSSELLÓ,  101",
             8036,
             27,
             36
            ],
            [
             "C/ LONDRES, 101-103",
             8036,
             20,
             45
            ],
            [
             "C/ ROCAFORT, 187",
             8029,
             25,
             29
            ],
            [
             "C/ VILADOMAT,  2",
             8015,
             27,
             12
            ],
            [
             "AV. PARAL·LEL, 146 BIS",
             8015,
             40,
             15
            ],
            [
             "C/ DEL COMTE D'URGELL, 75 B",
             8011,
             26,
             20
            ],
            [
             "C/ CALABRIA, 158",
             8015,
             22,
             25
            ],
            [
             "C/ CALÀBRIA, 112",
             8015,
             40,
             20
            ],
            [
             "GRAN VIA DE LES CORTS CATALANES, 368",
             8010,
             21,
             24
            ],
            [
             "C/ VILAMARÍ,  61",
             8015,
             21,
             24
            ],
            [
             "PL. UNIVERSITAT",
             8007,
             24,
             21
            ],
            [
             "PL. UNIVERSITAT /  ARIBAU",
             8011,
             27,
             21
            ],
            [
             "AV. FRANCESC CAMBÓ, 10",
             8003,
             24,
             8
            ],
            [
             "C/ CÒRSEGA, 216",
             8036,
             32,
             40
            ],
            [
             "AV. JOSEP TARRADELLAS, 58",
             8029,
             21,
             40
            ],
            [
             "AV. JOSEP TARRADELLAS, 133",
             8029,
             15,
             47
            ],
            [
             "C/ ENRIC GRANADOS, 93",
             8008,
             26,
             39
            ],
            [
             "C/ PROVENÇA, 215",
             8008,
             27,
             37
            ],
            [
             "C/ FLORIDABLANCA, 145",
             8011,
             21,
             16
            ],
            [
             "C/ COMTE URGELL, 23",
             8011,
             27,
             15
            ],
            [
             "CARRER DE LA MARINA,25-33",
             8005,
             42,
             7
            ],
            [
             "RAMBLA CATALUNYA, 133 /  CÒRSEGA",
             8008,
             27,
             44
            ],
            [
             "C/ ROCAFORT, 214 | C/ ROSSELLÓ",
             8029,
             24,
             37
            ],
            [
             "C/ ENRIC  GRANADOS, 35",
             8007,
             21,
             31
            ],
            [
             "GRAN VIA DE LES CORTS CATALANES, 609",
             8007,
             16,
             23
            ],
            [
             "C/ TARRAGONA, 141",
             8014,
             21,
             29
            ],
            [
             "C/ VIRIAT,  53",
             8014,
             21,
             30
            ],
            [
             "C/ ARAGÓ, 659 /NAVAS DE TOLOSA",
             8026,
             27,
             16
            ],
            [
             "PG. DE COLOM /VIA LAIETANA",
             8002,
             23,
             4
            ],
            [
             "PG. MARíTIM, 31 B (ANNEXA A LA  12)",
             8003,
             21,
             7
            ],
            [
             "C/ NOVA  BOCANA",
             8039,
             31,
             3
            ],
            [
             "C/ PROVENÇA, 317",
             8037,
             21,
             34
            ],
            [
             "C/ NÀPOLS, 344",
             8025,
             33,
             54
            ],
            [
             "C/ CASTILLEJOS, 258",
             8013,
             21,
             28
            ],
            [
             "C/ LEPANT,  278",
             8013,
             21,
             28
            ],
            [
             "C/ SARDENYA,  178",
             8013,
             39,
             12
            ],
            [
             "C/ PUJADES,  3",
             8018,
             27,
             6
            ],
            [
             "C/ ROSA SENSAT, 12",
             8005,
             21,
             5
            ],
            [
             "C/ DEL DR. AIGUADER, 72 / PG. SALVAT PAPASSEIT",
             8003,
             27,
             5
            ],
            [
             "AV. MARQUÉS DE L'ARGENTERA,  3",
             8003,
             21,
             4
            ],
            [
             "C/ VIRIAT, 43",
             8014,
             21,
             31
            ],
            [
             "PL. JEAN GENET,  1",
             8001,
             20,
             5
            ],
            [
             "C/ FLORIDABLANCA, 49",
             8015,
             20,
             13
            ],
            [
             "C/ ARAGÓN 147",
             8015,
             19,
             21
            ],
            [
             "AV. ROMA,  136",
             8011,
             21,
             25
            ],
            [
             "C/ LONDRES,  53",
             8036,
             23,
             43
            ],
            [
             "C / INDÚSTRIA, 10",
             8037,
             21,
             45
            ],
            [
             "TRAV. DE GRÀCIA, 92 / VIA AUGUSTA",
             8006,
             20,
             56
            ],
            [
             "PL  JOANIC - C / BRUNIQUER, 59",
             8024,
             20,
             56
            ],
            [
             "RDA. DE SANT PERE, 26",
             8010,
             21,
             15
            ],
            [
             "C/ VALÈNCIA, 621",
             8026,
             26,
             16
            ],
            [
             "C/ ARAGÓ, 629",
             8026,
             21,
             16
            ],
            [
             "AV. DIAGONAL,  612",
             8021,
             24,
             54
            ],
            [
             "AV. DIAGONAL, 602",
             8021,
             24,
             53
            ],
            [
             "C/ TARRAGONA,  159-173",
             8014,
             22,
             29
            ],
            [
             "RONDA DE SANT PAU, 51",
             8015,
             33,
             11
            ],
            [
             "RAMBLA DE GUIPÚSCOA, 43/FLUVIÀ",
             8020,
             43,
             10
            ],
            [
             "PL. CATALUNYA, 10-11 (PG. DE GRÀCIA)",
             8002,
             21,
             20
            ],
            [
             "PL. CATALUNYA, 7",
             8002,
             26,
             19
            ],
            [
             "C/ SARDENYA, 362",
             8025,
             23,
             46
            ],
            [
             "C/ PROVENÇA, 322",
             8037,
             21,
             38
            ],
            [
             "C/ DOS DE MAIG, 230-232",
             8013,
             18,
             22
            ],
            [
             "C/ BRUC, 102",
             8009,
             21,
             29
            ],
            [
             "C/ MARINA, 199",
             8013,
             40,
             23
            ],
            [
             "C/ BRUC, 45",
             8010,
             27,
             21
            ],
            [
             "C/ SARDENYA, 292",
             8013,
             19,
             28
            ],
            [
             "C/ SANT ANTONI MARIA CLARET, 214",
             8025,
             21,
             52
            ],
            [
             "C/ CARTAGENA, 308",
             8025,
             18,
             46
            ],
            [
             "C/ ROSSELLÓ, 354",
             8025,
             30,
             40
            ],
            [
             "C/ ROSSELLÓ, 453",
             8025,
             27,
             38
            ],
            [
             "AV. MERIDIANA, 47 (D)",
             8013,
             42,
             14
            ],
            [
             "C/ DIPUTACIÓ, 272",
             8009,
             27,
             25
            ],
            [
             "C/ PROVENÇA, 388-390",
             8025,
             23,
             34
            ],
            [
             "AV. MARQUÉS DE  L'ARGENTERA, 15",
             8003,
             27,
             5
            ],
            [
             "PG. MARITIM, 23 (HOSPITAL DEL MAR)",
             8003,
             26,
             7
            ],
            [
             "PG. MARITIM, 11 (DAVANT PL. BRUGADA)",
             8003,
             35,
             7
            ],
            [
             "C/ 60, NÚMERO 25",
             8040,
             42,
             4
            ],
            [
             "AV. MARQUÉS DE L'ARGENTERA,13",
             8003,
             27,
             5
            ],
            [
             "PG. PUJADES, 2",
             8003,
             26,
             6
            ],
            [
             "PG. PUJADES,  1 (JUTJATS)",
             8003,
             27,
             6
            ],
            [
             "PG. LLUIS COMPANYS, 18  (ARC TRIOMF)",
             8018,
             39,
             10
            ],
            [
             "PG. LLUIS COMPANYS, 11 (ARC TRIOMF)",
             8018,
             39,
             7
            ],
            [
             "C/ RIBES, 13",
             8013,
             21,
             8
            ],
            [
             "C/ NÀPOLS, 82",
             8013,
             27,
             11
            ],
            [
             "C/ ROGER DE FLOR, 126",
             8013,
             29,
             17
            ],
            [
             "GRAN VIA CORTS CATALANES, 760",
             8013,
             46,
             16
            ],
            [
             "C/ LLOBREGÓS, 115",
             8032,
             27,
             112
            ],
            [
             "C/ MARINA, 25-33",
             8005,
             54,
             7
            ],
            [
             "PL. CATALUNYA, 10-11 (LA RAMBLA)",
             8002,
             21,
             21
            ],
            [
             "C/ CASTILLEJOS, 184",
             8013,
             29,
             13
            ],
            [
             "LA BARCELONETA (CN BARCELONETA)",
             8003,
             15,
             4
            ],
            [
             "PL. CATALUNYA, 5",
             8002,
             25,
             19
            ],
            [
             "C/ ARAGÓ, 288",
             8009,
             20,
             26
            ],
            [
             "RBLA. CATALUNYA, 47",
             8007,
             27,
             27
            ],
            [
             "PLAÇA DELS ÀNGELS (MACBA)",
             8001,
             43,
             11
            ],
            [
             "LA RAMBLA, 2 (MUSEO DE CERA)",
             8002,
             25,
             4
            ],
            [
             "PORTAL DE SANTA MADRONA, 2-4",
             8001,
             27,
             5
            ],
            [
             "LA RAMBLA, 80",
             8002,
             19,
             8
            ],
            [
             "C/ SANT OLEGUER, 2",
             8001,
             18,
             6
            ],
            [
             "PL. CARLES PI I SUNYER",
             8002,
             21,
             10
            ],
            [
             "PL. SANT MIQUEL, 4",
             8002,
             32,
             11
            ],
            [
             "PL. VICENÇ MARTORELL",
             8001,
             20,
             12
            ],
            [
             "AV. PARAL.LEL, 54",
             8004,
             18,
             8
            ],
            [
             "C/ ROSA SENSAT, 20",
             8005,
             21,
             5
            ],
            [
             "PL. DEL MAR",
             8003,
             18,
             4
            ],
            [
             "AV. MERIDIANA, 40",
             8018,
             21,
             11
            ],
            [
             "C/ VILLENA, 1",
             8005,
             54,
             7
            ],
            [
             "C/ SARDENYA, 66",
             8005,
             27,
             5
            ],
            [
             "AV. MERIDIANA, 66",
             8018,
             17,
             16
            ],
            [
             "C/ CLOT, 1",
             8018,
             27,
             13
            ],
            [
             "C/ CIUTAT DE GRANADA, 168 | AV. DIAGONAL",
             8018,
             24,
             4
            ],
            [
             "PL. POETA BOSCÀ | C/ ATLÀNTIDA",
             8003,
             25,
             5
            ],
            [
             "C/ DOCTOR AIGUADER, 2",
             8039,
             18,
             6
            ],
            [
             "PL. PAU VILA (D)",
             8039,
             44,
             4
            ],
            [
             "PG. DE COLOM - VIA LAIETANA",
             8002,
             24,
             4
            ],
            [
             "AV. DE LA CATEDRAL, 6",
             8002,
             21,
             8
            ],
            [
             "C/ SANT RAMON DE PENYAFORT, 1",
             8930,
             54,
             5
            ],
            [
             "C/ SANT PERE MÉS ALT, 4",
             8003,
             21,
             9
            ],
            [
             "C/ PONTEVEDRA, 58B | C/ JUDICI",
             8003,
             21,
             4
            ],
            [
             "C/ RAMON TRIAS FARGAS, 21",
             8005,
             47,
             5
            ],
            [
             "C/ ENTENÇA, 70",
             8015,
             24,
             21
            ],
            [
             "C/ MANSO, 46",
             8015,
             23,
             13
            ],
            [
             "RAMBLA  DE GUIPÚSCOA, 158/ CA N'OLIVA",
             8020,
             29,
             11
            ],
            [
             "PL. DEL NORD, 5",
             8024,
             21,
             73
            ],
            [
             "C/ DEL TORRENT DE LES FLORS, 102",
             8024,
             18,
             69
            ],
            [
             "C/ MONTMANY, 1",
             8012,
             27,
             52
            ],
            [
             "C/ VILADOMAT, 200",
             8029,
             25,
             28
            ],
            [
             "C / GIRONA, 176",
             8037,
             26,
             40
            ],
            [
             "C/ DE BONAVISTA, 14",
             8012,
             35,
             48
            ],
            [
             "C/ DEL CANÓ, 1",
             8012,
             27,
             58
            ],
            [
             "GRAN DE GRÀCIA, 155 (METRO FONTANA)",
             8012,
             24,
             68
            ],
            [
             "C/ TUSET, 19",
             8006,
             27,
             53
            ],
            [
             "C/ LAFORJA, 74-76",
             8021,
             23,
             67
            ],
            [
             "C/ CONSELL DE CENT, 566",
             8013,
             39,
             17
            ],
            [
             "C/ RECTOR UBACH, 24",
             8021,
             27,
             75
            ],
            [
             "C/ MADRAZO, 131",
             8021,
             27,
             63
            ],
            [
             "C/ DE LA SANTACREU, 2 (PL.DE LA VIRREINA)",
             8024,
             28,
             68
            ],
            [
             "C/ GANDUXER, 29",
             8021,
             21,
             65
            ],
            [
             "C/ SANTA FE DE NOU MÈXIC, 2",
             8017,
             33,
             70
            ],
            [
             "AV. SARRIÀ, 163",
             8017,
             24,
             75
            ],
            [
             "C/ SANCHO DE ÁVILA, 60-64",
             8018,
             28,
             5
            ],
            [
             "C/ VILARDELL, 18",
             8014,
             31,
             22
            ],
            [
             "C/ DIPUTACIÓ, 200",
             8011,
             26,
             23
            ],
            [
             "AV. DIAGONAL, 630",
             8017,
             33,
             59
            ],
            [
             "AV. DIAGONAL, 634",
             8017,
             25,
             62
            ],
            [
             "AV. DIAGONAL, 650",
             8017,
             33,
             62
            ],
            [
             "C/ EUROPA, 25",
             8028,
             33,
             57
            ],
            [
             "AV. DIAGONAL, 672",
             8034,
             33,
             63
            ],
            [
             "AV. DIAGONAL, 668",
             8034,
             33,
             64
            ],
            [
             "C/ DE LES CORTS, 20",
             8028,
             27,
             52
            ],
            [
             "C/ NUMÀNCIA, 136",
             8029,
             24,
             55
            ],
            [
             "C/ JOSÉ DE  AGULLÓ, 9",
             8017,
             25,
             72
            ],
            [
             "C/ JOAN GÜELL, 174",
             8028,
             23,
             47
            ],
            [
             "C/ DE NIL FABRA, 16-20",
             8012,
             26,
             80
            ],
            [
             "C/ MATA, 2",
             8004,
             27,
             7
            ],
            [
             "CARRER DEL CINCA, 7",
             8030,
             27,
             22
            ],
            [
             "C/ DE BARTRINA, 14",
             8030,
             24,
             34
            ],
            [
             "C/ FERNANDO PESSOA, 45",
             8030,
             26,
             23
            ],
            [
             "C/ SANT ADRIÀ, 2-8",
             8030,
             24,
             27
            ],
            [
             "C/ MALATS, 28-30",
             8030,
             32,
             25
            ],
            [
             "C/ IRLANDA, 34",
             8030,
             15,
             30
            ],
            [
             "RAMBLA DE L'ONZE DE SETEMBRE, 69",
             8030,
             26,
             26
            ],
            [
             "C/ ONZE DE SETEMBRE, 37-39",
             8030,
             27,
             25
            ],
            [
             "RAMBLA DE L'ONZE DE SETEMBRE, 31",
             8030,
             33,
             24
            ],
            [
             "C/ CARDENAL TEDESCHINI, 13",
             8027,
             33,
             35
            ],
            [
             "C/ PORTUGAL, 3",
             8027,
             27,
             25
            ],
            [
             "C/ ANTILLES, 8",
             8027,
             27,
             21
            ],
            [
             "C/ PALÈNCIA, 31",
             8027,
             26,
             18
            ],
            [
             "C/ PAU ALSINA, 54",
             8025,
             24,
             65
            ],
            [
             "C/ FELIPE II, 112",
             8027,
             32,
             32
            ],
            [
             "LA RAMBLA, 101",
             8002,
             27,
             10
            ],
            [
             "C/ FELIP II, 214",
             8027,
             27,
             44
            ],
            [
             "C/ ALEXANDRE GALÍ, 1-5",
             8027,
             27,
             42
            ],
            [
             "C/ RAMON ALBÓ, 1",
             8027,
             27,
             56
            ],
            [
             "C/ TEODOR LLORENTE, 1",
             8041,
             33,
             44
            ],
            [
             "C/ JOSEP ESTIVILL, 32",
             8027,
             27,
             23
            ],
            [
             "C/ INDÚSTRIA, 329",
             8027,
             35,
             31
            ],
            [
             "C/ ESPRONCEDA, 298",
             8027,
             27,
             16
            ],
            [
             "C/ RIUS I TAULET, 4",
             8004,
             27,
             33
            ],
            [
             "AV. PARAL.LEL, 194",
             8015,
             26,
             24
            ],
            [
             "AV. PARAL.LEL, 98",
             8015,
             21,
             10
            ],
            [
             "PG. DE L´EXPOSICIÓ, 38 /BLASCO GARAY",
             8004,
             27,
             31
            ],
            [
             "C/ NOU DE LA RAMBLA, 164",
             8004,
             27,
             21
            ],
            [
             "C/ GARCILASO, 77",
             8027,
             18,
             30
            ],
            [
             "RAMBLA DE GUIPÚSCOA, 103 /CANTÀBRIA",
             8020,
             24,
             8
            ],
            [
             "C/ MEJÍA LEQUERICA, 2",
             8028,
             27,
             47
            ],
            [
             "C/ GELABERT, 1",
             8029,
             27,
             47
            ],
            [
             "C/ RAMON TURRÓ, 91",
             8005,
             27,
             4
            ],
            [
             "AV. D'EDUARD MARISTANY, 1 /FORUM",
             8019,
             33,
             4
            ],
            [
             "AV. DIAGONAL, 26",
             8019,
             32,
             4
            ],
            [
             "RAMBLA DE PRIM, 19",
             8019,
             27,
             4
            ],
            [
             "C/ LLULL, 465",
             8019,
             33,
             4
            ],
            [
             "C/ PUJADES, 311/ FLUVIÀ",
             8019,
             32,
             4
            ],
            [
             "C/ PUJADES, 191",
             8005,
             32,
             2
            ],
            [
             "C/ PUJADES, 173/RBLA POBLE NOU",
             8005,
             22,
             3
            ],
            [
             "C/ PUJADES, 121",
             8005,
             27,
             3
            ],
            [
             "C/ PALLARS, 182",
             8005,
             27,
             3
            ],
            [
             "C/ ESPRONCEDA, 124",
             8005,
             27,
             4
            ],
            [
             "C/ PUJADES, 57B",
             8019,
             27,
             4
            ],
            [
             "RONDA SANT PAU, 79",
             8015,
             27,
             12
            ],
            [
             "C/ RAMON TURRÓ, 292",
             8005,
             26,
             3
            ],
            [
             "RAMBLA PRIM, 79",
             8019,
             33,
             5
            ],
            [
             "C/ PERE IV,  301 / FLUVIÀ",
             8020,
             27,
             4
            ],
            [
             "C/ CASTELLA,  28 / DIAGONAL",
             8018,
             27,
             4
            ],
            [
             "C/ SANCHO DE ÁVILA, 170 / LLACUNA",
             8018,
             26,
             4
            ],
            [
             "C/ SANCHO DE ÁVILA,  104 - C/ BADAJOZ",
             8018,
             32,
             4
            ],
            [
             "C/ BILBAO, 174",
             8018,
             32,
             7
            ],
            [
             "C/ VILADOMAT, 122",
             8015,
             27,
             19
            ],
            [
             "GRAN VIA DE LES CORTS CATALANES,  1131",
             8020,
             35,
             7
            ],
            [
             "GRAN VIA DE LES CORTS CATALANES, 1118",
             8020,
             21,
             7
            ],
            [
             "GRAN VIA DE LES CORTS CATALANES, 1041",
             8020,
             25,
             7
            ],
            [
             "GRAN VIA DE LES CORTS CATALANES,  1062",
             8020,
             31,
             8
            ],
            [
             "GRAN VIA DE LES CORTS CATALANES,  981",
             8018,
             21,
             8
            ],
            [
             "C/ BAC DE RODA, 157",
             8018,
             21,
             6
            ],
            [
             "GRAN VIA DE LES CORTS CATALANES, 902",
             8018,
             16,
             6
            ],
            [
             "C/ PERE IV, 488",
             8019,
             24,
             4
            ],
            [
             "C/ VALLESPIR, 194",
             8014,
             27,
             48
            ],
            [
             "AV. ICÀRIA, 202",
             8005,
             26,
             3
            ],
            [
             "C/ DEL DOCTOR TRUETA, 222",
             8005,
             27,
             3
            ],
            [
             "C/ BERLÍN, 38",
             8029,
             27,
             38
            ],
            [
             "C/ VALLESPIR, 130",
             8014,
             27,
             38
            ],
            [
             "C/ JOAN GÜELL, 98",
             8028,
             24,
             38
            ],
            [
             "C/ FÍGOLS, 1",
             8028,
             27,
             41
            ],
            [
             "C/ JOAN GÜELL, 50",
             8028,
             21,
             33
            ],
            [
             "C/ ENTENÇA, 137",
             8015,
             37,
             15
            ],
            [
             "AV. LITORAL, 72",
             8005,
             29,
             6
            ],
            [
             "C/ BRUC, 130",
             8037,
             28,
             34
            ],
            [
             "PG. SANT ANTONI /PL. SANTS",
             8014,
             27,
             30
            ],
            [
             "C/ DE SANT PAU, 89 - 97",
             8001,
             19,
             5
            ],
            [
             "C/CONSELL DE CENT, 6",
             8014,
             26,
             27
            ],
            [
             "C/GAVÀ, 81",
             8014,
             17,
             20
            ],
            [
             "C/ QUETZAL, 22-24",
             8014,
             27,
             22
            ],
            [
             "C/ INDEPENDÈNCIA, 379",
             8026,
             27,
             46
            ],
            [
             "C/ GAVÀ, 1",
             8014,
             30,
             18
            ],
            [
             "GRAN VIA DE LES CORTS CATALANES, 179 (D)",
             8014,
             50,
             14
            ],
            [
             "PG. ZONA FRANCA, 244",
             8038,
             16,
             9
            ],
            [
             "PG. DE GARCIA FÀRIA, 85",
             8019,
             27,
             7
            ],
            [
             "C/ ROSSELLÓ, 557",
             8026,
             34,
             33
            ],
            [
             "PG. DE GARCIA FÀRIA, 37/JOSEP FERRATER",
             8019,
             31,
             6
            ],
            [
             "C/ LLULL, 309",
             8019,
             27,
             4
            ],
            [
             "PG. DE GARCIA FÀRIA, 21/ESPRONCEDA",
             8005,
             27,
             6
            ],
            [
             "AV.LITORAL, 84",
             8005,
             27,
             8
            ],
            [
             "AV. LITORAL, 172",
             8005,
             53,
             5
            ],
            [
             "AV. LITORAL, 40 (D)",
             8005,
             54,
             6
            ],
            [
             "SELVA DE MAR / PG. DEL TAULAT",
             8019,
             26,
             5
            ],
            [
             "C/ BAC DE RODA, 11",
             8005,
             21,
             3
            ],
            [
             "C/ BILBAO, 2",
             8005,
             27,
             3
            ],
            [
             "C/ SANT PERE D´ABANTO, 2",
             8014,
             33,
             18
            ],
            [
             "C/ PEDRELL, 52",
             8032,
             24,
             110
            ]
           ],
           "hovertemplate": "<b>%{hovertext}</b><br><br>year=2024<br>lat=%{lat}<br>lon=%{lon}<br>address=%{customdata[0]}<br>post_code=%{customdata[1]}<br>capacity=%{marker.color}<br>altitude=%{customdata[3]}<extra></extra>",
           "hovertext": [
            423,
            156,
            332,
            356,
            355,
            354,
            353,
            352,
            351,
            350,
            349,
            348,
            347,
            346,
            331,
            330,
            344,
            343,
            342,
            341,
            340,
            339,
            357,
            337,
            336,
            335,
            334,
            333,
            345,
            338,
            372,
            359,
            329,
            387,
            386,
            385,
            384,
            383,
            382,
            381,
            380,
            379,
            378,
            377,
            376,
            358,
            375,
            373,
            371,
            370,
            369,
            368,
            367,
            366,
            365,
            364,
            363,
            362,
            361,
            360,
            374,
            328,
            265,
            326,
            293,
            292,
            291,
            290,
            289,
            288,
            287,
            286,
            285,
            284,
            283,
            282,
            281,
            294,
            280,
            278,
            277,
            276,
            275,
            274,
            273,
            272,
            271,
            270,
            269,
            268,
            267,
            266,
            279,
            327,
            295,
            297,
            325,
            324,
            323,
            322,
            321,
            320,
            319,
            318,
            317,
            316,
            315,
            314,
            313,
            296,
            312,
            310,
            309,
            308,
            307,
            306,
            305,
            304,
            303,
            302,
            301,
            300,
            299,
            298,
            311,
            388,
            517,
            390,
            485,
            484,
            483,
            482,
            481,
            480,
            479,
            478,
            477,
            476,
            475,
            474,
            473,
            486,
            472,
            470,
            469,
            468,
            467,
            466,
            465,
            464,
            463,
            462,
            461,
            460,
            459,
            458,
            471,
            457,
            487,
            489,
            264,
            516,
            515,
            514,
            513,
            512,
            511,
            510,
            509,
            508,
            507,
            506,
            505,
            488,
            504,
            502,
            501,
            500,
            499,
            498,
            497,
            496,
            495,
            494,
            493,
            492,
            491,
            490,
            503,
            389,
            456,
            454,
            419,
            418,
            417,
            416,
            415,
            414,
            413,
            412,
            411,
            410,
            409,
            408,
            406,
            420,
            405,
            403,
            402,
            401,
            400,
            399,
            398,
            397,
            396,
            395,
            394,
            393,
            392,
            391,
            404,
            455,
            421,
            424,
            452,
            451,
            450,
            449,
            448,
            447,
            446,
            445,
            444,
            443,
            442,
            441,
            440,
            422,
            439,
            437,
            436,
            435,
            434,
            433,
            432,
            431,
            430,
            429,
            428,
            427,
            426,
            425,
            438,
            263,
            132,
            261,
            95,
            94,
            92,
            91,
            90,
            89,
            88,
            87,
            86,
            85,
            84,
            83,
            82,
            96,
            81,
            79,
            78,
            77,
            76,
            75,
            74,
            73,
            72,
            71,
            70,
            69,
            68,
            67,
            80,
            66,
            97,
            99,
            127,
            126,
            125,
            124,
            123,
            122,
            121,
            120,
            119,
            118,
            117,
            116,
            115,
            98,
            114,
            112,
            111,
            110,
            109,
            108,
            107,
            106,
            105,
            104,
            103,
            102,
            101,
            100,
            113,
            128,
            65,
            63,
            28,
            27,
            26,
            25,
            24,
            23,
            22,
            21,
            20,
            19,
            18,
            17,
            15,
            29,
            14,
            12,
            11,
            10,
            9,
            8,
            7,
            6,
            5,
            4,
            3,
            2,
            1,
            518,
            13,
            64,
            30,
            32,
            62,
            61,
            60,
            58,
            57,
            56,
            55,
            54,
            53,
            52,
            51,
            50,
            49,
            31,
            48,
            46,
            45,
            44,
            43,
            42,
            41,
            40,
            39,
            37,
            36,
            35,
            34,
            33,
            47,
            262,
            129,
            131,
            228,
            227,
            226,
            225,
            224,
            223,
            222,
            221,
            220,
            219,
            218,
            217,
            216,
            229,
            215,
            213,
            212,
            211,
            210,
            209,
            208,
            207,
            206,
            205,
            204,
            203,
            202,
            201,
            214,
            200,
            230,
            232,
            260,
            259,
            258,
            257,
            256,
            255,
            254,
            253,
            252,
            251,
            250,
            249,
            248,
            231,
            247,
            245,
            244,
            243,
            242,
            241,
            240,
            239,
            238,
            237,
            236,
            235,
            234,
            233,
            246,
            130,
            199,
            197,
            161,
            160,
            159,
            158,
            157,
            155,
            154,
            153,
            152,
            151,
            150,
            149,
            148,
            162,
            147,
            145,
            144,
            143,
            142,
            141,
            140,
            139,
            138,
            137,
            136,
            135,
            134,
            133,
            146,
            198,
            163,
            165,
            196,
            195,
            194,
            193,
            192,
            191,
            190,
            189,
            188,
            187,
            186,
            185,
            184,
            164,
            183,
            180,
            179,
            178,
            177,
            176,
            175,
            174,
            173,
            171,
            170,
            168,
            167,
            166,
            182,
            519
           ],
           "lat": [
            41.4202459,
            41.4091355,
            41.3998981,
            41.4134503,
            41.371459,
            41.3759419,
            41.37541,
            41.363279,
            41.3621232,
            41.392052,
            41.3573288,
            41.357067,
            41.3595484,
            41.360798,
            41.3970497,
            41.401883,
            41.4431441,
            41.4389609,
            41.4034967,
            41.4339212,
            41.4361782,
            41.4017084,
            41.4105956,
            41.3986238,
            41.3953855,
            41.3935355,
            41.400793,
            41.3954723,
            41.3631066,
            41.3977227,
            41.4001015,
            41.3900544,
            41.4029965,
            41.3957813,
            41.3751866,
            41.387888,
            41.3807072,
            41.381219,
            41.4038902,
            41.3816139,
            41.3854094,
            41.3829333,
            41.3785379,
            41.3776292,
            41.3718728,
            41.3872437,
            41.3720293,
            41.3750995,
            41.4040525,
            41.4039698,
            41.40013,
            41.3968391,
            41.384972,
            41.3811389,
            41.3875712,
            41.393062,
            41.3908381,
            41.396994,
            41.37652,
            41.3952527,
            41.3949729,
            41.402988,
            41.3847738,
            41.4074131,
            41.4283127,
            41.4300161,
            41.426078,
            41.4373376,
            41.4166982,
            41.4296439,
            41.3890626,
            41.4030225,
            41.4366708,
            41.389462,
            41.4297231,
            41.4275514,
            41.4180789,
            41.4363473,
            41.4138664,
            41.4098842,
            41.4082107,
            41.4121345,
            41.43068,
            41.4299201,
            41.4304126,
            41.4325013,
            41.4506081,
            41.4486328,
            41.448152,
            41.4457195,
            41.4433647,
            41.4268952,
            41.4158995,
            41.4050074,
            41.433384,
            41.4388223,
            41.3949601,
            41.3969455,
            41.3981616,
            41.4009,
            41.4031529,
            41.400305,
            41.3937414,
            41.412427,
            41.4256626,
            41.4224015,
            41.4156285,
            41.3783067,
            41.3754188,
            41.4364887,
            41.3789061,
            41.3812111,
            41.3770199,
            41.37684,
            41.3791986,
            41.3853868,
            41.3875297,
            41.39038,
            41.3934324,
            41.3906352,
            41.4366871,
            41.4315843,
            41.4340849,
            41.4347233,
            41.3785631,
            41.3806411,
            41.462095,
            41.3869612,
            41.4374904,
            41.4345997,
            41.4295617350765,
            41.4372022,
            41.4357978,
            41.4333259,
            41.430623,
            41.4276076,
            41.4260751,
            41.422037,
            41.4216738,
            41.4418604,
            41.4388644,
            41.4306102,
            41.4427374,
            41.4432762,
            41.4417001,
            41.4480464,
            41.4450463,
            41.443387,
            41.3954094,
            41.439692,
            41.4490679,
            41.446923,
            41.442489,
            41.4513863,
            41.4479402,
            41.4457962,
            41.4389014,
            41.4383117,
            41.4267638,
            41.4312335,
            41.439929,
            41.4354601,
            41.4352071,
            41.4095069,
            41.399017,
            41.4000778,
            41.4006862,
            41.3989151,
            41.3989713,
            41.4090922,
            41.4107641,
            41.4191957,
            41.4145614,
            41.4347859,
            41.4092333,
            41.4074444,
            41.4052698,
            41.4117633,
            41.4160558,
            41.4144967,
            41.4095489,
            41.4048623,
            41.377846,
            41.3896967,
            41.419965,
            41.3943454,
            41.4306689,
            41.4280668,
            41.4095926,
            41.3873901,
            41.4143392,
            41.4072349,
            41.391313,
            41.391062,
            41.4164824,
            41.3781065,
            41.3793558,
            41.3937234,
            41.393489,
            41.3893094,
            41.411381,
            41.376433,
            41.392384,
            41.3889972,
            41.3863747,
            41.3743329,
            41.3854003,
            41.3796421,
            41.380628,
            41.382418,
            41.3694508,
            41.3734706,
            41.380955,
            41.3889129,
            41.3890253,
            41.3860607,
            41.3873057,
            41.4022657,
            41.3905303,
            41.4230551,
            41.3653426,
            41.4105848,
            41.378118,
            41.3795862,
            41.4194972,
            41.4140598,
            41.410712,
            41.4058109,
            41.3972809,
            41.3943033,
            41.3779974,
            41.3755016,
            41.3717304,
            41.3887127,
            41.3649272,
            41.3754426,
            41.417694,
            41.3881175,
            41.3685394,
            41.3513237,
            41.3545425,
            41.383585,
            41.3767538,
            41.3862258,
            41.3847061,
            41.383467,
            41.385641,
            41.3881262,
            41.3983902,
            41.3754047,
            41.39828,
            41.3765618,
            41.3981669,
            41.4378773,
            41.4084796,
            41.3821314,
            41.3763948,
            41.3757914,
            41.3938861,
            41.3812504,
            41.388296,
            41.3879131,
            41.3936144,
            41.3832223888737,
            41.3755747,
            41.3751852,
            41.3830299,
            41.3821658,
            41.3803180599865,
            41.3741093,
            41.3790718,
            41.385503,
            41.3856474,
            41.3855644,
            41.3917666,
            41.385004,
            41.3900085,
            41.392135,
            41.3927771,
            41.3819459,
            41.380393,
            41.388507,
            41.3953894,
            41.3852864,
            41.389668,
            41.3893222,
            41.3779613,
            41.3808222,
            41.4120681,
            41.380628,
            41.3834753,
            41.3702483,
            41.3988184485363,
            41.4054458,
            41.4064529,
            41.4047056,
            41.3967169,
            41.39212,
            41.3906051,
            41.3838369,
            41.383597,
            41.3806074,
            41.376735,
            41.3776721,
            41.3847528,
            41.3852585,
            41.3912605,
            41.4022081,
            41.3982304,
            41.4055198,
            41.389492,
            41.4108005,
            41.410098,
            41.392567,
            41.392878,
            41.3787064,
            41.3773113,
            41.4158412,
            41.387696,
            41.386543,
            41.4055143,
            41.3967524,
            41.4071692,
            41.3954041,
            41.4005784,
            41.3924661,
            41.4016969,
            41.4108439,
            41.410314,
            41.4031491,
            41.4060589,
            41.3982615,
            41.3916117009235,
            41.401061,
            41.384844,
            41.3833653,
            41.3812425,
            41.3467746,
            41.384546,
            41.389135,
            41.388885,
            41.3914292,
            41.3911035,
            41.3933173,
            41.3941557,
            41.3954877,
            41.3979779,
            41.4246885,
            41.388143,
            41.387493,
            41.4021805,
            41.3736911,
            41.387235,
            41.39352,
            41.3902625,
            41.38268,
            41.377187,
            41.3770715,
            41.3811923,
            41.3775319,
            41.385086,
            41.381708,
            41.3842634,
            41.3751145,
            41.3910756,
            41.3748001,
            41.3960652,
            41.3886065969256,
            41.391466,
            41.40197,
            41.4063864,
            41.404511,
            41.379326,
            41.382335,
            41.381046,
            41.380624,
            41.3850616,
            41.4134833,
            41.3871079,
            41.37686,
            41.3902194,
            41.3790954665734,
            41.377046,
            41.4227912,
            41.4068417,
            41.4078456,
            41.4035608,
            41.3848102114671,
            41.3999967,
            41.3983444,
            41.4013296,
            41.4025392,
            41.3960982,
            41.3976165,
            41.4040364,
            41.3985735,
            41.3967824,
            41.4050968,
            41.3939378,
            41.3935816,
            41.3922355,
            41.3987543,
            41.3745238,
            41.3857425,
            41.3915195,
            41.3908477,
            41.3897943,
            41.387561,
            41.3880355,
            41.3887069,
            41.3854466,
            41.3878061,
            41.3952027,
            41.3839045,
            41.4059356,
            41.3732903,
            41.4356895,
            41.4391174,
            41.4425034,
            41.433934,
            41.4361251,
            41.4315,
            41.4299999,
            41.4298614,
            41.4298991,
            41.4253643,
            41.4258248,
            41.4250835,
            41.4182129,
            41.4092005,
            41.4219291,
            41.3826647,
            41.426925,
            41.4239719,
            41.4244527,
            41.419178,
            41.4175595,
            41.4172922,
            41.4158807,
            41.3727426,
            41.3751161,
            41.3751767,
            41.371532,
            41.3719688,
            41.4228449,
            41.4200135,
            41.3819739,
            41.3871579,
            41.3953011,
            41.4109763,
            41.4110822,
            41.4116634,
            41.4132316,
            41.4070139,
            41.4026275,
            41.4018686,
            41.3993329,
            41.4003471,
            41.4065912,
            41.3958685,
            41.3783467,
            41.4038559,
            41.416043,
            41.4093405,
            41.4056269,
            41.4027907,
            41.4003793,
            41.4090202,
            41.3808772,
            41.4183999,
            41.4167933,
            41.4145805,
            41.4139298,
            41.4120452,
            41.4113024,
            41.4075013,
            41.4148983,
            41.3847113,
            41.3942108,
            41.3992169,
            41.3832609,
            41.3821371,
            41.3812001,
            41.3812979,
            41.3786364,
            41.381951,
            41.3961412,
            41.3969839,
            41.3756948,
            41.3768806,
            41.3755503,
            41.3703717,
            41.3675438,
            41.4118378,
            41.3723682,
            41.3675574,
            41.36352,
            41.4053649,
            41.4110754,
            41.403216,
            41.4065291,
            41.400654,
            41.3979002,
            41.3919877,
            41.3896642,
            41.4053697,
            41.4023354,
            41.4008312,
            41.371366,
            41.4246548
           ],
           "legendgroup": "",
           "lon": [
            2.1894852,
            2.2088179,
            2.1281922,
            2.1631012,
            2.127854,
            2.1299539,
            2.1232547,
            2.1341586,
            2.1356187,
            2.1480223,
            2.1371996,
            2.141563,
            2.1417765,
            2.138931,
            2.1279409,
            2.131524,
            2.1996045,
            2.1996179,
            2.1936584,
            2.2062245,
            2.2047037,
            2.2053803,
            2.1579897,
            2.1204941,
            2.1210928,
            2.1231228,
            2.122889,
            2.1250451,
            2.1398322,
            2.1194557,
            2.1841711,
            2.1775594,
            2.1283866,
            2.1787074,
            2.1568773,
            2.1552902,
            2.1468381,
            2.141767,
            2.2041137,
            2.1677697,
            2.1740155,
            2.1420704,
            2.1767427,
            2.1836886,
            2.180302,
            2.1793035,
            2.1804468,
            2.1613897,
            2.181199,
            2.1729061,
            2.1780175,
            2.1756598,
            2.1376205,
            2.1729755,
            2.1469336,
            2.1633226,
            2.1743743,
            2.1706323,
            2.17881,
            2.1730023,
            2.1612814,
            2.1344691,
            2.1592566,
            2.1381069,
            2.1629889,
            2.1720191,
            2.1751572,
            2.1740962,
            2.1909952,
            2.174444,
            2.1679313,
            2.1913538,
            2.186105,
            2.1314948,
            2.1617032,
            2.1659881,
            2.1763994,
            2.1706752,
            2.1777274,
            2.1715285,
            2.1689962,
            2.1652216,
            2.1821802,
            2.1849813,
            2.1834174,
            2.1842021,
            2.1923629,
            2.1898372,
            2.19294,
            2.1929816,
            2.1906302,
            2.1842572,
            2.1745567,
            2.134603,
            2.1716309,
            2.1767828,
            2.1302775,
            2.136346,
            2.1386719,
            2.13892,
            2.1445843,
            2.149144,
            2.1455022,
            2.170592,
            2.2008632,
            2.198071,
            2.1817876,
            2.1297303,
            2.1297823,
            2.1841014,
            2.1233038,
            2.1190863,
            2.1169828,
            2.114029,
            2.1135824,
            2.122893,
            2.1237141,
            2.121,
            2.115107,
            2.111541,
            2.1693134,
            2.1769107,
            2.1748267,
            2.1817718,
            2.1202487,
            2.1671611,
            2.178959,
            2.1820169,
            2.1565742,
            2.1585268,
            2.15896845634459,
            2.1620235,
            2.163872,
            2.1629258,
            2.1671068,
            2.1697582,
            2.1722534,
            2.174401,
            2.1799878,
            2.1664224,
            2.1657506,
            2.1564551,
            2.170393,
            2.1746238,
            2.1781553,
            2.1775154,
            2.176726,
            2.1813051,
            2.1599427,
            2.182335,
            2.1833801,
            2.184857,
            2.185727,
            2.1894717,
            2.1976757,
            2.2010422,
            2.1715576,
            2.2039823,
            2.1521909,
            2.1499103,
            2.1970692,
            2.2001569,
            2.1948002,
            2.1885055,
            2.124329,
            2.1326911,
            2.1543317,
            2.1564253,
            2.1606736,
            2.1656378,
            2.1640965,
            2.1718497,
            2.1658677,
            2.147904,
            2.1557747,
            2.1492066,
            2.1420204,
            2.1453424,
            2.1421504,
            2.1402433,
            2.1360313,
            2.174799,
            2.150523,
            2.1652199,
            2.1401823,
            2.1751709,
            2.1456449,
            2.1443777,
            2.1524953,
            2.1875446,
            2.1874539,
            2.1684799,
            2.1808391,
            2.1801142,
            2.1801094,
            2.1696744,
            2.1689592,
            2.1764275,
            2.1707419,
            2.1727457,
            2.2122054,
            2.17871,
            2.1925059,
            2.1923283,
            2.1646697,
            2.1479385,
            2.1521802,
            2.1368202,
            2.1821917,
            2.183723,
            2.1879597,
            2.1332694,
            2.1934636,
            2.1993105,
            2.1968267,
            2.1702467,
            2.1631263,
            2.1976297,
            2.1906339,
            2.1913753,
            2.1331357,
            2.1826833,
            2.1378667,
            2.1925198,
            2.20934,
            2.2150487,
            2.2061691,
            2.1949461,
            2.1997869,
            2.1860256,
            2.1884228,
            2.154004,
            2.1554047,
            2.1542277,
            2.138599,
            2.1398409,
            2.1976864,
            2.1154135,
            2.1328403,
            2.1450958,
            2.1433038,
            2.112186,
            2.1269152,
            2.1168609,
            2.1170751,
            2.122175,
            2.113096,
            2.1091535,
            2.1960799,
            2.1680021,
            2.1830315,
            2.1748621,
            2.1754896,
            2.1910691,
            2.192042,
            2.1606534,
            2.1473272,
            2.1499102,
            2.1601641,
            2.1594741,
            2.150878,
            2.150342,
            2.1507739,
            2.14799319162966,
            2.1629349,
            2.1592394,
            2.1571646,
            2.1520645,
            2.1544371248114,
            2.1481993,
            2.1490553,
            2.1634768,
            2.1634306,
            2.1773214,
            2.1532163,
            2.1429115,
            2.1432105,
            2.1563542,
            2.1586273,
            2.1629146,
            2.1606506,
            2.195073,
            2.1572953,
            2.1454802,
            2.1599078,
            2.1678388,
            2.1450491,
            2.141539,
            2.1907524,
            2.1822815,
            2.194735,
            2.1878126,
            2.16673522491668,
            2.1663172,
            2.1785364,
            2.1765126,
            2.1825085,
            2.1874966,
            2.1972309,
            2.1914756,
            2.184171,
            2.1408633,
            2.1740082,
            2.157233,
            2.1546746,
            2.155089,
            2.1476308,
            2.1649035,
            2.1531031,
            2.1622548,
            2.17425,
            2.1872438,
            2.1884487,
            2.1422174,
            2.143411,
            2.1443579,
            2.1646742,
            2.1959771,
            2.1696543,
            2.169427,
            2.1706498,
            2.1646338,
            2.1820722,
            2.1681961,
            2.1788855,
            2.1717397,
            2.175767,
            2.1740575,
            2.1757334,
            2.1707947,
            2.1740472,
            2.1866517,
            2.16890319787512,
            2.169941,
            2.185085,
            2.1946255,
            2.1933482,
            2.1436235,
            2.184922,
            2.183489,
            2.18329,
            2.1805685,
            2.1801763,
            2.1812483,
            2.1813305,
            2.1771985,
            2.1801069,
            2.1570492,
            2.195551,
            2.1690686,
            2.1829894,
            2.188928,
            2.168819,
            2.166797,
            2.164035,
            2.16712,
            2.176757,
            2.1758261,
            2.1735007,
            2.1707321,
            2.174016,
            2.177292,
            2.1692556,
            2.1709386,
            2.1965766,
            2.1889045,
            2.1871959,
            2.19219450845947,
            2.189371,
            2.187081,
            2.1874404,
            2.189881,
            2.189906,
            2.187093,
            2.186576,
            2.1820675,
            2.1766834,
            2.2206913,
            2.1753364,
            2.19067,
            2.1904003,
            2.1516210083712,
            2.16113608,
            2.2060317,
            2.1558354,
            2.1586704,
            2.1609345,
            2.15080712464522,
            2.1644531,
            2.1598243,
            2.1574439,
            2.1524704,
            2.1513154,
            2.1471724,
            2.183145,
            2.1440826,
            2.1445567,
            2.1569161,
            2.1380304,
            2.1345892,
            2.1309272,
            2.1902116,
            2.1422556,
            2.1610515,
            2.1390667,
            2.136579,
            2.1328634,
            2.1306737,
            2.1256248,
            2.1285766,
            2.1288753,
            2.1344218,
            2.1334873,
            2.1312876,
            2.1517977,
            2.1710273,
            2.1920873,
            2.1858025,
            2.1929677,
            2.1896502,
            2.1894423,
            2.18579,
            2.190246,
            2.1922011,
            2.1932159,
            2.1852073,
            2.191206,
            2.1872818,
            2.1904005,
            2.16400285,
            2.1849107,
            2.1717083,
            2.1786224,
            2.1812399,
            2.1773157,
            2.18018,
            2.1877153,
            2.1844769,
            2.1908473,
            2.1539198,
            2.1523091,
            2.1658972,
            2.162203,
            2.1667829,
            2.1866363,
            2.2016699,
            2.1268625,
            2.1410945,
            2.1965965,
            2.2193724,
            2.2163136,
            2.2183313,
            2.2177652,
            2.2074469,
            2.2017694,
            2.20077,
            2.1974184,
            2.1969105,
            2.203028,
            2.192952,
            2.1633139,
            2.2084257,
            2.2124993,
            2.2024461,
            2.1977119,
            2.1956161,
            2.1924144,
            2.1954152,
            2.1559939,
            2.2058133,
            2.2058345,
            2.2008139,
            2.2017955,
            2.1972673,
            2.1987258,
            2.1930174,
            2.207186,
            2.1334379,
            2.2008756,
            2.2041415,
            2.1392662,
            2.1354149,
            2.1323612,
            2.1289917,
            2.1335494,
            2.147474,
            2.2078439,
            2.1661852,
            2.1358571,
            2.1698206,
            2.1439036,
            2.1389439,
            2.1342316,
            2.1778852,
            2.1419494,
            2.1388216,
            2.1369015,
            2.2162094,
            2.1809764,
            2.2136,
            2.2091221,
            2.210191,
            2.2088454,
            2.2037136,
            2.1999572,
            2.2135818,
            2.2105777,
            2.206645,
            2.143565,
            2.166289
           ],
           "marker": {
            "color": [
             32,
             27,
             27,
             27,
             27,
             27,
             31,
             28,
             33,
             31,
             33,
             33,
             32,
             36,
             31,
             27,
             27,
             27,
             27,
             26,
             24,
             27,
             27,
             23,
             27,
             27,
             26,
             27,
             32,
             36,
             27,
             26,
             27,
             32,
             3,
             30,
             26,
             24,
             27,
             41,
             24,
             21,
             21,
             29,
             39,
             26,
             39,
             30,
             36,
             32,
             27,
             27,
             32,
             18,
             31,
             32,
             24,
             32,
             33,
             30,
             33,
             27,
             27,
             32,
             24,
             12,
             27,
             17,
             27,
             32,
             16,
             16,
             16,
             27,
             20,
             26,
             24,
             24,
             27,
             27,
             27,
             27,
             32,
             32,
             36,
             26,
             20,
             27,
             20,
             27,
             24,
             26,
             27,
             24,
             27,
             24,
             23,
             27,
             27,
             24,
             27,
             27,
             31,
             32,
             27,
             26,
             27,
             24,
             29,
             32,
             36,
             27,
             22,
             26,
             32,
             31,
             27,
             27,
             27,
             32,
             27,
             18,
             27,
             33,
             24,
             34,
             20,
             25,
             27,
             27,
             29,
             20,
             26,
             28,
             18,
             30,
             26,
             18,
             19,
             24,
             31,
             28,
             24,
             24,
             18,
             18,
             20,
             29,
             27,
             24,
             24,
             28,
             28,
             15,
             39,
             24,
             24,
             18,
             27,
             27,
             33,
             21,
             24,
             18,
             28,
             27,
             20,
             27,
             32,
             27,
             24,
             15,
             27,
             27,
             28,
             19,
             16,
             23,
             27,
             26,
             27,
             18,
             21,
             24,
             24,
             24,
             27,
             50,
             30,
             27,
             21,
             27,
             33,
             27,
             32,
             27,
             25,
             33,
             32,
             27,
             24,
             38,
             27,
             39,
             33,
             27,
             26,
             22,
             31,
             24,
             44,
             27,
             35,
             27,
             32,
             33,
             27,
             31,
             19,
             27,
             32,
             22,
             25,
             26,
             54,
             24,
             27,
             27,
             27,
             27,
             15,
             24,
             27,
             32,
             18,
             18,
             27,
             28,
             18,
             36,
             19,
             28,
             27,
             42,
             28,
             20,
             28,
             28,
             27,
             26,
             33,
             24,
             27,
             20,
             27,
             32,
             33,
             48,
             17,
             35,
             18,
             27,
             20,
             25,
             27,
             40,
             26,
             22,
             40,
             21,
             21,
             24,
             27,
             24,
             32,
             21,
             15,
             26,
             27,
             21,
             27,
             42,
             27,
             24,
             21,
             16,
             21,
             21,
             27,
             23,
             21,
             31,
             21,
             33,
             21,
             21,
             39,
             27,
             21,
             27,
             21,
             21,
             20,
             20,
             19,
             21,
             23,
             21,
             20,
             20,
             21,
             26,
             21,
             24,
             24,
             22,
             33,
             43,
             21,
             26,
             23,
             21,
             18,
             21,
             40,
             27,
             19,
             21,
             18,
             30,
             27,
             42,
             27,
             23,
             27,
             26,
             35,
             42,
             27,
             26,
             27,
             39,
             39,
             21,
             27,
             29,
             46,
             27,
             54,
             21,
             29,
             15,
             25,
             20,
             27,
             43,
             25,
             27,
             19,
             18,
             21,
             32,
             20,
             18,
             21,
             18,
             21,
             54,
             27,
             17,
             27,
             24,
             25,
             18,
             44,
             24,
             21,
             54,
             21,
             21,
             47,
             24,
             23,
             29,
             21,
             18,
             27,
             25,
             26,
             35,
             27,
             24,
             27,
             23,
             39,
             27,
             27,
             28,
             21,
             33,
             24,
             28,
             31,
             26,
             33,
             25,
             33,
             33,
             33,
             33,
             27,
             24,
             25,
             23,
             26,
             27,
             27,
             24,
             26,
             24,
             32,
             15,
             26,
             27,
             33,
             33,
             27,
             27,
             26,
             24,
             32,
             27,
             27,
             27,
             27,
             33,
             27,
             35,
             27,
             27,
             26,
             21,
             27,
             27,
             18,
             24,
             27,
             27,
             27,
             33,
             32,
             27,
             33,
             32,
             32,
             22,
             27,
             27,
             27,
             27,
             27,
             26,
             33,
             27,
             27,
             26,
             32,
             32,
             27,
             35,
             21,
             25,
             31,
             21,
             21,
             16,
             24,
             27,
             26,
             27,
             27,
             27,
             24,
             27,
             21,
             37,
             29,
             28,
             27,
             19,
             26,
             17,
             27,
             27,
             30,
             50,
             16,
             27,
             34,
             31,
             27,
             27,
             27,
             53,
             54,
             26,
             21,
             27,
             33,
             24
            ],
            "coloraxis": "coloraxis"
           },
           "mode": "markers",
           "name": "",
           "showlegend": false,
           "subplot": "mapbox",
           "type": "scattermapbox"
          }
         ],
         "layout": {
          "title": {
           "text": "Total Stations: 510 Total Bikes: 13758 in  2024"
          }
         },
         "name": "2024"
        }
       ],
       "layout": {
        "coloraxis": {
         "cmax": 54,
         "cmin": 12,
         "colorbar": {
          "title": {
           "text": "capacity"
          }
         },
         "colorscale": [
          [
           0,
           "#0d0887"
          ],
          [
           0.1111111111111111,
           "#46039f"
          ],
          [
           0.2222222222222222,
           "#7201a8"
          ],
          [
           0.3333333333333333,
           "#9c179e"
          ],
          [
           0.4444444444444444,
           "#bd3786"
          ],
          [
           0.5555555555555556,
           "#d8576b"
          ],
          [
           0.6666666666666666,
           "#ed7953"
          ],
          [
           0.7777777777777778,
           "#fb9f3a"
          ],
          [
           0.8888888888888888,
           "#fdca26"
          ],
          [
           1,
           "#f0f921"
          ]
         ]
        },
        "height": 630,
        "legend": {
         "tracegroupgap": 0
        },
        "mapbox": {
         "center": {
          "lat": 41.40484,
          "lon": 2.17482
         },
         "domain": {
          "x": [
           0,
           1
          ],
          "y": [
           0,
           1
          ]
         },
         "style": "open-street-map",
         "zoom": 11
        },
        "margin": {
         "b": 0,
         "l": 0,
         "r": 0,
         "t": 80
        },
        "sliders": [
         {
          "active": 0,
          "currentvalue": {
           "prefix": "year="
          },
          "len": 0.9,
          "pad": {
           "b": 10,
           "t": 60
          },
          "steps": [
           {
            "args": [
             [
              "2019"
             ],
             {
              "frame": {
               "duration": 0,
               "redraw": true
              },
              "fromcurrent": true,
              "mode": "immediate",
              "transition": {
               "duration": 0,
               "easing": "linear"
              }
             }
            ],
            "label": "2019",
            "method": "animate"
           },
           {
            "args": [
             [
              "2020"
             ],
             {
              "frame": {
               "duration": 0,
               "redraw": true
              },
              "fromcurrent": true,
              "mode": "immediate",
              "transition": {
               "duration": 0,
               "easing": "linear"
              }
             }
            ],
            "label": "2020",
            "method": "animate"
           },
           {
            "args": [
             [
              "2021"
             ],
             {
              "frame": {
               "duration": 0,
               "redraw": true
              },
              "fromcurrent": true,
              "mode": "immediate",
              "transition": {
               "duration": 0,
               "easing": "linear"
              }
             }
            ],
            "label": "2021",
            "method": "animate"
           },
           {
            "args": [
             [
              "2022"
             ],
             {
              "frame": {
               "duration": 0,
               "redraw": true
              },
              "fromcurrent": true,
              "mode": "immediate",
              "transition": {
               "duration": 0,
               "easing": "linear"
              }
             }
            ],
            "label": "2022",
            "method": "animate"
           },
           {
            "args": [
             [
              "2023"
             ],
             {
              "frame": {
               "duration": 0,
               "redraw": true
              },
              "fromcurrent": true,
              "mode": "immediate",
              "transition": {
               "duration": 0,
               "easing": "linear"
              }
             }
            ],
            "label": "2023",
            "method": "animate"
           },
           {
            "args": [
             [
              "2024"
             ],
             {
              "frame": {
               "duration": 0,
               "redraw": true
              },
              "fromcurrent": true,
              "mode": "immediate",
              "transition": {
               "duration": 0,
               "easing": "linear"
              }
             }
            ],
            "label": "2024",
            "method": "animate"
           }
          ],
          "x": 0.1,
          "xanchor": "left",
          "y": 0,
          "yanchor": "top"
         }
        ],
        "template": {
         "data": {
          "bar": [
           {
            "error_x": {
             "color": "#2a3f5f"
            },
            "error_y": {
             "color": "#2a3f5f"
            },
            "marker": {
             "line": {
              "color": "#E5ECF6",
              "width": 0.5
             },
             "pattern": {
              "fillmode": "overlay",
              "size": 10,
              "solidity": 0.2
             }
            },
            "type": "bar"
           }
          ],
          "barpolar": [
           {
            "marker": {
             "line": {
              "color": "#E5ECF6",
              "width": 0.5
             },
             "pattern": {
              "fillmode": "overlay",
              "size": 10,
              "solidity": 0.2
             }
            },
            "type": "barpolar"
           }
          ],
          "carpet": [
           {
            "aaxis": {
             "endlinecolor": "#2a3f5f",
             "gridcolor": "white",
             "linecolor": "white",
             "minorgridcolor": "white",
             "startlinecolor": "#2a3f5f"
            },
            "baxis": {
             "endlinecolor": "#2a3f5f",
             "gridcolor": "white",
             "linecolor": "white",
             "minorgridcolor": "white",
             "startlinecolor": "#2a3f5f"
            },
            "type": "carpet"
           }
          ],
          "choropleth": [
           {
            "colorbar": {
             "outlinewidth": 0,
             "ticks": ""
            },
            "type": "choropleth"
           }
          ],
          "contour": [
           {
            "colorbar": {
             "outlinewidth": 0,
             "ticks": ""
            },
            "colorscale": [
             [
              0,
              "#0d0887"
             ],
             [
              0.1111111111111111,
              "#46039f"
             ],
             [
              0.2222222222222222,
              "#7201a8"
             ],
             [
              0.3333333333333333,
              "#9c179e"
             ],
             [
              0.4444444444444444,
              "#bd3786"
             ],
             [
              0.5555555555555556,
              "#d8576b"
             ],
             [
              0.6666666666666666,
              "#ed7953"
             ],
             [
              0.7777777777777778,
              "#fb9f3a"
             ],
             [
              0.8888888888888888,
              "#fdca26"
             ],
             [
              1,
              "#f0f921"
             ]
            ],
            "type": "contour"
           }
          ],
          "contourcarpet": [
           {
            "colorbar": {
             "outlinewidth": 0,
             "ticks": ""
            },
            "type": "contourcarpet"
           }
          ],
          "heatmap": [
           {
            "colorbar": {
             "outlinewidth": 0,
             "ticks": ""
            },
            "colorscale": [
             [
              0,
              "#0d0887"
             ],
             [
              0.1111111111111111,
              "#46039f"
             ],
             [
              0.2222222222222222,
              "#7201a8"
             ],
             [
              0.3333333333333333,
              "#9c179e"
             ],
             [
              0.4444444444444444,
              "#bd3786"
             ],
             [
              0.5555555555555556,
              "#d8576b"
             ],
             [
              0.6666666666666666,
              "#ed7953"
             ],
             [
              0.7777777777777778,
              "#fb9f3a"
             ],
             [
              0.8888888888888888,
              "#fdca26"
             ],
             [
              1,
              "#f0f921"
             ]
            ],
            "type": "heatmap"
           }
          ],
          "heatmapgl": [
           {
            "colorbar": {
             "outlinewidth": 0,
             "ticks": ""
            },
            "colorscale": [
             [
              0,
              "#0d0887"
             ],
             [
              0.1111111111111111,
              "#46039f"
             ],
             [
              0.2222222222222222,
              "#7201a8"
             ],
             [
              0.3333333333333333,
              "#9c179e"
             ],
             [
              0.4444444444444444,
              "#bd3786"
             ],
             [
              0.5555555555555556,
              "#d8576b"
             ],
             [
              0.6666666666666666,
              "#ed7953"
             ],
             [
              0.7777777777777778,
              "#fb9f3a"
             ],
             [
              0.8888888888888888,
              "#fdca26"
             ],
             [
              1,
              "#f0f921"
             ]
            ],
            "type": "heatmapgl"
           }
          ],
          "histogram": [
           {
            "marker": {
             "pattern": {
              "fillmode": "overlay",
              "size": 10,
              "solidity": 0.2
             }
            },
            "type": "histogram"
           }
          ],
          "histogram2d": [
           {
            "colorbar": {
             "outlinewidth": 0,
             "ticks": ""
            },
            "colorscale": [
             [
              0,
              "#0d0887"
             ],
             [
              0.1111111111111111,
              "#46039f"
             ],
             [
              0.2222222222222222,
              "#7201a8"
             ],
             [
              0.3333333333333333,
              "#9c179e"
             ],
             [
              0.4444444444444444,
              "#bd3786"
             ],
             [
              0.5555555555555556,
              "#d8576b"
             ],
             [
              0.6666666666666666,
              "#ed7953"
             ],
             [
              0.7777777777777778,
              "#fb9f3a"
             ],
             [
              0.8888888888888888,
              "#fdca26"
             ],
             [
              1,
              "#f0f921"
             ]
            ],
            "type": "histogram2d"
           }
          ],
          "histogram2dcontour": [
           {
            "colorbar": {
             "outlinewidth": 0,
             "ticks": ""
            },
            "colorscale": [
             [
              0,
              "#0d0887"
             ],
             [
              0.1111111111111111,
              "#46039f"
             ],
             [
              0.2222222222222222,
              "#7201a8"
             ],
             [
              0.3333333333333333,
              "#9c179e"
             ],
             [
              0.4444444444444444,
              "#bd3786"
             ],
             [
              0.5555555555555556,
              "#d8576b"
             ],
             [
              0.6666666666666666,
              "#ed7953"
             ],
             [
              0.7777777777777778,
              "#fb9f3a"
             ],
             [
              0.8888888888888888,
              "#fdca26"
             ],
             [
              1,
              "#f0f921"
             ]
            ],
            "type": "histogram2dcontour"
           }
          ],
          "mesh3d": [
           {
            "colorbar": {
             "outlinewidth": 0,
             "ticks": ""
            },
            "type": "mesh3d"
           }
          ],
          "parcoords": [
           {
            "line": {
             "colorbar": {
              "outlinewidth": 0,
              "ticks": ""
             }
            },
            "type": "parcoords"
           }
          ],
          "pie": [
           {
            "automargin": true,
            "type": "pie"
           }
          ],
          "scatter": [
           {
            "fillpattern": {
             "fillmode": "overlay",
             "size": 10,
             "solidity": 0.2
            },
            "type": "scatter"
           }
          ],
          "scatter3d": [
           {
            "line": {
             "colorbar": {
              "outlinewidth": 0,
              "ticks": ""
             }
            },
            "marker": {
             "colorbar": {
              "outlinewidth": 0,
              "ticks": ""
             }
            },
            "type": "scatter3d"
           }
          ],
          "scattercarpet": [
           {
            "marker": {
             "colorbar": {
              "outlinewidth": 0,
              "ticks": ""
             }
            },
            "type": "scattercarpet"
           }
          ],
          "scattergeo": [
           {
            "marker": {
             "colorbar": {
              "outlinewidth": 0,
              "ticks": ""
             }
            },
            "type": "scattergeo"
           }
          ],
          "scattergl": [
           {
            "marker": {
             "colorbar": {
              "outlinewidth": 0,
              "ticks": ""
             }
            },
            "type": "scattergl"
           }
          ],
          "scattermapbox": [
           {
            "marker": {
             "colorbar": {
              "outlinewidth": 0,
              "ticks": ""
             }
            },
            "type": "scattermapbox"
           }
          ],
          "scatterpolar": [
           {
            "marker": {
             "colorbar": {
              "outlinewidth": 0,
              "ticks": ""
             }
            },
            "type": "scatterpolar"
           }
          ],
          "scatterpolargl": [
           {
            "marker": {
             "colorbar": {
              "outlinewidth": 0,
              "ticks": ""
             }
            },
            "type": "scatterpolargl"
           }
          ],
          "scatterternary": [
           {
            "marker": {
             "colorbar": {
              "outlinewidth": 0,
              "ticks": ""
             }
            },
            "type": "scatterternary"
           }
          ],
          "surface": [
           {
            "colorbar": {
             "outlinewidth": 0,
             "ticks": ""
            },
            "colorscale": [
             [
              0,
              "#0d0887"
             ],
             [
              0.1111111111111111,
              "#46039f"
             ],
             [
              0.2222222222222222,
              "#7201a8"
             ],
             [
              0.3333333333333333,
              "#9c179e"
             ],
             [
              0.4444444444444444,
              "#bd3786"
             ],
             [
              0.5555555555555556,
              "#d8576b"
             ],
             [
              0.6666666666666666,
              "#ed7953"
             ],
             [
              0.7777777777777778,
              "#fb9f3a"
             ],
             [
              0.8888888888888888,
              "#fdca26"
             ],
             [
              1,
              "#f0f921"
             ]
            ],
            "type": "surface"
           }
          ],
          "table": [
           {
            "cells": {
             "fill": {
              "color": "#EBF0F8"
             },
             "line": {
              "color": "white"
             }
            },
            "header": {
             "fill": {
              "color": "#C8D4E3"
             },
             "line": {
              "color": "white"
             }
            },
            "type": "table"
           }
          ]
         },
         "layout": {
          "annotationdefaults": {
           "arrowcolor": "#2a3f5f",
           "arrowhead": 0,
           "arrowwidth": 1
          },
          "autotypenumbers": "strict",
          "coloraxis": {
           "colorbar": {
            "outlinewidth": 0,
            "ticks": ""
           }
          },
          "colorscale": {
           "diverging": [
            [
             0,
             "#8e0152"
            ],
            [
             0.1,
             "#c51b7d"
            ],
            [
             0.2,
             "#de77ae"
            ],
            [
             0.3,
             "#f1b6da"
            ],
            [
             0.4,
             "#fde0ef"
            ],
            [
             0.5,
             "#f7f7f7"
            ],
            [
             0.6,
             "#e6f5d0"
            ],
            [
             0.7,
             "#b8e186"
            ],
            [
             0.8,
             "#7fbc41"
            ],
            [
             0.9,
             "#4d9221"
            ],
            [
             1,
             "#276419"
            ]
           ],
           "sequential": [
            [
             0,
             "#0d0887"
            ],
            [
             0.1111111111111111,
             "#46039f"
            ],
            [
             0.2222222222222222,
             "#7201a8"
            ],
            [
             0.3333333333333333,
             "#9c179e"
            ],
            [
             0.4444444444444444,
             "#bd3786"
            ],
            [
             0.5555555555555556,
             "#d8576b"
            ],
            [
             0.6666666666666666,
             "#ed7953"
            ],
            [
             0.7777777777777778,
             "#fb9f3a"
            ],
            [
             0.8888888888888888,
             "#fdca26"
            ],
            [
             1,
             "#f0f921"
            ]
           ],
           "sequentialminus": [
            [
             0,
             "#0d0887"
            ],
            [
             0.1111111111111111,
             "#46039f"
            ],
            [
             0.2222222222222222,
             "#7201a8"
            ],
            [
             0.3333333333333333,
             "#9c179e"
            ],
            [
             0.4444444444444444,
             "#bd3786"
            ],
            [
             0.5555555555555556,
             "#d8576b"
            ],
            [
             0.6666666666666666,
             "#ed7953"
            ],
            [
             0.7777777777777778,
             "#fb9f3a"
            ],
            [
             0.8888888888888888,
             "#fdca26"
            ],
            [
             1,
             "#f0f921"
            ]
           ]
          },
          "colorway": [
           "#636efa",
           "#EF553B",
           "#00cc96",
           "#ab63fa",
           "#FFA15A",
           "#19d3f3",
           "#FF6692",
           "#B6E880",
           "#FF97FF",
           "#FECB52"
          ],
          "font": {
           "color": "#2a3f5f"
          },
          "geo": {
           "bgcolor": "white",
           "lakecolor": "white",
           "landcolor": "#E5ECF6",
           "showlakes": true,
           "showland": true,
           "subunitcolor": "white"
          },
          "hoverlabel": {
           "align": "left"
          },
          "hovermode": "closest",
          "mapbox": {
           "style": "light"
          },
          "paper_bgcolor": "white",
          "plot_bgcolor": "#E5ECF6",
          "polar": {
           "angularaxis": {
            "gridcolor": "white",
            "linecolor": "white",
            "ticks": ""
           },
           "bgcolor": "#E5ECF6",
           "radialaxis": {
            "gridcolor": "white",
            "linecolor": "white",
            "ticks": ""
           }
          },
          "scene": {
           "xaxis": {
            "backgroundcolor": "#E5ECF6",
            "gridcolor": "white",
            "gridwidth": 2,
            "linecolor": "white",
            "showbackground": true,
            "ticks": "",
            "zerolinecolor": "white"
           },
           "yaxis": {
            "backgroundcolor": "#E5ECF6",
            "gridcolor": "white",
            "gridwidth": 2,
            "linecolor": "white",
            "showbackground": true,
            "ticks": "",
            "zerolinecolor": "white"
           },
           "zaxis": {
            "backgroundcolor": "#E5ECF6",
            "gridcolor": "white",
            "gridwidth": 2,
            "linecolor": "white",
            "showbackground": true,
            "ticks": "",
            "zerolinecolor": "white"
           }
          },
          "shapedefaults": {
           "line": {
            "color": "#2a3f5f"
           }
          },
          "ternary": {
           "aaxis": {
            "gridcolor": "white",
            "linecolor": "white",
            "ticks": ""
           },
           "baxis": {
            "gridcolor": "white",
            "linecolor": "white",
            "ticks": ""
           },
           "bgcolor": "#E5ECF6",
           "caxis": {
            "gridcolor": "white",
            "linecolor": "white",
            "ticks": ""
           }
          },
          "title": {
           "x": 0.05
          },
          "xaxis": {
           "automargin": true,
           "gridcolor": "white",
           "linecolor": "white",
           "ticks": "",
           "title": {
            "standoff": 15
           },
           "zerolinecolor": "white",
           "zerolinewidth": 2
          },
          "yaxis": {
           "automargin": true,
           "gridcolor": "white",
           "linecolor": "white",
           "ticks": "",
           "title": {
            "standoff": 15
           },
           "zerolinecolor": "white",
           "zerolinewidth": 2
          }
         }
        },
        "title": {
         "text": "Stations by Year"
        },
        "updatemenus": [
         {
          "buttons": [
           {
            "args": [
             null,
             {
              "frame": {
               "duration": 500,
               "redraw": true
              },
              "fromcurrent": true,
              "mode": "immediate",
              "transition": {
               "duration": 500,
               "easing": "linear"
              }
             }
            ],
            "label": "&#9654;",
            "method": "animate"
           },
           {
            "args": [
             [
              null
             ],
             {
              "frame": {
               "duration": 0,
               "redraw": true
              },
              "fromcurrent": true,
              "mode": "immediate",
              "transition": {
               "duration": 0,
               "easing": "linear"
              }
             }
            ],
            "label": "&#9724;",
            "method": "animate"
           }
          ],
          "direction": "left",
          "pad": {
           "r": 10,
           "t": 70
          },
          "showactive": false,
          "type": "buttons",
          "x": 0.1,
          "xanchor": "right",
          "y": 0,
          "yanchor": "top"
         }
        ],
        "width": 800
       }
      }
     },
     "metadata": {},
     "output_type": "display_data"
    }
   ],
   "source": [
    "import plotly.express as px\n",
    "\n",
    "stations_count_by_year = df_years.groupby('year')['station_id'].count().values\n",
    "total_bikes = df_years.groupby('year')['mean_capacity'].sum().values\n",
    "min_capacity = df_years['mean_capacity'].min() \n",
    "max_capacity = df_years['mean_capacity'].max() \n",
    "# add threshold to color\n",
    "print(min_capacity, max_capacity)\n",
    "fig = px.scatter_mapbox(df_years, lat=\"lat\", lon=\"lon\", hover_name=\"station_id\", hover_data=[\"address\",\"post_code\", \"capacity\", \"altitude\"], color='capacity',\n",
    "                        #color_continuous_scale=px.colors.sequential.Viridis, \n",
    "                         zoom=11, height=630, width=800,animation_frame='year', title='Stations by Year', range_color=[min_capacity, max_capacity])\n",
    "fig.update_layout(mapbox_style=\"open-street-map\", margin={\"r\":0,\"t\":80,\"l\":0,\"b\":0},mapbox={\"center\": {\"lat\": 41.40484, \"lon\": 2.17482}}) \n",
    "\n",
    "for i, frame in enumerate(fig.frames):\n",
    "    year = frame.name\n",
    "    frame.layout.title = \"Total Stations: {}\".format(str(stations_count_by_year[i]) + \" Total Bikes: \" + str(int(total_bikes[i])) + \" in  \" + year)\n",
    "    \n",
    "for step in fig.layout.sliders[0].steps:\n",
    "    step[\"args\"][1][\"frame\"][\"redraw\"] = True\n",
    "fig.show()\n"
   ]
  },
  {
   "cell_type": "markdown",
   "metadata": {},
   "source": [
    "![map](../assets/map.png)"
   ]
  },
  {
   "cell_type": "code",
   "execution_count": null,
   "metadata": {},
   "outputs": [
    {
     "data": {
      "text/html": [
       "<div>\n",
       "<style scoped>\n",
       "    .dataframe tbody tr th:only-of-type {\n",
       "        vertical-align: middle;\n",
       "    }\n",
       "\n",
       "    .dataframe tbody tr th {\n",
       "        vertical-align: top;\n",
       "    }\n",
       "\n",
       "    .dataframe thead th {\n",
       "        text-align: right;\n",
       "    }\n",
       "</style>\n",
       "<table border=\"1\" class=\"dataframe\">\n",
       "  <thead>\n",
       "    <tr style=\"text-align: right;\">\n",
       "      <th></th>\n",
       "      <th>station_id</th>\n",
       "      <th>date</th>\n",
       "      <th>name</th>\n",
       "      <th>address</th>\n",
       "      <th>capacity</th>\n",
       "      <th>year</th>\n",
       "      <th>mean_capacity</th>\n",
       "      <th>post_code</th>\n",
       "      <th>lat</th>\n",
       "      <th>lon</th>\n",
       "      <th>altitude</th>\n",
       "    </tr>\n",
       "  </thead>\n",
       "  <tbody>\n",
       "    <tr>\n",
       "      <th>1202</th>\n",
       "      <td>292</td>\n",
       "      <td>2022-01-01</td>\n",
       "      <td>C/ AMILCAR, 1</td>\n",
       "      <td>C/ AMILCAR, 1</td>\n",
       "      <td>12.0</td>\n",
       "      <td>2021</td>\n",
       "      <td>12.0</td>\n",
       "      <td>8031</td>\n",
       "      <td>41.430016</td>\n",
       "      <td>2.172019</td>\n",
       "      <td>61</td>\n",
       "    </tr>\n",
       "    <tr>\n",
       "      <th>1712</th>\n",
       "      <td>292</td>\n",
       "      <td>2023-01-01</td>\n",
       "      <td>C/ AMILCAR, 1</td>\n",
       "      <td>C/ AMILCAR, 1</td>\n",
       "      <td>12.0</td>\n",
       "      <td>2022</td>\n",
       "      <td>12.0</td>\n",
       "      <td>8031</td>\n",
       "      <td>41.430016</td>\n",
       "      <td>2.172019</td>\n",
       "      <td>61</td>\n",
       "    </tr>\n",
       "    <tr>\n",
       "      <th>2223</th>\n",
       "      <td>292</td>\n",
       "      <td>2024-01-01</td>\n",
       "      <td>C/ AMILCAR, 1</td>\n",
       "      <td>C/ AMILCAR, 1</td>\n",
       "      <td>12.0</td>\n",
       "      <td>2023</td>\n",
       "      <td>12.0</td>\n",
       "      <td>8031</td>\n",
       "      <td>41.430016</td>\n",
       "      <td>2.172019</td>\n",
       "      <td>61</td>\n",
       "    </tr>\n",
       "    <tr>\n",
       "      <th>2734</th>\n",
       "      <td>292</td>\n",
       "      <td>2024-04-01</td>\n",
       "      <td>C/ AMILCAR, 1</td>\n",
       "      <td>C/ AMILCAR, 1</td>\n",
       "      <td>12.0</td>\n",
       "      <td>2024</td>\n",
       "      <td>12.0</td>\n",
       "      <td>8031.0</td>\n",
       "      <td>41.430016</td>\n",
       "      <td>2.172019</td>\n",
       "      <td>61.0</td>\n",
       "    </tr>\n",
       "  </tbody>\n",
       "</table>\n",
       "</div>"
      ],
      "text/plain": [
       "      station_id       date           name        address  capacity  year  \\\n",
       "1202         292 2022-01-01  C/ AMILCAR, 1  C/ AMILCAR, 1      12.0  2021   \n",
       "1712         292 2023-01-01  C/ AMILCAR, 1  C/ AMILCAR, 1      12.0  2022   \n",
       "2223         292 2024-01-01  C/ AMILCAR, 1  C/ AMILCAR, 1      12.0  2023   \n",
       "2734         292 2024-04-01  C/ AMILCAR, 1  C/ AMILCAR, 1      12.0  2024   \n",
       "\n",
       "      mean_capacity post_code        lat       lon altitude  \n",
       "1202           12.0      8031  41.430016  2.172019       61  \n",
       "1712           12.0      8031  41.430016  2.172019       61  \n",
       "2223           12.0      8031  41.430016  2.172019       61  \n",
       "2734           12.0    8031.0  41.430016  2.172019     61.0  "
      ]
     },
     "execution_count": 194,
     "metadata": {},
     "output_type": "execute_result"
    }
   ],
   "source": [
    "df_years[df_years['mean_capacity'] == 12]"
   ]
  },
  {
   "cell_type": "code",
   "execution_count": null,
   "metadata": {},
   "outputs": [],
   "source": []
  }
 ],
 "metadata": {
  "kernelspec": {
   "display_name": "Python 3",
   "language": "python",
   "name": "python3"
  },
  "language_info": {
   "codemirror_mode": {
    "name": "ipython",
    "version": 3
   },
   "file_extension": ".py",
   "mimetype": "text/x-python",
   "name": "python",
   "nbconvert_exporter": "python",
   "pygments_lexer": "ipython3",
   "version": "3.9.6"
  }
 },
 "nbformat": 4,
 "nbformat_minor": 2
}
